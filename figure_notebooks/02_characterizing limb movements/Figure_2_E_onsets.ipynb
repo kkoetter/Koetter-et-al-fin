{
 "cells": [
  {
   "cell_type": "code",
   "execution_count": 1,
   "id": "3a31cc7e-d8dd-436c-b2b3-5d7e0adcb9fc",
   "metadata": {},
   "outputs": [],
   "source": [
    "%load_ext autoreload\n",
    "%autoreload 2\n",
    "import warnings\n",
    "warnings.filterwarnings('ignore')"
   ]
  },
  {
   "cell_type": "code",
   "execution_count": 2,
   "id": "21cbfde8-ee44-4b83-aede-60a2c86fd14d",
   "metadata": {},
   "outputs": [],
   "source": [
    "import numpy as np\n",
    "import pandas as pd\n",
    "import matplotlib.pyplot as plt\n",
    "from pathlib import Path\n",
    "import glob\n",
    "\n",
    "import h5py\n",
    "import flammkuchen as fl\n",
    "import seaborn as sns\n",
    "from matplotlib.cm import ScalarMappable\n",
    "import scipy\n",
    "from scipy import stats\n",
    "\n",
    "import numpy as np\n",
    "import matplotlib.pyplot as plt\n",
    "import seaborn as sns\n",
    "from matplotlib.gridspec import GridSpec"
   ]
  },
  {
   "cell_type": "code",
   "execution_count": 3,
   "id": "3609da32-e78b-4d42-a1b7-a104cfd9feab",
   "metadata": {},
   "outputs": [],
   "source": [
    "from megabouts_helper import labels_cat, color, color_bouts, cmp_bouts, color_ipsi_cont\n",
    "from preprocess_helper import invert_tail, reshape_feature_array, invert_peaks_val, invert_fins"
   ]
  },
  {
   "cell_type": "markdown",
   "id": "b2cea2bd-66c3-4973-a17c-133c3a0fa325",
   "metadata": {},
   "source": [
    "## Load data"
   ]
  },
  {
   "cell_type": "code",
   "execution_count": 4,
   "id": "7a4a0e92-9289-472d-b07a-df78dedd8650",
   "metadata": {},
   "outputs": [],
   "source": [
    "save_figure_path = Path(r'\\\\portulab.synology.me\\data\\Kata\\Figures_Paper\\Figure_2\\fig_2')"
   ]
  },
  {
   "cell_type": "code",
   "execution_count": 5,
   "id": "43802856-6b74-4433-902e-c9cf44ad204c",
   "metadata": {},
   "outputs": [
    {
     "data": {
      "text/plain": [
       "(WindowsPath('//portulab.synology.me/data/Kata/Processed_Data/tensor_data'),\n",
       " WindowsPath('//portulab.synology.me/data/Kata/Processed_Data/tensor_data/features_ipsi_contra.csv'))"
      ]
     },
     "execution_count": 5,
     "metadata": {},
     "output_type": "execute_result"
    }
   ],
   "source": [
    "master_path = Path(r'\\\\portulab.synology.me\\data\\Kata\\Processed_Data\\tensor_data')\n",
    "\n",
    "path_tensors = Path(master_path/ 'tensors'/ 'tensor_ipsi_contra_pos.h5')\n",
    "path_features = Path(master_path/ 'features_ipsi_contra.csv')\n",
    "master_path, path_features"
   ]
  },
  {
   "cell_type": "code",
   "execution_count": 6,
   "id": "fe005aa5-40fe-4dbc-a5b6-de485307b72c",
   "metadata": {},
   "outputs": [],
   "source": [
    "t_feature_vector_array = fl.load(master_path/ 'peaks_valleys'/  't_feature_vector_array.h5')\n",
    "l_feature_vector_array = fl.load(master_path/ 'peaks_valleys'/  'l_feature_vector_array.h5')\n",
    "r_feature_vector_array = fl.load(master_path/ 'peaks_valleys'/  'r_feature_vector_array.h5')\n",
    "\n",
    "laterality = fl.load(master_path/ 'features'/'bout_laterality.h5')\n"
   ]
  },
  {
   "cell_type": "code",
   "execution_count": 7,
   "id": "d27f5f3a-84fb-4442-a991-098c7d9b8e52",
   "metadata": {},
   "outputs": [
    {
     "name": "stdout",
     "output_type": "stream",
     "text": [
      "Reshaped array shape: (11063, 4, 9)\n",
      "Reshaped array shape: (11063, 4, 9)\n",
      "Reshaped array shape: (11063, 4, 9)\n"
     ]
    }
   ],
   "source": [
    "max_n=9\n",
    "\n",
    "reshaped_array, peaks_a_array, peaks_i_array, valleys_a_array, valleys_i_array = reshape_feature_array(t_feature_vector_array)\n",
    "l_reshaped_array, l_peaks_a_array, l_peaks_i_array, l_valleys_a_array, l_valleys_i_array = reshape_feature_array(l_feature_vector_array)\n",
    "r_reshaped_array, r_peaks_a_array, r_peaks_i_array, r_valleys_a_array, r_valleys_i_array = reshape_feature_array(r_feature_vector_array)"
   ]
  },
  {
   "cell_type": "code",
   "execution_count": 8,
   "id": "8389cec2-f2cb-46b0-8345-00db605e8817",
   "metadata": {},
   "outputs": [
    {
     "data": {
      "text/plain": [
       "(11063, 3, 50)"
      ]
     },
     "execution_count": 8,
     "metadata": {},
     "output_type": "execute_result"
    }
   ],
   "source": [
    "### tail, fin 1, fin 2, left eye, right eye\n",
    "\n",
    "traces =  fl.load(path_tensors)\n",
    "traces.shape"
   ]
  },
  {
   "cell_type": "code",
   "execution_count": 9,
   "id": "3f6e5c5d-aeec-4be8-9817-8bc2804eab8b",
   "metadata": {},
   "outputs": [],
   "source": [
    "tail = traces[:, 0, :]\n",
    "ipsi_fin = traces[:, 1, :]\n",
    "contra_fin = traces[:, 2, :]"
   ]
  },
  {
   "cell_type": "code",
   "execution_count": 10,
   "id": "2611dd40-1509-4699-8c4a-db7e36ffb339",
   "metadata": {},
   "outputs": [],
   "source": [
    "cutoffs = invert_peaks_val(peaks_i_array, valleys_i_array, laterality)\n",
    "cutoffs = cutoffs.astype(int)"
   ]
  },
  {
   "cell_type": "markdown",
   "id": "4c3bb083-c580-4359-aab8-6d82d5c0fe7e",
   "metadata": {},
   "source": [
    "### read in features"
   ]
  },
  {
   "cell_type": "code",
   "execution_count": 11,
   "id": "7a50ad71-3d3f-4719-b89c-eb7314ac344f",
   "metadata": {},
   "outputs": [
    {
     "data": {
      "text/html": [
       "<div>\n",
       "<style scoped>\n",
       "    .dataframe tbody tr th:only-of-type {\n",
       "        vertical-align: middle;\n",
       "    }\n",
       "\n",
       "    .dataframe tbody tr th {\n",
       "        vertical-align: top;\n",
       "    }\n",
       "\n",
       "    .dataframe thead th {\n",
       "        text-align: right;\n",
       "    }\n",
       "</style>\n",
       "<table border=\"1\" class=\"dataframe\">\n",
       "  <thead>\n",
       "    <tr style=\"text-align: right;\">\n",
       "      <th></th>\n",
       "      <th>Unnamed: 0.1</th>\n",
       "      <th>Unnamed: 0</th>\n",
       "      <th>exp</th>\n",
       "      <th>fish_id</th>\n",
       "      <th>bout_angle</th>\n",
       "      <th>cluster</th>\n",
       "      <th>frame_start</th>\n",
       "      <th>frame_end</th>\n",
       "      <th>bout_id_orig</th>\n",
       "      <th>mb_proba</th>\n",
       "      <th>...</th>\n",
       "      <th>ipsi_peak_vigor</th>\n",
       "      <th>contra_peak_vigor</th>\n",
       "      <th>ipsi_freqs</th>\n",
       "      <th>contra_freqs</th>\n",
       "      <th>ipsi_osc</th>\n",
       "      <th>contra_osc</th>\n",
       "      <th>ipsi_duration</th>\n",
       "      <th>contra_duration</th>\n",
       "      <th>ipsi_max_freqs</th>\n",
       "      <th>contra_max_freqs</th>\n",
       "    </tr>\n",
       "  </thead>\n",
       "  <tbody>\n",
       "    <tr>\n",
       "      <th>0</th>\n",
       "      <td>0</td>\n",
       "      <td>0</td>\n",
       "      <td>13052024_visstim_2D_round</td>\n",
       "      <td>240513_f0</td>\n",
       "      <td>3.000171</td>\n",
       "      <td>0</td>\n",
       "      <td>18375</td>\n",
       "      <td>18410</td>\n",
       "      <td>78</td>\n",
       "      <td>0.806645</td>\n",
       "      <td>...</td>\n",
       "      <td>0.244681</td>\n",
       "      <td>0.164076</td>\n",
       "      <td>0.109756</td>\n",
       "      <td>0.105263</td>\n",
       "      <td>4</td>\n",
       "      <td>3</td>\n",
       "      <td>28.0</td>\n",
       "      <td>27.0</td>\n",
       "      <td>0.166667</td>\n",
       "      <td>0.166667</td>\n",
       "    </tr>\n",
       "    <tr>\n",
       "      <th>1</th>\n",
       "      <td>1</td>\n",
       "      <td>1</td>\n",
       "      <td>13052024_visstim_2D_round</td>\n",
       "      <td>240513_f0</td>\n",
       "      <td>1.649302</td>\n",
       "      <td>0</td>\n",
       "      <td>19461</td>\n",
       "      <td>19484</td>\n",
       "      <td>80</td>\n",
       "      <td>1.000000</td>\n",
       "      <td>...</td>\n",
       "      <td>0.163745</td>\n",
       "      <td>0.128555</td>\n",
       "      <td>0.119048</td>\n",
       "      <td>0.117647</td>\n",
       "      <td>2</td>\n",
       "      <td>2</td>\n",
       "      <td>19.0</td>\n",
       "      <td>15.0</td>\n",
       "      <td>0.250000</td>\n",
       "      <td>0.166667</td>\n",
       "    </tr>\n",
       "    <tr>\n",
       "      <th>2</th>\n",
       "      <td>2</td>\n",
       "      <td>2</td>\n",
       "      <td>13052024_visstim_2D_round</td>\n",
       "      <td>240513_f0</td>\n",
       "      <td>-0.861132</td>\n",
       "      <td>0</td>\n",
       "      <td>19661</td>\n",
       "      <td>19689</td>\n",
       "      <td>81</td>\n",
       "      <td>1.000000</td>\n",
       "      <td>...</td>\n",
       "      <td>0.219439</td>\n",
       "      <td>0.184779</td>\n",
       "      <td>0.104167</td>\n",
       "      <td>0.115385</td>\n",
       "      <td>3</td>\n",
       "      <td>2</td>\n",
       "      <td>27.0</td>\n",
       "      <td>16.0</td>\n",
       "      <td>0.125000</td>\n",
       "      <td>0.166667</td>\n",
       "    </tr>\n",
       "    <tr>\n",
       "      <th>3</th>\n",
       "      <td>3</td>\n",
       "      <td>3</td>\n",
       "      <td>13052024_visstim_2D_round</td>\n",
       "      <td>240513_f0</td>\n",
       "      <td>0.870591</td>\n",
       "      <td>0</td>\n",
       "      <td>20257</td>\n",
       "      <td>20292</td>\n",
       "      <td>84</td>\n",
       "      <td>1.000000</td>\n",
       "      <td>...</td>\n",
       "      <td>0.209418</td>\n",
       "      <td>0.198009</td>\n",
       "      <td>0.117647</td>\n",
       "      <td>0.117647</td>\n",
       "      <td>4</td>\n",
       "      <td>2</td>\n",
       "      <td>35.0</td>\n",
       "      <td>16.0</td>\n",
       "      <td>0.125000</td>\n",
       "      <td>0.166667</td>\n",
       "    </tr>\n",
       "    <tr>\n",
       "      <th>4</th>\n",
       "      <td>4</td>\n",
       "      <td>4</td>\n",
       "      <td>13052024_visstim_2D_round</td>\n",
       "      <td>240513_f0</td>\n",
       "      <td>2.231631</td>\n",
       "      <td>0</td>\n",
       "      <td>20824</td>\n",
       "      <td>20859</td>\n",
       "      <td>86</td>\n",
       "      <td>1.000000</td>\n",
       "      <td>...</td>\n",
       "      <td>0.220615</td>\n",
       "      <td>0.185247</td>\n",
       "      <td>0.103448</td>\n",
       "      <td>0.116667</td>\n",
       "      <td>3</td>\n",
       "      <td>3</td>\n",
       "      <td>22.0</td>\n",
       "      <td>23.0</td>\n",
       "      <td>0.125000</td>\n",
       "      <td>0.125000</td>\n",
       "    </tr>\n",
       "  </tbody>\n",
       "</table>\n",
       "<p>5 rows × 66 columns</p>\n",
       "</div>"
      ],
      "text/plain": [
       "   Unnamed: 0.1  Unnamed: 0                        exp    fish_id  bout_angle  \\\n",
       "0             0           0  13052024_visstim_2D_round  240513_f0    3.000171   \n",
       "1             1           1  13052024_visstim_2D_round  240513_f0    1.649302   \n",
       "2             2           2  13052024_visstim_2D_round  240513_f0   -0.861132   \n",
       "3             3           3  13052024_visstim_2D_round  240513_f0    0.870591   \n",
       "4             4           4  13052024_visstim_2D_round  240513_f0    2.231631   \n",
       "\n",
       "   cluster  frame_start  frame_end  bout_id_orig  mb_proba  ...  \\\n",
       "0        0        18375      18410            78  0.806645  ...   \n",
       "1        0        19461      19484            80  1.000000  ...   \n",
       "2        0        19661      19689            81  1.000000  ...   \n",
       "3        0        20257      20292            84  1.000000  ...   \n",
       "4        0        20824      20859            86  1.000000  ...   \n",
       "\n",
       "   ipsi_peak_vigor  contra_peak_vigor  ipsi_freqs  contra_freqs  ipsi_osc  \\\n",
       "0         0.244681           0.164076    0.109756      0.105263         4   \n",
       "1         0.163745           0.128555    0.119048      0.117647         2   \n",
       "2         0.219439           0.184779    0.104167      0.115385         3   \n",
       "3         0.209418           0.198009    0.117647      0.117647         4   \n",
       "4         0.220615           0.185247    0.103448      0.116667         3   \n",
       "\n",
       "   contra_osc  ipsi_duration  contra_duration  ipsi_max_freqs  \\\n",
       "0           3           28.0             27.0        0.166667   \n",
       "1           2           19.0             15.0        0.250000   \n",
       "2           2           27.0             16.0        0.125000   \n",
       "3           2           35.0             16.0        0.125000   \n",
       "4           3           22.0             23.0        0.125000   \n",
       "\n",
       "   contra_max_freqs  \n",
       "0          0.166667  \n",
       "1          0.166667  \n",
       "2          0.166667  \n",
       "3          0.166667  \n",
       "4          0.125000  \n",
       "\n",
       "[5 rows x 66 columns]"
      ]
     },
     "execution_count": 11,
     "metadata": {},
     "output_type": "execute_result"
    }
   ],
   "source": [
    "features = pd.read_csv(path_features)\n",
    "features.head()"
   ]
  },
  {
   "cell_type": "code",
   "execution_count": 12,
   "id": "cff4d8a9-3811-4aef-a886-51e3eafdb6ff",
   "metadata": {},
   "outputs": [],
   "source": [
    "clusters = features.cluster"
   ]
  },
  {
   "cell_type": "code",
   "execution_count": 13,
   "id": "a1e92ad0-56bc-4daa-96ec-8041abfa8f52",
   "metadata": {},
   "outputs": [],
   "source": [
    "ipsi_fin_values = features.ipsi_fin.values"
   ]
  },
  {
   "cell_type": "code",
   "execution_count": 14,
   "id": "ac9e270b-78e3-4379-a270-2d6b3a2d949e",
   "metadata": {},
   "outputs": [
    {
     "data": {
      "text/plain": [
       "5.0"
      ]
     },
     "execution_count": 14,
     "metadata": {},
     "output_type": "execute_result"
    }
   ],
   "source": [
    "# Define parameters\n",
    "framerate = 200  # frames per second\n",
    "num_frames = 50  # number of frames\n",
    "\n",
    "# Calculate milliseconds per frame\n",
    "ms_per_frame = 1000 / framerate  # 1 second = 1000 milliseconds\n",
    "ms_per_frame"
   ]
  },
  {
   "cell_type": "code",
   "execution_count": 15,
   "id": "afbd5347-bb7f-4a8f-8112-e94e0ec6cf1e",
   "metadata": {},
   "outputs": [],
   "source": [
    "ipsi_tail_t_diff = (features.ipsi_t_0 - features.tail_t_0)*ms_per_frame\n",
    "contra_tail_t_diff = (features.contra_t_0 -  features.tail_t_0)*ms_per_frame\n",
    "ipsi_contra_t_diff = (features.ipsi_t_0 - features.contra_t_0)*ms_per_frame"
   ]
  },
  {
   "cell_type": "markdown",
   "id": "1abe9daf-dd09-43a3-a04f-bef2a2312088",
   "metadata": {},
   "source": [
    "## Plot movement starts for some examples"
   ]
  },
  {
   "cell_type": "code",
   "execution_count": 16,
   "id": "7976a715-c7fc-4cac-82d7-6c656b917d03",
   "metadata": {},
   "outputs": [],
   "source": [
    "# Assuming tail, ipsi_fin, contra_fin, ipsi_tail_t_diff, contra_tail_t_diff, ipsi_contra_t_diff, and color_ipsi_cont are defined\n",
    "n_samples = tail.shape[0]  # Example: 1000\n",
    "cut = 10  # Example cutoff\n",
    "alph=0.1\n",
    "alph = 0.15\n",
    "cycles=3\n",
    "width = 0.35  # Width of the ba\n",
    "lw=0.5\n",
    "cm = 1/2.54  # centimeters in inches\n",
    "f_size = 6\n",
    "tick_label_size = f_size\n",
    "dpi=600"
   ]
  },
  {
   "cell_type": "code",
   "execution_count": 24,
   "id": "e6dc4e0c-43b1-4f1d-843e-552c69a990c8",
   "metadata": {},
   "outputs": [
    {
     "data": {
      "image/png": "[encoded data removed]",
      "text/plain": [
       "<Figure size 196.85x334.646 with 2 Axes>"
      ]
     },
     "metadata": {},
     "output_type": "display_data"
    }
   ],
   "source": [
    "\n",
    "# Create a figure with a specific size\n",
    "fig = plt.figure(figsize=(5*cm, 8.5*cm))\n",
    "# Define the GridSpec layout, allocating a larger space to the top plot (3:1 ratio)\n",
    "gs = GridSpec(4, 1, figure=fig)\n",
    "ax1 = fig.add_subplot(gs[:2, 0])\n",
    "\n",
    "ipsi_select = ipsi_fin[:n_samples, :cut]\n",
    "mean_line = np.mean(ipsi_select, axis=0)\n",
    "stderr = np.std(ipsi_select, axis=0) / np.sqrt(ipsi_select.shape[0])\n",
    "ax1.plot(mean_line, c=color_ipsi_cont[0], label='Ipsilateral Fin', lw=lw)\n",
    "ax1.fill_between(np.arange(0, cut, 1), \n",
    "                 mean_line - stderr, \n",
    "                 mean_line + stderr, \n",
    "                 color=color_ipsi_cont[0], \n",
    "                 alpha=0.2)\n",
    "\n",
    "contra_select = contra_fin[:n_samples, :cut]\n",
    "mean_line = np.mean(contra_select, axis=0)\n",
    "stderr = np.std(contra_select, axis=0) / np.sqrt(contra_select.shape[0])\n",
    "ax1.plot(mean_line, c=color_ipsi_cont[1], label='Contralateral Fin', lw=lw)\n",
    "ax1.fill_between(np.arange(0, cut, 1), \n",
    "                 mean_line - stderr, \n",
    "                 mean_line + stderr, \n",
    "                 color=color_ipsi_cont[1], \n",
    "                 alpha=0.2)\n",
    "\n",
    "# Top plot (bigger ratio)\n",
    "tail_select = tail[:n_samples, :cut]\n",
    "mean_line = np.mean(tail_select, axis=0)\n",
    "stderr = np.std(tail_select, axis=0) / np.sqrt(tail_select.shape[0])\n",
    "ax1.plot(mean_line, c='gray', label='Tail', lw=lw)\n",
    "ax1.fill_between(np.arange(0, cut, 1), \n",
    "                 mean_line - stderr, \n",
    "                 mean_line + stderr, \n",
    "                 color='gray', \n",
    "                 alpha=0.2)\n",
    "\n",
    "ax1.set_xticks(np.arange(0, cut, 2))\n",
    "ax1.set_xticklabels(np.arange(0, cut, 2) * 5, fontsize=f_size)\n",
    "ax1.set_xlabel('Time [ms]', fontsize=f_size)\n",
    "ax1.set_ylabel('Angle [rad]', fontsize=f_size)\n",
    "\n",
    "# ax1.legend(bbox_to_anchor=(0.5, 1.05), loc='lower center', shadow=False, ncol=2, fontsize=f_size, columnspacing=0.5)\n",
    "\n",
    "# Bottom plot (smaller ratio)\n",
    "ax2 = fig.add_subplot(gs[2:, 0])\n",
    "bins = np.arange(-60, 60, 5)\n",
    "sns.histplot(ipsi_tail_t_diff, color=color_ipsi_cont[0], edgecolor='w', alpha=alph, bins=bins, ax=ax2, stat='density')\n",
    "sns.kdeplot(ipsi_tail_t_diff, color=color_ipsi_cont[0], linewidth=lw, ax=ax2,label='Ipsi Fin-Tail')\n",
    "sns.histplot(contra_tail_t_diff, color=color_ipsi_cont[1], edgecolor='w', alpha=alph, bins=bins, ax=ax2, stat='density')\n",
    "sns.kdeplot(contra_tail_t_diff, color=color_ipsi_cont[1], linewidth=lw, ax=ax2,label='Contra Fin-Tail')\n",
    "sns.histplot(ipsi_contra_t_diff, color='slateblue', bins=bins, edgecolor='w', alpha=alph, ax=ax2,stat='density')\n",
    "sns.kdeplot(ipsi_contra_t_diff, color='slateblue', linewidth=lw, ax=ax2, label='Fin-Fin')\n",
    "\n",
    "ax2.axvline(0, c='k', ls=':', lw=lw)\n",
    "ax2.set_xlabel('Peak Time Difference [ms]', fontsize=f_size)\n",
    "ax2.set_ylabel('Density', fontsize=f_size)\n",
    "ax2.set_xlim(-50, 40)\n",
    "# ax2.set_yticks([0, 0.075])\n",
    "# ax2.set_yticklabels([0, 0.075], fontsize=f_size)\n",
    "ax2.legend(bbox_to_anchor=(0.5, -0.5), loc='upper center', shadow=False, ncol=1, fontsize=f_size, columnspacing=0.5)\n",
    "\n",
    "ax1.tick_params(axis='both', which='major', labelsize=tick_label_size)\n",
    "ax2.tick_params(axis='both', which='major', labelsize=tick_label_size)\n",
    "\n",
    "for ax in [ax1,ax2]:\n",
    "    ax.spines['bottom'].set_color('black')\n",
    "    ax.spines['top'].set_color('black') \n",
    "    ax.spines['right'].set_color('black')\n",
    "    ax.spines['left'].set_color('black')\n",
    "\n",
    "    ax.xaxis.label.set_color('black')\n",
    "    ax.yaxis.label.set_color('black')\n",
    "    ax.title.set_color('black')\n",
    "\n",
    "    ax.tick_params(axis='x', colors='black')\n",
    "    ax.tick_params(axis='y', colors='black')\n",
    "\n",
    "sns.despine(ax=ax1, top=True, right=True, left=False, bottom=False)\n",
    "sns.despine(ax=ax2, top=True, right=True, left=False, bottom=False)\n",
    "plt.tight_layout()\n",
    "# Save the figure\n",
    "plt.savefig(save_figure_path/'traces_starting_peak_times_hist_diff_combined.pdf', dpi=dpi)\n",
    "plt.savefig(save_figure_path/'traces_starting_peak_times_hist_diff_combined.png', dpi=dpi)\n"
   ]
  },
  {
   "cell_type": "code",
   "execution_count": null,
   "id": "4bcb7650-a1af-4d89-81f9-ceabd3f9028f",
   "metadata": {},
   "outputs": [],
   "source": []
  },
  {
   "cell_type": "code",
   "execution_count": null,
   "id": "2e035da1-7360-407f-914a-92767d273ea0",
   "metadata": {},
   "outputs": [],
   "source": []
  }
 ],
 "metadata": {
  "kernelspec": {
   "display_name": "Python 3 (ipykernel)",
   "language": "python",
   "name": "python3"
  },
  "language_info": {
   "codemirror_mode": {
    "name": "ipython",
    "version": 3
   },
   "file_extension": ".py",
   "mimetype": "text/x-python",
   "name": "python",
   "nbconvert_exporter": "python",
   "pygments_lexer": "ipython3",
   "version": "3.11.5"
  }
 },
 "nbformat": 4,
 "nbformat_minor": 5
}
