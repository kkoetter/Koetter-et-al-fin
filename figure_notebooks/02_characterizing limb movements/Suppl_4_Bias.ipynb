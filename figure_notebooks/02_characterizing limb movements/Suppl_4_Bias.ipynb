{
 "cells": [
  {
   "cell_type": "code",
   "execution_count": 1,
   "id": "3a31cc7e-d8dd-436c-b2b3-5d7e0adcb9fc",
   "metadata": {},
   "outputs": [],
   "source": [
    "%load_ext autoreload\n",
    "%autoreload 2\n",
    "import warnings\n",
    "warnings.filterwarnings('ignore')"
   ]
  },
  {
   "cell_type": "code",
   "execution_count": 2,
   "id": "21cbfde8-ee44-4b83-aede-60a2c86fd14d",
   "metadata": {},
   "outputs": [],
   "source": [
    "import numpy as np\n",
    "import pandas as pd\n",
    "import matplotlib.pyplot as plt\n",
    "from pathlib import Path\n",
    "import glob\n",
    "\n",
    "import h5py\n",
    "import flammkuchen as fl\n",
    "import seaborn as sns\n",
    "from matplotlib.cm import ScalarMappable\n",
    "import scipy\n",
    "from scipy import stats"
   ]
  },
  {
   "cell_type": "code",
   "execution_count": 3,
   "id": "505f1b42-89d0-4aa1-9716-3274438e51ae",
   "metadata": {},
   "outputs": [],
   "source": [
    "import pandas as pd\n",
    "import statsmodels.api as sm\n",
    "from statsmodels.formula.api import ols\n",
    "from scipy import stats"
   ]
  },
  {
   "cell_type": "code",
   "execution_count": 4,
   "id": "6cf4b837-94ed-4076-bfc2-865e777430e3",
   "metadata": {},
   "outputs": [],
   "source": [
    "from megabouts_helper import labels_cat, color, color_bouts, cmp_bouts, color_ipsi_cont\n",
    "from preprocess_helper import simplify_fish_id"
   ]
  },
  {
   "cell_type": "code",
   "execution_count": 5,
   "id": "7a4a0e92-9289-472d-b07a-df78dedd8650",
   "metadata": {},
   "outputs": [],
   "source": [
    "save_figure_path = Path(r'\\\\portulab.synology.me\\data\\Kata\\Figures_Paper\\Figure_2\\supp\\suppl_5')"
   ]
  },
  {
   "cell_type": "code",
   "execution_count": 6,
   "id": "43802856-6b74-4433-902e-c9cf44ad204c",
   "metadata": {},
   "outputs": [
    {
     "data": {
      "text/plain": [
       "(WindowsPath('//portulab.synology.me/data/Kata/Processed_Data/tensor_data'),\n",
       " WindowsPath('//portulab.synology.me/data/Kata/Processed_Data/tensor_data/features_bouts_new.csv'))"
      ]
     },
     "execution_count": 6,
     "metadata": {},
     "output_type": "execute_result"
    }
   ],
   "source": [
    "master_path = Path(r'\\\\portulab.synology.me\\data\\Kata\\Processed_Data\\tensor_data')\n",
    "path_tensors = Path(r'\\\\portulab.synology.me\\data\\Kata\\Processed_Data\\tensor_data\\tensors\\tensor.h5')\n",
    "path_features = Path(r'\\\\portulab.synology.me\\data\\Kata\\Processed_Data\\tensor_data\\features_bouts_new.csv')\n",
    "master_path, path_features"
   ]
  },
  {
   "cell_type": "code",
   "execution_count": 7,
   "id": "8389cec2-f2cb-46b0-8345-00db605e8817",
   "metadata": {},
   "outputs": [
    {
     "data": {
      "text/plain": [
       "(11063, 3, 50)"
      ]
     },
     "execution_count": 7,
     "metadata": {},
     "output_type": "execute_result"
    }
   ],
   "source": [
    "### tail, fin 1, fin 2, left eye, right eye\n",
    "\n",
    "traces =  fl.load(path_tensors)\n",
    "traces.shape"
   ]
  },
  {
   "cell_type": "code",
   "execution_count": 8,
   "id": "3f6e5c5d-aeec-4be8-9817-8bc2804eab8b",
   "metadata": {},
   "outputs": [],
   "source": [
    "tail = traces[:, 0, :]\n",
    "\n",
    "fin_1 = traces[:, 1, :] #*-1\n",
    "fin_2 = traces[:, 2, :]\n"
   ]
  },
  {
   "cell_type": "code",
   "execution_count": 9,
   "id": "62cb489d-9298-404b-b47a-b61185144129",
   "metadata": {},
   "outputs": [],
   "source": [
    "## lets remove baseline from left and right fin\n",
    "for trial in range(fin_1.shape[0]):\n",
    "    fin_1[trial,:] = fin_1[trial, :] - fin_1[trial,0]\n",
    "    fin_2[trial,:] = fin_2[trial, :] - fin_2[trial,0]"
   ]
  },
  {
   "cell_type": "markdown",
   "id": "4c3bb083-c580-4359-aab8-6d82d5c0fe7e",
   "metadata": {},
   "source": [
    "### read in features"
   ]
  },
  {
   "cell_type": "code",
   "execution_count": 10,
   "id": "7a50ad71-3d3f-4719-b89c-eb7314ac344f",
   "metadata": {},
   "outputs": [
    {
     "data": {
      "text/html": [
       "<div>\n",
       "<style scoped>\n",
       "    .dataframe tbody tr th:only-of-type {\n",
       "        vertical-align: middle;\n",
       "    }\n",
       "\n",
       "    .dataframe tbody tr th {\n",
       "        vertical-align: top;\n",
       "    }\n",
       "\n",
       "    .dataframe thead th {\n",
       "        text-align: right;\n",
       "    }\n",
       "</style>\n",
       "<table border=\"1\" class=\"dataframe\">\n",
       "  <thead>\n",
       "    <tr style=\"text-align: right;\">\n",
       "      <th></th>\n",
       "      <th>Unnamed: 0</th>\n",
       "      <th>exp</th>\n",
       "      <th>fish_id</th>\n",
       "      <th>bout_angle</th>\n",
       "      <th>cluster</th>\n",
       "      <th>frame_start</th>\n",
       "      <th>frame_end</th>\n",
       "      <th>bout_id_orig</th>\n",
       "      <th>mb_proba</th>\n",
       "      <th>max_eye_rot</th>\n",
       "      <th>...</th>\n",
       "      <th>tail_freq</th>\n",
       "      <th>l_fin_freqs</th>\n",
       "      <th>r_fin_freqs</th>\n",
       "      <th>tail_max_freq</th>\n",
       "      <th>l_fin_max_freqs</th>\n",
       "      <th>r_fin_max_freqs</th>\n",
       "      <th>l_start</th>\n",
       "      <th>l_end</th>\n",
       "      <th>r_start</th>\n",
       "      <th>r_end</th>\n",
       "    </tr>\n",
       "  </thead>\n",
       "  <tbody>\n",
       "    <tr>\n",
       "      <th>0</th>\n",
       "      <td>0</td>\n",
       "      <td>13052024_visstim_2D_round</td>\n",
       "      <td>240513_f0</td>\n",
       "      <td>3.000171</td>\n",
       "      <td>0</td>\n",
       "      <td>18375</td>\n",
       "      <td>18410</td>\n",
       "      <td>78</td>\n",
       "      <td>0.806645</td>\n",
       "      <td>-0.239648</td>\n",
       "      <td>...</td>\n",
       "      <td>0.121622</td>\n",
       "      <td>0.105263</td>\n",
       "      <td>0.109756</td>\n",
       "      <td>0.166667</td>\n",
       "      <td>0.166667</td>\n",
       "      <td>0.166667</td>\n",
       "      <td>0.0</td>\n",
       "      <td>27.0</td>\n",
       "      <td>0.0</td>\n",
       "      <td>28.0</td>\n",
       "    </tr>\n",
       "    <tr>\n",
       "      <th>1</th>\n",
       "      <td>1</td>\n",
       "      <td>13052024_visstim_2D_round</td>\n",
       "      <td>240513_f0</td>\n",
       "      <td>1.649302</td>\n",
       "      <td>0</td>\n",
       "      <td>19461</td>\n",
       "      <td>19484</td>\n",
       "      <td>80</td>\n",
       "      <td>1.000000</td>\n",
       "      <td>0.479035</td>\n",
       "      <td>...</td>\n",
       "      <td>0.058140</td>\n",
       "      <td>0.117647</td>\n",
       "      <td>0.119048</td>\n",
       "      <td>0.166667</td>\n",
       "      <td>0.166667</td>\n",
       "      <td>0.250000</td>\n",
       "      <td>0.0</td>\n",
       "      <td>15.0</td>\n",
       "      <td>7.0</td>\n",
       "      <td>26.0</td>\n",
       "    </tr>\n",
       "    <tr>\n",
       "      <th>2</th>\n",
       "      <td>2</td>\n",
       "      <td>13052024_visstim_2D_round</td>\n",
       "      <td>240513_f0</td>\n",
       "      <td>-0.861132</td>\n",
       "      <td>0</td>\n",
       "      <td>19661</td>\n",
       "      <td>19689</td>\n",
       "      <td>81</td>\n",
       "      <td>1.000000</td>\n",
       "      <td>-1.120168</td>\n",
       "      <td>...</td>\n",
       "      <td>0.097561</td>\n",
       "      <td>0.115385</td>\n",
       "      <td>0.104167</td>\n",
       "      <td>0.166667</td>\n",
       "      <td>0.166667</td>\n",
       "      <td>0.125000</td>\n",
       "      <td>4.0</td>\n",
       "      <td>20.0</td>\n",
       "      <td>0.0</td>\n",
       "      <td>27.0</td>\n",
       "    </tr>\n",
       "    <tr>\n",
       "      <th>3</th>\n",
       "      <td>3</td>\n",
       "      <td>13052024_visstim_2D_round</td>\n",
       "      <td>240513_f0</td>\n",
       "      <td>0.870591</td>\n",
       "      <td>0</td>\n",
       "      <td>20257</td>\n",
       "      <td>20292</td>\n",
       "      <td>84</td>\n",
       "      <td>1.000000</td>\n",
       "      <td>-2.662451</td>\n",
       "      <td>...</td>\n",
       "      <td>0.114286</td>\n",
       "      <td>0.117647</td>\n",
       "      <td>0.117647</td>\n",
       "      <td>0.166667</td>\n",
       "      <td>0.166667</td>\n",
       "      <td>0.125000</td>\n",
       "      <td>19.0</td>\n",
       "      <td>35.0</td>\n",
       "      <td>0.0</td>\n",
       "      <td>35.0</td>\n",
       "    </tr>\n",
       "    <tr>\n",
       "      <th>4</th>\n",
       "      <td>4</td>\n",
       "      <td>13052024_visstim_2D_round</td>\n",
       "      <td>240513_f0</td>\n",
       "      <td>2.231631</td>\n",
       "      <td>0</td>\n",
       "      <td>20824</td>\n",
       "      <td>20859</td>\n",
       "      <td>86</td>\n",
       "      <td>1.000000</td>\n",
       "      <td>-1.192489</td>\n",
       "      <td>...</td>\n",
       "      <td>0.108108</td>\n",
       "      <td>0.116667</td>\n",
       "      <td>0.103448</td>\n",
       "      <td>0.166667</td>\n",
       "      <td>0.125000</td>\n",
       "      <td>0.125000</td>\n",
       "      <td>0.0</td>\n",
       "      <td>23.0</td>\n",
       "      <td>6.0</td>\n",
       "      <td>28.0</td>\n",
       "    </tr>\n",
       "  </tbody>\n",
       "</table>\n",
       "<p>5 rows × 55 columns</p>\n",
       "</div>"
      ],
      "text/plain": [
       "   Unnamed: 0                        exp    fish_id  bout_angle  cluster  \\\n",
       "0           0  13052024_visstim_2D_round  240513_f0    3.000171        0   \n",
       "1           1  13052024_visstim_2D_round  240513_f0    1.649302        0   \n",
       "2           2  13052024_visstim_2D_round  240513_f0   -0.861132        0   \n",
       "3           3  13052024_visstim_2D_round  240513_f0    0.870591        0   \n",
       "4           4  13052024_visstim_2D_round  240513_f0    2.231631        0   \n",
       "\n",
       "   frame_start  frame_end  bout_id_orig  mb_proba  max_eye_rot  ...  \\\n",
       "0        18375      18410            78  0.806645    -0.239648  ...   \n",
       "1        19461      19484            80  1.000000     0.479035  ...   \n",
       "2        19661      19689            81  1.000000    -1.120168  ...   \n",
       "3        20257      20292            84  1.000000    -2.662451  ...   \n",
       "4        20824      20859            86  1.000000    -1.192489  ...   \n",
       "\n",
       "   tail_freq  l_fin_freqs  r_fin_freqs  tail_max_freq  l_fin_max_freqs  \\\n",
       "0   0.121622     0.105263     0.109756       0.166667         0.166667   \n",
       "1   0.058140     0.117647     0.119048       0.166667         0.166667   \n",
       "2   0.097561     0.115385     0.104167       0.166667         0.166667   \n",
       "3   0.114286     0.117647     0.117647       0.166667         0.166667   \n",
       "4   0.108108     0.116667     0.103448       0.166667         0.125000   \n",
       "\n",
       "   r_fin_max_freqs  l_start  l_end  r_start  r_end  \n",
       "0         0.166667      0.0   27.0      0.0   28.0  \n",
       "1         0.250000      0.0   15.0      7.0   26.0  \n",
       "2         0.125000      4.0   20.0      0.0   27.0  \n",
       "3         0.125000     19.0   35.0      0.0   35.0  \n",
       "4         0.125000      0.0   23.0      6.0   28.0  \n",
       "\n",
       "[5 rows x 55 columns]"
      ]
     },
     "execution_count": 10,
     "metadata": {},
     "output_type": "execute_result"
    }
   ],
   "source": [
    "features = pd.read_csv(path_features)\n",
    "features.head()"
   ]
  },
  {
   "cell_type": "code",
   "execution_count": 11,
   "id": "62f5b526-849d-45a1-b258-bdf92390929f",
   "metadata": {},
   "outputs": [],
   "source": [
    "# Apply the function to the 'fish_ids' column\n",
    "features['fish_id'] = features['fish_id'].apply(simplify_fish_id)"
   ]
  },
  {
   "cell_type": "code",
   "execution_count": 12,
   "id": "78642789-5766-4f02-a269-f69b410cb5f3",
   "metadata": {},
   "outputs": [
    {
     "data": {
      "text/plain": [
       "64"
      ]
     },
     "execution_count": 12,
     "metadata": {},
     "output_type": "execute_result"
    }
   ],
   "source": [
    "fish_ids = np.unique(features['fish_id'])\n",
    "len(fish_ids)"
   ]
  },
  {
   "cell_type": "code",
   "execution_count": 13,
   "id": "cff4d8a9-3811-4aef-a886-51e3eafdb6ff",
   "metadata": {},
   "outputs": [],
   "source": [
    "clusters = features.cluster.astype(int)"
   ]
  },
  {
   "cell_type": "code",
   "execution_count": 14,
   "id": "fd8ddd96-8fd1-4b99-ba20-7a4bd25d930e",
   "metadata": {},
   "outputs": [],
   "source": [
    "alph=0.5\n",
    "size=1\n",
    "cm_ = 1/2.54  # centimeters in inches\n",
    "f_size =6\n",
    "contrast = 2.2 # Contrast control ( 0 to 127)\n",
    "brightness = 0.01 # Brightness control (0-100)\n",
    "lw=0.5\n",
    "dpi= 600"
   ]
  },
  {
   "cell_type": "markdown",
   "id": "f255306c-e28b-4b27-bb39-1bafe1bf6364",
   "metadata": {},
   "source": [
    "### Looking at forward fins only \n",
    "\n",
    "    Do fish have a prefered fin?\n",
    "\n",
    "    In order to determine if there's an effect of fish_id on lf (when lf is either 0 or 1), you would typically perform a statistical analysis.\n",
    "\n",
    "    One common approach would be to use an ANOVA (Analysis of Variance) if lf is a continuous variable or a chi-square test if lf is a categorical variable.\n",
    "    This could help you determine if there are significant differences in the lf values across the different fish_ids."
   ]
  },
  {
   "cell_type": "markdown",
   "id": "24c61e41-1b31-4e84-a2dc-0ec4df43dd1a",
   "metadata": {},
   "source": [
    "### over all forward bouts"
   ]
  },
  {
   "cell_type": "code",
   "execution_count": 15,
   "id": "546dc2ea-f464-41ed-93dd-10f540ddcb8f",
   "metadata": {},
   "outputs": [
    {
     "data": {
      "text/plain": [
       "(5124,)"
      ]
     },
     "execution_count": 15,
     "metadata": {},
     "output_type": "execute_result"
    }
   ],
   "source": [
    "# Assuming 'features' is your DataFrame and 'clust' is a list of cluster values you want to include\n",
    "clust_values = [0, 1, 2, 3]  # Replace with your actual cluster values\n",
    "fish_ids = features[features['cluster'].isin(clust_values)]['fish_id'].values\n",
    "lf = features[features['cluster'].isin(clust_values)]['leading_fin'].values\n",
    "bout_angle = features[features['cluster'].isin(clust_values)]['bout_angle'].values\n",
    "clust = features[features['cluster'].isin(clust_values)]['cluster'].values\n",
    "bout_angle.shape"
   ]
  },
  {
   "cell_type": "code",
   "execution_count": 16,
   "id": "1191f06c-61c6-4628-ac6c-c2fb2ca70ab4",
   "metadata": {},
   "outputs": [
    {
     "name": "stdout",
     "output_type": "stream",
     "text": [
      "(4904, 4) [0 1 2 3]\n"
     ]
    },
    {
     "data": {
      "text/html": [
       "<div>\n",
       "<style scoped>\n",
       "    .dataframe tbody tr th:only-of-type {\n",
       "        vertical-align: middle;\n",
       "    }\n",
       "\n",
       "    .dataframe tbody tr th {\n",
       "        vertical-align: top;\n",
       "    }\n",
       "\n",
       "    .dataframe thead th {\n",
       "        text-align: right;\n",
       "    }\n",
       "</style>\n",
       "<table border=\"1\" class=\"dataframe\">\n",
       "  <thead>\n",
       "    <tr style=\"text-align: right;\">\n",
       "      <th></th>\n",
       "      <th>fish_id</th>\n",
       "      <th>lf</th>\n",
       "      <th>bout_angle</th>\n",
       "      <th>cluster</th>\n",
       "    </tr>\n",
       "  </thead>\n",
       "  <tbody>\n",
       "    <tr>\n",
       "      <th>0</th>\n",
       "      <td>240513_f0</td>\n",
       "      <td>1</td>\n",
       "      <td>3.000171</td>\n",
       "      <td>0</td>\n",
       "    </tr>\n",
       "    <tr>\n",
       "      <th>1</th>\n",
       "      <td>240513_f0</td>\n",
       "      <td>0</td>\n",
       "      <td>1.649302</td>\n",
       "      <td>0</td>\n",
       "    </tr>\n",
       "    <tr>\n",
       "      <th>2</th>\n",
       "      <td>240513_f0</td>\n",
       "      <td>1</td>\n",
       "      <td>-0.861132</td>\n",
       "      <td>0</td>\n",
       "    </tr>\n",
       "    <tr>\n",
       "      <th>3</th>\n",
       "      <td>240513_f0</td>\n",
       "      <td>1</td>\n",
       "      <td>0.870591</td>\n",
       "      <td>0</td>\n",
       "    </tr>\n",
       "    <tr>\n",
       "      <th>4</th>\n",
       "      <td>240513_f0</td>\n",
       "      <td>0</td>\n",
       "      <td>2.231631</td>\n",
       "      <td>0</td>\n",
       "    </tr>\n",
       "  </tbody>\n",
       "</table>\n",
       "</div>"
      ],
      "text/plain": [
       "     fish_id  lf  bout_angle  cluster\n",
       "0  240513_f0   1    3.000171        0\n",
       "1  240513_f0   0    1.649302        0\n",
       "2  240513_f0   1   -0.861132        0\n",
       "3  240513_f0   1    0.870591        0\n",
       "4  240513_f0   0    2.231631        0"
      ]
     },
     "execution_count": 16,
     "metadata": {},
     "output_type": "execute_result"
    }
   ],
   "source": [
    "# Create a dataframe from your data:\n",
    "data = pd.DataFrame({'fish_id': fish_ids, 'lf': lf, 'bout_angle':bout_angle, 'cluster': clust})\n",
    "# Select only the rows where lf is 0 or 1:\n",
    "data = data[data['lf'].isin([0, 1])]\n",
    "print (data.shape, np.unique(data.cluster))\n",
    "data.head()"
   ]
  },
  {
   "cell_type": "markdown",
   "id": "f3cb4c70-e2a3-464d-80a5-0485fcddd855",
   "metadata": {},
   "source": [
    "### handedness index"
   ]
  },
  {
   "cell_type": "code",
   "execution_count": 17,
   "id": "3eaf73a9-111c-4d88-9349-4c8a5861bbcb",
   "metadata": {},
   "outputs": [
    {
     "data": {
      "text/html": [
       "<div>\n",
       "<style scoped>\n",
       "    .dataframe tbody tr th:only-of-type {\n",
       "        vertical-align: middle;\n",
       "    }\n",
       "\n",
       "    .dataframe tbody tr th {\n",
       "        vertical-align: top;\n",
       "    }\n",
       "\n",
       "    .dataframe thead th {\n",
       "        text-align: right;\n",
       "    }\n",
       "</style>\n",
       "<table border=\"1\" class=\"dataframe\">\n",
       "  <thead>\n",
       "    <tr style=\"text-align: right;\">\n",
       "      <th></th>\n",
       "      <th>fish_id</th>\n",
       "      <th>laterality_score</th>\n",
       "    </tr>\n",
       "  </thead>\n",
       "  <tbody>\n",
       "    <tr>\n",
       "      <th>0</th>\n",
       "      <td>110659_f0</td>\n",
       "      <td>-0.200000</td>\n",
       "    </tr>\n",
       "    <tr>\n",
       "      <th>1</th>\n",
       "      <td>111701_f0</td>\n",
       "      <td>-1.000000</td>\n",
       "    </tr>\n",
       "    <tr>\n",
       "      <th>2</th>\n",
       "      <td>112901_f1</td>\n",
       "      <td>0.400000</td>\n",
       "    </tr>\n",
       "    <tr>\n",
       "      <th>3</th>\n",
       "      <td>113916_f2</td>\n",
       "      <td>0.277108</td>\n",
       "    </tr>\n",
       "    <tr>\n",
       "      <th>4</th>\n",
       "      <td>114946_f2</td>\n",
       "      <td>0.254237</td>\n",
       "    </tr>\n",
       "  </tbody>\n",
       "</table>\n",
       "</div>"
      ],
      "text/plain": [
       "     fish_id  laterality_score\n",
       "0  110659_f0         -0.200000\n",
       "1  111701_f0         -1.000000\n",
       "2  112901_f1          0.400000\n",
       "3  113916_f2          0.277108\n",
       "4  114946_f2          0.254237"
      ]
     },
     "execution_count": 17,
     "metadata": {},
     "output_type": "execute_result"
    }
   ],
   "source": [
    "# First, you need to group your data by 'fish_Id' and 'lf' \n",
    "grouped = data.groupby(['fish_id', 'lf']).size()\n",
    "\n",
    "# Then, for each fish_Id, you calculate the index\n",
    "def calculate_index(group):\n",
    "    count_0 = group.get(0, 0)  # get the count for 0, and if not present, assume it to be 0\n",
    "    count_1 = group.get(1, 0)  # same for 1\n",
    "    total_counts = count_0 + count_1\n",
    "    if total_counts > 0:\n",
    "        if count_0 == total_counts:\n",
    "            return -1  # only right fin used\n",
    "        elif count_1 == total_counts:\n",
    "            return 1  # only left fin used\n",
    "        else:\n",
    "            return (count_1 - count_0) / total_counts  # both fins used\n",
    "    else:\n",
    "        return 0  # no fins used\n",
    "\n",
    "index = grouped.groupby(level=0).apply(calculate_index)\n",
    "\n",
    "# 'index' now contains the calculated index for each fish_Id\n",
    "df_laterality = pd.DataFrame({'fish_id':index.index, 'laterality_score':index.values})\n",
    "df_laterality.reset_index(drop=True, inplace=True)\n",
    "df_laterality.head()\n"
   ]
  },
  {
   "cell_type": "code",
   "execution_count": 18,
   "id": "6dba6fa7-0781-4308-a5a2-c1481909f56d",
   "metadata": {},
   "outputs": [],
   "source": [
    "lat = df_laterality.laterality_score.values"
   ]
  },
  {
   "cell_type": "code",
   "execution_count": 19,
   "id": "eae312f6-cc2a-4290-ab7e-4289412bb69e",
   "metadata": {},
   "outputs": [
    {
     "name": "stdout",
     "output_type": "stream",
     "text": [
      "-0.18333333333333335 0.14325955734406437\n",
      "Fish that prefer left:  Index(['110659_f0', '111701_f0', '120328_f3', '240422_f11', '240422_f12',\n",
      "       '240422_f3', '240422_f4', '240422_f9', '240424_f6', '240424_f7',\n",
      "       '240513_f0', '240513_f2', '240513_f6', '240514_f3', '240514_f5',\n",
      "       '240514_f6'],\n",
      "      dtype='object', name='fish_id')\n",
      "Fish that prefer right:  Index(['112901_f1', '113916_f2', '114946_f2', '132040_f6', '240422_f1',\n",
      "       '240422_f5', '240423_f5', '240423_f6', '240424_f10', '240424_f2',\n",
      "       '240424_f4', '240513_f10', '240513_f5', '240513_f7', '240514_f0',\n",
      "       '240514_f1'],\n",
      "      dtype='object', name='fish_id')\n",
      "Fish that don't show a preference:  Index(['120350_f3', '123953_f4', '125639_f5', '130839_f5', '133118_f6',\n",
      "       '240422_f0', '240422_f10', '240422_f13', '240422_f2', '240422_f6',\n",
      "       '240422_f7', '240422_f8', '240423_f0', '240423_f2', '240423_f3',\n",
      "       '240423_f4', '240423_f7', '240423_f8', '240424_f0', '240424_f3',\n",
      "       '240424_f5', '240424_f8', '240424_f9', '240513_f1', '240513_f4',\n",
      "       '240513_f8', '240514_f2', '240514_f4', '240514_f7', '240514_f8',\n",
      "       '240514_f9'],\n",
      "      dtype='object', name='fish_id')\n"
     ]
    }
   ],
   "source": [
    "### now lets get left and right handed fish in upper quantiles\n",
    "# assuming 'data' is your DataFrame and 'calculate_index' is your function to calculate the index\n",
    "\n",
    "# Calculate quantiles\n",
    "upper_quantile = np.percentile(lat, 75)\n",
    "lower_quantile = np.percentile(lat, 25)\n",
    "print (lower_quantile, upper_quantile)\n",
    "\n",
    "# Segment fish into two groups\n",
    "prefer_right = index[lat > upper_quantile].index\n",
    "prefer_left = index[lat < lower_quantile].index\n",
    "\n",
    "# Print the fish Ids\n",
    "print(\"Fish that prefer left: \", prefer_left)\n",
    "print(\"Fish that prefer right: \", prefer_right)\n",
    "\n",
    "# Identify fish that don't have a preference\n",
    "no_preference = index[(index > lower_quantile) & (index < upper_quantile)].index\n",
    "\n",
    "# Print the fish Ids\n",
    "print(\"Fish that don't show a preference: \", no_preference)\n"
   ]
  },
  {
   "cell_type": "code",
   "execution_count": 20,
   "id": "8f55f0ac-2da8-4c41-b55f-bdec69b6032f",
   "metadata": {},
   "outputs": [],
   "source": [
    "alph=0.5\n",
    "size=1\n",
    "cm_ = 1/2.54  # centimeters in inches\n",
    "f_size =6\n",
    "contrast = 2.2 # Contrast control ( 0 to 127)\n",
    "brightness = 0.01 # Brightness control (0-100)\n",
    "lw=0.5\n",
    "dpi= 600"
   ]
  },
  {
   "cell_type": "code",
   "execution_count": 53,
   "id": "45e68038-c341-4c83-ac20-cf6360ba1a60",
   "metadata": {
    "scrolled": true
   },
   "outputs": [
    {
     "data": {
      "image/png": "[encoded data removed]",
      "text/plain": [
       "<Figure size 236.22x236.22 with 1 Axes>"
      ]
     },
     "metadata": {
      "needs_background": "light"
     },
     "output_type": "display_data"
    }
   ],
   "source": [
    "\n",
    "plt.figure(figsize=(6*cm_,6*cm_), facecolor='None')\n",
    "sns.histplot(data=df_laterality.laterality_score ,color='gray', edgecolor='w', stat='density', bins=np.arange(-1,1,0.1))\n",
    "plt.axvline(0, ls='-',c='k', lw=lw)\n",
    "plt.axvline(lower_quantile, ls=':',c='k', label='Lower Quantile', lw=lw)\n",
    "plt.axvline(upper_quantile, ls='--',c='k', label='Upper Quantile', lw=lw)\n",
    "plt.xlabel(' ')\n",
    "plt.ylabel('Density', fontsize=f_size)\n",
    "plt.tick_params(axis='both', which='major', labelsize=f_size)\n",
    "plt.legend(fontsize=f_size)  # Add legend to the first subplot\n",
    "plt.yticks([0, 0.5, 1, 1.5],  fontsize=f_size)\n",
    "plt.xticks([-1,0, 1], labels=['Right', 'None', 'Left'], fontsize=f_size)\n",
    "plt.xlabel('Fin Preference', fontsize=f_size)\n",
    "plt.legend(fontsize=f_size-0.5, loc='upper center', bbox_to_anchor=(0.5,-0.5), ncol=2)\n",
    "\n",
    "plt.tight_layout()\n",
    "sns.despine(top=True, right=True, left=False, bottom=False)\n",
    "\n",
    "plt.savefig(save_figure_path/ 'laterality_hist.pdf', dpi=dpi)\n",
    "plt.savefig(save_figure_path/ 'laterality_hist.png', dpi=dpi)"
   ]
  },
  {
   "cell_type": "markdown",
   "id": "4ea40d14-3486-4e9e-aa31-800386c8bb9e",
   "metadata": {},
   "source": [
    "### Sort fish accroding to preference"
   ]
  },
  {
   "cell_type": "code",
   "execution_count": 23,
   "id": "48efeb3d-343d-45c6-8948-77a264c25616",
   "metadata": {},
   "outputs": [],
   "source": [
    "lat_ = df_laterality.laterality_score.values"
   ]
  },
  {
   "cell_type": "code",
   "execution_count": 24,
   "id": "49a613e9-3642-4d35-b626-504ec000aa46",
   "metadata": {},
   "outputs": [
    {
     "name": "stdout",
     "output_type": "stream",
     "text": [
      "['112901_f1', '113916_f2', '114946_f2', '132040_f6', '240422_f1', '240422_f5', '240423_f5', '240423_f6', '240424_f10', '240424_f2', '240424_f4', '240513_f10', '240513_f5', '240513_f7', '240514_f0', '240514_f1', '240422_f11', '240422_f12', '240513_f9']\n",
      "['110659_f0', '111701_f0', '120328_f3', '240422_f11', '240422_f3', '240422_f4', '240422_f9', '240424_f6', '240424_f7', '240513_f0', '240513_f2', '240513_f6', '240514_f3', '240514_f5', '240514_f6']\n"
     ]
    }
   ],
   "source": [
    "# Convert the Index objects to lists\n",
    "prefer_right_list = list(prefer_right)\n",
    "prefer_left_list = list(prefer_left)\n",
    "\n",
    "# Remove the misclassified fish IDs from prefer_left\n",
    "# prefer_left_list.remove('240422_f11')\n",
    "prefer_left_list.remove('240422_f12')\n",
    "# prefer_left_list.remove('240513_f9')\n",
    "\n",
    "# Add the misclassified fish IDs to prefer_right\n",
    "prefer_right_list.extend(['240422_f11', '240422_f12', '240513_f9'])\n",
    "\n",
    "# Optionally, convert back to an Index if needed\n",
    "# prefer_right = pd.Index(prefer_right_list)\n",
    "# prefer_left = pd.Index(prefer_left_list)\n",
    "\n",
    "print(prefer_right_list)\n",
    "print(prefer_left_list)\n"
   ]
  },
  {
   "cell_type": "code",
   "execution_count": 30,
   "id": "fba75cc1-3a7e-4d78-a938-c170ac8c0450",
   "metadata": {},
   "outputs": [],
   "source": [
    "import matplotlib.patches as mpatches"
   ]
  },
  {
   "cell_type": "code",
   "execution_count": 52,
   "id": "75093973-5498-426e-bc90-365e068efa0a",
   "metadata": {},
   "outputs": [
    {
     "data": {
      "text/plain": [
       "<Figure size 640x480 with 0 Axes>"
      ]
     },
     "metadata": {},
     "output_type": "display_data"
    },
    {
     "data": {
      "image/png": "[encoded data removed]",
      "text/plain": [
       "<Figure size 629.921x236.22 with 1 Axes>"
      ]
     },
     "metadata": {},
     "output_type": "display_data"
    }
   ],
   "source": [
    "# Calculate ratios\n",
    "ratios = data.groupby('fish_id')['lf'].value_counts(normalize=True).unstack()\n",
    "\n",
    "#  If lat_ is an array, add it to the DataFrame as a new column\n",
    "ratios['lat_index'] = lat_  # Make sure lat_ is aligned with ratios\n",
    "# Now sort using this new column\n",
    "ratios = ratios.sort_values(by='lat_index', ascending=False)\n",
    "ratios = ratios.drop(columns='lat_index')\n",
    "# Move the third-to-last (-3) to the second-to-last (-1) elements to the front\n",
    "ratios = pd.concat([ratios.iloc[-3:-1], ratios.iloc[:-3], ratios.iloc[-1:]])\n",
    "\n",
    "# Plot\n",
    "# Assuming ratios is your DataFrame\n",
    "# Swap the order of columns if it's a two-column DataFrame\n",
    "# If 'lf' represents the columns, you would normally have something like:\n",
    "# ratios = ratios[['left', 'right']] # Original order\n",
    "ratios = ratios[ratios.columns[::-1]]  # This will reverse the order of columns\n",
    "\n",
    "# Plot\n",
    "plt.figure(facecolor='None')\n",
    "\n",
    "# Adjust the colors to match the flipped data\n",
    "ratios.plot(kind='bar', width=1, stacked=True, color=['red', 'blue'], edgecolor='w', alpha=0.7, figsize=(16*cm_, 6*cm_))\n",
    "plt.ylabel('Ratio', fontsize=f_size)\n",
    "plt.xlabel('Fish ID', fontsize=f_size)\n",
    "plt.xticks(rotation=90)\n",
    "\n",
    "# Define your custom colors for the legend\n",
    "legend_colors = ['darkred', 'darkblue']\n",
    "\n",
    "# Create legend handles with the desired colors\n",
    "left_pref_patch = mpatches.Patch(color=legend_colors[0], label='Left Preference')\n",
    "right_pref_patch = mpatches.Patch(color=legend_colors[1], label='Right Preference')\n",
    "\n",
    "plt.legend(handles=[left_pref_patch, right_pref_patch],loc='upper center', bbox_to_anchor=(0.5,1.2), ncol=2, fontsize=f_size)\n",
    "sns.despine(top=True, right=True, left=True, bottom=True, offset=None, trim=False)\n",
    "plt.axhline(0.5, c='w', lw=lw)\n",
    "\n",
    "# Change xtick label colors\n",
    "ax = plt.gca()  # Get current axis\n",
    "for label in ax.get_xticklabels():\n",
    "    fish_id = label.get_text()\n",
    "    if fish_id in prefer_right_list:\n",
    "        label.set_color('darkred')\n",
    "    elif fish_id in prefer_left_list:\n",
    "        label.set_color('darkblue')\n",
    "        \n",
    "\n",
    "plt.tick_params(axis='both', which='major', labelsize=f_size-1)\n",
    "sns.despine(top=True, right=True, left=False, bottom=False)\n",
    "plt.tight_layout()\n",
    "plt.savefig(save_figure_path /'leading_fin_fish_id_ratio.pdf', dpi=dpi)\n",
    "plt.savefig(save_figure_path /'leading_fin_fish_id_ratio.png', dpi=dpi)"
   ]
  },
  {
   "cell_type": "code",
   "execution_count": 39,
   "id": "098631f1-051a-4227-a6f3-8a31af2eca9c",
   "metadata": {},
   "outputs": [],
   "source": [
    "# Create DataFrames for each group\n",
    "df_prefers_left = data[data['fish_id'].isin(prefer_left)]\n",
    "df_prefers_right = data[data['fish_id'].isin(prefer_right)]\n",
    "# Create DataFrame for fish without a clear preference\n",
    "df_no_preference = data[data['fish_id'].isin(no_preference)]\n"
   ]
  },
  {
   "cell_type": "code",
   "execution_count": 40,
   "id": "fb2d11f7-0125-4f0d-9753-1a31865a97ce",
   "metadata": {},
   "outputs": [
    {
     "data": {
      "text/html": [
       "<div>\n",
       "<style scoped>\n",
       "    .dataframe tbody tr th:only-of-type {\n",
       "        vertical-align: middle;\n",
       "    }\n",
       "\n",
       "    .dataframe tbody tr th {\n",
       "        vertical-align: top;\n",
       "    }\n",
       "\n",
       "    .dataframe thead th {\n",
       "        text-align: right;\n",
       "    }\n",
       "</style>\n",
       "<table border=\"1\" class=\"dataframe\">\n",
       "  <thead>\n",
       "    <tr style=\"text-align: right;\">\n",
       "      <th></th>\n",
       "      <th>fish_id</th>\n",
       "      <th>lf</th>\n",
       "      <th>bout_angle</th>\n",
       "      <th>cluster</th>\n",
       "    </tr>\n",
       "  </thead>\n",
       "  <tbody>\n",
       "    <tr>\n",
       "      <th>0</th>\n",
       "      <td>240513_f0</td>\n",
       "      <td>1</td>\n",
       "      <td>3.000171</td>\n",
       "      <td>0</td>\n",
       "    </tr>\n",
       "    <tr>\n",
       "      <th>1</th>\n",
       "      <td>240513_f0</td>\n",
       "      <td>0</td>\n",
       "      <td>1.649302</td>\n",
       "      <td>0</td>\n",
       "    </tr>\n",
       "    <tr>\n",
       "      <th>2</th>\n",
       "      <td>240513_f0</td>\n",
       "      <td>1</td>\n",
       "      <td>-0.861132</td>\n",
       "      <td>0</td>\n",
       "    </tr>\n",
       "    <tr>\n",
       "      <th>3</th>\n",
       "      <td>240513_f0</td>\n",
       "      <td>1</td>\n",
       "      <td>0.870591</td>\n",
       "      <td>0</td>\n",
       "    </tr>\n",
       "    <tr>\n",
       "      <th>4</th>\n",
       "      <td>240513_f0</td>\n",
       "      <td>0</td>\n",
       "      <td>2.231631</td>\n",
       "      <td>0</td>\n",
       "    </tr>\n",
       "  </tbody>\n",
       "</table>\n",
       "</div>"
      ],
      "text/plain": [
       "     fish_id  lf  bout_angle  cluster\n",
       "0  240513_f0   1    3.000171        0\n",
       "1  240513_f0   0    1.649302        0\n",
       "2  240513_f0   1   -0.861132        0\n",
       "3  240513_f0   1    0.870591        0\n",
       "4  240513_f0   0    2.231631        0"
      ]
     },
     "execution_count": 40,
     "metadata": {},
     "output_type": "execute_result"
    }
   ],
   "source": [
    "df_prefers_left.head()"
   ]
  },
  {
   "cell_type": "code",
   "execution_count": 41,
   "id": "03193d00-c24f-45c9-a586-3ad2543172fb",
   "metadata": {},
   "outputs": [
    {
     "data": {
      "image/png": "[encoded data removed]",
      "text/plain": [
       "<Figure size 393.701x216.535 with 3 Axes>"
      ]
     },
     "metadata": {
      "needs_background": "light"
     },
     "output_type": "display_data"
    }
   ],
   "source": [
    "# Assuming df_prefers_left and df_prefers_right are already defined\n",
    "# and labels_cat and color are defined as well\n",
    "\n",
    "bins = np.arange(-25, 25, 5)\n",
    "fig, axes = plt.subplots(1, 3, figsize=(10*cm_,5.5*cm_), facecolor='None', sharex=True, sharey=True)\n",
    "axes = axes.ravel()\n",
    "\n",
    "for clust in range(3):\n",
    "    ax=sns.histplot(\n",
    "        data=df_prefers_left.bout_angle[df_prefers_left.cluster == clust],\n",
    "        edgecolor='w',\n",
    "        color='darkblue',\n",
    "        kde=True,\n",
    "        bins=bins,\n",
    "        label='Right Preference',\n",
    "        stat='density',  # Normalize histogram\n",
    "        ax=axes[clust]\n",
    "    )\n",
    "    for line in ax.get_lines():    \n",
    "        line.set_linewidth(lw)  # Set the desired line width here\n",
    "    ax=sns.histplot(\n",
    "        data=df_prefers_right.bout_angle[df_prefers_right.cluster == clust],\n",
    "        edgecolor='w',\n",
    "        color='darkred',\n",
    "        kde=True,\n",
    "        bins=bins,\n",
    "        label='Left Preference',\n",
    "        stat='density',  # Normalize histogram\n",
    "        ax=axes[clust]\n",
    "    )\n",
    "    for line in ax.get_lines():    \n",
    "        line.set_linewidth(lw)  # Set the desired line width here\n",
    "    axes[clust].axvline(0, c='k', ls=':', lw=lw)\n",
    "    axes[clust].set_title(labels_cat[clust], color=color[clust], fontsize=f_size)\n",
    "    axes[clust].set_xlabel(' ', fontsize=f_size)\n",
    "    \n",
    "axes[1].set_xlabel('Bout Angle [degrees]', fontsize=f_size)\n",
    "axes[0].set_ylabel('Density', fontsize=f_size)\n",
    "axes[0].set_yticks([0, 0.05, 0.1, 0.15])\n",
    "for ax in axes:\n",
    "    ax.tick_params(axis='both', which='major', labelsize=f_size)\n",
    "# axes[-1].legend(loc='center left', bbox_to_anchor=(1, 0.5), fontsize=f_size)\n",
    "sns.despine(top=True, right=True, left=False, bottom=False)\n",
    "plt.tight_layout()\n",
    "\n",
    "plt.savefig(save_figure_path / 'preference_bout_cat_bout_angle_fwd_ba.pdf', dpi=dpi)\n",
    "plt.savefig(save_figure_path / 'preference_bout_cat_bout_angle_fwd_ba.png', dpi=dpi)\n"
   ]
  },
  {
   "cell_type": "code",
   "execution_count": null,
   "id": "b5595de6-caf8-4bcb-ae50-147dc5235575",
   "metadata": {},
   "outputs": [],
   "source": []
  },
  {
   "cell_type": "code",
   "execution_count": null,
   "id": "0b75b2c8-c09a-4a85-a265-fe98b8dbef78",
   "metadata": {},
   "outputs": [],
   "source": []
  },
  {
   "cell_type": "code",
   "execution_count": null,
   "id": "cdd79350-2668-4714-94fa-0a30df21afc3",
   "metadata": {},
   "outputs": [],
   "source": []
  }
 ],
 "metadata": {
  "kernelspec": {
   "display_name": "Python 3 (ipykernel)",
   "language": "python",
   "name": "python3"
  },
  "language_info": {
   "codemirror_mode": {
    "name": "ipython",
    "version": 3
   },
   "file_extension": ".py",
   "mimetype": "text/x-python",
   "name": "python",
   "nbconvert_exporter": "python",
   "pygments_lexer": "ipython3",
   "version": "3.11.5"
  }
 },
 "nbformat": 4,
 "nbformat_minor": 5
}
