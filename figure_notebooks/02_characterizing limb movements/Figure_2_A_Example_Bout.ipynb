{
 "cells": [
  {
   "cell_type": "code",
   "execution_count": 5,
   "id": "3a31cc7e-d8dd-436c-b2b3-5d7e0adcb9fc",
   "metadata": {},
   "outputs": [
    {
     "name": "stdout",
     "output_type": "stream",
     "text": [
      "The autoreload extension is already loaded. To reload it, use:\n",
      "  %reload_ext autoreload\n"
     ]
    }
   ],
   "source": [
    "%load_ext autoreload\n",
    "%autoreload 2\n",
    "import warnings\n",
    "warnings.filterwarnings('ignore')"
   ]
  },
  {
   "cell_type": "code",
   "execution_count": 6,
   "id": "21cbfde8-ee44-4b83-aede-60a2c86fd14d",
   "metadata": {},
   "outputs": [],
   "source": [
    "import numpy as np\n",
    "import pandas as pd\n",
    "import matplotlib.pyplot as plt\n",
    "from pathlib import Path\n",
    "import flammkuchen as fl"
   ]
  },
  {
   "cell_type": "markdown",
   "id": "db48d9e1-f485-45ad-ba7e-975790a64b45",
   "metadata": {},
   "source": [
    "### Load data"
   ]
  },
  {
   "cell_type": "code",
   "execution_count": 8,
   "id": "7a4a0e92-9289-472d-b07a-df78dedd8650",
   "metadata": {},
   "outputs": [],
   "source": [
    "save_figure_path = Path(r'\\\\portulab.synology.me\\data\\Kata\\Figures_Paper\\Figure_2\\fig_2')"
   ]
  },
  {
   "cell_type": "code",
   "execution_count": 9,
   "id": "43802856-6b74-4433-902e-c9cf44ad204c",
   "metadata": {},
   "outputs": [
    {
     "data": {
      "text/plain": [
       "WindowsPath('//portulab.synology.me/data/Kata/Processed_Data/tensor_data')"
      ]
     },
     "execution_count": 9,
     "metadata": {},
     "output_type": "execute_result"
    }
   ],
   "source": [
    "master_path = Path(r'\\\\portulab.synology.me\\data\\Kata\\Processed_Data\\tensor_data')\n",
    "path_tensors = Path(master_path/ 'tensors' /'tensor_ipsi_contra_pos.h5')\n",
    "master_path"
   ]
  },
  {
   "cell_type": "code",
   "execution_count": 10,
   "id": "8389cec2-f2cb-46b0-8345-00db605e8817",
   "metadata": {},
   "outputs": [
    {
     "data": {
      "text/plain": [
       "(11063, 3, 50)"
      ]
     },
     "execution_count": 10,
     "metadata": {},
     "output_type": "execute_result"
    }
   ],
   "source": [
    "### tail, fin 1, fin 2\n",
    "traces =  fl.load(path_tensors)\n",
    "traces.shape"
   ]
  },
  {
   "cell_type": "markdown",
   "id": "ad9ab90d-40c4-4c85-857a-8d20275d5179",
   "metadata": {},
   "source": [
    "### Plot ipsi and contra fins"
   ]
  },
  {
   "cell_type": "code",
   "execution_count": 14,
   "id": "42ab3763-f5e0-4b5c-907f-8b2b77631654",
   "metadata": {},
   "outputs": [],
   "source": [
    "alph=0.5\n",
    "size=1\n",
    "cm_ = 1/2.54  # centimeters in inches\n",
    "f_size =6\n",
    "lw=0.5\n",
    "dpi= 600"
   ]
  },
  {
   "cell_type": "code",
   "execution_count": 15,
   "id": "2a793241-6419-4cb3-a1a9-14e7e94dd404",
   "metadata": {},
   "outputs": [
    {
     "data": {
      "image/png": "[encoded data removed]",
      "text/plain": [
       "<Figure size 236.22x236.22 with 1 Axes>"
      ]
     },
     "metadata": {
      "needs_background": "light"
     },
     "output_type": "display_data"
    }
   ],
   "source": [
    "bout = 8599 \n",
    "\n",
    "plt.figure(figsize=(6*cm_,6*cm_), facecolor='None')\n",
    "plt.axhline(0, lw=lw/2, c='gray')\n",
    "plt.axvline(0, lw=lw/2, c='gray')\n",
    "plt.plot(traces[bout,0,  :].T, lw= lw, label='Tail', alpha=1, color='gray')\n",
    "plt.plot(traces[bout,1, :], lw= lw, label='Ipsilateral Fin', c=color_ipsi_cont[0])\n",
    "plt.plot(traces[bout,2,:], lw= lw, label='Contralateral Fin', c=color_ipsi_cont[1])\n",
    "plt.legend(bbox_to_anchor=(0.5, -0.05), loc='upper center', shadow=False, ncol=1, fontsize=f_size, columnspacing=0.5)\n",
    "plt.xlim(0,40)\n",
    "plt.axis('off')\n",
    "sns.despine(top=True, right=True, left=True, bottom=True, offset=None, trim=False)\n",
    "plt.tight_layout()\n",
    "\n",
    "plt.savefig(Path( save_figure_path/ 'bout_example.pdf'), dpi=dpi)\n",
    "plt.savefig(Path( save_figure_path/ 'bout_example.png'), dpi=dpi)"
   ]
  },
  {
   "cell_type": "code",
   "execution_count": null,
   "id": "118eca2f-41fe-4384-96ac-f5ec50c7017d",
   "metadata": {},
   "outputs": [],
   "source": []
  },
  {
   "cell_type": "code",
   "execution_count": null,
   "id": "45d90f93-00ef-47e0-b5e5-fc641b7ee509",
   "metadata": {},
   "outputs": [],
   "source": []
  },
  {
   "cell_type": "code",
   "execution_count": null,
   "id": "2d77a85d-a847-4d86-8bb8-1e0df6c41ec0",
   "metadata": {},
   "outputs": [],
   "source": []
  },
  {
   "cell_type": "code",
   "execution_count": null,
   "id": "294dbfd5-0530-489b-b440-8a2cec97c9f9",
   "metadata": {},
   "outputs": [],
   "source": []
  }
 ],
 "metadata": {
  "kernelspec": {
   "display_name": "Python 3 (ipykernel)",
   "language": "python",
   "name": "python3"
  },
  "language_info": {
   "codemirror_mode": {
    "name": "ipython",
    "version": 3
   },
   "file_extension": ".py",
   "mimetype": "text/x-python",
   "name": "python",
   "nbconvert_exporter": "python",
   "pygments_lexer": "ipython3",
   "version": "3.11.5"
  }
 },
 "nbformat": 4,
 "nbformat_minor": 5
}
