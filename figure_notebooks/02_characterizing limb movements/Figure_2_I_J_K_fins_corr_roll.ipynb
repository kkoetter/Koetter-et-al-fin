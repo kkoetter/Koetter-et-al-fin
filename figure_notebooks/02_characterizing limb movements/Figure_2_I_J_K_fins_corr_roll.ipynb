{
 "cells": [
  {
   "cell_type": "code",
   "execution_count": 1,
   "id": "3a31cc7e-d8dd-436c-b2b3-5d7e0adcb9fc",
   "metadata": {},
   "outputs": [],
   "source": [
    "%load_ext autoreload\n",
    "%autoreload 2\n",
    "import warnings\n",
    "warnings.filterwarnings('ignore')"
   ]
  },
  {
   "cell_type": "code",
   "execution_count": 2,
   "id": "21cbfde8-ee44-4b83-aede-60a2c86fd14d",
   "metadata": {},
   "outputs": [],
   "source": [
    "import numpy as np\n",
    "import pandas as pd\n",
    "import matplotlib.pyplot as plt\n",
    "from pathlib import Path\n",
    "import glob\n",
    "\n",
    "import h5py\n",
    "import flammkuchen as fl\n",
    "import seaborn as sns\n",
    "from matplotlib.cm import ScalarMappable\n",
    "import scipy\n",
    "from scipy import stats"
   ]
  },
  {
   "cell_type": "code",
   "execution_count": 3,
   "id": "78f03a96-47ac-496d-8bf2-c2ea9258f47c",
   "metadata": {},
   "outputs": [],
   "source": [
    "def reshape_feature_array(feature_vector_array):\n",
    "    \"\"\"\n",
    "    Reshape the feature vector array into a specified shape and extract sub-arrays.\n",
    "\n",
    "    Parameters:\n",
    "    - feature_vector_array: numpy.ndarray, the array to be reshaped.\n",
    "\n",
    "    Returns:\n",
    "    - reshaped_array: numpy.ndarray, the reshaped array.\n",
    "    - peaks_a_array, peaks_i_array, valleys_a_array, valleys_i_array: separate sub-arrays.\n",
    "    \"\"\"\n",
    "    max_n = int(feature_vector_array.shape[1] / 4)\n",
    "\n",
    "    # Reshape the array\n",
    "    reshaped_array = feature_vector_array.reshape(feature_vector_array.shape[0], 4, max_n)\n",
    "\n",
    "    # Extract sub-arrays\n",
    "    peaks_a_array = reshaped_array[:, 0, :]\n",
    "    peaks_i_array = reshaped_array[:, 1, :]\n",
    "    valleys_a_array = reshaped_array[:, 2, :]\n",
    "    valleys_i_array = reshaped_array[:, 3, :]\n",
    "\n",
    "    print(f\"Reshaped array shape: {reshaped_array.shape}\")\n",
    "\n",
    "    return reshaped_array, peaks_a_array, peaks_i_array, valleys_a_array, valleys_i_array\n",
    "\n",
    "\n",
    "def create_extrema_dict(t_data, l_data, r_data):\n",
    "    extrema_dict = {\n",
    "        0: {\n",
    "            'peaks_i': t_data[0],\n",
    "            'peaks_a': t_data[1],\n",
    "            'valleys_i': t_data[2],\n",
    "            'valleys_a': t_data[3]\n",
    "        },\n",
    "        1: {\n",
    "            'peaks_i': l_data[0],\n",
    "            'peaks_a': l_data[1],\n",
    "            'valleys_i': l_data[2],\n",
    "            'valleys_a': l_data[3]\n",
    "        },\n",
    "        2: {\n",
    "            'peaks_i': r_data[0],\n",
    "            'peaks_a': r_data[1],\n",
    "            'valleys_i': r_data[2],\n",
    "            'valleys_a': r_data[3]\n",
    "        }\n",
    "    }\n",
    "    return extrema_dict"
   ]
  },
  {
   "cell_type": "code",
   "execution_count": 4,
   "id": "58f5bff3-22a9-4eab-96c6-65dd68813924",
   "metadata": {},
   "outputs": [],
   "source": [
    "from megabouts_helper import labels_cat, color, color_bouts, cmp_bouts, color_ipsi_cont"
   ]
  },
  {
   "cell_type": "code",
   "execution_count": 5,
   "id": "43802856-6b74-4433-902e-c9cf44ad204c",
   "metadata": {},
   "outputs": [
    {
     "data": {
      "text/plain": [
       "(WindowsPath('//portulab.synology.me/data/Kata/Processed_Data/tensor_data'),\n",
       " WindowsPath('//portulab.synology.me/data/Kata/Processed_Data/tensor_data/features_bouts_new.csv'))"
      ]
     },
     "execution_count": 5,
     "metadata": {},
     "output_type": "execute_result"
    }
   ],
   "source": [
    "master_path = Path(r'\\\\portulab.synology.me\\data\\Kata\\Processed_Data\\tensor_data')\n",
    "path_tensors = Path(master_path/ 'tensors'/'tensor_ipsi_contra_pos.h5')\n",
    "path_features = Path(master_path/ 'features_bouts_new.csv')\n",
    "laterality = fl.load(master_path/ 'features'/'bout_laterality.h5')\n",
    "master_path, path_features"
   ]
  },
  {
   "cell_type": "code",
   "execution_count": 6,
   "id": "7a4a0e92-9289-472d-b07a-df78dedd8650",
   "metadata": {},
   "outputs": [],
   "source": [
    "save_figure_path = Path(r'\\\\portulab.synology.me\\data\\Kata\\Figures_Paper\\Figure_2\\fig_2')"
   ]
  },
  {
   "cell_type": "code",
   "execution_count": 7,
   "id": "8389cec2-f2cb-46b0-8345-00db605e8817",
   "metadata": {},
   "outputs": [
    {
     "data": {
      "text/plain": [
       "(11063, 3, 50)"
      ]
     },
     "execution_count": 7,
     "metadata": {},
     "output_type": "execute_result"
    }
   ],
   "source": [
    "### tail, fin 1, fin 2, left eye, right eye\n",
    "\n",
    "traces =  fl.load(path_tensors)\n",
    "traces.shape"
   ]
  },
  {
   "cell_type": "code",
   "execution_count": 8,
   "id": "3f6e5c5d-aeec-4be8-9817-8bc2804eab8b",
   "metadata": {},
   "outputs": [],
   "source": [
    "tail = traces[:, 0, :]\n",
    "\n",
    "ipsi_fin = traces[:, 1, :]\n",
    "contra_fin = traces[:, 2, :]"
   ]
  },
  {
   "cell_type": "code",
   "execution_count": 9,
   "id": "8954afe8-0a1e-4771-befe-26ee8eed8716",
   "metadata": {},
   "outputs": [
    {
     "name": "stdout",
     "output_type": "stream",
     "text": [
      "Color 1: (0.4, 0.7607843137254902, 0.6470588235294118, 1.0)\n",
      "Color 2: (0.9058823529411765, 0.5411764705882353, 0.7647058823529411, 1.0)\n"
     ]
    }
   ],
   "source": [
    "#Load the Set2 colormap\n",
    "cmap = plt.get_cmap('Set2')\n",
    "\n",
    "#Get two colors from the colormap\n",
    "color1 = cmap(0) # Get the first color\n",
    "color2 = cmap(3) # Get the second color\n",
    "color3 = cmap(7) # Get the second color\n",
    "\n",
    "print(\"Color 1:\", color1)\n",
    "print(\"Color 2:\", color2)\n",
    "\n",
    "color_ipsi_cont = [color1, color2, color3]"
   ]
  },
  {
   "cell_type": "markdown",
   "id": "4c3bb083-c580-4359-aab8-6d82d5c0fe7e",
   "metadata": {},
   "source": [
    "### read in features"
   ]
  },
  {
   "cell_type": "code",
   "execution_count": 10,
   "id": "7a50ad71-3d3f-4719-b89c-eb7314ac344f",
   "metadata": {},
   "outputs": [
    {
     "data": {
      "text/html": [
       "<div>\n",
       "<style scoped>\n",
       "    .dataframe tbody tr th:only-of-type {\n",
       "        vertical-align: middle;\n",
       "    }\n",
       "\n",
       "    .dataframe tbody tr th {\n",
       "        vertical-align: top;\n",
       "    }\n",
       "\n",
       "    .dataframe thead th {\n",
       "        text-align: right;\n",
       "    }\n",
       "</style>\n",
       "<table border=\"1\" class=\"dataframe\">\n",
       "  <thead>\n",
       "    <tr style=\"text-align: right;\">\n",
       "      <th></th>\n",
       "      <th>Unnamed: 0</th>\n",
       "      <th>exp</th>\n",
       "      <th>fish_id</th>\n",
       "      <th>bout_angle</th>\n",
       "      <th>cluster</th>\n",
       "      <th>frame_start</th>\n",
       "      <th>frame_end</th>\n",
       "      <th>bout_id_orig</th>\n",
       "      <th>mb_proba</th>\n",
       "      <th>max_eye_rot</th>\n",
       "      <th>...</th>\n",
       "      <th>tail_freq</th>\n",
       "      <th>l_fin_freqs</th>\n",
       "      <th>r_fin_freqs</th>\n",
       "      <th>tail_max_freq</th>\n",
       "      <th>l_fin_max_freqs</th>\n",
       "      <th>r_fin_max_freqs</th>\n",
       "      <th>l_start</th>\n",
       "      <th>l_end</th>\n",
       "      <th>r_start</th>\n",
       "      <th>r_end</th>\n",
       "    </tr>\n",
       "  </thead>\n",
       "  <tbody>\n",
       "    <tr>\n",
       "      <th>0</th>\n",
       "      <td>0</td>\n",
       "      <td>13052024_visstim_2D_round</td>\n",
       "      <td>240513_f0</td>\n",
       "      <td>3.000171</td>\n",
       "      <td>0</td>\n",
       "      <td>18375</td>\n",
       "      <td>18410</td>\n",
       "      <td>78</td>\n",
       "      <td>0.806645</td>\n",
       "      <td>-0.239648</td>\n",
       "      <td>...</td>\n",
       "      <td>0.121622</td>\n",
       "      <td>0.105263</td>\n",
       "      <td>0.109756</td>\n",
       "      <td>0.166667</td>\n",
       "      <td>0.166667</td>\n",
       "      <td>0.166667</td>\n",
       "      <td>0.0</td>\n",
       "      <td>27.0</td>\n",
       "      <td>0.0</td>\n",
       "      <td>28.0</td>\n",
       "    </tr>\n",
       "    <tr>\n",
       "      <th>1</th>\n",
       "      <td>1</td>\n",
       "      <td>13052024_visstim_2D_round</td>\n",
       "      <td>240513_f0</td>\n",
       "      <td>1.649302</td>\n",
       "      <td>0</td>\n",
       "      <td>19461</td>\n",
       "      <td>19484</td>\n",
       "      <td>80</td>\n",
       "      <td>1.000000</td>\n",
       "      <td>0.479035</td>\n",
       "      <td>...</td>\n",
       "      <td>0.058140</td>\n",
       "      <td>0.117647</td>\n",
       "      <td>0.119048</td>\n",
       "      <td>0.166667</td>\n",
       "      <td>0.166667</td>\n",
       "      <td>0.250000</td>\n",
       "      <td>0.0</td>\n",
       "      <td>15.0</td>\n",
       "      <td>7.0</td>\n",
       "      <td>26.0</td>\n",
       "    </tr>\n",
       "    <tr>\n",
       "      <th>2</th>\n",
       "      <td>2</td>\n",
       "      <td>13052024_visstim_2D_round</td>\n",
       "      <td>240513_f0</td>\n",
       "      <td>-0.861132</td>\n",
       "      <td>0</td>\n",
       "      <td>19661</td>\n",
       "      <td>19689</td>\n",
       "      <td>81</td>\n",
       "      <td>1.000000</td>\n",
       "      <td>-1.120168</td>\n",
       "      <td>...</td>\n",
       "      <td>0.097561</td>\n",
       "      <td>0.115385</td>\n",
       "      <td>0.104167</td>\n",
       "      <td>0.166667</td>\n",
       "      <td>0.166667</td>\n",
       "      <td>0.125000</td>\n",
       "      <td>4.0</td>\n",
       "      <td>20.0</td>\n",
       "      <td>0.0</td>\n",
       "      <td>27.0</td>\n",
       "    </tr>\n",
       "    <tr>\n",
       "      <th>3</th>\n",
       "      <td>3</td>\n",
       "      <td>13052024_visstim_2D_round</td>\n",
       "      <td>240513_f0</td>\n",
       "      <td>0.870591</td>\n",
       "      <td>0</td>\n",
       "      <td>20257</td>\n",
       "      <td>20292</td>\n",
       "      <td>84</td>\n",
       "      <td>1.000000</td>\n",
       "      <td>-2.662451</td>\n",
       "      <td>...</td>\n",
       "      <td>0.114286</td>\n",
       "      <td>0.117647</td>\n",
       "      <td>0.117647</td>\n",
       "      <td>0.166667</td>\n",
       "      <td>0.166667</td>\n",
       "      <td>0.125000</td>\n",
       "      <td>19.0</td>\n",
       "      <td>35.0</td>\n",
       "      <td>0.0</td>\n",
       "      <td>35.0</td>\n",
       "    </tr>\n",
       "    <tr>\n",
       "      <th>4</th>\n",
       "      <td>4</td>\n",
       "      <td>13052024_visstim_2D_round</td>\n",
       "      <td>240513_f0</td>\n",
       "      <td>2.231631</td>\n",
       "      <td>0</td>\n",
       "      <td>20824</td>\n",
       "      <td>20859</td>\n",
       "      <td>86</td>\n",
       "      <td>1.000000</td>\n",
       "      <td>-1.192489</td>\n",
       "      <td>...</td>\n",
       "      <td>0.108108</td>\n",
       "      <td>0.116667</td>\n",
       "      <td>0.103448</td>\n",
       "      <td>0.166667</td>\n",
       "      <td>0.125000</td>\n",
       "      <td>0.125000</td>\n",
       "      <td>0.0</td>\n",
       "      <td>23.0</td>\n",
       "      <td>6.0</td>\n",
       "      <td>28.0</td>\n",
       "    </tr>\n",
       "  </tbody>\n",
       "</table>\n",
       "<p>5 rows × 55 columns</p>\n",
       "</div>"
      ],
      "text/plain": [
       "   Unnamed: 0                        exp    fish_id  bout_angle  cluster  \\\n",
       "0           0  13052024_visstim_2D_round  240513_f0    3.000171        0   \n",
       "1           1  13052024_visstim_2D_round  240513_f0    1.649302        0   \n",
       "2           2  13052024_visstim_2D_round  240513_f0   -0.861132        0   \n",
       "3           3  13052024_visstim_2D_round  240513_f0    0.870591        0   \n",
       "4           4  13052024_visstim_2D_round  240513_f0    2.231631        0   \n",
       "\n",
       "   frame_start  frame_end  bout_id_orig  mb_proba  max_eye_rot  ...  \\\n",
       "0        18375      18410            78  0.806645    -0.239648  ...   \n",
       "1        19461      19484            80  1.000000     0.479035  ...   \n",
       "2        19661      19689            81  1.000000    -1.120168  ...   \n",
       "3        20257      20292            84  1.000000    -2.662451  ...   \n",
       "4        20824      20859            86  1.000000    -1.192489  ...   \n",
       "\n",
       "   tail_freq  l_fin_freqs  r_fin_freqs  tail_max_freq  l_fin_max_freqs  \\\n",
       "0   0.121622     0.105263     0.109756       0.166667         0.166667   \n",
       "1   0.058140     0.117647     0.119048       0.166667         0.166667   \n",
       "2   0.097561     0.115385     0.104167       0.166667         0.166667   \n",
       "3   0.114286     0.117647     0.117647       0.166667         0.166667   \n",
       "4   0.108108     0.116667     0.103448       0.166667         0.125000   \n",
       "\n",
       "   r_fin_max_freqs  l_start  l_end  r_start  r_end  \n",
       "0         0.166667      0.0   27.0      0.0   28.0  \n",
       "1         0.250000      0.0   15.0      7.0   26.0  \n",
       "2         0.125000      4.0   20.0      0.0   27.0  \n",
       "3         0.125000     19.0   35.0      0.0   35.0  \n",
       "4         0.125000      0.0   23.0      6.0   28.0  \n",
       "\n",
       "[5 rows x 55 columns]"
      ]
     },
     "execution_count": 10,
     "metadata": {},
     "output_type": "execute_result"
    }
   ],
   "source": [
    "features = pd.read_csv(path_features)\n",
    "features.head()"
   ]
  },
  {
   "cell_type": "code",
   "execution_count": 11,
   "id": "cff4d8a9-3811-4aef-a886-51e3eafdb6ff",
   "metadata": {},
   "outputs": [],
   "source": [
    "clusters = features.cluster"
   ]
  },
  {
   "cell_type": "code",
   "execution_count": 12,
   "id": "d865e70e-d68e-4196-9d22-1d622b43899d",
   "metadata": {},
   "outputs": [
    {
     "data": {
      "text/plain": [
       "array([1., 1., 1., ..., 0., 0., 1.])"
      ]
     },
     "execution_count": 12,
     "metadata": {},
     "output_type": "execute_result"
    }
   ],
   "source": [
    "ipsi_fin_values = features.ipsi_fin.values\n",
    "ipsi_fin_values"
   ]
  },
  {
   "cell_type": "code",
   "execution_count": 13,
   "id": "2a887e47-41e0-4f43-9192-c26c6607240a",
   "metadata": {},
   "outputs": [],
   "source": [
    "ipsi_mask = features['ipsi_fin'].values.astype(int)\n",
    "contra_mask = np.where((ipsi_mask==0)|(ipsi_mask==1), ipsi_mask^1, ipsi_mask)\n"
   ]
  },
  {
   "cell_type": "code",
   "execution_count": 14,
   "id": "5706377d-9af6-41ab-80d1-5457e970f4ac",
   "metadata": {},
   "outputs": [],
   "source": [
    "path_traces =  Path(r'\\\\portulab.synology.me\\data\\Kata\\Processed_Data\\tensor_data\\tensors\\tensor.h5')"
   ]
  },
  {
   "cell_type": "code",
   "execution_count": 15,
   "id": "64589528-3a4d-4b3f-808e-93a542b21d43",
   "metadata": {},
   "outputs": [],
   "source": [
    "traces_2 = fl.load(path_traces)"
   ]
  },
  {
   "cell_type": "code",
   "execution_count": 16,
   "id": "96609d3a-9d8e-474d-b73b-623e2f7000f1",
   "metadata": {},
   "outputs": [],
   "source": [
    "corr_ =[]\n",
    "ipsi_mask = features['ipsi_fin'].values.astype(int)\n",
    "contra_mask = np.where((ipsi_mask==0)|(ipsi_mask==1), ipsi_mask^1, ipsi_mask)\n",
    "\n",
    "for i, cluster in enumerate([1, 5]):\n",
    "    tail_traces = traces_2[:, 0, :][clusters==cluster]\n",
    "    \n",
    "    for mask, col_ in zip([ipsi_mask, contra_mask], [color_ipsi_cont[0], color_ipsi_cont[1]]):\n",
    "        fin_traces = traces_2[:, 1:3, :][np.arange(traces_2.shape[0]), mask, :][clusters==cluster]\n",
    "        corrcoefs = [np.corrcoef(tail_traces[i, :], fin_traces[i, :])[0,1] for i in range((clusters==cluster).sum())]\n",
    "        corr_.append(corrcoefs)"
   ]
  },
  {
   "cell_type": "code",
   "execution_count": 17,
   "id": "93799ac0-57fe-4269-ac2d-575ad70d76f9",
   "metadata": {},
   "outputs": [],
   "source": [
    "len(corr_)\n",
    "i_fwd = corr_[0]\n",
    "c_fwd = corr_[1]\n",
    "i_turn = corr_[2]\n",
    "c_turn = corr_[3]\n"
   ]
  },
  {
   "cell_type": "markdown",
   "id": "02b0a045-d356-4a97-a5d0-ccaf437b7ea6",
   "metadata": {},
   "source": [
    "### Rolling corr"
   ]
  },
  {
   "cell_type": "code",
   "execution_count": 18,
   "id": "174c13f9-83f0-4bf4-9561-19e63a8f5e8f",
   "metadata": {},
   "outputs": [],
   "source": [
    "t_feature_vector_array = fl.load(master_path/ 'peaks_valleys'/  't_feature_vector_array.h5')\n",
    "l_feature_vector_array = fl.load(master_path/ 'peaks_valleys'/  'l_feature_vector_array.h5')\n",
    "r_feature_vector_array = fl.load(master_path/ 'peaks_valleys'/  'r_feature_vector_array.h5')\n",
    "\n",
    "laterality = fl.load(master_path/ 'features'/'bout_laterality.h5')\n",
    "#Load TBF data\n",
    "tbf_output = fl.load(master_path / 'tbf_fbf' / 'tbf_output.h5')\n"
   ]
  },
  {
   "cell_type": "code",
   "execution_count": 19,
   "id": "3b69a100-dc24-4327-96c4-a1e9fa79e3ab",
   "metadata": {},
   "outputs": [
    {
     "name": "stdout",
     "output_type": "stream",
     "text": [
      "Reshaped array shape: (11063, 4, 9)\n",
      "Reshaped array shape: (11063, 4, 9)\n",
      "Reshaped array shape: (11063, 4, 9)\n"
     ]
    }
   ],
   "source": [
    "max_n=9\n",
    "\n",
    "reshaped_array, peaks_a_array, peaks_i_array, valleys_a_array, valleys_i_array = reshape_feature_array(t_feature_vector_array)\n",
    "l_reshaped_array, l_peaks_a_array, l_peaks_i_array, l_valleys_a_array, l_valleys_i_array = reshape_feature_array(l_feature_vector_array)\n",
    "r_reshaped_array, r_peaks_a_array, r_peaks_i_array, r_valleys_a_array, r_valleys_i_array = reshape_feature_array(r_feature_vector_array)"
   ]
  },
  {
   "cell_type": "code",
   "execution_count": 20,
   "id": "47d07716-08bb-4678-8ab9-0cf138494e42",
   "metadata": {},
   "outputs": [
    {
     "name": "stdout",
     "output_type": "stream",
     "text": [
      "dict_keys([0, 1, 2])\n",
      "dict_keys(['peaks_i', 'peaks_a', 'valleys_i', 'valleys_a'])\n"
     ]
    }
   ],
   "source": [
    "extrema_dict = create_extrema_dict(\n",
    "    (peaks_i_array, peaks_a_array, valleys_i_array, valleys_a_array),\n",
    "    (l_peaks_i_array, l_peaks_a_array, l_valleys_i_array, l_valleys_a_array),\n",
    "    (r_peaks_i_array, r_peaks_a_array, r_valleys_i_array, r_valleys_a_array)\n",
    ")\n",
    "\n",
    "print(extrema_dict.keys())  # Output: dict_keys([0, 1, 2])\n",
    "print(extrema_dict[0].keys())  # Output: dict_keys(['peaks_i', 'peaks_a', 'valleys_i', 'valleys_a'])\n"
   ]
  },
  {
   "cell_type": "code",
   "execution_count": 21,
   "id": "3bd6de90-7b4c-4fb3-8125-41da03fbf7c3",
   "metadata": {},
   "outputs": [],
   "source": [
    "dt = 0.25/traces_2.shape[2]\n",
    "tps = np.arange(traces_2.shape[2])*dt"
   ]
  },
  {
   "cell_type": "code",
   "execution_count": 22,
   "id": "8196d746-e09c-497a-b1d5-d04ef8e394c8",
   "metadata": {},
   "outputs": [],
   "source": [
    "### COMPUTE ROLLING CORRELATION BETWEEN THE TWO FIN TRACES ###\n",
    "\n",
    "window = 10 #Size of the rolling window\n",
    "min_periods = 2 #Minimum size required for computing the correlation \n",
    "\n",
    "fin_corr_evol = []\n",
    "\n",
    "for bout in range(traces_2.shape[0]):\n",
    "    fin_df = pd.DataFrame(data=traces_2[bout, [1,2], :].T, columns=['fin1', 'fin2'])\n",
    "    fin_corr_evol.append(fin_df['fin1'].rolling(window, min_periods=min_periods).corr(fin_df['fin2']))\n",
    "    \n",
    "fin_corr_evol = np.stack([series.values for series in fin_corr_evol])"
   ]
  },
  {
   "cell_type": "markdown",
   "id": "2b9be2c0-6e3f-4de8-aa4e-b41e68341d33",
   "metadata": {},
   "source": [
    "### Now horizontal"
   ]
  },
  {
   "cell_type": "code",
   "execution_count": 23,
   "id": "771c68ac-3131-4d9d-8e3b-b2bca2327dc1",
   "metadata": {},
   "outputs": [],
   "source": [
    "alph=0.2\n",
    "dt = 0.005\n",
    "bins = np.arange(-1, 1.1, 0.1)\n",
    "lw=0.5\n",
    "cm = 1/2.54  # centimeters in inches\n",
    "f_size = 6\n",
    "tick_label_size = f_size\n",
    "dpi=600"
   ]
  },
  {
   "cell_type": "code",
   "execution_count": 37,
   "id": "765eef5e-a80f-4504-939f-f8443b6d2048",
   "metadata": {},
   "outputs": [
    {
     "data": {
      "image/png": "[encoded data removed]",
      "text/plain": [
       "<Figure size 157.48x255.906 with 2 Axes>"
      ]
     },
     "metadata": {
      "needs_background": "light"
     },
     "output_type": "display_data"
    }
   ],
   "source": [
    "fig, axes = plt.subplots(2,1,figsize=(4*cm, 6.5*cm), sharex=True, sharey=True, facecolor='None') \n",
    "axes = axes.ravel()\n",
    "axes[0].set_title('Slow 1', c=color[1], fontsize=f_size)\n",
    "axes[1].set_title('High Angle Turn', c=color[5], fontsize=f_size)\n",
    "\n",
    "bout=395\n",
    "axes[0].plot(tail[clusters == 1][bout].T , c='gray',lw=lw)\n",
    "axes[0].plot(ipsi_fin[clusters == 1][bout].T , c=color[1],lw=lw)\n",
    "axes[0].plot(contra_fin[clusters == 1][bout].T , c=color[1], ls=':',lw=lw)\n",
    "\n",
    "bout=403\n",
    "axes[1].plot(tail[clusters == 5][bout].T , c='gray', label='Tail',lw=lw)\n",
    "axes[1].plot(ipsi_fin[clusters == 5][bout].T , c=color[5], label='Ipsi Fin',lw=lw)\n",
    "axes[1].plot(contra_fin[clusters == 5][bout].T , c=color[5], ls=':', label='Contra Fin',lw=lw)\n",
    "\n",
    "for ax in axes:\n",
    "    ax.set_ylim(-0.3, 1.6)\n",
    "    ax.set_xticks(np.arange(0,51,25))\n",
    "    ax.set_xticklabels(np.arange(0,251,125), fontsize=f_size)\n",
    "    ax.set_yticks([0,0.5, 1, 1.5])\n",
    "    ax.set_yticklabels([0,0.5, 1, 1.5], fontsize=f_size)\n",
    "    ax.set_ylabel('Angle [rad]', fontsize=f_size)\n",
    "axes[1].set_xlabel('time [ms]', fontsize=f_size)\n",
    "sns.despine(top=True, right=True, left=False, bottom=False)\n",
    "plt.tight_layout()\n",
    "\n",
    "fig.savefig(save_figure_path / 'exp_traces.png', dpi=dpi)\n",
    "fig.savefig(save_figure_path / 'exp_traces.pdf', dpi=dpi)"
   ]
  },
  {
   "cell_type": "code",
   "execution_count": 52,
   "id": "05c63071-59cc-4198-a40c-07e4c8f9beae",
   "metadata": {},
   "outputs": [
    {
     "data": {
      "image/png": "[encoded data removed]",
      "text/plain": [
       "<Figure size 157.48x236.22 with 2 Axes>"
      ]
     },
     "metadata": {
      "needs_background": "light"
     },
     "output_type": "display_data"
    }
   ],
   "source": [
    "fig, axes = plt.subplots(2,1,figsize=(4*cm,6*cm), sharex=True, sharey=True, facecolor='None') \n",
    "axes = axes.ravel()\n",
    "\n",
    "axes[0].hist(i_fwd, color = color_ipsi_cont[0], bins=bins,edgecolor='w', density=True, alpha=0.7)\n",
    "axes[0].hist(c_fwd, color = color_ipsi_cont[1], bins=bins,edgecolor='w', density=True, alpha=0.7)\n",
    "axes[1].hist(i_turn, color = color_ipsi_cont[0], bins=bins,edgecolor='w', density=True, alpha=0.7)\n",
    "axes[1].hist(c_turn, color = color_ipsi_cont[1], bins=bins,edgecolor='w', density=True, alpha=0.7)\n",
    "\n",
    "for ax_ in axes:\n",
    "    ax_.axvline(0, c='k',ls=':', lw=lw)\n",
    "    ax_.set_yticks(np.arange(0,3,1))\n",
    "    ax_.set_xticks(np.arange(-1,1.1,0.5))\n",
    "    ax_.set_yticklabels(np.round(np.arange(0,3,1),2), fontsize=f_size)\n",
    "    ax_.set_xticklabels(np.round(np.arange(-1,1.1,0.5),2), fontsize=f_size)\n",
    "\n",
    "axes[0].set_ylabel('Forward Swims', fontsize=f_size)  \n",
    "axes[1].set_ylabel('Turns', fontsize=f_size) \n",
    "axes[1].set_xlabel('Fin-Tail Corrcoef', fontsize=f_size)\n",
    "sns.despine(top=True, right=True, left=False, bottom=False)\n",
    "plt.tight_layout()\n",
    "\n",
    "fig.savefig(save_figure_path / 'fin_tail_corr.png', dpi=dpi)\n",
    "fig.savefig(save_figure_path / 'fin_tail_corr.pdf', dpi=dpi)"
   ]
  },
  {
   "cell_type": "code",
   "execution_count": 51,
   "id": "9a186314-7990-49c3-9877-a86725dffa92",
   "metadata": {},
   "outputs": [
    {
     "data": {
      "image/png": "[encoded data removed]",
      "text/plain": [
       "<Figure size 295.276x236.22 with 1 Axes>"
      ]
     },
     "metadata": {
      "needs_background": "light"
     },
     "output_type": "display_data"
    }
   ],
   "source": [
    "fig,ax = plt.subplots(figsize=(7.5*cm, 6*cm), facecolor='None')\n",
    "mean = np.nanmean(fin_corr_evol, 0)\n",
    "std = np.nanstd(fin_corr_evol, 0)\n",
    "ax.plot(tps, mean, c='gray', label='All bouts', lw=lw)\n",
    "ax.fill_between(tps, mean-std, mean+std, color='gray', alpha=.05)\n",
    "\n",
    "for i, cluster in enumerate([1, 5]):\n",
    "    mean = np.nanmean(fin_corr_evol[clusters==cluster], 0)\n",
    "    std = np.nanstd(fin_corr_evol[clusters==cluster], 0)\n",
    "    tps = np.arange(mean.shape[0])*dt*1000  # Multiply by 1000 to convert to ms\n",
    "    ax.plot(tps, mean, c=color[cluster], label=labels_cat[cluster], lw=lw)\n",
    "    ax.fill_between(tps, mean-std, mean+std, color=color[cluster], alpha=.05)\n",
    "\n",
    "ax.axhline(0, c='black', ls='--', lw=lw)\n",
    "ax.set_xlabel('time [ms]', fontsize=f_size)\n",
    "ax.set_ylabel('Fin-Fin Corrcoef', fontsize=f_size)\n",
    "ax.legend(bbox_to_anchor=(0.5, 1.05), loc='lower center', shadow=False, ncol=3, fontsize=f_size, columnspacing=0.5)\n",
    "\n",
    "ax.set_yticks(np.arange(-1, 1.1, 0.5))\n",
    "ax.set_yticklabels(np.arange(-1, 1.1, 0.5), fontsize=f_size)\n",
    "ax.set_xticks(np.arange(0,251,50))\n",
    "ax.set_xticklabels(np.arange(0,251,50),fontsize=f_size)\n",
    "\n",
    "sns.despine(top=True, right=True, left=False, bottom=False)\n",
    "plt.tight_layout()\n",
    "\n",
    "fig.savefig(save_figure_path / 'fin_fin_corr.png', dpi=dpi)\n",
    "fig.savefig(save_figure_path / 'fin_fin_corr.pdf', dpi=dpi)"
   ]
  },
  {
   "cell_type": "code",
   "execution_count": null,
   "id": "134fcf1d-8a04-4112-9a86-a4a76e5cf4ba",
   "metadata": {},
   "outputs": [],
   "source": []
  },
  {
   "cell_type": "code",
   "execution_count": null,
   "id": "a9dcc13e-286e-408f-ae5d-4ed13c1f84c0",
   "metadata": {},
   "outputs": [],
   "source": []
  },
  {
   "cell_type": "code",
   "execution_count": 41,
   "id": "3e65fbac-c275-412c-8fae-a9d23d88ecdb",
   "metadata": {},
   "outputs": [],
   "source": [
    "# fig = plt.figure(figsize=(16*cm, 7*cm)) # adjust the size of the figure to be wider\n",
    "# gs = gridspec.GridSpec(2, 3, width_ratios=[0.5, 0.5, 1])  # last column plot is twice as wide as the first two columns\n",
    "\n",
    "# ax1 = plt.subplot(gs[0, 0])  # first column, first row\n",
    "# ax2 = plt.subplot(gs[1, 0])  # first column, second row\n",
    "# ax3 = plt.subplot(gs[0, 1])  # second column, first row\n",
    "# ax4 = plt.subplot(gs[1, 1])  # second column, second row\n",
    "# ax5 = plt.subplot(gs[:, 2])  # third column, spans both rows\n",
    "\n",
    "\n",
    "# ax1.set_title('Slow 1', c=color[1], fontsize=f_size)\n",
    "# ax2.set_title('High Angle Turn', c=color[5], fontsize=f_size)\n",
    "\n",
    "# bout=395\n",
    "# ax1.plot(tail[clusters == 1][bout].T , c='gray',lw=lw)\n",
    "# ax1.plot(ipsi_fin[clusters == 1][bout].T , c=color[1],lw=lw)\n",
    "# ax1.plot(contra_fin[clusters == 1][bout].T , c=color[1], ls=':',lw=lw)\n",
    "\n",
    "# bout=403\n",
    "# ax2.plot(tail[clusters == 5][bout].T , c='gray', label='Tail',lw=lw)\n",
    "# ax2.plot(ipsi_fin[clusters == 5][bout].T , c=color[5], label='Ipsi Fin',lw=lw)\n",
    "# ax2.plot(contra_fin[clusters == 5][bout].T , c=color[5], ls=':', label='Contra Fin',lw=lw)\n",
    "\n",
    "# ax3.hist(i_fwd, color = color_ipsi_cont[0], bins=bins,edgecolor='w', density=True, alpha=0.7)\n",
    "# ax3.hist(c_fwd, color = color_ipsi_cont[1], bins=bins,edgecolor='w', density=True, alpha=0.7)\n",
    "# ax4.hist(i_turn, color = color_ipsi_cont[0], bins=bins,edgecolor='w', density=True, alpha=0.7)\n",
    "# ax4.hist(c_turn, color = color_ipsi_cont[1], bins=bins,edgecolor='w', density=True, alpha=0.7)\n",
    "\n",
    "# for ax in [ax1, ax2]:\n",
    "#     ax.set_ylim(-0.3, 1.6)\n",
    "#     ax.set_xticks(np.arange(0,51,25))\n",
    "#     ax.set_xticklabels(np.arange(0,251,125), fontsize=f_size)\n",
    "#     ax.set_yticks([0,0.5, 1, 1.5])\n",
    "#     ax.set_yticklabels([0,0.5, 1, 1.5], fontsize=f_size)\n",
    "#     ax.set_ylabel('Angles [rad]', fontsize=f_size)\n",
    "\n",
    "# ax2.set_xlabel('time [ms]', fontsize=f_size)\n",
    "\n",
    "# for ax_ in [ax3, ax4]:\n",
    "#     ax_.axvline(0, c='k',ls=':', lw=lw)\n",
    "#     ax_.set_yticks(np.arange(0,3,1))\n",
    "#     ax_.set_xticks(np.arange(-1,1.1,0.5))\n",
    "#     ax_.set_yticklabels(np.round(np.arange(0,3,1),2), fontsize=f_size)\n",
    "#     ax_.set_xticklabels(np.round(np.arange(-1,1.1,0.5),2), fontsize=f_size)\n",
    "#     ax_.set_ylabel('Density', fontsize=f_size)\n",
    "    \n",
    "# ax4.set_xlabel('Fin-Tail Corrcoef', fontsize=f_size)\n",
    "\n",
    "# mean = np.nanmean(fin_corr_evol, 0)\n",
    "# std = np.nanstd(fin_corr_evol, 0)\n",
    "# ax5.plot(tps, mean, c='gray', label='All bouts', lw=lw)\n",
    "# ax5.fill_between(tps, mean-std, mean+std, color='gray', alpha=.05)\n",
    "\n",
    "# for i, cluster in enumerate([1, 5]):\n",
    "#     mean = np.nanmean(fin_corr_evol[clusters==cluster], 0)\n",
    "#     std = np.nanstd(fin_corr_evol[clusters==cluster], 0)\n",
    "#     tps = np.arange(mean.shape[0])*dt*1000  # Multiply by 1000 to convert to ms\n",
    "#     ax5.plot(tps, mean, c=color[cluster], label=labels_cat[cluster], lw=lw)\n",
    "#     ax5.fill_between(tps, mean-std, mean+std, color=color[cluster], alpha=.05)\n",
    "\n",
    "# ax5.set_yticklabels(np.arange(-1, 1.1, 0.5), fontsize=f_size)\n",
    "# ax5.set_xticks(np.arange(0,251,50))\n",
    "# ax5.set_xticklabels(np.arange(0,251,50),fontsize=f_size-2)\n",
    "\n",
    "# ax5.axhline(0, c='black', ls='--', lw=lw)\n",
    "# ax5.set_xlabel('time [ms]', fontsize=f_size)\n",
    "# ax5.set_ylabel('Fin-Fin Corrcoef', fontsize=f_size)\n",
    "# ax5.legend(bbox_to_anchor=(0.5, 1.05), loc='lower center', shadow=False, ncol=3, fontsize=f_size, columnspacing=0.5)\n",
    "\n",
    "# ax5.set_yticks(np.arange(-1, 1.1, 0.5))\n",
    "# ax5.set_yticklabels(np.arange(-1, 1.1, 0.5), fontsize=f_size)\n",
    "# ax5.set_xticks(np.arange(0,251,50))\n",
    "# ax5.set_xticklabels(np.arange(0,251,50),fontsize=f_size)\n",
    "\n",
    "# sns.despine(top=True, right=True, left=False, bottom=False)\n",
    "# plt.tight_layout()\n",
    "\n",
    "# if save_figure_path is not None:\n",
    "#     fig.savefig(save_figure_path / 'trace_corr_panel_h.png', dpi=dpi)\n",
    "#     fig.savefig(save_figure_path / 'trace_corr_panel_h.pdf', dpi=dpi)"
   ]
  },
  {
   "cell_type": "code",
   "execution_count": null,
   "id": "a614123b-e231-4063-a031-72d6c040aa8f",
   "metadata": {},
   "outputs": [],
   "source": []
  },
  {
   "cell_type": "code",
   "execution_count": null,
   "id": "9480beff-88d1-4532-b05c-06a6d4c57bd3",
   "metadata": {},
   "outputs": [],
   "source": []
  }
 ],
 "metadata": {
  "kernelspec": {
   "display_name": "Python 3 (ipykernel)",
   "language": "python",
   "name": "python3"
  },
  "language_info": {
   "codemirror_mode": {
    "name": "ipython",
    "version": 3
   },
   "file_extension": ".py",
   "mimetype": "text/x-python",
   "name": "python",
   "nbconvert_exporter": "python",
   "pygments_lexer": "ipython3",
   "version": "3.11.5"
  }
 },
 "nbformat": 4,
 "nbformat_minor": 5
}
