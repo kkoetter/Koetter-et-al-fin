{
 "cells": [
  {
   "cell_type": "code",
   "execution_count": 1,
   "id": "3a31cc7e-d8dd-436c-b2b3-5d7e0adcb9fc",
   "metadata": {},
   "outputs": [],
   "source": [
    "%load_ext autoreload\n",
    "%autoreload 2\n",
    "import warnings\n",
    "warnings.filterwarnings('ignore')"
   ]
  },
  {
   "cell_type": "code",
   "execution_count": 2,
   "id": "21cbfde8-ee44-4b83-aede-60a2c86fd14d",
   "metadata": {},
   "outputs": [],
   "source": [
    "import numpy as np\n",
    "import pandas as pd\n",
    "import matplotlib.pyplot as plt\n",
    "from pathlib import Path\n",
    "import glob\n",
    "\n",
    "import h5py\n",
    "import flammkuchen as fl\n",
    "import seaborn as sns\n",
    "from matplotlib.cm import ScalarMappable\n",
    "import scipy\n",
    "from scipy import stats\n",
    "import matplotlib.gridspec as gridspec"
   ]
  },
  {
   "cell_type": "code",
   "execution_count": 3,
   "id": "6cf4b837-94ed-4076-bfc2-865e777430e3",
   "metadata": {},
   "outputs": [],
   "source": [
    "from megabouts_helper import labels_cat, color, color_bouts, cmp_bouts, color_ipsi_cont\n",
    "from preprocess_helper import assign_leading_fin\n",
    "from preprocess_helper import reshape_feature_array"
   ]
  },
  {
   "cell_type": "code",
   "execution_count": 4,
   "id": "6fc16bbb-07bc-4007-a023-0e841ae9a604",
   "metadata": {},
   "outputs": [],
   "source": [
    "def sort_ipsi_contra_arrays(array1, array2, ipsi_indicator):\n",
    "    # Determine ipsilateral and contralateral\n",
    "    \"\"\"\n",
    "    ipsi_fin = 0, left fin is ipsi, \n",
    "    ipsi_fin = 1, right fin is ipsi_fin,\n",
    "    \"\"\"\n",
    "    ipsi_fin = np.full(array1.shape[0], np.nan)\n",
    "    contra_fin = np.full(array2.shape[0], np.nan)\n",
    "\n",
    "    for i, dir_value in enumerate(ipsi_indicator):\n",
    "        if dir_value == 0:  # Left \n",
    "            ipsi_fin[i] = array1[i]\n",
    "            contra_fin[i] = array2[i]\n",
    "        elif dir_value == 1:  # Right\n",
    "            ipsi_fin[i] = array2[i]\n",
    "            contra_fin[i] = array1[i]\n",
    "    return ipsi_fin, contra_fin"
   ]
  },
  {
   "cell_type": "markdown",
   "id": "db48d9e1-f485-45ad-ba7e-975790a64b45",
   "metadata": {},
   "source": [
    "### Load data"
   ]
  },
  {
   "cell_type": "code",
   "execution_count": 5,
   "id": "7a4a0e92-9289-472d-b07a-df78dedd8650",
   "metadata": {},
   "outputs": [],
   "source": [
    "save_figure_path = Path(r'\\\\portulab.synology.me\\data\\Kata\\Figures_Paper\\Figure_2\\fig_2')"
   ]
  },
  {
   "cell_type": "code",
   "execution_count": 6,
   "id": "43802856-6b74-4433-902e-c9cf44ad204c",
   "metadata": {},
   "outputs": [
    {
     "data": {
      "text/plain": [
       "(WindowsPath('//portulab.synology.me/data/Kata/Processed_Data/tensor_data'),\n",
       " WindowsPath('//portulab.synology.me/data/Kata/Processed_Data/tensor_data/features_ipsi_contra.csv'))"
      ]
     },
     "execution_count": 6,
     "metadata": {},
     "output_type": "execute_result"
    }
   ],
   "source": [
    "master_path = Path(r'\\\\portulab.synology.me\\data\\Kata\\Processed_Data\\tensor_data')\n",
    "\n",
    "path_tensors = Path(master_path/ 'tensors' /'tensor_ipsi_contra_pos.h5')\n",
    "# path_features = Path(master_path/ 'features_bouts_new.csv')\n",
    "path_features = Path(master_path/ 'features_ipsi_contra.csv')\n",
    "master_path, path_features"
   ]
  },
  {
   "cell_type": "code",
   "execution_count": 7,
   "id": "7a50ad71-3d3f-4719-b89c-eb7314ac344f",
   "metadata": {},
   "outputs": [
    {
     "data": {
      "text/html": [
       "<div>\n",
       "<style scoped>\n",
       "    .dataframe tbody tr th:only-of-type {\n",
       "        vertical-align: middle;\n",
       "    }\n",
       "\n",
       "    .dataframe tbody tr th {\n",
       "        vertical-align: top;\n",
       "    }\n",
       "\n",
       "    .dataframe thead th {\n",
       "        text-align: right;\n",
       "    }\n",
       "</style>\n",
       "<table border=\"1\" class=\"dataframe\">\n",
       "  <thead>\n",
       "    <tr style=\"text-align: right;\">\n",
       "      <th></th>\n",
       "      <th>Unnamed: 0.1</th>\n",
       "      <th>Unnamed: 0</th>\n",
       "      <th>exp</th>\n",
       "      <th>fish_id</th>\n",
       "      <th>bout_angle</th>\n",
       "      <th>cluster</th>\n",
       "      <th>frame_start</th>\n",
       "      <th>frame_end</th>\n",
       "      <th>bout_id_orig</th>\n",
       "      <th>mb_proba</th>\n",
       "      <th>...</th>\n",
       "      <th>ipsi_peak_vigor</th>\n",
       "      <th>contra_peak_vigor</th>\n",
       "      <th>ipsi_freqs</th>\n",
       "      <th>contra_freqs</th>\n",
       "      <th>ipsi_osc</th>\n",
       "      <th>contra_osc</th>\n",
       "      <th>ipsi_duration</th>\n",
       "      <th>contra_duration</th>\n",
       "      <th>ipsi_max_freqs</th>\n",
       "      <th>contra_max_freqs</th>\n",
       "    </tr>\n",
       "  </thead>\n",
       "  <tbody>\n",
       "    <tr>\n",
       "      <th>0</th>\n",
       "      <td>0</td>\n",
       "      <td>0</td>\n",
       "      <td>13052024_visstim_2D_round</td>\n",
       "      <td>240513_f0</td>\n",
       "      <td>3.000171</td>\n",
       "      <td>0</td>\n",
       "      <td>18375</td>\n",
       "      <td>18410</td>\n",
       "      <td>78</td>\n",
       "      <td>0.806645</td>\n",
       "      <td>...</td>\n",
       "      <td>0.244681</td>\n",
       "      <td>0.164076</td>\n",
       "      <td>0.109756</td>\n",
       "      <td>0.105263</td>\n",
       "      <td>4</td>\n",
       "      <td>3</td>\n",
       "      <td>28.0</td>\n",
       "      <td>27.0</td>\n",
       "      <td>0.166667</td>\n",
       "      <td>0.166667</td>\n",
       "    </tr>\n",
       "    <tr>\n",
       "      <th>1</th>\n",
       "      <td>1</td>\n",
       "      <td>1</td>\n",
       "      <td>13052024_visstim_2D_round</td>\n",
       "      <td>240513_f0</td>\n",
       "      <td>1.649302</td>\n",
       "      <td>0</td>\n",
       "      <td>19461</td>\n",
       "      <td>19484</td>\n",
       "      <td>80</td>\n",
       "      <td>1.000000</td>\n",
       "      <td>...</td>\n",
       "      <td>0.163745</td>\n",
       "      <td>0.128555</td>\n",
       "      <td>0.119048</td>\n",
       "      <td>0.117647</td>\n",
       "      <td>2</td>\n",
       "      <td>2</td>\n",
       "      <td>19.0</td>\n",
       "      <td>15.0</td>\n",
       "      <td>0.250000</td>\n",
       "      <td>0.166667</td>\n",
       "    </tr>\n",
       "    <tr>\n",
       "      <th>2</th>\n",
       "      <td>2</td>\n",
       "      <td>2</td>\n",
       "      <td>13052024_visstim_2D_round</td>\n",
       "      <td>240513_f0</td>\n",
       "      <td>-0.861132</td>\n",
       "      <td>0</td>\n",
       "      <td>19661</td>\n",
       "      <td>19689</td>\n",
       "      <td>81</td>\n",
       "      <td>1.000000</td>\n",
       "      <td>...</td>\n",
       "      <td>0.219439</td>\n",
       "      <td>0.184779</td>\n",
       "      <td>0.104167</td>\n",
       "      <td>0.115385</td>\n",
       "      <td>3</td>\n",
       "      <td>2</td>\n",
       "      <td>27.0</td>\n",
       "      <td>16.0</td>\n",
       "      <td>0.125000</td>\n",
       "      <td>0.166667</td>\n",
       "    </tr>\n",
       "    <tr>\n",
       "      <th>3</th>\n",
       "      <td>3</td>\n",
       "      <td>3</td>\n",
       "      <td>13052024_visstim_2D_round</td>\n",
       "      <td>240513_f0</td>\n",
       "      <td>0.870591</td>\n",
       "      <td>0</td>\n",
       "      <td>20257</td>\n",
       "      <td>20292</td>\n",
       "      <td>84</td>\n",
       "      <td>1.000000</td>\n",
       "      <td>...</td>\n",
       "      <td>0.209418</td>\n",
       "      <td>0.198009</td>\n",
       "      <td>0.117647</td>\n",
       "      <td>0.117647</td>\n",
       "      <td>4</td>\n",
       "      <td>2</td>\n",
       "      <td>35.0</td>\n",
       "      <td>16.0</td>\n",
       "      <td>0.125000</td>\n",
       "      <td>0.166667</td>\n",
       "    </tr>\n",
       "    <tr>\n",
       "      <th>4</th>\n",
       "      <td>4</td>\n",
       "      <td>4</td>\n",
       "      <td>13052024_visstim_2D_round</td>\n",
       "      <td>240513_f0</td>\n",
       "      <td>2.231631</td>\n",
       "      <td>0</td>\n",
       "      <td>20824</td>\n",
       "      <td>20859</td>\n",
       "      <td>86</td>\n",
       "      <td>1.000000</td>\n",
       "      <td>...</td>\n",
       "      <td>0.220615</td>\n",
       "      <td>0.185247</td>\n",
       "      <td>0.103448</td>\n",
       "      <td>0.116667</td>\n",
       "      <td>3</td>\n",
       "      <td>3</td>\n",
       "      <td>22.0</td>\n",
       "      <td>23.0</td>\n",
       "      <td>0.125000</td>\n",
       "      <td>0.125000</td>\n",
       "    </tr>\n",
       "  </tbody>\n",
       "</table>\n",
       "<p>5 rows × 66 columns</p>\n",
       "</div>"
      ],
      "text/plain": [
       "   Unnamed: 0.1  Unnamed: 0                        exp    fish_id  bout_angle  \\\n",
       "0             0           0  13052024_visstim_2D_round  240513_f0    3.000171   \n",
       "1             1           1  13052024_visstim_2D_round  240513_f0    1.649302   \n",
       "2             2           2  13052024_visstim_2D_round  240513_f0   -0.861132   \n",
       "3             3           3  13052024_visstim_2D_round  240513_f0    0.870591   \n",
       "4             4           4  13052024_visstim_2D_round  240513_f0    2.231631   \n",
       "\n",
       "   cluster  frame_start  frame_end  bout_id_orig  mb_proba  ...  \\\n",
       "0        0        18375      18410            78  0.806645  ...   \n",
       "1        0        19461      19484            80  1.000000  ...   \n",
       "2        0        19661      19689            81  1.000000  ...   \n",
       "3        0        20257      20292            84  1.000000  ...   \n",
       "4        0        20824      20859            86  1.000000  ...   \n",
       "\n",
       "   ipsi_peak_vigor  contra_peak_vigor  ipsi_freqs  contra_freqs  ipsi_osc  \\\n",
       "0         0.244681           0.164076    0.109756      0.105263         4   \n",
       "1         0.163745           0.128555    0.119048      0.117647         2   \n",
       "2         0.219439           0.184779    0.104167      0.115385         3   \n",
       "3         0.209418           0.198009    0.117647      0.117647         4   \n",
       "4         0.220615           0.185247    0.103448      0.116667         3   \n",
       "\n",
       "   contra_osc  ipsi_duration  contra_duration  ipsi_max_freqs  \\\n",
       "0           3           28.0             27.0        0.166667   \n",
       "1           2           19.0             15.0        0.250000   \n",
       "2           2           27.0             16.0        0.125000   \n",
       "3           2           35.0             16.0        0.125000   \n",
       "4           3           22.0             23.0        0.125000   \n",
       "\n",
       "   contra_max_freqs  \n",
       "0          0.166667  \n",
       "1          0.166667  \n",
       "2          0.166667  \n",
       "3          0.166667  \n",
       "4          0.125000  \n",
       "\n",
       "[5 rows x 66 columns]"
      ]
     },
     "execution_count": 7,
     "metadata": {},
     "output_type": "execute_result"
    }
   ],
   "source": [
    "features = pd.read_csv(path_features)\n",
    "features.head()"
   ]
  },
  {
   "cell_type": "code",
   "execution_count": 8,
   "id": "cff4d8a9-3811-4aef-a886-51e3eafdb6ff",
   "metadata": {},
   "outputs": [],
   "source": [
    "clusters = features.cluster"
   ]
  },
  {
   "cell_type": "code",
   "execution_count": 9,
   "id": "8389cec2-f2cb-46b0-8345-00db605e8817",
   "metadata": {},
   "outputs": [
    {
     "data": {
      "text/plain": [
       "(11063, 3, 50)"
      ]
     },
     "execution_count": 9,
     "metadata": {},
     "output_type": "execute_result"
    }
   ],
   "source": [
    "### tail, fin 1, fin 2\n",
    "traces =  fl.load(path_tensors)\n",
    "traces.shape"
   ]
  },
  {
   "cell_type": "code",
   "execution_count": 10,
   "id": "6baf16c7-3cc2-43a4-87ba-f252e1fc6c17",
   "metadata": {},
   "outputs": [],
   "source": [
    "leading_fin = features.leading_fin.values\n",
    "ipsi_fin = features.ipsi_fin.values"
   ]
  },
  {
   "cell_type": "code",
   "execution_count": 11,
   "id": "a6eeec53-72dd-4e86-8749-e671d12751f4",
   "metadata": {},
   "outputs": [],
   "source": [
    "t_feature_vector_array = fl.load(master_path/ 'peaks_valleys'/  't_feature_vector_array.h5')\n",
    "l_feature_vector_array = fl.load(master_path/ 'peaks_valleys'/  'l_feature_vector_array.h5')\n",
    "r_feature_vector_array = fl.load(master_path/ 'peaks_valleys'/  'r_feature_vector_array.h5')\n",
    "\n",
    "laterality = fl.load(master_path/ 'features'/'bout_laterality.h5')"
   ]
  },
  {
   "cell_type": "code",
   "execution_count": 12,
   "id": "b91b98e7-60d8-4350-8c0e-874a100154d5",
   "metadata": {},
   "outputs": [
    {
     "name": "stdout",
     "output_type": "stream",
     "text": [
      "Reshaped array shape: (11063, 4, 9)\n",
      "Reshaped array shape: (11063, 4, 9)\n",
      "Reshaped array shape: (11063, 4, 9)\n"
     ]
    }
   ],
   "source": [
    "max_n=9\n",
    "reshaped_array, peaks_a_array, peaks_i_array, valleys_a_array, valleys_i_array = reshape_feature_array(t_feature_vector_array)\n",
    "l_reshaped_array, l_peaks_a_array, l_peaks_i_array, l_valleys_a_array, l_valleys_i_array = reshape_feature_array(l_feature_vector_array)\n",
    "r_reshaped_array, r_peaks_a_array, r_peaks_i_array, r_valleys_a_array, r_valleys_i_array = reshape_feature_array(r_feature_vector_array)"
   ]
  },
  {
   "cell_type": "code",
   "execution_count": 13,
   "id": "d64e04c2-2bf3-472c-bf3e-ee1d62da6b4c",
   "metadata": {},
   "outputs": [],
   "source": [
    "ipsi_amp = features.ipsi_amp_0\n",
    "contra_amp = features.contra_amp_0"
   ]
  },
  {
   "cell_type": "code",
   "execution_count": 14,
   "id": "8ebff514-9759-4456-8a34-967fc793c74b",
   "metadata": {},
   "outputs": [],
   "source": [
    "ipsi_peaks_a_array_0, contra_peaks_a_array_0 = sort_ipsi_contra_arrays(l_peaks_a_array[:,0], r_peaks_a_array[:,0], ipsi_fin)\n",
    "ipsi_peaks_a_array_1, contra_peaks_a_array_1 = sort_ipsi_contra_arrays(l_peaks_a_array[:,1], r_peaks_a_array[:,1], ipsi_fin)\n",
    "ipsi_peaks_a_array_2, contra_peaks_a_array_2 = sort_ipsi_contra_arrays(l_peaks_a_array[:,2], r_peaks_a_array[:,2], ipsi_fin)\n",
    "ipsi_peaks_a_array_3, contra_peaks_a_array_3 = sort_ipsi_contra_arrays(l_peaks_a_array[:,3], r_peaks_a_array[:,3], ipsi_fin)"
   ]
  },
  {
   "cell_type": "code",
   "execution_count": 15,
   "id": "2397cfd2-c1e8-40e1-b229-bbccc76bebdb",
   "metadata": {},
   "outputs": [
    {
     "data": {
      "text/plain": [
       "(11063, 4)"
      ]
     },
     "execution_count": 15,
     "metadata": {},
     "output_type": "execute_result"
    }
   ],
   "source": [
    "data_ipsis = np.stack([ipsi_peaks_a_array_0, ipsi_peaks_a_array_1, ipsi_peaks_a_array_2, ipsi_peaks_a_array_3]).T\n",
    "data_contras = np.stack([contra_peaks_a_array_0, contra_peaks_a_array_1, contra_peaks_a_array_2, contra_peaks_a_array_3]).T\n",
    "\n",
    "data_ipsis.shape"
   ]
  },
  {
   "cell_type": "markdown",
   "id": "c546a814-d199-4a1a-989e-603337fb2846",
   "metadata": {},
   "source": [
    "## Leading fin plot"
   ]
  },
  {
   "cell_type": "code",
   "execution_count": 16,
   "id": "383ffb05-4c83-4bdb-8327-4b0c1dc4db38",
   "metadata": {},
   "outputs": [
    {
     "name": "stdout",
     "output_type": "stream",
     "text": [
      "[0. 1. 0. ... 0. 0. 1.]\n"
     ]
    }
   ],
   "source": [
    "leading_fin_ipsi_contra = assign_leading_fin(leading_fin, ipsi_fin)\n",
    "print(leading_fin_ipsi_contra)\n"
   ]
  },
  {
   "cell_type": "code",
   "execution_count": 17,
   "id": "0475da6c-0be6-4fab-b4be-9880c5abf3aa",
   "metadata": {},
   "outputs": [],
   "source": [
    "leading_fin_ipsi_contra[leading_fin ==2] = 2"
   ]
  },
  {
   "cell_type": "code",
   "execution_count": 18,
   "id": "1bf99a25-ade5-4337-adee-3065a9d28998",
   "metadata": {},
   "outputs": [],
   "source": [
    "tbf_output = fl.load(master_path / 'tbf_fbf'/ 'tbf_output.h5')"
   ]
  },
  {
   "cell_type": "code",
   "execution_count": 19,
   "id": "ec202318-5bdd-44df-aeb6-d08be448042e",
   "metadata": {},
   "outputs": [],
   "source": [
    "ipsi_mask = features['ipsi_fin'].values.astype(int)\n",
    "contra_mask = np.where((ipsi_mask==0)|(ipsi_mask==1), ipsi_mask^1, ipsi_mask)"
   ]
  },
  {
   "cell_type": "code",
   "execution_count": 20,
   "id": "b40565cd-20b0-4d82-9e13-b77d907d9ef2",
   "metadata": {},
   "outputs": [
    {
     "data": {
      "text/plain": [
       "0.005"
      ]
     },
     "execution_count": 20,
     "metadata": {},
     "output_type": "execute_result"
    }
   ],
   "source": [
    "dt = 0.25/traces.shape[2]\n",
    "dt"
   ]
  },
  {
   "cell_type": "code",
   "execution_count": 21,
   "id": "7929503e-fd30-4195-bfe6-c8836129232e",
   "metadata": {},
   "outputs": [
    {
     "name": "stdout",
     "output_type": "stream",
     "text": [
      "FWD Mask: [ True  True  True ... False  True  True]\n",
      "TRN Mask: [False False False ...  True False False]\n"
     ]
    }
   ],
   "source": [
    "fwd = [0,1,2,3]\n",
    "trn = [4,5,6]\n",
    "\n",
    "# Create masks for each cluster\n",
    "fwd_mask = np.isin(clusters, fwd)\n",
    "trn_mask = np.isin(clusters, trn)\n",
    "\n",
    "# Display the results\n",
    "print(\"FWD Mask:\", fwd_mask)\n",
    "print(\"TRN Mask:\", trn_mask)\n",
    "\n",
    "masks = [fwd_mask, trn_mask]"
   ]
  },
  {
   "cell_type": "markdown",
   "id": "c9f85f46-792d-4199-bd0b-892873e61003",
   "metadata": {},
   "source": [
    "### plot"
   ]
  },
  {
   "cell_type": "code",
   "execution_count": 22,
   "id": "f036df67-8d5e-4ee1-80e1-5adfac9b3c2b",
   "metadata": {},
   "outputs": [],
   "source": [
    "alph = 0.005\n",
    "cutoff=500\n",
    "cycles=3\n",
    "width = 0.35  # Width of the ba\n",
    "lw=0.5\n",
    "cm = 1/2.54  # centimeters in inches\n",
    "f_size = 6\n",
    "dpi=600"
   ]
  },
  {
   "cell_type": "code",
   "execution_count": 25,
   "id": "c3f560b3-4935-4285-bd65-c5314ad7bcd9",
   "metadata": {},
   "outputs": [
    {
     "data": {
      "image/png": "[encoded data removed]",
      "text/plain": [
       "<Figure size 295.276x275.591 with 4 Axes>"
      ]
     },
     "metadata": {},
     "output_type": "display_data"
    }
   ],
   "source": [
    "fig = plt.figure(figsize=(7.5*cm, 7*cm))\n",
    "gs = gridspec.GridSpec(2, 2, height_ratios=[1, 1])  # 4 rows, third row is twice as high\n",
    "\n",
    "ax1 = plt.subplot(gs[0, 0])  # first row, first column\n",
    "ax2 = plt.subplot(gs[0, 1])  # first row, second column\n",
    "ax3 = plt.subplot(gs[1, 0])  # second row, first column\n",
    "ax4 = plt.subplot(gs[1, 1])  # second row, second column\n",
    "\n",
    "ax1.plot(traces[masks[0]][:cutoff,1,:].T, c=color_ipsi_cont[0], alpha=alph, lw=lw)\n",
    "ax1.plot(traces[masks[0]][:cutoff,2,:].T, c=color_ipsi_cont[1], alpha=alph, lw=lw)\n",
    "ax1.plot(np.mean(traces[masks[0]][:cutoff,1,:],axis=0), c=color_ipsi_cont[0], alpha=1, lw=lw)\n",
    "ax1.plot(np.mean(traces[masks[0]][:cutoff,2,:],axis=0), c=color_ipsi_cont[1], alpha=1, lw=lw)\n",
    "\n",
    "ax2.plot(traces[masks[1]][:cutoff,1,:].T, c=color_ipsi_cont[0], alpha=alph, lw=lw)\n",
    "ax2.plot(traces[masks[1]][:cutoff,2,:].T, c=color_ipsi_cont[1], alpha=alph, lw=lw)\n",
    "ax2.plot(np.mean(traces[masks[1]][:cutoff,1,:],axis=0), c=color_ipsi_cont[0], alpha=1, lw=lw)\n",
    "ax2.plot(np.mean(traces[masks[1]][:cutoff,2,:],axis=0), c=color_ipsi_cont[1], alpha=1, lw=lw)\n",
    "\n",
    "ax1.set_title('Forward Swims', fontsize=f_size)\n",
    "ax2.set_title('Turns', fontsize=f_size)\n",
    "ax1.set_ylabel('Angle [rad]', fontsize=f_size)\n",
    "\n",
    "for ax in [ax1, ax2]:\n",
    "    ax.set_xticks(np.arange(0,51,25))\n",
    "    ax.set_xticklabels(np.arange(0,251,125), fontsize=f_size)\n",
    "    ax.set_xlabel('time [ms]', fontsize=f_size)\n",
    "    ax.set_yticks([0,0.5, 1, 1.5])\n",
    "    ax.set_yticklabels([0,0.5, 1, 1.5], fontsize=f_size)\n",
    "    ax.set_ylim(-0.15, 1.5)\n",
    "\n",
    "filtered_data = leading_fin_ipsi_contra[masks[0]]\n",
    "counts = pd.Series(filtered_data).value_counts().sort_index()\n",
    "total = len(filtered_data)\n",
    "counts_normalized = counts / total\n",
    "ax3.bar(counts.index, counts_normalized, width=1, color=[color_ipsi_cont[0], color_ipsi_cont[1], color_ipsi_cont[2]], edgecolor='white')\n",
    "\n",
    "filtered_data = leading_fin_ipsi_contra[masks[1]]\n",
    "counts = pd.Series(filtered_data).value_counts().sort_index()\n",
    "total = len(filtered_data)\n",
    "counts_normalized = counts / total\n",
    "ax4.bar(counts.index, counts_normalized, width=1, color=[color_ipsi_cont[0], color_ipsi_cont[1], color_ipsi_cont[2]], edgecolor='white')\n",
    "\n",
    "ax3.set_ylabel('Fraction', fontsize=f_size)\n",
    "for ax in [ax3, ax4]:\n",
    "    ax.set_yticks(np.arange(0, 1.01, 0.5))\n",
    "    ax.set_xticks(np.arange(0, 3))\n",
    "    ax.set_xticklabels(['Ipsi', 'Contra', 'Equal'], rotation=90, fontsize=f_size)\n",
    "    ax.set_yticklabels(np.round(np.arange(0, 1.01, 0.5),2), fontsize=f_size)\n",
    "    ax.set_xlim(-0.6,2.6)\n",
    "    ax.set_ylim(0,1)\n",
    "\n",
    "for ax in [ax1, ax2, ax3, ax4]:\n",
    "    ax.spines['bottom'].set_color('black')\n",
    "    ax.spines['top'].set_color('black') \n",
    "    ax.spines['right'].set_color('black')\n",
    "    ax.spines['left'].set_color('black')\n",
    "\n",
    "    ax.xaxis.label.set_color('black')\n",
    "    ax.yaxis.label.set_color('black')\n",
    "    ax.title.set_color('black')\n",
    "\n",
    "    ax.tick_params(axis='x', colors='black')\n",
    "    ax.tick_params(axis='y', colors='black')\n",
    "    \n",
    "sns.despine(top=True, right=True, left=False, bottom=False, offset=None, trim=False)\n",
    "plt.tight_layout()\n",
    "\n",
    "if save_figure_path is not None:\n",
    "    fig.savefig(save_figure_path / 'fins_comp_panel_1_h.png', dpi=dpi)\n",
    "    fig.savefig(save_figure_path / 'fins_comp_panel_1_h.pdf', dpi=dpi)"
   ]
  },
  {
   "cell_type": "code",
   "execution_count": null,
   "id": "45d90f93-00ef-47e0-b5e5-fc641b7ee509",
   "metadata": {},
   "outputs": [],
   "source": []
  },
  {
   "cell_type": "code",
   "execution_count": null,
   "id": "2d77a85d-a847-4d86-8bb8-1e0df6c41ec0",
   "metadata": {},
   "outputs": [],
   "source": []
  },
  {
   "cell_type": "code",
   "execution_count": null,
   "id": "294dbfd5-0530-489b-b440-8a2cec97c9f9",
   "metadata": {},
   "outputs": [],
   "source": []
  }
 ],
 "metadata": {
  "kernelspec": {
   "display_name": "Python 3 (ipykernel)",
   "language": "python",
   "name": "python3"
  },
  "language_info": {
   "codemirror_mode": {
    "name": "ipython",
    "version": 3
   },
   "file_extension": ".py",
   "mimetype": "text/x-python",
   "name": "python",
   "nbconvert_exporter": "python",
   "pygments_lexer": "ipython3",
   "version": "3.11.5"
  }
 },
 "nbformat": 4,
 "nbformat_minor": 5
}
