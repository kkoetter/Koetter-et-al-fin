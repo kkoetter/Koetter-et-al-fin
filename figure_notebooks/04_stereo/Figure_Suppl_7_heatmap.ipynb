{
 "cells": [
  {
   "cell_type": "code",
   "execution_count": 2,
   "id": "3a31cc7e-d8dd-436c-b2b3-5d7e0adcb9fc",
   "metadata": {},
   "outputs": [],
   "source": [
    "%load_ext autoreload\n",
    "%autoreload 2\n",
    "import warnings\n",
    "warnings.filterwarnings('ignore')"
   ]
  },
  {
   "cell_type": "code",
   "execution_count": 3,
   "id": "21cbfde8-ee44-4b83-aede-60a2c86fd14d",
   "metadata": {},
   "outputs": [],
   "source": [
    "import numpy as np\n",
    "import pandas as pd\n",
    "import matplotlib.pyplot as plt\n",
    "from pathlib import Path\n",
    "import glob\n",
    "import h5py\n",
    "import flammkuchen as fl\n",
    "\n",
    "import seaborn as sns\n",
    "import matplotlib.pyplot as plt\n",
    "\n",
    "from sklearn.preprocessing import StandardScaler\n",
    "from sklearn.preprocessing import MinMaxScaler"
   ]
  },
  {
   "cell_type": "code",
   "execution_count": 4,
   "id": "6cf4b837-94ed-4076-bfc2-865e777430e3",
   "metadata": {},
   "outputs": [],
   "source": [
    "from fig_4_helper import sort_ipsi_contra_arrays, reshape_feature_array, get_ipsi_contra_col\n",
    "from fig_4_helper import catname"
   ]
  },
  {
   "cell_type": "code",
   "execution_count": 6,
   "id": "7a4a0e92-9289-472d-b07a-df78dedd8650",
   "metadata": {},
   "outputs": [],
   "source": [
    "save_figure_path = Path(r'\\\\portulab.synology.me\\data\\Kata\\Figures_Paper\\Figure_3\\supp\\suppl_7')"
   ]
  },
  {
   "cell_type": "code",
   "execution_count": 7,
   "id": "43802856-6b74-4433-902e-c9cf44ad204c",
   "metadata": {},
   "outputs": [
    {
     "data": {
      "text/plain": [
       "(WindowsPath('//portulab.synology.me/data/Kata/Processed_Data/tensor_data'),\n",
       " WindowsPath('//portulab.synology.me/data/Kata/Processed_Data/tensor_data/features_ipsi_contra.csv'))"
      ]
     },
     "execution_count": 7,
     "metadata": {},
     "output_type": "execute_result"
    }
   ],
   "source": [
    "master_path = Path(r'\\\\portulab.synology.me\\data\\Kata\\Processed_Data\\tensor_data')\n",
    "path_features = Path(master_path/ 'features_ipsi_contra.csv')\n",
    "master_path, path_features"
   ]
  },
  {
   "cell_type": "code",
   "execution_count": 11,
   "id": "ffbe3630-883b-461d-92a3-9c128852abe5",
   "metadata": {},
   "outputs": [],
   "source": [
    "l_feature_vector_array = fl.load(master_path/ 'peaks_valleys'/ 'l_feature_vector_array.h5')\n",
    "r_feature_vector_array = fl.load(master_path/ 'peaks_valleys'/ 'r_feature_vector_array.h5')"
   ]
  },
  {
   "cell_type": "code",
   "execution_count": 19,
   "id": "fbca8347-0b95-4622-ab5a-0dd177ce03c2",
   "metadata": {},
   "outputs": [],
   "source": [
    "l_periods_array = fl.load(master_path/ 'features'/ 'l_full_beats.h5')\n",
    "l_half_beats_array = fl.load(master_path/ 'features'/ 'l_half_beats.h5')\n",
    "r_periods_array = fl.load(master_path/ 'features'/ 'r_full_beats.h5')\n",
    "r_half_beats_array = fl.load(master_path/ 'features'/ 'r_half_beats.h5')"
   ]
  },
  {
   "cell_type": "code",
   "execution_count": 8,
   "id": "9153cc4e-efae-46a7-b2e2-d935d5026a22",
   "metadata": {},
   "outputs": [],
   "source": [
    "path_tensors_ipsi = Path(master_path/ 'tensors'/ 'tensor_ipsi_contra.h5')\n",
    "traces =  fl.load(path_tensors_ipsi)\n",
    "ipsi_fin = traces[:, 1, :]\n",
    "contra_fin = traces[:, 2, :]"
   ]
  },
  {
   "cell_type": "code",
   "execution_count": 35,
   "id": "7a50ad71-3d3f-4719-b89c-eb7314ac344f",
   "metadata": {},
   "outputs": [],
   "source": [
    "features = pd.read_csv(path_features)\n",
    "clusters = features.cluster\n",
    "ipsi_fin_values = features.ipsi_fin.values"
   ]
  },
  {
   "cell_type": "markdown",
   "id": "266c00e9-169f-4002-9b43-12a6e675850d",
   "metadata": {},
   "source": [
    "#### Read in amplitudes"
   ]
  },
  {
   "cell_type": "code",
   "execution_count": 12,
   "id": "bad945e5-1d81-4d48-9efd-070bfb2fe0c3",
   "metadata": {},
   "outputs": [
    {
     "name": "stdout",
     "output_type": "stream",
     "text": [
      "Reshaped array shape: (11063, 4, 9)\n",
      "Reshaped array shape: (11063, 4, 9)\n"
     ]
    }
   ],
   "source": [
    "l_reshaped_array, l_peaks_a_array, l_peaks_i_array, l_valleys_a_array, l_valleys_i_array = reshape_feature_array(l_feature_vector_array)\n",
    "r_reshaped_array, r_peaks_a_array, r_peaks_i_array, r_valleys_a_array, r_valleys_i_array = reshape_feature_array(r_feature_vector_array)"
   ]
  },
  {
   "cell_type": "markdown",
   "id": "01442dfb-8d83-4a27-ad64-c90c69e2992c",
   "metadata": {},
   "source": [
    "#### Get max amplitude of fin"
   ]
  },
  {
   "cell_type": "code",
   "execution_count": 13,
   "id": "3a6c9b51-4df2-4152-ac5e-512d919e7a44",
   "metadata": {},
   "outputs": [],
   "source": [
    "l_max_amp = np.nanmax(l_peaks_a_array,axis=1)\n",
    "r_max_amp = np.nanmax(r_peaks_a_array,axis=1)"
   ]
  },
  {
   "cell_type": "code",
   "execution_count": 14,
   "id": "f4cc5ef4-f21f-4901-a279-a072f47279ac",
   "metadata": {},
   "outputs": [],
   "source": [
    "ipsi_max_amp, contra_max_amp = sort_ipsi_contra_arrays(l_max_amp, r_max_amp ,ipsi_fin_values)"
   ]
  },
  {
   "cell_type": "markdown",
   "id": "45e7fb77-0de8-42d0-81f4-820b74f8337d",
   "metadata": {},
   "source": [
    "### amplitude 1st and 2nd peak"
   ]
  },
  {
   "cell_type": "code",
   "execution_count": 15,
   "id": "cf398cda-f9ee-4629-8141-7b7db33b4404",
   "metadata": {},
   "outputs": [],
   "source": [
    "ipsi_amp_1, contra_amp_1 = sort_ipsi_contra_arrays(l_peaks_a_array[:,0], r_peaks_a_array[:,0] ,ipsi_fin_values)"
   ]
  },
  {
   "cell_type": "code",
   "execution_count": 16,
   "id": "0db7e17d-8d88-4ae0-b6d6-892a310e260a",
   "metadata": {},
   "outputs": [],
   "source": [
    "ipsi_amp_2, contra_amp_2 = sort_ipsi_contra_arrays(l_peaks_a_array[:,1], r_peaks_a_array[:,1] ,ipsi_fin_values)"
   ]
  },
  {
   "cell_type": "markdown",
   "id": "32da9c4d-5a1e-4978-940a-68ccbe214651",
   "metadata": {},
   "source": [
    "### Get difference in amplitude 1st and 2nd peak"
   ]
  },
  {
   "cell_type": "code",
   "execution_count": 17,
   "id": "c609b033-e534-4b84-974c-eb37f49f720b",
   "metadata": {},
   "outputs": [],
   "source": [
    "l_diff_peaks = np.diff(l_peaks_a_array, axis=1)[:,0]\n",
    "r_diff_peaks = np.diff(r_peaks_a_array, axis=1)[:,0]"
   ]
  },
  {
   "cell_type": "code",
   "execution_count": 18,
   "id": "123867ed-549c-425b-b150-071a12cb3ff8",
   "metadata": {},
   "outputs": [],
   "source": [
    "ipsi_diff_peaks, contra_diff_peaks = sort_ipsi_contra_arrays(l_diff_peaks, r_diff_peaks ,ipsi_fin_values)"
   ]
  },
  {
   "cell_type": "markdown",
   "id": "b1ff43fa-bdc9-4a83-83d2-88254ed5f344",
   "metadata": {},
   "source": [
    "#### Beats and halfbeats "
   ]
  },
  {
   "cell_type": "code",
   "execution_count": 20,
   "id": "eab035bd-ca1b-4588-9f65-952bba861bae",
   "metadata": {},
   "outputs": [],
   "source": [
    "l_peaks_diff = l_periods_array[:,0]\n",
    "r_peaks_diff = r_periods_array[:,0]"
   ]
  },
  {
   "cell_type": "code",
   "execution_count": 21,
   "id": "2654c902-63f3-42f8-b7b7-6c79b3d52bfe",
   "metadata": {},
   "outputs": [],
   "source": [
    "ipsi_peak_diff_1, contra_peak_diff_1 = sort_ipsi_contra_arrays(l_peaks_diff, r_peaks_diff ,ipsi_fin_values)"
   ]
  },
  {
   "cell_type": "code",
   "execution_count": 22,
   "id": "40186973-9b22-4d04-8d56-c0b8f5b1ae5b",
   "metadata": {},
   "outputs": [],
   "source": [
    "ipsi_peak_diff_2, contra_peak_diff_2 = sort_ipsi_contra_arrays(l_peaks_diff, r_peaks_diff ,ipsi_fin_values)"
   ]
  },
  {
   "cell_type": "markdown",
   "id": "4553dbda-a782-46bb-a8ef-82a1fb80112f",
   "metadata": {},
   "source": [
    "### Rework Dataframe into ipsi contra format"
   ]
  },
  {
   "cell_type": "code",
   "execution_count": 23,
   "id": "fab16731-6047-44e2-8e2c-e41edd4238c0",
   "metadata": {},
   "outputs": [],
   "source": [
    "ipsi_durations, contra_durations = get_ipsi_contra_col(features, 'l_fin_duration', 'r_fin_duration', 'ipsi_fin')\n",
    "ipsi_freqs, contra_freqs = get_ipsi_contra_col(features, 'l_fin_freqs', 'r_fin_freqs', 'ipsi_fin')\n",
    "ipsi_osc, contra_osc = get_ipsi_contra_col(features, 'l_osc', 'r_osc', 'ipsi_fin')"
   ]
  },
  {
   "cell_type": "markdown",
   "id": "e495a4d8-73cb-434f-a897-a9c6fe91e823",
   "metadata": {},
   "source": [
    "#### Get corr ipsi contra fin"
   ]
  },
  {
   "cell_type": "code",
   "execution_count": 24,
   "id": "1978adb3-c6d7-4195-9b92-9ade386b7c29",
   "metadata": {},
   "outputs": [],
   "source": [
    "ispi_contra_corr = np.full((traces.shape[0], 1), np.nan)\n",
    "\n",
    "for bout in range(traces.shape[0]):\n",
    "    cross_ipsi_contra = np.corrcoef(ipsi_fin[bout, :], contra_fin[bout, :])\n",
    "    ispi_contra_corr[bout] = cross_ipsi_contra[0][1]"
   ]
  },
  {
   "cell_type": "code",
   "execution_count": 25,
   "id": "1f08d71f-fb55-4de8-911c-df02f439c81f",
   "metadata": {},
   "outputs": [],
   "source": [
    "ispi_contra_corr = ispi_contra_corr.flatten()"
   ]
  },
  {
   "cell_type": "markdown",
   "id": "e1936c57-8fae-4468-85c8-63c5d79f7ab3",
   "metadata": {},
   "source": [
    "## Make Heatmap"
   ]
  },
  {
   "cell_type": "code",
   "execution_count": 26,
   "id": "5d0a490c-a61f-4827-8292-b8cf8816beb8",
   "metadata": {},
   "outputs": [],
   "source": [
    "column_names =  [\n",
    "    'ipsi_n_oscillation', 'contra_n_oscillation',\n",
    "    'ipsi_frequency', 'contra_frequency',\n",
    "    'ipsi_max_amplitude', 'contra_max_amplitude', \n",
    "    'ipsi_fin_duration', 'contra_fin_duration',\n",
    "    'ipsi_amp_diff_peaks', 'contra_amp_diff_peaks',\n",
    "    'ipsi_amp_1', 'contra_amp_1',\n",
    "    'ipsi_amp_2', 'contra_amp_2',\n",
    "    'ipsi_t_diff_peak_1', 'contra_t_diff_peak_1',\n",
    "    'ipsi_t_diff_peak_2', 'contra_t_diff_peak_2',\n",
    "    'ispi_contra_correlation']"
   ]
  },
  {
   "cell_type": "code",
   "execution_count": 27,
   "id": "6c024520-ca30-45c2-9dbf-d21a464f7393",
   "metadata": {},
   "outputs": [
    {
     "data": {
      "text/html": [
       "<div>\n",
       "<style scoped>\n",
       "    .dataframe tbody tr th:only-of-type {\n",
       "        vertical-align: middle;\n",
       "    }\n",
       "\n",
       "    .dataframe tbody tr th {\n",
       "        vertical-align: top;\n",
       "    }\n",
       "\n",
       "    .dataframe thead th {\n",
       "        text-align: right;\n",
       "    }\n",
       "</style>\n",
       "<table border=\"1\" class=\"dataframe\">\n",
       "  <thead>\n",
       "    <tr style=\"text-align: right;\">\n",
       "      <th></th>\n",
       "      <th>ipsi_n_oscillation</th>\n",
       "      <th>contra_n_oscillation</th>\n",
       "      <th>ipsi_frequency</th>\n",
       "      <th>contra_frequency</th>\n",
       "      <th>ipsi_max_amplitude</th>\n",
       "      <th>contra_max_amplitude</th>\n",
       "      <th>ipsi_fin_duration</th>\n",
       "      <th>contra_fin_duration</th>\n",
       "      <th>ipsi_amp_diff_peaks</th>\n",
       "      <th>contra_amp_diff_peaks</th>\n",
       "      <th>ipsi_amp_1</th>\n",
       "      <th>contra_amp_1</th>\n",
       "      <th>ipsi_amp_2</th>\n",
       "      <th>contra_amp_2</th>\n",
       "      <th>ipsi_t_diff_peak_1</th>\n",
       "      <th>contra_t_diff_peak_1</th>\n",
       "      <th>ipsi_t_diff_peak_2</th>\n",
       "      <th>contra_t_diff_peak_2</th>\n",
       "      <th>ispi_contra_correlation</th>\n",
       "    </tr>\n",
       "  </thead>\n",
       "  <tbody>\n",
       "    <tr>\n",
       "      <th>0</th>\n",
       "      <td>4.0</td>\n",
       "      <td>3.0</td>\n",
       "      <td>0.109756</td>\n",
       "      <td>0.105263</td>\n",
       "      <td>0.798017</td>\n",
       "      <td>0.340697</td>\n",
       "      <td>28.0</td>\n",
       "      <td>27.0</td>\n",
       "      <td>0.210910</td>\n",
       "      <td>0.077020</td>\n",
       "      <td>0.465832</td>\n",
       "      <td>0.263677</td>\n",
       "      <td>0.676743</td>\n",
       "      <td>0.340697</td>\n",
       "      <td>0.040</td>\n",
       "      <td>0.045</td>\n",
       "      <td>0.040</td>\n",
       "      <td>0.045</td>\n",
       "      <td>0.138358</td>\n",
       "    </tr>\n",
       "    <tr>\n",
       "      <th>1</th>\n",
       "      <td>2.0</td>\n",
       "      <td>2.0</td>\n",
       "      <td>0.119048</td>\n",
       "      <td>0.117647</td>\n",
       "      <td>0.432741</td>\n",
       "      <td>0.296224</td>\n",
       "      <td>19.0</td>\n",
       "      <td>15.0</td>\n",
       "      <td>-0.148951</td>\n",
       "      <td>0.145172</td>\n",
       "      <td>0.432741</td>\n",
       "      <td>0.151052</td>\n",
       "      <td>0.283789</td>\n",
       "      <td>0.296224</td>\n",
       "      <td>0.040</td>\n",
       "      <td>0.035</td>\n",
       "      <td>0.040</td>\n",
       "      <td>0.035</td>\n",
       "      <td>-0.085082</td>\n",
       "    </tr>\n",
       "    <tr>\n",
       "      <th>2</th>\n",
       "      <td>3.0</td>\n",
       "      <td>2.0</td>\n",
       "      <td>0.104167</td>\n",
       "      <td>0.115385</td>\n",
       "      <td>0.620835</td>\n",
       "      <td>0.431473</td>\n",
       "      <td>27.0</td>\n",
       "      <td>16.0</td>\n",
       "      <td>0.245164</td>\n",
       "      <td>-0.083179</td>\n",
       "      <td>0.369907</td>\n",
       "      <td>0.431473</td>\n",
       "      <td>0.615071</td>\n",
       "      <td>0.348294</td>\n",
       "      <td>0.045</td>\n",
       "      <td>0.045</td>\n",
       "      <td>0.045</td>\n",
       "      <td>0.045</td>\n",
       "      <td>0.011863</td>\n",
       "    </tr>\n",
       "    <tr>\n",
       "      <th>3</th>\n",
       "      <td>4.0</td>\n",
       "      <td>2.0</td>\n",
       "      <td>0.117647</td>\n",
       "      <td>0.117647</td>\n",
       "      <td>0.569168</td>\n",
       "      <td>0.534200</td>\n",
       "      <td>35.0</td>\n",
       "      <td>16.0</td>\n",
       "      <td>0.173791</td>\n",
       "      <td>0.010773</td>\n",
       "      <td>0.395376</td>\n",
       "      <td>0.523427</td>\n",
       "      <td>0.569168</td>\n",
       "      <td>0.534200</td>\n",
       "      <td>0.040</td>\n",
       "      <td>0.035</td>\n",
       "      <td>0.040</td>\n",
       "      <td>0.035</td>\n",
       "      <td>0.129337</td>\n",
       "    </tr>\n",
       "    <tr>\n",
       "      <th>4</th>\n",
       "      <td>3.0</td>\n",
       "      <td>3.0</td>\n",
       "      <td>0.103448</td>\n",
       "      <td>0.116667</td>\n",
       "      <td>0.606922</td>\n",
       "      <td>0.503003</td>\n",
       "      <td>22.0</td>\n",
       "      <td>23.0</td>\n",
       "      <td>0.039418</td>\n",
       "      <td>0.119273</td>\n",
       "      <td>0.567504</td>\n",
       "      <td>0.251714</td>\n",
       "      <td>0.606922</td>\n",
       "      <td>0.370987</td>\n",
       "      <td>0.040</td>\n",
       "      <td>0.040</td>\n",
       "      <td>0.040</td>\n",
       "      <td>0.040</td>\n",
       "      <td>-0.017081</td>\n",
       "    </tr>\n",
       "  </tbody>\n",
       "</table>\n",
       "</div>"
      ],
      "text/plain": [
       "   ipsi_n_oscillation  contra_n_oscillation  ipsi_frequency  contra_frequency  \\\n",
       "0                 4.0                   3.0        0.109756          0.105263   \n",
       "1                 2.0                   2.0        0.119048          0.117647   \n",
       "2                 3.0                   2.0        0.104167          0.115385   \n",
       "3                 4.0                   2.0        0.117647          0.117647   \n",
       "4                 3.0                   3.0        0.103448          0.116667   \n",
       "\n",
       "   ipsi_max_amplitude  contra_max_amplitude  ipsi_fin_duration  \\\n",
       "0            0.798017              0.340697               28.0   \n",
       "1            0.432741              0.296224               19.0   \n",
       "2            0.620835              0.431473               27.0   \n",
       "3            0.569168              0.534200               35.0   \n",
       "4            0.606922              0.503003               22.0   \n",
       "\n",
       "   contra_fin_duration  ipsi_amp_diff_peaks  contra_amp_diff_peaks  \\\n",
       "0                 27.0             0.210910               0.077020   \n",
       "1                 15.0            -0.148951               0.145172   \n",
       "2                 16.0             0.245164              -0.083179   \n",
       "3                 16.0             0.173791               0.010773   \n",
       "4                 23.0             0.039418               0.119273   \n",
       "\n",
       "   ipsi_amp_1  contra_amp_1  ipsi_amp_2  contra_amp_2  ipsi_t_diff_peak_1  \\\n",
       "0    0.465832      0.263677    0.676743      0.340697               0.040   \n",
       "1    0.432741      0.151052    0.283789      0.296224               0.040   \n",
       "2    0.369907      0.431473    0.615071      0.348294               0.045   \n",
       "3    0.395376      0.523427    0.569168      0.534200               0.040   \n",
       "4    0.567504      0.251714    0.606922      0.370987               0.040   \n",
       "\n",
       "   contra_t_diff_peak_1  ipsi_t_diff_peak_2  contra_t_diff_peak_2  \\\n",
       "0                 0.045               0.040                 0.045   \n",
       "1                 0.035               0.040                 0.035   \n",
       "2                 0.045               0.045                 0.045   \n",
       "3                 0.035               0.040                 0.035   \n",
       "4                 0.040               0.040                 0.040   \n",
       "\n",
       "   ispi_contra_correlation  \n",
       "0                 0.138358  \n",
       "1                -0.085082  \n",
       "2                 0.011863  \n",
       "3                 0.129337  \n",
       "4                -0.017081  "
      ]
     },
     "execution_count": 27,
     "metadata": {},
     "output_type": "execute_result"
    }
   ],
   "source": [
    "df = pd.DataFrame(np.asarray([\n",
    "    ipsi_osc, contra_osc,\n",
    "    ipsi_freqs, contra_freqs,\n",
    "    ipsi_max_amp, contra_max_amp, \n",
    "    ipsi_durations, contra_durations, \n",
    "    ipsi_diff_peaks, contra_diff_peaks,\n",
    "    ipsi_amp_1, contra_amp_1,\n",
    "    ipsi_amp_2, contra_amp_2,\n",
    "    ipsi_peak_diff_1, contra_peak_diff_2,\n",
    "    ipsi_peak_diff_2, contra_peak_diff_2,\n",
    "    ispi_contra_corr]).T, columns=column_names)\n",
    "\n",
    "df.head()"
   ]
  },
  {
   "cell_type": "code",
   "execution_count": 28,
   "id": "cb7c8af2-d031-4fd6-bd93-548b98b8f306",
   "metadata": {},
   "outputs": [],
   "source": [
    "scaler = MinMaxScaler()\n",
    "df_standardized = pd.DataFrame(scaler.fit_transform(df), columns=df.columns)"
   ]
  },
  {
   "cell_type": "code",
   "execution_count": 29,
   "id": "18eb6906-4a4d-4b62-88d6-f88a9d54018b",
   "metadata": {},
   "outputs": [
    {
     "name": "stdout",
     "output_type": "stream",
     "text": [
      "[1572, 2066, 4162, 5124, 6952, 9056, 10582, 10803, 10809, 11031, 11063]\n"
     ]
    }
   ],
   "source": [
    "tick_borders = []\n",
    "add = 0\n",
    "for i in range(11):\n",
    "    n = features[features.cluster ==i].shape[0]\n",
    "    add += n\n",
    "    tick_borders.append(add)\n",
    "\n",
    "print (tick_borders)"
   ]
  },
  {
   "cell_type": "code",
   "execution_count": 30,
   "id": "efd06b2f-2a90-40e4-93c5-0798f7d4a851",
   "metadata": {},
   "outputs": [],
   "source": [
    "df.to_csv(master_path /'heatmap_features.csv', index=False)\n",
    "df_standardized.to_csv(master_path /'heatmap_norm.csv', index=False)"
   ]
  },
  {
   "cell_type": "code",
   "execution_count": 31,
   "id": "163449ad-9453-400e-9660-776c2be37835",
   "metadata": {},
   "outputs": [],
   "source": [
    "df_standardized['cluster'] = clusters"
   ]
  },
  {
   "cell_type": "code",
   "execution_count": 32,
   "id": "e2e990e5-e9ea-4ac9-bb7e-f36ca000ec96",
   "metadata": {},
   "outputs": [],
   "source": [
    "# Group by 'cluster' column and calculate the mean for each group\n",
    "cluster_means = df_standardized.groupby('cluster').mean()"
   ]
  },
  {
   "cell_type": "markdown",
   "id": "b72a5418-d7ec-4f9d-9578-180fbbef726f",
   "metadata": {},
   "source": [
    "### Set parameters"
   ]
  },
  {
   "cell_type": "code",
   "execution_count": 33,
   "id": "c30887b0-5b47-4a29-b3da-5774d51a9672",
   "metadata": {},
   "outputs": [],
   "source": [
    "alph=0.03\n",
    "dot_size=1\n",
    "cm = 1/2.54  # centimeters in inches\n",
    "f_size = 6\n",
    "dpi=600\n",
    "lw=0.5"
   ]
  },
  {
   "cell_type": "markdown",
   "id": "e37b72c6-11e0-4977-9a69-249bc86cdca1",
   "metadata": {},
   "source": [
    "## Plot"
   ]
  },
  {
   "cell_type": "code",
   "execution_count": 34,
   "id": "3c52cb22-4c29-429b-97a6-ea709ee6876d",
   "metadata": {},
   "outputs": [
    {
     "data": {
      "image/png": "[encoded data removed]",
      "text/plain": [
       "<Figure size 551.181x236.22 with 2 Axes>"
      ]
     },
     "metadata": {
      "needs_background": "light"
     },
     "output_type": "display_data"
    }
   ],
   "source": [
    "# Plotting the transposed heatmap\n",
    "fig, ax = plt.subplots(figsize=(14*cm, 6*cm), facecolor='None')\n",
    "sns.heatmap(cluster_means.T, ax=ax, annot=False, cmap='rocket_r',cbar_kws={'label': 'Value'})\n",
    "\n",
    "# Adjust the y-axis\n",
    "ax.set_xlabel('Bout Category', fontsize=f_size)\n",
    "ax.set_xticklabels(catname, rotation=0, fontsize=f_size)\n",
    "# Adjust the y-axis\n",
    "ax.set_ylabel('Feature', fontsize=f_size)\n",
    "ax.set_yticklabels(ax.get_yticklabels(), rotation=0, fontsize=f_size)\n",
    "\n",
    "# Adjust the colorbar\n",
    "cbar = ax.collections[0].colorbar\n",
    "cbar.ax.tick_params(labelsize=f_size)  # Set the font size for colorbar tick labels\n",
    "cbar.set_label('Value', fontsize=f_size)  # Set the font size for the colorbar label\n",
    "\n",
    "ax.axhline(2, c='w', lw=lw)\n",
    "ax.axhline(4, c='w', lw=lw)\n",
    "ax.axhline(6, c='w', lw=lw)\n",
    "ax.axhline(8, c='w', lw=lw)\n",
    "ax.axhline(10, c='w', lw=lw)\n",
    "ax.axhline(12, c='w', lw=lw)\n",
    "ax.axhline(14, c='w', lw=lw)\n",
    "ax.axhline(16, c='w', lw=lw)\n",
    "ax.axhline(18, c='w', lw=lw)\n",
    "ax.axhline(20, c='w', lw=lw)\n",
    "\n",
    "for i in range(11):\n",
    "    ax.axvline(i, c='w', lw=lw)\n",
    "    \n",
    "plt.tight_layout()\n",
    "fig.savefig(save_figure_path /'heatmap_features_bout_cat_mean.pdf', dpi=dpi)\n",
    "fig.savefig(save_figure_path /'heatmap_features_bout_cat_mean.png', dpi=dpi)"
   ]
  },
  {
   "cell_type": "code",
   "execution_count": null,
   "id": "0dd6d992-7b56-406c-afa0-fafc032f05ba",
   "metadata": {},
   "outputs": [],
   "source": []
  },
  {
   "cell_type": "code",
   "execution_count": null,
   "id": "ed3a91c2-0e5e-4e8b-89c0-b304126c74e8",
   "metadata": {},
   "outputs": [],
   "source": []
  }
 ],
 "metadata": {
  "kernelspec": {
   "display_name": "Python 3 (ipykernel)",
   "language": "python",
   "name": "python3"
  },
  "language_info": {
   "codemirror_mode": {
    "name": "ipython",
    "version": 3
   },
   "file_extension": ".py",
   "mimetype": "text/x-python",
   "name": "python",
   "nbconvert_exporter": "python",
   "pygments_lexer": "ipython3",
   "version": "3.11.5"
  }
 },
 "nbformat": 4,
 "nbformat_minor": 5
}
