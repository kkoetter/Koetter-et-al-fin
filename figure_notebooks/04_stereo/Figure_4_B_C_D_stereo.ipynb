{
 "cells": [
  {
   "cell_type": "code",
   "execution_count": 1,
   "id": "67531571-d612-4556-8bb2-c9b316a5b30b",
   "metadata": {},
   "outputs": [],
   "source": [
    "%load_ext autoreload\n",
    "%autoreload 2\n",
    "import warnings\n",
    "warnings.filterwarnings('ignore')\n"
   ]
  },
  {
   "cell_type": "code",
   "execution_count": 2,
   "id": "ac3299e4-fdbd-4715-bd86-22da8b647b98",
   "metadata": {},
   "outputs": [],
   "source": [
    "import numpy as np\n",
    "import pandas as pd\n",
    "import matplotlib.pyplot as plt\n",
    "from pathlib import Path\n",
    "import glob\n",
    "\n",
    "import h5py\n",
    "import flammkuchen as fl\n",
    "import seaborn as sns\n",
    "from matplotlib.cm import ScalarMappable\n",
    "import scipy\n",
    "from scipy import stats\n",
    "import pywt\n",
    "import os\n",
    "import time\n",
    "from mpl_toolkits import mplot3d\n",
    "from matplotlib.gridspec import GridSpec\n",
    "\n",
    "from nilearn.connectome import ConnectivityMeasure\n",
    "from sklearn.manifold import SpectralEmbedding\n",
    "from matplotlib.colors import ListedColormap\n",
    "from mpl_toolkits.mplot3d import Axes3D\n",
    "from sklearn.metrics import pairwise_distances\n",
    "\n",
    "from sklearn.metrics.pairwise import cosine_distances\n",
    "from sklearn.metrics.pairwise import euclidean_distances\n",
    "\n",
    "from sklearn.neighbors import NearestNeighbors\n",
    "import networkx as nx\n"
   ]
  },
  {
   "cell_type": "code",
   "execution_count": 6,
   "id": "958bc007-d9e3-4ec0-a79b-94e4746c37a3",
   "metadata": {},
   "outputs": [],
   "source": [
    "from fig_4_helper import catname\n",
    "from fig_4_helper import NormalizeData, check_symmetric\n",
    "from fig_4_helper import normalize_matrix, geodesic_distances"
   ]
  },
  {
   "cell_type": "markdown",
   "id": "0f6e2887-6dc9-49a9-beec-5d5601fd3779",
   "metadata": {},
   "source": [
    "## Load data"
   ]
  },
  {
   "cell_type": "code",
   "execution_count": 7,
   "id": "e6f7ccac-d9b5-462c-89d9-36d96cbe9be4",
   "metadata": {},
   "outputs": [],
   "source": [
    "figs_path = Path(r'\\\\portulab.synology.me\\data\\Kata\\Figures_Paper\\Figure_3\\fig_3')"
   ]
  },
  {
   "cell_type": "code",
   "execution_count": 8,
   "id": "016f9576-dd1e-41d8-9d08-6ec5eec9fbd5",
   "metadata": {},
   "outputs": [],
   "source": [
    "master_path = Path(r'\\\\portulab.synology.me\\data\\Kata\\Processed_Data\\tensor_data')"
   ]
  },
  {
   "cell_type": "code",
   "execution_count": 9,
   "id": "e5bbc9c8-5ac3-4525-9f25-3cb92b8a75c0",
   "metadata": {},
   "outputs": [],
   "source": [
    "results_path = master_path / 'Embeddings' "
   ]
  },
  {
   "cell_type": "code",
   "execution_count": 10,
   "id": "04efc843-2be5-43c7-aeb9-074eb1e810f4",
   "metadata": {},
   "outputs": [],
   "source": [
    "master_path = Path(r'\\\\portulab.synology.me\\data\\Kata\\Processed_Data\\tensor_data')\n",
    "tensor =fl.load(master_path/ 'tensors' /'tensor_ipsi_contra_pos.h5')\n",
    "features = pd.read_csv(master_path/ 'features_bouts_new.csv')\n",
    "\n",
    "tail = tensor[:, 0]\n",
    "fin_1 = tensor[:,1]\n",
    "fin_2 = tensor[:,2]\n",
    "\n",
    "fin_all = np.concatenate((fin_1 ,fin_2),axis=-1)"
   ]
  },
  {
   "cell_type": "code",
   "execution_count": 11,
   "id": "0478f695-f14b-4f9e-8aec-4a1404b663c0",
   "metadata": {},
   "outputs": [],
   "source": [
    "covariance_measure = ConnectivityMeasure(kind='covariance')\n",
    "matrix_fins_cov = covariance_measure.fit_transform([fin_all.T])[0]"
   ]
  },
  {
   "cell_type": "code",
   "execution_count": 12,
   "id": "3874bfc4-dc93-4967-a823-a0ce2c129c4b",
   "metadata": {},
   "outputs": [],
   "source": [
    "# fin space cov\n",
    "matrix_fins_cov = np.cov(fin_all)\n",
    "X = np.abs(matrix_fins_cov)\n",
    "X[np.diag_indices_from(X)] = 0\n",
    "embedding = SpectralEmbedding(n_components=15)\n",
    "X_transformed = embedding.fit_transform(X)"
   ]
  },
  {
   "cell_type": "markdown",
   "id": "7cc60f28-3271-47dc-8a6d-1d19662c8551",
   "metadata": {},
   "source": [
    "### Run all the distances"
   ]
  },
  {
   "cell_type": "code",
   "execution_count": 13,
   "id": "387fe7b8-db37-4007-ba86-6f869d641331",
   "metadata": {},
   "outputs": [
    {
     "name": "stdout",
     "output_type": "stream",
     "text": [
      "Covariance distance ---- \n"
     ]
    }
   ],
   "source": [
    "print(\"Covariance distance ---- \")\n",
    "\n",
    "distances = 1-X\n",
    "distances[np.diag_indices_from(distances)] = 0\n",
    "\n",
    "dist_ratio = np.zeros(11)\n",
    "dist_in = np.zeros(11)\n",
    "dist_out = np.zeros(11)\n",
    "\n",
    "for i in range(11):\n",
    "    selection = features.cluster.values == i\n",
    "    ins = np.squeeze(np.argwhere(selection))\n",
    "    not_ins = np.squeeze(np.argwhere(~selection))\n",
    "    A_in = distances[ins,:].T[ins]\n",
    "    A_out = distances[ins,:].T[not_ins]\n",
    "    \n",
    "    A_in[A_in == 0] = np.nan\n",
    "    A_out[A_out == 0] = np.nan\n",
    "\n",
    "    mean_in = np.nanmean(A_in)\n",
    "    mean_out = np.nanmean(A_out)\n",
    "\n",
    "    dist_in[i] = mean_in\n",
    "    dist_out[i] = mean_out\n",
    "    dist_ratio[i] = mean_in/mean_out\n",
    "\n",
    "dist_ratio_cov_fin = dist_ratio\n",
    "dist_ratio_cov_fin_mean_in = dist_in"
   ]
  },
  {
   "cell_type": "code",
   "execution_count": 15,
   "id": "b0e8ec96-7011-4fef-a42e-7b520d5824c0",
   "metadata": {},
   "outputs": [
    {
     "name": "stdout",
     "output_type": "stream",
     "text": [
      "Euclidean embedding k components ---- \n"
     ]
    }
   ],
   "source": [
    "# Euclidean embedding k components\n",
    "print(\"Euclidean embedding k components ---- \")\n",
    "k = 3\n",
    "distances = normalize_matrix(euclidean_distances(X_transformed[:,:k], X_transformed[:,:k]))\n",
    "\n",
    "dist_ratio = np.zeros(11)\n",
    "dist_in = np.zeros(11)\n",
    "dist_out = np.zeros(11)\n",
    "\n",
    "for i in range(11):\n",
    "    selection = features.cluster.values == i\n",
    "    ins = np.squeeze(np.argwhere(selection))\n",
    "    not_ins = np.squeeze(np.argwhere(~selection))\n",
    "    A_in = distances[ins,:].T[ins]\n",
    "    A_out = distances[ins,:].T[not_ins]\n",
    "    \n",
    "    A_in[A_in == 0] = np.nan\n",
    "    A_out[A_out == 0] = np.nan\n",
    "\n",
    "    mean_in = np.nanmean(A_in)\n",
    "    mean_out = np.nanmean(A_out)\n",
    "\n",
    "    dist_in[i] = mean_in\n",
    "    dist_out[i] = mean_out\n",
    "    dist_ratio[i] = mean_in/mean_out\n",
    "\n",
    "dist_ratio_emb_euc = dist_ratio\n",
    "dist_ratio_emb_euc_mean_in = dist_in"
   ]
  },
  {
   "cell_type": "code",
   "execution_count": 17,
   "id": "f59c7d12-6f91-457c-a688-2c9730a861b6",
   "metadata": {},
   "outputs": [
    {
     "name": "stdout",
     "output_type": "stream",
     "text": [
      "geodesic distance k components ---- \n",
      "--- 352.6542057991028 seconds ---\n"
     ]
    }
   ],
   "source": [
    "print(\"geodesic distance k components ---- \")\n",
    "\n",
    "# geodesic distance k components\n",
    "start_time = time.time()\n",
    "distances =  normalize_matrix(geodesic_distances(X_transformed[:,:k],4,mymetric = 'euclidean'))\n",
    "print(\"--- %s seconds ---\" % (time.time() - start_time))\n",
    "distances_geo =  distances\n",
    "\n",
    "dist_ratio = np.zeros(11)\n",
    "dist_in = np.zeros(11)\n",
    "dist_out = np.zeros(11)\n",
    "\n",
    "for i in range(11):\n",
    "    selection = features.cluster.values == i\n",
    "    ins = np.squeeze(np.argwhere(selection))\n",
    "    not_ins = np.squeeze(np.argwhere(~selection))\n",
    "    A_in = distances[ins,:].T[ins]\n",
    "    A_out = distances[ins,:].T[not_ins]\n",
    "\n",
    "    A_in[A_in == 0] = np.nan\n",
    "    A_out[A_out == 0] = np.nan\n",
    "\n",
    "    mean_in = np.nanmean(A_in)\n",
    "    mean_out = np.nanmean(A_out)\n",
    "\n",
    "    dist_in[i] = mean_in\n",
    "    dist_out[i] = mean_out\n",
    "\n",
    "    dist_ratio[i] = mean_in/mean_out\n",
    "\n",
    "dist_ratio_emb_geo = dist_ratio"
   ]
  },
  {
   "cell_type": "markdown",
   "id": "21510f7c-e10f-478a-aa2a-205c6ddde07c",
   "metadata": {},
   "source": [
    "## Set parameters"
   ]
  },
  {
   "cell_type": "code",
   "execution_count": 20,
   "id": "3980a41f-c79d-4849-9afd-0984b4f3b348",
   "metadata": {},
   "outputs": [],
   "source": [
    "cm = 1/2.54  # centimeters in inches\n",
    "f_size = 6\n",
    "size=2\n",
    "lw=0.5\n",
    "dpi = 600"
   ]
  },
  {
   "cell_type": "markdown",
   "id": "21b54411-3e10-4b5f-ab1d-4304d9eefed2",
   "metadata": {},
   "source": [
    "### Panel B: Comparative Distance plot\n"
   ]
  },
  {
   "cell_type": "code",
   "execution_count": 29,
   "id": "e5555d68-b75f-421a-b71e-8c710f92fd5e",
   "metadata": {},
   "outputs": [
    {
     "data": {
      "image/png": "[encoded data removed]",
      "text/plain": [
       "<Figure size 129.921x216.535 with 1 Axes>"
      ]
     },
     "metadata": {},
     "output_type": "display_data"
    }
   ],
   "source": [
    "# Combine the data into a list\n",
    "data = [dist_ratio_cov_fin, dist_ratio_emb_geo, dist_ratio_emb_euc]\n",
    "\n",
    "# Create the boxplot\n",
    "plt.figure(figsize=(3.3*cm, 5.5*cm))\n",
    "\n",
    "# Plot the boxplot with specified positions and modify line widths\n",
    "boxplot = plt.boxplot(data, patch_artist=True, widths=0.2, positions=[0.1, 0.4, 0.7],\n",
    "                      medianprops={'color': 'black', 'linewidth': lw},\n",
    "                      whiskerprops={'linewidth': lw},\n",
    "                      capprops={'linewidth': lw},\n",
    "                      boxprops={'linewidth': lw},\n",
    "                      flierprops={'markerfacecolor': 'r', 'marker': 'o', 'markersize': 5, 'linestyle': 'none', 'linewidth': lw})\n",
    "\n",
    "# Customize the boxplot appearance\n",
    "colors = ['lightgray', 'lightgray', 'lightgray']\n",
    "for patch, color in zip(boxplot['boxes'], colors):\n",
    "    patch.set_facecolor(color)\n",
    "\n",
    "# Axis labels and ticks\n",
    "plt.xlabel('Metric', fontsize=f_size)\n",
    "plt.ylabel('Distance Ratio', fontsize=f_size)\n",
    "plt.yticks(fontsize=f_size)\n",
    "plt.xticks([0.1, 0.4, 0.7], labels=['COV', 'GEO', 'EUC'], fontsize=f_size-1)\n",
    "plt.xlim(-0.1, 0.9)\n",
    "\n",
    "# Use seaborn to clean up the plot's axis lines\n",
    "sns.despine(top=True, right=True, left=False, bottom=False)\n",
    "plt.tight_layout()  # Adjust layout to make room for labels\n",
    "\n",
    "plt.savefig(figs_path/'stereo_comp_dist.pdf'.format(figs_path),format=\"pdf\",dpi=dpi,  bbox_inches=\"tight\")\n",
    "plt.savefig(figs_path/'stereo_comp_dist.png'.format(figs_path),format=\"png\",dpi=dpi,  bbox_inches=\"tight\")"
   ]
  },
  {
   "cell_type": "markdown",
   "id": "cdcf388e-4925-4d78-b133-6214e47f3178",
   "metadata": {},
   "source": [
    "## Panel C: Number of Components"
   ]
  },
  {
   "cell_type": "code",
   "execution_count": 23,
   "id": "f1ec2cf0-ac87-4da9-8366-a3d854c6baf1",
   "metadata": {},
   "outputs": [
    {
     "name": "stdout",
     "output_type": "stream",
     "text": [
      "0\n",
      "1\n",
      "2\n",
      "3\n",
      "4\n",
      "5\n",
      "6\n",
      "7\n",
      "8\n"
     ]
    }
   ],
   "source": [
    "# Euclidean coponents\n",
    "\n",
    "components = np.arange(1,10,1)\n",
    "dist_ratio_all = np.zeros((len(components),11))\n",
    "\n",
    "for k in range(len(components)):\n",
    "    distances = normalize_matrix(euclidean_distances(X_transformed[:,:components[k]], X_transformed[:,:components[k]]))\n",
    "    dist_ratio = np.zeros(11)\n",
    "    dist_in = np.zeros(11)\n",
    "    dist_out = np.zeros(11)\n",
    "    for i in range(11):\n",
    "        selection = features.cluster.values == i\n",
    "        ins = np.squeeze(np.argwhere(selection))\n",
    "        not_ins = np.squeeze(np.argwhere(~selection))\n",
    "        A_in = distances[ins,:].T[ins]\n",
    "        A_out = distances\n",
    "\n",
    "        A_in[A_in == 0] = np.nan\n",
    "        A_out[A_out == 0] = np.nan\n",
    "\n",
    "        mean_in = np.nanmean(A_in)\n",
    "        mean_out = np.nanmean(A_out)\n",
    "        dist_in[i] = mean_in\n",
    "        dist_out[i] = mean_out\n",
    "        dist_ratio[i] = mean_in/mean_out\n",
    "\n",
    "    dist_ratio_all[k,:] = dist_ratio"
   ]
  },
  {
   "cell_type": "code",
   "execution_count": 48,
   "id": "94ea90c4-bfe6-403c-8d39-a2153a718727",
   "metadata": {},
   "outputs": [
    {
     "data": {
      "image/png": "[encoded data removed]",
      "text/plain": [
       "<Figure size 177.165x177.165 with 3 Axes>"
      ]
     },
     "metadata": {},
     "output_type": "display_data"
    }
   ],
   "source": [
    "# Assuming dist_ratio_all, components, labels_cat, labels_cat_short, size, f_size, cm are previously defined\n",
    "fig = plt.figure(figsize=(4.5*cm,4.5*cm))  # Removed *cm assuming it's a typo\n",
    "gs = GridSpec(3, 1, height_ratios=[1.5, 4, 0.2]) \n",
    "\n",
    "ax1 = fig.add_subplot(gs[0])\n",
    "ax1.plot(np.mean(dist_ratio_all, axis=1), 'ko-', markersize=size, lw=0.5)\n",
    "ax1.set_xticks(range(len(components)))\n",
    "ax1.set_xticklabels(components, fontsize=f_size)\n",
    "ax1.set_ylabel('Mean', fontsize=f_size)\n",
    "ax1.set_yticks([0.925, 0.950])\n",
    "ax1.set_yticklabels([0.925, 0.950], fontsize=f_size)\n",
    "sns.despine(top=True, right=True, left=False, bottom=False)\n",
    "\n",
    "ax2 = fig.add_subplot(gs[1])\n",
    "im = ax2.imshow(dist_ratio_all.T, interpolation='none', cmap='rocket', aspect='auto')\n",
    "ax2.set_yticks(range(len(catname)))\n",
    "ax2.set_yticklabels(catname, fontsize=f_size)\n",
    "ax2.set_xticks(range(len(components)))\n",
    "ax2.set_xticklabels(components, fontsize=f_size)\n",
    "ax2.set_xlabel('Components', fontsize=f_size)\n",
    "ax2.set_ylabel('Categories', fontsize=f_size)\n",
    "\n",
    "cbar_ax = fig.add_subplot(gs[2])\n",
    "cbar = fig.colorbar(im, cax=cbar_ax, orientation='horizontal')  # Pad set to 0.1\n",
    "cbar.ax.tick_params(labelsize=f_size)\n",
    "cbar.set_ticks([np.min(dist_ratio_all),np.max(dist_ratio_all)])\n",
    "cbar.set_ticklabels([np.round(np.min(dist_ratio_all),2),np.round(np.max(dist_ratio_all),2)], fontsize=f_size)\n",
    "\n",
    "cbar.set_label('Distribution Ratio', fontsize=f_size)\n",
    "plt.subplots_adjust(hspace=0.01)  # Adjust space between subplots\n",
    "plt.subplots_adjust(left=0, right=1, top=1, bottom=0.1, wspace=0.1, hspace=1)\n",
    "\n",
    "fig.savefig('{}/stereo_comp_dist_cluster_{}.pdf'.format(figs_path, len(components)),format=\"pdf\",dpi=dpi,  bbox_inches=\"tight\")\n",
    "fig.savefig('{}/stereo_comp_dist_cluster_{}.png'.format(figs_path, len(components)),format=\"png\",dpi=dpi,  bbox_inches=\"tight\")\n"
   ]
  },
  {
   "cell_type": "markdown",
   "id": "f8600734-0be1-49e0-9a17-961bc0e12985",
   "metadata": {},
   "source": [
    "## Panel E: Stereotypy Bout Categories"
   ]
  },
  {
   "cell_type": "code",
   "execution_count": null,
   "id": "a57cf69f-d709-4146-89df-b4e6f6cd63c9",
   "metadata": {},
   "outputs": [],
   "source": [
    "ordered_indices = np.argsort(dist_ratio_emb_euc)\n",
    "\n",
    "# Example array\n",
    "array = dist_ratio_emb_euc[ordered_indices]\n",
    "# Calculate the quantiles\n",
    "q1 = np.percentile(array, 33)\n",
    "q2 = np.percentile(array, 66)\n",
    "\n",
    "# Split the array into three quantiles\n",
    "first_quantile = array[array <= q1]\n",
    "second_quantile = array[(array > q1) & (array <= q2)]\n",
    "third_quantile = array[array > q2]\n",
    "\n",
    "print(\"First quantile (0-33.33%):\", first_quantile)\n",
    "print(\"Second quantile (33.33-66.67%):\", second_quantile)\n",
    "print(\"Third quantile (66.67-100%):\", third_quantile)\n",
    "qs = [q1, q2]\n",
    "print (qs)\n"
   ]
  },
  {
   "cell_type": "code",
   "execution_count": 57,
   "id": "41d35ab3-5037-49be-9f9e-7be5c667f61c",
   "metadata": {},
   "outputs": [
    {
     "name": "stdout",
     "output_type": "stream",
     "text": [
      "First quantile (0-33.33%): [0.82828014 0.83939697 0.84557217 0.88551466]\n",
      "Second quantile (33.33-66.67%): [0.8876444  0.89080112 0.89361094]\n",
      "Third quantile (66.67-100%): [0.91447344 0.95810737 0.9939387  0.99680734]\n",
      "[0.886153581724433, 0.906128436281326]\n"
     ]
    },
    {
     "data": {
      "image/png": "[encoded data removed]",
      "text/plain": [
       "<Figure size 177.165x185.039 with 1 Axes>"
      ]
     },
     "metadata": {},
     "output_type": "display_data"
    }
   ],
   "source": [
    "fig, axes = plt.subplots(figsize=(4.5*cm,4.7*cm))  # Removed *cm assuming it's a typo\n",
    "\n",
    "axes.plot(dist_ratio_emb_euc[ordered_indices],'ko-', label = 'embedding space / euclidean', markersize=size*2, lw= lw)\n",
    "plt.xticks(np.arange(0,11,1), labels=np.array(catname)[ordered_indices], rotation=45,fontsize=f_size)\n",
    "\n",
    "for q in qs:\n",
    "    plt.axhline(q, ls=':', c='gray', lw=lw)\n",
    "\n",
    "plt.xlabel('Bout Category',fontsize=f_size)\n",
    "plt.ylabel('Inter - Intra Cluster  Ratio',fontsize=f_size)\n",
    "plt.yticks(fontsize=f_size)  # Set the y-axis tick label font size to 12 (adjust as needed)\n",
    "plt.yticks([0.8, 0.9,1.], fontsize=f_size)\n",
    "\n",
    "sns.despine(top=True, right=True, left=False, bottom=False)\n",
    "plt.tight_layout()\n",
    "\n",
    "plt.savefig('{}/stereo_emb_euclidian.pdf'.format(figs_path),format=\"pdf\",dpi=dpi,  bbox_inches=\"tight\")\n",
    "plt.savefig('{}/stereo_emb_euclidian.png'.format(figs_path),format=\"png\",dpi=dpi,  bbox_inches=\"tight\")\n"
   ]
  }
 ],
 "metadata": {
  "kernelspec": {
   "display_name": "Python 3 (ipykernel)",
   "language": "python",
   "name": "python3"
  },
  "language_info": {
   "codemirror_mode": {
    "name": "ipython",
    "version": 3
   },
   "file_extension": ".py",
   "mimetype": "text/x-python",
   "name": "python",
   "nbconvert_exporter": "python",
   "pygments_lexer": "ipython3",
   "version": "3.11.5"
  }
 },
 "nbformat": 4,
 "nbformat_minor": 5
}
