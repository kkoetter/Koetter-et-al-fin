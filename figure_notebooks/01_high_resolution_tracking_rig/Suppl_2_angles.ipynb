{
 "cells": [
  {
   "cell_type": "code",
   "execution_count": 1,
   "id": "6c9db560",
   "metadata": {},
   "outputs": [],
   "source": [
    "%load_ext autoreload\n",
    "%autoreload 2\n",
    "import warnings\n",
    "warnings.filterwarnings('ignore')"
   ]
  },
  {
   "cell_type": "code",
   "execution_count": 2,
   "id": "13211d13",
   "metadata": {},
   "outputs": [],
   "source": [
    "# Data Wrangling\n",
    "import numpy as np\n",
    "import pandas as pd\n",
    "from pathlib import Path\n",
    "import glob\n",
    "import os\n",
    "import flammkuchen as fl\n",
    "\n",
    "# Image\n",
    "import matplotlib.pyplot as plt\n",
    "from matplotlib import colors\n",
    "import seaborn as sns"
   ]
  },
  {
   "cell_type": "code",
   "execution_count": 4,
   "id": "b6a8dc04-d545-47da-8249-668cd31b0553",
   "metadata": {},
   "outputs": [],
   "source": [
    "from fig_1_helper import labels_cat, color, color_bouts, cmp_bouts, labels_cat_short\n",
    "from fig_1_helper import radians_to_degrees, simplify_fish_id, resort_ipsi_contra_traces"
   ]
  },
  {
   "cell_type": "code",
   "execution_count": 6,
   "id": "6cbcb55e-d534-4dcc-8b86-eb639f2e3ef1",
   "metadata": {},
   "outputs": [],
   "source": [
    "alph=0.5\n",
    "size=1\n",
    "cm_ = 1/2.54  # centimeters in inches\n",
    "f_size =6\n",
    "lw=0.5\n",
    "dpi= 600"
   ]
  },
  {
   "cell_type": "markdown",
   "id": "126d6fa2-40ed-4179-b2dc-7ed308169c25",
   "metadata": {},
   "source": [
    "### Setup paths"
   ]
  },
  {
   "cell_type": "code",
   "execution_count": 7,
   "id": "6953efae-563c-40ec-afa9-386ee64f4485",
   "metadata": {},
   "outputs": [],
   "source": [
    "figure_path = Path(r\"\\\\portulab.synology.me\\data\\Kata\\Figures_Paper\\Figure_1\\supp\\suppl_2\")"
   ]
  },
  {
   "cell_type": "code",
   "execution_count": 8,
   "id": "55223ddd-3b74-437c-a151-a092b7117624",
   "metadata": {},
   "outputs": [],
   "source": [
    "out_path = Path(r\"\\\\portulab.synology.me\\data\\Kata\\Processed_Data\")"
   ]
  },
  {
   "cell_type": "code",
   "execution_count": 9,
   "id": "04e2a6dc-3455-4cbd-9c43-6d314b0ef4e8",
   "metadata": {},
   "outputs": [
    {
     "data": {
      "text/plain": [
       "WindowsPath('//portulab.synology.me/data/Kata/Processed_Data/tensor_data/features_bouts_new.csv')"
      ]
     },
     "execution_count": 9,
     "metadata": {},
     "output_type": "execute_result"
    }
   ],
   "source": [
    "path_features_all = Path(r'\\\\portulab.synology.me\\data\\Kata\\Processed_Data\\tensor_data\\features_bouts_new.csv')\n",
    "path_features_all"
   ]
  },
  {
   "cell_type": "code",
   "execution_count": 10,
   "id": "320323a2-1158-491a-9228-d5f6a27d8913",
   "metadata": {},
   "outputs": [],
   "source": [
    "path_traces =  Path(r'\\\\portulab.synology.me\\data\\Kata\\Processed_Data\\tensor_data\\tensors\\tensor.h5')"
   ]
  },
  {
   "cell_type": "code",
   "execution_count": 11,
   "id": "dc0adb1c-027f-4d7b-ba3d-15b21ff6f768",
   "metadata": {},
   "outputs": [
    {
     "data": {
      "text/html": [
       "<div>\n",
       "<style scoped>\n",
       "    .dataframe tbody tr th:only-of-type {\n",
       "        vertical-align: middle;\n",
       "    }\n",
       "\n",
       "    .dataframe tbody tr th {\n",
       "        vertical-align: top;\n",
       "    }\n",
       "\n",
       "    .dataframe thead th {\n",
       "        text-align: right;\n",
       "    }\n",
       "</style>\n",
       "<table border=\"1\" class=\"dataframe\">\n",
       "  <thead>\n",
       "    <tr style=\"text-align: right;\">\n",
       "      <th></th>\n",
       "      <th>Unnamed: 0</th>\n",
       "      <th>exp</th>\n",
       "      <th>fish_id</th>\n",
       "      <th>bout_angle</th>\n",
       "      <th>cluster</th>\n",
       "      <th>frame_start</th>\n",
       "      <th>frame_end</th>\n",
       "      <th>bout_id_orig</th>\n",
       "      <th>mb_proba</th>\n",
       "      <th>max_eye_rot</th>\n",
       "      <th>...</th>\n",
       "      <th>tail_freq</th>\n",
       "      <th>l_fin_freqs</th>\n",
       "      <th>r_fin_freqs</th>\n",
       "      <th>tail_max_freq</th>\n",
       "      <th>l_fin_max_freqs</th>\n",
       "      <th>r_fin_max_freqs</th>\n",
       "      <th>l_start</th>\n",
       "      <th>l_end</th>\n",
       "      <th>r_start</th>\n",
       "      <th>r_end</th>\n",
       "    </tr>\n",
       "  </thead>\n",
       "  <tbody>\n",
       "    <tr>\n",
       "      <th>0</th>\n",
       "      <td>0</td>\n",
       "      <td>13052024_visstim_2D_round</td>\n",
       "      <td>240513_f0</td>\n",
       "      <td>3.000171</td>\n",
       "      <td>0</td>\n",
       "      <td>18375</td>\n",
       "      <td>18410</td>\n",
       "      <td>78</td>\n",
       "      <td>0.806645</td>\n",
       "      <td>-0.239648</td>\n",
       "      <td>...</td>\n",
       "      <td>0.121622</td>\n",
       "      <td>0.105263</td>\n",
       "      <td>0.109756</td>\n",
       "      <td>0.166667</td>\n",
       "      <td>0.166667</td>\n",
       "      <td>0.166667</td>\n",
       "      <td>0.0</td>\n",
       "      <td>27.0</td>\n",
       "      <td>0.0</td>\n",
       "      <td>28.0</td>\n",
       "    </tr>\n",
       "    <tr>\n",
       "      <th>1</th>\n",
       "      <td>1</td>\n",
       "      <td>13052024_visstim_2D_round</td>\n",
       "      <td>240513_f0</td>\n",
       "      <td>1.649302</td>\n",
       "      <td>0</td>\n",
       "      <td>19461</td>\n",
       "      <td>19484</td>\n",
       "      <td>80</td>\n",
       "      <td>1.000000</td>\n",
       "      <td>0.479035</td>\n",
       "      <td>...</td>\n",
       "      <td>0.058140</td>\n",
       "      <td>0.117647</td>\n",
       "      <td>0.119048</td>\n",
       "      <td>0.166667</td>\n",
       "      <td>0.166667</td>\n",
       "      <td>0.250000</td>\n",
       "      <td>0.0</td>\n",
       "      <td>15.0</td>\n",
       "      <td>7.0</td>\n",
       "      <td>26.0</td>\n",
       "    </tr>\n",
       "    <tr>\n",
       "      <th>2</th>\n",
       "      <td>2</td>\n",
       "      <td>13052024_visstim_2D_round</td>\n",
       "      <td>240513_f0</td>\n",
       "      <td>-0.861132</td>\n",
       "      <td>0</td>\n",
       "      <td>19661</td>\n",
       "      <td>19689</td>\n",
       "      <td>81</td>\n",
       "      <td>1.000000</td>\n",
       "      <td>-1.120168</td>\n",
       "      <td>...</td>\n",
       "      <td>0.097561</td>\n",
       "      <td>0.115385</td>\n",
       "      <td>0.104167</td>\n",
       "      <td>0.166667</td>\n",
       "      <td>0.166667</td>\n",
       "      <td>0.125000</td>\n",
       "      <td>4.0</td>\n",
       "      <td>20.0</td>\n",
       "      <td>0.0</td>\n",
       "      <td>27.0</td>\n",
       "    </tr>\n",
       "    <tr>\n",
       "      <th>3</th>\n",
       "      <td>3</td>\n",
       "      <td>13052024_visstim_2D_round</td>\n",
       "      <td>240513_f0</td>\n",
       "      <td>0.870591</td>\n",
       "      <td>0</td>\n",
       "      <td>20257</td>\n",
       "      <td>20292</td>\n",
       "      <td>84</td>\n",
       "      <td>1.000000</td>\n",
       "      <td>-2.662451</td>\n",
       "      <td>...</td>\n",
       "      <td>0.114286</td>\n",
       "      <td>0.117647</td>\n",
       "      <td>0.117647</td>\n",
       "      <td>0.166667</td>\n",
       "      <td>0.166667</td>\n",
       "      <td>0.125000</td>\n",
       "      <td>19.0</td>\n",
       "      <td>35.0</td>\n",
       "      <td>0.0</td>\n",
       "      <td>35.0</td>\n",
       "    </tr>\n",
       "    <tr>\n",
       "      <th>4</th>\n",
       "      <td>4</td>\n",
       "      <td>13052024_visstim_2D_round</td>\n",
       "      <td>240513_f0</td>\n",
       "      <td>2.231631</td>\n",
       "      <td>0</td>\n",
       "      <td>20824</td>\n",
       "      <td>20859</td>\n",
       "      <td>86</td>\n",
       "      <td>1.000000</td>\n",
       "      <td>-1.192489</td>\n",
       "      <td>...</td>\n",
       "      <td>0.108108</td>\n",
       "      <td>0.116667</td>\n",
       "      <td>0.103448</td>\n",
       "      <td>0.166667</td>\n",
       "      <td>0.125000</td>\n",
       "      <td>0.125000</td>\n",
       "      <td>0.0</td>\n",
       "      <td>23.0</td>\n",
       "      <td>6.0</td>\n",
       "      <td>28.0</td>\n",
       "    </tr>\n",
       "  </tbody>\n",
       "</table>\n",
       "<p>5 rows × 55 columns</p>\n",
       "</div>"
      ],
      "text/plain": [
       "   Unnamed: 0                        exp    fish_id  bout_angle  cluster  \\\n",
       "0           0  13052024_visstim_2D_round  240513_f0    3.000171        0   \n",
       "1           1  13052024_visstim_2D_round  240513_f0    1.649302        0   \n",
       "2           2  13052024_visstim_2D_round  240513_f0   -0.861132        0   \n",
       "3           3  13052024_visstim_2D_round  240513_f0    0.870591        0   \n",
       "4           4  13052024_visstim_2D_round  240513_f0    2.231631        0   \n",
       "\n",
       "   frame_start  frame_end  bout_id_orig  mb_proba  max_eye_rot  ...  \\\n",
       "0        18375      18410            78  0.806645    -0.239648  ...   \n",
       "1        19461      19484            80  1.000000     0.479035  ...   \n",
       "2        19661      19689            81  1.000000    -1.120168  ...   \n",
       "3        20257      20292            84  1.000000    -2.662451  ...   \n",
       "4        20824      20859            86  1.000000    -1.192489  ...   \n",
       "\n",
       "   tail_freq  l_fin_freqs  r_fin_freqs  tail_max_freq  l_fin_max_freqs  \\\n",
       "0   0.121622     0.105263     0.109756       0.166667         0.166667   \n",
       "1   0.058140     0.117647     0.119048       0.166667         0.166667   \n",
       "2   0.097561     0.115385     0.104167       0.166667         0.166667   \n",
       "3   0.114286     0.117647     0.117647       0.166667         0.166667   \n",
       "4   0.108108     0.116667     0.103448       0.166667         0.125000   \n",
       "\n",
       "   r_fin_max_freqs  l_start  l_end  r_start  r_end  \n",
       "0         0.166667      0.0   27.0      0.0   28.0  \n",
       "1         0.250000      0.0   15.0      7.0   26.0  \n",
       "2         0.125000      4.0   20.0      0.0   27.0  \n",
       "3         0.125000     19.0   35.0      0.0   35.0  \n",
       "4         0.125000      0.0   23.0      6.0   28.0  \n",
       "\n",
       "[5 rows x 55 columns]"
      ]
     },
     "execution_count": 11,
     "metadata": {},
     "output_type": "execute_result"
    }
   ],
   "source": [
    "features_all = pd.read_csv(path_features_all)\n",
    "features_all.head()"
   ]
  },
  {
   "cell_type": "markdown",
   "id": "cfa78b51-5e12-4285-a3f3-709e1fe45b3e",
   "metadata": {},
   "source": [
    "## Panel B: Bout Categories for single fish"
   ]
  },
  {
   "cell_type": "code",
   "execution_count": 12,
   "id": "c954b16b-5cfc-4c41-a0ba-6f2d70f6d8b7",
   "metadata": {},
   "outputs": [],
   "source": [
    "fish_id = '240423_f0'\n",
    "features = features_all[features_all.fish_id == fish_id]\n",
    "new_clusters_fish = features_all[features_all.fish_id == fish_id].cluster.astype(int)"
   ]
  },
  {
   "cell_type": "code",
   "execution_count": 15,
   "id": "596942c9-aa4e-4da6-9f9a-c22e1efed9ec",
   "metadata": {},
   "outputs": [
    {
     "data": {
      "image/png": "[encoded data removed]",
      "text/plain": [
       "<Figure size 334.646x236.22 with 1 Axes>"
      ]
     },
     "metadata": {
      "needs_background": "light"
     },
     "output_type": "display_data"
    }
   ],
   "source": [
    "plt.figure(facecolor='None',figsize=(8.5*cm_, 6*cm_))\n",
    "ax = sns.histplot(new_clusters_fish, bins=np.arange(0,12,1), edgecolor='w', common_norm=False)\n",
    "for i in range(11):\n",
    "    ax.patches[i].set_facecolor(color[i])\n",
    "plt.xticks(np.arange(0,11,1)+0.5, labels=labels_cat_short, rotation =0)\n",
    "plt.title('Bout Category Overview Example Fish', fontsize=f_size)\n",
    "plt.xlabel('Bout Category', fontsize=f_size)\n",
    "plt.ylabel('Count', fontsize=f_size)\n",
    "plt.tick_params(axis='both', which='major', labelsize=f_size)  # Adjust the labelsize as desired\n",
    "sns.despine(top=True, right=True, left=False, bottom=False)\n",
    "plt.tight_layout()\n",
    "plt.savefig(figure_path/ '{}_bout_cat_hist.pdf'.format(fish_id), dpi=dpi)\n",
    "plt.savefig(figure_path/ '{}_bout_cat_hist.png'.format(fish_id), dpi=dpi)"
   ]
  },
  {
   "cell_type": "markdown",
   "id": "392ff036-8429-4708-9bb5-7bf5dd057349",
   "metadata": {},
   "source": [
    "## Panel C: Bout Statistics for Single Fish"
   ]
  },
  {
   "cell_type": "code",
   "execution_count": 20,
   "id": "aef1eb3e-4244-479e-8140-46ac22426d34",
   "metadata": {},
   "outputs": [],
   "source": [
    "single_ibi_path = Path(r'//portulab.synology.me/data/Kata/Processed_Data/22042024_visstim_2D_round_/{}_ibi.h5'.format(fish_id))\n",
    "single_ibi = fl.load(single_ibi_path)"
   ]
  },
  {
   "cell_type": "code",
   "execution_count": 21,
   "id": "4fd41230-737a-42a0-a66c-578660963ddf",
   "metadata": {},
   "outputs": [],
   "source": [
    "single_dist_path = Path(r'//portulab.synology.me/data/Kata/Processed_Data/22042024_visstim_2D_round_/{}_distances.h5'.format(fish_id))\n",
    "single_dist = fl.load(single_dist_path)\n",
    "duration = features_all[features_all.fish_id == fish_id].tail_duration.values"
   ]
  },
  {
   "cell_type": "code",
   "execution_count": 16,
   "id": "5796e193-b9d4-406f-84bf-50bc945cd7e8",
   "metadata": {},
   "outputs": [],
   "source": [
    "data_path = Path(r'//portulab.synology.me/data/Kata/Processed_Data/22042024_visstim_2D_round_/{}_bout_data.h5'.format(fish_id))"
   ]
  },
  {
   "cell_type": "code",
   "execution_count": 17,
   "id": "5cdc37fa-6925-4218-affa-a660ef1c14a8",
   "metadata": {},
   "outputs": [],
   "source": [
    "data = fl.load(data_path)"
   ]
  },
  {
   "cell_type": "code",
   "execution_count": 18,
   "id": "44c0feb2-1d22-4919-8e36-ef3571638550",
   "metadata": {},
   "outputs": [],
   "source": [
    "bout_angles = data['body_angles_delta']\n",
    "l_fin_angles = data['fin_angles'][:,0]\n",
    "r_fin_angles = data['fin_angles'][:,1]\n",
    "l_eye_angles = data['eye_angles'][:,0]\n",
    "r_eye_angles = data['eye_angles'][:,1]"
   ]
  },
  {
   "cell_type": "code",
   "execution_count": 19,
   "id": "7ce18094-2058-4c5e-be54-075848934490",
   "metadata": {},
   "outputs": [],
   "source": [
    "flattened_l_fin_angles = radians_to_degrees(l_fin_angles.flatten())\n",
    "flattened_r_fin_angles = radians_to_degrees(r_fin_angles.flatten())\n",
    "flattened_l_eye_angles = l_eye_angles.flatten()\n",
    "flattened_r_eye_angles = r_eye_angles.flatten()"
   ]
  },
  {
   "cell_type": "code",
   "execution_count": 26,
   "id": "0cf49bad-c181-4480-982f-d5da60d7a6ca",
   "metadata": {},
   "outputs": [
    {
     "data": {
      "image/png": "[encoded data removed]",
      "text/plain": [
       "<Figure size 551.181x275.591 with 4 Axes>"
      ]
     },
     "metadata": {
      "needs_background": "light"
     },
     "output_type": "display_data"
    }
   ],
   "source": [
    "fig, axes = plt.subplots(2,2,facecolor='None',figsize=(14*cm_, 7*cm_), sharex=False, sharey=False)\n",
    "axes = axes.ravel()\n",
    "\n",
    "bins = np.arange(np.min(features.bout_angle), np.max(features.bout_angle), 5)\n",
    "ax=sns.histplot(data=bout_angles, bins=bins, ax=axes[0], kde=True,  lw=lw,edgecolor='w', color='gray')\n",
    "for line in ax.get_lines():\n",
    "    line.set_linewidth(lw)  # Set the desired line width here\n",
    "axes[0].set_title('Delta Bout Angle', fontsize=f_size)\n",
    "axes[0].set_xlabel('Angles [deg]', fontsize=f_size)\n",
    "axes[0].set_xlim(-100,100)\n",
    "\n",
    "ax=sns.histplot(data=flattened_l_fin_angles, bins=bins, ax=axes[1], kde=True, lw=lw,  edgecolor='w',color='b', label='Left Fin')\n",
    "for line in ax.get_lines():\n",
    "    line.set_linewidth(lw)  # Set the desired line width here\n",
    "ax=sns.histplot(data=flattened_r_fin_angles, bins=bins, ax=axes[1], kde=True, lw=lw,  edgecolor='w',color='r', label='Right Fin')\n",
    "for line in ax.get_lines():\n",
    "    line.set_linewidth(lw)  # Set the desired line width here\n",
    "    \n",
    "axes[1].set_title('Fin Angles', fontsize=f_size)\n",
    "axes[1].set_xlabel('Angles [deg]', fontsize=f_size)\n",
    "axes[1].set_xlim(-100,100)\n",
    "axes[1].legend(fontsize=f_size)\n",
    "\n",
    "ax= sns.histplot(data=single_dist, bins=25, ax=axes[2], color='gray', lw=lw, edgecolor='w', kde=True)\n",
    "for line in ax.get_lines():\n",
    "    line.set_linewidth(lw)  # Set the desired line width here\n",
    "axes[2].set_title('Bout Distance', fontsize=f_size)\n",
    "axes[2].set_xlabel('[mm]', fontsize=f_size)\n",
    "axes[2].set_xlim(-0.1,3)\n",
    "\n",
    "ax=sns.histplot(data=single_ibi, bins=50, ax=axes[3], color='gray', lw=lw, edgecolor='w', kde=True)\n",
    "for line in ax.get_lines():\n",
    "    line.set_linewidth(lw)  # Set the desired line width here\n",
    "axes[3].set_title('Inter Bout Duration', fontsize=f_size)\n",
    "axes[3].set_xlabel('Inter Bout Duration [ms]', fontsize=f_size)\n",
    "axes[3].set_xlim(-0.1, 4)\n",
    "\n",
    "for ax in axes:\n",
    "    ax.set_ylabel('Count', fontsize=f_size)\n",
    "    ax.tick_params(axis='both', which='major', labelsize=f_size)  # Adjust the labelsize as desired\n",
    "\n",
    "sns.despine(top=True, right=True, left=False, bottom=False)\n",
    "plt.tight_layout()\n",
    "\n",
    "fig.savefig(figure_path/ 'exp_fish_panel.pdf', dpi =dpi)\n",
    "fig.savefig(figure_path/ 'exp_fish_panel.png', dpi =dpi)"
   ]
  },
  {
   "cell_type": "markdown",
   "id": "86dfc510-7582-4293-ba60-6424f7719808",
   "metadata": {},
   "source": [
    "## Panel D: All fish"
   ]
  },
  {
   "cell_type": "code",
   "execution_count": 27,
   "id": "de86dd6c-0904-4bae-8a54-4895a4409bd8",
   "metadata": {},
   "outputs": [
    {
     "data": {
      "text/plain": [
       "64"
      ]
     },
     "execution_count": 27,
     "metadata": {},
     "output_type": "execute_result"
    }
   ],
   "source": [
    "# Apply the function to the 'fish_ids' column\n",
    "features_all['fish_ids'] = features_all['fish_id'].apply(simplify_fish_id)\n",
    "fish_ids = np.unique(features_all['fish_ids'])\n",
    "len(fish_ids)"
   ]
  },
  {
   "cell_type": "code",
   "execution_count": 28,
   "id": "d7b87e1a-0455-4355-bbf6-caebe76bc86b",
   "metadata": {},
   "outputs": [],
   "source": [
    "### tail, left fin, right fin, left eye, right eye\n",
    "traces =  fl.load(path_traces)\n",
    "l_fin = traces[:,1,:]\n",
    "r_fin = traces[:,2,:]\n",
    "flattened_l_fin_angles = radians_to_degrees(l_fin.flatten())\n",
    "flattened_r_fin_angles = radians_to_degrees(r_fin.flatten())"
   ]
  },
  {
   "cell_type": "code",
   "execution_count": 29,
   "id": "9ec319ee-34ed-41d7-a9c1-ea914b662e48",
   "metadata": {},
   "outputs": [
    {
     "data": {
      "text/plain": [
       "98"
      ]
     },
     "execution_count": 29,
     "metadata": {},
     "output_type": "execute_result"
    }
   ],
   "source": [
    "ibi_paths = list(out_path.rglob('*ibi.h5'))\n",
    "dist_paths = list(out_path.rglob('*distances.h5'))\n",
    "len(dist_paths)"
   ]
  },
  {
   "cell_type": "code",
   "execution_count": 30,
   "id": "b7b94719-761a-4c47-b849-5b1a7f11a86f",
   "metadata": {},
   "outputs": [],
   "source": [
    "distances = []\n",
    "\n",
    "for path in dist_paths:\n",
    "    dist = fl.load(path)\n",
    "    # print (dist.shape)\n",
    "    distances.append(dist)\n",
    "\n",
    "ibis = []\n",
    "\n",
    "for path in ibi_paths:\n",
    "    ibi = fl.load(path)\n",
    "    ibis.append(ibi)\n",
    "\n",
    "flattened_distances = [item for sublist in distances for item in sublist]\n",
    "flattened_distances = np.asarray(flattened_distances)\n",
    "flattened_ibis = [item for sublist in ibis for item in sublist]\n",
    "flattened_ibis = np.asarray(flattened_ibis)"
   ]
  },
  {
   "cell_type": "markdown",
   "id": "ba7fd287-0c9b-49e4-88f2-d17a5350deb9",
   "metadata": {},
   "source": [
    "### Panel D: Behavior Assessment for pooled fish"
   ]
  },
  {
   "cell_type": "code",
   "execution_count": 34,
   "id": "e00f5ba0-ccd9-4b0d-bc26-bf8a1e359d49",
   "metadata": {},
   "outputs": [
    {
     "data": {
      "image/png": "[encoded data removed]",
      "text/plain": [
       "<Figure size 551.181x275.591 with 4 Axes>"
      ]
     },
     "metadata": {
      "needs_background": "light"
     },
     "output_type": "display_data"
    }
   ],
   "source": [
    "fig, axes = plt.subplots(2,2,facecolor='None',figsize=(14*cm_, 7*cm_), sharex=False, sharey=False)\n",
    "axes = axes.ravel()\n",
    "\n",
    "###  bout angles\n",
    "lim_min = np.min(features_all.bout_angle)\n",
    "lim_max = np.max(features_all.bout_angle)\n",
    "for i in range(len(fish_ids)):\n",
    "    durations_fish = features_all[features_all.fish_id == fish_ids[i]].bout_angle.values\n",
    "    sns.kdeplot(durations_fish, fill=False,  color='gray',  alpha=alph,  lw=lw, clip=(lim_min, lim_max), ax=axes[0])\n",
    "sns.kdeplot(features_all.bout_angle.values, fill=False, color='red', alpha=alph,  lw=lw, clip=(lim_min, lim_max), ax=axes[0])\n",
    "axes[0].set_title('Delta Bout Angle', fontsize=f_size)\n",
    "axes[0].set_xlabel('Delta Bout Angle [deg]', fontsize=f_size)\n",
    "axes[0].set_xlim(-100,100)\n",
    "axes[0].set_ylim(0, 0.05)\n",
    "\n",
    "### fin angles\n",
    "bins = np.arange(lim_min, lim_max, 5)\n",
    "ax = sns.histplot(data=flattened_l_fin_angles, bins=bins, edgecolor='w',  label='Left Fin',  stat='density', color='b', kde=True, ax=axes[1])\n",
    "for line in ax.get_lines():\n",
    "    line.set_linewidth(lw)  # Set the desired line width here\n",
    "\n",
    "ax= sns.histplot(data=flattened_r_fin_angles, bins=bins, edgecolor='w',  label='Right Fin', stat='density', color='r', kde=True, ax=axes[1])\n",
    "for line in ax.get_lines():\n",
    "    line.set_linewidth(lw)  # Set the desired line width here\n",
    "\n",
    "axes[1].set_title('Fin Angles', fontsize=f_size)\n",
    "axes[1].set_xlabel('Angles [deg]', fontsize=f_size)\n",
    "axes[1].legend(fontsize=f_size)\n",
    "axes[1].set_xlim(-100,100)\n",
    "\n",
    "### distances and IBI\n",
    "for i in range(len(distances)):\n",
    "    sns.kdeplot(distances[i], fill=False,  ax=axes[2], lw=lw, color='gray', alpha=alph, clip=(0, 6))\n",
    "sns.kdeplot(flattened_distances, fill=False,  ax=axes[2], lw=lw, color='red', alpha=alph, clip=(0, 6))\n",
    "for i in range(len(ibis)):\n",
    "    sns.kdeplot(ibis[i], fill=False,  ax=axes[3], lw=lw, color='gray', alpha=alph, clip=(0, 6))\n",
    "sns.kdeplot(flattened_ibis, fill=False,  ax=axes[3], lw=lw, color='red', alpha=alph, clip=(0, 6))  \n",
    "\n",
    "axes[2].set_xlim(-0.1,3)\n",
    "axes[2].set_xlim(-0.1,4)\n",
    "axes[2].set_title('Bout Distance', fontsize=f_size)\n",
    "axes[2].set_xlabel('Bout Distance [mm]', fontsize=f_size)\n",
    "axes[3].set_title('Inter Bout Interval', fontsize=f_size)\n",
    "axes[3].set_xlabel('Inter Bout Interval [ms]', fontsize=f_size)\n",
    "\n",
    "for ax in axes:\n",
    "    ax.set_ylabel('Density', fontsize=f_size)\n",
    "    ax.tick_params(axis='both', which='major', labelsize=f_size)  # Adjust the labelsize as desired\n",
    "\n",
    "sns.despine(top=True, right=True, left=False, bottom=False)\n",
    "plt.tight_layout()\n",
    "\n",
    "fig.savefig(figure_path/ 'pooled_angles.pdf', dpi =dpi)\n",
    "fig.savefig(figure_path/ 'pooled_angles.png', dpi =dpi)"
   ]
  },
  {
   "cell_type": "code",
   "execution_count": null,
   "id": "d12a802b-6dd6-4ca6-ba84-f25af1e6f605",
   "metadata": {},
   "outputs": [],
   "source": []
  }
 ],
 "metadata": {
  "kernelspec": {
   "display_name": "Python 3 (ipykernel)",
   "language": "python",
   "name": "python3"
  },
  "language_info": {
   "codemirror_mode": {
    "name": "ipython",
    "version": 3
   },
   "file_extension": ".py",
   "mimetype": "text/x-python",
   "name": "python",
   "nbconvert_exporter": "python",
   "pygments_lexer": "ipython3",
   "version": "3.11.5"
  }
 },
 "nbformat": 4,
 "nbformat_minor": 5
}
