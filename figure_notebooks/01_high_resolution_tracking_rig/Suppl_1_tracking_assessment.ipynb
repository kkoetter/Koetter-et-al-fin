{
 "cells": [
  {
   "cell_type": "code",
   "execution_count": 1,
   "id": "6c9db560",
   "metadata": {},
   "outputs": [],
   "source": [
    "%load_ext autoreload\n",
    "%autoreload 2\n",
    "import warnings\n",
    "warnings.filterwarnings('ignore')"
   ]
  },
  {
   "cell_type": "code",
   "execution_count": 2,
   "id": "13211d13",
   "metadata": {},
   "outputs": [],
   "source": [
    "# Data Wrangling\n",
    "import numpy as np\n",
    "import pandas as pd\n",
    "from pathlib import Path\n",
    "import glob\n",
    "import flammkuchen as fl\n",
    "from tqdm import tqdm\n",
    "\n",
    "# Image\n",
    "import cv2 \n",
    "import matplotlib.pyplot as plt\n",
    "import seaborn as sns\n",
    "import matplotlib.cm as cm\n",
    "\n",
    "from collections import defaultdict"
   ]
  },
  {
   "cell_type": "code",
   "execution_count": 4,
   "id": "dc76b964-947f-42d4-880e-690eae229a75",
   "metadata": {},
   "outputs": [],
   "source": [
    "from fig_1_helper import labels_cat, color, color_bouts, cmp_bouts\n",
    "from fig_1_helper import mid_head\n",
    "from qc_helpers import calculate_percentage, calculate_percentage_lists, smooth_bool_array, quantify_periods, median_length_periods"
   ]
  },
  {
   "cell_type": "markdown",
   "id": "9bc9b301-b5a5-4984-a328-035747488d24",
   "metadata": {},
   "source": [
    "# Load Data"
   ]
  },
  {
   "cell_type": "code",
   "execution_count": 5,
   "id": "60d3fa3d-2a9b-4065-9741-7ef00d6933ec",
   "metadata": {},
   "outputs": [],
   "source": [
    "figure_path = Path(r\"\\\\portulab.synology.me\\data\\Kata\\Figures_Paper\\Figure_1\\supp\\suppl_1\")"
   ]
  },
  {
   "cell_type": "code",
   "execution_count": 6,
   "id": "f763a2f4",
   "metadata": {},
   "outputs": [
    {
     "data": {
      "text/plain": [
       "WindowsPath('//portulab.synology.me/data/Kata/Data/230307_visstim_2D/120328_f3')"
      ]
     },
     "execution_count": 6,
     "metadata": {},
     "output_type": "execute_result"
    }
   ],
   "source": [
    "fish_path = Path(r'\\\\portulab.synology.me\\data\\Kata\\Data\\230307_visstim_2D\\120328_f3')\n",
    "fish_path"
   ]
  },
  {
   "cell_type": "code",
   "execution_count": 7,
   "id": "0d8732a0",
   "metadata": {},
   "outputs": [
    {
     "data": {
      "text/plain": [
       "WindowsPath('//portulab.synology.me/data/Kata/Data/230307_visstim_2D/120328_f3/120328_video.mp4')"
      ]
     },
     "execution_count": 7,
     "metadata": {},
     "output_type": "execute_result"
    }
   ],
   "source": [
    "vid_path = list(fish_path.glob('*video*'))[0]\n",
    "vid_path"
   ]
  },
  {
   "cell_type": "code",
   "execution_count": 8,
   "id": "33d3e324-843b-45ef-8ff0-bf42c8611261",
   "metadata": {},
   "outputs": [
    {
     "data": {
      "text/plain": [
       "WindowsPath('//portulab.synology.me/data/Kata/Processed_Data/tensor_data/features_bouts_new.csv')"
      ]
     },
     "execution_count": 8,
     "metadata": {},
     "output_type": "execute_result"
    }
   ],
   "source": [
    "path_features = Path(r'\\\\portulab.synology.me\\data\\Kata\\Processed_Data\\tensor_data\\features_bouts_new.csv')\n",
    "path_features"
   ]
  },
  {
   "cell_type": "code",
   "execution_count": 9,
   "id": "b9d30f38-6cc4-4788-8132-18be5fbb3fdf",
   "metadata": {},
   "outputs": [
    {
     "data": {
      "text/html": [
       "<div>\n",
       "<style scoped>\n",
       "    .dataframe tbody tr th:only-of-type {\n",
       "        vertical-align: middle;\n",
       "    }\n",
       "\n",
       "    .dataframe tbody tr th {\n",
       "        vertical-align: top;\n",
       "    }\n",
       "\n",
       "    .dataframe thead th {\n",
       "        text-align: right;\n",
       "    }\n",
       "</style>\n",
       "<table border=\"1\" class=\"dataframe\">\n",
       "  <thead>\n",
       "    <tr style=\"text-align: right;\">\n",
       "      <th></th>\n",
       "      <th>Unnamed: 0</th>\n",
       "      <th>exp</th>\n",
       "      <th>fish_id</th>\n",
       "      <th>bout_angle</th>\n",
       "      <th>cluster</th>\n",
       "      <th>frame_start</th>\n",
       "      <th>frame_end</th>\n",
       "      <th>bout_id_orig</th>\n",
       "      <th>mb_proba</th>\n",
       "      <th>max_eye_rot</th>\n",
       "      <th>...</th>\n",
       "      <th>tail_freq</th>\n",
       "      <th>l_fin_freqs</th>\n",
       "      <th>r_fin_freqs</th>\n",
       "      <th>tail_max_freq</th>\n",
       "      <th>l_fin_max_freqs</th>\n",
       "      <th>r_fin_max_freqs</th>\n",
       "      <th>l_start</th>\n",
       "      <th>l_end</th>\n",
       "      <th>r_start</th>\n",
       "      <th>r_end</th>\n",
       "    </tr>\n",
       "  </thead>\n",
       "  <tbody>\n",
       "    <tr>\n",
       "      <th>0</th>\n",
       "      <td>0</td>\n",
       "      <td>13052024_visstim_2D_round</td>\n",
       "      <td>240513_f0</td>\n",
       "      <td>3.000171</td>\n",
       "      <td>0</td>\n",
       "      <td>18375</td>\n",
       "      <td>18410</td>\n",
       "      <td>78</td>\n",
       "      <td>0.806645</td>\n",
       "      <td>-0.239648</td>\n",
       "      <td>...</td>\n",
       "      <td>0.121622</td>\n",
       "      <td>0.105263</td>\n",
       "      <td>0.109756</td>\n",
       "      <td>0.166667</td>\n",
       "      <td>0.166667</td>\n",
       "      <td>0.166667</td>\n",
       "      <td>0.0</td>\n",
       "      <td>27.0</td>\n",
       "      <td>0.0</td>\n",
       "      <td>28.0</td>\n",
       "    </tr>\n",
       "    <tr>\n",
       "      <th>1</th>\n",
       "      <td>1</td>\n",
       "      <td>13052024_visstim_2D_round</td>\n",
       "      <td>240513_f0</td>\n",
       "      <td>1.649302</td>\n",
       "      <td>0</td>\n",
       "      <td>19461</td>\n",
       "      <td>19484</td>\n",
       "      <td>80</td>\n",
       "      <td>1.000000</td>\n",
       "      <td>0.479035</td>\n",
       "      <td>...</td>\n",
       "      <td>0.058140</td>\n",
       "      <td>0.117647</td>\n",
       "      <td>0.119048</td>\n",
       "      <td>0.166667</td>\n",
       "      <td>0.166667</td>\n",
       "      <td>0.250000</td>\n",
       "      <td>0.0</td>\n",
       "      <td>15.0</td>\n",
       "      <td>7.0</td>\n",
       "      <td>26.0</td>\n",
       "    </tr>\n",
       "    <tr>\n",
       "      <th>2</th>\n",
       "      <td>2</td>\n",
       "      <td>13052024_visstim_2D_round</td>\n",
       "      <td>240513_f0</td>\n",
       "      <td>-0.861132</td>\n",
       "      <td>0</td>\n",
       "      <td>19661</td>\n",
       "      <td>19689</td>\n",
       "      <td>81</td>\n",
       "      <td>1.000000</td>\n",
       "      <td>-1.120168</td>\n",
       "      <td>...</td>\n",
       "      <td>0.097561</td>\n",
       "      <td>0.115385</td>\n",
       "      <td>0.104167</td>\n",
       "      <td>0.166667</td>\n",
       "      <td>0.166667</td>\n",
       "      <td>0.125000</td>\n",
       "      <td>4.0</td>\n",
       "      <td>20.0</td>\n",
       "      <td>0.0</td>\n",
       "      <td>27.0</td>\n",
       "    </tr>\n",
       "    <tr>\n",
       "      <th>3</th>\n",
       "      <td>3</td>\n",
       "      <td>13052024_visstim_2D_round</td>\n",
       "      <td>240513_f0</td>\n",
       "      <td>0.870591</td>\n",
       "      <td>0</td>\n",
       "      <td>20257</td>\n",
       "      <td>20292</td>\n",
       "      <td>84</td>\n",
       "      <td>1.000000</td>\n",
       "      <td>-2.662451</td>\n",
       "      <td>...</td>\n",
       "      <td>0.114286</td>\n",
       "      <td>0.117647</td>\n",
       "      <td>0.117647</td>\n",
       "      <td>0.166667</td>\n",
       "      <td>0.166667</td>\n",
       "      <td>0.125000</td>\n",
       "      <td>19.0</td>\n",
       "      <td>35.0</td>\n",
       "      <td>0.0</td>\n",
       "      <td>35.0</td>\n",
       "    </tr>\n",
       "    <tr>\n",
       "      <th>4</th>\n",
       "      <td>4</td>\n",
       "      <td>13052024_visstim_2D_round</td>\n",
       "      <td>240513_f0</td>\n",
       "      <td>2.231631</td>\n",
       "      <td>0</td>\n",
       "      <td>20824</td>\n",
       "      <td>20859</td>\n",
       "      <td>86</td>\n",
       "      <td>1.000000</td>\n",
       "      <td>-1.192489</td>\n",
       "      <td>...</td>\n",
       "      <td>0.108108</td>\n",
       "      <td>0.116667</td>\n",
       "      <td>0.103448</td>\n",
       "      <td>0.166667</td>\n",
       "      <td>0.125000</td>\n",
       "      <td>0.125000</td>\n",
       "      <td>0.0</td>\n",
       "      <td>23.0</td>\n",
       "      <td>6.0</td>\n",
       "      <td>28.0</td>\n",
       "    </tr>\n",
       "  </tbody>\n",
       "</table>\n",
       "<p>5 rows × 55 columns</p>\n",
       "</div>"
      ],
      "text/plain": [
       "   Unnamed: 0                        exp    fish_id  bout_angle  cluster  \\\n",
       "0           0  13052024_visstim_2D_round  240513_f0    3.000171        0   \n",
       "1           1  13052024_visstim_2D_round  240513_f0    1.649302        0   \n",
       "2           2  13052024_visstim_2D_round  240513_f0   -0.861132        0   \n",
       "3           3  13052024_visstim_2D_round  240513_f0    0.870591        0   \n",
       "4           4  13052024_visstim_2D_round  240513_f0    2.231631        0   \n",
       "\n",
       "   frame_start  frame_end  bout_id_orig  mb_proba  max_eye_rot  ...  \\\n",
       "0        18375      18410            78  0.806645    -0.239648  ...   \n",
       "1        19461      19484            80  1.000000     0.479035  ...   \n",
       "2        19661      19689            81  1.000000    -1.120168  ...   \n",
       "3        20257      20292            84  1.000000    -2.662451  ...   \n",
       "4        20824      20859            86  1.000000    -1.192489  ...   \n",
       "\n",
       "   tail_freq  l_fin_freqs  r_fin_freqs  tail_max_freq  l_fin_max_freqs  \\\n",
       "0   0.121622     0.105263     0.109756       0.166667         0.166667   \n",
       "1   0.058140     0.117647     0.119048       0.166667         0.166667   \n",
       "2   0.097561     0.115385     0.104167       0.166667         0.166667   \n",
       "3   0.114286     0.117647     0.117647       0.166667         0.166667   \n",
       "4   0.108108     0.116667     0.103448       0.166667         0.125000   \n",
       "\n",
       "   r_fin_max_freqs  l_start  l_end  r_start  r_end  \n",
       "0         0.166667      0.0   27.0      0.0   28.0  \n",
       "1         0.250000      0.0   15.0      7.0   26.0  \n",
       "2         0.125000      4.0   20.0      0.0   27.0  \n",
       "3         0.125000     19.0   35.0      0.0   35.0  \n",
       "4         0.125000      0.0   23.0      6.0   28.0  \n",
       "\n",
       "[5 rows x 55 columns]"
      ]
     },
     "execution_count": 9,
     "metadata": {},
     "output_type": "execute_result"
    }
   ],
   "source": [
    "features = pd.read_csv(path_features)\n",
    "features.head()"
   ]
  },
  {
   "cell_type": "code",
   "execution_count": 10,
   "id": "45985564-a13c-48ba-9fa6-59fdda85bc73",
   "metadata": {},
   "outputs": [],
   "source": [
    "clusters = features.cluster.astype(int)"
   ]
  },
  {
   "cell_type": "markdown",
   "id": "07494e34-840e-4b20-a96a-4c12a4107dff",
   "metadata": {},
   "source": [
    "### Set some Parameters"
   ]
  },
  {
   "cell_type": "code",
   "execution_count": 11,
   "id": "81b544ad-984b-4758-81ca-8d1f960543ef",
   "metadata": {},
   "outputs": [],
   "source": [
    "center_y = 512 #268  #from camera\n",
    "center_x = 640 #360  #from camera\n",
    "px_mm = 70 #150 #70\n",
    "\n",
    "contrast = 2.2 # Contrast control ( 0 to 127)\n",
    "brightness = 0.01 # Brightness control (0-100)"
   ]
  },
  {
   "cell_type": "code",
   "execution_count": 12,
   "id": "0dcd9ca8-709b-4b7c-bc34-b53a08b37723",
   "metadata": {},
   "outputs": [],
   "source": [
    "alph=0.3\n",
    "size=1\n",
    "cm_ = 1/2.54  # centimeters in inches\n",
    "f_size =6\n",
    "lw=0.5\n",
    "dpi= 600"
   ]
  },
  {
   "cell_type": "markdown",
   "id": "927e8943",
   "metadata": {},
   "source": [
    "# Panel A: Trajectory"
   ]
  },
  {
   "cell_type": "code",
   "execution_count": 13,
   "id": "f6a4393e-6f57-4841-830a-a34ac4d01cb2",
   "metadata": {},
   "outputs": [],
   "source": [
    "traj_paths = [\n",
    "    Path(r'//portulab.synology.me/data/Kata/Data/22042024_visstim_2D_round/240423_f0'),\n",
    "    Path(r'//portulab.synology.me/data/Kata/Data/22042024_visstim_2D_round/240424_f4_1'),\n",
    "    Path(r'//portulab.synology.me/data/Kata/Data/22042024_visstim_2D_round/240423_f0_1'),\n",
    "    Path(r'//portulab.synology.me/data/Kata/Data/22042024_visstim_2D_round/240424_f4_2'),]\n",
    "\n",
    "mask_path = Path(r\"\\\\portulab.synology.me\\data\\Kata\\Processed_Data\\22042024_visstim_2D_round_\\filtered\\22042024_visstim_2D_round_mask.csv\")"
   ]
  },
  {
   "cell_type": "code",
   "execution_count": 14,
   "id": "9594d75b-0b69-4d8c-981a-f87adde6a508",
   "metadata": {},
   "outputs": [],
   "source": [
    "m_x_lists = []\n",
    "m_y_lists = []\n",
    "\n",
    "for path in traj_paths:\n",
    "    motor_path = list(path.glob('*motor_log.hdf5*'))[0]\n",
    "    motor_log = pd.read_hdf(motor_path)\n",
    "    m_x_lists.append(motor_log.x.values)\n",
    "    m_y_lists.append(motor_log.y.values)"
   ]
  },
  {
   "cell_type": "code",
   "execution_count": 15,
   "id": "c7fec792-4dd7-4e67-8428-0698bb36bfba",
   "metadata": {},
   "outputs": [
    {
     "name": "stdout",
     "output_type": "stream",
     "text": [
      "Experiment lenghts 9.252 min\n",
      "Experiment lenghts 9.362583333333333 min\n",
      "Experiment lenghts 7.980333333333333 min\n",
      "Experiment lenghts 8.794833333333335 min\n"
     ]
    }
   ],
   "source": [
    "for i in m_x_lists:\n",
    "    print ('Experiment lenghts {} min'.format(i.shape[0]/200/60))"
   ]
  },
  {
   "cell_type": "code",
   "execution_count": 16,
   "id": "5bd422ed-6954-44e4-9308-990436e6abcb",
   "metadata": {},
   "outputs": [],
   "source": [
    "mask= fl.load(mask_path)\n",
    "\n",
    "margin = mask[3]\n",
    "center_x_mask = mask[0]-0.5\n",
    "center_y_mask = mask[1]+0.5\n",
    "radius_mask = mask[2]+0.3"
   ]
  },
  {
   "cell_type": "code",
   "execution_count": 17,
   "id": "62de3bbc-95c4-481c-b403-86c9fc675f51",
   "metadata": {},
   "outputs": [
    {
     "data": {
      "image/png": "[encoded data removed]",
      "text/plain": [
       "<Figure size 220.472x220.472 with 4 Axes>"
      ]
     },
     "metadata": {
      "needs_background": "light"
     },
     "output_type": "display_data"
    }
   ],
   "source": [
    "viridis = cm.get_cmap('viridis')\n",
    "vmin, vmax = 0, 10\n",
    "\n",
    "fig, axes = plt.subplots(2, 2, facecolor='None',figsize=(5.6*cm_, 5.6*cm_), sharex=True, sharey=True)\n",
    "axes = axes.ravel()\n",
    "\n",
    "for i in range(4):\n",
    "    axes[i].set_title('Example {}'.format(i+1), fontsize=f_size)\n",
    "    # Generate time points for each series\n",
    "    time_points = np.linspace(0, 10, m_x_lists[i].shape[0])\n",
    "    norm = plt.Normalize(vmin, vmax)\n",
    "    colors = viridis(norm(time_points))\n",
    "    \n",
    "    sc= axes[i].scatter(m_x_lists[i], m_y_lists[i], s=size, c=colors)\n",
    "    circle = plt.Circle((center_x_mask, center_y_mask), radius_mask, lw=lw, color='pink', fill=False)\n",
    "    axes[i].add_patch(circle)\n",
    "    axes[i].axis('off')\n",
    "    axes[i].set_aspect('equal')  # Set aspect ratio to equal\n",
    "\n",
    "\n",
    "axes[-1].plot([center_x_mask-radius_mask,center_x_mask+radius_mask], [-40, -40], lw=lw, c='k')\n",
    "axes[-1].text(center_x_mask-radius_mask, -50, '50 mm', fontsize= f_size)\n",
    "plt.subplots_adjust(left=0, right=1, top=0.9, bottom=0.1, wspace=0.1, hspace=0.1)\n",
    "\n",
    "fig.savefig(figure_path/ 'example_trajectories_sq.png', dpi=dpi)"
   ]
  },
  {
   "cell_type": "code",
   "execution_count": 57,
   "id": "ee78c865-fee4-4407-a808-9b2bed646f9f",
   "metadata": {},
   "outputs": [
    {
     "data": {
      "image/png": "[encoded data removed]",
      "text/plain": [
       "<Figure size 196.85x216.535 with 1 Axes>"
      ]
     },
     "metadata": {
      "needs_background": "light"
     },
     "output_type": "display_data"
    }
   ],
   "source": [
    "viridis = cm.get_cmap('viridis')\n",
    "# Set your min and max for the color scale\n",
    "vmin, vmax = 0, 10\n",
    "\n",
    "fig, axes = plt.subplots(facecolor='None',figsize=(5*cm_, 5.5*cm_))\n",
    "\n",
    "axes.set_title('Example', fontsize=f_size)\n",
    "# Generate time points for each series\n",
    "time_points = np.linspace(0, 10, m_x_lists[0].shape[0])\n",
    "norm = plt.Normalize(vmin, vmax)\n",
    "colors = viridis(norm(time_points))\n",
    "\n",
    "sc= axes.scatter(m_x_lists[0], m_y_lists[0], s=size, c=colors)\n",
    "circle = plt.Circle((center_x_mask, center_y_mask), radius_mask, lw=lw, color='pink', fill=False)\n",
    "axes.add_patch(circle)\n",
    "axes.axis('off')\n",
    "axes.set_aspect('equal')  # Set aspect ratio to equal\n",
    "axes.plot([center_x_mask-radius_mask,center_x_mask+radius_mask], [-40, -40], lw=lw*2, c='k')\n",
    "axes.text(center_x_mask-radius_mask, -35, '50 mm', fontsize= f_size)\n",
    "    \n",
    "plt.tight_layout()\n",
    "fig.savefig(figure_path/ 'example_trajectories_single_fish.png', dpi=dpi)\n"
   ]
  },
  {
   "cell_type": "markdown",
   "id": "7df848a3-b6ea-4bab-bfd8-0231daa9bb27",
   "metadata": {},
   "source": [
    "## Panel B: Tracking Overlay"
   ]
  },
  {
   "cell_type": "code",
   "execution_count": 19,
   "id": "d114bc75-9e9f-4781-a5eb-03a163b27589",
   "metadata": {},
   "outputs": [
    {
     "data": {
      "text/plain": [
       "WindowsPath('//portulab.synology.me/data/Kata/Data/230307_visstim_2D/120328_f3')"
      ]
     },
     "execution_count": 19,
     "metadata": {},
     "output_type": "execute_result"
    }
   ],
   "source": [
    "fish_path = Path(r'\\\\portulab.synology.me\\data\\Kata\\Data\\230307_visstim_2D\\120328_f3')\n",
    "fish_path"
   ]
  },
  {
   "cell_type": "code",
   "execution_count": 20,
   "id": "e683b01f-22d6-4728-92fa-3a7fc669013e",
   "metadata": {},
   "outputs": [],
   "source": [
    "df_dlc = pd.read_csv(Path('//portulab.synology.me/data/Kata/Processed_Data/22042024_visstim_2D_round_/240423_f0_DLC.csv'), header=[0,1])\n",
    "thr =0.95\n",
    "body_l = df_dlc.body.likelihood\n",
    "mask = body_l >=thr\n",
    "\n",
    "## pixel error\n",
    "mid_headx, mid_heady, left_mid_eye_x, left_mid_eye_y, right_mid_eye_x, right_mid_eye_y = mid_head(df_dlc)\n",
    "head_x_ =mid_headx[mask==True]\n",
    "head_y_ =mid_heady[mask==True]"
   ]
  },
  {
   "cell_type": "code",
   "execution_count": 21,
   "id": "bb3f404c-1ffc-40b8-bf88-464b7eb5bd7b",
   "metadata": {},
   "outputs": [
    {
     "data": {
      "text/plain": [
       "WindowsPath('//portulab.synology.me/data/Kata/Data/230307_visstim_2D/120328_f3/120328_video.mp4')"
      ]
     },
     "execution_count": 21,
     "metadata": {},
     "output_type": "execute_result"
    }
   ],
   "source": [
    "vid_path = list(fish_path.glob('*video*'))[0]\n",
    "vid_path"
   ]
  },
  {
   "cell_type": "code",
   "execution_count": 22,
   "id": "d2871e60-0e43-41c1-b9d3-2b995cb33d83",
   "metadata": {},
   "outputs": [
    {
     "name": "stderr",
     "output_type": "stream",
     "text": [
      "100%|█████████████████████████████████████████████████████████████████████████████| 5000/5000 [00:14<00:00, 340.95it/s]\n"
     ]
    }
   ],
   "source": [
    "## Read in chunk of video \n",
    "\n",
    "frame_n = 5000\n",
    "\n",
    "frames= []\n",
    "\n",
    "cap = cv2.VideoCapture(str(vid_path))\n",
    "for i in tqdm(range(frame_n)):\n",
    "    success = cap.grab()\n",
    "    ret, image = cap.retrieve()\n",
    "    frames.append(image)\n",
    "    \n",
    "cap.release()"
   ]
  },
  {
   "cell_type": "code",
   "execution_count": 23,
   "id": "2302d316-2fd8-41c9-bec3-5a923b62bf1d",
   "metadata": {},
   "outputs": [],
   "source": [
    "bout_frame = 4212"
   ]
  },
  {
   "cell_type": "code",
   "execution_count": 27,
   "id": "3875672b-e803-4e40-88c2-8ef74c17245c",
   "metadata": {},
   "outputs": [
    {
     "data": {
      "image/png": "[encoded data removed]",
      "text/plain": [
       "<Figure size 511.811x267.717 with 1 Axes>"
      ]
     },
     "metadata": {
      "needs_background": "light"
     },
     "output_type": "display_data"
    }
   ],
   "source": [
    "frame_n = bout_frame+15\n",
    "img = frames[frame_n]\n",
    "rot_im = img\n",
    "### Make a lighter figure\n",
    "out = cv2.addWeighted(rot_im, contrast, rot_im, 0, brightness)\n",
    "\n",
    "# Create figure and axes\n",
    "fig, ax = plt.subplots( facecolor='None',figsize=(13*cm_, 6.8*cm_))\n",
    "                       \n",
    "# Display the image\n",
    "ax.imshow(out, alpha=0.9, cmap='gray') #plus 15 to see bend tail etc\n",
    "ax.scatter(center_x, center_y, c='r', s=size, label='Center of Image')\n",
    "ax.plot(head_x_, head_y_, alpha=alph, color='gray', label ='Head Position')\n",
    "\n",
    "ax.plot([1100, 1170], [1000, 1000], lw=lw*2, c='k')\n",
    "ax.text(1100, 980, '1 mm', fontsize=f_size)\n",
    "\n",
    "ax.plot([center_x, center_x+140], [center_y, center_y], lw=lw, c='r')\n",
    "circle = plt.Circle((center_x, center_y), 140,\n",
    "                    color='r', fill=False, lw=lw)\n",
    "ax.add_patch(circle)\n",
    "plt.legend(fontsize=f_size)\n",
    "ax.axis('off')\n",
    "\n",
    "fig.savefig(figure_path/'traj_tracked_frame_tracking_error.png', dpi = dpi)\n",
    "fig.savefig(figure_path/'traj_tracked_frame_tracking_error.pdf', dpi = dpi)"
   ]
  },
  {
   "cell_type": "markdown",
   "id": "84aef2db-e809-412e-84f5-6ecd3a68def4",
   "metadata": {},
   "source": [
    "## Panel C: Tracking Error"
   ]
  },
  {
   "cell_type": "code",
   "execution_count": 28,
   "id": "f885e47e-a346-46e5-b155-0575940a683c",
   "metadata": {},
   "outputs": [
    {
     "name": "stdout",
     "output_type": "stream",
     "text": [
      "dict_keys(['clusters_per_px_error', 'periods', 'px_error', 'Median_lengh_non_tracking_s', 'Median_lengh_tracking_s', 'fish_id', 'l_r_tracked_frames', 'l_tracked_frames', 'r_tracked_frames', 'total_frames', 'tracked_frames'])\n"
     ]
    }
   ],
   "source": [
    "dict_paths = list(Path('//portulab.synology.me/data/Kata/Processed_Data/tracking_assessment').glob('*QC_tracking.h5'))\n",
    "\n",
    "pooled_dicts = []\n",
    "for path in dict_paths:\n",
    "    dict =fl.load(path)\n",
    "    pooled_dicts.append(dict)\n",
    "\n",
    "flattened_dicts = [item for sublist in pooled_dicts for item in sublist]\n",
    "len(flattened_dicts), type(flattened_dicts)\n",
    "combined_dict = defaultdict(list)\n",
    "\n",
    "for d in flattened_dicts:\n",
    "    for key, value in d.items():\n",
    "        combined_dict[key].append(value)\n",
    "\n",
    "# Convert defaultdict back to a regular dictionary\n",
    "combined_dict = {key: value for key, value in combined_dict.items()}\n",
    "print(combined_dict.keys())"
   ]
  },
  {
   "cell_type": "code",
   "execution_count": 29,
   "id": "b7e1335d-df91-492f-a99f-6bf97cfe530e",
   "metadata": {},
   "outputs": [
    {
     "name": "stdout",
     "output_type": "stream",
     "text": [
      "Median px error 6.3850099988928655\n",
      "Median micron error 9.121442855561236\n"
     ]
    }
   ],
   "source": [
    "flattened_error = [item for sublist in combined_dict['px_error'] for item in sublist]\n",
    "len(flattened_error)\n",
    "print (\"Median px error {}\".format(np.median(flattened_error)))\n",
    "print (\"Median micron error {}\".format((np.median(flattened_error)/px_mm)*100))"
   ]
  },
  {
   "cell_type": "code",
   "execution_count": 33,
   "id": "472e0ad8-e7cc-4404-a219-f07781846a2b",
   "metadata": {},
   "outputs": [
    {
     "data": {
      "image/png": "[encoded data removed]",
      "text/plain": [
       "<Figure size 118.11x216.535 with 1 Axes>"
      ]
     },
     "metadata": {
      "needs_background": "light"
     },
     "output_type": "display_data"
    }
   ],
   "source": [
    "plt.figure( facecolor='None',figsize=(3*cm_, 5.5*cm_))\n",
    "ax = sns.histplot(data=np.asarray(flattened_error) / px_mm, bins=np.arange(0, 2, 0.1), edgecolor='w',stat='percent', color='k', kde=True)\n",
    "for line in ax.get_lines():\n",
    "    line.set_linewidth(lw) \n",
    "\n",
    "plt.ylabel('Percent', fontsize=f_size)\n",
    "plt.xlabel('Head Distance\\nfrom Center [mm]', fontsize=f_size)\n",
    "plt.tick_params(axis='both', which='major', labelsize=f_size)\n",
    "plt.axvline(140/px_mm, ls=':', c='r', lw=lw)\n",
    "plt.xlim(-0.1,2)\n",
    "\n",
    "sns.despine(top=True, right=True, left=False, bottom=False)\n",
    "plt.tight_layout()\n",
    "plt.savefig(figure_path/ 'hist_px_error_pooled.pdf', dpi =600)\n",
    "plt.savefig(figure_path/ 'hist_px_error_pooled.png', dpi =600)"
   ]
  },
  {
   "cell_type": "markdown",
   "id": "0f382f88-3144-493d-90af-93733d656ce3",
   "metadata": {},
   "source": [
    "## Panel D: Tracking Error across categories"
   ]
  },
  {
   "cell_type": "code",
   "execution_count": 34,
   "id": "56c2d26a-d4bc-4118-a2b8-9cf6e51b193d",
   "metadata": {},
   "outputs": [],
   "source": [
    "flattened_clust = [item for sublist in combined_dict['clusters_per_px_error'] for item in sublist]\n",
    "px_error_per_cluster = []\n",
    "\n",
    "for clust in range(11):\n",
    "    px_per_cluster = np.asarray(flattened_error)[np.asarray(flattened_clust)==clust]\n",
    "    px_error_per_cluster.append(px_per_cluster)"
   ]
  },
  {
   "cell_type": "code",
   "execution_count": 36,
   "id": "dc61214a-2c71-47cd-a6fd-540d7e5581ae",
   "metadata": {},
   "outputs": [
    {
     "data": {
      "image/png": "[encoded data removed]",
      "text/plain": [
       "<Figure size 492.126x216.535 with 12 Axes>"
      ]
     },
     "metadata": {
      "needs_background": "light"
     },
     "output_type": "display_data"
    }
   ],
   "source": [
    "# Plotting as PDF\n",
    "fig, axes = plt.subplots(2, 6, facecolor='None',figsize=(12.5*cm_, 5.5*cm_), sharex=True, sharey=True)\n",
    "axes = axes.ravel()\n",
    "\n",
    "for i in range(11):\n",
    "    ax = sns.histplot(data=np.asarray(px_error_per_cluster[i]) / px_mm, \n",
    "                 bins=np.arange(0, 6, 0.1), color=color[i], edgecolor='w', kde=True, \n",
    "                 stat='percent', ax=axes[i])\n",
    "    for line in ax.get_lines():\n",
    "        line.set_linewidth(lw)  # Set the desired line width here\n",
    "    axes[i].set_title(labels_cat[i], color=color[i], fontsize=f_size)\n",
    "    axes[i].axvline(140 / px_mm, lw=lw, ls=':', c='r')\n",
    "    axes[i].set_xlim(-0.1, 6)\n",
    "    axes[i].set_ylim(-0.1, 36)\n",
    "\n",
    "axes[0].set_ylabel('Percent', fontsize=f_size)\n",
    "axes[6].set_ylabel('Percent', fontsize=f_size)\n",
    "axes[-4].set_xlabel('Head Distance from Center [mm]', fontsize=f_size)\n",
    "for ax in axes:\n",
    "    ax.tick_params(axis='both', which='major', labelsize=f_size)\n",
    "sns.despine(top=True, right=True, left=False, bottom=False)\n",
    "plt.tight_layout()\n",
    "\n",
    "fig.savefig(figure_path / 'hist_px_error_pooled_per_bout_cat_all.pdf', dpi=dpi)\n",
    "fig.savefig(figure_path / 'hist_px_error_pooled_per_bout_cat_all.png', dpi=dpi)"
   ]
  },
  {
   "cell_type": "markdown",
   "id": "9249e3e5-29d2-40ac-beed-f24b89d3c6c3",
   "metadata": {},
   "source": [
    "## Panel E-F: Tracking and Searching Episodes"
   ]
  },
  {
   "cell_type": "code",
   "execution_count": 37,
   "id": "e834f64d-1305-435c-b894-a997472e3c8f",
   "metadata": {},
   "outputs": [
    {
     "data": {
      "text/plain": [
       "97"
      ]
     },
     "execution_count": 37,
     "metadata": {},
     "output_type": "execute_result"
    }
   ],
   "source": [
    "periods = combined_dict['periods']\n",
    "len(periods)"
   ]
  },
  {
   "cell_type": "code",
   "execution_count": 38,
   "id": "d8af62df-e081-4de7-909f-5e5ae80ef055",
   "metadata": {},
   "outputs": [],
   "source": [
    "# Initialize pooled histograms\n",
    "true_hist_pooled = np.zeros(10)\n",
    "false_hist_pooled = np.zeros(10)\n",
    "\n",
    "bins = np.arange(1, 12, 1)  # Bins from 0 to 10 with step of 1\n",
    "# print (bins)\n",
    "\n",
    "for i in range(len(periods)):\n",
    "    # Separate numbers based on the boolean value\n",
    "    true_numbers = [number for flag, number in periods[i] if flag]\n",
    "    false_numbers = [number for flag, number in periods[i] if not flag]\n",
    "    \n",
    "    # Convert to minutes\n",
    "    true_numbers_min = [(item/200) / 60 for item in true_numbers]\n",
    "    false_numbers_min = [(item/200) / 60 for item in false_numbers]\n",
    "\n",
    "    # Create histograms for each period and add to pooled histograms\n",
    "    true_hist, _ = np.histogram(true_numbers_min, bins=bins)\n",
    "    false_hist, _ = np.histogram(false_numbers_min, bins=bins)\n",
    "    \n",
    "    true_hist_pooled += true_hist\n",
    "    false_hist_pooled += false_hist"
   ]
  },
  {
   "cell_type": "code",
   "execution_count": 39,
   "id": "c7f241cc-3e83-41f9-a1b8-d5be722ff2ea",
   "metadata": {},
   "outputs": [
    {
     "data": {
      "text/plain": [
       "((10,), (11,))"
      ]
     },
     "execution_count": 39,
     "metadata": {},
     "output_type": "execute_result"
    }
   ],
   "source": [
    "true_hist_pooled.shape, bins.shape"
   ]
  },
  {
   "cell_type": "code",
   "execution_count": 41,
   "id": "7d66bfc4-956b-4e02-9c35-3b082603f798",
   "metadata": {},
   "outputs": [
    {
     "data": {
      "image/png": "[encoded data removed]",
      "text/plain": [
       "<Figure size 157.48x157.48 with 1 Axes>"
      ]
     },
     "metadata": {
      "needs_background": "light"
     },
     "output_type": "display_data"
    }
   ],
   "source": [
    "\n",
    "fig, ax = plt.subplots(facecolor='None',figsize=(4*cm_, 4*cm_))\n",
    "\n",
    "ax.bar(bins[:-1], true_hist_pooled, width=1, color='gray', edgecolor='w')\n",
    "ax.set_title('Tracking Episodes', fontsize=f_size)\n",
    "ax.set_xlabel('Duration [min]', fontsize=f_size)\n",
    "ax.set_ylabel('# of episodes', fontsize=f_size)\n",
    "ax.set_xlim(0, 10)\n",
    "# Set the size of tick labels.\n",
    "ax.tick_params(axis='both', which='major', labelsize=f_size)\n",
    "\n",
    "sns.despine(top=True, right=True, left=False, bottom=False)\n",
    "plt.tight_layout()\n",
    "\n",
    "fig.savefig(figure_path/ 'lengh_tracking_pooled.pdf', dpi =dpi)\n",
    "fig.savefig(figure_path/ 'lengh_tracking_pooled.png', dpi =dpi)"
   ]
  },
  {
   "cell_type": "code",
   "execution_count": 42,
   "id": "8e47ef67-b809-4bb1-9883-c475995be8e4",
   "metadata": {},
   "outputs": [
    {
     "data": {
      "image/png": "[encoded data removed]",
      "text/plain": [
       "<Figure size 157.48x157.48 with 1 Axes>"
      ]
     },
     "metadata": {
      "needs_background": "light"
     },
     "output_type": "display_data"
    }
   ],
   "source": [
    "fig, ax = plt.subplots(facecolor='None',figsize=(4*cm_, 4*cm_))\n",
    "\n",
    "ax.bar(bins[:-1], false_hist_pooled, width=1, color='gray', edgecolor='w')\n",
    "ax.set_title('Searching Episodes', fontsize=f_size)\n",
    "ax.set_xlabel('Duration [min]', fontsize=f_size)\n",
    "ax.set_ylabel('# of episodes', fontsize=f_size)\n",
    "ax.set_xlim(0, 4)\n",
    "# Set the size of tick labels.\n",
    "ax.tick_params(axis='both', which='major', labelsize=f_size)\n",
    "sns.despine(top=True, right=True, left=False, bottom=False)\n",
    "plt.tight_layout()\n",
    "\n",
    "fig.savefig(figure_path/ 'lengh_searching_pooled.pdf', dpi =dpi)\n",
    "fig.savefig(figure_path/ 'lengh_searching_pooled.png', dpi =dpi)"
   ]
  },
  {
   "cell_type": "markdown",
   "id": "94b9c947-b78a-4242-b625-fba47e9c0422",
   "metadata": {},
   "source": [
    "## quantify what percentage of search episodes is under 1 min"
   ]
  },
  {
   "cell_type": "code",
   "execution_count": 43,
   "id": "14ce4d33-53d7-4423-aeea-bee1aa6aedbb",
   "metadata": {},
   "outputs": [
    {
     "name": "stdout",
     "output_type": "stream",
     "text": [
      "Percentage of search episodes under 1 minute: 68.31%\n"
     ]
    }
   ],
   "source": [
    "# Initialize counters for total and under 1 minute search episodes\n",
    "total_search_episodes = 0\n",
    "under_1_min_search_episodes = 0\n",
    "\n",
    "for i in range(len(periods)):\n",
    "    # Separate numbers based on the boolean value\n",
    "    false_numbers = [number for flag, number in periods[i] if not flag]\n",
    "    \n",
    "    # Convert to minutes\n",
    "    false_numbers_min = [item / 60 for item in false_numbers]\n",
    "    \n",
    "    # Update total and under 1 minute counters\n",
    "    total_search_episodes += len(false_numbers_min)\n",
    "    under_1_min_search_episodes += sum(1 for number in false_numbers_min if number < 1)\n",
    "\n",
    "# Calculate percentage\n",
    "percentage_under_1_min = (under_1_min_search_episodes / total_search_episodes) * 100\n",
    "\n",
    "print(f\"Percentage of search episodes under 1 minute: {percentage_under_1_min:.2f}%\")\n"
   ]
  },
  {
   "cell_type": "markdown",
   "id": "9eaecb06-77d9-4084-aa34-07d567562de7",
   "metadata": {},
   "source": [
    "## Panel H-G:  Frames tracked"
   ]
  },
  {
   "cell_type": "code",
   "execution_count": 44,
   "id": "19aa6851-8d1a-47e0-b823-498900c1f2c8",
   "metadata": {},
   "outputs": [
    {
     "data": {
      "text/plain": [
       "(97, 97)"
      ]
     },
     "execution_count": 44,
     "metadata": {},
     "output_type": "execute_result"
    }
   ],
   "source": [
    "### unpack frames \n",
    "\n",
    "total_frames = combined_dict['total_frames']\n",
    "tracked_frames = combined_dict['tracked_frames']\n",
    "l_tracked_frames = combined_dict['l_tracked_frames']\n",
    "r_tracked_frames = combined_dict['r_tracked_frames']\n",
    "both_tracked_frames = combined_dict['l_r_tracked_frames']\n",
    "len(total_frames), len(both_tracked_frames)"
   ]
  },
  {
   "cell_type": "code",
   "execution_count": 45,
   "id": "0406e74c-78ce-48f3-83f4-d9c1609f2620",
   "metadata": {},
   "outputs": [],
   "source": [
    "### calculate percentages\n",
    "tracked_frames_perc = calculate_percentage_lists(tracked_frames, total_frames)\n",
    "tracked_l_fins_perc = calculate_percentage_lists(l_tracked_frames, tracked_frames)\n",
    "tracked_r_fins_perc = calculate_percentage_lists(r_tracked_frames, tracked_frames)\n",
    "l_r_tracked_frames_perc = calculate_percentage_lists(both_tracked_frames, tracked_frames)"
   ]
  },
  {
   "cell_type": "code",
   "execution_count": 51,
   "id": "48ae1d69-95ce-4eb7-9399-408b6f771024",
   "metadata": {},
   "outputs": [
    {
     "data": {
      "image/png": "[encoded data removed]",
      "text/plain": [
       "<Figure size 157.48x157.48 with 1 Axes>"
      ]
     },
     "metadata": {
      "needs_background": "light"
     },
     "output_type": "display_data"
    }
   ],
   "source": [
    "bins=np.arange(0,110,10)\n",
    "\n",
    "fig, ax = plt.subplots(facecolor='None',figsize=(4*cm_, 4*cm_))\n",
    "\n",
    "sns.histplot(data=tracked_frames_perc, bins=bins, edgecolor='w', color='gray', kde=False)\n",
    "ax.set_title('% tracked frames', fontsize=f_size)\n",
    "ax.set_ylabel('Fraction', fontsize=f_size)\n",
    "ax.set_xlabel('% frames', fontsize=f_size)\n",
    "ax.set_xlim(20,100)\n",
    "# Set the size of tick labels.\n",
    "ax.tick_params(axis='both', which='major', labelsize=f_size)\n",
    "sns.despine(top=True, right=True, left=False, bottom=False)\n",
    "plt.tight_layout()\n",
    "\n",
    "fig.savefig( figure_path / 'tracked_frames_percent_pooled.pdf', dpi =dpi)\n",
    "fig.savefig( figure_path / 'tracked_frames_percent_pooled.png', dpi =dpi)"
   ]
  },
  {
   "cell_type": "code",
   "execution_count": 50,
   "id": "f4f2150e-beb6-457b-a074-bb8c6f5213bb",
   "metadata": {},
   "outputs": [
    {
     "data": {
      "image/png": "[encoded data removed]",
      "text/plain": [
       "<Figure size 157.48x157.48 with 1 Axes>"
      ]
     },
     "metadata": {
      "needs_background": "light"
     },
     "output_type": "display_data"
    }
   ],
   "source": [
    "bins=np.arange(0,110,10)\n",
    "\n",
    "fig, ax = plt.subplots(facecolor='None',figsize=(4*cm_, 4*cm_))\n",
    "\n",
    "ax.set_ylabel('Fraction', fontsize=f_size)\n",
    "sns.histplot(data=l_r_tracked_frames_perc, bins=bins, edgecolor='w', color='gray', kde=False)\n",
    "ax.set_title('% tracked fins', fontsize=f_size)\n",
    "ax.set_xlabel('% frames', fontsize=f_size)\n",
    "ax.set_xlim(60,100)\n",
    "ax.tick_params(axis='both', which='major', labelsize=f_size)\n",
    "sns.despine(top=True, right=True, left=False, bottom=False)\n",
    "plt.tight_layout()\n",
    "\n",
    "fig.savefig( figure_path / 'tracking_percent_fins_pooled.pdf', dpi =dpi)\n",
    "fig.savefig( figure_path / 'tracking_percent_fins_pooled.png', dpi =dpi)"
   ]
  },
  {
   "cell_type": "code",
   "execution_count": 48,
   "id": "eca6b2ac-5153-40c1-8b98-4142ba0cb6dc",
   "metadata": {},
   "outputs": [
    {
     "name": "stdout",
     "output_type": "stream",
     "text": [
      "Percentage of sessions with well-tracked fins > 90%: 61.86%\n"
     ]
    }
   ],
   "source": [
    "# Assuming you have a list of tracking percentages for each session\n",
    "tracking_percentages = tracked_frames_perc  # Replace this with your actual data\n",
    "\n",
    "# Count sessions with over 90% well-tracked fins\n",
    "well_tracked_count = sum(1 for percent in tracking_percentages if percent > 90)\n",
    "\n",
    "# Calculate the percentage of sessions with over 90% well-tracked fins\n",
    "total_sessions = len(tracking_percentages)\n",
    "percentage_well_tracked = (well_tracked_count / total_sessions) * 100\n",
    "\n",
    "print('Percentage of sessions with well-tracked fins > 90%: {:.2f}%'.format(percentage_well_tracked))\n"
   ]
  },
  {
   "cell_type": "code",
   "execution_count": 49,
   "id": "c5dff034-c23c-465e-9b02-854bb4c8480a",
   "metadata": {},
   "outputs": [
    {
     "name": "stdout",
     "output_type": "stream",
     "text": [
      "Percentage of sessions with well-tracked fins > 90%: 80.41%\n"
     ]
    }
   ],
   "source": [
    "# Assuming you have a list of tracking percentages for each session\n",
    "tracking_percentages = l_r_tracked_frames_perc  # Replace this with your actual data\n",
    "\n",
    "# Count sessions with over 90% well-tracked fins\n",
    "well_tracked_count = sum(1 for percent in tracking_percentages if percent > 90)\n",
    "\n",
    "# Calculate the percentage of sessions with over 90% well-tracked fins\n",
    "total_sessions = len(tracking_percentages)\n",
    "percentage_well_tracked = (well_tracked_count / total_sessions) * 100\n",
    "\n",
    "print('Percentage of sessions with well-tracked fins > 90%: {:.2f}%'.format(percentage_well_tracked))"
   ]
  },
  {
   "cell_type": "code",
   "execution_count": null,
   "id": "5c9565c0-1129-4c12-b09b-49d85410c4b4",
   "metadata": {},
   "outputs": [],
   "source": []
  },
  {
   "cell_type": "code",
   "execution_count": null,
   "id": "428b5212-9888-4db9-9aee-ec2d3d537dfe",
   "metadata": {},
   "outputs": [],
   "source": []
  }
 ],
 "metadata": {
  "kernelspec": {
   "display_name": "Python 3 (ipykernel)",
   "language": "python",
   "name": "python3"
  },
  "language_info": {
   "codemirror_mode": {
    "name": "ipython",
    "version": 3
   },
   "file_extension": ".py",
   "mimetype": "text/x-python",
   "name": "python",
   "nbconvert_exporter": "python",
   "pygments_lexer": "ipython3",
   "version": "3.11.5"
  }
 },
 "nbformat": 4,
 "nbformat_minor": 5
}
