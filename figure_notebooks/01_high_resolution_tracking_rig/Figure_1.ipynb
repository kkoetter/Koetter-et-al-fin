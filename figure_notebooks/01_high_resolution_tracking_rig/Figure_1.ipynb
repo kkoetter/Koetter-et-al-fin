{
 "cells": [
  {
   "cell_type": "code",
   "execution_count": 1,
   "id": "6c9db560",
   "metadata": {},
   "outputs": [],
   "source": [
    "%load_ext autoreload\n",
    "%autoreload 2\n",
    "import warnings\n",
    "warnings.filterwarnings('ignore')"
   ]
  },
  {
   "cell_type": "code",
   "execution_count": 21,
   "id": "13211d13",
   "metadata": {},
   "outputs": [],
   "source": [
    "# Data Wrangling\n",
    "import numpy as np\n",
    "import pandas as pd\n",
    "from pathlib import Path\n",
    "import glob\n",
    "import flammkuchen as fl\n",
    "import os\n",
    "\n",
    "# Image\n",
    "import cv2 \n",
    "import tifffile as tif\n",
    "import imageio\n",
    "import matplotlib.pyplot as plt\n",
    "import matplotlib.gridspec as gridspec\n",
    "import matplotlib as mpl\n",
    "from matplotlib import colors\n",
    "from scipy import ndimage\n",
    "\n",
    "from tqdm import tqdm\n",
    "from scipy.interpolate import interp1d\n",
    "import matplotlib.patches as patches\n",
    "import seaborn as sns"
   ]
  },
  {
   "cell_type": "code",
   "execution_count": 3,
   "id": "542bdab1",
   "metadata": {},
   "outputs": [],
   "source": [
    "from scipy.signal import argrelextrema\n",
    "from scipy.interpolate import UnivariateSpline\n",
    "from scipy.signal import savgol_filter"
   ]
  },
  {
   "cell_type": "code",
   "execution_count": 4,
   "id": "5a4ae112-4821-492f-89c4-a771607eabdc",
   "metadata": {},
   "outputs": [],
   "source": [
    "from megabouts_helper import labels_cat, color, color_bouts, cmp_bouts"
   ]
  },
  {
   "cell_type": "code",
   "execution_count": 5,
   "id": "0100ef02-ee6d-4bc5-809a-c3482e90d143",
   "metadata": {},
   "outputs": [],
   "source": [
    "labels_cat_short = ['AS','S1','S2','BS','JT','HAT','RT','SAT','OB','LLC','SLC']"
   ]
  },
  {
   "cell_type": "code",
   "execution_count": 6,
   "id": "679e0c26-21b1-4ccd-8c4b-6d72c01da991",
   "metadata": {},
   "outputs": [],
   "source": [
    "from video_helper import increase_brightness, rotate, rotate_around_point_highperf, extend_vector"
   ]
  },
  {
   "cell_type": "code",
   "execution_count": 7,
   "id": "d63dbeea-44e7-43c7-9e26-2a1d1feca862",
   "metadata": {},
   "outputs": [],
   "source": [
    "from preprocess_helper import reduce_to_pi, nanzscore, midpoint, mid_head\n",
    "from tail_process_helper import compute_tailsum, clean_tail, exptrapolate_segments"
   ]
  },
  {
   "cell_type": "code",
   "execution_count": 8,
   "id": "30fd928e-98d7-4663-bb01-96bf380dad3f",
   "metadata": {},
   "outputs": [],
   "source": [
    "def frame_image(img, frame_width):\n",
    "    b = frame_width # border size in pixel\n",
    "    ny, nx = img.shape[0], img.shape[1] # resolution / number of pixels in x and y\n",
    "    if img.ndim == 3: # rgb or rgba array\n",
    "        framed_img = np.zeros((b+ny+b, b+nx+b, img.shape[2]))\n",
    "    elif img.ndim == 2: # grayscale image\n",
    "        framed_img = np.zeros((b+ny+b, b+nx+b))\n",
    "    framed_img[b:-b, b:-b] = img\n",
    "    return framed_img"
   ]
  },
  {
   "cell_type": "markdown",
   "id": "cedda964",
   "metadata": {},
   "source": [
    "# Import all the pretty raw data "
   ]
  },
  {
   "cell_type": "code",
   "execution_count": 9,
   "id": "60d3fa3d-2a9b-4065-9741-7ef00d6933ec",
   "metadata": {},
   "outputs": [],
   "source": [
    "figure_path = Path(r\"\\\\portulab.synology.me\\data\\Kata\\Figures_Paper\\Figure_1\\fig_1\")"
   ]
  },
  {
   "cell_type": "code",
   "execution_count": 10,
   "id": "f763a2f4",
   "metadata": {},
   "outputs": [
    {
     "data": {
      "text/plain": [
       "WindowsPath('//portulab.synology.me/data/Kata/Data/230307_visstim_2D/120328_f3')"
      ]
     },
     "execution_count": 10,
     "metadata": {},
     "output_type": "execute_result"
    }
   ],
   "source": [
    "fish_path = Path(r'\\\\portulab.synology.me\\data\\Kata\\Data\\230307_visstim_2D\\120328_f3')\n",
    "fish_path"
   ]
  },
  {
   "cell_type": "code",
   "execution_count": 11,
   "id": "0d8732a0",
   "metadata": {},
   "outputs": [
    {
     "data": {
      "text/plain": [
       "WindowsPath('//portulab.synology.me/data/Kata/Data/230307_visstim_2D/120328_f3/120328_video.mp4')"
      ]
     },
     "execution_count": 11,
     "metadata": {},
     "output_type": "execute_result"
    }
   ],
   "source": [
    "vid_path = list(fish_path.glob('*video*'))[0]\n",
    "vid_path"
   ]
  },
  {
   "cell_type": "code",
   "execution_count": 12,
   "id": "33d3e324-843b-45ef-8ff0-bf42c8611261",
   "metadata": {},
   "outputs": [
    {
     "data": {
      "text/plain": [
       "WindowsPath('//portulab.synology.me/data/Kata/Processed_Data/tensor_data/features_bouts_new.csv')"
      ]
     },
     "execution_count": 12,
     "metadata": {},
     "output_type": "execute_result"
    }
   ],
   "source": [
    "path_features = Path(r'\\\\portulab.synology.me\\data\\Kata\\Processed_Data\\tensor_data\\features_bouts_new.csv')\n",
    "path_features"
   ]
  },
  {
   "cell_type": "code",
   "execution_count": 13,
   "id": "b9d30f38-6cc4-4788-8132-18be5fbb3fdf",
   "metadata": {},
   "outputs": [
    {
     "data": {
      "text/html": [
       "<div>\n",
       "<style scoped>\n",
       "    .dataframe tbody tr th:only-of-type {\n",
       "        vertical-align: middle;\n",
       "    }\n",
       "\n",
       "    .dataframe tbody tr th {\n",
       "        vertical-align: top;\n",
       "    }\n",
       "\n",
       "    .dataframe thead th {\n",
       "        text-align: right;\n",
       "    }\n",
       "</style>\n",
       "<table border=\"1\" class=\"dataframe\">\n",
       "  <thead>\n",
       "    <tr style=\"text-align: right;\">\n",
       "      <th></th>\n",
       "      <th>Unnamed: 0</th>\n",
       "      <th>exp</th>\n",
       "      <th>fish_id</th>\n",
       "      <th>bout_angle</th>\n",
       "      <th>cluster</th>\n",
       "      <th>frame_start</th>\n",
       "      <th>frame_end</th>\n",
       "      <th>bout_id_orig</th>\n",
       "      <th>mb_proba</th>\n",
       "      <th>max_eye_rot</th>\n",
       "      <th>...</th>\n",
       "      <th>tail_freq</th>\n",
       "      <th>l_fin_freqs</th>\n",
       "      <th>r_fin_freqs</th>\n",
       "      <th>tail_max_freq</th>\n",
       "      <th>l_fin_max_freqs</th>\n",
       "      <th>r_fin_max_freqs</th>\n",
       "      <th>l_start</th>\n",
       "      <th>l_end</th>\n",
       "      <th>r_start</th>\n",
       "      <th>r_end</th>\n",
       "    </tr>\n",
       "  </thead>\n",
       "  <tbody>\n",
       "    <tr>\n",
       "      <th>0</th>\n",
       "      <td>0</td>\n",
       "      <td>13052024_visstim_2D_round</td>\n",
       "      <td>240513_f0</td>\n",
       "      <td>3.000171</td>\n",
       "      <td>0</td>\n",
       "      <td>18375</td>\n",
       "      <td>18410</td>\n",
       "      <td>78</td>\n",
       "      <td>0.806645</td>\n",
       "      <td>-0.239648</td>\n",
       "      <td>...</td>\n",
       "      <td>0.121622</td>\n",
       "      <td>0.105263</td>\n",
       "      <td>0.109756</td>\n",
       "      <td>0.166667</td>\n",
       "      <td>0.166667</td>\n",
       "      <td>0.166667</td>\n",
       "      <td>0.0</td>\n",
       "      <td>27.0</td>\n",
       "      <td>0.0</td>\n",
       "      <td>28.0</td>\n",
       "    </tr>\n",
       "    <tr>\n",
       "      <th>1</th>\n",
       "      <td>1</td>\n",
       "      <td>13052024_visstim_2D_round</td>\n",
       "      <td>240513_f0</td>\n",
       "      <td>1.649302</td>\n",
       "      <td>0</td>\n",
       "      <td>19461</td>\n",
       "      <td>19484</td>\n",
       "      <td>80</td>\n",
       "      <td>1.000000</td>\n",
       "      <td>0.479035</td>\n",
       "      <td>...</td>\n",
       "      <td>0.058140</td>\n",
       "      <td>0.117647</td>\n",
       "      <td>0.119048</td>\n",
       "      <td>0.166667</td>\n",
       "      <td>0.166667</td>\n",
       "      <td>0.250000</td>\n",
       "      <td>0.0</td>\n",
       "      <td>15.0</td>\n",
       "      <td>7.0</td>\n",
       "      <td>26.0</td>\n",
       "    </tr>\n",
       "    <tr>\n",
       "      <th>2</th>\n",
       "      <td>2</td>\n",
       "      <td>13052024_visstim_2D_round</td>\n",
       "      <td>240513_f0</td>\n",
       "      <td>-0.861132</td>\n",
       "      <td>0</td>\n",
       "      <td>19661</td>\n",
       "      <td>19689</td>\n",
       "      <td>81</td>\n",
       "      <td>1.000000</td>\n",
       "      <td>-1.120168</td>\n",
       "      <td>...</td>\n",
       "      <td>0.097561</td>\n",
       "      <td>0.115385</td>\n",
       "      <td>0.104167</td>\n",
       "      <td>0.166667</td>\n",
       "      <td>0.166667</td>\n",
       "      <td>0.125000</td>\n",
       "      <td>4.0</td>\n",
       "      <td>20.0</td>\n",
       "      <td>0.0</td>\n",
       "      <td>27.0</td>\n",
       "    </tr>\n",
       "    <tr>\n",
       "      <th>3</th>\n",
       "      <td>3</td>\n",
       "      <td>13052024_visstim_2D_round</td>\n",
       "      <td>240513_f0</td>\n",
       "      <td>0.870591</td>\n",
       "      <td>0</td>\n",
       "      <td>20257</td>\n",
       "      <td>20292</td>\n",
       "      <td>84</td>\n",
       "      <td>1.000000</td>\n",
       "      <td>-2.662451</td>\n",
       "      <td>...</td>\n",
       "      <td>0.114286</td>\n",
       "      <td>0.117647</td>\n",
       "      <td>0.117647</td>\n",
       "      <td>0.166667</td>\n",
       "      <td>0.166667</td>\n",
       "      <td>0.125000</td>\n",
       "      <td>19.0</td>\n",
       "      <td>35.0</td>\n",
       "      <td>0.0</td>\n",
       "      <td>35.0</td>\n",
       "    </tr>\n",
       "    <tr>\n",
       "      <th>4</th>\n",
       "      <td>4</td>\n",
       "      <td>13052024_visstim_2D_round</td>\n",
       "      <td>240513_f0</td>\n",
       "      <td>2.231631</td>\n",
       "      <td>0</td>\n",
       "      <td>20824</td>\n",
       "      <td>20859</td>\n",
       "      <td>86</td>\n",
       "      <td>1.000000</td>\n",
       "      <td>-1.192489</td>\n",
       "      <td>...</td>\n",
       "      <td>0.108108</td>\n",
       "      <td>0.116667</td>\n",
       "      <td>0.103448</td>\n",
       "      <td>0.166667</td>\n",
       "      <td>0.125000</td>\n",
       "      <td>0.125000</td>\n",
       "      <td>0.0</td>\n",
       "      <td>23.0</td>\n",
       "      <td>6.0</td>\n",
       "      <td>28.0</td>\n",
       "    </tr>\n",
       "  </tbody>\n",
       "</table>\n",
       "<p>5 rows × 55 columns</p>\n",
       "</div>"
      ],
      "text/plain": [
       "   Unnamed: 0                        exp    fish_id  bout_angle  cluster  \\\n",
       "0           0  13052024_visstim_2D_round  240513_f0    3.000171        0   \n",
       "1           1  13052024_visstim_2D_round  240513_f0    1.649302        0   \n",
       "2           2  13052024_visstim_2D_round  240513_f0   -0.861132        0   \n",
       "3           3  13052024_visstim_2D_round  240513_f0    0.870591        0   \n",
       "4           4  13052024_visstim_2D_round  240513_f0    2.231631        0   \n",
       "\n",
       "   frame_start  frame_end  bout_id_orig  mb_proba  max_eye_rot  ...  \\\n",
       "0        18375      18410            78  0.806645    -0.239648  ...   \n",
       "1        19461      19484            80  1.000000     0.479035  ...   \n",
       "2        19661      19689            81  1.000000    -1.120168  ...   \n",
       "3        20257      20292            84  1.000000    -2.662451  ...   \n",
       "4        20824      20859            86  1.000000    -1.192489  ...   \n",
       "\n",
       "   tail_freq  l_fin_freqs  r_fin_freqs  tail_max_freq  l_fin_max_freqs  \\\n",
       "0   0.121622     0.105263     0.109756       0.166667         0.166667   \n",
       "1   0.058140     0.117647     0.119048       0.166667         0.166667   \n",
       "2   0.097561     0.115385     0.104167       0.166667         0.166667   \n",
       "3   0.114286     0.117647     0.117647       0.166667         0.166667   \n",
       "4   0.108108     0.116667     0.103448       0.166667         0.125000   \n",
       "\n",
       "   r_fin_max_freqs  l_start  l_end  r_start  r_end  \n",
       "0         0.166667      0.0   27.0      0.0   28.0  \n",
       "1         0.250000      0.0   15.0      7.0   26.0  \n",
       "2         0.125000      4.0   20.0      0.0   27.0  \n",
       "3         0.125000     19.0   35.0      0.0   35.0  \n",
       "4         0.125000      0.0   23.0      6.0   28.0  \n",
       "\n",
       "[5 rows x 55 columns]"
      ]
     },
     "execution_count": 13,
     "metadata": {},
     "output_type": "execute_result"
    }
   ],
   "source": [
    "features = pd.read_csv(path_features)\n",
    "features.head()"
   ]
  },
  {
   "cell_type": "markdown",
   "id": "3725eacc-3a16-4e08-ae7f-3e3e09550c01",
   "metadata": {},
   "source": [
    "### Load data"
   ]
  },
  {
   "cell_type": "code",
   "execution_count": 14,
   "id": "654c2ef4",
   "metadata": {},
   "outputs": [],
   "source": [
    "data = fl.load(fish_path /'megabouts_res.h5')\n",
    "data = data['data']\n",
    "\n",
    "bout_category = data['bout_category']\n",
    "body_angle = data['body_angle']\n",
    "left_eye_angle = data['eye_angles'][0]\n",
    "right_eye_angle = data['eye_angles'][1]\n",
    "left_fin_angle  = data['fin_angles'][0]\n",
    "right_fin_angle = data['fin_angles'][1]\n",
    "vergence = data['vergence']\n",
    "rotation = data['rotation']\n",
    "bout_duration = 50\n",
    "bout_categories =[]\n",
    "\n",
    "# get bout categories\n",
    "bout_cat = ([x-11 if x >=11 else x for x in data['bout_category']])\n",
    "bout_categories.append(np.asarray(bout_cat))\n",
    "bout_categories_flat = [item for sublist in bout_categories for item in sublist]"
   ]
  },
  {
   "cell_type": "code",
   "execution_count": 15,
   "id": "74246049",
   "metadata": {},
   "outputs": [],
   "source": [
    "bout_starts = data['segments_on']\n",
    "bout_ends = data['segments_off']"
   ]
  },
  {
   "cell_type": "code",
   "execution_count": 16,
   "id": "e82e554f",
   "metadata": {},
   "outputs": [],
   "source": [
    "smoothed_l_fin = savgol_filter(left_fin_angle, 5, 2)  # window size 5, polynomial order 2\n",
    "smoothed_r_fin = savgol_filter(right_fin_angle, 5, 2)  # window size 5, polynomial order 2"
   ]
  },
  {
   "cell_type": "code",
   "execution_count": 17,
   "id": "5b0b7a1a-e4f0-491a-acb6-0301463b1a26",
   "metadata": {},
   "outputs": [],
   "source": [
    "smoothed_l_eye = savgol_filter(left_eye_angle, 5, 1)  # window size 5, polynomial order 2\n",
    "smoothed_r_eye = savgol_filter(right_eye_angle, 5, 1)  # window size 5, polynomial order 2"
   ]
  },
  {
   "cell_type": "code",
   "execution_count": 18,
   "id": "0e75be03",
   "metadata": {},
   "outputs": [
    {
     "data": {
      "text/plain": [
       "(93605, 10)"
      ]
     },
     "execution_count": 18,
     "metadata": {},
     "output_type": "execute_result"
    }
   ],
   "source": [
    "tail = data['clean_data_tail']\n",
    "tail.shape"
   ]
  },
  {
   "cell_type": "code",
   "execution_count": 19,
   "id": "6181d5ad",
   "metadata": {},
   "outputs": [],
   "source": [
    "tailsum = compute_tailsum(tail)"
   ]
  },
  {
   "cell_type": "code",
   "execution_count": 22,
   "id": "f3043caa",
   "metadata": {},
   "outputs": [
    {
     "name": "stdout",
     "output_type": "stream",
     "text": [
      "\\\\portulab.synology.me\\data\\Kata\\Data\\230307_visstim_2D\\120328_f3\\120328_videoDLC_resnet50_dlc_2Dec12shuffle1_316000.h5 120328_f3\n",
      "8.31575 minutes at 200 fps\n"
     ]
    }
   ],
   "source": [
    "fps=200\n",
    "fish_id = os.path.basename(fish_path)\n",
    "filename = list(fish_path.glob('*316000.h5*'))[0]\n",
    "print (filename, fish_id)\n",
    "df= pd.read_hdf(filename,  header=[1, 2], index_col=0)\n",
    "df = df['DLC_resnet50_dlc_2Dec12shuffle1_316000']\n",
    "df_orig = df.copy()\n",
    "#todo find the original frame numbers in unfiltered df\n",
    "threshold = 0.99\n",
    "df_filter = df[df_orig.body.likelihood >=threshold]\n",
    "\n",
    "print(f'{df.shape[0]/(fps*60)} minutes at {fps} fps')"
   ]
  },
  {
   "cell_type": "code",
   "execution_count": 23,
   "id": "d764c88b",
   "metadata": {},
   "outputs": [],
   "source": [
    "body_x = df.body.x.values\n",
    "body_y = df.body.y.values"
   ]
  },
  {
   "cell_type": "code",
   "execution_count": 24,
   "id": "3d3a13ab",
   "metadata": {},
   "outputs": [],
   "source": [
    "motor_log = pd.read_hdf(fish_path/'120328_motor_log.hdf5')\n",
    "behavior_log = pd.read_hdf(fish_path/'120328_behavior_log.hdf5')"
   ]
  },
  {
   "cell_type": "code",
   "execution_count": 25,
   "id": "0168b7fe-0925-432b-8ad8-ccf52788f0e3",
   "metadata": {},
   "outputs": [],
   "source": [
    "eye_coords = fl.load(fish_path/'eye_coords.h5')\n",
    "eye_coords = eye_coords['eye_coords']\n",
    "\n",
    "left_eye_points = np.asarray(eye_coords)[:,0]\n",
    "right_eye_points = np.asarray(eye_coords)[:,1]\n",
    "\n",
    "l_anterior = np.asarray(left_eye_points[:,0])\n",
    "l_posterior = np.asarray(left_eye_points[:,1])\n",
    "\n",
    "left_eye_anterior_x = []\n",
    "left_eye_anterior_y = []\n",
    "left_eye_posterior_x = []\n",
    "left_eye_posterior_y = []\n",
    "for i in range(l_anterior.shape[0]):\n",
    "    left_eye_anterior_x.append(l_anterior[i][0])\n",
    "    left_eye_anterior_y.append(l_anterior[i][1])\n",
    "    left_eye_posterior_x.append(l_posterior[i][0])\n",
    "    left_eye_posterior_y.append(l_posterior[i][1])\n",
    "    \n",
    "r_anterior = np.asarray(right_eye_points[:,0])\n",
    "r_posterior = np.asarray(right_eye_points[:,1])\n",
    "\n",
    "right_eye_anterior_x = []\n",
    "right_eye_anterior_y = []\n",
    "right_eye_posterior_x = []\n",
    "right_eye_posterior_y = []\n",
    "for i in range(r_anterior.shape[0]):\n",
    "    right_eye_anterior_x.append(r_anterior[i][0])\n",
    "    right_eye_anterior_y.append(r_anterior[i][1])\n",
    "    right_eye_posterior_x.append(r_posterior[i][0])\n",
    "    right_eye_posterior_y.append(r_posterior[i][1])\n",
    "\n",
    "\n",
    "#Extract angles\n",
    "body_x = df.body.values[:, 0].astype('float')\n",
    "body_y = df.body.values[:, 1].astype('float')\n",
    "tail_x_col = [f'tail_{i}' for i in range(5)]\n",
    "tail_y_col = [f'tail_{i}' for i in range(5)]\n",
    "tail_x = np.array([df[x].iloc[:, 0].values.astype('float') for x in tail_x_col])\n",
    "tail_y = np.array([df[x].iloc[:, 1].values.astype('float') for x in tail_y_col])\n",
    "\n",
    "#clean tail data \n",
    "new_tail_x, new_tail_y = clean_tail(tail_x, tail_y, rolling=False,  wnd=5, thresh=100)\n",
    "\n",
    "#Preprocess data \n",
    "tail_x_10, tail_y_10 = exptrapolate_segments(new_tail_x, new_tail_y, 10)\n",
    "\n",
    "# fin angle computations\n",
    "right_fin_tip_x =  df['right_fin_tip'].values[:, 0].astype('float')\n",
    "right_fin_tip_y =  df['right_fin_tip'].values[:, 1].astype('float')\n",
    "right_fin_base_x =  df['right_fin_base'].values[:, 0].astype('float')\n",
    "right_fin_base_y =  df['right_fin_base'].values[:, 1].astype('float')\n",
    "\n",
    "left_fin_tip_x =  df['left_fin_tip'].values[:, 0].astype('float')\n",
    "left_fin_tip_y =  df['left_fin_tip'].values[:, 1].astype('float')\n",
    "left_fin_base_x =   df['left_fin_base'].values[:, 0].astype('float')\n",
    "left_fin_base_y =   df['left_fin_base'].values[:, 1].astype('float')\n",
    "\n",
    "mid_headx, mid_heady, left_mid_eye_x, left_mid_eye_y, right_mid_eye_x, right_mid_eye_y = mid_head(df)\n"
   ]
  },
  {
   "cell_type": "markdown",
   "id": "552668c3-f7b0-4e1b-8c5b-0584879e4161",
   "metadata": {},
   "source": [
    "### Set some parameters"
   ]
  },
  {
   "cell_type": "code",
   "execution_count": 26,
   "id": "612d767c-b02f-4e24-9de5-99d45f2c7952",
   "metadata": {},
   "outputs": [],
   "source": [
    "center_y = 512 #268  #from camera\n",
    "center_x = 640 #360  #from camera\n",
    "px_mm = 70 #150 #70"
   ]
  },
  {
   "cell_type": "code",
   "execution_count": 27,
   "id": "32ea0c13-b56b-494f-935c-0d950ea9f50b",
   "metadata": {},
   "outputs": [],
   "source": [
    "contrast = 2.2 # Contrast control ( 0 to 127)\n",
    "brightness = 0.01 # Brightness control (0-100)"
   ]
  },
  {
   "cell_type": "code",
   "execution_count": 65,
   "id": "ad7980b8-d91d-4120-8417-c86c576f94e1",
   "metadata": {},
   "outputs": [],
   "source": [
    "alph=0.01\n",
    "size=1\n",
    "cm = 1/2.54  # centimeters in inches\n",
    "f_size =6\n",
    "contrast = 2.2 # Contrast control ( 0 to 127)\n",
    "brightness = 0.01 # Brightness control (0-100)\n",
    "lw=0.5\n",
    "dpi=600"
   ]
  },
  {
   "cell_type": "markdown",
   "id": "bb4878ff",
   "metadata": {},
   "source": [
    "# Fig 2 panel A: Fish video plots"
   ]
  },
  {
   "cell_type": "code",
   "execution_count": 29,
   "id": "66175f1f",
   "metadata": {},
   "outputs": [
    {
     "name": "stderr",
     "output_type": "stream",
     "text": [
      "100%|█████████████████████████████████████████████████████████████████████████████| 5000/5000 [00:23<00:00, 210.87it/s]\n"
     ]
    }
   ],
   "source": [
    "## Read in chunk of video \n",
    "\n",
    "frame_n = 5000\n",
    "\n",
    "frames= []\n",
    "\n",
    "cap = cv2.VideoCapture(str(vid_path))\n",
    "for i in tqdm(range(frame_n)):\n",
    "    success = cap.grab()\n",
    "    ret, image = cap.retrieve()\n",
    "    frames.append(image)\n",
    "    \n",
    "cap.release()"
   ]
  },
  {
   "cell_type": "markdown",
   "id": "a0a0adb7-a340-46f2-89ed-03fc50cb8c8c",
   "metadata": {},
   "source": [
    "## Fig 1 Panel B"
   ]
  },
  {
   "cell_type": "code",
   "execution_count": 30,
   "id": "5236fd6e",
   "metadata": {},
   "outputs": [
    {
     "name": "stdout",
     "output_type": "stream",
     "text": [
      "4212\n",
      "3\n"
     ]
    }
   ],
   "source": [
    "#Get the frames where bouts start \n",
    "bout = 2\n",
    "bout_frame = df[df.body.likelihood >=threshold].index[data['segments_on'][bout]]\n",
    "bout_frame_n = df.index[data['segments_on'][bout]]\n",
    "# bout_frame = df.index[data['segments_on'][bout]]\n",
    "print (bout_frame)\n",
    "print (bout_cat[bout])"
   ]
  },
  {
   "cell_type": "code",
   "execution_count": 38,
   "id": "1d812dab-693b-4c87-98cd-edb3d91ddc7b",
   "metadata": {},
   "outputs": [
    {
     "data": {
      "image/png": "[encoded data removed]",
      "text/plain": [
       "<Figure size 275.591x196.85 with 1 Axes>"
      ]
     },
     "metadata": {
      "needs_background": "light"
     },
     "output_type": "display_data"
    }
   ],
   "source": [
    "frame_n = bout_frame+15\n",
    "img = frames[frame_n]\n",
    "rot_im = img\n",
    "### Make a lighter figure\n",
    "out = cv2.addWeighted(rot_im, contrast, rot_im, 0, brightness)\n",
    "\n",
    "# Create figure and axes\n",
    "fig, ax = plt.subplots(figsize=(7*cm, 5*cm), facecolor='None')\n",
    "ax.imshow(np.flip(out), alpha=0.9, cmap='gray', origin='upper') #plus 15 to see bend tail etc\n",
    "\n",
    "ax.add_patch(\n",
    "    patches.Rectangle(\n",
    "        xy=(center_x-225/2, center_y-225/2),  # point of origin.\n",
    "        width=225, height=400, linewidth=lw,\n",
    "        color='gray', fill=False))\n",
    "\n",
    "ax.axis('off')\n",
    "ax.plot([1100, 1170], [950, 950], lw=lw*2, c='k')\n",
    "# ax.text( 1100, 980, '1 mm', fontsize=f_size)\n",
    "plt.tight_layout()\n",
    "\n",
    "plt.savefig(figure_path/'bout_{}_tracked_frame.png'.format(bout), dpi = dpi)\n",
    "plt.savefig(figure_path/'bout_{}_tracked_frame.pdf'.format(bout), dpi = dpi)"
   ]
  },
  {
   "cell_type": "markdown",
   "id": "345751e1-01cb-4e34-ac8c-d1dab7bce737",
   "metadata": {},
   "source": [
    "### Skeleton overlayed on fish to show angles"
   ]
  },
  {
   "cell_type": "code",
   "execution_count": 43,
   "id": "b62e3dc8-3958-497f-8f8e-3bbb45ad5579",
   "metadata": {},
   "outputs": [
    {
     "data": {
      "image/png": "[encoded data removed]",
      "text/plain": [
       "<Figure size 196.85x307.087 with 1 Axes>"
      ]
     },
     "metadata": {
      "needs_background": "light"
     },
     "output_type": "display_data"
    }
   ],
   "source": [
    "i = bout_frame + 15\n",
    "\n",
    "# call addWeighted function. use beta = 0 to effectively only\n",
    "out = cv2.addWeighted(frames[i], contrast, frames[i], 0, brightness)\n",
    "\n",
    "plt.figure(figsize=(5*cm, 7.8*cm), facecolor='None')\n",
    "plt.imshow(frames[i])\n",
    "plt.imshow(out, origin='lower')\n",
    "\n",
    "plt.plot([right_eye_anterior_x[i],right_eye_posterior_x[i]],[right_eye_anterior_y[i],right_eye_posterior_y[i]],'r', lw=lw)\n",
    "plt.scatter(right_mid_eye_x[i],right_mid_eye_y[i],s=size,color='r', label='right eye')\n",
    "plt.scatter(right_eye_anterior_x[i],right_eye_anterior_y[i], s=size,color='r')\n",
    "plt.scatter(right_eye_posterior_x[i],right_eye_posterior_y[i], s=size,color='r')\n",
    "\n",
    "plt.plot([left_eye_anterior_x[i],left_eye_posterior_x[i]],[left_eye_anterior_y[i],left_eye_posterior_y[i]],'b', lw=lw)\n",
    "plt.scatter(left_mid_eye_x[i],left_mid_eye_y[i], s=size,color='b', label='left eye')\n",
    "plt.scatter(left_eye_anterior_x[i],left_eye_anterior_y[i], s=size,color='b')\n",
    "plt.scatter(left_eye_posterior_x[i],left_eye_posterior_y[i], s=size,color='b')\n",
    "\n",
    "plt.scatter(left_fin_tip_x[i],left_fin_tip_y[i], s=size,color='b')\n",
    "plt.scatter(left_fin_base_x[i],left_fin_base_y[i], s=size,color='b')\n",
    "plt.scatter(right_fin_tip_x[i],right_fin_tip_y[i], s=size,color='r')\n",
    "plt.scatter(right_fin_base_x[i],right_fin_base_y[i], s=size,color='r')\n",
    "plt.plot([left_fin_tip_x[i], left_fin_base_x[i]],[left_fin_tip_y[i], left_fin_base_y[i]],'b' ,ls=':', lw=lw)\n",
    "plt.plot([right_fin_tip_x[i], right_fin_base_x[i]],[right_fin_tip_y[i], right_fin_base_y[i]],'r' ,ls=':', lw=lw)\n",
    "\n",
    "plt.scatter(body_x[i],body_y[i],s=size,color='yellow')\n",
    "plt.scatter(mid_headx[i],mid_heady[i],s=size,color='yellow')\n",
    "plt.plot([mid_headx[i], body_x[i]],[mid_heady[i], body_y[i]],'yellow', lw=lw)\n",
    "plt.plot([tail_x_10[0,i], body_x[i]],[tail_y_10[0,i], body_y[i]],'yellow', lw=lw)\n",
    "\n",
    "for i_seg in range(tail_x_10.shape[0]):\n",
    "    plt.scatter(tail_x_10[i_seg,i],tail_y_10[i_seg,i],s=size, color='yellow', lw=lw)\n",
    "\n",
    "for i_seg in range(tail_x_10.shape[0]-1):\n",
    "    plt.plot([tail_x_10[i_seg,i], tail_x_10[i_seg+1,i]],[tail_y_10[i_seg,i], tail_y_10[i_seg+1,i]], color='yellow', lw=lw)\n",
    "    \n",
    "\n",
    "plt.ylim(200,600)\n",
    "plt.xlim(750, 525)\n",
    "plt.plot([540, 540+70], [220, 220], lw=lw*2, c='k')\n",
    "plt.text(600, 230, '1 mm', fontsize=f_size)\n",
    "\n",
    "plt.axis('off')\n",
    "\n",
    "plt.savefig(figure_path/'keypoints_skeleton_{}.png'.format(i), dpi = dpi)\n",
    "plt.savefig(figure_path/'keypoints_skeleton_{}.pdf'.format(i), dpi = dpi)"
   ]
  },
  {
   "cell_type": "markdown",
   "id": "615d7f5c-2c7b-4712-984e-8f652231c18e",
   "metadata": {},
   "source": [
    "### Panel C: Frames throughout swims"
   ]
  },
  {
   "cell_type": "code",
   "execution_count": 44,
   "id": "cc71640b-2ba2-4123-bd7e-62d60fa4df2f",
   "metadata": {},
   "outputs": [
    {
     "name": "stdout",
     "output_type": "stream",
     "text": [
      "[ 4  6  8 10 12 14 16 18 20 22 24 26 28 30 32] 15\n"
     ]
    }
   ],
   "source": [
    "chosen_inds = np.arange(4, 34, 2)\n",
    "print (chosen_inds, len(chosen_inds))"
   ]
  },
  {
   "cell_type": "code",
   "execution_count": 54,
   "id": "2751f51d",
   "metadata": {},
   "outputs": [
    {
     "data": {
      "image/png": "[encoded data removed]",
      "text/plain": [
       "<Figure size 606.299x102.362 with 15 Axes>"
      ]
     },
     "metadata": {
      "needs_background": "light"
     },
     "output_type": "display_data"
    }
   ],
   "source": [
    "\n",
    "fig, axes = plt.subplots(1, len(chosen_inds), facecolor='None',figsize=(15.4*cm, 2.6*cm), sharex=False, sharey=False)\n",
    "axes= axes.ravel()\n",
    "\n",
    "for ax in range(len(chosen_inds)):\n",
    "    frame_n = bout_frame+chosen_inds[ax]\n",
    "    out = cv2.addWeighted(frames[frame_n], contrast, frames[frame_n], 0, brightness)\n",
    "    axes[ax].imshow(out, alpha=0.9, cmap='gray', origin='lower') #plus 15 to see bend tail etc\n",
    "    axes[ax].set_xlim(body_x[frame_n]+140, body_x[frame_n] - 140)\n",
    "    axes[ax].set_ylim(body_y[frame_n] - 350, body_y[frame_n]+140)\n",
    "    axes[ax].axis('off')\n",
    "    axes[ax].axis('off')\n",
    " # Adjust subplots - ensure there's minimal space between them\n",
    "plt.subplots_adjust(left=0, right=1, top=1, bottom=0, wspace=0.1, hspace=0)\n",
    "# plt.tight_layout()\n",
    "fig.savefig(figure_path/'bout_{}_{}_tp.png'.format(bout, labels_cat[bout_cat[bout]]), dpi = dpi)\n",
    "fig.savefig(figure_path/'bout_{}_{}_tp.pdf'.format(bout, labels_cat[bout_cat[bout]]), dpi = dpi)"
   ]
  },
  {
   "cell_type": "code",
   "execution_count": 55,
   "id": "77c8c67f-4518-4214-834d-9faa890445ac",
   "metadata": {},
   "outputs": [],
   "source": [
    "smoothed_l_eye = smoothed_l_eye - smoothed_l_eye[0]\n",
    "smoothed_r_eye = smoothed_r_eye - smoothed_r_eye[0]"
   ]
  },
  {
   "cell_type": "code",
   "execution_count": 68,
   "id": "e71d5c81",
   "metadata": {},
   "outputs": [
    {
     "data": {
      "image/png": "[encoded data removed]",
      "text/plain": [
       "<Figure size 767.717x157.48 with 3 Axes>"
      ]
     },
     "metadata": {},
     "output_type": "display_data"
    }
   ],
   "source": [
    "fig, axes = plt.subplots(3,1, figsize=(19.5*cm, 4*cm), facecolor='None', sharex=True)\n",
    "axes = axes.ravel()\n",
    "\n",
    "axes[0].plot(tail, lw=lw, c='k', alpha=0.6)\n",
    "axes[0].set_ylim(-4,4)\n",
    "\n",
    "axes[1].plot(smoothed_l_fin, lw=lw, c='blue', alpha=0.8, label='Left') \n",
    "axes[1].plot(smoothed_r_fin, lw=lw, c='red', alpha=0.8 , label='Right') \n",
    "axes[1].set_ylim(-1.8,1.8)\n",
    "\n",
    "axes[2].plot(smoothed_l_eye, lw=lw, c='blue', alpha=0.8, label='Left') \n",
    "axes[2].plot(smoothed_r_eye, lw=lw, c='red', alpha=0.8 , label='Right')\n",
    "axes[2].set_ylim(-12,12)\n",
    "\n",
    "for ax in axes:\n",
    "    ax.set_yticklabels([])\n",
    "    ax.set_xticklabels([])\n",
    "    ax.set_xticks([])\n",
    "    ax.set_yticks([])\n",
    "    ax.spines['top'].set_visible(False)\n",
    "    ax.spines['right'].set_visible(False)\n",
    "    ax.spines['bottom'].set_visible(False)\n",
    "    ax.spines['left'].set_visible(False)\n",
    "    ax.axvline(bout_frame_n, c='k', ls=':', label ='Bout Start', lw=lw)\n",
    "    \n",
    "axes[0].set_ylabel('Tail', fontsize=f_size)\n",
    "axes[1].set_ylabel('Fins', fontsize=f_size)\n",
    "axes[2].set_ylabel('Eyes', fontsize=f_size)\n",
    "axes[2].set_xlabel('Time', fontsize=f_size)\n",
    "\n",
    "for indx, onset in enumerate(data['segments_on']):\n",
    "    # axes[0].axvspan(onset, onset+50, color='gray', alpha=0.3)\n",
    "    # axes[1].axvspan(onset, onset+50, color='gray', alpha=0.3)\n",
    "    # axes[2].axvspan(onset, onset+50, color='gray', alpha=0.3)\n",
    "\n",
    "    axes[0].axvspan(onset, onset+50, color=color[bout_cat[indx]], alpha=0.3)\n",
    "    axes[1].axvspan(onset, onset+50, color=color[bout_cat[indx]], alpha=0.3)\n",
    "    axes[2].axvspan(onset, onset+50, color=color[bout_cat[indx]], alpha=0.3)\n",
    "\n",
    "axes[2].text(0.94, -0.3, '250 ms', transform=ax.transAxes, \n",
    "            size=f_size)\n",
    "# axes[1].legend(loc='upper center', bbox_to_anchor=(0.75, 0.2), ncol=3, fontsize=f_size)\n",
    "\n",
    "plt.xlim(bout_frame_n -150, bout_frame_n+800)\n",
    "plt.subplots_adjust(wspace=0, hspace=0)\n",
    "# plt.tight_layout()\n",
    "\n",
    "fig.savefig(figure_path/'bout_{}_{}_trace.png'.format(bout, labels_cat[bout_cat[bout]]), dpi = dpi)\n",
    "fig.savefig(figure_path/'bout_{}_{}_trace.pdf'.format(bout, labels_cat[bout_cat[bout]]), dpi = dpi)"
   ]
  },
  {
   "cell_type": "markdown",
   "id": "0ecf790c-d7d6-4141-96b1-c080d4cad044",
   "metadata": {},
   "source": [
    "### Panel D: Fin Zoom "
   ]
  },
  {
   "cell_type": "code",
   "execution_count": 69,
   "id": "cdf3de09-6e1e-456a-938e-fa637413c4fd",
   "metadata": {},
   "outputs": [
    {
     "data": {
      "image/png": "[encoded data removed]",
      "text/plain": [
       "<Figure size 606.299x102.362 with 15 Axes>"
      ]
     },
     "metadata": {
      "needs_background": "light"
     },
     "output_type": "display_data"
    }
   ],
   "source": [
    "\n",
    "fig, axes = plt.subplots(1, len(chosen_inds), facecolor='None',figsize=(15.4*cm, 2.6*cm)) #, sharex=True, sharey=True)\n",
    "axes= axes.ravel()\n",
    "\n",
    "for ax in range(len(chosen_inds)):\n",
    "    frame_n = bout_frame+chosen_inds[ax]\n",
    "    out = cv2.addWeighted(frames[frame_n], contrast, frames[frame_n], 0, brightness)\n",
    "    axes[ax].imshow(out, alpha=0.9, cmap='gray', origin='lower') #plus 15 to see bend tail etc\n",
    "    \n",
    "    axes[ax].scatter(body_x[frame_n], body_y[frame_n], c='yellow', s=size)\n",
    "    axes[ax].scatter(mid_headx[frame_n], mid_heady[frame_n], c='yellow', s=size)\n",
    "    axes[ax].plot([mid_headx[frame_n], body_x[frame_n]],[mid_heady[frame_n], body_y[frame_n]],'yellow', lw=lw)\n",
    "    \n",
    "    axes[ax].scatter(left_fin_tip_x[frame_n],left_fin_tip_y[frame_n], s=size,color='b')\n",
    "    axes[ax].scatter(left_fin_base_x[frame_n],left_fin_base_y[frame_n], s=size,color='b')\n",
    "    axes[ax].scatter(right_fin_tip_x[frame_n],right_fin_tip_y[frame_n], s=size,color='r')\n",
    "    axes[ax].scatter(right_fin_base_x[frame_n],right_fin_base_y[frame_n], s=size,color='r')\n",
    "\n",
    "    axes[ax].set_xlim(body_x[frame_n] + 50, body_x[frame_n]-50)\n",
    "    axes[ax].set_ylim(body_y[frame_n] - 50, body_y[frame_n]+100)\n",
    "    axes[ax].set_title(ax, fontsize=f_size)\n",
    "    axes[ax].axis('off')\n",
    "plt.subplots_adjust(left=0, right=1, top=1, bottom=0, wspace=0.1, hspace=0)\n",
    "# plt.tight_layout()\n",
    "fig.savefig(figure_path/'bout_{}_{}_fins_img_zoom_tp.png'.format(bout, labels_cat[bout_cat[bout]]), dpi = dpi)\n",
    "fig.savefig(figure_path/'bout_{}_{}_fins_img_zoom_tp.pdf'.format(bout, labels_cat[bout_cat[bout]]), dpi = dpi)"
   ]
  },
  {
   "cell_type": "markdown",
   "id": "f9bc63a3-a053-4b62-a76c-ed9351846d68",
   "metadata": {},
   "source": [
    "## Panel E: Fin Traces during bout"
   ]
  },
  {
   "cell_type": "code",
   "execution_count": 76,
   "id": "8da8ea99-40a3-4614-9f59-86bfc39a731a",
   "metadata": {},
   "outputs": [
    {
     "data": {
      "image/png": "[encoded data removed]",
      "text/plain": [
       "<Figure size 275.591x157.48 with 1 Axes>"
      ]
     },
     "metadata": {
      "needs_background": "light"
     },
     "output_type": "display_data"
    }
   ],
   "source": [
    "bout_frame_n = df.index[data['segments_on'][bout]]\n",
    "\n",
    "fig, ax= plt.subplots(facecolor='None',figsize=(7*cm, 4*cm), sharex=True)\n",
    "\n",
    "ax.plot((smoothed_l_fin*-1) +0.15, lw=lw, c='blue', alpha=0.8, label='Left Fin') \n",
    "ax.plot(smoothed_r_fin, lw=lw, c='firebrick', alpha=0.8 , label='Right Fin') \n",
    "ax.set_ylim(-0.05,1.6)\n",
    "\n",
    "ax.set_xlabel('time [ms]', fontsize=f_size)\n",
    "ax.set_ylabel('Fins Angle [rad]', fontsize=f_size)\n",
    "ax.set_xticks([bout_frame_n, bout_frame_n+50])\n",
    "ax.set_yticks([0,0.5, 1, 1.5])\n",
    "ax.set_yticklabels([0,0.5, 1, 1.5], fontsize=f_size)\n",
    "ax.set_xticklabels(['0', '250'], fontsize=f_size)\n",
    "\n",
    "for indx, onset in enumerate(data['segments_on']):\n",
    "    ax.axvspan(onset, onset+50, color=color[bout_cat[indx]], alpha=0.3)\n",
    "\n",
    "# ax.legend(loc='upper left', bbox_to_anchor=(1, 1),ncol=1,fontsize=f_size)\n",
    "ax.legend(fontsize=f_size)\n",
    "\n",
    "# for ind,i in enumerate(chosen_inds):\n",
    "#     frame_n = bout_frame_n+i\n",
    "#     ax.axvline(frame_n, c='gray', ls=':', lw=lw)\n",
    "#     plt.text(frame_n-0.5, 1.7, ind,rotation=0, fontsize=f_size)\n",
    "for ind, i in enumerate(chosen_inds):\n",
    "    frame_n = bout_frame_n + i\n",
    "    ax.axvline(frame_n, c='gray', ls=':', lw=lw)\n",
    "    \n",
    "    # Label every second line\n",
    "    if ind % 2 == 0:  # This will label lines at even indices; use `ind % 2 == 1` for odd indices\n",
    "        plt.text(frame_n - 0.5, 1.7, ind, rotation=0, fontsize=f_size)\n",
    "\n",
    "\n",
    "plt.xlim(bout_frame_n-2, bout_frame_n+52)\n",
    "sns.despine(top=True, right=True, left=False, bottom=True)\n",
    "\n",
    "plt.savefig(figure_path/'bout_{}_{}_fins_zoom_tp.png'.format(bout, labels_cat[bout_cat[bout]]), dpi = dpi)\n",
    "plt.savefig(figure_path/'bout_{}_{}_fins_zoom_tp.pdf'.format(bout, labels_cat[bout_cat[bout]]), dpi = dpi)"
   ]
  },
  {
   "cell_type": "markdown",
   "id": "badf15eb-4bad-46f7-ba6d-07d76030433a",
   "metadata": {},
   "source": [
    "## Panel F: Bout Categories"
   ]
  },
  {
   "cell_type": "code",
   "execution_count": 77,
   "id": "a1add395-31b4-4e96-b7ad-d8adb56c8364",
   "metadata": {},
   "outputs": [],
   "source": [
    "# Map the colors directly using the cluster indices\n",
    "custom_palette = {cluster: color_bouts[cluster] for cluster in np.unique(features['cluster'])}"
   ]
  },
  {
   "cell_type": "code",
   "execution_count": 78,
   "id": "74782c24-d83b-44ed-98e0-00332ed459d6",
   "metadata": {},
   "outputs": [],
   "source": [
    "# Calculate normalized counts\n",
    "# First, count the occurrences of each new_cluster within each fish_id\n",
    "counts = features.groupby(['fish_id', 'cluster']).size().reset_index(name='count')\n",
    "# Then, normalize these counts within each fish_id\n",
    "total_counts = counts.groupby('fish_id')['count'].transform('sum')\n",
    "counts['normalized_count'] = counts['count'] / total_counts"
   ]
  },
  {
   "cell_type": "code",
   "execution_count": 83,
   "id": "eafab37b-0fa7-446a-97f3-1e7b7fcad9ba",
   "metadata": {},
   "outputs": [],
   "source": [
    "fig1 = 8.7\n",
    "fig2 = 4.9"
   ]
  },
  {
   "cell_type": "code",
   "execution_count": 85,
   "id": "e32e140f-009a-4e26-846a-97ddb7fbf75b",
   "metadata": {},
   "outputs": [
    {
     "data": {
      "image/png": "[encoded data removed]",
      "text/plain": [
       "<Figure size 342.52x192.913 with 1 Axes>"
      ]
     },
     "metadata": {
      "needs_background": "light"
     },
     "output_type": "display_data"
    }
   ],
   "source": [
    "# Create a bar plot for normalized counts\n",
    "fig, ax = plt.subplots(facecolor='None',figsize=(fig1*cm, fig2*cm))\n",
    "sns.boxplot(data=counts, x='cluster', y='normalized_count', hue='cluster', legend=False,  palette=custom_palette, dodge=False, showfliers=False) \n",
    "\n",
    "# Adjust line widths for all elements of the boxplot\n",
    "for i, artist in enumerate(ax.artists):\n",
    "    artist.set_edgecolor('black')   # Set the edge color to ensure visibility\n",
    "    artist.set_linewidth(lw)        # Set the width of the box edges to thinner\n",
    "\n",
    "# Adjust lines for whiskers, caps, and medians\n",
    "for line in ax.lines:\n",
    "    line.set_linewidth(lw)\n",
    "\n",
    "# Adjust the line width for the boxes\n",
    "for box in ax.patches:\n",
    "    # Set the edge color and line width for the box\n",
    "    box.set_edgecolor('black')\n",
    "    box.set_linewidth(lw)\n",
    "\n",
    "plt.ylabel('Frequency', fontsize=f_size, c='k')\n",
    "\n",
    "plt.xticks(np.arange(0,11,1), labels=labels_cat_short, rotation =0, fontsize=f_size, c='k')\n",
    "plt.xlabel('Bout Category', fontsize=f_size, c='k')\n",
    "plt.ylim(-0.05, 0.6)\n",
    "plt.yticks(fontsize=f_size, c='k')\n",
    "\n",
    "sns.despine(top=True, right=True, left=False, bottom=False)\n",
    "plt.tight_layout()\n",
    "\n",
    "fig.savefig(figure_path/ 'pooled_bout_cat_boxplot.pdf', dpi=dpi)\n",
    "fig.savefig(figure_path/ 'pooled_bout_cat_boxplot.png', dpi=dpi)"
   ]
  },
  {
   "cell_type": "code",
   "execution_count": null,
   "id": "cec90c8f-a4ea-4871-becb-bee1704edb2b",
   "metadata": {},
   "outputs": [],
   "source": []
  }
 ],
 "metadata": {
  "kernelspec": {
   "display_name": "Python 3 (ipykernel)",
   "language": "python",
   "name": "python3"
  },
  "language_info": {
   "codemirror_mode": {
    "name": "ipython",
    "version": 3
   },
   "file_extension": ".py",
   "mimetype": "text/x-python",
   "name": "python",
   "nbconvert_exporter": "python",
   "pygments_lexer": "ipython3",
   "version": "3.11.5"
  }
 },
 "nbformat": 4,
 "nbformat_minor": 5
}
