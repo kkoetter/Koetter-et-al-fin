{
 "cells": [
  {
   "cell_type": "code",
   "execution_count": 1,
   "id": "8eaa38eb-63f5-4aae-817a-f5387b777f50",
   "metadata": {},
   "outputs": [],
   "source": [
    "import flammkuchen as fl\n",
    "from pathlib import Path\n",
    "import pandas as pd\n",
    "import numpy as np\n",
    "import matplotlib.pyplot as plt\n",
    "import seaborn as sns"
   ]
  },
  {
   "cell_type": "code",
   "execution_count": 2,
   "id": "7e5aa779-8532-46c8-926b-8ebc7a3b8481",
   "metadata": {},
   "outputs": [],
   "source": [
    "from fig_5_helper import flatten, reshape_feature_array, catname"
   ]
  },
  {
   "cell_type": "markdown",
   "id": "c2ce375f-5efc-47b2-91ae-4449a8203702",
   "metadata": {},
   "source": [
    "### Load data"
   ]
  },
  {
   "cell_type": "code",
   "execution_count": 4,
   "id": "99c5e42c-1fda-4fa0-b9db-cce6a0f1cb44",
   "metadata": {},
   "outputs": [],
   "source": [
    "fig_dir = Path(r'\\\\portulab.synology.me\\data\\Kata\\Figures_Paper\\Figure_5\\fig_5')"
   ]
  },
  {
   "cell_type": "code",
   "execution_count": 5,
   "id": "a3bc2726-6115-4afd-8951-945201a27dbf",
   "metadata": {},
   "outputs": [
    {
     "name": "stdout",
     "output_type": "stream",
     "text": [
      "original_index\n",
      "proba\n",
      "clusters\n",
      "tail_dir\n",
      "tails\n",
      "fins\n",
      "reconstructions\n",
      "latents\n",
      "inputs\n",
      "model_targets\n",
      "original_tensor\n"
     ]
    }
   ],
   "source": [
    "master_path_2 = Path(r'\\\\portulab.synology.me\\data\\Kata\\Processed_Data\\fin_tail_nn')\n",
    "ds = np.load(Path(master_path_2 /'fin_data'/'model_data_test.npz'))\n",
    "print(*ds.files,sep=\"\\n\")"
   ]
  },
  {
   "cell_type": "code",
   "execution_count": 6,
   "id": "ff106015-d02d-4109-b888-87dc86c36216",
   "metadata": {},
   "outputs": [
    {
     "data": {
      "text/plain": [
       "(1824, 2, 175)"
      ]
     },
     "execution_count": 6,
     "metadata": {},
     "output_type": "execute_result"
    }
   ],
   "source": [
    "clusters = ds['clusters']\n",
    "fin_l = ds['fins'][:,0, :]\n",
    "fin_r = ds['fins'][:,1, :]\n",
    "ds['fins'].shape"
   ]
  },
  {
   "cell_type": "code",
   "execution_count": 7,
   "id": "58bc63a1-2119-4e7f-8069-c495c9077487",
   "metadata": {},
   "outputs": [],
   "source": [
    "r2 = fl.load(master_path_2/ 'R2_sample.h5')"
   ]
  },
  {
   "cell_type": "code",
   "execution_count": 12,
   "id": "36d9f881-6df6-4578-8e87-92b4a415e565",
   "metadata": {},
   "outputs": [
    {
     "data": {
      "text/plain": [
       "(1823,)"
      ]
     },
     "execution_count": 12,
     "metadata": {},
     "output_type": "execute_result"
    }
   ],
   "source": [
    "r2_flat = flatten(r2)\n",
    "r2_flat = np.asarray(r2_flat)"
   ]
  },
  {
   "cell_type": "code",
   "execution_count": 8,
   "id": "698865ef-7867-4adf-b60a-acfa5b5ecf7a",
   "metadata": {},
   "outputs": [],
   "source": [
    "master_path = Path(r'\\\\portulab.synology.me\\data\\Kata\\Processed_Data\\tensor_data')\n",
    "path_tensors = Path(master_path/ 'peaks_valleys'/ 'tensor_ipsi_contra_pos.h5')\n",
    "path_features = Path(master_path/ 'features_ipsi_contra.csv')\n",
    "\n",
    "l_feature_vector_array = fl.load(master_path/ 'peaks_valleys'/  'l_feature_vector_array.h5')\n",
    "r_feature_vector_array = fl.load(master_path/ 'peaks_valleys'/  'r_feature_vector_array.h5')"
   ]
  },
  {
   "cell_type": "code",
   "execution_count": 9,
   "id": "ea029fec-15b3-4aa1-94fa-b8e911a98332",
   "metadata": {},
   "outputs": [
    {
     "name": "stdout",
     "output_type": "stream",
     "text": [
      "Reshaped array shape: (11063, 4, 9)\n",
      "Reshaped array shape: (11063, 4, 9)\n",
      "Reshaped array shape: (11063, 4, 9)\n"
     ]
    }
   ],
   "source": [
    "\n",
    "l_reshaped_array, l_peaks_a_array, l_peaks_i_array, l_valleys_a_array, l_valleys_i_array = reshape_feature_array(l_feature_vector_array)\n",
    "r_reshaped_array, r_peaks_a_array, r_peaks_i_array, r_valleys_a_array, r_valleys_i_array = reshape_feature_array(r_feature_vector_array)"
   ]
  },
  {
   "cell_type": "code",
   "execution_count": 10,
   "id": "888d5190-a3a9-4d2f-b603-c7acd7d7be0e",
   "metadata": {},
   "outputs": [
    {
     "data": {
      "text/html": [
       "<div>\n",
       "<style scoped>\n",
       "    .dataframe tbody tr th:only-of-type {\n",
       "        vertical-align: middle;\n",
       "    }\n",
       "\n",
       "    .dataframe tbody tr th {\n",
       "        vertical-align: top;\n",
       "    }\n",
       "\n",
       "    .dataframe thead th {\n",
       "        text-align: right;\n",
       "    }\n",
       "</style>\n",
       "<table border=\"1\" class=\"dataframe\">\n",
       "  <thead>\n",
       "    <tr style=\"text-align: right;\">\n",
       "      <th></th>\n",
       "      <th>Unnamed: 0.1</th>\n",
       "      <th>Unnamed: 0</th>\n",
       "      <th>exp</th>\n",
       "      <th>fish_id</th>\n",
       "      <th>bout_angle</th>\n",
       "      <th>cluster</th>\n",
       "      <th>frame_start</th>\n",
       "      <th>frame_end</th>\n",
       "      <th>bout_id_orig</th>\n",
       "      <th>mb_proba</th>\n",
       "      <th>...</th>\n",
       "      <th>ipsi_peak_vigor</th>\n",
       "      <th>contra_peak_vigor</th>\n",
       "      <th>ipsi_freqs</th>\n",
       "      <th>contra_freqs</th>\n",
       "      <th>ipsi_osc</th>\n",
       "      <th>contra_osc</th>\n",
       "      <th>ipsi_duration</th>\n",
       "      <th>contra_duration</th>\n",
       "      <th>ipsi_max_freqs</th>\n",
       "      <th>contra_max_freqs</th>\n",
       "    </tr>\n",
       "  </thead>\n",
       "  <tbody>\n",
       "    <tr>\n",
       "      <th>0</th>\n",
       "      <td>0</td>\n",
       "      <td>0</td>\n",
       "      <td>13052024_visstim_2D_round</td>\n",
       "      <td>240513_f0</td>\n",
       "      <td>3.000171</td>\n",
       "      <td>0</td>\n",
       "      <td>18375</td>\n",
       "      <td>18410</td>\n",
       "      <td>78</td>\n",
       "      <td>0.806645</td>\n",
       "      <td>...</td>\n",
       "      <td>0.244681</td>\n",
       "      <td>0.164076</td>\n",
       "      <td>0.109756</td>\n",
       "      <td>0.105263</td>\n",
       "      <td>4</td>\n",
       "      <td>3</td>\n",
       "      <td>28.0</td>\n",
       "      <td>27.0</td>\n",
       "      <td>0.166667</td>\n",
       "      <td>0.166667</td>\n",
       "    </tr>\n",
       "    <tr>\n",
       "      <th>1</th>\n",
       "      <td>1</td>\n",
       "      <td>1</td>\n",
       "      <td>13052024_visstim_2D_round</td>\n",
       "      <td>240513_f0</td>\n",
       "      <td>1.649302</td>\n",
       "      <td>0</td>\n",
       "      <td>19461</td>\n",
       "      <td>19484</td>\n",
       "      <td>80</td>\n",
       "      <td>1.000000</td>\n",
       "      <td>...</td>\n",
       "      <td>0.163745</td>\n",
       "      <td>0.128555</td>\n",
       "      <td>0.119048</td>\n",
       "      <td>0.117647</td>\n",
       "      <td>2</td>\n",
       "      <td>2</td>\n",
       "      <td>19.0</td>\n",
       "      <td>15.0</td>\n",
       "      <td>0.250000</td>\n",
       "      <td>0.166667</td>\n",
       "    </tr>\n",
       "    <tr>\n",
       "      <th>2</th>\n",
       "      <td>2</td>\n",
       "      <td>2</td>\n",
       "      <td>13052024_visstim_2D_round</td>\n",
       "      <td>240513_f0</td>\n",
       "      <td>-0.861132</td>\n",
       "      <td>0</td>\n",
       "      <td>19661</td>\n",
       "      <td>19689</td>\n",
       "      <td>81</td>\n",
       "      <td>1.000000</td>\n",
       "      <td>...</td>\n",
       "      <td>0.219439</td>\n",
       "      <td>0.184779</td>\n",
       "      <td>0.104167</td>\n",
       "      <td>0.115385</td>\n",
       "      <td>3</td>\n",
       "      <td>2</td>\n",
       "      <td>27.0</td>\n",
       "      <td>16.0</td>\n",
       "      <td>0.125000</td>\n",
       "      <td>0.166667</td>\n",
       "    </tr>\n",
       "    <tr>\n",
       "      <th>3</th>\n",
       "      <td>3</td>\n",
       "      <td>3</td>\n",
       "      <td>13052024_visstim_2D_round</td>\n",
       "      <td>240513_f0</td>\n",
       "      <td>0.870591</td>\n",
       "      <td>0</td>\n",
       "      <td>20257</td>\n",
       "      <td>20292</td>\n",
       "      <td>84</td>\n",
       "      <td>1.000000</td>\n",
       "      <td>...</td>\n",
       "      <td>0.209418</td>\n",
       "      <td>0.198009</td>\n",
       "      <td>0.117647</td>\n",
       "      <td>0.117647</td>\n",
       "      <td>4</td>\n",
       "      <td>2</td>\n",
       "      <td>35.0</td>\n",
       "      <td>16.0</td>\n",
       "      <td>0.125000</td>\n",
       "      <td>0.166667</td>\n",
       "    </tr>\n",
       "    <tr>\n",
       "      <th>4</th>\n",
       "      <td>4</td>\n",
       "      <td>4</td>\n",
       "      <td>13052024_visstim_2D_round</td>\n",
       "      <td>240513_f0</td>\n",
       "      <td>2.231631</td>\n",
       "      <td>0</td>\n",
       "      <td>20824</td>\n",
       "      <td>20859</td>\n",
       "      <td>86</td>\n",
       "      <td>1.000000</td>\n",
       "      <td>...</td>\n",
       "      <td>0.220615</td>\n",
       "      <td>0.185247</td>\n",
       "      <td>0.103448</td>\n",
       "      <td>0.116667</td>\n",
       "      <td>3</td>\n",
       "      <td>3</td>\n",
       "      <td>22.0</td>\n",
       "      <td>23.0</td>\n",
       "      <td>0.125000</td>\n",
       "      <td>0.125000</td>\n",
       "    </tr>\n",
       "  </tbody>\n",
       "</table>\n",
       "<p>5 rows × 66 columns</p>\n",
       "</div>"
      ],
      "text/plain": [
       "   Unnamed: 0.1  Unnamed: 0                        exp    fish_id  bout_angle  \\\n",
       "0             0           0  13052024_visstim_2D_round  240513_f0    3.000171   \n",
       "1             1           1  13052024_visstim_2D_round  240513_f0    1.649302   \n",
       "2             2           2  13052024_visstim_2D_round  240513_f0   -0.861132   \n",
       "3             3           3  13052024_visstim_2D_round  240513_f0    0.870591   \n",
       "4             4           4  13052024_visstim_2D_round  240513_f0    2.231631   \n",
       "\n",
       "   cluster  frame_start  frame_end  bout_id_orig  mb_proba  ...  \\\n",
       "0        0        18375      18410            78  0.806645  ...   \n",
       "1        0        19461      19484            80  1.000000  ...   \n",
       "2        0        19661      19689            81  1.000000  ...   \n",
       "3        0        20257      20292            84  1.000000  ...   \n",
       "4        0        20824      20859            86  1.000000  ...   \n",
       "\n",
       "   ipsi_peak_vigor  contra_peak_vigor  ipsi_freqs  contra_freqs  ipsi_osc  \\\n",
       "0         0.244681           0.164076    0.109756      0.105263         4   \n",
       "1         0.163745           0.128555    0.119048      0.117647         2   \n",
       "2         0.219439           0.184779    0.104167      0.115385         3   \n",
       "3         0.209418           0.198009    0.117647      0.117647         4   \n",
       "4         0.220615           0.185247    0.103448      0.116667         3   \n",
       "\n",
       "   contra_osc  ipsi_duration  contra_duration  ipsi_max_freqs  \\\n",
       "0           3           28.0             27.0        0.166667   \n",
       "1           2           19.0             15.0        0.250000   \n",
       "2           2           27.0             16.0        0.125000   \n",
       "3           2           35.0             16.0        0.125000   \n",
       "4           3           22.0             23.0        0.125000   \n",
       "\n",
       "   contra_max_freqs  \n",
       "0          0.166667  \n",
       "1          0.166667  \n",
       "2          0.166667  \n",
       "3          0.166667  \n",
       "4          0.125000  \n",
       "\n",
       "[5 rows x 66 columns]"
      ]
     },
     "execution_count": 10,
     "metadata": {},
     "output_type": "execute_result"
    }
   ],
   "source": [
    "features = pd.read_csv(path_features)\n",
    "features.head()"
   ]
  },
  {
   "cell_type": "code",
   "execution_count": 11,
   "id": "e0aab7f5-6fcf-4796-9136-59c947eb2074",
   "metadata": {},
   "outputs": [
    {
     "data": {
      "text/plain": [
       "array([  65, 4209,  225, ...,  456,  365,  643])"
      ]
     },
     "execution_count": 11,
     "metadata": {},
     "output_type": "execute_result"
    }
   ],
   "source": [
    "indices = ds['original_index']\n",
    "indices"
   ]
  },
  {
   "cell_type": "markdown",
   "id": "aa57664c-eef5-454d-9abf-946d38a385ff",
   "metadata": {},
   "source": [
    "## Set params"
   ]
  },
  {
   "cell_type": "code",
   "execution_count": 35,
   "id": "dd01b7fb-6bdc-496c-9342-4539dbf20a3b",
   "metadata": {},
   "outputs": [],
   "source": [
    "lw=0.5\n",
    "cm = 1/2.54  # centimeters in inches\n",
    "f_size = 6\n",
    "size= 2\n",
    "dpi= 600\n",
    "plt.rcParams.update({'font.size': f_size})"
   ]
  },
  {
   "cell_type": "markdown",
   "id": "68e1ec79-520c-4e9f-99d3-532a5849fe8f",
   "metadata": {},
   "source": [
    "# Panel D"
   ]
  },
  {
   "cell_type": "code",
   "execution_count": 13,
   "id": "9c5059d3-40da-42c4-a772-daaf14ef6880",
   "metadata": {},
   "outputs": [],
   "source": [
    "l_osc =  features.l_osc[indices][:-1]\n",
    "r_osc =  features.r_osc[indices][:-1]"
   ]
  },
  {
   "cell_type": "code",
   "execution_count": 14,
   "id": "54bb3cd4-7a7c-4b7f-9473-04abf9baed04",
   "metadata": {},
   "outputs": [
    {
     "name": "stdout",
     "output_type": "stream",
     "text": [
      "1\n",
      "2\n",
      "3\n",
      "4\n",
      "5\n"
     ]
    }
   ],
   "source": [
    "means_osc_l , means_osc_r = [], []\n",
    "std_osc_l , std_osc_r = [], []\n",
    "\n",
    "for osc in np.arange(1,6,1):\n",
    "    print (osc)\n",
    "    means_osc_l.append(np.nanmean(r2_flat[l_osc==osc], axis=0))\n",
    "    std_osc_l.append(np.std(r2_flat[l_osc==osc], axis=0))\n",
    "    means_osc_r.append(np.nanmean(r2_flat[r_osc==osc], axis=0))\n",
    "    std_osc_r.append(np.std(r2_flat[r_osc==osc], axis=0))\n"
   ]
  },
  {
   "cell_type": "code",
   "execution_count": 15,
   "id": "34797824-cd48-4cec-be3a-99bc1124036b",
   "metadata": {},
   "outputs": [],
   "source": [
    "means_osc_l =np.asarray(means_osc_l)\n",
    "means_osc_r =np.asarray(means_osc_r)\n",
    "std_osc_l=np.asarray(std_osc_l)\n",
    "std_osc_r=np.asarray(std_osc_r)"
   ]
  },
  {
   "cell_type": "code",
   "execution_count": 36,
   "id": "fc2d0ccd-e14f-4ca2-a740-0e7e6fda3ccf",
   "metadata": {},
   "outputs": [
    {
     "data": {
      "image/png": "[encoded data removed]",
      "text/plain": [
       "<Figure size 118.11x196.85 with 1 Axes>"
      ]
     },
     "metadata": {
      "needs_background": "light"
     },
     "output_type": "display_data"
    }
   ],
   "source": [
    "\n",
    "fig, ax = plt.subplots(figsize=(3*cm, 5*cm), facecolor='None')\n",
    "\n",
    "# Plot phase data\n",
    "ax.scatter(np.arange(len(means_osc_l)) + 0.1, means_osc_l, color='b', label='Left Fin', s=size)\n",
    "ax.vlines(np.arange(len(means_osc_l)) + 0.1,\n",
    "          means_osc_l - std_osc_l,\n",
    "          means_osc_l + std_osc_l,\n",
    "          colors='b', lw=lw)\n",
    "\n",
    "# Plot phase data\n",
    "ax.scatter(np.arange(len(means_osc_r)) + 0.25, means_osc_r, color='r', label='Right Fin', s=size)\n",
    "ax.vlines(np.arange(len(means_osc_r)) + 0.25,\n",
    "          means_osc_r - std_osc_r,\n",
    "          means_osc_r + std_osc_r,\n",
    "          colors='r', lw=lw)\n",
    "\n",
    "# Adding labels and title\n",
    "ax.set(\n",
    "    xticks=np.arange(0,5,1)+0.2,\n",
    "    xticklabels=np.arange(1,6,1),\n",
    "    yticks=np.arange(0,1.01,0.25),\n",
    "    yticklabels=np.arange(0,1.01,0.25),\n",
    "    xlabel=\"Fin Oscillations\",\n",
    "    ylabel=\"$R^{2}$ Score\",\n",
    "    # title=\"$R^{2}$ Score by Number\\nin of Fin Oscillaltions\",\n",
    "    ylim=(0.3, 1),\n",
    ")\n",
    "\n",
    "ax.legend(loc='lower center', fontsize=f_size)\n",
    "sns.despine(top=True, right=True, left=False, bottom=False)\n",
    "plt.tight_layout()\n",
    "\n",
    "fig.savefig(fig_dir / \"r2_fins_osc.pdf\", bbox_inches='tight',dpi=dpi, transparent=True)\n",
    "fig.savefig(fig_dir / \"r2_fins_osc.png\", bbox_inches='tight',dpi=dpi, transparent=True)"
   ]
  },
  {
   "cell_type": "markdown",
   "id": "08db0155-3cab-4695-938d-411eacfefa27",
   "metadata": {},
   "source": [
    "## Panel E"
   ]
  },
  {
   "cell_type": "code",
   "execution_count": 18,
   "id": "98bbf659-9c54-4251-a4e1-0b32b64c0db7",
   "metadata": {},
   "outputs": [],
   "source": [
    "features_sub_ = features.iloc[indices][:-1]"
   ]
  },
  {
   "cell_type": "code",
   "execution_count": 19,
   "id": "a1802070-c8ff-442c-b67c-0193f425e292",
   "metadata": {},
   "outputs": [
    {
     "data": {
      "text/plain": [
       "(1823, 62)"
      ]
     },
     "execution_count": 19,
     "metadata": {},
     "output_type": "execute_result"
    }
   ],
   "source": [
    "features_sub = features_sub_.iloc[:,4:]\n",
    "features_sub.shape"
   ]
  },
  {
   "cell_type": "code",
   "execution_count": 20,
   "id": "5f9aef8d-a60c-4b49-801d-46b8bc67e12d",
   "metadata": {},
   "outputs": [],
   "source": [
    "significant_correlations = []\n",
    "significant_features = []\n",
    "\n",
    "# Assuming features_sub is a 2D array with columns representing features\n",
    "for i in range(features_sub.shape[1]):\n",
    "    corr = np.corrcoef(r2_flat, features_sub.iloc[:, i])[0, 1]\n",
    "    if abs(corr) > 0.1:  # Check if correlation is outside the range -0.1 to 0.1\n",
    "        significant_correlations.append(corr)\n",
    "        significant_features.append(features_sub.columns[i])  # Assuming features_sub is a DataFrame"
   ]
  },
  {
   "cell_type": "code",
   "execution_count": 21,
   "id": "297d0100-7d27-479c-8e94-c401d5081ac2",
   "metadata": {},
   "outputs": [],
   "source": [
    "list_ = [\n",
    " 'tail_direction',\n",
    " 'tail_duration',\n",
    " 'tail_peak_vigor',\n",
    " 'tail_osc',\n",
    " 'tail_time_1_peak',\n",
    " 'fin_fin_corr',\n",
    " 'ipsi_t_0',\n",
    " 'contra_t_0',\n",
    " 'tail_t_0',\n",
    " 'tail_max_freq',\n",
    " 'ipsi_peak_vigor',\n",
    " 'contra_peak_vigor',\n",
    " 'ipsi_freqs',\n",
    " 'contra_freqs',\n",
    " 'ipsi_osc',\n",
    " 'contra_osc',\n",
    " 'ipsi_duration',\n",
    " 'contra_duration',\n",
    " 'ipsi_max_freqs',\n",
    " 'contra_max_freqs']"
   ]
  },
  {
   "cell_type": "code",
   "execution_count": 22,
   "id": "8d7f3b52-1cb2-4f66-8f66-c5118d57fa61",
   "metadata": {},
   "outputs": [
    {
     "data": {
      "text/html": [
       "<div>\n",
       "<style scoped>\n",
       "    .dataframe tbody tr th:only-of-type {\n",
       "        vertical-align: middle;\n",
       "    }\n",
       "\n",
       "    .dataframe tbody tr th {\n",
       "        vertical-align: top;\n",
       "    }\n",
       "\n",
       "    .dataframe thead th {\n",
       "        text-align: right;\n",
       "    }\n",
       "</style>\n",
       "<table border=\"1\" class=\"dataframe\">\n",
       "  <thead>\n",
       "    <tr style=\"text-align: right;\">\n",
       "      <th></th>\n",
       "      <th>tail_direction</th>\n",
       "      <th>tail_duration</th>\n",
       "      <th>tail_peak_vigor</th>\n",
       "      <th>tail_osc</th>\n",
       "      <th>tail_time_1_peak</th>\n",
       "      <th>fin_fin_corr</th>\n",
       "      <th>ipsi_t_0</th>\n",
       "      <th>contra_t_0</th>\n",
       "      <th>tail_t_0</th>\n",
       "      <th>tail_max_freq</th>\n",
       "      <th>ipsi_peak_vigor</th>\n",
       "      <th>contra_peak_vigor</th>\n",
       "      <th>ipsi_freqs</th>\n",
       "      <th>contra_freqs</th>\n",
       "      <th>ipsi_osc</th>\n",
       "      <th>contra_osc</th>\n",
       "      <th>ipsi_duration</th>\n",
       "      <th>contra_duration</th>\n",
       "      <th>ipsi_max_freqs</th>\n",
       "      <th>contra_max_freqs</th>\n",
       "    </tr>\n",
       "  </thead>\n",
       "  <tbody>\n",
       "    <tr>\n",
       "      <th>65</th>\n",
       "      <td>0.0</td>\n",
       "      <td>21.0</td>\n",
       "      <td>0.080159</td>\n",
       "      <td>3.0</td>\n",
       "      <td>-1</td>\n",
       "      <td>0.401570</td>\n",
       "      <td>4.0</td>\n",
       "      <td>15.0</td>\n",
       "      <td>10.0</td>\n",
       "      <td>0.166667</td>\n",
       "      <td>0.207131</td>\n",
       "      <td>0.252490</td>\n",
       "      <td>0.134615</td>\n",
       "      <td>0.102564</td>\n",
       "      <td>3</td>\n",
       "      <td>2</td>\n",
       "      <td>18.0</td>\n",
       "      <td>22.0</td>\n",
       "      <td>0.250000</td>\n",
       "      <td>0.250000</td>\n",
       "    </tr>\n",
       "    <tr>\n",
       "      <th>4209</th>\n",
       "      <td>0.0</td>\n",
       "      <td>19.0</td>\n",
       "      <td>0.147853</td>\n",
       "      <td>2.0</td>\n",
       "      <td>51</td>\n",
       "      <td>0.389325</td>\n",
       "      <td>5.0</td>\n",
       "      <td>4.0</td>\n",
       "      <td>10.0</td>\n",
       "      <td>0.166667</td>\n",
       "      <td>0.397297</td>\n",
       "      <td>0.295349</td>\n",
       "      <td>0.115385</td>\n",
       "      <td>0.138889</td>\n",
       "      <td>3</td>\n",
       "      <td>3</td>\n",
       "      <td>26.0</td>\n",
       "      <td>18.0</td>\n",
       "      <td>0.166667</td>\n",
       "      <td>0.166667</td>\n",
       "    </tr>\n",
       "    <tr>\n",
       "      <th>225</th>\n",
       "      <td>1.0</td>\n",
       "      <td>7.0</td>\n",
       "      <td>0.059287</td>\n",
       "      <td>1.0</td>\n",
       "      <td>-1</td>\n",
       "      <td>0.549478</td>\n",
       "      <td>16.0</td>\n",
       "      <td>8.0</td>\n",
       "      <td>9.0</td>\n",
       "      <td>0.166667</td>\n",
       "      <td>0.342808</td>\n",
       "      <td>0.311436</td>\n",
       "      <td>0.105263</td>\n",
       "      <td>0.111111</td>\n",
       "      <td>1</td>\n",
       "      <td>3</td>\n",
       "      <td>21.0</td>\n",
       "      <td>27.0</td>\n",
       "      <td>0.125000</td>\n",
       "      <td>0.250000</td>\n",
       "    </tr>\n",
       "    <tr>\n",
       "      <th>9</th>\n",
       "      <td>1.0</td>\n",
       "      <td>12.0</td>\n",
       "      <td>0.047102</td>\n",
       "      <td>2.0</td>\n",
       "      <td>-1</td>\n",
       "      <td>-0.152807</td>\n",
       "      <td>11.0</td>\n",
       "      <td>15.0</td>\n",
       "      <td>9.0</td>\n",
       "      <td>0.125000</td>\n",
       "      <td>0.176119</td>\n",
       "      <td>0.132858</td>\n",
       "      <td>0.093750</td>\n",
       "      <td>0.117647</td>\n",
       "      <td>3</td>\n",
       "      <td>2</td>\n",
       "      <td>27.0</td>\n",
       "      <td>12.0</td>\n",
       "      <td>0.166667</td>\n",
       "      <td>0.125000</td>\n",
       "    </tr>\n",
       "    <tr>\n",
       "      <th>3276</th>\n",
       "      <td>1.0</td>\n",
       "      <td>20.0</td>\n",
       "      <td>0.240293</td>\n",
       "      <td>2.0</td>\n",
       "      <td>35</td>\n",
       "      <td>0.430817</td>\n",
       "      <td>3.0</td>\n",
       "      <td>6.0</td>\n",
       "      <td>7.0</td>\n",
       "      <td>0.100000</td>\n",
       "      <td>0.252405</td>\n",
       "      <td>0.201796</td>\n",
       "      <td>0.089286</td>\n",
       "      <td>0.100000</td>\n",
       "      <td>3</td>\n",
       "      <td>2</td>\n",
       "      <td>21.0</td>\n",
       "      <td>16.0</td>\n",
       "      <td>0.166667</td>\n",
       "      <td>0.100000</td>\n",
       "    </tr>\n",
       "    <tr>\n",
       "      <th>...</th>\n",
       "      <td>...</td>\n",
       "      <td>...</td>\n",
       "      <td>...</td>\n",
       "      <td>...</td>\n",
       "      <td>...</td>\n",
       "      <td>...</td>\n",
       "      <td>...</td>\n",
       "      <td>...</td>\n",
       "      <td>...</td>\n",
       "      <td>...</td>\n",
       "      <td>...</td>\n",
       "      <td>...</td>\n",
       "      <td>...</td>\n",
       "      <td>...</td>\n",
       "      <td>...</td>\n",
       "      <td>...</td>\n",
       "      <td>...</td>\n",
       "      <td>...</td>\n",
       "      <td>...</td>\n",
       "      <td>...</td>\n",
       "    </tr>\n",
       "    <tr>\n",
       "      <th>1087</th>\n",
       "      <td>0.0</td>\n",
       "      <td>18.0</td>\n",
       "      <td>0.360089</td>\n",
       "      <td>2.0</td>\n",
       "      <td>35</td>\n",
       "      <td>0.303594</td>\n",
       "      <td>13.0</td>\n",
       "      <td>16.0</td>\n",
       "      <td>7.0</td>\n",
       "      <td>0.166667</td>\n",
       "      <td>0.287850</td>\n",
       "      <td>0.152157</td>\n",
       "      <td>0.142857</td>\n",
       "      <td>0.138889</td>\n",
       "      <td>1</td>\n",
       "      <td>1</td>\n",
       "      <td>17.0</td>\n",
       "      <td>15.0</td>\n",
       "      <td>0.166667</td>\n",
       "      <td>0.500000</td>\n",
       "    </tr>\n",
       "    <tr>\n",
       "      <th>789</th>\n",
       "      <td>0.0</td>\n",
       "      <td>7.0</td>\n",
       "      <td>0.364018</td>\n",
       "      <td>1.0</td>\n",
       "      <td>40</td>\n",
       "      <td>0.797879</td>\n",
       "      <td>6.0</td>\n",
       "      <td>6.0</td>\n",
       "      <td>8.0</td>\n",
       "      <td>0.500000</td>\n",
       "      <td>0.168733</td>\n",
       "      <td>0.276811</td>\n",
       "      <td>0.125000</td>\n",
       "      <td>0.096154</td>\n",
       "      <td>1</td>\n",
       "      <td>1</td>\n",
       "      <td>8.0</td>\n",
       "      <td>8.0</td>\n",
       "      <td>0.125000</td>\n",
       "      <td>0.166667</td>\n",
       "    </tr>\n",
       "    <tr>\n",
       "      <th>2182</th>\n",
       "      <td>0.0</td>\n",
       "      <td>18.0</td>\n",
       "      <td>0.476323</td>\n",
       "      <td>3.0</td>\n",
       "      <td>51</td>\n",
       "      <td>0.467781</td>\n",
       "      <td>6.0</td>\n",
       "      <td>6.0</td>\n",
       "      <td>7.0</td>\n",
       "      <td>0.250000</td>\n",
       "      <td>0.159941</td>\n",
       "      <td>0.035448</td>\n",
       "      <td>0.107143</td>\n",
       "      <td>0.071429</td>\n",
       "      <td>1</td>\n",
       "      <td>0</td>\n",
       "      <td>7.0</td>\n",
       "      <td>13.0</td>\n",
       "      <td>0.166667</td>\n",
       "      <td>0.166667</td>\n",
       "    </tr>\n",
       "    <tr>\n",
       "      <th>456</th>\n",
       "      <td>0.0</td>\n",
       "      <td>21.0</td>\n",
       "      <td>0.318137</td>\n",
       "      <td>3.0</td>\n",
       "      <td>35</td>\n",
       "      <td>0.691306</td>\n",
       "      <td>6.0</td>\n",
       "      <td>7.0</td>\n",
       "      <td>7.0</td>\n",
       "      <td>0.250000</td>\n",
       "      <td>0.276616</td>\n",
       "      <td>0.144265</td>\n",
       "      <td>0.130435</td>\n",
       "      <td>0.113636</td>\n",
       "      <td>1</td>\n",
       "      <td>2</td>\n",
       "      <td>9.0</td>\n",
       "      <td>18.0</td>\n",
       "      <td>0.166667</td>\n",
       "      <td>0.125000</td>\n",
       "    </tr>\n",
       "    <tr>\n",
       "      <th>365</th>\n",
       "      <td>0.0</td>\n",
       "      <td>14.0</td>\n",
       "      <td>0.425230</td>\n",
       "      <td>1.0</td>\n",
       "      <td>35</td>\n",
       "      <td>0.552513</td>\n",
       "      <td>5.0</td>\n",
       "      <td>6.0</td>\n",
       "      <td>7.0</td>\n",
       "      <td>0.250000</td>\n",
       "      <td>0.308617</td>\n",
       "      <td>0.248401</td>\n",
       "      <td>0.136364</td>\n",
       "      <td>0.107143</td>\n",
       "      <td>2</td>\n",
       "      <td>2</td>\n",
       "      <td>17.0</td>\n",
       "      <td>14.0</td>\n",
       "      <td>0.500000</td>\n",
       "      <td>0.166667</td>\n",
       "    </tr>\n",
       "  </tbody>\n",
       "</table>\n",
       "<p>1823 rows × 20 columns</p>\n",
       "</div>"
      ],
      "text/plain": [
       "      tail_direction  tail_duration  tail_peak_vigor  tail_osc  \\\n",
       "65               0.0           21.0         0.080159       3.0   \n",
       "4209             0.0           19.0         0.147853       2.0   \n",
       "225              1.0            7.0         0.059287       1.0   \n",
       "9                1.0           12.0         0.047102       2.0   \n",
       "3276             1.0           20.0         0.240293       2.0   \n",
       "...              ...            ...              ...       ...   \n",
       "1087             0.0           18.0         0.360089       2.0   \n",
       "789              0.0            7.0         0.364018       1.0   \n",
       "2182             0.0           18.0         0.476323       3.0   \n",
       "456              0.0           21.0         0.318137       3.0   \n",
       "365              0.0           14.0         0.425230       1.0   \n",
       "\n",
       "      tail_time_1_peak  fin_fin_corr  ipsi_t_0  contra_t_0  tail_t_0  \\\n",
       "65                  -1      0.401570       4.0        15.0      10.0   \n",
       "4209                51      0.389325       5.0         4.0      10.0   \n",
       "225                 -1      0.549478      16.0         8.0       9.0   \n",
       "9                   -1     -0.152807      11.0        15.0       9.0   \n",
       "3276                35      0.430817       3.0         6.0       7.0   \n",
       "...                ...           ...       ...         ...       ...   \n",
       "1087                35      0.303594      13.0        16.0       7.0   \n",
       "789                 40      0.797879       6.0         6.0       8.0   \n",
       "2182                51      0.467781       6.0         6.0       7.0   \n",
       "456                 35      0.691306       6.0         7.0       7.0   \n",
       "365                 35      0.552513       5.0         6.0       7.0   \n",
       "\n",
       "      tail_max_freq  ipsi_peak_vigor  contra_peak_vigor  ipsi_freqs  \\\n",
       "65         0.166667         0.207131           0.252490    0.134615   \n",
       "4209       0.166667         0.397297           0.295349    0.115385   \n",
       "225        0.166667         0.342808           0.311436    0.105263   \n",
       "9          0.125000         0.176119           0.132858    0.093750   \n",
       "3276       0.100000         0.252405           0.201796    0.089286   \n",
       "...             ...              ...                ...         ...   \n",
       "1087       0.166667         0.287850           0.152157    0.142857   \n",
       "789        0.500000         0.168733           0.276811    0.125000   \n",
       "2182       0.250000         0.159941           0.035448    0.107143   \n",
       "456        0.250000         0.276616           0.144265    0.130435   \n",
       "365        0.250000         0.308617           0.248401    0.136364   \n",
       "\n",
       "      contra_freqs  ipsi_osc  contra_osc  ipsi_duration  contra_duration  \\\n",
       "65        0.102564         3           2           18.0             22.0   \n",
       "4209      0.138889         3           3           26.0             18.0   \n",
       "225       0.111111         1           3           21.0             27.0   \n",
       "9         0.117647         3           2           27.0             12.0   \n",
       "3276      0.100000         3           2           21.0             16.0   \n",
       "...            ...       ...         ...            ...              ...   \n",
       "1087      0.138889         1           1           17.0             15.0   \n",
       "789       0.096154         1           1            8.0              8.0   \n",
       "2182      0.071429         1           0            7.0             13.0   \n",
       "456       0.113636         1           2            9.0             18.0   \n",
       "365       0.107143         2           2           17.0             14.0   \n",
       "\n",
       "      ipsi_max_freqs  contra_max_freqs  \n",
       "65          0.250000          0.250000  \n",
       "4209        0.166667          0.166667  \n",
       "225         0.125000          0.250000  \n",
       "9           0.166667          0.125000  \n",
       "3276        0.166667          0.100000  \n",
       "...              ...               ...  \n",
       "1087        0.166667          0.500000  \n",
       "789         0.125000          0.166667  \n",
       "2182        0.166667          0.166667  \n",
       "456         0.166667          0.125000  \n",
       "365         0.500000          0.166667  \n",
       "\n",
       "[1823 rows x 20 columns]"
      ]
     },
     "execution_count": 22,
     "metadata": {},
     "output_type": "execute_result"
    }
   ],
   "source": [
    "# Select columns from features_sub that are present in list_\n",
    "selected_columns = features_sub.columns.intersection(list_)\n",
    "selected_features_sub = features_sub[selected_columns]\n",
    "\n",
    "selected_features_sub"
   ]
  },
  {
   "cell_type": "code",
   "execution_count": 23,
   "id": "96861e5e-7862-434f-847f-179152696064",
   "metadata": {},
   "outputs": [
    {
     "name": "stderr",
     "output_type": "stream",
     "text": [
      "C:\\Users\\admin\\miniconda3\\envs\\base_env\\Lib\\site-packages\\numpy\\lib\\function_base.py:2897: RuntimeWarning: invalid value encountered in divide\n",
      "  c /= stddev[:, None]\n",
      "C:\\Users\\admin\\miniconda3\\envs\\base_env\\Lib\\site-packages\\numpy\\lib\\function_base.py:2898: RuntimeWarning: invalid value encountered in divide\n",
      "  c /= stddev[None, :]\n"
     ]
    }
   ],
   "source": [
    "corrs_clust = []\n",
    "feat_clust  =[]\n",
    "for clust in range(11):\n",
    "    significant_correlations = []\n",
    "    # Assuming features_sub is a 2D array with columns representing features\n",
    "    for i in range(selected_features_sub.shape[1]):\n",
    "        corr = np.corrcoef(r2_flat[clusters[:-1]==clust], selected_features_sub.iloc[:, i][clusters[:-1]==clust])[0, 1]\n",
    "        significant_correlations.append(corr)\n",
    "    corrs_clust.append(significant_correlations)\n"
   ]
  },
  {
   "cell_type": "code",
   "execution_count": 24,
   "id": "7cda8ff2-8d43-4dce-b82c-4caf4c100a91",
   "metadata": {},
   "outputs": [
    {
     "data": {
      "text/plain": [
       "(11, 20)"
      ]
     },
     "execution_count": 24,
     "metadata": {},
     "output_type": "execute_result"
    }
   ],
   "source": [
    "corrs_clust = np.asarray(corrs_clust)\n",
    "corrs_clust.shape"
   ]
  },
  {
   "cell_type": "code",
   "execution_count": 25,
   "id": "3435b30d-f93e-4078-89cc-1e21d181999d",
   "metadata": {},
   "outputs": [],
   "source": [
    "feat_clust = selected_features_sub.columns"
   ]
  },
  {
   "cell_type": "code",
   "execution_count": 26,
   "id": "305654a3-0370-4a67-97b2-a85ca9942280",
   "metadata": {},
   "outputs": [
    {
     "name": "stdout",
     "output_type": "stream",
     "text": [
      "Filtered array:\n",
      " (11, 13)\n"
     ]
    }
   ],
   "source": [
    "# Create a mask for columns where any element in the column is greater than 0.1\n",
    "mask = np.any(abs(corrs_clust) > 0.4, axis=0)\n",
    "\n",
    "# Use the mask to filter the columns in corrs_clust\n",
    "filtered_corrs_clust = corrs_clust[:, mask]\n",
    "filtered_feat_clust = feat_clust[mask]\n",
    "print(\"Filtered array:\\n\", filtered_corrs_clust.shape)\n"
   ]
  },
  {
   "cell_type": "code",
   "execution_count": 27,
   "id": "89efff93-220b-4bad-9feb-396b597037e8",
   "metadata": {},
   "outputs": [],
   "source": [
    "# Exclude rows -1 and -3\n",
    "# -1 corresponds to the last row and -3 corresponds to the third-to-last row\n",
    "rows_to_exclude = [-1, -3]\n",
    "rows_to_include = np.delete(np.arange(filtered_corrs_clust.shape[0]), rows_to_exclude)\n",
    "\n",
    "# Filtered array after excluding specific rows\n",
    "filtered_corrs_clust_excluded = filtered_corrs_clust[rows_to_include, :]\n"
   ]
  },
  {
   "cell_type": "code",
   "execution_count": 28,
   "id": "55ec0d6f-07af-4179-a587-9ebcde48c01e",
   "metadata": {},
   "outputs": [],
   "source": [
    "alph=0.01\n",
    "dot_size=1\n",
    "cm = 1/2.54  # centimeters in inches\n",
    "f_size =6"
   ]
  },
  {
   "cell_type": "code",
   "execution_count": 37,
   "id": "11615f93-fe89-480b-84e3-b059c402610c",
   "metadata": {},
   "outputs": [
    {
     "data": {
      "image/png": "[encoded data removed]",
      "text/plain": [
       "<Figure size 216.535x196.85 with 2 Axes>"
      ]
     },
     "metadata": {
      "needs_background": "light"
     },
     "output_type": "display_data"
    }
   ],
   "source": [
    "# Plotting heatmap\n",
    "fig, ax = plt.subplots(facecolor='None',figsize=(5.5*cm, 5*cm))\n",
    "\n",
    "ax = sns.heatmap(filtered_corrs_clust_excluded, annot=False, cmap='coolwarm', xticklabels=filtered_feat_clust)\n",
    "# Add a colorbar with a label\n",
    "cbar = ax.collections[0].colorbar\n",
    "cbar.set_label('Correlation')\n",
    "cbar.ax.tick_params(labelsize=f_size-1)\n",
    "# Adding labels and title\n",
    "plt.xlabel('Features')\n",
    "plt.ylabel('Bout Category')\n",
    "plt.yticks(np.arange(0,9,1)+0.5,labels=catname, rotation=0)\n",
    "\n",
    "plt.tight_layout()\n",
    "sns.despine(top=True, right=True, left=False, bottom=False)\n",
    "plt.savefig(fig_dir / \"features_r2_corr_clust_heatmap.pdf\", bbox_inches='tight',dpi=dpi, transparent=True)\n",
    "plt.savefig(fig_dir / \"features_r2_corr_clust_heatmap.png\", bbox_inches='tight',dpi=dpi, transparent=True)"
   ]
  },
  {
   "cell_type": "markdown",
   "id": "801da962-7fe4-4147-a631-714556f23a97",
   "metadata": {},
   "source": [
    "## Panel F"
   ]
  },
  {
   "cell_type": "code",
   "execution_count": 30,
   "id": "c7c550dd-8466-4bcb-afe3-abe7d1ec48f1",
   "metadata": {},
   "outputs": [],
   "source": [
    "results_path = master_path / 'Embeddings'"
   ]
  },
  {
   "cell_type": "code",
   "execution_count": 31,
   "id": "128fb767-8cac-4862-be41-6a82bbbf3d85",
   "metadata": {},
   "outputs": [],
   "source": [
    "X_transformed = fl.load(results_path/ 'fin_cov_embeddings.h5')"
   ]
  },
  {
   "cell_type": "code",
   "execution_count": 32,
   "id": "ab43ceba-83ee-4ce1-8692-4a478020eac5",
   "metadata": {},
   "outputs": [],
   "source": [
    "alph=0.01\n",
    "dot_size=1\n",
    "cm = 1/2.54  # centimeters in inches\n",
    "f_size =20\n",
    "dpi= 600"
   ]
  },
  {
   "cell_type": "code",
   "execution_count": 33,
   "id": "0c74ab2c-1a16-4aa1-890a-9009ef58f03a",
   "metadata": {},
   "outputs": [
    {
     "data": {
      "image/png": "[encoded data removed]",
      "text/plain": [
       "<Figure size 393.701x393.701 with 2 Axes>"
      ]
     },
     "metadata": {
      "needs_background": "light"
     },
     "output_type": "display_data"
    }
   ],
   "source": [
    "\n",
    "fig = plt.figure(figsize=(10*cm, 10*cm))\n",
    "ax = fig.add_subplot(projection='3d')\n",
    "fig.patch.set_facecolor('none')\n",
    "\n",
    "ax.scatter(X_transformed[:,0],X_transformed[:,1],X_transformed[:,2], alpha=alph, s=dot_size, color = 'gray')\n",
    "\n",
    "ins = indices[:-1]\n",
    "sc= ax.scatter(X_transformed[ins,0],X_transformed[ins,1],X_transformed[ins,2], alpha=1 ,c=r2_flat, cmap='plasma')\n",
    "\n",
    "ax.grid(b=None)\n",
    "# Origin for the basis\n",
    "origin = np.array([0, 0, 0])\n",
    "\n",
    "# Define the 3 basis vectors (unit vectors along x, y, z axes)\n",
    "u = np.array([1, 0, 0])  # x-axis unit vector\n",
    "v = np.array([0, 1, 0])  # y-axis unit vector\n",
    "w = np.array([0, 0, 1])  # z-axis unit vector\n",
    "\n",
    "# Plot the vectors using quiver\n",
    "ax.quiver(*origin, *u/3, color='k', label='x-axis (i)', arrow_length_ratio=0.2)\n",
    "ax.quiver(*origin, *v/3, color='k', label='y-axis (j)', arrow_length_ratio=0.2)\n",
    "ax.quiver(*origin, *w/3, color='k', label='z-axis (k)', arrow_length_ratio=0.2)\n",
    "ax.set_xticks([])\n",
    "ax.set_yticks([])\n",
    "ax.set_zticks([])\n",
    "\n",
    "plt.title(\"$R^{2}$ Score\", fontsize=f_size)\n",
    "\n",
    "cbar= plt.colorbar(sc, shrink=0.5, orientation='horizontal',pad=0)\n",
    "cbar.set_label(\"$R^{2}$ Score\", size=f_size-2)\n",
    "cbar.ax.tick_params(labelsize=f_size)\n",
    "cbar.set_ticks([np.min(r2_flat),np.max(r2_flat)])\n",
    "cbar.set_ticklabels([np.round(np.min(r2_flat),2),np.round(np.max(r2_flat),2)], fontsize=f_size-2)\n",
    "\n",
    "plt.tight_layout()\n",
    "fig.savefig('{}/3DEMB_r2.png'.format(fig_dir), format='png', dpi=dpi)\n"
   ]
  },
  {
   "cell_type": "code",
   "execution_count": null,
   "id": "fd7f060a-e647-468b-b3e8-46f784d33b8a",
   "metadata": {},
   "outputs": [],
   "source": []
  }
 ],
 "metadata": {
  "kernelspec": {
   "display_name": "Python 3 (ipykernel)",
   "language": "python",
   "name": "python3"
  },
  "language_info": {
   "codemirror_mode": {
    "name": "ipython",
    "version": 3
   },
   "file_extension": ".py",
   "mimetype": "text/x-python",
   "name": "python",
   "nbconvert_exporter": "python",
   "pygments_lexer": "ipython3",
   "version": "3.11.5"
  }
 },
 "nbformat": 4,
 "nbformat_minor": 5
}
