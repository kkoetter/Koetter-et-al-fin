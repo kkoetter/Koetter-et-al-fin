{
 "cells": [
  {
   "cell_type": "code",
   "execution_count": 1,
   "metadata": {},
   "outputs": [],
   "source": [
    "from pathlib import Path\n",
    "import h5py\n",
    "import numpy as np\n",
    "import matplotlib.pyplot as plt\n",
    "from matplotlib import gridspec\n",
    "\n",
    "from sklearn.linear_model import RidgeCV,LinearRegression\n",
    "from sklearn.model_selection import train_test_split\n",
    "from sklearn.metrics import mean_squared_error, r2_score\n",
    "from tqdm import tqdm\n",
    "import scipy.stats as stats"
   ]
  },
  {
   "cell_type": "code",
   "execution_count": null,
   "metadata": {},
   "outputs": [],
   "source": [
    "from fig_5_helper import shuffle_along_axis_coherent, shuffle_phase_coherent, shuffle_magnitude_coherent\n",
    "from fig_5_helper import compute_r2, compute_statistics\n",
    "from fig_5_helper import catname, bout_cols"
   ]
  },
  {
   "cell_type": "markdown",
   "metadata": {},
   "source": [
    "Shuffling the Phase of a Signal\n",
    "\n",
    "        The phase of a signal carries information about the timing of the signal's oscillations. By shuffling the phase, you disrupt the temporal order of the signal while keeping the amplitude spectrum (or power) intact.\n",
    "\n",
    "Shuffling the Power of a Signal\n",
    "\n",
    "        Power is related to the amplitude of the signal's frequency components. By shuffling the power, you keep the phase information but randomize the amplitude distribution across frequencies.\n"
   ]
  },
  {
   "cell_type": "code",
   "execution_count": 5,
   "metadata": {},
   "outputs": [],
   "source": [
    "bout_cat =np.arange(0,11,1)"
   ]
  },
  {
   "cell_type": "code",
   "execution_count": 6,
   "metadata": {},
   "outputs": [],
   "source": [
    "fig_dir = Path(r'\\\\portulab.synology.me\\data\\Kata\\Figures_Paper\\Figure_5\\fig_5')\n",
    "fig_dir.mkdir(exist_ok=True, parents=True)"
   ]
  },
  {
   "cell_type": "markdown",
   "metadata": {},
   "source": [
    "## Load data"
   ]
  },
  {
   "cell_type": "code",
   "execution_count": 7,
   "metadata": {},
   "outputs": [
    {
     "name": "stdout",
     "output_type": "stream",
     "text": [
      "original_index\n",
      "proba\n",
      "clusters\n",
      "tail_dir\n",
      "tails\n",
      "fins\n",
      "reconstructions\n",
      "latents\n",
      "inputs\n",
      "model_targets\n",
      "original_tensor\n"
     ]
    }
   ],
   "source": [
    "master_path = Path(r'\\\\portulab.synology.me\\data\\Kata\\Processed_Data\\fin_tail_nn')\n",
    "ds = np.load(Path(master_path /'fin_data'/'model_data_test.npz'))\n",
    "print(*ds.files,sep=\"\\n\")"
   ]
  },
  {
   "cell_type": "code",
   "execution_count": 8,
   "metadata": {},
   "outputs": [
    {
     "data": {
      "text/plain": [
       "((1823, 7, 175),\n",
       " (1824, 7, 175),\n",
       " (1823, 7, 175),\n",
       " (1823, 10, 175),\n",
       " (1824, 2, 175),\n",
       " (1823, 120, 175))"
      ]
     },
     "execution_count": 8,
     "metadata": {},
     "output_type": "execute_result"
    }
   ],
   "source": [
    "ds = np.load(Path(master_path /'fin_data'/'model_data_test.npz'))\n",
    "ds['reconstructions'].shape, ds['tails'].shape, ds['model_targets'].shape, ds['inputs'].shape,  ds['fins'].shape, ds['latents'].shape\n"
   ]
  },
  {
   "cell_type": "code",
   "execution_count": 9,
   "metadata": {},
   "outputs": [
    {
     "name": "stdout",
     "output_type": "stream",
     "text": [
      "n trials: 1823, n tps: 175, n fins: 2, n latents: 120\n"
     ]
    }
   ],
   "source": [
    "# pull out bout features\n",
    "swim_cat = ds['clusters'] # bout type\n",
    "swim_direction = ds['tail_dir'] # direction\n",
    "proba = ds['proba'] # direction\n",
    "# pull out bout tensors\n",
    "fins = ds['fins'][:-1,:,:]\n",
    "tails = ds['tails'][:-1,:,:]\n",
    "latents = ds['latents']\n",
    "inputs = ds['inputs']\n",
    "recons = ds['reconstructions']\n",
    "\n",
    "# dims\n",
    "n_trials, n_segs, n_tps = recons.shape\n",
    "_, n_fins, _ = fins.shape\n",
    "_, n_latents, _ = latents.shape\n",
    "_, n_inputs, _ = inputs.shape\n",
    "\n",
    "print(f\"n trials: {n_trials}, n tps: {n_tps}, n fins: {n_fins}, n latents: {n_latents}\")\n",
    "\n",
    "tt_ = np.arange(n_tps)*10/7"
   ]
  },
  {
   "cell_type": "markdown",
   "metadata": {},
   "source": [
    "### Shuffle fins\n",
    "\n",
    "    1. FFT Fins\n",
    "\n",
    "    Types of shuffle:\n",
    "    2. Shuffle Phase, keep power\n",
    "    3. Shuffle Power, Keep Phase\n",
    "\n",
    "    4. Run 1000 times shuffle and compute R2\n",
    "    5. Compare significance level\n",
    "    6. Do the same for tail\n",
    "    "
   ]
  },
  {
   "cell_type": "code",
   "execution_count": 10,
   "metadata": {},
   "outputs": [],
   "source": [
    "fft_fins = np.fft.fft(fins, axis=-1)"
   ]
  },
  {
   "cell_type": "code",
   "execution_count": 11,
   "metadata": {},
   "outputs": [],
   "source": [
    "# Apply coherent shuffling\n",
    "shuffled_phase_fins = np.zeros_like(fft_fins, dtype=np.complex128)\n",
    "\n",
    "for trial in range(fft_fins.shape[0]):\n",
    "    shuffled_phase_fins[trial] = shuffle_phase_coherent(fft_fins[trial])\n",
    "\n",
    "# Reconstruct the time series from the shuffled phase FFT data\n",
    "shuffled_time_series_phase = np.zeros_like(fft_fins, dtype=np.float64)\n",
    "\n",
    "for trial in range(shuffled_phase_fins.shape[0]):\n",
    "    for fin in range(shuffled_phase_fins.shape[1]):\n",
    "        # Use inverse FFT to get back to time domain\n",
    "        shuffled_time_series_phase[trial, fin] = np.fft.ifft(shuffled_phase_fins[trial, fin]).real\n"
   ]
  },
  {
   "cell_type": "code",
   "execution_count": 12,
   "metadata": {},
   "outputs": [],
   "source": [
    "# Apply coherent magnitude shuffling\n",
    "shuffled_magnitude_fins = np.zeros_like(fft_fins, dtype=np.complex128)\n",
    "\n",
    "for trial in range(fft_fins.shape[0]):\n",
    "    shuffled_magnitude_fins[trial] = shuffle_magnitude_coherent(fft_fins[trial])\n",
    "\n",
    "# Reconstruct the time series from the shuffled magnitude FFT data\n",
    "shuffled_time_series_power = np.zeros_like(fft_fins, dtype=np.float64)\n",
    "\n",
    "for trial in range(shuffled_magnitude_fins.shape[0]):\n",
    "    for fin in range(shuffled_magnitude_fins.shape[1]):\n",
    "        # Use inverse FFT to get back to time domain\n",
    "        shuffled_time_series_power[trial, fin] = np.fft.ifft(shuffled_magnitude_fins[trial, fin]).real\n"
   ]
  },
  {
   "cell_type": "code",
   "execution_count": 13,
   "metadata": {},
   "outputs": [
    {
     "data": {
      "text/plain": [
       "((1823, 2, 175), (1823, 2, 175))"
      ]
     },
     "execution_count": 13,
     "metadata": {},
     "output_type": "execute_result"
    }
   ],
   "source": [
    "shuffled_time_series_phase.shape, shuffled_time_series_power.shape"
   ]
  },
  {
   "cell_type": "markdown",
   "metadata": {},
   "source": [
    "### Compute R2"
   ]
  },
  {
   "cell_type": "code",
   "execution_count": 14,
   "metadata": {},
   "outputs": [
    {
     "name": "stdout",
     "output_type": "stream",
     "text": [
      "Mean Squared Error: 0.04113910714418859\n",
      "(1823, 120, 175) (1823, 2, 175)\n"
     ]
    }
   ],
   "source": [
    "r_vals = compute_r2(latents, fins)\n",
    "print (latents.shape, fins.shape)"
   ]
  },
  {
   "cell_type": "code",
   "execution_count": 15,
   "metadata": {},
   "outputs": [
    {
     "name": "stdout",
     "output_type": "stream",
     "text": [
      "Mean Squared Error: 0.06047881555101761\n",
      "(1823, 120, 175) (1823, 2, 175)\n"
     ]
    }
   ],
   "source": [
    "r_vals_phase = compute_r2(latents, shuffled_time_series_phase)\n",
    "print (latents.shape, shuffled_phase_fins.shape)"
   ]
  },
  {
   "cell_type": "code",
   "execution_count": 16,
   "metadata": {},
   "outputs": [
    {
     "name": "stdout",
     "output_type": "stream",
     "text": [
      "Mean Squared Error: 0.0512397636750073\n",
      "(1823, 120, 175) (1823, 2, 175)\n"
     ]
    }
   ],
   "source": [
    "r_vals_power = compute_r2(latents, shuffled_time_series_power)\n",
    "print (latents.shape, shuffled_time_series_power.shape)"
   ]
  },
  {
   "cell_type": "markdown",
   "metadata": {},
   "source": [
    "### now lets run it x times"
   ]
  },
  {
   "cell_type": "code",
   "execution_count": 18,
   "metadata": {
    "scrolled": true
   },
   "outputs": [
    {
     "name": "stderr",
     "output_type": "stream",
     "text": [
      "  0%|                                                                                          | 0/100 [00:00<?, ?it/s]"
     ]
    },
    {
     "name": "stdout",
     "output_type": "stream",
     "text": [
      "Mean Squared Error: 0.06319400098617883\n",
      "Mean Squared Error: 0.05130075314598347\n",
      "Mean Squared Error: 0.04113910714418858\n"
     ]
    },
    {
     "name": "stderr",
     "output_type": "stream",
     "text": [
      "  1%|▊                                                                                 | 1/100 [00:18<30:46, 18.66s/it]"
     ]
    },
    {
     "name": "stdout",
     "output_type": "stream",
     "text": [
      "Mean Squared Error: 0.06374226449972033\n",
      "Mean Squared Error: 0.05125092400955789\n",
      "Mean Squared Error: 0.041139107144188565\n"
     ]
    },
    {
     "name": "stderr",
     "output_type": "stream",
     "text": [
      "  2%|█▋                                                                                | 2/100 [00:37<31:07, 19.06s/it]"
     ]
    },
    {
     "name": "stdout",
     "output_type": "stream",
     "text": [
      "Mean Squared Error: 0.0610078792427322\n",
      "Mean Squared Error: 0.05155969678573589\n",
      "Mean Squared Error: 0.04113910714418853\n"
     ]
    },
    {
     "name": "stderr",
     "output_type": "stream",
     "text": [
      "  3%|██▍                                                                               | 3/100 [00:56<30:22, 18.79s/it]"
     ]
    },
    {
     "name": "stdout",
     "output_type": "stream",
     "text": [
      "Mean Squared Error: 0.06174374939145821\n",
      "Mean Squared Error: 0.051052103886664764\n",
      "Mean Squared Error: 0.04113910714418857\n"
     ]
    },
    {
     "name": "stderr",
     "output_type": "stream",
     "text": [
      "  4%|███▎                                                                              | 4/100 [01:15<30:19, 18.95s/it]"
     ]
    },
    {
     "name": "stdout",
     "output_type": "stream",
     "text": [
      "Mean Squared Error: 0.06219506368770276\n",
      "Mean Squared Error: 0.05131502458402546\n",
      "Mean Squared Error: 0.04113910714418857\n"
     ]
    },
    {
     "name": "stderr",
     "output_type": "stream",
     "text": [
      "  5%|████                                                                              | 5/100 [01:33<29:29, 18.63s/it]"
     ]
    },
    {
     "name": "stdout",
     "output_type": "stream",
     "text": [
      "Mean Squared Error: 0.06253340554420747\n",
      "Mean Squared Error: 0.050801949470795714\n",
      "Mean Squared Error: 0.041139107144188586\n"
     ]
    },
    {
     "name": "stderr",
     "output_type": "stream",
     "text": [
      "  6%|████▉                                                                             | 6/100 [01:56<31:09, 19.89s/it]"
     ]
    },
    {
     "name": "stdout",
     "output_type": "stream",
     "text": [
      "Mean Squared Error: 0.06037252009135915\n",
      "Mean Squared Error: 0.05128492623918961\n",
      "Mean Squared Error: 0.04113910714418862\n"
     ]
    },
    {
     "name": "stderr",
     "output_type": "stream",
     "text": [
      "  7%|█████▋                                                                            | 7/100 [02:16<30:53, 19.93s/it]"
     ]
    },
    {
     "name": "stdout",
     "output_type": "stream",
     "text": [
      "Mean Squared Error: 0.06521813962841741\n",
      "Mean Squared Error: 0.0506553897217693\n",
      "Mean Squared Error: 0.041139107144188586\n"
     ]
    },
    {
     "name": "stderr",
     "output_type": "stream",
     "text": [
      "  8%|██████▌                                                                           | 8/100 [02:35<30:20, 19.79s/it]"
     ]
    },
    {
     "name": "stdout",
     "output_type": "stream",
     "text": [
      "Mean Squared Error: 0.0669773668441519\n",
      "Mean Squared Error: 0.051333654137029706\n",
      "Mean Squared Error: 0.04113910714418853\n"
     ]
    },
    {
     "name": "stderr",
     "output_type": "stream",
     "text": [
      "  9%|███████▍                                                                          | 9/100 [02:54<29:39, 19.55s/it]"
     ]
    },
    {
     "name": "stdout",
     "output_type": "stream",
     "text": [
      "Mean Squared Error: 0.06480765860557805\n",
      "Mean Squared Error: 0.051405766021420315\n",
      "Mean Squared Error: 0.04113910714418858\n"
     ]
    },
    {
     "name": "stderr",
     "output_type": "stream",
     "text": [
      " 10%|████████                                                                         | 10/100 [03:12<28:24, 18.93s/it]"
     ]
    },
    {
     "name": "stdout",
     "output_type": "stream",
     "text": [
      "Mean Squared Error: 0.06334043572091282\n",
      "Mean Squared Error: 0.050822026161110714\n",
      "Mean Squared Error: 0.04113910714418856\n"
     ]
    },
    {
     "name": "stderr",
     "output_type": "stream",
     "text": [
      " 11%|████████▉                                                                        | 11/100 [03:31<28:06, 18.95s/it]"
     ]
    },
    {
     "name": "stdout",
     "output_type": "stream",
     "text": [
      "Mean Squared Error: 0.06040922813779828\n",
      "Mean Squared Error: 0.05102793297375228\n",
      "Mean Squared Error: 0.04113910714418858\n"
     ]
    },
    {
     "name": "stderr",
     "output_type": "stream",
     "text": [
      " 12%|█████████▋                                                                       | 12/100 [03:49<27:31, 18.77s/it]"
     ]
    },
    {
     "name": "stdout",
     "output_type": "stream",
     "text": [
      "Mean Squared Error: 0.06521798954379159\n",
      "Mean Squared Error: 0.05101671400828271\n",
      "Mean Squared Error: 0.04113910714418858\n"
     ]
    },
    {
     "name": "stderr",
     "output_type": "stream",
     "text": [
      " 13%|██████████▌                                                                      | 13/100 [04:09<27:36, 19.04s/it]"
     ]
    },
    {
     "name": "stdout",
     "output_type": "stream",
     "text": [
      "Mean Squared Error: 0.062832216630914\n",
      "Mean Squared Error: 0.05169708586968487\n",
      "Mean Squared Error: 0.041139107144188614\n"
     ]
    },
    {
     "name": "stderr",
     "output_type": "stream",
     "text": [
      " 14%|███████████▎                                                                     | 14/100 [04:28<27:22, 19.09s/it]"
     ]
    },
    {
     "name": "stdout",
     "output_type": "stream",
     "text": [
      "Mean Squared Error: 0.06467470040901284\n",
      "Mean Squared Error: 0.05095501176418383\n",
      "Mean Squared Error: 0.041139107144188614\n"
     ]
    },
    {
     "name": "stderr",
     "output_type": "stream",
     "text": [
      " 15%|████████████▏                                                                    | 15/100 [04:47<26:52, 18.97s/it]"
     ]
    },
    {
     "name": "stdout",
     "output_type": "stream",
     "text": [
      "Mean Squared Error: 0.062379408745232935\n",
      "Mean Squared Error: 0.05082827231522042\n",
      "Mean Squared Error: 0.041139107144188544\n"
     ]
    },
    {
     "name": "stderr",
     "output_type": "stream",
     "text": [
      " 16%|████████████▉                                                                    | 16/100 [05:06<26:42, 19.07s/it]"
     ]
    },
    {
     "name": "stdout",
     "output_type": "stream",
     "text": [
      "Mean Squared Error: 0.06332790743906223\n",
      "Mean Squared Error: 0.051338455251252545\n",
      "Mean Squared Error: 0.04113910714418852\n"
     ]
    },
    {
     "name": "stderr",
     "output_type": "stream",
     "text": [
      " 17%|█████████████▊                                                                   | 17/100 [05:24<26:05, 18.87s/it]"
     ]
    },
    {
     "name": "stdout",
     "output_type": "stream",
     "text": [
      "Mean Squared Error: 0.06306145316902574\n",
      "Mean Squared Error: 0.051091106257418556\n",
      "Mean Squared Error: 0.04113910714418856\n"
     ]
    },
    {
     "name": "stderr",
     "output_type": "stream",
     "text": [
      " 18%|██████████████▌                                                                  | 18/100 [05:49<28:04, 20.55s/it]"
     ]
    },
    {
     "name": "stdout",
     "output_type": "stream",
     "text": [
      "Mean Squared Error: 0.06247911184400978\n",
      "Mean Squared Error: 0.05154730247210756\n",
      "Mean Squared Error: 0.04113910714418857\n"
     ]
    },
    {
     "name": "stderr",
     "output_type": "stream",
     "text": [
      " 19%|███████████████▍                                                                 | 19/100 [06:18<31:05, 23.03s/it]"
     ]
    },
    {
     "name": "stdout",
     "output_type": "stream",
     "text": [
      "Mean Squared Error: 0.06300802931259694\n",
      "Mean Squared Error: 0.0516334741512157\n",
      "Mean Squared Error: 0.0411391071441885\n"
     ]
    },
    {
     "name": "stderr",
     "output_type": "stream",
     "text": [
      " 20%|████████████████▏                                                                | 20/100 [06:36<29:00, 21.75s/it]"
     ]
    },
    {
     "name": "stdout",
     "output_type": "stream",
     "text": [
      "Mean Squared Error: 0.06338354843200272\n",
      "Mean Squared Error: 0.051192129930998156\n",
      "Mean Squared Error: 0.04113910714418858\n"
     ]
    },
    {
     "name": "stderr",
     "output_type": "stream",
     "text": [
      " 21%|█████████████████                                                                | 21/100 [06:56<27:53, 21.19s/it]"
     ]
    },
    {
     "name": "stdout",
     "output_type": "stream",
     "text": [
      "Mean Squared Error: 0.06374326687096728\n",
      "Mean Squared Error: 0.051105573984628214\n",
      "Mean Squared Error: 0.04113910714418856\n"
     ]
    },
    {
     "name": "stderr",
     "output_type": "stream",
     "text": [
      " 22%|█████████████████▊                                                               | 22/100 [07:15<26:38, 20.49s/it]"
     ]
    },
    {
     "name": "stdout",
     "output_type": "stream",
     "text": [
      "Mean Squared Error: 0.06181280597090852\n",
      "Mean Squared Error: 0.051730460833918517\n",
      "Mean Squared Error: 0.04113910714418858\n"
     ]
    },
    {
     "name": "stderr",
     "output_type": "stream",
     "text": [
      " 23%|██████████████████▋                                                              | 23/100 [07:34<25:39, 19.99s/it]"
     ]
    },
    {
     "name": "stdout",
     "output_type": "stream",
     "text": [
      "Mean Squared Error: 0.06333719838498915\n",
      "Mean Squared Error: 0.05134547554741428\n",
      "Mean Squared Error: 0.04113910714418855\n"
     ]
    },
    {
     "name": "stderr",
     "output_type": "stream",
     "text": [
      " 24%|███████████████████▍                                                             | 24/100 [07:55<25:53, 20.44s/it]"
     ]
    },
    {
     "name": "stdout",
     "output_type": "stream",
     "text": [
      "Mean Squared Error: 0.06189532376750028\n",
      "Mean Squared Error: 0.05124146746543947\n",
      "Mean Squared Error: 0.041139107144188614\n"
     ]
    },
    {
     "name": "stderr",
     "output_type": "stream",
     "text": [
      " 25%|████████████████████▎                                                            | 25/100 [08:16<25:39, 20.52s/it]"
     ]
    },
    {
     "name": "stdout",
     "output_type": "stream",
     "text": [
      "Mean Squared Error: 0.0642913321279303\n",
      "Mean Squared Error: 0.05111016834492936\n",
      "Mean Squared Error: 0.04113910714418854\n"
     ]
    },
    {
     "name": "stderr",
     "output_type": "stream",
     "text": [
      " 26%|█████████████████████                                                            | 26/100 [08:35<24:51, 20.15s/it]"
     ]
    },
    {
     "name": "stdout",
     "output_type": "stream",
     "text": [
      "Mean Squared Error: 0.06474165605013703\n",
      "Mean Squared Error: 0.051372673453759336\n",
      "Mean Squared Error: 0.04113910714418861\n"
     ]
    },
    {
     "name": "stderr",
     "output_type": "stream",
     "text": [
      " 27%|█████████████████████▊                                                           | 27/100 [08:54<23:56, 19.67s/it]"
     ]
    },
    {
     "name": "stdout",
     "output_type": "stream",
     "text": [
      "Mean Squared Error: 0.06398960322176903\n",
      "Mean Squared Error: 0.05152979242202165\n",
      "Mean Squared Error: 0.0411391071441886\n"
     ]
    },
    {
     "name": "stderr",
     "output_type": "stream",
     "text": [
      " 28%|██████████████████████▋                                                          | 28/100 [09:12<23:06, 19.26s/it]"
     ]
    },
    {
     "name": "stdout",
     "output_type": "stream",
     "text": [
      "Mean Squared Error: 0.06455998309136332\n",
      "Mean Squared Error: 0.051002014788010815\n",
      "Mean Squared Error: 0.04113910714418858\n"
     ]
    },
    {
     "name": "stderr",
     "output_type": "stream",
     "text": [
      " 29%|███████████████████████▍                                                         | 29/100 [09:32<23:02, 19.48s/it]"
     ]
    },
    {
     "name": "stdout",
     "output_type": "stream",
     "text": [
      "Mean Squared Error: 0.06271586269876762\n",
      "Mean Squared Error: 0.05159444152385309\n",
      "Mean Squared Error: 0.04113910714418856\n"
     ]
    },
    {
     "name": "stderr",
     "output_type": "stream",
     "text": [
      " 30%|████████████████████████▎                                                        | 30/100 [09:53<23:03, 19.76s/it]"
     ]
    },
    {
     "name": "stdout",
     "output_type": "stream",
     "text": [
      "Mean Squared Error: 0.06435479028754668\n",
      "Mean Squared Error: 0.05088501970179736\n",
      "Mean Squared Error: 0.041139107144188586\n"
     ]
    },
    {
     "name": "stderr",
     "output_type": "stream",
     "text": [
      " 31%|█████████████████████████                                                        | 31/100 [10:12<22:38, 19.69s/it]"
     ]
    },
    {
     "name": "stdout",
     "output_type": "stream",
     "text": [
      "Mean Squared Error: 0.06171092894880191\n",
      "Mean Squared Error: 0.050485422238058277\n",
      "Mean Squared Error: 0.0411391071441886\n"
     ]
    },
    {
     "name": "stderr",
     "output_type": "stream",
     "text": [
      " 32%|█████████████████████████▉                                                       | 32/100 [10:30<21:35, 19.05s/it]"
     ]
    },
    {
     "name": "stdout",
     "output_type": "stream",
     "text": [
      "Mean Squared Error: 0.06320541539443453\n",
      "Mean Squared Error: 0.051675757151641556\n",
      "Mean Squared Error: 0.04113910714418853\n"
     ]
    },
    {
     "name": "stderr",
     "output_type": "stream",
     "text": [
      " 33%|██████████████████████████▋                                                      | 33/100 [10:49<21:18, 19.09s/it]"
     ]
    },
    {
     "name": "stdout",
     "output_type": "stream",
     "text": [
      "Mean Squared Error: 0.06288741574351611\n",
      "Mean Squared Error: 0.05208876234499996\n",
      "Mean Squared Error: 0.04113910714418855\n"
     ]
    },
    {
     "name": "stderr",
     "output_type": "stream",
     "text": [
      " 34%|███████████████████████████▌                                                     | 34/100 [11:08<21:04, 19.15s/it]"
     ]
    },
    {
     "name": "stdout",
     "output_type": "stream",
     "text": [
      "Mean Squared Error: 0.0647907825060218\n",
      "Mean Squared Error: 0.05168625541077089\n",
      "Mean Squared Error: 0.04113910714418859\n"
     ]
    },
    {
     "name": "stderr",
     "output_type": "stream",
     "text": [
      " 35%|████████████████████████████▎                                                    | 35/100 [11:28<20:57, 19.34s/it]"
     ]
    },
    {
     "name": "stdout",
     "output_type": "stream",
     "text": [
      "Mean Squared Error: 0.0637837956085993\n",
      "Mean Squared Error: 0.05102949261397159\n",
      "Mean Squared Error: 0.04113910714418858\n"
     ]
    },
    {
     "name": "stderr",
     "output_type": "stream",
     "text": [
      " 36%|█████████████████████████████▏                                                   | 36/100 [11:47<20:23, 19.12s/it]"
     ]
    },
    {
     "name": "stdout",
     "output_type": "stream",
     "text": [
      "Mean Squared Error: 0.06339860661688679\n",
      "Mean Squared Error: 0.05133363776502549\n",
      "Mean Squared Error: 0.04113910714418858\n"
     ]
    },
    {
     "name": "stderr",
     "output_type": "stream",
     "text": [
      " 37%|█████████████████████████████▉                                                   | 37/100 [12:07<20:20, 19.38s/it]"
     ]
    },
    {
     "name": "stdout",
     "output_type": "stream",
     "text": [
      "Mean Squared Error: 0.06402320041435708\n",
      "Mean Squared Error: 0.051051185628606055\n",
      "Mean Squared Error: 0.04113910714418857\n"
     ]
    },
    {
     "name": "stderr",
     "output_type": "stream",
     "text": [
      " 38%|██████████████████████████████▊                                                  | 38/100 [12:31<21:36, 20.92s/it]"
     ]
    },
    {
     "name": "stdout",
     "output_type": "stream",
     "text": [
      "Mean Squared Error: 0.062355838748529124\n",
      "Mean Squared Error: 0.05131663334335273\n",
      "Mean Squared Error: 0.04113910714418852\n"
     ]
    },
    {
     "name": "stderr",
     "output_type": "stream",
     "text": [
      " 39%|███████████████████████████████▌                                                 | 39/100 [12:51<20:57, 20.62s/it]"
     ]
    },
    {
     "name": "stdout",
     "output_type": "stream",
     "text": [
      "Mean Squared Error: 0.06229895335309009\n",
      "Mean Squared Error: 0.05131897260877001\n",
      "Mean Squared Error: 0.041139107144188565\n"
     ]
    },
    {
     "name": "stderr",
     "output_type": "stream",
     "text": [
      " 40%|████████████████████████████████▍                                                | 40/100 [13:10<20:01, 20.03s/it]"
     ]
    },
    {
     "name": "stdout",
     "output_type": "stream",
     "text": [
      "Mean Squared Error: 0.06468576819547776\n",
      "Mean Squared Error: 0.0511420918774188\n",
      "Mean Squared Error: 0.041139107144188544\n"
     ]
    },
    {
     "name": "stderr",
     "output_type": "stream",
     "text": [
      " 41%|█████████████████████████████████▏                                               | 41/100 [13:29<19:23, 19.72s/it]"
     ]
    },
    {
     "name": "stdout",
     "output_type": "stream",
     "text": [
      "Mean Squared Error: 0.062367136788565924\n",
      "Mean Squared Error: 0.051273980971284855\n",
      "Mean Squared Error: 0.04113910714418862\n"
     ]
    },
    {
     "name": "stderr",
     "output_type": "stream",
     "text": [
      " 42%|██████████████████████████████████                                               | 42/100 [13:47<18:40, 19.31s/it]"
     ]
    },
    {
     "name": "stdout",
     "output_type": "stream",
     "text": [
      "Mean Squared Error: 0.06482954938440277\n",
      "Mean Squared Error: 0.050949495610550295\n",
      "Mean Squared Error: 0.04113910714418853\n"
     ]
    },
    {
     "name": "stderr",
     "output_type": "stream",
     "text": [
      " 43%|██████████████████████████████████▊                                              | 43/100 [14:05<18:03, 19.02s/it]"
     ]
    },
    {
     "name": "stdout",
     "output_type": "stream",
     "text": [
      "Mean Squared Error: 0.06400044954739804\n",
      "Mean Squared Error: 0.050857772801312706\n",
      "Mean Squared Error: 0.04113910714418856\n"
     ]
    },
    {
     "name": "stderr",
     "output_type": "stream",
     "text": [
      " 44%|███████████████████████████████████▋                                             | 44/100 [14:24<17:32, 18.79s/it]"
     ]
    },
    {
     "name": "stdout",
     "output_type": "stream",
     "text": [
      "Mean Squared Error: 0.06258653795316818\n",
      "Mean Squared Error: 0.0514205888261452\n",
      "Mean Squared Error: 0.04113910714418864\n"
     ]
    },
    {
     "name": "stderr",
     "output_type": "stream",
     "text": [
      " 45%|████████████████████████████████████▍                                            | 45/100 [14:45<17:53, 19.52s/it]"
     ]
    },
    {
     "name": "stdout",
     "output_type": "stream",
     "text": [
      "Mean Squared Error: 0.06524163102642631\n",
      "Mean Squared Error: 0.05116589789122435\n",
      "Mean Squared Error: 0.04113910714418854\n"
     ]
    },
    {
     "name": "stderr",
     "output_type": "stream",
     "text": [
      " 46%|█████████████████████████████████████▎                                           | 46/100 [15:05<17:47, 19.77s/it]"
     ]
    },
    {
     "name": "stdout",
     "output_type": "stream",
     "text": [
      "Mean Squared Error: 0.06301844484723387\n",
      "Mean Squared Error: 0.051714661340684025\n",
      "Mean Squared Error: 0.04113910714418856\n"
     ]
    },
    {
     "name": "stderr",
     "output_type": "stream",
     "text": [
      " 47%|██████████████████████████████████████                                           | 47/100 [15:29<18:28, 20.91s/it]"
     ]
    },
    {
     "name": "stdout",
     "output_type": "stream",
     "text": [
      "Mean Squared Error: 0.061614507289982676\n",
      "Mean Squared Error: 0.051567914074144613\n",
      "Mean Squared Error: 0.04113910714418862\n"
     ]
    },
    {
     "name": "stderr",
     "output_type": "stream",
     "text": [
      " 48%|██████████████████████████████████████▉                                          | 48/100 [15:54<19:17, 22.25s/it]"
     ]
    },
    {
     "name": "stdout",
     "output_type": "stream",
     "text": [
      "Mean Squared Error: 0.0612017160871484\n",
      "Mean Squared Error: 0.051379790399811096\n",
      "Mean Squared Error: 0.04113910714418859\n"
     ]
    },
    {
     "name": "stderr",
     "output_type": "stream",
     "text": [
      " 49%|███████████████████████████████████████▋                                         | 49/100 [16:20<19:57, 23.47s/it]"
     ]
    },
    {
     "name": "stdout",
     "output_type": "stream",
     "text": [
      "Mean Squared Error: 0.06326401894793016\n",
      "Mean Squared Error: 0.051440294561385276\n",
      "Mean Squared Error: 0.04113910714418855\n"
     ]
    },
    {
     "name": "stderr",
     "output_type": "stream",
     "text": [
      " 50%|████████████████████████████████████████▌                                        | 50/100 [16:39<18:25, 22.11s/it]"
     ]
    },
    {
     "name": "stdout",
     "output_type": "stream",
     "text": [
      "Mean Squared Error: 0.06272847672888307\n",
      "Mean Squared Error: 0.05048937757420851\n",
      "Mean Squared Error: 0.0411391071441886\n"
     ]
    },
    {
     "name": "stderr",
     "output_type": "stream",
     "text": [
      " 51%|█████████████████████████████████████████▎                                       | 51/100 [16:58<17:18, 21.19s/it]"
     ]
    },
    {
     "name": "stdout",
     "output_type": "stream",
     "text": [
      "Mean Squared Error: 0.06200915533057829\n",
      "Mean Squared Error: 0.05081867286862111\n",
      "Mean Squared Error: 0.041139107144188586\n"
     ]
    },
    {
     "name": "stderr",
     "output_type": "stream",
     "text": [
      " 52%|██████████████████████████████████████████                                       | 52/100 [17:19<16:47, 20.99s/it]"
     ]
    },
    {
     "name": "stdout",
     "output_type": "stream",
     "text": [
      "Mean Squared Error: 0.06132476934410915\n",
      "Mean Squared Error: 0.05096295719275289\n",
      "Mean Squared Error: 0.04113910714418856\n"
     ]
    },
    {
     "name": "stderr",
     "output_type": "stream",
     "text": [
      " 53%|██████████████████████████████████████████▉                                      | 53/100 [17:38<15:53, 20.29s/it]"
     ]
    },
    {
     "name": "stdout",
     "output_type": "stream",
     "text": [
      "Mean Squared Error: 0.0629945769811454\n",
      "Mean Squared Error: 0.051763208537980054\n",
      "Mean Squared Error: 0.04113910714418858\n"
     ]
    },
    {
     "name": "stderr",
     "output_type": "stream",
     "text": [
      " 54%|███████████████████████████████████████████▋                                     | 54/100 [17:58<15:31, 20.25s/it]"
     ]
    },
    {
     "name": "stdout",
     "output_type": "stream",
     "text": [
      "Mean Squared Error: 0.06328863547824998\n",
      "Mean Squared Error: 0.051690671339417855\n",
      "Mean Squared Error: 0.041139107144188565\n"
     ]
    },
    {
     "name": "stderr",
     "output_type": "stream",
     "text": [
      " 55%|████████████████████████████████████████████▌                                    | 55/100 [18:18<15:16, 20.37s/it]"
     ]
    },
    {
     "name": "stdout",
     "output_type": "stream",
     "text": [
      "Mean Squared Error: 0.06216345358039376\n",
      "Mean Squared Error: 0.05110077331200333\n",
      "Mean Squared Error: 0.041139107144188544\n"
     ]
    },
    {
     "name": "stderr",
     "output_type": "stream",
     "text": [
      " 56%|█████████████████████████████████████████████▎                                   | 56/100 [18:40<15:07, 20.63s/it]"
     ]
    },
    {
     "name": "stdout",
     "output_type": "stream",
     "text": [
      "Mean Squared Error: 0.06221028206274795\n",
      "Mean Squared Error: 0.05098862739133253\n",
      "Mean Squared Error: 0.041139107144188544\n"
     ]
    },
    {
     "name": "stderr",
     "output_type": "stream",
     "text": [
      " 57%|██████████████████████████████████████████████▏                                  | 57/100 [19:00<14:49, 20.69s/it]"
     ]
    },
    {
     "name": "stdout",
     "output_type": "stream",
     "text": [
      "Mean Squared Error: 0.06267720272905343\n",
      "Mean Squared Error: 0.051052204401862165\n",
      "Mean Squared Error: 0.041139107144188544\n"
     ]
    },
    {
     "name": "stderr",
     "output_type": "stream",
     "text": [
      " 58%|██████████████████████████████████████████████▉                                  | 58/100 [19:22<14:35, 20.85s/it]"
     ]
    },
    {
     "name": "stdout",
     "output_type": "stream",
     "text": [
      "Mean Squared Error: 0.06260010794399097\n",
      "Mean Squared Error: 0.05094328558114526\n",
      "Mean Squared Error: 0.041139107144188565\n"
     ]
    },
    {
     "name": "stderr",
     "output_type": "stream",
     "text": [
      " 59%|███████████████████████████████████████████████▊                                 | 59/100 [19:43<14:18, 20.93s/it]"
     ]
    },
    {
     "name": "stdout",
     "output_type": "stream",
     "text": [
      "Mean Squared Error: 0.06172864230539961\n",
      "Mean Squared Error: 0.05115239918570123\n",
      "Mean Squared Error: 0.04113910714418858\n"
     ]
    },
    {
     "name": "stderr",
     "output_type": "stream",
     "text": [
      " 60%|████████████████████████████████████████████████▌                                | 60/100 [20:00<13:16, 19.92s/it]"
     ]
    },
    {
     "name": "stdout",
     "output_type": "stream",
     "text": [
      "Mean Squared Error: 0.0615893978424774\n",
      "Mean Squared Error: 0.051628632514159514\n",
      "Mean Squared Error: 0.04113910714418859\n"
     ]
    },
    {
     "name": "stderr",
     "output_type": "stream",
     "text": [
      " 61%|█████████████████████████████████████████████████▍                               | 61/100 [20:17<12:23, 19.07s/it]"
     ]
    },
    {
     "name": "stdout",
     "output_type": "stream",
     "text": [
      "Mean Squared Error: 0.0644468334130134\n",
      "Mean Squared Error: 0.05153274610156517\n",
      "Mean Squared Error: 0.04113910714418858\n"
     ]
    },
    {
     "name": "stderr",
     "output_type": "stream",
     "text": [
      " 62%|██████████████████████████████████████████████████▏                              | 62/100 [20:36<11:55, 18.84s/it]"
     ]
    },
    {
     "name": "stdout",
     "output_type": "stream",
     "text": [
      "Mean Squared Error: 0.061700538868290196\n",
      "Mean Squared Error: 0.05166129159606006\n",
      "Mean Squared Error: 0.04113910714418858\n"
     ]
    },
    {
     "name": "stderr",
     "output_type": "stream",
     "text": [
      " 63%|███████████████████████████████████████████████████                              | 63/100 [20:52<11:09, 18.10s/it]"
     ]
    },
    {
     "name": "stdout",
     "output_type": "stream",
     "text": [
      "Mean Squared Error: 0.060134339847745175\n",
      "Mean Squared Error: 0.05131945437808068\n",
      "Mean Squared Error: 0.04113910714418854\n"
     ]
    },
    {
     "name": "stderr",
     "output_type": "stream",
     "text": [
      " 64%|███████████████████████████████████████████████████▊                             | 64/100 [21:08<10:30, 17.53s/it]"
     ]
    },
    {
     "name": "stdout",
     "output_type": "stream",
     "text": [
      "Mean Squared Error: 0.06354839868017186\n",
      "Mean Squared Error: 0.05116711956217123\n",
      "Mean Squared Error: 0.04113910714418859\n"
     ]
    },
    {
     "name": "stderr",
     "output_type": "stream",
     "text": [
      " 65%|████████████████████████████████████████████████████▋                            | 65/100 [21:24<09:58, 17.10s/it]"
     ]
    },
    {
     "name": "stdout",
     "output_type": "stream",
     "text": [
      "Mean Squared Error: 0.06237097091173603\n",
      "Mean Squared Error: 0.051806487773565\n",
      "Mean Squared Error: 0.0411391071441886\n"
     ]
    },
    {
     "name": "stderr",
     "output_type": "stream",
     "text": [
      " 66%|█████████████████████████████████████████████████████▍                           | 66/100 [21:41<09:32, 16.85s/it]"
     ]
    },
    {
     "name": "stdout",
     "output_type": "stream",
     "text": [
      "Mean Squared Error: 0.0628202795151695\n",
      "Mean Squared Error: 0.05081786965498791\n",
      "Mean Squared Error: 0.04113910714418856\n"
     ]
    },
    {
     "name": "stderr",
     "output_type": "stream",
     "text": [
      " 67%|██████████████████████████████████████████████████████▎                          | 67/100 [21:57<09:09, 16.65s/it]"
     ]
    },
    {
     "name": "stdout",
     "output_type": "stream",
     "text": [
      "Mean Squared Error: 0.06322419972772217\n",
      "Mean Squared Error: 0.05138462112635595\n",
      "Mean Squared Error: 0.04113910714418861\n"
     ]
    },
    {
     "name": "stderr",
     "output_type": "stream",
     "text": [
      " 68%|███████████████████████████████████████████████████████                          | 68/100 [22:13<08:47, 16.48s/it]"
     ]
    },
    {
     "name": "stdout",
     "output_type": "stream",
     "text": [
      "Mean Squared Error: 0.06080364064454379\n",
      "Mean Squared Error: 0.05132060537767111\n",
      "Mean Squared Error: 0.041139107144188565\n"
     ]
    },
    {
     "name": "stderr",
     "output_type": "stream",
     "text": [
      " 69%|███████████████████████████████████████████████████████▉                         | 69/100 [22:29<08:27, 16.36s/it]"
     ]
    },
    {
     "name": "stdout",
     "output_type": "stream",
     "text": [
      "Mean Squared Error: 0.06241567613651585\n",
      "Mean Squared Error: 0.051243639473225855\n",
      "Mean Squared Error: 0.04113910714418861\n"
     ]
    },
    {
     "name": "stderr",
     "output_type": "stream",
     "text": [
      " 70%|████████████████████████████████████████████████████████▋                        | 70/100 [22:45<08:08, 16.30s/it]"
     ]
    },
    {
     "name": "stdout",
     "output_type": "stream",
     "text": [
      "Mean Squared Error: 0.06446788987233482\n",
      "Mean Squared Error: 0.05096019376432738\n",
      "Mean Squared Error: 0.04113910714418858\n"
     ]
    },
    {
     "name": "stderr",
     "output_type": "stream",
     "text": [
      " 71%|█████████████████████████████████████████████████████████▌                       | 71/100 [23:01<07:51, 16.27s/it]"
     ]
    },
    {
     "name": "stdout",
     "output_type": "stream",
     "text": [
      "Mean Squared Error: 0.06211784040385562\n",
      "Mean Squared Error: 0.05072405267723487\n",
      "Mean Squared Error: 0.041139107144188565\n"
     ]
    },
    {
     "name": "stderr",
     "output_type": "stream",
     "text": [
      " 72%|██████████████████████████████████████████████████████████▎                      | 72/100 [23:18<07:36, 16.29s/it]"
     ]
    },
    {
     "name": "stdout",
     "output_type": "stream",
     "text": [
      "Mean Squared Error: 0.0626703264856739\n",
      "Mean Squared Error: 0.05113718947776712\n",
      "Mean Squared Error: 0.04113910714418852\n"
     ]
    },
    {
     "name": "stderr",
     "output_type": "stream",
     "text": [
      " 73%|███████████████████████████████████████████████████████████▏                     | 73/100 [23:34<07:18, 16.24s/it]"
     ]
    },
    {
     "name": "stdout",
     "output_type": "stream",
     "text": [
      "Mean Squared Error: 0.060218095498798536\n",
      "Mean Squared Error: 0.05130139509034958\n",
      "Mean Squared Error: 0.0411391071441886\n"
     ]
    },
    {
     "name": "stderr",
     "output_type": "stream",
     "text": [
      " 74%|███████████████████████████████████████████████████████████▉                     | 74/100 [23:50<07:02, 16.23s/it]"
     ]
    },
    {
     "name": "stdout",
     "output_type": "stream",
     "text": [
      "Mean Squared Error: 0.06108463188582294\n",
      "Mean Squared Error: 0.050990274862393874\n",
      "Mean Squared Error: 0.04113910714418857\n"
     ]
    },
    {
     "name": "stderr",
     "output_type": "stream",
     "text": [
      " 75%|████████████████████████████████████████████████████████████▊                    | 75/100 [24:06<06:44, 16.20s/it]"
     ]
    },
    {
     "name": "stdout",
     "output_type": "stream",
     "text": [
      "Mean Squared Error: 0.061722626181435314\n",
      "Mean Squared Error: 0.051072699655469116\n",
      "Mean Squared Error: 0.04113910714418855\n"
     ]
    },
    {
     "name": "stderr",
     "output_type": "stream",
     "text": [
      " 76%|█████████████████████████████████████████████████████████████▌                   | 76/100 [24:22<06:28, 16.20s/it]"
     ]
    },
    {
     "name": "stdout",
     "output_type": "stream",
     "text": [
      "Mean Squared Error: 0.06240886604305906\n",
      "Mean Squared Error: 0.05142025029047262\n",
      "Mean Squared Error: 0.04113910714418858\n"
     ]
    },
    {
     "name": "stderr",
     "output_type": "stream",
     "text": [
      " 77%|██████████████████████████████████████████████████████████████▎                  | 77/100 [24:39<06:13, 16.23s/it]"
     ]
    },
    {
     "name": "stdout",
     "output_type": "stream",
     "text": [
      "Mean Squared Error: 0.06529554749660427\n",
      "Mean Squared Error: 0.05108051608735697\n",
      "Mean Squared Error: 0.04113910714418863\n"
     ]
    },
    {
     "name": "stderr",
     "output_type": "stream",
     "text": [
      " 78%|███████████████████████████████████████████████████████████████▏                 | 78/100 [24:55<05:56, 16.20s/it]"
     ]
    },
    {
     "name": "stdout",
     "output_type": "stream",
     "text": [
      "Mean Squared Error: 0.060518227327252754\n",
      "Mean Squared Error: 0.05103872832513574\n",
      "Mean Squared Error: 0.041139107144188634\n"
     ]
    },
    {
     "name": "stderr",
     "output_type": "stream",
     "text": [
      " 79%|███████████████████████████████████████████████████████████████▉                 | 79/100 [25:11<05:39, 16.18s/it]"
     ]
    },
    {
     "name": "stdout",
     "output_type": "stream",
     "text": [
      "Mean Squared Error: 0.060491502935905724\n",
      "Mean Squared Error: 0.05157363749891114\n",
      "Mean Squared Error: 0.04113910714418862\n"
     ]
    },
    {
     "name": "stderr",
     "output_type": "stream",
     "text": [
      " 80%|████████████████████████████████████████████████████████████████▊                | 80/100 [25:27<05:23, 16.19s/it]"
     ]
    },
    {
     "name": "stdout",
     "output_type": "stream",
     "text": [
      "Mean Squared Error: 0.06534038487047814\n",
      "Mean Squared Error: 0.05133352399861058\n",
      "Mean Squared Error: 0.04113910714418858\n"
     ]
    },
    {
     "name": "stderr",
     "output_type": "stream",
     "text": [
      " 81%|█████████████████████████████████████████████████████████████████▌               | 81/100 [25:43<05:07, 16.19s/it]"
     ]
    },
    {
     "name": "stdout",
     "output_type": "stream",
     "text": [
      "Mean Squared Error: 0.0649051546150733\n",
      "Mean Squared Error: 0.05119259344220932\n",
      "Mean Squared Error: 0.041139107144188544\n"
     ]
    },
    {
     "name": "stderr",
     "output_type": "stream",
     "text": [
      " 82%|██████████████████████████████████████████████████████████████████▍              | 82/100 [26:00<04:51, 16.20s/it]"
     ]
    },
    {
     "name": "stdout",
     "output_type": "stream",
     "text": [
      "Mean Squared Error: 0.0627044112467844\n",
      "Mean Squared Error: 0.051125895594895464\n",
      "Mean Squared Error: 0.04113910714418856\n"
     ]
    },
    {
     "name": "stderr",
     "output_type": "stream",
     "text": [
      " 83%|███████████████████████████████████████████████████████████████████▏             | 83/100 [26:16<04:34, 16.14s/it]"
     ]
    },
    {
     "name": "stdout",
     "output_type": "stream",
     "text": [
      "Mean Squared Error: 0.06438342334546399\n",
      "Mean Squared Error: 0.05103381510500931\n",
      "Mean Squared Error: 0.04113910714418861\n"
     ]
    },
    {
     "name": "stderr",
     "output_type": "stream",
     "text": [
      " 84%|████████████████████████████████████████████████████████████████████             | 84/100 [26:33<04:23, 16.48s/it]"
     ]
    },
    {
     "name": "stdout",
     "output_type": "stream",
     "text": [
      "Mean Squared Error: 0.06127386370632858\n",
      "Mean Squared Error: 0.05129606056135982\n",
      "Mean Squared Error: 0.04113910714418857\n"
     ]
    },
    {
     "name": "stderr",
     "output_type": "stream",
     "text": [
      " 85%|████████████████████████████████████████████████████████████████████▊            | 85/100 [26:50<04:11, 16.74s/it]"
     ]
    },
    {
     "name": "stdout",
     "output_type": "stream",
     "text": [
      "Mean Squared Error: 0.06302442235355418\n",
      "Mean Squared Error: 0.051112042104470345\n",
      "Mean Squared Error: 0.04113910714418856\n"
     ]
    },
    {
     "name": "stderr",
     "output_type": "stream",
     "text": [
      " 86%|█████████████████████████████████████████████████████████████████████▋           | 86/100 [27:07<03:56, 16.88s/it]"
     ]
    },
    {
     "name": "stdout",
     "output_type": "stream",
     "text": [
      "Mean Squared Error: 0.06468088624417266\n",
      "Mean Squared Error: 0.05147856964745878\n",
      "Mean Squared Error: 0.04113910714418857\n"
     ]
    },
    {
     "name": "stderr",
     "output_type": "stream",
     "text": [
      " 87%|██████████████████████████████████████████████████████████████████████▍          | 87/100 [27:23<03:36, 16.64s/it]"
     ]
    },
    {
     "name": "stdout",
     "output_type": "stream",
     "text": [
      "Mean Squared Error: 0.0633293742415674\n",
      "Mean Squared Error: 0.051455148365251585\n",
      "Mean Squared Error: 0.041139107144188586\n"
     ]
    },
    {
     "name": "stderr",
     "output_type": "stream",
     "text": [
      " 88%|███████████████████████████████████████████████████████████████████████▎         | 88/100 [27:40<03:18, 16.55s/it]"
     ]
    },
    {
     "name": "stdout",
     "output_type": "stream",
     "text": [
      "Mean Squared Error: 0.0658092799014011\n",
      "Mean Squared Error: 0.05115874602908847\n",
      "Mean Squared Error: 0.04113910714418857\n"
     ]
    },
    {
     "name": "stderr",
     "output_type": "stream",
     "text": [
      " 89%|████████████████████████████████████████████████████████████████████████         | 89/100 [27:56<03:00, 16.45s/it]"
     ]
    },
    {
     "name": "stdout",
     "output_type": "stream",
     "text": [
      "Mean Squared Error: 0.0656450748431607\n",
      "Mean Squared Error: 0.05139760107080298\n",
      "Mean Squared Error: 0.041139107144188586\n"
     ]
    },
    {
     "name": "stderr",
     "output_type": "stream",
     "text": [
      " 90%|████████████████████████████████████████████████████████████████████████▉        | 90/100 [28:12<02:43, 16.31s/it]"
     ]
    },
    {
     "name": "stdout",
     "output_type": "stream",
     "text": [
      "Mean Squared Error: 0.06109024944948741\n",
      "Mean Squared Error: 0.05076304759414173\n",
      "Mean Squared Error: 0.04113910714418862\n"
     ]
    },
    {
     "name": "stderr",
     "output_type": "stream",
     "text": [
      " 91%|█████████████████████████████████████████████████████████████████████████▋       | 91/100 [28:28<02:26, 16.23s/it]"
     ]
    },
    {
     "name": "stdout",
     "output_type": "stream",
     "text": [
      "Mean Squared Error: 0.06188644131608095\n",
      "Mean Squared Error: 0.05135028006068342\n",
      "Mean Squared Error: 0.04113910714418856\n"
     ]
    },
    {
     "name": "stderr",
     "output_type": "stream",
     "text": [
      " 92%|██████████████████████████████████████████████████████████████████████████▌      | 92/100 [28:44<02:09, 16.18s/it]"
     ]
    },
    {
     "name": "stdout",
     "output_type": "stream",
     "text": [
      "Mean Squared Error: 0.06186738080661056\n",
      "Mean Squared Error: 0.05162589694856296\n",
      "Mean Squared Error: 0.04113910714418862\n"
     ]
    },
    {
     "name": "stderr",
     "output_type": "stream",
     "text": [
      " 93%|███████████████████████████████████████████████████████████████████████████▎     | 93/100 [29:01<01:54, 16.42s/it]"
     ]
    },
    {
     "name": "stdout",
     "output_type": "stream",
     "text": [
      "Mean Squared Error: 0.06217396285646023\n",
      "Mean Squared Error: 0.05114322164790938\n",
      "Mean Squared Error: 0.04113910714418852\n"
     ]
    },
    {
     "name": "stderr",
     "output_type": "stream",
     "text": [
      " 94%|████████████████████████████████████████████████████████████████████████████▏    | 94/100 [29:17<01:37, 16.31s/it]"
     ]
    },
    {
     "name": "stdout",
     "output_type": "stream",
     "text": [
      "Mean Squared Error: 0.06304966912181369\n",
      "Mean Squared Error: 0.05143846540821267\n",
      "Mean Squared Error: 0.04113910714418859\n"
     ]
    },
    {
     "name": "stderr",
     "output_type": "stream",
     "text": [
      " 95%|████████████████████████████████████████████████████████████████████████████▉    | 95/100 [29:33<01:21, 16.21s/it]"
     ]
    },
    {
     "name": "stdout",
     "output_type": "stream",
     "text": [
      "Mean Squared Error: 0.06572235366555677\n",
      "Mean Squared Error: 0.05143676101445277\n",
      "Mean Squared Error: 0.04113910714418852\n"
     ]
    },
    {
     "name": "stderr",
     "output_type": "stream",
     "text": [
      " 96%|█████████████████████████████████████████████████████████████████████████████▊   | 96/100 [29:49<01:04, 16.15s/it]"
     ]
    },
    {
     "name": "stdout",
     "output_type": "stream",
     "text": [
      "Mean Squared Error: 0.06205492767612919\n",
      "Mean Squared Error: 0.05136001698248002\n",
      "Mean Squared Error: 0.04113910714418858\n"
     ]
    },
    {
     "name": "stderr",
     "output_type": "stream",
     "text": [
      " 97%|██████████████████████████████████████████████████████████████████████████████▌  | 97/100 [30:05<00:48, 16.07s/it]"
     ]
    },
    {
     "name": "stdout",
     "output_type": "stream",
     "text": [
      "Mean Squared Error: 0.06351400221562625\n",
      "Mean Squared Error: 0.051347157597421096\n",
      "Mean Squared Error: 0.04113910714418856\n"
     ]
    },
    {
     "name": "stderr",
     "output_type": "stream",
     "text": [
      " 98%|███████████████████████████████████████████████████████████████████████████████▍ | 98/100 [30:21<00:32, 16.06s/it]"
     ]
    },
    {
     "name": "stdout",
     "output_type": "stream",
     "text": [
      "Mean Squared Error: 0.06393900054075938\n",
      "Mean Squared Error: 0.051511979313719265\n",
      "Mean Squared Error: 0.04113910714418861\n"
     ]
    },
    {
     "name": "stderr",
     "output_type": "stream",
     "text": [
      " 99%|████████████████████████████████████████████████████████████████████████████████▏| 99/100 [30:37<00:16, 16.05s/it]"
     ]
    },
    {
     "name": "stdout",
     "output_type": "stream",
     "text": [
      "Mean Squared Error: 0.06198392452466213\n",
      "Mean Squared Error: 0.05203621376453725\n",
      "Mean Squared Error: 0.04113910714418856\n"
     ]
    },
    {
     "name": "stderr",
     "output_type": "stream",
     "text": [
      "100%|████████████████████████████████████████████████████████████████████████████████| 100/100 [30:53<00:00, 18.54s/it]\n"
     ]
    }
   ],
   "source": [
    "num_iterations = 100\n",
    "r2_phase_results = []\n",
    "r2_power_results = []\n",
    "\n",
    "for _ in tqdm(range(num_iterations)):\n",
    "    shuffled_phase_fins = np.zeros_like(fft_fins)\n",
    "    for trial in range(fft_fins.shape[0]):\n",
    "        shuffled_phase_fins[trial] = shuffle_phase_coherent(fft_fins[trial])\n",
    "\n",
    "    # Reconstruct the time series from the shuffled phase FFT data\n",
    "    shuffled_time_series_phase = np.zeros_like(fft_fins, dtype=np.float64)  # Use np.float64 for the real part\n",
    "    \n",
    "    for trial in range(shuffled_phase_fins.shape[0]):\n",
    "        for fin in range(shuffled_phase_fins.shape[1]):\n",
    "            # Use inverse FFT to get back to time domain\n",
    "            shuffled_time_series_phase[trial, fin] = np.fft.ifft(shuffled_phase_fins[trial, fin]).real\n",
    "            \n",
    "    r2_phase = compute_r2(latents, shuffled_time_series_phase)\n",
    "    r2_phase_results.append(r2_phase)\n",
    "    \n",
    "    # # Shuffle power and compute R²\n",
    "    shuffled_power_fins = np.zeros_like(fft_fins)\n",
    "    for trial in range(fft_fins.shape[0]):\n",
    "        shuffled_power_fins[trial] = shuffle_magnitude_coherent(fft_fins[trial])\n",
    "\n",
    "    # Reconstruct the time series from the shuffled magnitude FFT data\n",
    "    shuffled_time_series_power = np.zeros_like(fft_fins, dtype=np.float64)  # Use np.float64 for the real part\n",
    "    \n",
    "    for trial in range(shuffled_power_fins.shape[0]):\n",
    "        for fin in range(shuffled_power_fins.shape[1]):\n",
    "            # Use inverse FFT to get back to time domain\n",
    "            shuffled_time_series_power[trial, fin] = np.fft.ifft(shuffled_power_fins[trial, fin]).real\n",
    "        \n",
    "    r2_power = compute_r2(latents, shuffled_time_series_power)\n",
    "    r2_power_results.append(r2_power)\n"
   ]
  },
  {
   "cell_type": "code",
   "execution_count": 19,
   "metadata": {},
   "outputs": [],
   "source": [
    "r2_phase_results = np.asarray(r2_phase_results)\n",
    "r2_power_results = np.asarray(r2_power_results)"
   ]
  },
  {
   "cell_type": "markdown",
   "metadata": {},
   "source": [
    "## Original: Calculate mean per bout category"
   ]
  },
  {
   "cell_type": "code",
   "execution_count": 21,
   "metadata": {},
   "outputs": [],
   "source": [
    "means, errs, seq1, seq2 = compute_statistics(bout_cat, swim_cat, r_vals, catname)"
   ]
  },
  {
   "cell_type": "markdown",
   "metadata": {},
   "source": [
    "### Others: divdide and conquer"
   ]
  },
  {
   "cell_type": "code",
   "execution_count": 23,
   "metadata": {},
   "outputs": [],
   "source": [
    "means_runs_phase, means_runs_power = [], []\n",
    "seq1_phase, seq1_power= [], []\n",
    "\n",
    "for i in range(num_iterations):\n",
    "    # Assuming you have the variables `bout_cat`, `swim_cat`, `r_vals`, and `catname` defined\n",
    "    means_phase, errs, seq1_phase, seq2 = compute_statistics(bout_cat, swim_cat, r2_phase_results[i], catname)\n",
    "    seq1_phase.append(seq1_phase)\n",
    "    means_runs_phase.append(means_phase)\n",
    "    means_power, errs, seq1_power, seq2 = compute_statistics(bout_cat, swim_cat, r2_power_results[i], catname)\n",
    "    means_runs_power.append(means_power)\n",
    "    seq1_power.append(seq1_power)\n"
   ]
  },
  {
   "cell_type": "code",
   "execution_count": 24,
   "metadata": {},
   "outputs": [],
   "source": [
    "means_runs_phase= np.asarray(means_runs_phase) #runs, categories\n",
    "means_runs_power= np.asarray(means_runs_power)"
   ]
  },
  {
   "cell_type": "code",
   "execution_count": 26,
   "metadata": {},
   "outputs": [
    {
     "data": {
      "text/plain": [
       "(11,)"
      ]
     },
     "execution_count": 26,
     "metadata": {},
     "output_type": "execute_result"
    }
   ],
   "source": [
    "mean_across_runs_phase = np.mean(means_runs_phase, axis=0)\n",
    "std_across_runs_phase = np.std(means_runs_phase, axis=0)\n",
    "mean_across_runs_power = np.mean(means_runs_power, axis=0)\n",
    "std_across_runs_power = np.std(means_runs_power, axis=0"
   ]
  },
  {
   "cell_type": "markdown",
   "metadata": {},
   "source": [
    "### Compare distributions with paired t test"
   ]
  },
  {
   "cell_type": "code",
   "execution_count": 27,
   "metadata": {},
   "outputs": [
    {
     "name": "stdout",
     "output_type": "stream",
     "text": [
      "Cluster 0:\n",
      "  Original vs Phase: p-value = 0.0000\n",
      "  Original vs Power: p-value = 0.0000\n",
      "  Original vs Complete Shuffle: p-value = 1.0000\n",
      "  Phase vs Power: p-value = 0.0000\n",
      "Cluster 1:\n",
      "  Original vs Phase: p-value = 0.0000\n",
      "  Original vs Power: p-value = 0.0000\n",
      "  Original vs Complete Shuffle: p-value = 1.0000\n",
      "  Phase vs Power: p-value = 0.0000\n",
      "Cluster 2:\n",
      "  Original vs Phase: p-value = 0.0000\n",
      "  Original vs Power: p-value = 0.0000\n",
      "  Original vs Complete Shuffle: p-value = 0.0000\n",
      "  Phase vs Power: p-value = 0.0000\n",
      "Cluster 3:\n",
      "  Original vs Phase: p-value = 0.0000\n",
      "  Original vs Power: p-value = 0.0000\n",
      "  Original vs Complete Shuffle: p-value = 0.0000\n",
      "  Phase vs Power: p-value = 0.0000\n",
      "Cluster 4:\n",
      "  Original vs Phase: p-value = 0.0000\n",
      "  Original vs Power: p-value = 0.0000\n",
      "  Original vs Complete Shuffle: p-value = 1.0000\n",
      "  Phase vs Power: p-value = 0.0000\n",
      "Cluster 5:\n",
      "  Original vs Phase: p-value = 0.0000\n",
      "  Original vs Power: p-value = 0.0000\n",
      "  Original vs Complete Shuffle: p-value = 0.0000\n",
      "  Phase vs Power: p-value = 0.0000\n",
      "Cluster 6:\n",
      "  Original vs Phase: p-value = 0.0000\n",
      "  Original vs Power: p-value = 0.0000\n",
      "  Original vs Complete Shuffle: p-value = 1.0000\n",
      "  Phase vs Power: p-value = 0.0000\n",
      "Cluster 7:\n",
      "  Original vs Phase: p-value = 0.0000\n",
      "  Original vs Power: p-value = 0.0000\n",
      "  Original vs Complete Shuffle: p-value = 1.0000\n",
      "  Phase vs Power: p-value = 0.0000\n",
      "Cluster 8:\n",
      "  Original vs Phase: p-value = 0.0000\n",
      "  Original vs Power: p-value = 0.0000\n",
      "  Original vs Complete Shuffle: p-value = 0.0000\n",
      "  Phase vs Power: p-value = 0.0000\n",
      "Cluster 9:\n",
      "  Original vs Phase: p-value = 0.0000\n",
      "  Original vs Power: p-value = 0.0000\n",
      "  Original vs Complete Shuffle: p-value = 0.0000\n",
      "  Phase vs Power: p-value = 0.0000\n",
      "Cluster 10:\n",
      "  Original vs Phase: p-value = 0.0000\n",
      "  Original vs Power: p-value = 0.0000\n",
      "  Original vs Complete Shuffle: p-value = 1.0000\n",
      "  Phase vs Power: p-value = 0.2125\n"
     ]
    },
    {
     "name": "stderr",
     "output_type": "stream",
     "text": [
      "C:\\Users\\admin\\miniconda3\\envs\\base_env\\Lib\\site-packages\\scipy\\stats\\_axis_nan_policy.py:531: RuntimeWarning: Precision loss occurred in moment calculation due to catastrophic cancellation. This occurs when the data are nearly identical. Results may be unreliable.\n",
      "  res = hypotest_fun_out(*samples, **kwds)\n"
     ]
    }
   ],
   "source": [
    "# Perform independent t-tests for each cluster\n",
    "p_values_original_vs_phase = []\n",
    "p_values_original_vs_power = []\n",
    "p_values_phase_vs_power = []\n",
    "\n",
    "for i in range(len(means)):\n",
    "    # Collect data for the current cluster\n",
    "    phase_data = [run[i] for run in means_runs_phase]\n",
    "    power_data = [run[i] for run in means_runs_power]\n",
    "    original_data = [means[i]] * len(phase_data)  # Replicate to match the length of the other datasets\n",
    "    \n",
    "    # T-test between original and phase data\n",
    "    t_stat, p_val_orig_phase = stats.ttest_ind(original_data, phase_data, equal_var=False)\n",
    "    p_values_original_vs_phase.append(p_val_orig_phase)\n",
    "    \n",
    "    # T-test between original and power data\n",
    "    t_stat, p_val_orig_power = stats.ttest_ind(original_data, power_data, equal_var=False)\n",
    "    p_values_original_vs_power.append(p_val_orig_power)\n",
    "    \n",
    "    # T-test between phase and power data\n",
    "    t_stat, p_val_phase_power = stats.ttest_ind(phase_data, power_data, equal_var=False)\n",
    "    p_values_phase_vs_power.append(p_val_phase_power)\n",
    "    \n",
    "    # Print results\n",
    "    print(f\"Cluster {i}:\")\n",
    "    print(f\"  Original vs Phase: p-value = {p_val_orig_phase:.4f}\")\n",
    "    print(f\"  Original vs Power: p-value = {p_val_orig_power:.4f}\")\n",
    "    print(f\"  Phase vs Power: p-value = {p_val_phase_power:.4f}\")\n"
   ]
  },
  {
   "cell_type": "code",
   "execution_count": 28,
   "metadata": {},
   "outputs": [
    {
     "data": {
      "text/plain": [
       "(100, 11)"
      ]
     },
     "execution_count": 28,
     "metadata": {},
     "output_type": "execute_result"
    }
   ],
   "source": [
    "diff_phase = means - means_runs_phase\n",
    "diff_power = means - means_runs_power\n",
    "diff_phase.shape"
   ]
  },
  {
   "cell_type": "code",
   "execution_count": 29,
   "metadata": {},
   "outputs": [],
   "source": [
    "# Calculate mean differences for each cluster\n",
    "mean_diff_phase = diff_phase.mean(axis=0)\n",
    "mean_diff_power = diff_power.mean(axis=0)\n",
    "\n",
    "# Sort clusters by mean differences in phase\n",
    "sorted_indices = np.argsort(mean_diff_phase)[::-1]  # Descending order\n",
    "\n",
    "# Sort differences, catname, and bout_col based on calculated indices\n",
    "sorted_diff_phase = mean_diff_phase[sorted_indices]\n",
    "sorted_diff_power = mean_diff_power[sorted_indices]\n",
    "sorted_catname = np.array(catname)[sorted_indices]\n",
    "sorted_bout_col = np.array(bout_cols)[sorted_indices]\n",
    "\n",
    "# Plotting\n",
    "n_clusters = diff_phase.shape[1]\n",
    "ind = np.arange(n_clusters)  # The y locations for the groups\n",
    "\n"
   ]
  },
  {
   "cell_type": "markdown",
   "metadata": {},
   "source": [
    "## Panel C"
   ]
  },
  {
   "cell_type": "code",
   "execution_count": 31,
   "metadata": {},
   "outputs": [],
   "source": [
    "lw=0.5\n",
    "cm = 1/2.54  # centimeters in inches\n",
    "f_size = 6\n",
    "dpi=600\n",
    "width = 0.35  # Width of the bars\n",
    "plt.rcParams.update({'font.size': f_size})"
   ]
  },
  {
   "cell_type": "code",
   "execution_count": 36,
   "metadata": {},
   "outputs": [
    {
     "data": {
      "image/png": "[encoded data removed]",
      "text/plain": [
       "<Figure size 110.236x228.346 with 1 Axes>"
      ]
     },
     "metadata": {},
     "output_type": "display_data"
    }
   ],
   "source": [
    "\n",
    "fig, ax = plt.subplots(figsize=(2.8*cm, 5.8*cm), facecolor='None')\n",
    "\n",
    "# Bar plot for phase differences\n",
    "bar1 = ax.barh(ind, sorted_diff_phase, width, label='Phase Shuffle', color='k')\n",
    "# Bar plot for power differences\n",
    "bar2 = ax.barh(ind + width, sorted_diff_power, width, label='Power Shuffle', color='gray')\n",
    "\n",
    "# Add some text for labels, title, and custom y-axis tick labels, etc.\n",
    "ax.set_ylabel('Bout Category')\n",
    "ax.set_xlabel('Reduction in Mean $R^{2}$ Score')\n",
    "ax.set_yticks(ind + width / 2)\n",
    "ax.set_yticklabels(sorted_catname)\n",
    "ax.invert_yaxis()  # Invert y axis to have the highest value at the top\n",
    "ax.legend(loc='upper left', bbox_to_anchor=(0, 1.4), ncol=1, fontsize=f_size, handleheight=0.5, handlelength=1)\n",
    "\n",
    "# Set ytick label colors based on sorted_bout_col\n",
    "for label, color in zip(ax.get_yticklabels(), sorted_bout_col):\n",
    "    label.set_color(color)\n",
    "\n",
    "sns.despine(top=True, right=True, left=False, bottom=False)\n",
    "plt.tight_layout()\n",
    "\n",
    "if True:  # Replace with your condition for saving figures\n",
    "    fig.savefig(fig_dir/\"r2_fins_shuffle_diff.pdf\", bbox_inches='tight', dpi=dpi, transparent=True)\n",
    "    fig.savefig(fig_dir/\"r2_fins_shuffle_diff.png\", bbox_inches='tight', dpi=dpi, transparent=True)\n"
   ]
  },
  {
   "cell_type": "code",
   "execution_count": null,
   "metadata": {},
   "outputs": [],
   "source": []
  },
  {
   "cell_type": "code",
   "execution_count": null,
   "metadata": {},
   "outputs": [],
   "source": []
  },
  {
   "cell_type": "code",
   "execution_count": null,
   "metadata": {},
   "outputs": [],
   "source": []
  }
 ],
 "metadata": {
  "kernelspec": {
   "display_name": "Python 3 (ipykernel)",
   "language": "python",
   "name": "python3"
  },
  "language_info": {
   "codemirror_mode": {
    "name": "ipython",
    "version": 3
   },
   "file_extension": ".py",
   "mimetype": "text/x-python",
   "name": "python",
   "nbconvert_exporter": "python",
   "pygments_lexer": "ipython3",
   "version": "3.11.5"
  }
 },
 "nbformat": 4,
 "nbformat_minor": 4
}
