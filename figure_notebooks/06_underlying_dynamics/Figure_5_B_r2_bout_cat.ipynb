{
 "cells": [
  {
   "cell_type": "code",
   "execution_count": 1,
   "metadata": {},
   "outputs": [],
   "source": [
    "from pathlib import Path\n",
    "import h5py\n",
    "import numpy as np\n",
    "import matplotlib.pyplot as plt\n",
    "from matplotlib import gridspec\n",
    "\n",
    "from sklearn.linear_model import RidgeCV,LinearRegression\n",
    "from sklearn.model_selection import train_test_split\n",
    "from sklearn.metrics import mean_squared_error, r2_score\n",
    "import flammkuchen as fl"
   ]
  },
  {
   "cell_type": "code",
   "execution_count": 2,
   "metadata": {},
   "outputs": [],
   "source": [
    "catname = np.array(['AS', 'S1', 'S2', 'BS', 'JT', 'HAT', 'RT', 'SAT',\n",
    "       'OB', 'LLC', 'SLC'])\n",
    "bout_cols=  ['#82cfff','#4589ff','#0000c8','#fcaf6d','#ffb3b8','#08bdba','#24a148','#9b82f3','#ee5396','#e3bc13','#fa4d56']\n",
    "bout_cat =np.arange(0,11,1)\n",
    "\n",
    "bt_names = dict()\n",
    "bt_names['bout_names'] = catname\n",
    "bt_names['bout_cat'] = bout_cat\n",
    "bt_names['bout_cols'] = bout_cols\n",
    "\n",
    "# np.savez(master_path/ 'bout_names_kk', **bt_names)  # data is a dict here"
   ]
  },
  {
   "cell_type": "code",
   "execution_count": 3,
   "metadata": {},
   "outputs": [],
   "source": [
    "SAVE_FIGS=True\n",
    "fig_dir = Path(r'\\\\portulab.synology.me\\data\\Kata\\Figures_Paper\\Figure_5\\fig_5')\n",
    "fig_dir.mkdir(exist_ok=True, parents=True)"
   ]
  },
  {
   "cell_type": "markdown",
   "metadata": {},
   "source": [
    "## Load data"
   ]
  },
  {
   "cell_type": "code",
   "execution_count": 4,
   "metadata": {},
   "outputs": [
    {
     "name": "stdout",
     "output_type": "stream",
     "text": [
      "original_index\n",
      "proba\n",
      "clusters\n",
      "tail_dir\n",
      "tails\n",
      "fins\n",
      "reconstructions\n",
      "latents\n",
      "inputs\n",
      "model_targets\n",
      "original_tensor\n"
     ]
    }
   ],
   "source": [
    "master_path = Path(r'\\\\portulab.synology.me\\data\\Kata\\Processed_Data\\fin_tail_nn')\n",
    "ds = np.load(Path(master_path /'fin_data'/'model_data_test.npz'))\n",
    "print(*ds.files,sep=\"\\n\")"
   ]
  },
  {
   "cell_type": "code",
   "execution_count": 5,
   "metadata": {},
   "outputs": [
    {
     "data": {
      "text/plain": [
       "((1823, 7, 175),\n",
       " (1824, 7, 175),\n",
       " (1823, 7, 175),\n",
       " (1823, 10, 175),\n",
       " (1824, 2, 175),\n",
       " (1823, 120, 175))"
      ]
     },
     "execution_count": 5,
     "metadata": {},
     "output_type": "execute_result"
    }
   ],
   "source": [
    "ds = np.load(Path(master_path /'fin_data'/'model_data_test.npz'))\n",
    "ds['reconstructions'].shape, ds['tails'].shape, ds['model_targets'].shape, ds['inputs'].shape,  ds['fins'].shape, ds['latents'].shape"
   ]
  },
  {
   "cell_type": "code",
   "execution_count": 6,
   "metadata": {},
   "outputs": [
    {
     "name": "stdout",
     "output_type": "stream",
     "text": [
      "n trials: 1823, n tps: 175, n fins: 2, n latents: 120\n"
     ]
    }
   ],
   "source": [
    "# pull out bout features\n",
    "swim_cat = ds['clusters'] # bout type\n",
    "swim_direction = ds['tail_dir'] # direction\n",
    "proba = ds['proba'] # direction\n",
    "\n",
    "# pull out bout tensors\n",
    "fins = ds['fins'][:-1,:,:]\n",
    "# fins = ds['fin_upsamp']\n",
    "# tails = ds['tail_upsamp']\n",
    "\n",
    "tails = ds['tails'][:-1,:,:]\n",
    "latents = ds['latents']\n",
    "inputs = ds['inputs']\n",
    "recons = ds['reconstructions']\n",
    "\n",
    "# dims\n",
    "n_trials, n_segs, n_tps = recons.shape\n",
    "_, n_fins, _ = fins.shape\n",
    "_, n_latents, _ = latents.shape\n",
    "_, n_inputs, _ = inputs.shape\n",
    "\n",
    "print(f\"n trials: {n_trials}, n tps: {n_tps}, n fins: {n_fins}, n latents: {n_latents}\")\n",
    "\n",
    "tt_ = np.arange(n_tps)*10/7"
   ]
  },
  {
   "cell_type": "markdown",
   "metadata": {},
   "source": [
    "## Fit tail latents to fin"
   ]
  },
  {
   "cell_type": "code",
   "execution_count": 7,
   "metadata": {},
   "outputs": [
    {
     "name": "stdout",
     "output_type": "stream",
     "text": [
      "(1823, 120, 175) (1823, 2, 175)\n",
      "(1823, 21000) (1823, 350)\n",
      "Mean Squared Error: 0.08227821428837706\n",
      "Best alpha: 1.0\n"
     ]
    }
   ],
   "source": [
    "\n",
    "# Assuming latents as features (X) and fins as target (y)\n",
    "print(latents.shape, fins.shape)\n",
    "X = latents.reshape(latents.shape[0], -1)  # Flatten the latents array\n",
    "y = fins.reshape(fins.shape[0], -1)  # Flatten the fins array\n",
    "print(X.shape, y.shape)\n",
    "\n",
    "# Split the data into training and testing sets\n",
    "X_train, X_test, y_train, y_test = train_test_split(X, y, test_size=0.2, random_state=42)\n",
    "# X_train, y_train = X, y\n",
    "\n",
    "# Define the Ridge regression model with cross-validation\n",
    "alphas = [1e-4, 1e-3, 0.01, 0.1, 1.0,]  # List of alphas to cross-validate\n",
    "ridge_cv = RidgeCV(alphas=alphas, store_cv_results=True)\n",
    "\n",
    "# Fit the model\n",
    "ridge_cv.fit(X_train, y_train)\n",
    "\n",
    "# Predict on the test set\n",
    "y_pred = ridge_cv.predict(X_test)\n",
    "\n",
    "# Calculate the mean squared error\n",
    "mse = mean_squared_error(y_test, y_pred)\n",
    "print(f'Mean Squared Error: {mse}')\n",
    "print(f'Best alpha: {ridge_cv.alpha_}')"
   ]
  },
  {
   "cell_type": "code",
   "execution_count": 8,
   "metadata": {},
   "outputs": [],
   "source": [
    "# np.random.seed(2)\n",
    "np.random.seed(3)\n",
    "\n",
    "ytrain_pred = ridge_cv.predict(X_train)\n",
    "sk_ytrain_=ytrain_pred.reshape(ytrain_pred.shape[0],n_fins,n_tps).transpose(0,2,1)\n",
    "sk_ytrain_true_=y_train.reshape(ytrain_pred.shape[0],n_fins,n_tps).transpose(0,2,1)\n"
   ]
  },
  {
   "cell_type": "code",
   "execution_count": 9,
   "metadata": {},
   "outputs": [
    {
     "name": "stdout",
     "output_type": "stream",
     "text": [
      "Train mse: 0.0201\tTest mse: 0.0823\n"
     ]
    }
   ],
   "source": [
    "print(f\"Train mse: {mean_squared_error(y_train, ytrain_pred):.04f}\\tTest mse: {mean_squared_error(y_test, y_pred):.04f}\")"
   ]
  },
  {
   "cell_type": "markdown",
   "metadata": {},
   "source": [
    "## Calculate r-score for all bout"
   ]
  },
  {
   "cell_type": "code",
   "execution_count": 10,
   "metadata": {},
   "outputs": [
    {
     "data": {
      "text/plain": [
       "(1823,)"
      ]
     },
     "execution_count": 10,
     "metadata": {},
     "output_type": "execute_result"
    }
   ],
   "source": [
    "# Predict on the test set\n",
    "ridge_cv.fit(X, y)\n",
    "y_pred_ = ridge_cv.predict(X)\n",
    "\n",
    "sk_y_=y_pred_.reshape(y_pred_.shape[0],n_fins,n_tps).transpose(0,2,1)\n",
    "sk_ytrue_=y.reshape(y_pred_.shape[0],n_fins,n_tps).transpose(0,2,1)\n",
    "\n",
    "r_vals = np.array([r2_score(tr, pr) for tr, pr in zip(y, y_pred_)])\n",
    "r_vals.shape"
   ]
  },
  {
   "cell_type": "code",
   "execution_count": 11,
   "metadata": {},
   "outputs": [
    {
     "name": "stdout",
     "output_type": "stream",
     "text": [
      "0\n",
      "AS (200,)\n",
      "1\n",
      "S1 (200,)\n",
      "2\n",
      "S2 (200,)\n",
      "3\n",
      "BS (200,)\n",
      "4\n",
      "JT (200,)\n",
      "5\n",
      "HAT (200,)\n",
      "6\n",
      "RT (200,)\n",
      "7\n",
      "SAT (186,)\n",
      "8\n",
      "OB (6,)\n",
      "9\n",
      "LLC (200,)\n",
      "10\n",
      "SLC (31,)\n"
     ]
    }
   ],
   "source": [
    "means, errs, seq1, seq2 = [], [], [], []\n",
    "for a_cat in range(len(bout_cat)):\n",
    "    if a_cat ==10:\n",
    "        print (a_cat)\n",
    "        ids_ = np.where(swim_cat==a_cat)[0][:-1]\n",
    "        print(catname[a_cat],ids_.shape)\n",
    "        # print(ids_)\n",
    "        means.append(np.mean(r_vals[ids_]))\n",
    "        seq1.append(r_vals[ids_][r_vals[ids_]>0.0])\n",
    "        seq2.append(np.clip(r_vals[ids_],0,None))\n",
    "        errs.append(np.std(r_vals[ids_]))\n",
    "        \n",
    "    else:\n",
    "        print (a_cat)\n",
    "        ids_ = np.where(swim_cat==a_cat)[0]\n",
    "        print(catname[a_cat],ids_.shape)\n",
    "        # print(ids_)\n",
    "        means.append(np.mean(r_vals[ids_]))\n",
    "        seq1.append(r_vals[ids_][r_vals[ids_]>0.0])\n",
    "        seq2.append(np.clip(r_vals[ids_],0,None))\n",
    "        errs.append(np.std(r_vals[ids_]))\n",
    "    \n",
    "means, errs = np.array(means), np.array(errs)"
   ]
  },
  {
   "cell_type": "code",
   "execution_count": 12,
   "metadata": {},
   "outputs": [],
   "source": [
    "import flammkuchen as fl\n",
    "fl.save(master_path/ 'R2_sample.h5', seq2)"
   ]
  },
  {
   "cell_type": "markdown",
   "metadata": {},
   "source": [
    "### Result plot"
   ]
  },
  {
   "cell_type": "code",
   "execution_count": 13,
   "metadata": {},
   "outputs": [
    {
     "name": "stdout",
     "output_type": "stream",
     "text": [
      "0\n",
      "AS (200,)\n",
      "1\n",
      "S1 (200,)\n",
      "2\n",
      "S2 (200,)\n",
      "3\n",
      "BS (200,)\n",
      "4\n",
      "JT (200,)\n",
      "5\n",
      "HAT (200,)\n",
      "6\n",
      "RT (200,)\n",
      "7\n",
      "SAT (186,)\n",
      "8\n",
      "OB (6,)\n",
      "9\n",
      "LLC (200,)\n",
      "10\n",
      "SLC (31,)\n"
     ]
    }
   ],
   "source": [
    "proba_means, proba_errs= [], []\n",
    "for a_cat in range(len(bout_cat)):\n",
    "    if a_cat ==10:\n",
    "        print (a_cat)\n",
    "        ids_ = np.where(swim_cat==a_cat)[0][:-1]\n",
    "        print(catname[a_cat],ids_.shape)\n",
    "        proba_means.append(np.mean(proba[ids_]))\n",
    "        proba_errs.append(np.std(proba[ids_]))\n",
    "        \n",
    "    else:\n",
    "        print (a_cat)\n",
    "        ids_ = np.where(swim_cat==a_cat)[0]\n",
    "        print(catname[a_cat],ids_.shape)\n",
    "        proba_means.append(np.mean(proba[ids_]))\n",
    "        proba_errs.append(np.std(proba[ids_]))\n",
    "    \n",
    "proba_means, proba_errs = np.array(proba_means), np.array(proba_errs)"
   ]
  },
  {
   "cell_type": "markdown",
   "metadata": {},
   "source": [
    "### Plot the fins with r2-score"
   ]
  },
  {
   "cell_type": "code",
   "execution_count": 14,
   "metadata": {},
   "outputs": [],
   "source": [
    "lw=0.5\n",
    "cm = 1/2.54  # centimeters in inches\n",
    "f_size = 6\n",
    "dpi= 600\n",
    "plt.rcParams.update({'font.size': f_size})"
   ]
  },
  {
   "cell_type": "code",
   "execution_count": 19,
   "metadata": {},
   "outputs": [
    {
     "name": "stderr",
     "output_type": "stream",
     "text": [
      "C:\\Users\\admin\\AppData\\Local\\Temp\\ipykernel_6292\\1242016317.py:83: UserWarning: Tight layout not applied. tight_layout cannot make axes width small enough to accommodate all axes decorations\n",
      "  plt.tight_layout()\n"
     ]
    },
    {
     "data": {
      "image/png": "[encoded data removed]",
      "text/plain": [
       "<Figure size 413.386x118.11 with 34 Axes>"
      ]
     },
     "metadata": {
      "needs_background": "light"
     },
     "output_type": "display_data"
    }
   ],
   "source": [
    "import matplotlib.patches as mpatches\n",
    "# plot example bout fins and the r2-score\n",
    "\n",
    "np.random.seed(1)\n",
    "fig, ax = plt.subplots(facecolor='None',figsize=(10.5*cm, 3*cm))\n",
    "\n",
    "ax.spines['top'].set_visible(False)\n",
    "ax.spines['right'].set_visible(False)\n",
    "ax.spines['bottom'].set_visible(False)\n",
    "ax.spines['left'].set_visible(False)\n",
    "ax.set_xticks([])\n",
    "ax.set_yticks([])\n",
    "\n",
    "G = gridspec.GridSpec(3,len(np.unique(swim_cat)), height_ratios=[1,1,1])\n",
    "ax0 = {}\n",
    "for i,b in enumerate(bout_cat):\n",
    "    ax0 = plt.subplot(G[0,i])\n",
    "    ax0.set_title(catname[i],fontsize=f_size, c='k' ) #bout_cols[i]) \n",
    "    id = np.where(swim_cat==b)[0]\n",
    "    if len(id)>0:\n",
    "        id_ = np.random.choice(id)\n",
    "        ax0.plot(sk_ytrue_[id_],color='k', lw=lw)\n",
    "        ax0.plot(sk_y_[id_],color='r', lw=lw)\n",
    "    ax0.set(xticks=[], yticks=[], xlim=(0,160), ylim=(-1.5,1.5),)\n",
    "    for sp in ['top','bottom','left','right']:\n",
    "        ax0.spines[sp].set_color('none')  # Turns off the spines\n",
    "        \n",
    "    ax1 = plt.subplot(G[1,i])\n",
    "    if len(id)>0:\n",
    "        [ax1.plot(tails[id_,i_,:], color=\"k\", lw=lw) for i_ in range(7)]\n",
    "  \n",
    "    ax1.set(xticks=[], yticks=[], xlim=(0,160), ylim=(-4,4),)\n",
    "    for sp in ['top','bottom','left','right']:\n",
    "        ax1.spines[sp].set_color('none')  # Turns off the spines\n",
    "    if seq1[i].size==0:\n",
    "        continue\n",
    "    \n",
    "    ax2 = plt.subplot(G[2,i])\n",
    "    parts = ax2.violinplot(seq1[i], showmeans=False, showmedians=True, widths=0.5)\n",
    "    parts['bodies'][0].set_facecolor(bout_cols[b])\n",
    "    parts['bodies'][0].set_edgecolor(bout_cols[b])\n",
    "    parts['bodies'][0].set_alpha(0.7)\n",
    "    \n",
    "    # Set color and linewidth of median line to black and thinner\n",
    "    parts['cmedians'].set_color('black')\n",
    "    parts['cmedians'].set_linewidth(0.5)\n",
    "        # Set color of the vertical lines (whiskers) to black\n",
    "    parts['cmins'].set_color('black')\n",
    "    parts['cmaxes'].set_color('black')\n",
    "    parts['cmins'].set_linewidth(0.5)\n",
    "    parts['cmaxes'].set_linewidth(0.5)\n",
    "    # Set color of the central line connecting median and whiskers to black\n",
    "    parts['cbars'].set_color('black')\n",
    "    parts['cbars'].set_linewidth(0.5)\n",
    "    \n",
    "    ax2.set(yticks=[0, 0.5, 1])\n",
    "    ax2.set_xticks(np.arange(0, 3))\n",
    "    ax2.set(xticks=[], xlabel=catname[b], ylim=(0,1))\n",
    "    for sp in ['top','right']:\n",
    "        ax2.spines[sp].set_color('none')  # Turns off the spines\n",
    "    \n",
    "    # Remove y-tick labels from every subplot except the first one\n",
    "    if i != 0:\n",
    "        ax2.set_yticklabels([])\n",
    "\n",
    "# Create custom legend patches\n",
    "ground_truth_patch = mpatches.Patch(color='k', label='Ground Truth')\n",
    "predicted_patch = mpatches.Patch(color='r', label='Predicted')\n",
    "\n",
    "# Add the patches to the legend\n",
    "ax0.legend(handles=[ground_truth_patch, predicted_patch], loc='upper center', bbox_to_anchor=(-1.5, 2.4),ncol=2,\n",
    "           handleheight=0.3,  # Adjust handle height\n",
    "           handlelength=1)    # Adjust handle length\n",
    "\n",
    "\n",
    "ax0 = plt.subplot(G[0,0])\n",
    "ax0.set_ylabel(\"Fin\", fontsize=f_size)\n",
    "ax1 = plt.subplot(G[1,0])\n",
    "ax1.set_ylabel(\"Tail\", fontsize=f_size)\n",
    "ax2 = plt.subplot(G[2,0])\n",
    "ax2.set_ylabel(\"$R^{2}$ Score\", fontsize=f_size)\n",
    "\n",
    "plt.tight_layout()\n",
    "\n",
    "fig.savefig(fig_dir / \"r2_fins_w_bouts_mod.pdf\", bbox_inches='tight',dpi=dpi, transparent=True)\n",
    "fig.savefig(fig_dir / \"r2_fins_w_bouts_mod.png\", bbox_inches='tight',dpi=dpi, transparent=True)"
   ]
  },
  {
   "cell_type": "code",
   "execution_count": null,
   "metadata": {},
   "outputs": [],
   "source": []
  },
  {
   "cell_type": "code",
   "execution_count": null,
   "metadata": {},
   "outputs": [],
   "source": []
  },
  {
   "cell_type": "code",
   "execution_count": null,
   "metadata": {},
   "outputs": [],
   "source": []
  },
  {
   "cell_type": "code",
   "execution_count": null,
   "metadata": {},
   "outputs": [],
   "source": []
  },
  {
   "cell_type": "code",
   "execution_count": null,
   "metadata": {},
   "outputs": [],
   "source": []
  },
  {
   "cell_type": "code",
   "execution_count": null,
   "metadata": {},
   "outputs": [],
   "source": []
  }
 ],
 "metadata": {
  "kernelspec": {
   "display_name": "Python 3 (ipykernel)",
   "language": "python",
   "name": "python3"
  },
  "language_info": {
   "codemirror_mode": {
    "name": "ipython",
    "version": 3
   },
   "file_extension": ".py",
   "mimetype": "text/x-python",
   "name": "python",
   "nbconvert_exporter": "python",
   "pygments_lexer": "ipython3",
   "version": "3.11.5"
  }
 },
 "nbformat": 4,
 "nbformat_minor": 4
}
