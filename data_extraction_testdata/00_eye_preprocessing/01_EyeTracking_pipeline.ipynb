{
 "cells": [
  {
   "cell_type": "code",
   "execution_count": 1,
   "metadata": {},
   "outputs": [],
   "source": [
    "%load_ext autoreload\n",
    "%autoreload 2\n",
    "import warnings\n",
    "warnings.filterwarnings('ignore')"
   ]
  },
  {
   "cell_type": "code",
   "execution_count": 2,
   "metadata": {},
   "outputs": [],
   "source": [
    "import matplotlib.pyplot as plt\n",
    "import os \n",
    "\n",
    "# Data Wrangling\n",
    "import h5py\n",
    "import numpy as np\n",
    "import pandas as pd\n",
    "from pathlib import Path\n",
    "import glob\n",
    "import math\n",
    "import flammkuchen as fl\n",
    "\n",
    "# Image\n",
    "import cv2 \n",
    "\n",
    "#eye detetcion\n",
    "from skimage.segmentation import flood, flood_fill\n",
    "from skimage.measure import label, regionprops, regionprops_table\n",
    "import h5py\n",
    "from tqdm import tqdm"
   ]
  },
  {
   "cell_type": "markdown",
   "metadata": {},
   "source": [
    "#### Import custom functions"
   ]
  },
  {
   "cell_type": "code",
   "execution_count": 3,
   "metadata": {},
   "outputs": [],
   "source": [
    "# my own utils\n",
    "from utils_motato import compute_angle_between_vect_tail,compute_angle_between_vect,exptrapolate_segments\n",
    "\n",
    "from eye_extraction_helpers import midpoint\n",
    "from eye_extraction_helpers import mid_head\n",
    "from eye_extraction_helpers import preprocess_img\n",
    "from eye_extraction_helpers import angles, compute_angles\n",
    "\n",
    "from feature_extractuion_helpers import nanzscore"
   ]
  },
  {
   "cell_type": "markdown",
   "metadata": {},
   "source": [
    "#### Setup Params"
   ]
  },
  {
   "cell_type": "code",
   "execution_count": 4,
   "metadata": {},
   "outputs": [],
   "source": [
    "# set up params that dont change \n",
    "fps_new = 200\n",
    "fps = 200\n",
    "N_seg = 10 \n"
   ]
  },
  {
   "cell_type": "markdown",
   "metadata": {},
   "source": [
    "## Set up paths"
   ]
  },
  {
   "cell_type": "code",
   "execution_count": 5,
   "metadata": {},
   "outputs": [
    {
     "data": {
      "text/plain": [
       "[WindowsPath('//portulab.synology.me/data/Kata/testdata/Raw_Data/240423_f0')]"
      ]
     },
     "execution_count": 5,
     "metadata": {},
     "output_type": "execute_result"
    }
   ],
   "source": [
    "master_path = Path(r'\\\\portulab.synology.me\\data\\Kata\\testdata\\Raw_Data')\n",
    "\n",
    "fish_paths = list(master_path.glob('*f[0-9]*'))\n",
    "fish_paths"
   ]
  },
  {
   "cell_type": "code",
   "execution_count": 6,
   "metadata": {},
   "outputs": [
    {
     "name": "stdout",
     "output_type": "stream",
     "text": [
      "1 videos found\n"
     ]
    }
   ],
   "source": [
    "print (\"{} videos found\".format(len(fish_paths)))"
   ]
  },
  {
   "cell_type": "code",
   "execution_count": 7,
   "metadata": {},
   "outputs": [
    {
     "name": "stderr",
     "output_type": "stream",
     "text": [
      "100%|████████████████████████████████████████████████████████████████████████████████████████████| 1/1 [00:00<?, ?it/s]"
     ]
    },
    {
     "name": "stdout",
     "output_type": "stream",
     "text": [
      "working on : \\\\portulab.synology.me\\data\\Kata\\testdata\\Raw_Data\\240423_f0\n",
      "file exists\n"
     ]
    },
    {
     "name": "stderr",
     "output_type": "stream",
     "text": [
      "\n"
     ]
    }
   ],
   "source": [
    "\n",
    "for ind, fish_path in enumerate(tqdm(fish_paths)):\n",
    "    print ('working on :', fish_path)\n",
    "    my_file = Path(fish_path /\"eye_coords.h5\")\n",
    "    if my_file.is_file():\n",
    "        print ('file exists')\n",
    "        pass"
   ]
  },
  {
   "cell_type": "markdown",
   "metadata": {},
   "source": [
    "## loop over folder"
   ]
  },
  {
   "cell_type": "code",
   "execution_count": 8,
   "metadata": {},
   "outputs": [
    {
     "name": "stderr",
     "output_type": "stream",
     "text": [
      "  0%|                                                                                            | 0/1 [00:00<?, ?it/s]"
     ]
    },
    {
     "name": "stdout",
     "output_type": "stream",
     "text": [
      "working on : \\\\portulab.synology.me\\data\\Kata\\testdata\\Raw_Data\\240423_f0\n",
      "file exists\n",
      "7.9519166666666665 minutes at 200 fps\n",
      "working on 95423 frames\n"
     ]
    },
    {
     "name": "stderr",
     "output_type": "stream",
     "text": [
      "  0%|                                                                                            | 0/1 [00:05<?, ?it/s]\n"
     ]
    },
    {
     "ename": "KeyboardInterrupt",
     "evalue": "",
     "output_type": "error",
     "traceback": [
      "\u001b[1;31m---------------------------------------------------------------------------\u001b[0m",
      "\u001b[1;31mKeyboardInterrupt\u001b[0m                         Traceback (most recent call last)",
      "Cell \u001b[1;32mIn[8], line 27\u001b[0m\n\u001b[0;32m     24\u001b[0m tail_y \u001b[38;5;241m=\u001b[39m np\u001b[38;5;241m.\u001b[39marray([df[x]\u001b[38;5;241m.\u001b[39miloc[:, \u001b[38;5;241m1\u001b[39m]\u001b[38;5;241m.\u001b[39mvalues\u001b[38;5;241m.\u001b[39mastype(\u001b[38;5;124m'\u001b[39m\u001b[38;5;124mfloat\u001b[39m\u001b[38;5;124m'\u001b[39m) \u001b[38;5;28;01mfor\u001b[39;00m x \u001b[38;5;129;01min\u001b[39;00m tail_y_col])\n\u001b[0;32m     26\u001b[0m \u001b[38;5;66;03m#Preprocess data \u001b[39;00m\n\u001b[1;32m---> 27\u001b[0m tail_x_10, tail_y_10 \u001b[38;5;241m=\u001b[39m \u001b[43mexptrapolate_segments\u001b[49m\u001b[43m(\u001b[49m\u001b[43mtail_x\u001b[49m\u001b[43m,\u001b[49m\u001b[43m \u001b[49m\u001b[43mtail_y\u001b[49m\u001b[43m,\u001b[49m\u001b[43m \u001b[49m\u001b[38;5;241;43m10\u001b[39;49m\u001b[43m)\u001b[49m\n\u001b[0;32m     28\u001b[0m \u001b[38;5;66;03m# computations\u001b[39;00m\n\u001b[0;32m     29\u001b[0m mid_headx, mid_heady, left_mid_eye_x, left_mid_eye_y, right_mid_eye_x, right_mid_eye_y \u001b[38;5;241m=\u001b[39m mid_head(df)\n",
      "File \u001b[1;32m~\\python_code\\tracking_rig\\data_extraction\\00_eye_preprocessing\\utils_motato.py:51\u001b[0m, in \u001b[0;36mexptrapolate_segments\u001b[1;34m(tail_x, tail_y, N_seg)\u001b[0m\n\u001b[0;32m     49\u001b[0m distance \u001b[38;5;241m=\u001b[39m np\u001b[38;5;241m.\u001b[39mcumsum( np\u001b[38;5;241m.\u001b[39msqrt(np\u001b[38;5;241m.\u001b[39msum( np\u001b[38;5;241m.\u001b[39mdiff(points, axis\u001b[38;5;241m=\u001b[39m\u001b[38;5;241m0\u001b[39m)\u001b[38;5;241m*\u001b[39m\u001b[38;5;241m*\u001b[39m\u001b[38;5;241m2\u001b[39m, axis\u001b[38;5;241m=\u001b[39m\u001b[38;5;241m1\u001b[39m )) )\n\u001b[0;32m     50\u001b[0m distance \u001b[38;5;241m=\u001b[39m np\u001b[38;5;241m.\u001b[39minsert(distance, \u001b[38;5;241m0\u001b[39m, \u001b[38;5;241m0\u001b[39m)\u001b[38;5;241m/\u001b[39mdistance[\u001b[38;5;241m-\u001b[39m\u001b[38;5;241m1\u001b[39m]\n\u001b[1;32m---> 51\u001b[0m interpolator \u001b[38;5;241m=\u001b[39m  \u001b[43minterp1d\u001b[49m\u001b[43m(\u001b[49m\u001b[43mdistance\u001b[49m\u001b[43m,\u001b[49m\u001b[43m \u001b[49m\u001b[43mpoints\u001b[49m\u001b[43m,\u001b[49m\u001b[43m \u001b[49m\u001b[43mkind\u001b[49m\u001b[38;5;241;43m=\u001b[39;49m\u001b[38;5;124;43m'\u001b[39;49m\u001b[38;5;124;43mcubic\u001b[39;49m\u001b[38;5;124;43m'\u001b[39;49m\u001b[43m,\u001b[49m\u001b[43m \u001b[49m\u001b[43maxis\u001b[49m\u001b[38;5;241;43m=\u001b[39;49m\u001b[38;5;241;43m0\u001b[39;49m\u001b[43m)\u001b[49m\n\u001b[0;32m     52\u001b[0m curve \u001b[38;5;241m=\u001b[39m interpolator(alpha)\n\u001b[0;32m     53\u001b[0m tail_x_10[:,i] \u001b[38;5;241m=\u001b[39m curve[:,\u001b[38;5;241m0\u001b[39m]\n",
      "File \u001b[1;32m~\\miniconda3\\envs\\megabouts\\Lib\\site-packages\\scipy\\interpolate\\_interpolate.py:397\u001b[0m, in \u001b[0;36minterp1d.__init__\u001b[1;34m(***failed resolving arguments***)\u001b[0m\n\u001b[0;32m    394\u001b[0m         yy \u001b[38;5;241m=\u001b[39m np\u001b[38;5;241m.\u001b[39mones_like(\u001b[38;5;28mself\u001b[39m\u001b[38;5;241m.\u001b[39m_y)\n\u001b[0;32m    395\u001b[0m         rewrite_nan \u001b[38;5;241m=\u001b[39m \u001b[38;5;28;01mTrue\u001b[39;00m\n\u001b[1;32m--> 397\u001b[0m \u001b[38;5;28mself\u001b[39m\u001b[38;5;241m.\u001b[39m_spline \u001b[38;5;241m=\u001b[39m \u001b[43mmake_interp_spline\u001b[49m\u001b[43m(\u001b[49m\u001b[43mxx\u001b[49m\u001b[43m,\u001b[49m\u001b[43m \u001b[49m\u001b[43myy\u001b[49m\u001b[43m,\u001b[49m\u001b[43m \u001b[49m\u001b[43mk\u001b[49m\u001b[38;5;241;43m=\u001b[39;49m\u001b[43morder\u001b[49m\u001b[43m,\u001b[49m\n\u001b[0;32m    398\u001b[0m \u001b[43m                                  \u001b[49m\u001b[43mcheck_finite\u001b[49m\u001b[38;5;241;43m=\u001b[39;49m\u001b[38;5;28;43;01mFalse\u001b[39;49;00m\u001b[43m)\u001b[49m\n\u001b[0;32m    399\u001b[0m \u001b[38;5;28;01mif\u001b[39;00m rewrite_nan:\n\u001b[0;32m    400\u001b[0m     \u001b[38;5;28mself\u001b[39m\u001b[38;5;241m.\u001b[39m_call \u001b[38;5;241m=\u001b[39m \u001b[38;5;28mself\u001b[39m\u001b[38;5;241m.\u001b[39m\u001b[38;5;18m__class__\u001b[39m\u001b[38;5;241m.\u001b[39m_call_nan_spline\n",
      "File \u001b[1;32m~\\miniconda3\\envs\\megabouts\\Lib\\site-packages\\scipy\\interpolate\\_bsplines.py:1508\u001b[0m, in \u001b[0;36mmake_interp_spline\u001b[1;34m(x, y, k, t, bc_type, axis, check_finite)\u001b[0m\n\u001b[0;32m   1505\u001b[0m \u001b[38;5;28;01melif\u001b[39;00m info \u001b[38;5;241m<\u001b[39m \u001b[38;5;241m0\u001b[39m:\n\u001b[0;32m   1506\u001b[0m     \u001b[38;5;28;01mraise\u001b[39;00m \u001b[38;5;167;01mValueError\u001b[39;00m(\u001b[38;5;124m'\u001b[39m\u001b[38;5;124millegal value in \u001b[39m\u001b[38;5;132;01m%d\u001b[39;00m\u001b[38;5;124m-th argument of internal gbsv\u001b[39m\u001b[38;5;124m'\u001b[39m \u001b[38;5;241m%\u001b[39m \u001b[38;5;241m-\u001b[39minfo)\n\u001b[1;32m-> 1508\u001b[0m c \u001b[38;5;241m=\u001b[39m np\u001b[38;5;241m.\u001b[39mascontiguousarray(c\u001b[38;5;241m.\u001b[39mreshape((nt,) \u001b[38;5;241m+\u001b[39m y\u001b[38;5;241m.\u001b[39mshape[\u001b[38;5;241m1\u001b[39m:]))\n\u001b[0;32m   1509\u001b[0m \u001b[38;5;28;01mreturn\u001b[39;00m BSpline\u001b[38;5;241m.\u001b[39mconstruct_fast(t, c, k, axis\u001b[38;5;241m=\u001b[39maxis)\n",
      "\u001b[1;31mKeyboardInterrupt\u001b[0m: "
     ]
    }
   ],
   "source": [
    "### Check if eye_coords exist\n",
    "\n",
    "for ind, fish_path in enumerate(tqdm(fish_paths)):\n",
    "    print ('working on :', fish_path)\n",
    "    my_file = Path(fish_path /\"eye_coords.h5\")\n",
    "    if my_file.is_file():\n",
    "        print ('file exists')\n",
    "        pass\n",
    "\n",
    "    vid_path = list(fish_path.glob('*video*'))[0]\n",
    "    filename = list(fish_path.glob('*316000.h5*'))[0]\n",
    "    df= pd.read_hdf(filename,  header=[1, 2], index_col=0)\n",
    "    df = df['DLC_resnet50_dlc_2Dec12shuffle1_316000']\n",
    "    print(f'{df.shape[0]/(fps*60)} minutes at {fps} fps')\n",
    "    print('working on {} frames'.format(df.shape[0]))\n",
    "    \n",
    "    #Extract angles\n",
    "    body_x = df.body.values[:, 0].astype('float')\n",
    "    body_y = df.body.values[:, 1].astype('float')\n",
    "    \n",
    "    tail_x_col = [f'tail_{i}' for i in range(5)]\n",
    "    tail_y_col = [f'tail_{i}' for i in range(5)]\n",
    "    tail_x = np.array([df[x].iloc[:, 0].values.astype('float') for x in tail_x_col])\n",
    "    tail_y = np.array([df[x].iloc[:, 1].values.astype('float') for x in tail_y_col])\n",
    "    \n",
    "    #Preprocess data \n",
    "    tail_x_10, tail_y_10 = exptrapolate_segments(tail_x, tail_y, 10)\n",
    "    # computations\n",
    "    mid_headx, mid_heady, left_mid_eye_x, left_mid_eye_y, right_mid_eye_x, right_mid_eye_y = mid_head(df)\n",
    "    body_vect = np.vstack((mid_headx -body_x , mid_heady - body_y)) \n",
    "\n",
    "    # eye amgle loop\n",
    "    frame_n = df.shape[0]\n",
    "    eye_angles =[]\n",
    "    eye_rot = []\n",
    "    eye_verg = []\n",
    "    eye_coords =[]\n",
    "\n",
    "    cap = cv2.VideoCapture(str(vid_path))\n",
    "\n",
    "    for i in range(frame_n):\n",
    "        success = cap.grab()\n",
    "        ret, image = cap.retrieve()\n",
    "        mask_left = preprocess_img(image, left_mid_eye_y[i],left_mid_eye_x[i], tol_val=10)\n",
    "        mask_right = preprocess_img(image, right_mid_eye_y[i],right_mid_eye_x[i], tol_val=10)\n",
    "        left_eye_vect, right_eye_vect, l_eye_points, r_eye_points, [l_x0, l_y0], [r_x0, r_y0]= angles(i, mask_right, mask_left, body_x, body_y)\n",
    "        left_eye_angle, right_eye_angle, rotation_eye, vergence = compute_angles(i, left_eye_vect, right_eye_vect, body_vect)\n",
    "        eye_angles.append([left_eye_angle, right_eye_angle])\n",
    "        eye_verg.append(vergence)\n",
    "        eye_rot.append(rotation_eye)\n",
    "        eye_coords.append([l_eye_points, r_eye_points])\n",
    "\n",
    "    cap.release()\n",
    "\n",
    "    #save data\n",
    "    hf = h5py.File(fish_path/'eye_angles.h5', 'w')\n",
    "    hf.create_dataset('eye_angles', data= np.asarray(eye_angles), compression=\"gzip\", compression_opts=9)\n",
    "    hf.close()\n",
    "\n",
    "    hf = h5py.File(fish_path/'eye_verg.h5', 'w')\n",
    "    hf.create_dataset('eye_verg', data= np.asarray(eye_verg), compression=\"gzip\", compression_opts=9)\n",
    "    hf.close()\n",
    "\n",
    "    hf = h5py.File(fish_path/'eye_rot.h5', 'w')\n",
    "    hf.create_dataset('eye_rot', data= np.asarray(eye_rot), compression=\"gzip\", compression_opts=9)\n",
    "    hf.close()\n",
    "\n",
    "    hf = h5py.File(fish_path/'eye_coords.h5', 'w')\n",
    "    hf.create_dataset('eye_coords', data= np.asarray(eye_coords), compression=\"gzip\", compression_opts=9)\n",
    "    hf.close()\n",
    "\n",
    "\n"
   ]
  },
  {
   "cell_type": "code",
   "execution_count": null,
   "metadata": {},
   "outputs": [],
   "source": []
  },
  {
   "cell_type": "code",
   "execution_count": null,
   "metadata": {},
   "outputs": [],
   "source": []
  }
 ],
 "metadata": {
  "kernelspec": {
   "display_name": "Python 3 (ipykernel)",
   "language": "python",
   "name": "python3"
  },
  "language_info": {
   "codemirror_mode": {
    "name": "ipython",
    "version": 3
   },
   "file_extension": ".py",
   "mimetype": "text/x-python",
   "name": "python",
   "nbconvert_exporter": "python",
   "pygments_lexer": "ipython3",
   "version": "3.11.10"
  },
  "vscode": {
   "interpreter": {
    "hash": "945ab21136d100d39eb08c79ef7fc552f9de38f223a833a821377820191bf364"
   }
  }
 },
 "nbformat": 4,
 "nbformat_minor": 4
}
