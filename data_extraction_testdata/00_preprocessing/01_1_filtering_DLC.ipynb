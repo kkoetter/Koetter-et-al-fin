{
 "cells": [
  {
   "cell_type": "code",
   "execution_count": 1,
   "id": "12c493a6",
   "metadata": {},
   "outputs": [],
   "source": [
    "%load_ext autoreload\n",
    "%autoreload 2\n",
    "import warnings\n",
    "warnings.filterwarnings('ignore')\n"
   ]
  },
  {
   "cell_type": "code",
   "execution_count": 3,
   "id": "e6efbb4c",
   "metadata": {},
   "outputs": [],
   "source": [
    "import os\n",
    "import json\n",
    "import h5py\n",
    "import flammkuchen as fl\n",
    "\n",
    "import numpy as np\n",
    "import pandas as pd\n",
    "\n",
    "from pathlib import Path\n",
    "import glob\n",
    "\n",
    "import seaborn as sns\n",
    "import matplotlib as mpl\n",
    "import matplotlib.pyplot as plt\n",
    "\n",
    "from matplotlib.patches import Rectangle"
   ]
  },
  {
   "cell_type": "code",
   "execution_count": 4,
   "id": "5c00e85a-3e88-4343-af51-293489728028",
   "metadata": {},
   "outputs": [],
   "source": [
    "def are_points_in_circle(points, a, b, r):\n",
    "    # calculate the distance from each point to the center of the circle\n",
    "    distances = (points[:, 0] - a)**2 + (points[:, 1] - b)**2\n",
    "\n",
    "    # check if the distances are less than or equal to the square of the radius\n",
    "    return distances <= r**2\n",
    "\n",
    "def resample(df, df2):\n",
    "    #df gets resampled to df2\n",
    "    df1 =df.copy()\n",
    "    resampled_df = pd.DataFrame(np.zeros((df2.shape[0], df1.shape[1])), columns=df1.columns)\n",
    "\n",
    "    for i in df1.columns:\n",
    "        interpolated_data = np.interp(df2.t, df1.t, df1[i])\n",
    "        resampled_df[i] = interpolated_data\n",
    "\n",
    "    return resampled_df"
   ]
  },
  {
   "cell_type": "markdown",
   "id": "c06267c0-fa5c-45ac-b3ce-1c5d6042164a",
   "metadata": {},
   "source": [
    "    This notebook reads in the orignal DeepLabCut file and applies 3 filters:\n",
    "\n",
    "    (1) Edge filter for Arenas to exclude bouts at the edge \n",
    "    (2) DeepLabCut filter to just use well tracked frames for analysis\n",
    "\n",
    "    Lastly it appends motor position to the dataframe."
   ]
  },
  {
   "cell_type": "markdown",
   "id": "0085bf52",
   "metadata": {},
   "source": [
    "## Read in Data"
   ]
  },
  {
   "cell_type": "code",
   "execution_count": 5,
   "id": "f2b32614-cd02-48dd-8878-9efc5d9f4150",
   "metadata": {},
   "outputs": [
    {
     "data": {
      "text/plain": [
       "[WindowsPath('//portulab.synology.me/data/Kata/Figures_Paper/Koetter-et-al_data/Testdata/Raw_Data/240423_f0')]"
      ]
     },
     "execution_count": 5,
     "metadata": {},
     "output_type": "execute_result"
    }
   ],
   "source": [
    "master_path = Path(Path(r'\\\\portulab.synology.me\\data\\Kata\\Figures_Paper\\Koetter-et-al_data\\Testdata') / 'Raw_Data')\n",
    "out_path = Path(master_path/'Processed_Data')\n",
    "fish_paths = list(master_path.glob('*f[0-9]*'))\n",
    "fish_paths"
   ]
  },
  {
   "cell_type": "code",
   "execution_count": 6,
   "id": "534c2877-6060-476f-b9e6-00345a127aaf",
   "metadata": {},
   "outputs": [
    {
     "data": {
      "text/plain": [
       "('testfish', '240423_f0')"
      ]
     },
     "execution_count": 6,
     "metadata": {},
     "output_type": "execute_result"
    }
   ],
   "source": [
    "fish= 0\n",
    "fish_path = fish_paths[fish]\n",
    "fish_id =  fish_path.name \n",
    "# exp_name = Path(fish_path).parts[-2] \n",
    "exp_name = 'testfish'\n",
    "exp_name, fish_id"
   ]
  },
  {
   "cell_type": "markdown",
   "id": "309616c6-4644-4ef5-be6c-d3866968284d",
   "metadata": {},
   "source": [
    "#### Read in Original DLC data"
   ]
  },
  {
   "cell_type": "code",
   "execution_count": 7,
   "id": "35b8eb35-c0eb-4602-86d8-297ee0ee3251",
   "metadata": {},
   "outputs": [
    {
     "name": "stdout",
     "output_type": "stream",
     "text": [
      "\\\\portulab.synology.me\\data\\Kata\\Figures_Paper\\Koetter-et-al_data\\Testdata\\Raw_Data\\240423_f0\\111814_videoDLC_resnet50_dlc_2Dec12shuffle1_316000.h5\n"
     ]
    }
   ],
   "source": [
    "filename = list(fish_path.glob('*316000.h5*'))[0]\n",
    "print (filename)\n",
    "df_dlc= pd.read_hdf(filename,  header=[1, 2], index_col=0)\n",
    "df_dlc = df_dlc['DLC_resnet50_dlc_2Dec12shuffle1_316000']"
   ]
  },
  {
   "cell_type": "code",
   "execution_count": 8,
   "id": "291acceb-423b-4d72-9e90-5a8935fa0382",
   "metadata": {},
   "outputs": [
    {
     "data": {
      "text/html": [
       "<div>\n",
       "<style scoped>\n",
       "    .dataframe tbody tr th:only-of-type {\n",
       "        vertical-align: middle;\n",
       "    }\n",
       "\n",
       "    .dataframe tbody tr th {\n",
       "        vertical-align: top;\n",
       "    }\n",
       "\n",
       "    .dataframe thead tr th {\n",
       "        text-align: left;\n",
       "    }\n",
       "</style>\n",
       "<table border=\"1\" class=\"dataframe\">\n",
       "  <thead>\n",
       "    <tr>\n",
       "      <th>bodyparts</th>\n",
       "      <th colspan=\"3\" halign=\"left\">left_eye_anterior</th>\n",
       "      <th colspan=\"3\" halign=\"left\">left_eye_posterior</th>\n",
       "      <th colspan=\"3\" halign=\"left\">right_eye_anterior</th>\n",
       "      <th>right_eye_posterior</th>\n",
       "      <th>...</th>\n",
       "      <th>tail_1</th>\n",
       "      <th colspan=\"3\" halign=\"left\">tail_2</th>\n",
       "      <th colspan=\"3\" halign=\"left\">tail_3</th>\n",
       "      <th colspan=\"3\" halign=\"left\">tail_4</th>\n",
       "    </tr>\n",
       "    <tr>\n",
       "      <th>coords</th>\n",
       "      <th>x</th>\n",
       "      <th>y</th>\n",
       "      <th>likelihood</th>\n",
       "      <th>x</th>\n",
       "      <th>y</th>\n",
       "      <th>likelihood</th>\n",
       "      <th>x</th>\n",
       "      <th>y</th>\n",
       "      <th>likelihood</th>\n",
       "      <th>x</th>\n",
       "      <th>...</th>\n",
       "      <th>likelihood</th>\n",
       "      <th>x</th>\n",
       "      <th>y</th>\n",
       "      <th>likelihood</th>\n",
       "      <th>x</th>\n",
       "      <th>y</th>\n",
       "      <th>likelihood</th>\n",
       "      <th>x</th>\n",
       "      <th>y</th>\n",
       "      <th>likelihood</th>\n",
       "    </tr>\n",
       "  </thead>\n",
       "  <tbody>\n",
       "    <tr>\n",
       "      <th>0</th>\n",
       "      <td>653.235962</td>\n",
       "      <td>549.867249</td>\n",
       "      <td>0.999891</td>\n",
       "      <td>647.881470</td>\n",
       "      <td>519.701050</td>\n",
       "      <td>0.999758</td>\n",
       "      <td>626.027283</td>\n",
       "      <td>562.335266</td>\n",
       "      <td>0.999914</td>\n",
       "      <td>602.901550</td>\n",
       "      <td>...</td>\n",
       "      <td>0.980895</td>\n",
       "      <td>550.919128</td>\n",
       "      <td>328.616638</td>\n",
       "      <td>0.962139</td>\n",
       "      <td>505.450104</td>\n",
       "      <td>277.608337</td>\n",
       "      <td>0.923167</td>\n",
       "      <td>439.471039</td>\n",
       "      <td>239.365433</td>\n",
       "      <td>0.970800</td>\n",
       "    </tr>\n",
       "    <tr>\n",
       "      <th>1</th>\n",
       "      <td>654.368347</td>\n",
       "      <td>548.662109</td>\n",
       "      <td>0.999896</td>\n",
       "      <td>649.363464</td>\n",
       "      <td>518.040771</td>\n",
       "      <td>0.999851</td>\n",
       "      <td>626.644653</td>\n",
       "      <td>560.156250</td>\n",
       "      <td>0.999881</td>\n",
       "      <td>603.670349</td>\n",
       "      <td>...</td>\n",
       "      <td>0.979551</td>\n",
       "      <td>553.069946</td>\n",
       "      <td>323.318237</td>\n",
       "      <td>0.921706</td>\n",
       "      <td>515.273926</td>\n",
       "      <td>267.767639</td>\n",
       "      <td>0.920416</td>\n",
       "      <td>444.348114</td>\n",
       "      <td>245.641525</td>\n",
       "      <td>0.980387</td>\n",
       "    </tr>\n",
       "    <tr>\n",
       "      <th>2</th>\n",
       "      <td>658.328735</td>\n",
       "      <td>546.076904</td>\n",
       "      <td>0.999923</td>\n",
       "      <td>653.924377</td>\n",
       "      <td>515.740967</td>\n",
       "      <td>0.999905</td>\n",
       "      <td>629.848755</td>\n",
       "      <td>558.438354</td>\n",
       "      <td>0.999691</td>\n",
       "      <td>607.012573</td>\n",
       "      <td>...</td>\n",
       "      <td>0.978947</td>\n",
       "      <td>554.070068</td>\n",
       "      <td>322.324982</td>\n",
       "      <td>0.863583</td>\n",
       "      <td>524.936035</td>\n",
       "      <td>261.235168</td>\n",
       "      <td>0.891188</td>\n",
       "      <td>461.540009</td>\n",
       "      <td>236.261642</td>\n",
       "      <td>0.980165</td>\n",
       "    </tr>\n",
       "    <tr>\n",
       "      <th>3</th>\n",
       "      <td>662.999084</td>\n",
       "      <td>541.763550</td>\n",
       "      <td>0.999913</td>\n",
       "      <td>658.501892</td>\n",
       "      <td>511.638153</td>\n",
       "      <td>0.999953</td>\n",
       "      <td>635.091492</td>\n",
       "      <td>554.000916</td>\n",
       "      <td>0.999719</td>\n",
       "      <td>612.348083</td>\n",
       "      <td>...</td>\n",
       "      <td>0.985706</td>\n",
       "      <td>552.845642</td>\n",
       "      <td>316.216949</td>\n",
       "      <td>0.945818</td>\n",
       "      <td>530.994629</td>\n",
       "      <td>256.552765</td>\n",
       "      <td>0.936800</td>\n",
       "      <td>476.081390</td>\n",
       "      <td>216.947006</td>\n",
       "      <td>0.973007</td>\n",
       "    </tr>\n",
       "    <tr>\n",
       "      <th>4</th>\n",
       "      <td>665.398071</td>\n",
       "      <td>538.954529</td>\n",
       "      <td>0.999740</td>\n",
       "      <td>661.073425</td>\n",
       "      <td>508.786987</td>\n",
       "      <td>0.999960</td>\n",
       "      <td>638.392883</td>\n",
       "      <td>551.076233</td>\n",
       "      <td>0.999846</td>\n",
       "      <td>615.801147</td>\n",
       "      <td>...</td>\n",
       "      <td>0.982587</td>\n",
       "      <td>548.529724</td>\n",
       "      <td>316.224487</td>\n",
       "      <td>0.965356</td>\n",
       "      <td>528.076477</td>\n",
       "      <td>252.677872</td>\n",
       "      <td>0.929202</td>\n",
       "      <td>485.563690</td>\n",
       "      <td>199.774689</td>\n",
       "      <td>0.969979</td>\n",
       "    </tr>\n",
       "  </tbody>\n",
       "</table>\n",
       "<p>5 rows × 42 columns</p>\n",
       "</div>"
      ],
      "text/plain": [
       "bodyparts left_eye_anterior                        left_eye_posterior  \\\n",
       "coords                    x           y likelihood                  x   \n",
       "0                653.235962  549.867249   0.999891         647.881470   \n",
       "1                654.368347  548.662109   0.999896         649.363464   \n",
       "2                658.328735  546.076904   0.999923         653.924377   \n",
       "3                662.999084  541.763550   0.999913         658.501892   \n",
       "4                665.398071  538.954529   0.999740         661.073425   \n",
       "\n",
       "bodyparts                        right_eye_anterior                         \\\n",
       "coords              y likelihood                  x           y likelihood   \n",
       "0          519.701050   0.999758         626.027283  562.335266   0.999914   \n",
       "1          518.040771   0.999851         626.644653  560.156250   0.999881   \n",
       "2          515.740967   0.999905         629.848755  558.438354   0.999691   \n",
       "3          511.638153   0.999953         635.091492  554.000916   0.999719   \n",
       "4          508.786987   0.999960         638.392883  551.076233   0.999846   \n",
       "\n",
       "bodyparts right_eye_posterior  ...     tail_1      tail_2              \\\n",
       "coords                      x  ... likelihood           x           y   \n",
       "0                  602.901550  ...   0.980895  550.919128  328.616638   \n",
       "1                  603.670349  ...   0.979551  553.069946  323.318237   \n",
       "2                  607.012573  ...   0.978947  554.070068  322.324982   \n",
       "3                  612.348083  ...   0.985706  552.845642  316.216949   \n",
       "4                  615.801147  ...   0.982587  548.529724  316.224487   \n",
       "\n",
       "bodyparts                 tail_3                             tail_4  \\\n",
       "coords    likelihood           x           y likelihood           x   \n",
       "0           0.962139  505.450104  277.608337   0.923167  439.471039   \n",
       "1           0.921706  515.273926  267.767639   0.920416  444.348114   \n",
       "2           0.863583  524.936035  261.235168   0.891188  461.540009   \n",
       "3           0.945818  530.994629  256.552765   0.936800  476.081390   \n",
       "4           0.965356  528.076477  252.677872   0.929202  485.563690   \n",
       "\n",
       "bodyparts                         \n",
       "coords              y likelihood  \n",
       "0          239.365433   0.970800  \n",
       "1          245.641525   0.980387  \n",
       "2          236.261642   0.980165  \n",
       "3          216.947006   0.973007  \n",
       "4          199.774689   0.969979  \n",
       "\n",
       "[5 rows x 42 columns]"
      ]
     },
     "execution_count": 8,
     "metadata": {},
     "output_type": "execute_result"
    }
   ],
   "source": [
    "df_dlc.head()"
   ]
  },
  {
   "cell_type": "markdown",
   "id": "6308ee90-3b23-4cf8-8568-4ca8bc6bfa82",
   "metadata": {},
   "source": [
    "#### Resample motor log to camera frame rate "
   ]
  },
  {
   "cell_type": "code",
   "execution_count": 9,
   "id": "8d674cc6-09f7-4ded-886c-630ff7dd0730",
   "metadata": {},
   "outputs": [
    {
     "data": {
      "text/plain": [
       "WindowsPath('//portulab.synology.me/data/Kata/Figures_Paper/Koetter-et-al_data/Testdata/Raw_Data/240423_f0/111814_motor_log.hdf5')"
      ]
     },
     "execution_count": 9,
     "metadata": {},
     "output_type": "execute_result"
    }
   ],
   "source": [
    "motor_path = list(fish_path.glob('*motor_log.hdf5*'))[0]\n",
    "motor_path"
   ]
  },
  {
   "cell_type": "code",
   "execution_count": 10,
   "id": "0f6c91f5-9026-448a-b099-19be900f5b4c",
   "metadata": {},
   "outputs": [],
   "source": [
    "motor_log = pd.read_hdf(motor_path)"
   ]
  },
  {
   "cell_type": "code",
   "execution_count": 11,
   "id": "637053a3-691d-4233-a96d-3bfaa1d0d2bb",
   "metadata": {},
   "outputs": [],
   "source": [
    "tp_vid = np.linspace(motor_log.t.iloc[0], motor_log.t.iloc[-1], df_dlc.shape[0])\n",
    "df_dlc = df_dlc.copy()\n",
    "df_dlc['t'] = tp_vid  "
   ]
  },
  {
   "cell_type": "code",
   "execution_count": 12,
   "id": "14774566-c479-408d-993a-7f1689822b84",
   "metadata": {},
   "outputs": [
    {
     "name": "stdout",
     "output_type": "stream",
     "text": [
      "(95423, 8) (111024, 8) (95423, 43)\n"
     ]
    }
   ],
   "source": [
    "resampled = resample(motor_log, df_dlc)\n",
    "print (resampled.shape, motor_log.shape, df_dlc.shape)"
   ]
  },
  {
   "cell_type": "markdown",
   "id": "54955106-c4c0-480b-a47b-92d649d1c18a",
   "metadata": {},
   "source": [
    "##  (1) Add edge filter to DLC dataframe"
   ]
  },
  {
   "cell_type": "markdown",
   "id": "70467310-ae56-4a7e-a7ba-054a54213816",
   "metadata": {},
   "source": [
    "### Round arena"
   ]
  },
  {
   "cell_type": "code",
   "execution_count": 15,
   "id": "45e76e3a-ae9e-49a4-8c06-a29b6a6f9fff",
   "metadata": {},
   "outputs": [
    {
     "name": "stdout",
     "output_type": "stream",
     "text": [
      "[2.5, 0, 30, 1]\n"
     ]
    }
   ],
   "source": [
    "mask  = fl.load(out_path /'{}_mask.csv'.format(exp_name))\n",
    "print (mask)\n",
    "\n",
    "#for round marks\n",
    "margin = mask[-1]\n",
    "center_x = mask[0]\n",
    "center_y = mask[1]\n",
    "radius = mask[2] "
   ]
  },
  {
   "cell_type": "code",
   "execution_count": 16,
   "id": "27a8636e-d79a-44c8-92e4-08b87443f85c",
   "metadata": {},
   "outputs": [
    {
     "data": {
      "image/png": "[encoded data removed]",
      "text/plain": [
       "<Figure size 1000x1000 with 1 Axes>"
      ]
     },
     "metadata": {},
     "output_type": "display_data"
    }
   ],
   "source": [
    "sns.set_theme(style=\"white\", palette=\"pastel\")\n",
    "fig, ax = plt.subplots(figsize=(10,10))\n",
    "ax.plot(resampled.x, resampled.y, label='original')\n",
    "\n",
    "circle = plt.Circle((center_x, center_y), radius, color='pink', fill=False)\n",
    "ax.add_patch(circle)\n",
    "\n",
    "plt.title('arena mask')\n",
    "sns.despine(top=True, right=True, left=True, bottom=True)\n",
    "\n",
    "plt.savefig(out_path/'plots'/'{}_arena_mask.png'.format(fish_id))"
   ]
  },
  {
   "cell_type": "code",
   "execution_count": 17,
   "id": "977c7e62-55ad-40b3-b827-a0557ff23812",
   "metadata": {},
   "outputs": [],
   "source": [
    "points = np.column_stack((resampled.x,resampled.y))\n",
    "to_fill = are_points_in_circle(points, center_x, center_y, radius)\n"
   ]
  },
  {
   "cell_type": "code",
   "execution_count": 18,
   "id": "04466e91-1bc3-4743-9487-fcb425919d83",
   "metadata": {},
   "outputs": [],
   "source": [
    "df_dlc.insert(0, (\"edge_filter\", \"ok\"), to_fill)"
   ]
  },
  {
   "cell_type": "markdown",
   "id": "8939408f-0172-4b69-b5f1-aab8ac035532",
   "metadata": {},
   "source": [
    "### Insert data motor data"
   ]
  },
  {
   "cell_type": "code",
   "execution_count": 19,
   "id": "54176b59-695d-4de5-950f-50b3b32733d9",
   "metadata": {},
   "outputs": [
    {
     "data": {
      "text/plain": [
       "((95423,), (95423,), (95423, 44))"
      ]
     },
     "execution_count": 19,
     "metadata": {},
     "output_type": "execute_result"
    }
   ],
   "source": [
    "#Extract angles\n",
    "motor_x = resampled.x.values.astype('float')\n",
    "motor_y = resampled.y.values.astype('float')\n",
    "motor_z = resampled.z.values.astype('float')\n",
    "motor_x.shape, motor_y.shape, df_dlc.shape"
   ]
  },
  {
   "cell_type": "code",
   "execution_count": 20,
   "id": "614a59f6-823d-4bfa-9413-e866614bae44",
   "metadata": {},
   "outputs": [],
   "source": [
    "df_dlc.insert(0, (\"motor\", \"x\"), motor_x.T)\n",
    "df_dlc.insert(0, (\"motor\", \"y\"), motor_y.T)\n",
    "df_dlc.insert(0, (\"motor\", \"z\"), motor_z.T)"
   ]
  },
  {
   "cell_type": "markdown",
   "id": "1f1de702-2a0b-4fb0-b19a-5276086f4b55",
   "metadata": {},
   "source": [
    "## (2) Apply Deeplabcut Filter to data"
   ]
  },
  {
   "cell_type": "code",
   "execution_count": 21,
   "id": "aace867c-9997-472f-83c3-1ea9bc0b164a",
   "metadata": {},
   "outputs": [],
   "source": [
    "thresh = 0.99"
   ]
  },
  {
   "cell_type": "code",
   "execution_count": 22,
   "id": "d191299f-ba0f-45c4-a2a9-2a95343427ff",
   "metadata": {},
   "outputs": [
    {
     "name": "stdout",
     "output_type": "stream",
     "text": [
      "right now we keep 99.794 % of data\n"
     ]
    }
   ],
   "source": [
    "df_orig = df_dlc.copy()\n",
    "df_tmp = df_dlc.copy()\n",
    "percentile = df_dlc[df_dlc.body.likelihood >=thresh].shape[0]/df_orig.shape[0]\n",
    "print ('right now we keep {} % of data'.format(np.round(percentile*100, 3)))"
   ]
  },
  {
   "cell_type": "code",
   "execution_count": 23,
   "id": "0dcd0aa4-2309-4173-9927-f3a67894b95f",
   "metadata": {},
   "outputs": [
    {
     "data": {
      "text/plain": [
       "array([    0,     1,     2, ..., 95420, 95421, 95422], dtype=int64)"
      ]
     },
     "execution_count": 23,
     "metadata": {},
     "output_type": "execute_result"
    }
   ],
   "source": [
    "good_dlc_tracking = df_dlc[df_dlc.body.likelihood >=thresh].index.values\n",
    "good_dlc_tracking"
   ]
  },
  {
   "cell_type": "code",
   "execution_count": 24,
   "id": "b613abfc-2613-4c12-9121-1ca538202bad",
   "metadata": {},
   "outputs": [
    {
     "data": {
      "text/plain": [
       "array([1, 1, 1, ..., 1, 1, 1])"
      ]
     },
     "execution_count": 24,
     "metadata": {},
     "output_type": "execute_result"
    }
   ],
   "source": [
    "to_fill = np.full(df_tmp.shape[0],-1)\n",
    "to_fill[good_dlc_tracking] = 1\n",
    "to_fill"
   ]
  },
  {
   "cell_type": "code",
   "execution_count": 25,
   "id": "0d99913d-514e-4f1b-a39e-fa3e57e1c53c",
   "metadata": {},
   "outputs": [],
   "source": [
    "df_tmp.insert(0, (\"DLC_filter\", \"pos\"), to_fill)"
   ]
  },
  {
   "cell_type": "markdown",
   "id": "2f5f6fa1-fe3d-4c7d-a65c-94eb15821d06",
   "metadata": {},
   "source": [
    "### Save new DLC"
   ]
  },
  {
   "cell_type": "code",
   "execution_count": 26,
   "id": "78f6e4b0-3a37-4bda-8d4f-dc144ebca34f",
   "metadata": {},
   "outputs": [
    {
     "data": {
      "text/plain": [
       "WindowsPath('//portulab.synology.me/data/Kata/Figures_Paper/Koetter-et-al_data/Testdata/Raw_Data/Processed_Data/240423_f0_DLC.csv')"
      ]
     },
     "execution_count": 26,
     "metadata": {},
     "output_type": "execute_result"
    }
   ],
   "source": [
    "out_path_dlc = Path(out_path/ '{}_DLC.csv'.format(fish_id)) \n",
    "out_path_dlc"
   ]
  },
  {
   "cell_type": "code",
   "execution_count": 27,
   "id": "6b8a93f6-88d6-453f-a84b-04c2971d7d5a",
   "metadata": {},
   "outputs": [],
   "source": [
    "df_tmp.to_csv(out_path_dlc)"
   ]
  },
  {
   "cell_type": "code",
   "execution_count": 28,
   "id": "c45d271a-79cd-4ad8-bf3d-2758058bc2b2",
   "metadata": {},
   "outputs": [
    {
     "data": {
      "text/html": [
       "<div>\n",
       "<style scoped>\n",
       "    .dataframe tbody tr th:only-of-type {\n",
       "        vertical-align: middle;\n",
       "    }\n",
       "\n",
       "    .dataframe tbody tr th {\n",
       "        vertical-align: top;\n",
       "    }\n",
       "\n",
       "    .dataframe thead tr th {\n",
       "        text-align: left;\n",
       "    }\n",
       "</style>\n",
       "<table border=\"1\" class=\"dataframe\">\n",
       "  <thead>\n",
       "    <tr>\n",
       "      <th>bodyparts</th>\n",
       "      <th>DLC_filter</th>\n",
       "      <th colspan=\"3\" halign=\"left\">motor</th>\n",
       "      <th>edge_filter</th>\n",
       "      <th colspan=\"3\" halign=\"left\">left_eye_anterior</th>\n",
       "      <th colspan=\"2\" halign=\"left\">left_eye_posterior</th>\n",
       "      <th>...</th>\n",
       "      <th colspan=\"3\" halign=\"left\">tail_2</th>\n",
       "      <th colspan=\"3\" halign=\"left\">tail_3</th>\n",
       "      <th colspan=\"3\" halign=\"left\">tail_4</th>\n",
       "      <th>t</th>\n",
       "    </tr>\n",
       "    <tr>\n",
       "      <th>coords</th>\n",
       "      <th>pos</th>\n",
       "      <th>z</th>\n",
       "      <th>y</th>\n",
       "      <th>x</th>\n",
       "      <th>ok</th>\n",
       "      <th>x</th>\n",
       "      <th>y</th>\n",
       "      <th>likelihood</th>\n",
       "      <th>x</th>\n",
       "      <th>y</th>\n",
       "      <th>...</th>\n",
       "      <th>x</th>\n",
       "      <th>y</th>\n",
       "      <th>likelihood</th>\n",
       "      <th>x</th>\n",
       "      <th>y</th>\n",
       "      <th>likelihood</th>\n",
       "      <th>x</th>\n",
       "      <th>y</th>\n",
       "      <th>likelihood</th>\n",
       "      <th></th>\n",
       "    </tr>\n",
       "  </thead>\n",
       "  <tbody>\n",
       "    <tr>\n",
       "      <th>0</th>\n",
       "      <td>1</td>\n",
       "      <td>0.000000</td>\n",
       "      <td>8.993996</td>\n",
       "      <td>-7.050400</td>\n",
       "      <td>True</td>\n",
       "      <td>653.235962</td>\n",
       "      <td>549.867249</td>\n",
       "      <td>0.999891</td>\n",
       "      <td>647.881470</td>\n",
       "      <td>519.701050</td>\n",
       "      <td>...</td>\n",
       "      <td>550.919128</td>\n",
       "      <td>328.616638</td>\n",
       "      <td>0.962139</td>\n",
       "      <td>505.450104</td>\n",
       "      <td>277.608337</td>\n",
       "      <td>0.923167</td>\n",
       "      <td>439.471039</td>\n",
       "      <td>239.365433</td>\n",
       "      <td>0.970800</td>\n",
       "      <td>-0.013963</td>\n",
       "    </tr>\n",
       "    <tr>\n",
       "      <th>1</th>\n",
       "      <td>1</td>\n",
       "      <td>-0.000137</td>\n",
       "      <td>9.084572</td>\n",
       "      <td>-7.089576</td>\n",
       "      <td>True</td>\n",
       "      <td>654.368347</td>\n",
       "      <td>548.662109</td>\n",
       "      <td>0.999896</td>\n",
       "      <td>649.363464</td>\n",
       "      <td>518.040771</td>\n",
       "      <td>...</td>\n",
       "      <td>553.069946</td>\n",
       "      <td>323.318237</td>\n",
       "      <td>0.921706</td>\n",
       "      <td>515.273926</td>\n",
       "      <td>267.767639</td>\n",
       "      <td>0.920416</td>\n",
       "      <td>444.348114</td>\n",
       "      <td>245.641525</td>\n",
       "      <td>0.980387</td>\n",
       "      <td>-0.007675</td>\n",
       "    </tr>\n",
       "    <tr>\n",
       "      <th>2</th>\n",
       "      <td>1</td>\n",
       "      <td>0.000000</td>\n",
       "      <td>9.179195</td>\n",
       "      <td>-7.108448</td>\n",
       "      <td>True</td>\n",
       "      <td>658.328735</td>\n",
       "      <td>546.076904</td>\n",
       "      <td>0.999923</td>\n",
       "      <td>653.924377</td>\n",
       "      <td>515.740967</td>\n",
       "      <td>...</td>\n",
       "      <td>554.070068</td>\n",
       "      <td>322.324982</td>\n",
       "      <td>0.863583</td>\n",
       "      <td>524.936035</td>\n",
       "      <td>261.235168</td>\n",
       "      <td>0.891188</td>\n",
       "      <td>461.540009</td>\n",
       "      <td>236.261642</td>\n",
       "      <td>0.980165</td>\n",
       "      <td>-0.001387</td>\n",
       "    </tr>\n",
       "    <tr>\n",
       "      <th>3</th>\n",
       "      <td>1</td>\n",
       "      <td>0.000000</td>\n",
       "      <td>9.258852</td>\n",
       "      <td>-7.098520</td>\n",
       "      <td>True</td>\n",
       "      <td>662.999084</td>\n",
       "      <td>541.763550</td>\n",
       "      <td>0.999913</td>\n",
       "      <td>658.501892</td>\n",
       "      <td>511.638153</td>\n",
       "      <td>...</td>\n",
       "      <td>552.845642</td>\n",
       "      <td>316.216949</td>\n",
       "      <td>0.945818</td>\n",
       "      <td>530.994629</td>\n",
       "      <td>256.552765</td>\n",
       "      <td>0.936800</td>\n",
       "      <td>476.081390</td>\n",
       "      <td>216.947006</td>\n",
       "      <td>0.973007</td>\n",
       "      <td>0.004901</td>\n",
       "    </tr>\n",
       "    <tr>\n",
       "      <th>4</th>\n",
       "      <td>1</td>\n",
       "      <td>-0.000013</td>\n",
       "      <td>9.320093</td>\n",
       "      <td>-7.081586</td>\n",
       "      <td>True</td>\n",
       "      <td>665.398071</td>\n",
       "      <td>538.954529</td>\n",
       "      <td>0.999740</td>\n",
       "      <td>661.073425</td>\n",
       "      <td>508.786987</td>\n",
       "      <td>...</td>\n",
       "      <td>548.529724</td>\n",
       "      <td>316.224487</td>\n",
       "      <td>0.965356</td>\n",
       "      <td>528.076477</td>\n",
       "      <td>252.677872</td>\n",
       "      <td>0.929202</td>\n",
       "      <td>485.563690</td>\n",
       "      <td>199.774689</td>\n",
       "      <td>0.969979</td>\n",
       "      <td>0.011189</td>\n",
       "    </tr>\n",
       "    <tr>\n",
       "      <th>...</th>\n",
       "      <td>...</td>\n",
       "      <td>...</td>\n",
       "      <td>...</td>\n",
       "      <td>...</td>\n",
       "      <td>...</td>\n",
       "      <td>...</td>\n",
       "      <td>...</td>\n",
       "      <td>...</td>\n",
       "      <td>...</td>\n",
       "      <td>...</td>\n",
       "      <td>...</td>\n",
       "      <td>...</td>\n",
       "      <td>...</td>\n",
       "      <td>...</td>\n",
       "      <td>...</td>\n",
       "      <td>...</td>\n",
       "      <td>...</td>\n",
       "      <td>...</td>\n",
       "      <td>...</td>\n",
       "      <td>...</td>\n",
       "      <td>...</td>\n",
       "    </tr>\n",
       "    <tr>\n",
       "      <th>95418</th>\n",
       "      <td>1</td>\n",
       "      <td>-0.000008</td>\n",
       "      <td>-14.071809</td>\n",
       "      <td>1.439044</td>\n",
       "      <td>True</td>\n",
       "      <td>657.147705</td>\n",
       "      <td>496.601166</td>\n",
       "      <td>0.999910</td>\n",
       "      <td>631.599121</td>\n",
       "      <td>480.128876</td>\n",
       "      <td>...</td>\n",
       "      <td>409.898468</td>\n",
       "      <td>460.453949</td>\n",
       "      <td>0.947792</td>\n",
       "      <td>339.952942</td>\n",
       "      <td>448.836517</td>\n",
       "      <td>0.909682</td>\n",
       "      <td>265.793488</td>\n",
       "      <td>437.260010</td>\n",
       "      <td>0.979386</td>\n",
       "      <td>599.979327</td>\n",
       "    </tr>\n",
       "    <tr>\n",
       "      <th>95419</th>\n",
       "      <td>1</td>\n",
       "      <td>-0.000007</td>\n",
       "      <td>-14.078636</td>\n",
       "      <td>1.439372</td>\n",
       "      <td>True</td>\n",
       "      <td>656.905640</td>\n",
       "      <td>500.566345</td>\n",
       "      <td>0.999921</td>\n",
       "      <td>629.901917</td>\n",
       "      <td>483.825745</td>\n",
       "      <td>...</td>\n",
       "      <td>411.091217</td>\n",
       "      <td>464.196686</td>\n",
       "      <td>0.948581</td>\n",
       "      <td>340.129059</td>\n",
       "      <td>452.161926</td>\n",
       "      <td>0.934786</td>\n",
       "      <td>265.808929</td>\n",
       "      <td>440.797913</td>\n",
       "      <td>0.942461</td>\n",
       "      <td>599.985615</td>\n",
       "    </tr>\n",
       "    <tr>\n",
       "      <th>95420</th>\n",
       "      <td>1</td>\n",
       "      <td>-0.000030</td>\n",
       "      <td>-14.090004</td>\n",
       "      <td>1.441478</td>\n",
       "      <td>True</td>\n",
       "      <td>656.891174</td>\n",
       "      <td>493.824280</td>\n",
       "      <td>0.999766</td>\n",
       "      <td>630.628845</td>\n",
       "      <td>476.978973</td>\n",
       "      <td>...</td>\n",
       "      <td>409.606689</td>\n",
       "      <td>457.396301</td>\n",
       "      <td>0.951901</td>\n",
       "      <td>339.113281</td>\n",
       "      <td>444.314087</td>\n",
       "      <td>0.923945</td>\n",
       "      <td>265.891937</td>\n",
       "      <td>433.667084</td>\n",
       "      <td>0.976055</td>\n",
       "      <td>599.991903</td>\n",
       "    </tr>\n",
       "    <tr>\n",
       "      <th>95421</th>\n",
       "      <td>1</td>\n",
       "      <td>-0.000061</td>\n",
       "      <td>-14.091182</td>\n",
       "      <td>1.449288</td>\n",
       "      <td>True</td>\n",
       "      <td>654.963684</td>\n",
       "      <td>494.837524</td>\n",
       "      <td>0.999649</td>\n",
       "      <td>629.970581</td>\n",
       "      <td>478.606720</td>\n",
       "      <td>...</td>\n",
       "      <td>409.819489</td>\n",
       "      <td>459.074493</td>\n",
       "      <td>0.952734</td>\n",
       "      <td>339.182343</td>\n",
       "      <td>447.618530</td>\n",
       "      <td>0.891876</td>\n",
       "      <td>264.427094</td>\n",
       "      <td>435.803558</td>\n",
       "      <td>0.976587</td>\n",
       "      <td>599.998191</td>\n",
       "    </tr>\n",
       "    <tr>\n",
       "      <th>95422</th>\n",
       "      <td>1</td>\n",
       "      <td>-0.000062</td>\n",
       "      <td>-14.079349</td>\n",
       "      <td>1.454791</td>\n",
       "      <td>True</td>\n",
       "      <td>655.257690</td>\n",
       "      <td>499.025238</td>\n",
       "      <td>0.999884</td>\n",
       "      <td>628.855164</td>\n",
       "      <td>482.637543</td>\n",
       "      <td>...</td>\n",
       "      <td>410.313782</td>\n",
       "      <td>463.134460</td>\n",
       "      <td>0.938446</td>\n",
       "      <td>339.174530</td>\n",
       "      <td>451.175079</td>\n",
       "      <td>0.938536</td>\n",
       "      <td>262.817810</td>\n",
       "      <td>439.732269</td>\n",
       "      <td>0.962361</td>\n",
       "      <td>600.004479</td>\n",
       "    </tr>\n",
       "  </tbody>\n",
       "</table>\n",
       "<p>95423 rows × 48 columns</p>\n",
       "</div>"
      ],
      "text/plain": [
       "bodyparts DLC_filter     motor                      edge_filter  \\\n",
       "coords           pos         z          y         x          ok   \n",
       "0                  1  0.000000   8.993996 -7.050400        True   \n",
       "1                  1 -0.000137   9.084572 -7.089576        True   \n",
       "2                  1  0.000000   9.179195 -7.108448        True   \n",
       "3                  1  0.000000   9.258852 -7.098520        True   \n",
       "4                  1 -0.000013   9.320093 -7.081586        True   \n",
       "...              ...       ...        ...       ...         ...   \n",
       "95418              1 -0.000008 -14.071809  1.439044        True   \n",
       "95419              1 -0.000007 -14.078636  1.439372        True   \n",
       "95420              1 -0.000030 -14.090004  1.441478        True   \n",
       "95421              1 -0.000061 -14.091182  1.449288        True   \n",
       "95422              1 -0.000062 -14.079349  1.454791        True   \n",
       "\n",
       "bodyparts left_eye_anterior                        left_eye_posterior  \\\n",
       "coords                    x           y likelihood                  x   \n",
       "0                653.235962  549.867249   0.999891         647.881470   \n",
       "1                654.368347  548.662109   0.999896         649.363464   \n",
       "2                658.328735  546.076904   0.999923         653.924377   \n",
       "3                662.999084  541.763550   0.999913         658.501892   \n",
       "4                665.398071  538.954529   0.999740         661.073425   \n",
       "...                     ...         ...        ...                ...   \n",
       "95418            657.147705  496.601166   0.999910         631.599121   \n",
       "95419            656.905640  500.566345   0.999921         629.901917   \n",
       "95420            656.891174  493.824280   0.999766         630.628845   \n",
       "95421            654.963684  494.837524   0.999649         629.970581   \n",
       "95422            655.257690  499.025238   0.999884         628.855164   \n",
       "\n",
       "bodyparts              ...      tail_2                             tail_3  \\\n",
       "coords              y  ...           x           y likelihood           x   \n",
       "0          519.701050  ...  550.919128  328.616638   0.962139  505.450104   \n",
       "1          518.040771  ...  553.069946  323.318237   0.921706  515.273926   \n",
       "2          515.740967  ...  554.070068  322.324982   0.863583  524.936035   \n",
       "3          511.638153  ...  552.845642  316.216949   0.945818  530.994629   \n",
       "4          508.786987  ...  548.529724  316.224487   0.965356  528.076477   \n",
       "...               ...  ...         ...         ...        ...         ...   \n",
       "95418      480.128876  ...  409.898468  460.453949   0.947792  339.952942   \n",
       "95419      483.825745  ...  411.091217  464.196686   0.948581  340.129059   \n",
       "95420      476.978973  ...  409.606689  457.396301   0.951901  339.113281   \n",
       "95421      478.606720  ...  409.819489  459.074493   0.952734  339.182343   \n",
       "95422      482.637543  ...  410.313782  463.134460   0.938446  339.174530   \n",
       "\n",
       "bodyparts                             tail_4                         \\\n",
       "coords              y likelihood           x           y likelihood   \n",
       "0          277.608337   0.923167  439.471039  239.365433   0.970800   \n",
       "1          267.767639   0.920416  444.348114  245.641525   0.980387   \n",
       "2          261.235168   0.891188  461.540009  236.261642   0.980165   \n",
       "3          256.552765   0.936800  476.081390  216.947006   0.973007   \n",
       "4          252.677872   0.929202  485.563690  199.774689   0.969979   \n",
       "...               ...        ...         ...         ...        ...   \n",
       "95418      448.836517   0.909682  265.793488  437.260010   0.979386   \n",
       "95419      452.161926   0.934786  265.808929  440.797913   0.942461   \n",
       "95420      444.314087   0.923945  265.891937  433.667084   0.976055   \n",
       "95421      447.618530   0.891876  264.427094  435.803558   0.976587   \n",
       "95422      451.175079   0.938536  262.817810  439.732269   0.962361   \n",
       "\n",
       "bodyparts           t  \n",
       "coords                 \n",
       "0           -0.013963  \n",
       "1           -0.007675  \n",
       "2           -0.001387  \n",
       "3            0.004901  \n",
       "4            0.011189  \n",
       "...               ...  \n",
       "95418      599.979327  \n",
       "95419      599.985615  \n",
       "95420      599.991903  \n",
       "95421      599.998191  \n",
       "95422      600.004479  \n",
       "\n",
       "[95423 rows x 48 columns]"
      ]
     },
     "execution_count": 28,
     "metadata": {},
     "output_type": "execute_result"
    }
   ],
   "source": [
    "df_tmp"
   ]
  },
  {
   "cell_type": "code",
   "execution_count": null,
   "id": "6692291b-695e-45e4-b472-e4ccdb58bd65",
   "metadata": {},
   "outputs": [],
   "source": []
  }
 ],
 "metadata": {
  "kernelspec": {
   "display_name": "Python 3 (ipykernel)",
   "language": "python",
   "name": "python3"
  },
  "language_info": {
   "codemirror_mode": {
    "name": "ipython",
    "version": 3
   },
   "file_extension": ".py",
   "mimetype": "text/x-python",
   "name": "python",
   "nbconvert_exporter": "python",
   "pygments_lexer": "ipython3",
   "version": "3.11.5"
  }
 },
 "nbformat": 4,
 "nbformat_minor": 5
}
