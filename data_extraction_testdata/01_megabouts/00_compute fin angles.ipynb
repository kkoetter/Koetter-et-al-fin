{
 "cells": [
  {
   "cell_type": "code",
   "execution_count": 1,
   "metadata": {},
   "outputs": [],
   "source": [
    "%load_ext autoreload \n",
    "%autoreload 2"
   ]
  },
  {
   "cell_type": "code",
   "execution_count": 2,
   "metadata": {},
   "outputs": [
    {
     "name": "stderr",
     "output_type": "stream",
     "text": [
      "C:\\Users\\admin\\AppData\\Local\\Temp\\ipykernel_18188\\1709915033.py:2: DeprecationWarning: \n",
      "Pyarrow will become a required dependency of pandas in the next major release of pandas (pandas 3.0),\n",
      "(to allow more performant data types, such as the Arrow string type, and better interoperability with other libraries)\n",
      "but was not found to be installed on your system.\n",
      "If this would cause problems for you,\n",
      "please provide us feedback at https://github.com/pandas-dev/pandas/issues/54466\n",
      "        \n",
      "  import pandas as pd\n"
     ]
    }
   ],
   "source": [
    "import numpy as np\n",
    "import pandas as pd\n",
    "import h5py\n",
    "from pathlib import Path\n",
    "\n",
    "import matplotlib.pyplot as plt\n",
    "from mpl_toolkits import mplot3d\n",
    "import matplotlib.gridspec as gridspec\n",
    "from matplotlib.colors import LinearSegmentedColormap\n",
    "from matplotlib import colors\n",
    "import seaborn as sns\n",
    "\n",
    "import flammkuchen as fl\n",
    "from scipy.interpolate import interp1d"
   ]
  },
  {
   "cell_type": "code",
   "execution_count": 19,
   "metadata": {},
   "outputs": [],
   "source": [
    "from mb_helper import compute_angle_between_vect_tail, compute_angle_between_vect, exptrapolate_segments, mid_head, midpoint\n",
    "from mb_helper import tail_angles, fin_preprocess, calculate_angles, compute_body_angle\n",
    "from mb_helper import labels_cat, color"
   ]
  },
  {
   "cell_type": "code",
   "execution_count": 20,
   "metadata": {},
   "outputs": [
    {
     "name": "stdout",
     "output_type": "stream",
     "text": [
      "cpu\n"
     ]
    }
   ],
   "source": [
    "import torch\n",
    "device = torch.device('cuda' if torch.cuda.is_available() else 'cpu')\n",
    "print(device)"
   ]
  },
  {
   "attachments": {},
   "cell_type": "markdown",
   "metadata": {},
   "source": [
    "# Load Bouts"
   ]
  },
  {
   "cell_type": "code",
   "execution_count": 21,
   "metadata": {},
   "outputs": [
    {
     "data": {
      "text/plain": [
       "[WindowsPath('//portulab.synology.me/data/Kata/Figures_Paper/Koetter-et-al_data/Testdata/Raw_Data/240423_f0')]"
      ]
     },
     "execution_count": 21,
     "metadata": {},
     "output_type": "execute_result"
    }
   ],
   "source": [
    "master_path = Path(Path(r'\\\\portulab.synology.me\\data\\Kata\\Figures_Paper\\Koetter-et-al_data\\Testdata') / 'Raw_Data')\n",
    "out_path = Path(master_path/'Processed_Data')\n",
    "fish_paths = list(master_path.glob('*f[0-9]*'))\n",
    "fish_paths"
   ]
  },
  {
   "cell_type": "code",
   "execution_count": 22,
   "metadata": {},
   "outputs": [
    {
     "data": {
      "text/plain": [
       "('testfish', '240423_f0')"
      ]
     },
     "execution_count": 22,
     "metadata": {},
     "output_type": "execute_result"
    }
   ],
   "source": [
    "fish= 0\n",
    "fish_path = fish_paths[fish]\n",
    "fish_id =  fish_paths[fish].name#[:-13]\n",
    "exp_name = Path(fish_paths[fish]).parts[-2]\n",
    "exp_name = 'testfish'\n",
    "exp_name, fish_id"
   ]
  },
  {
   "cell_type": "markdown",
   "metadata": {},
   "source": [
    "### Load DLC"
   ]
  },
  {
   "cell_type": "code",
   "execution_count": 23,
   "metadata": {},
   "outputs": [
    {
     "data": {
      "text/plain": [
       "(95423, 2, 2, 2)"
      ]
     },
     "execution_count": 23,
     "metadata": {},
     "output_type": "execute_result"
    }
   ],
   "source": [
    "### Load and replace eye data\n",
    "#t, left eye [0], right eye [1], endpoints of eye vector end points (point1xy, point2xy) for anterior and posterior\n",
    "eye_coords = fl.load(fish_path/'eye_coords.h5')['eye_coords']\n",
    "eye_coords.shape"
   ]
  },
  {
   "cell_type": "code",
   "execution_count": 24,
   "metadata": {},
   "outputs": [],
   "source": [
    "left_eye_points = np.asarray(eye_coords)[:,0]\n",
    "right_eye_points = np.asarray(eye_coords)[:,1]\n",
    "\n",
    "l_anterior = np.asarray(left_eye_points[:,0])\n",
    "l_posterior = np.asarray(left_eye_points[:,1])\n",
    "\n",
    "left_eye_anterior_x = []\n",
    "left_eye_anterior_y = []\n",
    "left_eye_posterior_x = []\n",
    "left_eye_posterior_y = []\n",
    "for i in range(l_anterior.shape[0]):\n",
    "    left_eye_anterior_x.append(l_anterior[i][0])\n",
    "    left_eye_anterior_y.append(l_anterior[i][1])\n",
    "    left_eye_posterior_x.append(l_posterior[i][0])\n",
    "    left_eye_posterior_y.append(l_posterior[i][1])\n",
    "    \n",
    "r_anterior = np.asarray(right_eye_points[:,0])\n",
    "r_posterior = np.asarray(right_eye_points[:,1])\n",
    "\n",
    "right_eye_anterior_x = []\n",
    "right_eye_anterior_y = []\n",
    "right_eye_posterior_x = []\n",
    "right_eye_posterior_y = []\n",
    "for i in range(r_anterior.shape[0]):\n",
    "    right_eye_anterior_x.append(r_anterior[i][0])\n",
    "    right_eye_anterior_y.append(r_anterior[i][1])\n",
    "    right_eye_posterior_x.append(r_posterior[i][0])\n",
    "    right_eye_posterior_y.append(r_posterior[i][1])\n",
    "    "
   ]
  },
  {
   "cell_type": "markdown",
   "metadata": {},
   "source": [
    "### Load DLC and preprocess"
   ]
  },
  {
   "cell_type": "code",
   "execution_count": 25,
   "metadata": {},
   "outputs": [],
   "source": [
    "fps=200\n",
    "mm_per_unit = 1/70\n",
    "N_seg = 10\n",
    "N = eye_coords.shape[0]"
   ]
  },
  {
   "cell_type": "code",
   "execution_count": 26,
   "metadata": {},
   "outputs": [
    {
     "name": "stdout",
     "output_type": "stream",
     "text": [
      "7.9519166666666665 minutes at 200 fps\n",
      "working on 95423 frames\n"
     ]
    }
   ],
   "source": [
    "\n",
    "df = pd.read_csv(out_path/ '{}_DLC.csv'.format(fish_id), header=[0,1])\n",
    "print(f'{df.shape[0]/(fps*60)} minutes at {fps} fps')\n",
    "print('working on {} frames'.format(df.shape[0]))\n",
    "\n",
    "#Extract angles\n",
    "body_x = df.body.values[:, 0].astype('float')\n",
    "body_y = df.body.values[:, 1].astype('float')\n",
    "\n",
    "tail_x_col = [f'tail_{i}' for i in range(5)]\n",
    "tail_y_col = [f'tail_{i}' for i in range(5)]\n",
    "tail_x = np.array([df[x].iloc[:, 0].values.astype('float') for x in tail_x_col])\n",
    "tail_y = np.array([df[x].iloc[:, 1].values.astype('float') for x in tail_y_col])\n",
    "\n",
    "# upsample tail to 10 segments\n",
    "tail_x_10, tail_y_10 = exptrapolate_segments(tail_x, tail_y, N_seg)\n"
   ]
  },
  {
   "cell_type": "code",
   "execution_count": 27,
   "metadata": {},
   "outputs": [
    {
     "data": {
      "text/plain": [
       "(11, 95423)"
      ]
     },
     "execution_count": 27,
     "metadata": {},
     "output_type": "execute_result"
    }
   ],
   "source": [
    "tail_x_10.shape"
   ]
  },
  {
   "cell_type": "code",
   "execution_count": 28,
   "metadata": {},
   "outputs": [],
   "source": [
    "## replace eyes and recompute mid head"
   ]
  },
  {
   "cell_type": "code",
   "execution_count": 29,
   "metadata": {},
   "outputs": [],
   "source": [
    "mid_headx, mid_heady, left_mid_eye_x, left_mid_eye_y, right_mid_eye_x, right_mid_eye_y = mid_head(\n",
    "             np.asarray(right_eye_posterior_x), np.asarray(right_eye_posterior_y),\n",
    "             np.asarray(right_eye_anterior_x), np.asarray(right_eye_anterior_y),\n",
    "             np.asarray(left_eye_posterior_x), np.asarray(left_eye_posterior_y),\n",
    "             np.asarray(left_eye_anterior_x), np.asarray(left_eye_anterior_y))\n"
   ]
  },
  {
   "cell_type": "code",
   "execution_count": 36,
   "metadata": {},
   "outputs": [],
   "source": [
    "head_x = mid_headx\n",
    "head_y = mid_heady"
   ]
  },
  {
   "cell_type": "code",
   "execution_count": 37,
   "metadata": {},
   "outputs": [
    {
     "data": {
      "text/plain": [
       "((95423,), (95423,))"
      ]
     },
     "execution_count": 37,
     "metadata": {},
     "output_type": "execute_result"
    }
   ],
   "source": [
    "head_x.shape, head_y.shape"
   ]
  },
  {
   "cell_type": "markdown",
   "metadata": {},
   "source": [
    "### compute body angle"
   ]
  },
  {
   "cell_type": "code",
   "execution_count": 43,
   "metadata": {},
   "outputs": [],
   "source": [
    "angles_radians, body_angle = compute_body_angle(head_x, head_y, body_x, body_y)"
   ]
  },
  {
   "cell_type": "code",
   "execution_count": 47,
   "metadata": {},
   "outputs": [
    {
     "name": "stdout",
     "output_type": "stream",
     "text": [
      "corr fins\n"
     ]
    }
   ],
   "source": [
    "left_fin_vect, right_fin_vect, left_fin_angle, right_fin_angle = fin_preprocess(df, angles_radians, mid_headx, mid_heady, tail_x_10, tail_y_10)"
   ]
  },
  {
   "cell_type": "code",
   "execution_count": 59,
   "metadata": {},
   "outputs": [],
   "source": [
    "fl.save(master_path/'body_angle.h5',  angles_radians)\n",
    "fl.save(master_path/'fin_angles.h5',  np.asarray([left_fin_angle, right_fin_angle]).T)"
   ]
  },
  {
   "cell_type": "code",
   "execution_count": null,
   "metadata": {},
   "outputs": [],
   "source": []
  }
 ],
 "metadata": {
  "kernelspec": {
   "display_name": "Python 3 (ipykernel)",
   "language": "python",
   "name": "python3"
  },
  "language_info": {
   "codemirror_mode": {
    "name": "ipython",
    "version": 3
   },
   "file_extension": ".py",
   "mimetype": "text/x-python",
   "name": "python",
   "nbconvert_exporter": "python",
   "pygments_lexer": "ipython3",
   "version": "3.11.5"
  },
  "vscode": {
   "interpreter": {
    "hash": "945ab21136d100d39eb08c79ef7fc552f9de38f223a833a821377820191bf364"
   }
  }
 },
 "nbformat": 4,
 "nbformat_minor": 4
}
