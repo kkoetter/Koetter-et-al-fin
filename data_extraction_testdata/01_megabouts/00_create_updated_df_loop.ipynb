{
 "cells": [
  {
   "cell_type": "code",
   "execution_count": 1,
   "metadata": {},
   "outputs": [],
   "source": [
    "%load_ext autoreload \n",
    "%autoreload 2"
   ]
  },
  {
   "cell_type": "code",
   "execution_count": 2,
   "metadata": {},
   "outputs": [],
   "source": [
    "import numpy as np\n",
    "import pandas as pd\n",
    "import h5py\n",
    "from pathlib import Path\n",
    "\n",
    "import pandas as pd\n",
    "import numpy as np\n",
    "import flammkuchen as fl\n",
    "\n",
    "from tqdm import tqdm"
   ]
  },
  {
   "cell_type": "code",
   "execution_count": 3,
   "metadata": {},
   "outputs": [],
   "source": [
    "# from dlc_prepocess_helper import *"
   ]
  },
  {
   "cell_type": "code",
   "execution_count": 4,
   "metadata": {},
   "outputs": [],
   "source": [
    "import numpy as np\n",
    "import pandas as pd\n",
    "from scipy.interpolate import interp1d\n",
    "\n",
    "def are_points_in_circle(points, a, b, r):\n",
    "    # calculate the distance from each point to the center of the circle\n",
    "    distances = (points[:, 0] - a)**2 + (points[:, 1] - b)**2\n",
    "\n",
    "    # check if the distances are less than or equal to the square of the radius\n",
    "    return distances <= r**2\n",
    "\n",
    "def resample(df, df2):\n",
    "    #df gets resampled to df2\n",
    "    df1 =df.copy()\n",
    "    resampled_df = pd.DataFrame(np.zeros((df2.shape[0], df1.shape[1])), columns=df1.columns)\n",
    "\n",
    "    for i in df1.columns:\n",
    "        interpolated_data = np.interp(df2.t, df1.t, df1[i])\n",
    "        resampled_df[i] = interpolated_data\n",
    "\n",
    "    return resampled_df\n",
    "\n",
    "def exptrapolate_segments(tail_x, tail_y, N_seg):\n",
    "    T = tail_x.shape[1]\n",
    "    tail_x_10 = np.zeros((N_seg+1,T))\n",
    "    tail_y_10 = np.zeros((N_seg+1,T))\n",
    "\n",
    "    for i in range(T):\n",
    "        points = np.array([tail_x[:,i],tail_y[:,i]]).T  # a (nbre_points x nbre_dim) array\n",
    "\n",
    "        alpha = np.linspace(0, 1, 11)\n",
    "        # Linear length along the line:\n",
    "        distance = np.cumsum( np.sqrt(np.sum( np.diff(points, axis=0)**2, axis=1 )) )\n",
    "        distance = np.insert(distance, 0, 0)/distance[-1]\n",
    "        interpolator =  interp1d(distance, points, kind='cubic', axis=0)\n",
    "        curve = interpolator(alpha)\n",
    "        tail_x_10[:,i] = curve[:,0]\n",
    "        tail_y_10[:,i] = curve[:,1]\n",
    "    return tail_x_10, tail_y_10\n",
    "\n",
    "def midpoint(x1, y1, x2, y2):\n",
    "    return ((x1 + x2)/2, (y1 + y2)/2)\n",
    "\n",
    "def mid_head(right_eye_posterior_x, right_eye_posterior_y,\n",
    "             right_eye_anterior_x, right_eye_anterior_y,\n",
    "             left_eye_posterior_x, left_eye_posterior_y,\n",
    "             left_eye_anterior_x, left_eye_anterior_y\n",
    "):\n",
    "    left_mid_eye_y = (left_eye_anterior_y+left_eye_posterior_y)/2\n",
    "    left_mid_eye_x = (left_eye_anterior_x+left_eye_posterior_x)/2\n",
    "\n",
    "    right_mid_eye_x = (right_eye_anterior_x+right_eye_posterior_x)/2\n",
    "    right_mid_eye_y = (right_eye_anterior_y+right_eye_posterior_y)/2\n",
    "\n",
    "    mid_headx, mid_heady = midpoint(left_mid_eye_x,left_mid_eye_y, right_mid_eye_x, right_mid_eye_y) #xy left, xy right\n",
    "\n",
    "    return mid_headx, mid_heady, left_mid_eye_x, left_mid_eye_y, right_mid_eye_x, right_mid_eye_y\n",
    "\n",
    "def get_eye_points(eye_coords):\n",
    "    # (18900, 1, 2, 2, 2) or (18900, 2, 2, 2)\n",
    "    left_eye_points = np.asarray(eye_coords)[:,0]\n",
    "    right_eye_points = np.asarray(eye_coords)[:,1]\n",
    "    \n",
    "    l_anterior = np.asarray(left_eye_points[:,0])\n",
    "    l_posterior = np.asarray(left_eye_points[:,1])\n",
    "    \n",
    "    left_eye_anterior_x = []\n",
    "    left_eye_anterior_y = []\n",
    "    left_eye_posterior_x = []\n",
    "    left_eye_posterior_y = []\n",
    "    for i in range(l_anterior.shape[0]):\n",
    "        left_eye_anterior_x.append(l_anterior[i][0])\n",
    "        left_eye_anterior_y.append(l_anterior[i][1])\n",
    "        left_eye_posterior_x.append(l_posterior[i][0])\n",
    "        left_eye_posterior_y.append(l_posterior[i][1])\n",
    "        \n",
    "    r_anterior = np.asarray(right_eye_points[:,0])\n",
    "    r_posterior = np.asarray(right_eye_points[:,1])\n",
    "    \n",
    "    right_eye_anterior_x = []\n",
    "    right_eye_anterior_y = []\n",
    "    right_eye_posterior_x = []\n",
    "    right_eye_posterior_y = []\n",
    "    for i in range(r_anterior.shape[0]):\n",
    "        right_eye_anterior_x.append(r_anterior[i][0])\n",
    "        right_eye_anterior_y.append(r_anterior[i][1])\n",
    "        right_eye_posterior_x.append(r_posterior[i][0])\n",
    "        right_eye_posterior_y.append(r_posterior[i][1])\n",
    "\n",
    "    return  left_eye_anterior_x, left_eye_anterior_y, left_eye_posterior_x, left_eye_posterior_y, right_eye_anterior_x, right_eye_anterior_y, right_eye_posterior_x, right_eye_posterior_y,\n",
    "\n",
    "\n",
    "def compute_angle_between_vect_tail(v1, v2):\n",
    "    dot = np.einsum('ijk,ijk->ij',[v1,v1,v2],[v2,v1,v2])\n",
    "    cos_= dot[0,:]\n",
    "    sin_= np.cross(v1,v2)\n",
    "    angle_= np.arctan2(sin_,cos_)\n",
    "    return angle_\n",
    "\n",
    "\n",
    "def compute_angle_between_vect(u,v):\n",
    "    u = u/np.linalg.norm(u)\n",
    "    v = v/np.linalg.norm(v)\n",
    "    return np.arctan2(u[0]*v[1]-u[1]*v[0],u[0]*v[0]+u[1]*v[1])\n",
    "\n",
    "def compute_body_angle(head_x, head_y, body_x, body_y):\n",
    "    \"\"\"\n",
    "    Computes the angle between two points in 2D space.\n",
    "    \n",
    "    Parameters:\n",
    "    head_x, head_y: Coordinates of the first point (head).\n",
    "    body_x, body_y: Coordinates of the second point (body).\n",
    "    \n",
    "    Returns:\n",
    "    angles_radians: The angle in radians.\n",
    "    angles_degrees: The angle in degrees.\n",
    "    \"\"\"\n",
    "    # Calculate the differences in the x and y coordinates\n",
    "    delta_x = body_x - head_x\n",
    "    delta_y = body_y - head_y\n",
    "\n",
    "    # Calculate the angle using numpy's arctan2\n",
    "    angles_radians = np.arctan2(delta_y, delta_x)\n",
    "\n",
    "    # Convert the angle from radians to degrees\n",
    "    angles_degrees = np.degrees(angles_radians)\n",
    "\n",
    "    return angles_radians, angles_degrees\n",
    "\n",
    "\n",
    "### compute fin and body angles\n",
    "def fin_preprocess(df, mid_headx, mid_heady, body_x, body_y):\n",
    "    ##Fin angle computatright\n",
    "    #Fin angle computatright\n",
    "    right_fin_tip_x =  df['right_fin_tip'].values[:, 0].astype('float')\n",
    "    right_fin_tip_y =  df['right_fin_tip'].values[:, 1].astype('float')\n",
    "    right_fin_base_x =  df['right_fin_base'].values[:, 0].astype('float')\n",
    "    right_fin_base_y =  df['right_fin_base'].values[:, 1].astype('float')\n",
    "\n",
    "    left_fin_tip_x =  df['left_fin_tip'].values[:, 0].astype('float')\n",
    "    left_fin_tip_y =  df['left_fin_tip'].values[:, 1].astype('float')\n",
    "    left_fin_base_x =   df['left_fin_base'].values[:, 0].astype('float')\n",
    "    left_fin_base_y =   df['left_fin_base'].values[:, 1].astype('float')\n",
    "\n",
    "    # lets make all the vectors\n",
    "    a = left_fin_base_x-left_fin_tip_x\n",
    "    b = left_fin_base_y-left_fin_tip_y\n",
    "    left_fin_vect = np.array([b,-a])\n",
    "\n",
    "    a = right_fin_base_x-right_fin_tip_x \n",
    "    b = right_fin_base_y-right_fin_tip_y\n",
    "    right_fin_vect = np.array([-b,a])\n",
    "\n",
    "    body_vect = np.vstack((mid_headx -body_x , mid_heady - body_y)) \n",
    "\n",
    "    ## Compute angles between vectors\n",
    "    left_fin_angle =  compute_angle_between_vect(left_fin_vect, body_vect)\n",
    "    right_fin_angle =  compute_angle_between_vect(right_fin_vect, body_vect)\n",
    "\n",
    "    #nan movement artifacts\n",
    "    left_fin_angle = left_fin_angle - left_fin_angle[0]\n",
    "    right_fin_angle = right_fin_angle - right_fin_angle[0]\n",
    "    left_fin_angle[abs(np.diff(left_fin_angle, prepend=[0])) >= 2] = 0 #np.nan #np.pi\n",
    "    right_fin_angle[abs(np.diff(right_fin_angle, prepend=[0])) >= 2] = 0 #np.nan #np.pi\n",
    "    \n",
    "    return left_fin_vect, right_fin_vect, left_fin_angle, right_fin_angle"
   ]
  },
  {
   "attachments": {},
   "cell_type": "markdown",
   "metadata": {},
   "source": [
    "# Load Bouts"
   ]
  },
  {
   "cell_type": "code",
   "execution_count": 5,
   "metadata": {},
   "outputs": [],
   "source": [
    "# master_path = Path(r'\\\\portulab.synology.me\\data\\Kata\\testdata\\Raw_Data')\n",
    "\n",
    "# fish_paths = list(master_path.glob('*f[0-9]*'))\n",
    "# fish_paths, len(fish_paths)\n"
   ]
  },
  {
   "cell_type": "code",
   "execution_count": 6,
   "metadata": {},
   "outputs": [],
   "source": [
    "## Analysed for paper\n",
    "\n",
    "# master_path = Path(r\"\\\\portulab.synology.me\\data\\Kata\\Data\\230307_visstim_2D\") #rectangular arena # start from fish 1\n",
    "# master_path = Path(r\"\\\\portulab.synology.me\\data\\Kata\\Data\\22042024_visstim_2D_round\")\n",
    "master_path = Path(r\"\\\\portulab.synology.me\\data\\Kata\\Data\\22042024_visstim_2D_2\") #rectangular arena\n",
    "# master_path = Path(r\"\\\\portulab.synology.me\\data\\Kata\\Data\\13052024_visstim_2D_round\")\n",
    "# master_path = Path(r\"\\\\portulab.synology.me\\data\\Kata\\Data\\14052024_visstim_2D_round\")"
   ]
  },
  {
   "cell_type": "code",
   "execution_count": 7,
   "metadata": {},
   "outputs": [
    {
     "data": {
      "text/plain": [
       "([WindowsPath('//portulab.synology.me/data/Kata/Data/22042024_visstim_2D_2/240422_f0'),\n",
       "  WindowsPath('//portulab.synology.me/data/Kata/Data/22042024_visstim_2D_2/240422_f0_1'),\n",
       "  WindowsPath('//portulab.synology.me/data/Kata/Data/22042024_visstim_2D_2/240422_f0_2'),\n",
       "  WindowsPath('//portulab.synology.me/data/Kata/Data/22042024_visstim_2D_2/240422_f1'),\n",
       "  WindowsPath('//portulab.synology.me/data/Kata/Data/22042024_visstim_2D_2/240422_f1_1'),\n",
       "  WindowsPath('//portulab.synology.me/data/Kata/Data/22042024_visstim_2D_2/240422_f2'),\n",
       "  WindowsPath('//portulab.synology.me/data/Kata/Data/22042024_visstim_2D_2/240422_f3'),\n",
       "  WindowsPath('//portulab.synology.me/data/Kata/Data/22042024_visstim_2D_2/240422_f4'),\n",
       "  WindowsPath('//portulab.synology.me/data/Kata/Data/22042024_visstim_2D_2/240422_f5'),\n",
       "  WindowsPath('//portulab.synology.me/data/Kata/Data/22042024_visstim_2D_2/240422_f6'),\n",
       "  WindowsPath('//portulab.synology.me/data/Kata/Data/22042024_visstim_2D_2/240422_f7'),\n",
       "  WindowsPath('//portulab.synology.me/data/Kata/Data/22042024_visstim_2D_2/240422_f8'),\n",
       "  WindowsPath('//portulab.synology.me/data/Kata/Data/22042024_visstim_2D_2/240422_f9')],\n",
       " 13)"
      ]
     },
     "execution_count": 7,
     "metadata": {},
     "output_type": "execute_result"
    }
   ],
   "source": [
    "fish_paths = list(master_path.glob('*f[0-9]*'))\n",
    "fish_paths, len(fish_paths)\n"
   ]
  },
  {
   "cell_type": "code",
   "execution_count": 8,
   "metadata": {},
   "outputs": [
    {
     "data": {
      "text/plain": [
       "('22042024_visstim_2D_2', '240422_f1')"
      ]
     },
     "execution_count": 8,
     "metadata": {},
     "output_type": "execute_result"
    }
   ],
   "source": [
    "fish= 3\n",
    "fish_path = fish_paths[fish]\n",
    "fish_id =  fish_paths[fish].name#[:-13]\n",
    "exp_name = Path(fish_paths[fish]).parts[-2]\n",
    "# exp_name = 'testfish'\n",
    "exp_name, fish_id"
   ]
  },
  {
   "cell_type": "code",
   "execution_count": 9,
   "metadata": {},
   "outputs": [],
   "source": [
    "# out_path = Path(r'\\\\portulab.synology.me\\data\\Kata\\testdata\\Processed_Data')"
   ]
  },
  {
   "cell_type": "code",
   "execution_count": 10,
   "metadata": {},
   "outputs": [],
   "source": [
    "## Analysed for paper\n",
    "\n",
    "# out_path = Path(r\"\\\\portulab.synology.me\\data\\Kata\\Processed_Data\\230307_visstim_2D_\")\n",
    "# out_path = Path(r\"\\\\portulab.synology.me\\data\\Kata\\Processed_Data\\22042024_visstim_2D_round_\")\n",
    "out_path = Path(r\"\\\\portulab.synology.me\\data\\Kata\\Processed_Data\\22042024_visstim_2D_2_\")\n",
    "# out_path = Path(r\"\\\\portulab.synology.me\\data\\Kata\\Processed_Data\\13052024_visstim_2D_round_\")\n",
    "# out_path = Path(r\"\\\\portulab.synology.me\\data\\Kata\\Processed_Data\\14052024_visstim_2D_round_\")\n"
   ]
  },
  {
   "cell_type": "code",
   "execution_count": 11,
   "metadata": {},
   "outputs": [],
   "source": [
    "round_arena= False #True\n",
    "thresh = 0.99"
   ]
  },
  {
   "cell_type": "code",
   "execution_count": 12,
   "metadata": {},
   "outputs": [],
   "source": [
    "fps=200\n",
    "mm_per_unit = 1/70\n",
    "N_seg = 10"
   ]
  },
  {
   "cell_type": "markdown",
   "metadata": {},
   "source": [
    "### Loop"
   ]
  },
  {
   "cell_type": "code",
   "execution_count": null,
   "metadata": {},
   "outputs": [
    {
     "name": "stderr",
     "output_type": "stream",
     "text": [
      "  0%|                                                                                           | 0/13 [00:00<?, ?it/s]"
     ]
    },
    {
     "name": "stdout",
     "output_type": "stream",
     "text": [
      "Working on fish 240422_f0\n",
      "9.354083333333334 minutes at 200 fps\n",
      "working on 112249 frames\n",
      "(112249, 2, 2, 2)\n",
      "rect arena\n"
     ]
    },
    {
     "name": "stderr",
     "output_type": "stream",
     "text": [
      "C:\\Users\\admin\\AppData\\Local\\Temp\\ipykernel_14372\\135503381.py:93: UserWarning: Boolean Series key will be reindexed to match DataFrame index.\n",
      "  filtered = filtered_x[(resampled.y >= y_lim_neg + margin ) & (resampled.y <= y_lim_pos - margin )]\n",
      "  8%|██████▍                                                                            | 1/13 [00:48<09:36, 48.05s/it]"
     ]
    },
    {
     "name": "stdout",
     "output_type": "stream",
     "text": [
      "Working on fish 240422_f0_1\n",
      "9.003 minutes at 200 fps\n",
      "working on 108036 frames\n",
      "(108036, 2, 2, 2)\n",
      "rect arena\n"
     ]
    },
    {
     "name": "stderr",
     "output_type": "stream",
     "text": [
      "C:\\Users\\admin\\AppData\\Local\\Temp\\ipykernel_14372\\135503381.py:93: UserWarning: Boolean Series key will be reindexed to match DataFrame index.\n",
      "  filtered = filtered_x[(resampled.y >= y_lim_neg + margin ) & (resampled.y <= y_lim_pos - margin )]\n",
      " 15%|████████████▊                                                                      | 2/13 [01:33<08:34, 46.77s/it]"
     ]
    },
    {
     "name": "stdout",
     "output_type": "stream",
     "text": [
      "Working on fish 240422_f0_2\n",
      "8.945666666666666 minutes at 200 fps\n",
      "working on 107348 frames\n",
      "(107348, 2, 2, 2)\n",
      "rect arena\n"
     ]
    },
    {
     "name": "stderr",
     "output_type": "stream",
     "text": [
      "C:\\Users\\admin\\AppData\\Local\\Temp\\ipykernel_14372\\135503381.py:93: UserWarning: Boolean Series key will be reindexed to match DataFrame index.\n",
      "  filtered = filtered_x[(resampled.y >= y_lim_neg + margin ) & (resampled.y <= y_lim_pos - margin )]\n",
      " 23%|███████████████████▏                                                               | 3/13 [02:19<07:41, 46.19s/it]"
     ]
    },
    {
     "name": "stdout",
     "output_type": "stream",
     "text": [
      "Working on fish 240422_f1\n",
      "8.753166666666667 minutes at 200 fps\n",
      "working on 105038 frames\n",
      "(105038, 2, 2, 2)\n",
      "rect arena\n"
     ]
    },
    {
     "name": "stderr",
     "output_type": "stream",
     "text": [
      "C:\\Users\\admin\\AppData\\Local\\Temp\\ipykernel_14372\\135503381.py:93: UserWarning: Boolean Series key will be reindexed to match DataFrame index.\n",
      "  filtered = filtered_x[(resampled.y >= y_lim_neg + margin ) & (resampled.y <= y_lim_pos - margin )]\n",
      " 31%|█████████████████████████▌                                                         | 4/13 [03:03<06:48, 45.35s/it]"
     ]
    },
    {
     "name": "stdout",
     "output_type": "stream",
     "text": [
      "Working on fish 240422_f1_1\n",
      "8.896666666666667 minutes at 200 fps\n",
      "working on 106760 frames\n",
      "(106760, 2, 2, 2)\n",
      "rect arena\n"
     ]
    },
    {
     "name": "stderr",
     "output_type": "stream",
     "text": [
      "C:\\Users\\admin\\AppData\\Local\\Temp\\ipykernel_14372\\135503381.py:93: UserWarning: Boolean Series key will be reindexed to match DataFrame index.\n",
      "  filtered = filtered_x[(resampled.y >= y_lim_neg + margin ) & (resampled.y <= y_lim_pos - margin )]\n",
      " 38%|███████████████████████████████▉                                                   | 5/13 [03:47<05:59, 44.97s/it]"
     ]
    },
    {
     "name": "stdout",
     "output_type": "stream",
     "text": [
      "Working on fish 240422_f2\n",
      "8.878916666666667 minutes at 200 fps\n",
      "working on 106547 frames\n",
      "(106547, 2, 2, 2)\n",
      "rect arena\n"
     ]
    },
    {
     "name": "stderr",
     "output_type": "stream",
     "text": [
      " 46%|██████████████████████████████████████▎                                            | 6/13 [04:32<05:13, 44.81s/it]"
     ]
    },
    {
     "name": "stdout",
     "output_type": "stream",
     "text": [
      "Working on fish 240422_f3\n",
      "7.849333333333333 minutes at 200 fps\n",
      "working on 94192 frames\n",
      "(94192, 2, 2, 2)\n",
      "rect arena\n"
     ]
    },
    {
     "name": "stderr",
     "output_type": "stream",
     "text": [
      "C:\\Users\\admin\\AppData\\Local\\Temp\\ipykernel_14372\\135503381.py:93: UserWarning: Boolean Series key will be reindexed to match DataFrame index.\n",
      "  filtered = filtered_x[(resampled.y >= y_lim_neg + margin ) & (resampled.y <= y_lim_pos - margin )]\n",
      " 54%|████████████████████████████████████████████▋                                      | 7/13 [05:11<04:17, 42.97s/it]"
     ]
    },
    {
     "name": "stdout",
     "output_type": "stream",
     "text": [
      "Working on fish 240422_f4\n",
      "9.144166666666667 minutes at 200 fps\n",
      "working on 109730 frames\n",
      "(109730, 2, 2, 2)\n",
      "rect arena\n"
     ]
    },
    {
     "name": "stderr",
     "output_type": "stream",
     "text": [
      "C:\\Users\\admin\\AppData\\Local\\Temp\\ipykernel_14372\\135503381.py:93: UserWarning: Boolean Series key will be reindexed to match DataFrame index.\n",
      "  filtered = filtered_x[(resampled.y >= y_lim_neg + margin ) & (resampled.y <= y_lim_pos - margin )]\n",
      " 62%|███████████████████████████████████████████████████                                | 8/13 [05:57<03:40, 44.01s/it]"
     ]
    },
    {
     "name": "stdout",
     "output_type": "stream",
     "text": [
      "Working on fish 240422_f5\n",
      "6.742416666666666 minutes at 200 fps\n",
      "working on 80909 frames\n",
      "(80909, 2, 2, 2)\n",
      "rect arena\n"
     ]
    },
    {
     "name": "stderr",
     "output_type": "stream",
     "text": [
      "C:\\Users\\admin\\AppData\\Local\\Temp\\ipykernel_14372\\135503381.py:93: UserWarning: Boolean Series key will be reindexed to match DataFrame index.\n",
      "  filtered = filtered_x[(resampled.y >= y_lim_neg + margin ) & (resampled.y <= y_lim_pos - margin )]\n",
      " 69%|█████████████████████████████████████████████████████████▍                         | 9/13 [06:31<02:43, 40.83s/it]"
     ]
    },
    {
     "name": "stdout",
     "output_type": "stream",
     "text": [
      "Working on fish 240422_f6\n",
      "7.639666666666667 minutes at 200 fps\n",
      "working on 91676 frames\n",
      "(91676, 2, 2, 2)\n",
      "rect arena\n"
     ]
    },
    {
     "name": "stderr",
     "output_type": "stream",
     "text": [
      "C:\\Users\\admin\\AppData\\Local\\Temp\\ipykernel_14372\\135503381.py:93: UserWarning: Boolean Series key will be reindexed to match DataFrame index.\n",
      "  filtered = filtered_x[(resampled.y >= y_lim_neg + margin ) & (resampled.y <= y_lim_pos - margin )]\n"
     ]
    }
   ],
   "source": [
    "\n",
    "for ind, fish_path in enumerate(tqdm(fish_paths)):\n",
    "    fish_id =  fish_path.name\n",
    "    print ('Working on fish {}'.format(fish_id))\n",
    "\n",
    "    filename = list(fish_path.glob('*316000.h5*'))[0]\n",
    "    df= pd.read_hdf(filename,  header=[1, 2], index_col=0)\n",
    "    df = df['DLC_resnet50_dlc_2Dec12shuffle1_316000']\n",
    "    print(f'{df.shape[0]/(fps*60)} minutes at {fps} fps')\n",
    "    print('working on {} frames'.format(df.shape[0]))\n",
    "    \n",
    "    #Extract angles\n",
    "    body_x = df.body.values[:, 0].astype('float')\n",
    "    body_y = df.body.values[:, 1].astype('float')\n",
    "    \n",
    "    tail_x_col = [f'tail_{i}' for i in range(5)]\n",
    "    tail_y_col = [f'tail_{i}' for i in range(5)]\n",
    "    tail_x = np.array([df[x].iloc[:, 0].values.astype('float') for x in tail_x_col])\n",
    "    tail_y = np.array([df[x].iloc[:, 1].values.astype('float') for x in tail_y_col])\n",
    "    \n",
    "    # upsample tail to 10 segments\n",
    "    tail_x_10, tail_y_10 = exptrapolate_segments(tail_x, tail_y, N_seg)\n",
    "\n",
    "    eye_coords = fl.load(fish_path/'eye_coords.h5')['eye_coords']\n",
    "    print (eye_coords.shape)\n",
    "    left_eye_anterior_x, left_eye_anterior_y, left_eye_posterior_x, left_eye_posterior_y, right_eye_anterior_x, right_eye_anterior_y, right_eye_posterior_x, right_eye_posterior_y = get_eye_points(eye_coords)\n",
    "\n",
    "    mid_headx, mid_heady, left_mid_eye_x, left_mid_eye_y, right_mid_eye_x, right_mid_eye_y = mid_head(\n",
    "             np.asarray(right_eye_posterior_x), np.asarray(right_eye_posterior_y),\n",
    "             np.asarray(right_eye_anterior_x), np.asarray(right_eye_anterior_y),\n",
    "             np.asarray(left_eye_posterior_x), np.asarray(left_eye_posterior_y),\n",
    "             np.asarray(left_eye_anterior_x), np.asarray(left_eye_anterior_y))\n",
    "\n",
    "    # Now, let's add 'head_x' and 'head_y' keypoints under 'head' with the same likelihood as 'body'\n",
    "    for i in range(11):\n",
    "        df[('tail_{}'.format(i), 'x')] = tail_x_10[i,:] \n",
    "        df[('tail_{}'.format(i), 'y')] = tail_y_10[i,:]\n",
    "        df[('tail_{}'.format(i), 'likelihood')] = df[('body', 'likelihood')] # Copy likelihood of body to head\n",
    "\n",
    "    df[('left_eye_anterior', 'x')] = left_eye_anterior_x \n",
    "    df[('left_eye_anterior', 'y')] = left_eye_anterior_y \n",
    "    \n",
    "    df[('left_eye_posterior', 'x')] = left_eye_posterior_x \n",
    "    df[('left_eye_posterior', 'y')] = left_eye_posterior_y \n",
    "    \n",
    "    df[('right_eye_anterior', 'x')] = right_eye_anterior_x \n",
    "    df[('right_eye_anterior', 'y')] = right_eye_anterior_y \n",
    "    \n",
    "    df[('right_eye_posterior', 'x')] = right_eye_posterior_x \n",
    "    df[('right_eye_posterior', 'y')] = right_eye_posterior_y \n",
    "\n",
    "    # Now, let's add 'head_x' and 'head_y' keypoints under 'head' with the same likelihood as 'body'\n",
    "    df[('mid_head', 'x')] = mid_headx \n",
    "    df[('mid_head', 'y')] = mid_heady \n",
    "    df[('mid_head', 'likelihood')] = df[('body', 'likelihood')] # Copy likelihood of body to head\n",
    "\n",
    "    motor_path = list(fish_path.glob('*motor_log.hdf5*'))[0]\n",
    "    motor_log = pd.read_hdf(motor_path)\n",
    "    tp = np.linspace(motor_log.t.iloc[0], motor_log.t.iloc[-1], df.shape[0])\n",
    "    df = df.copy()\n",
    "    df['t'] = tp\n",
    "    resampled = resample(motor_log, df)\n",
    "    motor_x = resampled.x.values.astype('float')\n",
    "    motor_y = resampled.y.values.astype('float')\n",
    "    motor_z = resampled.z.values.astype('float')\n",
    "    df.insert(0, (\"motor\", \"x\"), motor_x.T)\n",
    "    df.insert(0, (\"motor\", \"y\"), motor_y.T)\n",
    "    df.insert(0, (\"motor\", \"z\"), motor_z.T)\n",
    "\n",
    "    if round_arena:\n",
    "        print ('round arena')\n",
    "        mask  = fl.load(master_path / '{}_mask.csv'.format(exp_name))\n",
    "        #for round marks\n",
    "        margin = mask[-1]\n",
    "        center_x = mask[0]\n",
    "        center_y = mask[1]\n",
    "        radius = mask[2] \n",
    "    \n",
    "        points = np.column_stack((resampled.x,resampled.y))\n",
    "        to_fill = are_points_in_circle(points, center_x, center_y, radius)\n",
    "        df.insert(0, (\"edge_filter\", \"ok\"), to_fill)\n",
    "    else:\n",
    "        print ('rect arena')\n",
    "        # mask  = fl.load(fish_path/'filter'/'mask.csv'.format(exp_name))\n",
    "        mask  = fl.load(master_path/ 'mask.csv'.format(exp_name))\n",
    "        # for rectangular mask\n",
    "        margin = mask[4]\n",
    "        x_lim_neg = mask[0]\n",
    "        x_lim_pos = mask[1]\n",
    "        y_lim_neg = mask[2]\n",
    "        y_lim_pos = mask[3]\n",
    "        \n",
    "        filtered_x = resampled[(resampled.x >= x_lim_neg + margin ) & (resampled.x <= x_lim_pos - margin )]\n",
    "        filtered = filtered_x[(resampled.y >= y_lim_neg + margin ) & (resampled.y <= y_lim_pos - margin )]\n",
    "        indixes_ok = filtered.index.values\n",
    "        to_fill = np.full(resampled.shape[0], False)\n",
    "        to_fill[indixes_ok] = True\n",
    "        df.insert(0, (\"edge_filter\", \"ok\"), to_fill)\n",
    "\n",
    "    good_dlc_tracking = df[df.body.likelihood >=thresh].index.values\n",
    "    to_fill = np.full(df.shape[0],-1)\n",
    "    to_fill[good_dlc_tracking] = 1\n",
    "    df.insert(0, (\"DLC_filter\", \"pos\"), to_fill)\n",
    "\n",
    "    df.to_csv(out_path/ '{}_DLC_mod.csv'.format(fish_id))"
   ]
  },
  {
   "cell_type": "code",
   "execution_count": null,
   "metadata": {},
   "outputs": [],
   "source": [
    "print ('done')"
   ]
  },
  {
   "cell_type": "code",
   "execution_count": null,
   "metadata": {},
   "outputs": [],
   "source": [
    "df.head()"
   ]
  },
  {
   "cell_type": "code",
   "execution_count": null,
   "metadata": {},
   "outputs": [],
   "source": []
  },
  {
   "cell_type": "code",
   "execution_count": null,
   "metadata": {},
   "outputs": [],
   "source": []
  }
 ],
 "metadata": {
  "kernelspec": {
   "display_name": "Python 3 (ipykernel)",
   "language": "python",
   "name": "python3"
  },
  "language_info": {
   "codemirror_mode": {
    "name": "ipython",
    "version": 3
   },
   "file_extension": ".py",
   "mimetype": "text/x-python",
   "name": "python",
   "nbconvert_exporter": "python",
   "pygments_lexer": "ipython3",
   "version": "3.11.10"
  },
  "vscode": {
   "interpreter": {
    "hash": "945ab21136d100d39eb08c79ef7fc552f9de38f223a833a821377820191bf364"
   }
  }
 },
 "nbformat": 4,
 "nbformat_minor": 4
}
