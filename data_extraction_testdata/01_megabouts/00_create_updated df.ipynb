{
 "cells": [
  {
   "cell_type": "code",
   "execution_count": 1,
   "metadata": {},
   "outputs": [],
   "source": [
    "%load_ext autoreload \n",
    "%autoreload 2"
   ]
  },
  {
   "cell_type": "code",
   "execution_count": 2,
   "metadata": {},
   "outputs": [
    {
     "name": "stderr",
     "output_type": "stream",
     "text": [
      "C:\\Users\\admin\\AppData\\Local\\Temp\\ipykernel_27180\\1709915033.py:2: DeprecationWarning: \n",
      "Pyarrow will become a required dependency of pandas in the next major release of pandas (pandas 3.0),\n",
      "(to allow more performant data types, such as the Arrow string type, and better interoperability with other libraries)\n",
      "but was not found to be installed on your system.\n",
      "If this would cause problems for you,\n",
      "please provide us feedback at https://github.com/pandas-dev/pandas/issues/54466\n",
      "        \n",
      "  import pandas as pd\n"
     ]
    }
   ],
   "source": [
    "import numpy as np\n",
    "import pandas as pd\n",
    "import h5py\n",
    "from pathlib import Path\n",
    "\n",
    "import matplotlib.pyplot as plt\n",
    "from mpl_toolkits import mplot3d\n",
    "import matplotlib.gridspec as gridspec\n",
    "from matplotlib.colors import LinearSegmentedColormap\n",
    "from matplotlib import colors\n",
    "import seaborn as sns\n",
    "\n",
    "import flammkuchen as fl\n",
    "from scipy.interpolate import interp1d"
   ]
  },
  {
   "cell_type": "code",
   "execution_count": 3,
   "metadata": {},
   "outputs": [],
   "source": [
    "\n",
    "from megabouts.tracking_data import TrackingConfig, FullTrackingData, load_example_data\n",
    "from megabouts.pipeline import FullTrackingPipeline\n",
    "from megabouts.utils import (\n",
    "    bouts_category_name,\n",
    "    bouts_category_name_short,\n",
    "    bouts_category_color,\n",
    "    cmp_bouts,\n",
    ")"
   ]
  },
  {
   "cell_type": "code",
   "execution_count": 4,
   "metadata": {},
   "outputs": [],
   "source": [
    "from mb_helper import compute_angle_between_vect_tail, compute_angle_between_vect, exptrapolate_segments, mid_head, midpoint\n",
    "from mb_helper import tail_angles, fin_preprocess, calculate_angles\n",
    "from mb_helper import labels_cat, color"
   ]
  },
  {
   "cell_type": "code",
   "execution_count": 5,
   "metadata": {},
   "outputs": [
    {
     "name": "stdout",
     "output_type": "stream",
     "text": [
      "cpu\n"
     ]
    }
   ],
   "source": [
    "import torch\n",
    "device = torch.device('cuda' if torch.cuda.is_available() else 'cpu')\n",
    "print(device)"
   ]
  },
  {
   "attachments": {},
   "cell_type": "markdown",
   "metadata": {},
   "source": [
    "# Load Bouts"
   ]
  },
  {
   "cell_type": "code",
   "execution_count": 6,
   "metadata": {},
   "outputs": [
    {
     "data": {
      "text/plain": [
       "[WindowsPath('//portulab.synology.me/data/Kata/Figures_Paper/Koetter-et-al_data/Testdata/Raw_Data/240423_f0')]"
      ]
     },
     "execution_count": 6,
     "metadata": {},
     "output_type": "execute_result"
    }
   ],
   "source": [
    "master_path = Path(Path(r'\\\\portulab.synology.me\\data\\Kata\\Figures_Paper\\Koetter-et-al_data\\Testdata') / 'Raw_Data')\n",
    "out_path = Path(master_path/'Processed_Data')\n",
    "fish_paths = list(master_path.glob('*f[0-9]*'))\n",
    "fish_paths"
   ]
  },
  {
   "cell_type": "code",
   "execution_count": 7,
   "metadata": {},
   "outputs": [
    {
     "data": {
      "text/plain": [
       "('testfish', '240423_f0')"
      ]
     },
     "execution_count": 7,
     "metadata": {},
     "output_type": "execute_result"
    }
   ],
   "source": [
    "fish= 0\n",
    "fish_path = fish_paths[fish]\n",
    "fish_id =  fish_paths[fish].name#[:-13]\n",
    "exp_name = Path(fish_paths[fish]).parts[-2]\n",
    "exp_name = 'testfish'\n",
    "exp_name, fish_id"
   ]
  },
  {
   "cell_type": "markdown",
   "metadata": {},
   "source": [
    "### Load DLC"
   ]
  },
  {
   "cell_type": "code",
   "execution_count": 8,
   "metadata": {},
   "outputs": [
    {
     "data": {
      "text/plain": [
       "(95423, 2, 2, 2)"
      ]
     },
     "execution_count": 8,
     "metadata": {},
     "output_type": "execute_result"
    }
   ],
   "source": [
    "### Load and replace eye data\n",
    "#t, left eye [0], right eye [1], endpoints of eye vector end points (point1xy, point2xy) for anterior and posterior\n",
    "eye_coords = fl.load(fish_path/'eye_coords.h5')['eye_coords']\n",
    "eye_coords.shape"
   ]
  },
  {
   "cell_type": "code",
   "execution_count": 9,
   "metadata": {},
   "outputs": [],
   "source": [
    "left_eye_points = np.asarray(eye_coords)[:,0]\n",
    "right_eye_points = np.asarray(eye_coords)[:,1]\n",
    "\n",
    "l_anterior = np.asarray(left_eye_points[:,0])\n",
    "l_posterior = np.asarray(left_eye_points[:,1])\n",
    "\n",
    "left_eye_anterior_x = []\n",
    "left_eye_anterior_y = []\n",
    "left_eye_posterior_x = []\n",
    "left_eye_posterior_y = []\n",
    "for i in range(l_anterior.shape[0]):\n",
    "    left_eye_anterior_x.append(l_anterior[i][0])\n",
    "    left_eye_anterior_y.append(l_anterior[i][1])\n",
    "    left_eye_posterior_x.append(l_posterior[i][0])\n",
    "    left_eye_posterior_y.append(l_posterior[i][1])\n",
    "    \n",
    "r_anterior = np.asarray(right_eye_points[:,0])\n",
    "r_posterior = np.asarray(right_eye_points[:,1])\n",
    "\n",
    "right_eye_anterior_x = []\n",
    "right_eye_anterior_y = []\n",
    "right_eye_posterior_x = []\n",
    "right_eye_posterior_y = []\n",
    "for i in range(r_anterior.shape[0]):\n",
    "    right_eye_anterior_x.append(r_anterior[i][0])\n",
    "    right_eye_anterior_y.append(r_anterior[i][1])\n",
    "    right_eye_posterior_x.append(r_posterior[i][0])\n",
    "    right_eye_posterior_y.append(r_posterior[i][1])\n",
    "    "
   ]
  },
  {
   "cell_type": "markdown",
   "metadata": {},
   "source": [
    "## Load DLC"
   ]
  },
  {
   "cell_type": "code",
   "execution_count": 10,
   "metadata": {},
   "outputs": [],
   "source": [
    "fps=200\n",
    "mm_per_unit = 1/70\n",
    "N_seg = 10\n",
    "N = eye_coords.shape[0]"
   ]
  },
  {
   "cell_type": "code",
   "execution_count": 30,
   "metadata": {},
   "outputs": [
    {
     "name": "stdout",
     "output_type": "stream",
     "text": [
      "7.9519166666666665 minutes at 200 fps\n",
      "working on 95423 frames\n"
     ]
    }
   ],
   "source": [
    "\n",
    "df = pd.read_csv(out_path/ '{}_DLC.csv'.format(fish_id), header=[0,1])\n",
    "print(f'{df.shape[0]/(fps*60)} minutes at {fps} fps')\n",
    "print('working on {} frames'.format(df.shape[0]))\n",
    "\n",
    "#Extract angles\n",
    "body_x = df.body.values[:, 0].astype('float')\n",
    "body_y = df.body.values[:, 1].astype('float')\n",
    "\n",
    "tail_x_col = [f'tail_{i}' for i in range(5)]\n",
    "tail_y_col = [f'tail_{i}' for i in range(5)]\n",
    "tail_x = np.array([df[x].iloc[:, 0].values.astype('float') for x in tail_x_col])\n",
    "tail_y = np.array([df[x].iloc[:, 1].values.astype('float') for x in tail_y_col])\n",
    "\n",
    "# upsample tail to 10 segments\n",
    "tail_x_10, tail_y_10 = exptrapolate_segments(tail_x, tail_y, N_seg)\n"
   ]
  },
  {
   "cell_type": "code",
   "execution_count": 31,
   "metadata": {},
   "outputs": [
    {
     "data": {
      "text/plain": [
       "(11, 95423)"
      ]
     },
     "execution_count": 31,
     "metadata": {},
     "output_type": "execute_result"
    }
   ],
   "source": [
    "tail_x_10.shape"
   ]
  },
  {
   "cell_type": "code",
   "execution_count": 32,
   "metadata": {},
   "outputs": [],
   "source": [
    "## replace eyes and recompute mid head"
   ]
  },
  {
   "cell_type": "code",
   "execution_count": 33,
   "metadata": {},
   "outputs": [],
   "source": [
    "mid_headx, mid_heady, left_mid_eye_x, left_mid_eye_y, right_mid_eye_x, right_mid_eye_y = mid_head(\n",
    "             np.asarray(right_eye_posterior_x), np.asarray(right_eye_posterior_y),\n",
    "             np.asarray(right_eye_anterior_x), np.asarray(right_eye_anterior_y),\n",
    "             np.asarray(left_eye_posterior_x), np.asarray(left_eye_posterior_y),\n",
    "             np.asarray(left_eye_anterior_x), np.asarray(left_eye_anterior_y))\n"
   ]
  },
  {
   "cell_type": "code",
   "execution_count": 35,
   "metadata": {},
   "outputs": [
    {
     "data": {
      "text/plain": [
       "((95423,), (95423,))"
      ]
     },
     "execution_count": 35,
     "metadata": {},
     "output_type": "execute_result"
    }
   ],
   "source": [
    "head_x.shape, head_y.shape"
   ]
  },
  {
   "cell_type": "markdown",
   "metadata": {},
   "source": [
    "#### Add head to df"
   ]
  },
  {
   "cell_type": "code",
   "execution_count": 36,
   "metadata": {},
   "outputs": [],
   "source": [
    "# Now, let's add 'head_x' and 'head_y' keypoints under 'head' with the same likelihood as 'body'\n",
    "for i in range(11):\n",
    "    df[('tail_{}'.format(i), 'x')] = tail_x_10[i,:] \n",
    "    df[('tail_{}'.format(i), 'y')] = tail_y_10[i,:]\n",
    "    df[('tail_{}'.format(i), 'likelihood')] = df[('body', 'likelihood')] # Copy likelihood of body to head"
   ]
  },
  {
   "cell_type": "code",
   "execution_count": 37,
   "metadata": {},
   "outputs": [],
   "source": [
    "df[('left_eye_anterior', 'x')] = left_eye_anterior_x \n",
    "df[('left_eye_anterior', 'y')] = left_eye_anterior_y \n",
    "\n",
    "df[('left_eye_posterior', 'x')] = left_eye_posterior_x \n",
    "df[('left_eye_posterior', 'y')] = left_eye_posterior_y \n",
    "\n",
    "df[('right_eye_anterior', 'x')] = right_eye_anterior_x \n",
    "df[('right_eye_anterior', 'y')] = right_eye_anterior_y \n",
    "\n",
    "df[('right_eye_posterior', 'x')] = right_eye_posterior_x \n",
    "df[('right_eye_posterior', 'y')] = right_eye_posterior_y "
   ]
  },
  {
   "cell_type": "code",
   "execution_count": 38,
   "metadata": {},
   "outputs": [],
   "source": [
    "# Now, let's add 'head_x' and 'head_y' keypoints under 'head' with the same likelihood as 'body'\n",
    "df[('mid_head', 'x')] = mid_headx \n",
    "df[('mid_head', 'y')] = mid_heady \n",
    "df[('mid_head', 'likelihood')] = df[('body', 'likelihood')] # Copy likelihood of body to head\n"
   ]
  },
  {
   "cell_type": "code",
   "execution_count": 39,
   "metadata": {},
   "outputs": [
    {
     "data": {
      "text/html": [
       "<div>\n",
       "<style scoped>\n",
       "    .dataframe tbody tr th:only-of-type {\n",
       "        vertical-align: middle;\n",
       "    }\n",
       "\n",
       "    .dataframe tbody tr th {\n",
       "        vertical-align: top;\n",
       "    }\n",
       "\n",
       "    .dataframe thead tr th {\n",
       "        text-align: left;\n",
       "    }\n",
       "</style>\n",
       "<table border=\"1\" class=\"dataframe\">\n",
       "  <thead>\n",
       "    <tr>\n",
       "      <th></th>\n",
       "      <th>bodyparts</th>\n",
       "      <th>DLC_filter</th>\n",
       "      <th colspan=\"3\" halign=\"left\">motor</th>\n",
       "      <th>edge_filter</th>\n",
       "      <th colspan=\"3\" halign=\"left\">left_eye_anterior</th>\n",
       "      <th>left_eye_posterior</th>\n",
       "      <th>...</th>\n",
       "      <th>tail_8</th>\n",
       "      <th colspan=\"3\" halign=\"left\">tail_9</th>\n",
       "      <th colspan=\"3\" halign=\"left\">tail_10</th>\n",
       "      <th colspan=\"3\" halign=\"left\">mid_head</th>\n",
       "    </tr>\n",
       "    <tr>\n",
       "      <th></th>\n",
       "      <th>coords</th>\n",
       "      <th>pos</th>\n",
       "      <th>z</th>\n",
       "      <th>y</th>\n",
       "      <th>x</th>\n",
       "      <th>ok</th>\n",
       "      <th>x</th>\n",
       "      <th>y</th>\n",
       "      <th>likelihood</th>\n",
       "      <th>x</th>\n",
       "      <th>...</th>\n",
       "      <th>likelihood</th>\n",
       "      <th>x</th>\n",
       "      <th>y</th>\n",
       "      <th>likelihood</th>\n",
       "      <th>x</th>\n",
       "      <th>y</th>\n",
       "      <th>likelihood</th>\n",
       "      <th>x</th>\n",
       "      <th>y</th>\n",
       "      <th>likelihood</th>\n",
       "    </tr>\n",
       "  </thead>\n",
       "  <tbody>\n",
       "    <tr>\n",
       "      <th>0</th>\n",
       "      <td>0</td>\n",
       "      <td>1</td>\n",
       "      <td>0.000000</td>\n",
       "      <td>8.993996</td>\n",
       "      <td>-7.050400</td>\n",
       "      <td>True</td>\n",
       "      <td>645.326900</td>\n",
       "      <td>521.443017</td>\n",
       "      <td>0.999891</td>\n",
       "      <td>654.856002</td>\n",
       "      <td>...</td>\n",
       "      <td>0.998467</td>\n",
       "      <td>463.398844</td>\n",
       "      <td>250.457989</td>\n",
       "      <td>0.998467</td>\n",
       "      <td>439.471039</td>\n",
       "      <td>239.365433</td>\n",
       "      <td>0.998467</td>\n",
       "      <td>633.807176</td>\n",
       "      <td>544.905587</td>\n",
       "      <td>0.998467</td>\n",
       "    </tr>\n",
       "    <tr>\n",
       "      <th>1</th>\n",
       "      <td>1</td>\n",
       "      <td>1</td>\n",
       "      <td>-0.000137</td>\n",
       "      <td>9.084572</td>\n",
       "      <td>-7.089576</td>\n",
       "      <td>True</td>\n",
       "      <td>646.183150</td>\n",
       "      <td>519.644351</td>\n",
       "      <td>0.999896</td>\n",
       "      <td>656.078755</td>\n",
       "      <td>...</td>\n",
       "      <td>0.998625</td>\n",
       "      <td>473.571332</td>\n",
       "      <td>246.601053</td>\n",
       "      <td>0.998625</td>\n",
       "      <td>444.348114</td>\n",
       "      <td>245.641525</td>\n",
       "      <td>0.998625</td>\n",
       "      <td>634.773111</td>\n",
       "      <td>542.948934</td>\n",
       "      <td>0.998625</td>\n",
       "    </tr>\n",
       "    <tr>\n",
       "      <th>2</th>\n",
       "      <td>2</td>\n",
       "      <td>1</td>\n",
       "      <td>0.000000</td>\n",
       "      <td>9.179195</td>\n",
       "      <td>-7.108448</td>\n",
       "      <td>True</td>\n",
       "      <td>650.207855</td>\n",
       "      <td>517.061760</td>\n",
       "      <td>0.999923</td>\n",
       "      <td>659.556388</td>\n",
       "      <td>...</td>\n",
       "      <td>0.999190</td>\n",
       "      <td>491.481593</td>\n",
       "      <td>238.960160</td>\n",
       "      <td>0.999190</td>\n",
       "      <td>461.540009</td>\n",
       "      <td>236.261642</td>\n",
       "      <td>0.999190</td>\n",
       "      <td>638.426775</td>\n",
       "      <td>540.509511</td>\n",
       "      <td>0.999190</td>\n",
       "    </tr>\n",
       "    <tr>\n",
       "      <th>3</th>\n",
       "      <td>3</td>\n",
       "      <td>1</td>\n",
       "      <td>0.000000</td>\n",
       "      <td>9.258852</td>\n",
       "      <td>-7.098520</td>\n",
       "      <td>True</td>\n",
       "      <td>654.625610</td>\n",
       "      <td>513.145553</td>\n",
       "      <td>0.999913</td>\n",
       "      <td>664.477157</td>\n",
       "      <td>...</td>\n",
       "      <td>0.997801</td>\n",
       "      <td>503.204287</td>\n",
       "      <td>227.416002</td>\n",
       "      <td>0.997801</td>\n",
       "      <td>476.081390</td>\n",
       "      <td>216.947006</td>\n",
       "      <td>0.997801</td>\n",
       "      <td>643.096984</td>\n",
       "      <td>536.308950</td>\n",
       "      <td>0.997801</td>\n",
       "    </tr>\n",
       "    <tr>\n",
       "      <th>4</th>\n",
       "      <td>4</td>\n",
       "      <td>1</td>\n",
       "      <td>-0.000013</td>\n",
       "      <td>9.320093</td>\n",
       "      <td>-7.081586</td>\n",
       "      <td>True</td>\n",
       "      <td>657.924704</td>\n",
       "      <td>510.390997</td>\n",
       "      <td>0.999740</td>\n",
       "      <td>667.236973</td>\n",
       "      <td>...</td>\n",
       "      <td>0.998626</td>\n",
       "      <td>506.768862</td>\n",
       "      <td>217.844257</td>\n",
       "      <td>0.998626</td>\n",
       "      <td>485.563690</td>\n",
       "      <td>199.774689</td>\n",
       "      <td>0.998626</td>\n",
       "      <td>646.209680</td>\n",
       "      <td>533.732044</td>\n",
       "      <td>0.998626</td>\n",
       "    </tr>\n",
       "  </tbody>\n",
       "</table>\n",
       "<p>5 rows × 70 columns</p>\n",
       "</div>"
      ],
      "text/plain": [
       "  bodyparts DLC_filter     motor                     edge_filter  \\\n",
       "     coords        pos         z         y         x          ok   \n",
       "0         0          1  0.000000  8.993996 -7.050400        True   \n",
       "1         1          1 -0.000137  9.084572 -7.089576        True   \n",
       "2         2          1  0.000000  9.179195 -7.108448        True   \n",
       "3         3          1  0.000000  9.258852 -7.098520        True   \n",
       "4         4          1 -0.000013  9.320093 -7.081586        True   \n",
       "\n",
       "  left_eye_anterior                        left_eye_posterior  ...     tail_8  \\\n",
       "                  x           y likelihood                  x  ... likelihood   \n",
       "0        645.326900  521.443017   0.999891         654.856002  ...   0.998467   \n",
       "1        646.183150  519.644351   0.999896         656.078755  ...   0.998625   \n",
       "2        650.207855  517.061760   0.999923         659.556388  ...   0.999190   \n",
       "3        654.625610  513.145553   0.999913         664.477157  ...   0.997801   \n",
       "4        657.924704  510.390997   0.999740         667.236973  ...   0.998626   \n",
       "\n",
       "       tail_9                            tail_10                         \\\n",
       "            x           y likelihood           x           y likelihood   \n",
       "0  463.398844  250.457989   0.998467  439.471039  239.365433   0.998467   \n",
       "1  473.571332  246.601053   0.998625  444.348114  245.641525   0.998625   \n",
       "2  491.481593  238.960160   0.999190  461.540009  236.261642   0.999190   \n",
       "3  503.204287  227.416002   0.997801  476.081390  216.947006   0.997801   \n",
       "4  506.768862  217.844257   0.998626  485.563690  199.774689   0.998626   \n",
       "\n",
       "     mid_head                         \n",
       "            x           y likelihood  \n",
       "0  633.807176  544.905587   0.998467  \n",
       "1  634.773111  542.948934   0.998625  \n",
       "2  638.426775  540.509511   0.999190  \n",
       "3  643.096984  536.308950   0.997801  \n",
       "4  646.209680  533.732044   0.998626  \n",
       "\n",
       "[5 rows x 70 columns]"
      ]
     },
     "execution_count": 39,
     "metadata": {},
     "output_type": "execute_result"
    }
   ],
   "source": [
    "df.head()"
   ]
  },
  {
   "cell_type": "code",
   "execution_count": 40,
   "metadata": {},
   "outputs": [
    {
     "data": {
      "text/plain": [
       "MultiIndex([(          'bodyparts',              'coords'),\n",
       "            (         'DLC_filter',                 'pos'),\n",
       "            (              'motor',                   'z'),\n",
       "            (              'motor',                   'y'),\n",
       "            (              'motor',                   'x'),\n",
       "            (        'edge_filter',                  'ok'),\n",
       "            (  'left_eye_anterior',                   'x'),\n",
       "            (  'left_eye_anterior',                   'y'),\n",
       "            (  'left_eye_anterior',          'likelihood'),\n",
       "            ( 'left_eye_posterior',                   'x'),\n",
       "            ( 'left_eye_posterior',                   'y'),\n",
       "            ( 'left_eye_posterior',          'likelihood'),\n",
       "            ( 'right_eye_anterior',                   'x'),\n",
       "            ( 'right_eye_anterior',                   'y'),\n",
       "            ( 'right_eye_anterior',          'likelihood'),\n",
       "            ('right_eye_posterior',                   'x'),\n",
       "            ('right_eye_posterior',                   'y'),\n",
       "            ('right_eye_posterior',          'likelihood'),\n",
       "            (               'body',                   'x'),\n",
       "            (               'body',                   'y'),\n",
       "            (               'body',          'likelihood'),\n",
       "            (      'left_fin_base',                   'x'),\n",
       "            (      'left_fin_base',                   'y'),\n",
       "            (      'left_fin_base',          'likelihood'),\n",
       "            (       'left_fin_tip',                   'x'),\n",
       "            (       'left_fin_tip',                   'y'),\n",
       "            (       'left_fin_tip',          'likelihood'),\n",
       "            (     'right_fin_base',                   'x'),\n",
       "            (     'right_fin_base',                   'y'),\n",
       "            (     'right_fin_base',          'likelihood'),\n",
       "            (      'right_fin_tip',                   'x'),\n",
       "            (      'right_fin_tip',                   'y'),\n",
       "            (      'right_fin_tip',          'likelihood'),\n",
       "            (             'tail_0',                   'x'),\n",
       "            (             'tail_0',                   'y'),\n",
       "            (             'tail_0',          'likelihood'),\n",
       "            (             'tail_1',                   'x'),\n",
       "            (             'tail_1',                   'y'),\n",
       "            (             'tail_1',          'likelihood'),\n",
       "            (             'tail_2',                   'x'),\n",
       "            (             'tail_2',                   'y'),\n",
       "            (             'tail_2',          'likelihood'),\n",
       "            (             'tail_3',                   'x'),\n",
       "            (             'tail_3',                   'y'),\n",
       "            (             'tail_3',          'likelihood'),\n",
       "            (             'tail_4',                   'x'),\n",
       "            (             'tail_4',                   'y'),\n",
       "            (             'tail_4',          'likelihood'),\n",
       "            (                  't', 'Unnamed: 48_level_1'),\n",
       "            (             'tail_5',                   'x'),\n",
       "            (             'tail_5',                   'y'),\n",
       "            (             'tail_5',          'likelihood'),\n",
       "            (             'tail_6',                   'x'),\n",
       "            (             'tail_6',                   'y'),\n",
       "            (             'tail_6',          'likelihood'),\n",
       "            (             'tail_7',                   'x'),\n",
       "            (             'tail_7',                   'y'),\n",
       "            (             'tail_7',          'likelihood'),\n",
       "            (             'tail_8',                   'x'),\n",
       "            (             'tail_8',                   'y'),\n",
       "            (             'tail_8',          'likelihood'),\n",
       "            (             'tail_9',                   'x'),\n",
       "            (             'tail_9',                   'y'),\n",
       "            (             'tail_9',          'likelihood'),\n",
       "            (            'tail_10',                   'x'),\n",
       "            (            'tail_10',                   'y'),\n",
       "            (            'tail_10',          'likelihood'),\n",
       "            (           'mid_head',                   'x'),\n",
       "            (           'mid_head',                   'y'),\n",
       "            (           'mid_head',          'likelihood')],\n",
       "           )"
      ]
     },
     "execution_count": 40,
     "metadata": {},
     "output_type": "execute_result"
    }
   ],
   "source": [
    "df.columns"
   ]
  },
  {
   "cell_type": "code",
   "execution_count": 41,
   "metadata": {},
   "outputs": [],
   "source": [
    "df.to_csv(out_path/ '{}_DLC_mod.csv'.format(fish_id))\n"
   ]
  },
  {
   "cell_type": "code",
   "execution_count": 42,
   "metadata": {},
   "outputs": [],
   "source": [
    "df_dlc = pd.read_csv(out_path/ '{}_DLC_mod.csv'.format(fish_id), header=[0, 1])\n"
   ]
  },
  {
   "cell_type": "code",
   "execution_count": 43,
   "metadata": {},
   "outputs": [
    {
     "data": {
      "text/html": [
       "<div>\n",
       "<style scoped>\n",
       "    .dataframe tbody tr th:only-of-type {\n",
       "        vertical-align: middle;\n",
       "    }\n",
       "\n",
       "    .dataframe tbody tr th {\n",
       "        vertical-align: top;\n",
       "    }\n",
       "\n",
       "    .dataframe thead tr th {\n",
       "        text-align: left;\n",
       "    }\n",
       "</style>\n",
       "<table border=\"1\" class=\"dataframe\">\n",
       "  <thead>\n",
       "    <tr>\n",
       "      <th></th>\n",
       "      <th>Unnamed: 0_level_0</th>\n",
       "      <th>bodyparts</th>\n",
       "      <th>DLC_filter</th>\n",
       "      <th colspan=\"3\" halign=\"left\">motor</th>\n",
       "      <th>edge_filter</th>\n",
       "      <th colspan=\"3\" halign=\"left\">left_eye_anterior</th>\n",
       "      <th>...</th>\n",
       "      <th>tail_8</th>\n",
       "      <th colspan=\"3\" halign=\"left\">tail_9</th>\n",
       "      <th colspan=\"3\" halign=\"left\">tail_10</th>\n",
       "      <th colspan=\"3\" halign=\"left\">mid_head</th>\n",
       "    </tr>\n",
       "    <tr>\n",
       "      <th></th>\n",
       "      <th>Unnamed: 0_level_1</th>\n",
       "      <th>coords</th>\n",
       "      <th>pos</th>\n",
       "      <th>z</th>\n",
       "      <th>y</th>\n",
       "      <th>x</th>\n",
       "      <th>ok</th>\n",
       "      <th>x</th>\n",
       "      <th>y</th>\n",
       "      <th>likelihood</th>\n",
       "      <th>...</th>\n",
       "      <th>likelihood</th>\n",
       "      <th>x</th>\n",
       "      <th>y</th>\n",
       "      <th>likelihood</th>\n",
       "      <th>x</th>\n",
       "      <th>y</th>\n",
       "      <th>likelihood</th>\n",
       "      <th>x</th>\n",
       "      <th>y</th>\n",
       "      <th>likelihood</th>\n",
       "    </tr>\n",
       "  </thead>\n",
       "  <tbody>\n",
       "    <tr>\n",
       "      <th>0</th>\n",
       "      <td>0</td>\n",
       "      <td>0</td>\n",
       "      <td>1</td>\n",
       "      <td>0.000000</td>\n",
       "      <td>8.993996</td>\n",
       "      <td>-7.050400</td>\n",
       "      <td>True</td>\n",
       "      <td>645.326900</td>\n",
       "      <td>521.443017</td>\n",
       "      <td>0.999891</td>\n",
       "      <td>...</td>\n",
       "      <td>0.998467</td>\n",
       "      <td>463.398844</td>\n",
       "      <td>250.457989</td>\n",
       "      <td>0.998467</td>\n",
       "      <td>439.471039</td>\n",
       "      <td>239.365433</td>\n",
       "      <td>0.998467</td>\n",
       "      <td>633.807176</td>\n",
       "      <td>544.905587</td>\n",
       "      <td>0.998467</td>\n",
       "    </tr>\n",
       "    <tr>\n",
       "      <th>1</th>\n",
       "      <td>1</td>\n",
       "      <td>1</td>\n",
       "      <td>1</td>\n",
       "      <td>-0.000137</td>\n",
       "      <td>9.084572</td>\n",
       "      <td>-7.089576</td>\n",
       "      <td>True</td>\n",
       "      <td>646.183150</td>\n",
       "      <td>519.644351</td>\n",
       "      <td>0.999896</td>\n",
       "      <td>...</td>\n",
       "      <td>0.998625</td>\n",
       "      <td>473.571332</td>\n",
       "      <td>246.601053</td>\n",
       "      <td>0.998625</td>\n",
       "      <td>444.348114</td>\n",
       "      <td>245.641525</td>\n",
       "      <td>0.998625</td>\n",
       "      <td>634.773111</td>\n",
       "      <td>542.948934</td>\n",
       "      <td>0.998625</td>\n",
       "    </tr>\n",
       "    <tr>\n",
       "      <th>2</th>\n",
       "      <td>2</td>\n",
       "      <td>2</td>\n",
       "      <td>1</td>\n",
       "      <td>0.000000</td>\n",
       "      <td>9.179195</td>\n",
       "      <td>-7.108448</td>\n",
       "      <td>True</td>\n",
       "      <td>650.207855</td>\n",
       "      <td>517.061760</td>\n",
       "      <td>0.999923</td>\n",
       "      <td>...</td>\n",
       "      <td>0.999190</td>\n",
       "      <td>491.481593</td>\n",
       "      <td>238.960160</td>\n",
       "      <td>0.999190</td>\n",
       "      <td>461.540009</td>\n",
       "      <td>236.261642</td>\n",
       "      <td>0.999190</td>\n",
       "      <td>638.426775</td>\n",
       "      <td>540.509511</td>\n",
       "      <td>0.999190</td>\n",
       "    </tr>\n",
       "    <tr>\n",
       "      <th>3</th>\n",
       "      <td>3</td>\n",
       "      <td>3</td>\n",
       "      <td>1</td>\n",
       "      <td>0.000000</td>\n",
       "      <td>9.258852</td>\n",
       "      <td>-7.098520</td>\n",
       "      <td>True</td>\n",
       "      <td>654.625610</td>\n",
       "      <td>513.145553</td>\n",
       "      <td>0.999913</td>\n",
       "      <td>...</td>\n",
       "      <td>0.997801</td>\n",
       "      <td>503.204287</td>\n",
       "      <td>227.416002</td>\n",
       "      <td>0.997801</td>\n",
       "      <td>476.081390</td>\n",
       "      <td>216.947006</td>\n",
       "      <td>0.997801</td>\n",
       "      <td>643.096984</td>\n",
       "      <td>536.308950</td>\n",
       "      <td>0.997801</td>\n",
       "    </tr>\n",
       "    <tr>\n",
       "      <th>4</th>\n",
       "      <td>4</td>\n",
       "      <td>4</td>\n",
       "      <td>1</td>\n",
       "      <td>-0.000013</td>\n",
       "      <td>9.320093</td>\n",
       "      <td>-7.081586</td>\n",
       "      <td>True</td>\n",
       "      <td>657.924704</td>\n",
       "      <td>510.390997</td>\n",
       "      <td>0.999740</td>\n",
       "      <td>...</td>\n",
       "      <td>0.998626</td>\n",
       "      <td>506.768862</td>\n",
       "      <td>217.844257</td>\n",
       "      <td>0.998626</td>\n",
       "      <td>485.563690</td>\n",
       "      <td>199.774689</td>\n",
       "      <td>0.998626</td>\n",
       "      <td>646.209680</td>\n",
       "      <td>533.732044</td>\n",
       "      <td>0.998626</td>\n",
       "    </tr>\n",
       "  </tbody>\n",
       "</table>\n",
       "<p>5 rows × 71 columns</p>\n",
       "</div>"
      ],
      "text/plain": [
       "  Unnamed: 0_level_0 bodyparts DLC_filter     motor                      \\\n",
       "  Unnamed: 0_level_1    coords        pos         z         y         x   \n",
       "0                  0         0          1  0.000000  8.993996 -7.050400   \n",
       "1                  1         1          1 -0.000137  9.084572 -7.089576   \n",
       "2                  2         2          1  0.000000  9.179195 -7.108448   \n",
       "3                  3         3          1  0.000000  9.258852 -7.098520   \n",
       "4                  4         4          1 -0.000013  9.320093 -7.081586   \n",
       "\n",
       "  edge_filter left_eye_anterior                         ...     tail_8  \\\n",
       "           ok                 x           y likelihood  ... likelihood   \n",
       "0        True        645.326900  521.443017   0.999891  ...   0.998467   \n",
       "1        True        646.183150  519.644351   0.999896  ...   0.998625   \n",
       "2        True        650.207855  517.061760   0.999923  ...   0.999190   \n",
       "3        True        654.625610  513.145553   0.999913  ...   0.997801   \n",
       "4        True        657.924704  510.390997   0.999740  ...   0.998626   \n",
       "\n",
       "       tail_9                            tail_10                         \\\n",
       "            x           y likelihood           x           y likelihood   \n",
       "0  463.398844  250.457989   0.998467  439.471039  239.365433   0.998467   \n",
       "1  473.571332  246.601053   0.998625  444.348114  245.641525   0.998625   \n",
       "2  491.481593  238.960160   0.999190  461.540009  236.261642   0.999190   \n",
       "3  503.204287  227.416002   0.997801  476.081390  216.947006   0.997801   \n",
       "4  506.768862  217.844257   0.998626  485.563690  199.774689   0.998626   \n",
       "\n",
       "     mid_head                         \n",
       "            x           y likelihood  \n",
       "0  633.807176  544.905587   0.998467  \n",
       "1  634.773111  542.948934   0.998625  \n",
       "2  638.426775  540.509511   0.999190  \n",
       "3  643.096984  536.308950   0.997801  \n",
       "4  646.209680  533.732044   0.998626  \n",
       "\n",
       "[5 rows x 71 columns]"
      ]
     },
     "execution_count": 43,
     "metadata": {},
     "output_type": "execute_result"
    }
   ],
   "source": [
    "df_dlc.head()"
   ]
  },
  {
   "cell_type": "code",
   "execution_count": null,
   "metadata": {},
   "outputs": [],
   "source": []
  },
  {
   "cell_type": "code",
   "execution_count": null,
   "metadata": {},
   "outputs": [],
   "source": []
  }
 ],
 "metadata": {
  "kernelspec": {
   "display_name": "Python 3 (ipykernel)",
   "language": "python",
   "name": "python3"
  },
  "language_info": {
   "codemirror_mode": {
    "name": "ipython",
    "version": 3
   },
   "file_extension": ".py",
   "mimetype": "text/x-python",
   "name": "python",
   "nbconvert_exporter": "python",
   "pygments_lexer": "ipython3",
   "version": "3.11.5"
  },
  "vscode": {
   "interpreter": {
    "hash": "945ab21136d100d39eb08c79ef7fc552f9de38f223a833a821377820191bf364"
   }
  }
 },
 "nbformat": 4,
 "nbformat_minor": 4
}
