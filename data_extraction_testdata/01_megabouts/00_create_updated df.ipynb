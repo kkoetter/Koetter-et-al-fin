{
 "cells": [
  {
   "cell_type": "code",
   "execution_count": 59,
   "metadata": {},
   "outputs": [
    {
     "name": "stdout",
     "output_type": "stream",
     "text": [
      "The autoreload extension is already loaded. To reload it, use:\n",
      "  %reload_ext autoreload\n"
     ]
    }
   ],
   "source": [
    "%load_ext autoreload \n",
    "%autoreload 2"
   ]
  },
  {
   "cell_type": "code",
   "execution_count": 60,
   "metadata": {},
   "outputs": [],
   "source": [
    "import numpy as np\n",
    "import pandas as pd\n",
    "import h5py\n",
    "from pathlib import Path\n",
    "\n",
    "from sklearn.linear_model import Ridge,Lasso\n",
    "from sklearn.decomposition import PCA\n",
    "\n",
    "import matplotlib.pyplot as plt\n",
    "from mpl_toolkits import mplot3d\n",
    "import matplotlib.gridspec as gridspec\n",
    "from matplotlib.colors import LinearSegmentedColormap\n",
    "from matplotlib import colors\n",
    "\n",
    "import matplotlib.pyplot as plt\n",
    "import seaborn as sns\n",
    "import pandas as pd\n",
    "import numpy as np\n",
    "import flammkuchen as fl\n",
    "\n",
    "from scipy.interpolate import interp1d"
   ]
  },
  {
   "cell_type": "code",
   "execution_count": 61,
   "metadata": {},
   "outputs": [],
   "source": [
    "import numpy as np\n",
    "import matplotlib.pyplot as plt\n",
    "import matplotlib.gridspec as gridspec\n",
    "from cycler import cycler\n",
    "\n",
    "from megabouts.tracking_data import TrackingConfig, FullTrackingData, load_example_data\n",
    "from megabouts.pipeline import FullTrackingPipeline\n",
    "from megabouts.utils import (\n",
    "    bouts_category_name,\n",
    "    bouts_category_name_short,\n",
    "    bouts_category_color,\n",
    "    cmp_bouts,\n",
    ")"
   ]
  },
  {
   "cell_type": "code",
   "execution_count": null,
   "metadata": {},
   "outputs": [],
   "source": [
    "from mb_helper import compute_angle_between_vect_tail, compute_angle_between_vect, exptrapolate_segments, mid_head, midpoint\n",
    "from mb_helper import tail_angles, fin_preprocess, calculate_angles"
   ]
  },
  {
   "cell_type": "code",
   "execution_count": 66,
   "metadata": {},
   "outputs": [
    {
     "name": "stdout",
     "output_type": "stream",
     "text": [
      "cpu\n"
     ]
    }
   ],
   "source": [
    "import torch\n",
    "device = torch.device('cuda' if torch.cuda.is_available() else 'cpu')\n",
    "print(device)"
   ]
  },
  {
   "cell_type": "code",
   "execution_count": 67,
   "metadata": {},
   "outputs": [],
   "source": [
    "from megabouts_helper import labels_cat, color"
   ]
  },
  {
   "cell_type": "code",
   "execution_count": 68,
   "metadata": {},
   "outputs": [],
   "source": [
    "# bouts_category_name_short, bouts_category_name"
   ]
  },
  {
   "attachments": {},
   "cell_type": "markdown",
   "metadata": {},
   "source": [
    "# Load Bouts"
   ]
  },
  {
   "cell_type": "code",
   "execution_count": 69,
   "metadata": {},
   "outputs": [
    {
     "data": {
      "text/plain": [
       "([WindowsPath('//portulab.synology.me/data/Kata/testdata/Raw_Data/240423_f0')],\n",
       " 1)"
      ]
     },
     "execution_count": 69,
     "metadata": {},
     "output_type": "execute_result"
    }
   ],
   "source": [
    "master_path = Path(r'\\\\portulab.synology.me\\data\\Kata\\testdata\\Raw_Data')\n",
    "\n",
    "fish_paths = list(master_path.glob('*f[0-9]*'))\n",
    "fish_paths, len(fish_paths)\n"
   ]
  },
  {
   "cell_type": "code",
   "execution_count": 70,
   "metadata": {},
   "outputs": [
    {
     "data": {
      "text/plain": [
       "('testfish', '240423_f0')"
      ]
     },
     "execution_count": 70,
     "metadata": {},
     "output_type": "execute_result"
    }
   ],
   "source": [
    "fish= 0\n",
    "fish_path = fish_paths[fish]\n",
    "fish_id =  fish_paths[fish].name#[:-13]\n",
    "exp_name = Path(fish_paths[fish]).parts[-2]\n",
    "exp_name = 'testfish'\n",
    "exp_name, fish_id"
   ]
  },
  {
   "cell_type": "code",
   "execution_count": 71,
   "metadata": {},
   "outputs": [],
   "source": [
    "out_path = Path(r'\\\\portulab.synology.me\\data\\Kata\\testdata\\Processed_Data')"
   ]
  },
  {
   "cell_type": "markdown",
   "metadata": {},
   "source": [
    "### Load DLC"
   ]
  },
  {
   "cell_type": "code",
   "execution_count": 72,
   "metadata": {},
   "outputs": [
    {
     "data": {
      "text/plain": [
       "(95423, 2, 2, 2)"
      ]
     },
     "execution_count": 72,
     "metadata": {},
     "output_type": "execute_result"
    }
   ],
   "source": [
    "### Load and replace eye data\n",
    "#t, left eye [0], right eye [1], endpoints of eye vector end points (point1xy, point2xy) for anterior and posterior\n",
    "eye_coords = fl.load(fish_path/'eye_coords.h5')['eye_coords']\n",
    "eye_coords.shape"
   ]
  },
  {
   "cell_type": "code",
   "execution_count": 73,
   "metadata": {},
   "outputs": [],
   "source": [
    "left_eye_points = np.asarray(eye_coords)[:,0]\n",
    "right_eye_points = np.asarray(eye_coords)[:,1]\n",
    "\n",
    "l_anterior = np.asarray(left_eye_points[:,0])\n",
    "l_posterior = np.asarray(left_eye_points[:,1])\n",
    "\n",
    "left_eye_anterior_x = []\n",
    "left_eye_anterior_y = []\n",
    "left_eye_posterior_x = []\n",
    "left_eye_posterior_y = []\n",
    "for i in range(l_anterior.shape[0]):\n",
    "    left_eye_anterior_x.append(l_anterior[i][0])\n",
    "    left_eye_anterior_y.append(l_anterior[i][1])\n",
    "    left_eye_posterior_x.append(l_posterior[i][0])\n",
    "    left_eye_posterior_y.append(l_posterior[i][1])\n",
    "    \n",
    "r_anterior = np.asarray(right_eye_points[:,0])\n",
    "r_posterior = np.asarray(right_eye_points[:,1])\n",
    "\n",
    "right_eye_anterior_x = []\n",
    "right_eye_anterior_y = []\n",
    "right_eye_posterior_x = []\n",
    "right_eye_posterior_y = []\n",
    "for i in range(r_anterior.shape[0]):\n",
    "    right_eye_anterior_x.append(r_anterior[i][0])\n",
    "    right_eye_anterior_y.append(r_anterior[i][1])\n",
    "    right_eye_posterior_x.append(r_posterior[i][0])\n",
    "    right_eye_posterior_y.append(r_posterior[i][1])\n",
    "    "
   ]
  },
  {
   "cell_type": "markdown",
   "metadata": {},
   "source": [
    "## Load DLC"
   ]
  },
  {
   "cell_type": "code",
   "execution_count": 74,
   "metadata": {},
   "outputs": [],
   "source": [
    "fps=200\n",
    "mm_per_unit = 1/70\n",
    "N_seg = 10\n",
    "N = eye_coords.shape[0]"
   ]
  },
  {
   "cell_type": "code",
   "execution_count": 75,
   "metadata": {},
   "outputs": [
    {
     "name": "stdout",
     "output_type": "stream",
     "text": [
      "7.9519166666666665 minutes at 200 fps\n",
      "working on 95423 frames\n"
     ]
    }
   ],
   "source": [
    "vid_path = list(fish_path.glob('*video*'))[0]\n",
    "filename = list(fish_path.glob('*316000.h5*'))[0]\n",
    "df= pd.read_hdf(filename,  header=[1, 2], index_col=0)\n",
    "df = df['DLC_resnet50_dlc_2Dec12shuffle1_316000']\n",
    "print(f'{df.shape[0]/(fps*60)} minutes at {fps} fps')\n",
    "print('working on {} frames'.format(df.shape[0]))\n",
    "\n",
    "#Extract angles\n",
    "body_x = df.body.values[:, 0].astype('float')\n",
    "body_y = df.body.values[:, 1].astype('float')\n",
    "\n",
    "tail_x_col = [f'tail_{i}' for i in range(5)]\n",
    "tail_y_col = [f'tail_{i}' for i in range(5)]\n",
    "tail_x = np.array([df[x].iloc[:, 0].values.astype('float') for x in tail_x_col])\n",
    "tail_y = np.array([df[x].iloc[:, 1].values.astype('float') for x in tail_y_col])\n",
    "\n",
    "# upsample tail to 10 segments\n",
    "tail_x_10, tail_y_10 = exptrapolate_segments(tail_x, tail_y, N_seg)\n"
   ]
  },
  {
   "cell_type": "code",
   "execution_count": 76,
   "metadata": {},
   "outputs": [
    {
     "data": {
      "text/plain": [
       "(11, 95423)"
      ]
     },
     "execution_count": 76,
     "metadata": {},
     "output_type": "execute_result"
    }
   ],
   "source": [
    "tail_x_10.shape"
   ]
  },
  {
   "cell_type": "code",
   "execution_count": 77,
   "metadata": {},
   "outputs": [
    {
     "data": {
      "text/plain": [
       "array([545.1464873 , 549.63523213, 552.34921732, ..., 400.76044311,\n",
       "       399.75724162, 398.42930308])"
      ]
     },
     "execution_count": 77,
     "metadata": {},
     "output_type": "execute_result"
    }
   ],
   "source": [
    "tail_x_10[5,:]"
   ]
  },
  {
   "cell_type": "code",
   "execution_count": 78,
   "metadata": {},
   "outputs": [],
   "source": [
    "## replace eyes and recompute mid head"
   ]
  },
  {
   "cell_type": "code",
   "execution_count": 79,
   "metadata": {},
   "outputs": [],
   "source": [
    "mid_headx, mid_heady, left_mid_eye_x, left_mid_eye_y, right_mid_eye_x, right_mid_eye_y = mid_head(\n",
    "             np.asarray(right_eye_posterior_x), np.asarray(right_eye_posterior_y),\n",
    "             np.asarray(right_eye_anterior_x), np.asarray(right_eye_anterior_y),\n",
    "             np.asarray(left_eye_posterior_x), np.asarray(left_eye_posterior_y),\n",
    "             np.asarray(left_eye_anterior_x), np.asarray(left_eye_anterior_y))\n"
   ]
  },
  {
   "cell_type": "code",
   "execution_count": 80,
   "metadata": {},
   "outputs": [],
   "source": [
    "head_x = mid_headx * mm_per_unit\n",
    "head_y = mid_heady * mm_per_unit"
   ]
  },
  {
   "cell_type": "code",
   "execution_count": 81,
   "metadata": {},
   "outputs": [
    {
     "data": {
      "text/plain": [
       "((95423,), (95423,))"
      ]
     },
     "execution_count": 81,
     "metadata": {},
     "output_type": "execute_result"
    }
   ],
   "source": [
    "head_x.shape, head_y.shape"
   ]
  },
  {
   "cell_type": "markdown",
   "metadata": {},
   "source": [
    "#### Add head to df"
   ]
  },
  {
   "cell_type": "code",
   "execution_count": 82,
   "metadata": {},
   "outputs": [],
   "source": [
    "# Now, let's add 'head_x' and 'head_y' keypoints under 'head' with the same likelihood as 'body'\n",
    "for i in range(11):\n",
    "    df[('tail_{}'.format(i), 'x')] = tail_x_10[i,:] \n",
    "    df[('tail_{}'.format(i), 'y')] = tail_y_10[i,:]\n",
    "    df[('tail_{}'.format(i), 'likelihood')] = df[('body', 'likelihood')] # Copy likelihood of body to head"
   ]
  },
  {
   "cell_type": "code",
   "execution_count": 83,
   "metadata": {},
   "outputs": [],
   "source": [
    "df[('left_eye_anterior', 'x')] = left_eye_anterior_x \n",
    "df[('left_eye_anterior', 'y')] = left_eye_anterior_y \n",
    "\n",
    "df[('left_eye_posterior', 'x')] = left_eye_posterior_x \n",
    "df[('left_eye_posterior', 'y')] = left_eye_posterior_y \n",
    "\n",
    "df[('right_eye_anterior', 'x')] = right_eye_anterior_x \n",
    "df[('right_eye_anterior', 'y')] = right_eye_anterior_y \n",
    "\n",
    "df[('right_eye_posterior', 'x')] = right_eye_posterior_x \n",
    "df[('right_eye_posterior', 'y')] = right_eye_posterior_y "
   ]
  },
  {
   "cell_type": "code",
   "execution_count": 84,
   "metadata": {},
   "outputs": [],
   "source": [
    "# Now, let's add 'head_x' and 'head_y' keypoints under 'head' with the same likelihood as 'body'\n",
    "df[('mid_head', 'x')] = mid_headx \n",
    "df[('mid_head', 'y')] = mid_heady \n",
    "df[('mid_head', 'likelihood')] = df[('body', 'likelihood')] # Copy likelihood of body to head\n"
   ]
  },
  {
   "cell_type": "code",
   "execution_count": 85,
   "metadata": {},
   "outputs": [
    {
     "data": {
      "text/html": [
       "<div>\n",
       "<style scoped>\n",
       "    .dataframe tbody tr th:only-of-type {\n",
       "        vertical-align: middle;\n",
       "    }\n",
       "\n",
       "    .dataframe tbody tr th {\n",
       "        vertical-align: top;\n",
       "    }\n",
       "\n",
       "    .dataframe thead tr th {\n",
       "        text-align: left;\n",
       "    }\n",
       "</style>\n",
       "<table border=\"1\" class=\"dataframe\">\n",
       "  <thead>\n",
       "    <tr>\n",
       "      <th>bodyparts</th>\n",
       "      <th colspan=\"3\" halign=\"left\">left_eye_anterior</th>\n",
       "      <th colspan=\"3\" halign=\"left\">left_eye_posterior</th>\n",
       "      <th colspan=\"3\" halign=\"left\">right_eye_anterior</th>\n",
       "      <th>right_eye_posterior</th>\n",
       "      <th>...</th>\n",
       "      <th>tail_8</th>\n",
       "      <th colspan=\"3\" halign=\"left\">tail_9</th>\n",
       "      <th colspan=\"3\" halign=\"left\">tail_10</th>\n",
       "      <th colspan=\"3\" halign=\"left\">mid_head</th>\n",
       "    </tr>\n",
       "    <tr>\n",
       "      <th>coords</th>\n",
       "      <th>x</th>\n",
       "      <th>y</th>\n",
       "      <th>likelihood</th>\n",
       "      <th>x</th>\n",
       "      <th>y</th>\n",
       "      <th>likelihood</th>\n",
       "      <th>x</th>\n",
       "      <th>y</th>\n",
       "      <th>likelihood</th>\n",
       "      <th>x</th>\n",
       "      <th>...</th>\n",
       "      <th>likelihood</th>\n",
       "      <th>x</th>\n",
       "      <th>y</th>\n",
       "      <th>likelihood</th>\n",
       "      <th>x</th>\n",
       "      <th>y</th>\n",
       "      <th>likelihood</th>\n",
       "      <th>x</th>\n",
       "      <th>y</th>\n",
       "      <th>likelihood</th>\n",
       "    </tr>\n",
       "  </thead>\n",
       "  <tbody>\n",
       "    <tr>\n",
       "      <th>0</th>\n",
       "      <td>645.326900</td>\n",
       "      <td>521.443017</td>\n",
       "      <td>0.999891</td>\n",
       "      <td>654.856002</td>\n",
       "      <td>553.228951</td>\n",
       "      <td>0.999758</td>\n",
       "      <td>606.735142</td>\n",
       "      <td>539.762843</td>\n",
       "      <td>0.999914</td>\n",
       "      <td>628.310659</td>\n",
       "      <td>...</td>\n",
       "      <td>0.998467</td>\n",
       "      <td>463.398844</td>\n",
       "      <td>250.457989</td>\n",
       "      <td>0.998467</td>\n",
       "      <td>439.471039</td>\n",
       "      <td>239.365433</td>\n",
       "      <td>0.998467</td>\n",
       "      <td>633.807176</td>\n",
       "      <td>544.905587</td>\n",
       "      <td>0.998467</td>\n",
       "    </tr>\n",
       "    <tr>\n",
       "      <th>1</th>\n",
       "      <td>646.183150</td>\n",
       "      <td>519.644351</td>\n",
       "      <td>0.999896</td>\n",
       "      <td>656.078755</td>\n",
       "      <td>551.395331</td>\n",
       "      <td>0.999851</td>\n",
       "      <td>607.531952</td>\n",
       "      <td>537.669198</td>\n",
       "      <td>0.999881</td>\n",
       "      <td>629.298588</td>\n",
       "      <td>...</td>\n",
       "      <td>0.998625</td>\n",
       "      <td>473.571332</td>\n",
       "      <td>246.601053</td>\n",
       "      <td>0.998625</td>\n",
       "      <td>444.348114</td>\n",
       "      <td>245.641525</td>\n",
       "      <td>0.998625</td>\n",
       "      <td>634.773111</td>\n",
       "      <td>542.948934</td>\n",
       "      <td>0.998625</td>\n",
       "    </tr>\n",
       "    <tr>\n",
       "      <th>2</th>\n",
       "      <td>650.207855</td>\n",
       "      <td>517.061760</td>\n",
       "      <td>0.999923</td>\n",
       "      <td>659.556388</td>\n",
       "      <td>549.311521</td>\n",
       "      <td>0.999905</td>\n",
       "      <td>611.376284</td>\n",
       "      <td>534.990023</td>\n",
       "      <td>0.999691</td>\n",
       "      <td>632.566573</td>\n",
       "      <td>...</td>\n",
       "      <td>0.999190</td>\n",
       "      <td>491.481593</td>\n",
       "      <td>238.960160</td>\n",
       "      <td>0.999190</td>\n",
       "      <td>461.540009</td>\n",
       "      <td>236.261642</td>\n",
       "      <td>0.999190</td>\n",
       "      <td>638.426775</td>\n",
       "      <td>540.509511</td>\n",
       "      <td>0.999190</td>\n",
       "    </tr>\n",
       "    <tr>\n",
       "      <th>3</th>\n",
       "      <td>654.625610</td>\n",
       "      <td>513.145553</td>\n",
       "      <td>0.999913</td>\n",
       "      <td>664.477157</td>\n",
       "      <td>545.056029</td>\n",
       "      <td>0.999953</td>\n",
       "      <td>616.157773</td>\n",
       "      <td>530.418686</td>\n",
       "      <td>0.999719</td>\n",
       "      <td>637.127398</td>\n",
       "      <td>...</td>\n",
       "      <td>0.997801</td>\n",
       "      <td>503.204287</td>\n",
       "      <td>227.416002</td>\n",
       "      <td>0.997801</td>\n",
       "      <td>476.081390</td>\n",
       "      <td>216.947006</td>\n",
       "      <td>0.997801</td>\n",
       "      <td>643.096984</td>\n",
       "      <td>536.308950</td>\n",
       "      <td>0.997801</td>\n",
       "    </tr>\n",
       "    <tr>\n",
       "      <th>4</th>\n",
       "      <td>657.924704</td>\n",
       "      <td>510.390997</td>\n",
       "      <td>0.999740</td>\n",
       "      <td>667.236973</td>\n",
       "      <td>542.307606</td>\n",
       "      <td>0.999960</td>\n",
       "      <td>619.216163</td>\n",
       "      <td>528.236603</td>\n",
       "      <td>0.999846</td>\n",
       "      <td>640.460880</td>\n",
       "      <td>...</td>\n",
       "      <td>0.998626</td>\n",
       "      <td>506.768862</td>\n",
       "      <td>217.844257</td>\n",
       "      <td>0.998626</td>\n",
       "      <td>485.563690</td>\n",
       "      <td>199.774689</td>\n",
       "      <td>0.998626</td>\n",
       "      <td>646.209680</td>\n",
       "      <td>533.732044</td>\n",
       "      <td>0.998626</td>\n",
       "    </tr>\n",
       "  </tbody>\n",
       "</table>\n",
       "<p>5 rows × 63 columns</p>\n",
       "</div>"
      ],
      "text/plain": [
       "bodyparts left_eye_anterior                        left_eye_posterior  \\\n",
       "coords                    x           y likelihood                  x   \n",
       "0                645.326900  521.443017   0.999891         654.856002   \n",
       "1                646.183150  519.644351   0.999896         656.078755   \n",
       "2                650.207855  517.061760   0.999923         659.556388   \n",
       "3                654.625610  513.145553   0.999913         664.477157   \n",
       "4                657.924704  510.390997   0.999740         667.236973   \n",
       "\n",
       "bodyparts                        right_eye_anterior                         \\\n",
       "coords              y likelihood                  x           y likelihood   \n",
       "0          553.228951   0.999758         606.735142  539.762843   0.999914   \n",
       "1          551.395331   0.999851         607.531952  537.669198   0.999881   \n",
       "2          549.311521   0.999905         611.376284  534.990023   0.999691   \n",
       "3          545.056029   0.999953         616.157773  530.418686   0.999719   \n",
       "4          542.307606   0.999960         619.216163  528.236603   0.999846   \n",
       "\n",
       "bodyparts right_eye_posterior  ...     tail_8      tail_9              \\\n",
       "coords                      x  ... likelihood           x           y   \n",
       "0                  628.310659  ...   0.998467  463.398844  250.457989   \n",
       "1                  629.298588  ...   0.998625  473.571332  246.601053   \n",
       "2                  632.566573  ...   0.999190  491.481593  238.960160   \n",
       "3                  637.127398  ...   0.997801  503.204287  227.416002   \n",
       "4                  640.460880  ...   0.998626  506.768862  217.844257   \n",
       "\n",
       "bodyparts                tail_10                           mid_head  \\\n",
       "coords    likelihood           x           y likelihood           x   \n",
       "0           0.998467  439.471039  239.365433   0.998467  633.807176   \n",
       "1           0.998625  444.348114  245.641525   0.998625  634.773111   \n",
       "2           0.999190  461.540009  236.261642   0.999190  638.426775   \n",
       "3           0.997801  476.081390  216.947006   0.997801  643.096984   \n",
       "4           0.998626  485.563690  199.774689   0.998626  646.209680   \n",
       "\n",
       "bodyparts                         \n",
       "coords              y likelihood  \n",
       "0          544.905587   0.998467  \n",
       "1          542.948934   0.998625  \n",
       "2          540.509511   0.999190  \n",
       "3          536.308950   0.997801  \n",
       "4          533.732044   0.998626  \n",
       "\n",
       "[5 rows x 63 columns]"
      ]
     },
     "execution_count": 85,
     "metadata": {},
     "output_type": "execute_result"
    }
   ],
   "source": [
    "df.head()"
   ]
  },
  {
   "cell_type": "code",
   "execution_count": 86,
   "metadata": {},
   "outputs": [],
   "source": [
    "df.to_csv(master_path/ 'DLC_mod.csv')\n"
   ]
  },
  {
   "cell_type": "code",
   "execution_count": 87,
   "metadata": {},
   "outputs": [],
   "source": [
    "df_dlc = pd.read_csv(master_path/ 'DLC_mod.csv', header=[0, 1])\n"
   ]
  },
  {
   "cell_type": "code",
   "execution_count": 88,
   "metadata": {},
   "outputs": [
    {
     "data": {
      "text/html": [
       "<div>\n",
       "<style scoped>\n",
       "    .dataframe tbody tr th:only-of-type {\n",
       "        vertical-align: middle;\n",
       "    }\n",
       "\n",
       "    .dataframe tbody tr th {\n",
       "        vertical-align: top;\n",
       "    }\n",
       "\n",
       "    .dataframe thead tr th {\n",
       "        text-align: left;\n",
       "    }\n",
       "</style>\n",
       "<table border=\"1\" class=\"dataframe\">\n",
       "  <thead>\n",
       "    <tr>\n",
       "      <th></th>\n",
       "      <th>bodyparts</th>\n",
       "      <th colspan=\"3\" halign=\"left\">left_eye_anterior</th>\n",
       "      <th colspan=\"3\" halign=\"left\">left_eye_posterior</th>\n",
       "      <th colspan=\"3\" halign=\"left\">right_eye_anterior</th>\n",
       "      <th>...</th>\n",
       "      <th>tail_8</th>\n",
       "      <th colspan=\"3\" halign=\"left\">tail_9</th>\n",
       "      <th colspan=\"3\" halign=\"left\">tail_10</th>\n",
       "      <th colspan=\"3\" halign=\"left\">mid_head</th>\n",
       "    </tr>\n",
       "    <tr>\n",
       "      <th></th>\n",
       "      <th>coords</th>\n",
       "      <th>x</th>\n",
       "      <th>y</th>\n",
       "      <th>likelihood</th>\n",
       "      <th>x</th>\n",
       "      <th>y</th>\n",
       "      <th>likelihood</th>\n",
       "      <th>x</th>\n",
       "      <th>y</th>\n",
       "      <th>likelihood</th>\n",
       "      <th>...</th>\n",
       "      <th>likelihood</th>\n",
       "      <th>x</th>\n",
       "      <th>y</th>\n",
       "      <th>likelihood</th>\n",
       "      <th>x</th>\n",
       "      <th>y</th>\n",
       "      <th>likelihood</th>\n",
       "      <th>x</th>\n",
       "      <th>y</th>\n",
       "      <th>likelihood</th>\n",
       "    </tr>\n",
       "  </thead>\n",
       "  <tbody>\n",
       "    <tr>\n",
       "      <th>0</th>\n",
       "      <td>0</td>\n",
       "      <td>645.326900</td>\n",
       "      <td>521.443017</td>\n",
       "      <td>0.999891</td>\n",
       "      <td>654.856002</td>\n",
       "      <td>553.228951</td>\n",
       "      <td>0.999758</td>\n",
       "      <td>606.735142</td>\n",
       "      <td>539.762843</td>\n",
       "      <td>0.999914</td>\n",
       "      <td>...</td>\n",
       "      <td>0.998467</td>\n",
       "      <td>463.398844</td>\n",
       "      <td>250.457989</td>\n",
       "      <td>0.998467</td>\n",
       "      <td>439.471039</td>\n",
       "      <td>239.365433</td>\n",
       "      <td>0.998467</td>\n",
       "      <td>633.807176</td>\n",
       "      <td>544.905587</td>\n",
       "      <td>0.998467</td>\n",
       "    </tr>\n",
       "    <tr>\n",
       "      <th>1</th>\n",
       "      <td>1</td>\n",
       "      <td>646.183150</td>\n",
       "      <td>519.644351</td>\n",
       "      <td>0.999896</td>\n",
       "      <td>656.078755</td>\n",
       "      <td>551.395331</td>\n",
       "      <td>0.999851</td>\n",
       "      <td>607.531952</td>\n",
       "      <td>537.669198</td>\n",
       "      <td>0.999881</td>\n",
       "      <td>...</td>\n",
       "      <td>0.998625</td>\n",
       "      <td>473.571332</td>\n",
       "      <td>246.601053</td>\n",
       "      <td>0.998625</td>\n",
       "      <td>444.348114</td>\n",
       "      <td>245.641525</td>\n",
       "      <td>0.998625</td>\n",
       "      <td>634.773111</td>\n",
       "      <td>542.948934</td>\n",
       "      <td>0.998625</td>\n",
       "    </tr>\n",
       "    <tr>\n",
       "      <th>2</th>\n",
       "      <td>2</td>\n",
       "      <td>650.207855</td>\n",
       "      <td>517.061760</td>\n",
       "      <td>0.999923</td>\n",
       "      <td>659.556388</td>\n",
       "      <td>549.311521</td>\n",
       "      <td>0.999905</td>\n",
       "      <td>611.376284</td>\n",
       "      <td>534.990023</td>\n",
       "      <td>0.999691</td>\n",
       "      <td>...</td>\n",
       "      <td>0.999190</td>\n",
       "      <td>491.481593</td>\n",
       "      <td>238.960160</td>\n",
       "      <td>0.999190</td>\n",
       "      <td>461.540009</td>\n",
       "      <td>236.261642</td>\n",
       "      <td>0.999190</td>\n",
       "      <td>638.426775</td>\n",
       "      <td>540.509511</td>\n",
       "      <td>0.999190</td>\n",
       "    </tr>\n",
       "    <tr>\n",
       "      <th>3</th>\n",
       "      <td>3</td>\n",
       "      <td>654.625610</td>\n",
       "      <td>513.145553</td>\n",
       "      <td>0.999913</td>\n",
       "      <td>664.477157</td>\n",
       "      <td>545.056029</td>\n",
       "      <td>0.999953</td>\n",
       "      <td>616.157773</td>\n",
       "      <td>530.418686</td>\n",
       "      <td>0.999719</td>\n",
       "      <td>...</td>\n",
       "      <td>0.997801</td>\n",
       "      <td>503.204287</td>\n",
       "      <td>227.416002</td>\n",
       "      <td>0.997801</td>\n",
       "      <td>476.081390</td>\n",
       "      <td>216.947006</td>\n",
       "      <td>0.997801</td>\n",
       "      <td>643.096984</td>\n",
       "      <td>536.308950</td>\n",
       "      <td>0.997801</td>\n",
       "    </tr>\n",
       "    <tr>\n",
       "      <th>4</th>\n",
       "      <td>4</td>\n",
       "      <td>657.924704</td>\n",
       "      <td>510.390997</td>\n",
       "      <td>0.999740</td>\n",
       "      <td>667.236973</td>\n",
       "      <td>542.307606</td>\n",
       "      <td>0.999960</td>\n",
       "      <td>619.216163</td>\n",
       "      <td>528.236603</td>\n",
       "      <td>0.999846</td>\n",
       "      <td>...</td>\n",
       "      <td>0.998626</td>\n",
       "      <td>506.768862</td>\n",
       "      <td>217.844257</td>\n",
       "      <td>0.998626</td>\n",
       "      <td>485.563690</td>\n",
       "      <td>199.774689</td>\n",
       "      <td>0.998626</td>\n",
       "      <td>646.209680</td>\n",
       "      <td>533.732044</td>\n",
       "      <td>0.998626</td>\n",
       "    </tr>\n",
       "  </tbody>\n",
       "</table>\n",
       "<p>5 rows × 64 columns</p>\n",
       "</div>"
      ],
      "text/plain": [
       "  bodyparts left_eye_anterior                        left_eye_posterior  \\\n",
       "     coords                 x           y likelihood                  x   \n",
       "0         0        645.326900  521.443017   0.999891         654.856002   \n",
       "1         1        646.183150  519.644351   0.999896         656.078755   \n",
       "2         2        650.207855  517.061760   0.999923         659.556388   \n",
       "3         3        654.625610  513.145553   0.999913         664.477157   \n",
       "4         4        657.924704  510.390997   0.999740         667.236973   \n",
       "\n",
       "                         right_eye_anterior                         ...  \\\n",
       "            y likelihood                  x           y likelihood  ...   \n",
       "0  553.228951   0.999758         606.735142  539.762843   0.999914  ...   \n",
       "1  551.395331   0.999851         607.531952  537.669198   0.999881  ...   \n",
       "2  549.311521   0.999905         611.376284  534.990023   0.999691  ...   \n",
       "3  545.056029   0.999953         616.157773  530.418686   0.999719  ...   \n",
       "4  542.307606   0.999960         619.216163  528.236603   0.999846  ...   \n",
       "\n",
       "      tail_8      tail_9                            tail_10              \\\n",
       "  likelihood           x           y likelihood           x           y   \n",
       "0   0.998467  463.398844  250.457989   0.998467  439.471039  239.365433   \n",
       "1   0.998625  473.571332  246.601053   0.998625  444.348114  245.641525   \n",
       "2   0.999190  491.481593  238.960160   0.999190  461.540009  236.261642   \n",
       "3   0.997801  503.204287  227.416002   0.997801  476.081390  216.947006   \n",
       "4   0.998626  506.768862  217.844257   0.998626  485.563690  199.774689   \n",
       "\n",
       "                mid_head                         \n",
       "  likelihood           x           y likelihood  \n",
       "0   0.998467  633.807176  544.905587   0.998467  \n",
       "1   0.998625  634.773111  542.948934   0.998625  \n",
       "2   0.999190  638.426775  540.509511   0.999190  \n",
       "3   0.997801  643.096984  536.308950   0.997801  \n",
       "4   0.998626  646.209680  533.732044   0.998626  \n",
       "\n",
       "[5 rows x 64 columns]"
      ]
     },
     "execution_count": 88,
     "metadata": {},
     "output_type": "execute_result"
    }
   ],
   "source": [
    "df_dlc.head()"
   ]
  },
  {
   "cell_type": "code",
   "execution_count": null,
   "metadata": {},
   "outputs": [],
   "source": []
  },
  {
   "cell_type": "code",
   "execution_count": null,
   "metadata": {},
   "outputs": [],
   "source": []
  }
 ],
 "metadata": {
  "kernelspec": {
   "display_name": "Python 3 (ipykernel)",
   "language": "python",
   "name": "python3"
  },
  "language_info": {
   "codemirror_mode": {
    "name": "ipython",
    "version": 3
   },
   "file_extension": ".py",
   "mimetype": "text/x-python",
   "name": "python",
   "nbconvert_exporter": "python",
   "pygments_lexer": "ipython3",
   "version": "3.11.5"
  },
  "vscode": {
   "interpreter": {
    "hash": "945ab21136d100d39eb08c79ef7fc552f9de38f223a833a821377820191bf364"
   }
  }
 },
 "nbformat": 4,
 "nbformat_minor": 4
}
