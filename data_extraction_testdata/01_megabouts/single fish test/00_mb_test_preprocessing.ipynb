{
 "cells": [
  {
   "cell_type": "code",
   "execution_count": 1,
   "metadata": {},
   "outputs": [],
   "source": [
    "%load_ext autoreload \n",
    "%autoreload 2"
   ]
  },
  {
   "cell_type": "code",
   "execution_count": 2,
   "metadata": {},
   "outputs": [],
   "source": [
    "import numpy as np\n",
    "import pandas as pd\n",
    "import h5py\n",
    "from pathlib import Path\n",
    "\n",
    "from sklearn.linear_model import Ridge,Lasso\n",
    "from sklearn.decomposition import PCA\n",
    "\n",
    "import matplotlib.pyplot as plt\n",
    "from mpl_toolkits import mplot3d\n",
    "import matplotlib.gridspec as gridspec\n",
    "from matplotlib.colors import LinearSegmentedColormap\n",
    "from matplotlib import colors\n",
    "\n",
    "import matplotlib.pyplot as plt\n",
    "import seaborn as sns\n",
    "import pandas as pd\n",
    "import numpy as np\n",
    "import flammkuchen as fl\n",
    "\n",
    "from scipy.interpolate import interp1d"
   ]
  },
  {
   "cell_type": "code",
   "execution_count": 9,
   "metadata": {},
   "outputs": [
    {
     "name": "stdout",
     "output_type": "stream",
     "text": [
      "cpu\n"
     ]
    }
   ],
   "source": [
    "import torch\n",
    "device = torch.device('cuda' if torch.cuda.is_available() else 'cpu')\n",
    "print(device)"
   ]
  },
  {
   "cell_type": "code",
   "execution_count": 10,
   "metadata": {},
   "outputs": [],
   "source": [
    "from megabouts_helper import labels_cat, color"
   ]
  },
  {
   "attachments": {},
   "cell_type": "markdown",
   "metadata": {},
   "source": [
    "# Load Bouts"
   ]
  },
  {
   "cell_type": "code",
   "execution_count": 12,
   "metadata": {},
   "outputs": [
    {
     "data": {
      "text/plain": [
       "([WindowsPath('//portulab.synology.me/data/Kata/testdata/Raw_Data/240423_f0')],\n",
       " 1)"
      ]
     },
     "execution_count": 12,
     "metadata": {},
     "output_type": "execute_result"
    }
   ],
   "source": [
    "master_path = Path(r'\\\\portulab.synology.me\\data\\Kata\\testdata\\Raw_Data')\n",
    "\n",
    "fish_paths = list(master_path.glob('*f[0-9]*'))\n",
    "fish_paths, len(fish_paths)\n"
   ]
  },
  {
   "cell_type": "code",
   "execution_count": 13,
   "metadata": {},
   "outputs": [
    {
     "data": {
      "text/plain": [
       "('testfish', '240423_f0')"
      ]
     },
     "execution_count": 13,
     "metadata": {},
     "output_type": "execute_result"
    }
   ],
   "source": [
    "fish= 0\n",
    "fish_path = fish_paths[fish]\n",
    "fish_id =  fish_paths[fish].name#[:-13]\n",
    "exp_name = Path(fish_paths[fish]).parts[-2]\n",
    "exp_name = 'testfish'\n",
    "exp_name, fish_id"
   ]
  },
  {
   "cell_type": "code",
   "execution_count": 14,
   "metadata": {},
   "outputs": [],
   "source": [
    "out_path = Path(r'\\\\portulab.synology.me\\data\\Kata\\testdata\\Processed_Data')"
   ]
  },
  {
   "cell_type": "markdown",
   "metadata": {},
   "source": [
    "### Load DLC"
   ]
  },
  {
   "cell_type": "code",
   "execution_count": 15,
   "metadata": {},
   "outputs": [],
   "source": [
    "fps=200\n",
    "mm_per_unit = 1/70\n",
    "N_seg = 10"
   ]
  },
  {
   "cell_type": "code",
   "execution_count": 16,
   "metadata": {},
   "outputs": [],
   "source": [
    "df = pd.read_csv(master_path/ 'DLC_mod.csv', header=[0, 1])\n"
   ]
  },
  {
   "cell_type": "code",
   "execution_count": 17,
   "metadata": {},
   "outputs": [
    {
     "data": {
      "text/html": [
       "<div>\n",
       "<style scoped>\n",
       "    .dataframe tbody tr th:only-of-type {\n",
       "        vertical-align: middle;\n",
       "    }\n",
       "\n",
       "    .dataframe tbody tr th {\n",
       "        vertical-align: top;\n",
       "    }\n",
       "\n",
       "    .dataframe thead tr th {\n",
       "        text-align: left;\n",
       "    }\n",
       "</style>\n",
       "<table border=\"1\" class=\"dataframe\">\n",
       "  <thead>\n",
       "    <tr>\n",
       "      <th></th>\n",
       "      <th>bodyparts</th>\n",
       "      <th colspan=\"3\" halign=\"left\">left_eye_anterior</th>\n",
       "      <th colspan=\"3\" halign=\"left\">left_eye_posterior</th>\n",
       "      <th colspan=\"3\" halign=\"left\">right_eye_anterior</th>\n",
       "      <th>...</th>\n",
       "      <th>tail_8</th>\n",
       "      <th colspan=\"3\" halign=\"left\">tail_9</th>\n",
       "      <th colspan=\"3\" halign=\"left\">tail_10</th>\n",
       "      <th colspan=\"3\" halign=\"left\">mid_head</th>\n",
       "    </tr>\n",
       "    <tr>\n",
       "      <th></th>\n",
       "      <th>coords</th>\n",
       "      <th>x</th>\n",
       "      <th>y</th>\n",
       "      <th>likelihood</th>\n",
       "      <th>x</th>\n",
       "      <th>y</th>\n",
       "      <th>likelihood</th>\n",
       "      <th>x</th>\n",
       "      <th>y</th>\n",
       "      <th>likelihood</th>\n",
       "      <th>...</th>\n",
       "      <th>likelihood</th>\n",
       "      <th>x</th>\n",
       "      <th>y</th>\n",
       "      <th>likelihood</th>\n",
       "      <th>x</th>\n",
       "      <th>y</th>\n",
       "      <th>likelihood</th>\n",
       "      <th>x</th>\n",
       "      <th>y</th>\n",
       "      <th>likelihood</th>\n",
       "    </tr>\n",
       "  </thead>\n",
       "  <tbody>\n",
       "    <tr>\n",
       "      <th>0</th>\n",
       "      <td>0</td>\n",
       "      <td>645.326900</td>\n",
       "      <td>521.443017</td>\n",
       "      <td>0.999891</td>\n",
       "      <td>654.856002</td>\n",
       "      <td>553.228951</td>\n",
       "      <td>0.999758</td>\n",
       "      <td>606.735142</td>\n",
       "      <td>539.762843</td>\n",
       "      <td>0.999914</td>\n",
       "      <td>...</td>\n",
       "      <td>0.998467</td>\n",
       "      <td>463.398844</td>\n",
       "      <td>250.457989</td>\n",
       "      <td>0.998467</td>\n",
       "      <td>439.471039</td>\n",
       "      <td>239.365433</td>\n",
       "      <td>0.998467</td>\n",
       "      <td>633.807176</td>\n",
       "      <td>544.905587</td>\n",
       "      <td>0.998467</td>\n",
       "    </tr>\n",
       "    <tr>\n",
       "      <th>1</th>\n",
       "      <td>1</td>\n",
       "      <td>646.183150</td>\n",
       "      <td>519.644351</td>\n",
       "      <td>0.999896</td>\n",
       "      <td>656.078755</td>\n",
       "      <td>551.395331</td>\n",
       "      <td>0.999851</td>\n",
       "      <td>607.531952</td>\n",
       "      <td>537.669198</td>\n",
       "      <td>0.999881</td>\n",
       "      <td>...</td>\n",
       "      <td>0.998625</td>\n",
       "      <td>473.571332</td>\n",
       "      <td>246.601053</td>\n",
       "      <td>0.998625</td>\n",
       "      <td>444.348114</td>\n",
       "      <td>245.641525</td>\n",
       "      <td>0.998625</td>\n",
       "      <td>634.773111</td>\n",
       "      <td>542.948934</td>\n",
       "      <td>0.998625</td>\n",
       "    </tr>\n",
       "    <tr>\n",
       "      <th>2</th>\n",
       "      <td>2</td>\n",
       "      <td>650.207855</td>\n",
       "      <td>517.061760</td>\n",
       "      <td>0.999923</td>\n",
       "      <td>659.556388</td>\n",
       "      <td>549.311521</td>\n",
       "      <td>0.999905</td>\n",
       "      <td>611.376284</td>\n",
       "      <td>534.990023</td>\n",
       "      <td>0.999691</td>\n",
       "      <td>...</td>\n",
       "      <td>0.999190</td>\n",
       "      <td>491.481593</td>\n",
       "      <td>238.960160</td>\n",
       "      <td>0.999190</td>\n",
       "      <td>461.540009</td>\n",
       "      <td>236.261642</td>\n",
       "      <td>0.999190</td>\n",
       "      <td>638.426775</td>\n",
       "      <td>540.509511</td>\n",
       "      <td>0.999190</td>\n",
       "    </tr>\n",
       "    <tr>\n",
       "      <th>3</th>\n",
       "      <td>3</td>\n",
       "      <td>654.625610</td>\n",
       "      <td>513.145553</td>\n",
       "      <td>0.999913</td>\n",
       "      <td>664.477157</td>\n",
       "      <td>545.056029</td>\n",
       "      <td>0.999953</td>\n",
       "      <td>616.157773</td>\n",
       "      <td>530.418686</td>\n",
       "      <td>0.999719</td>\n",
       "      <td>...</td>\n",
       "      <td>0.997801</td>\n",
       "      <td>503.204287</td>\n",
       "      <td>227.416002</td>\n",
       "      <td>0.997801</td>\n",
       "      <td>476.081390</td>\n",
       "      <td>216.947006</td>\n",
       "      <td>0.997801</td>\n",
       "      <td>643.096984</td>\n",
       "      <td>536.308950</td>\n",
       "      <td>0.997801</td>\n",
       "    </tr>\n",
       "    <tr>\n",
       "      <th>4</th>\n",
       "      <td>4</td>\n",
       "      <td>657.924704</td>\n",
       "      <td>510.390997</td>\n",
       "      <td>0.999740</td>\n",
       "      <td>667.236973</td>\n",
       "      <td>542.307606</td>\n",
       "      <td>0.999960</td>\n",
       "      <td>619.216163</td>\n",
       "      <td>528.236603</td>\n",
       "      <td>0.999846</td>\n",
       "      <td>...</td>\n",
       "      <td>0.998626</td>\n",
       "      <td>506.768862</td>\n",
       "      <td>217.844257</td>\n",
       "      <td>0.998626</td>\n",
       "      <td>485.563690</td>\n",
       "      <td>199.774689</td>\n",
       "      <td>0.998626</td>\n",
       "      <td>646.209680</td>\n",
       "      <td>533.732044</td>\n",
       "      <td>0.998626</td>\n",
       "    </tr>\n",
       "  </tbody>\n",
       "</table>\n",
       "<p>5 rows × 64 columns</p>\n",
       "</div>"
      ],
      "text/plain": [
       "  bodyparts left_eye_anterior                        left_eye_posterior  \\\n",
       "     coords                 x           y likelihood                  x   \n",
       "0         0        645.326900  521.443017   0.999891         654.856002   \n",
       "1         1        646.183150  519.644351   0.999896         656.078755   \n",
       "2         2        650.207855  517.061760   0.999923         659.556388   \n",
       "3         3        654.625610  513.145553   0.999913         664.477157   \n",
       "4         4        657.924704  510.390997   0.999740         667.236973   \n",
       "\n",
       "                         right_eye_anterior                         ...  \\\n",
       "            y likelihood                  x           y likelihood  ...   \n",
       "0  553.228951   0.999758         606.735142  539.762843   0.999914  ...   \n",
       "1  551.395331   0.999851         607.531952  537.669198   0.999881  ...   \n",
       "2  549.311521   0.999905         611.376284  534.990023   0.999691  ...   \n",
       "3  545.056029   0.999953         616.157773  530.418686   0.999719  ...   \n",
       "4  542.307606   0.999960         619.216163  528.236603   0.999846  ...   \n",
       "\n",
       "      tail_8      tail_9                            tail_10              \\\n",
       "  likelihood           x           y likelihood           x           y   \n",
       "0   0.998467  463.398844  250.457989   0.998467  439.471039  239.365433   \n",
       "1   0.998625  473.571332  246.601053   0.998625  444.348114  245.641525   \n",
       "2   0.999190  491.481593  238.960160   0.999190  461.540009  236.261642   \n",
       "3   0.997801  503.204287  227.416002   0.997801  476.081390  216.947006   \n",
       "4   0.998626  506.768862  217.844257   0.998626  485.563690  199.774689   \n",
       "\n",
       "                mid_head                         \n",
       "  likelihood           x           y likelihood  \n",
       "0   0.998467  633.807176  544.905587   0.998467  \n",
       "1   0.998625  634.773111  542.948934   0.998625  \n",
       "2   0.999190  638.426775  540.509511   0.999190  \n",
       "3   0.997801  643.096984  536.308950   0.997801  \n",
       "4   0.998626  646.209680  533.732044   0.998626  \n",
       "\n",
       "[5 rows x 64 columns]"
      ]
     },
     "execution_count": 17,
     "metadata": {},
     "output_type": "execute_result"
    }
   ],
   "source": [
    "df.head()"
   ]
  },
  {
   "cell_type": "code",
   "execution_count": 35,
   "metadata": {},
   "outputs": [
    {
     "name": "stdout",
     "output_type": "stream",
     "text": [
      "7.9519166666666665 minutes at 200 fps\n",
      "working on 95423 frames\n"
     ]
    }
   ],
   "source": [
    "print(f'{df.shape[0]/(fps*60)} minutes at {fps} fps')\n",
    "print('working on {} frames'.format(df.shape[0]))\n",
    "\n",
    "#Extract angles\n",
    "body_x = df.body.values[:, 0].astype('float')\n",
    "body_y = df.body.values[:, 1].astype('float')\n",
    "\n",
    "tail_x_col = [f'tail_{i}' for i in range(N_seg)]\n",
    "tail_y_col = [f'tail_{i}' for i in range(N_seg)]\n",
    "tail_x = np.array([df[x].iloc[:, 0].values.astype('float') for x in tail_x_col])\n",
    "tail_y = np.array([df[x].iloc[:, 1].values.astype('float') for x in tail_y_col])\n"
   ]
  },
  {
   "cell_type": "code",
   "execution_count": 36,
   "metadata": {},
   "outputs": [],
   "source": [
    "head_x = df.mid_head.values[:, 0].astype('float') * mm_per_unit\n",
    "head_y = df.mid_head.values[:, 1].astype('float') * mm_per_unit"
   ]
  },
  {
   "cell_type": "code",
   "execution_count": 37,
   "metadata": {},
   "outputs": [
    {
     "data": {
      "text/plain": [
       "((95423,), (95423,))"
      ]
     },
     "execution_count": 37,
     "metadata": {},
     "output_type": "execute_result"
    }
   ],
   "source": [
    "head_x.shape, head_y.shape"
   ]
  },
  {
   "cell_type": "markdown",
   "metadata": {},
   "source": [
    "### Create tracking data"
   ]
  },
  {
   "cell_type": "code",
   "execution_count": 38,
   "metadata": {},
   "outputs": [],
   "source": [
    "from megabouts.tracking_data import TrackingConfig, FullTrackingData, load_example_data\n",
    "from megabouts.config import TailPreprocessingConfig\n",
    "from megabouts.preprocessing import TailPreprocessing"
   ]
  },
  {
   "cell_type": "code",
   "execution_count": 42,
   "metadata": {},
   "outputs": [],
   "source": [
    "# Load data and set tracking configuration\n",
    "tracking_cfg = TrackingConfig(fps=fps, tracking=\"full_tracking\")\n",
    "\n",
    "# Compute head and tail coordinates and convert to mm\n",
    "tail_x_col = [f'tail_{i}' for i in range(N_seg)]\n",
    "tail_y_col = [f'tail_{i}' for i in range(N_seg)]\n",
    "tail_x = np.array([df[x].iloc[:, 0].values.astype('float') for x in tail_x_col]) * mm_per_unit\n",
    "tail_y = np.array([df[x].iloc[:, 1].values.astype('float') for x in tail_y_col]) * mm_per_unit\n",
    "head_x = df.mid_head.values[:, 0].astype('float') * mm_per_unit\n",
    "head_y = df.mid_head.values[:, 1].astype('float') * mm_per_unit\n"
   ]
  },
  {
   "cell_type": "code",
   "execution_count": 48,
   "metadata": {},
   "outputs": [
    {
     "data": {
      "text/plain": [
       "((95423, 10), (10, 95423), (95423,), (95423,))"
      ]
     },
     "execution_count": 48,
     "metadata": {},
     "output_type": "execute_result"
    }
   ],
   "source": [
    "tail_x.T.shape, tail_y.shape, head_x.shape, head_y.shape"
   ]
  },
  {
   "cell_type": "code",
   "execution_count": 49,
   "metadata": {},
   "outputs": [],
   "source": [
    "# Create FullTrackingData object\n",
    "tracking_data = FullTrackingData.from_keypoints(\n",
    "    head_x=head_x, head_y=head_y, tail_x=tail_x.T, tail_y=tail_y.T\n",
    ")"
   ]
  },
  {
   "cell_type": "markdown",
   "metadata": {},
   "source": [
    "### Set up pipeline"
   ]
  },
  {
   "cell_type": "code",
   "execution_count": 50,
   "metadata": {},
   "outputs": [
    {
     "name": "stdout",
     "output_type": "stream",
     "text": [
      "TailPreprocessingConfig(fps=200, limit_na_ms=100, num_pcs=4, savgol_window_ms=15, baseline_method='median', baseline_params={'fps': 200, 'half_window': 100}, tail_speed_filter_ms=100, tail_speed_boxcar_filter_ms=14)\n"
     ]
    }
   ],
   "source": [
    "tail_preprocessing_cfg = TailPreprocessingConfig(fps=tracking_cfg.fps)\n",
    "print(tail_preprocessing_cfg)"
   ]
  },
  {
   "cell_type": "code",
   "execution_count": 51,
   "metadata": {},
   "outputs": [],
   "source": [
    "tail_preprocessing_cfg = TailPreprocessingConfig(\n",
    "    fps=tracking_cfg.fps,\n",
    "    num_pcs=3,\n",
    "    savgol_window_ms=30,\n",
    "    tail_speed_filter_ms=50,\n",
    "    tail_speed_boxcar_filter_ms=14,\n",
    ")"
   ]
  },
  {
   "cell_type": "code",
   "execution_count": null,
   "metadata": {},
   "outputs": [],
   "source": [
    "#tail_preprocessing_cfg.baseline_params[\"half_window\"] = 100"
   ]
  },
  {
   "cell_type": "markdown",
   "metadata": {},
   "source": [
    "### Create tail input from df"
   ]
  },
  {
   "cell_type": "code",
   "execution_count": 52,
   "metadata": {},
   "outputs": [],
   "source": [
    "tail_df_input = tracking_data.tail_df\n",
    "tail = TailPreprocessing(tail_preprocessing_cfg).preprocess_tail_df(tail_df_input)"
   ]
  },
  {
   "cell_type": "code",
   "execution_count": 53,
   "metadata": {},
   "outputs": [
    {
     "data": {
      "text/html": [
       "<div>\n",
       "<style scoped>\n",
       "    .dataframe tbody tr th:only-of-type {\n",
       "        vertical-align: middle;\n",
       "    }\n",
       "\n",
       "    .dataframe tbody tr th {\n",
       "        vertical-align: top;\n",
       "    }\n",
       "\n",
       "    .dataframe thead tr th {\n",
       "        text-align: left;\n",
       "    }\n",
       "</style>\n",
       "<table border=\"1\" class=\"dataframe\">\n",
       "  <thead>\n",
       "    <tr>\n",
       "      <th></th>\n",
       "      <th colspan=\"10\" halign=\"left\">angle</th>\n",
       "      <th>...</th>\n",
       "      <th colspan=\"8\" halign=\"left\">angle_smooth</th>\n",
       "      <th>vigor</th>\n",
       "      <th>no_tracking</th>\n",
       "    </tr>\n",
       "    <tr>\n",
       "      <th></th>\n",
       "      <th colspan=\"10\" halign=\"left\">segments</th>\n",
       "      <th>...</th>\n",
       "      <th colspan=\"8\" halign=\"left\">segments</th>\n",
       "      <th></th>\n",
       "      <th></th>\n",
       "    </tr>\n",
       "    <tr>\n",
       "      <th></th>\n",
       "      <th>0</th>\n",
       "      <th>1</th>\n",
       "      <th>2</th>\n",
       "      <th>3</th>\n",
       "      <th>4</th>\n",
       "      <th>5</th>\n",
       "      <th>6</th>\n",
       "      <th>7</th>\n",
       "      <th>8</th>\n",
       "      <th>9</th>\n",
       "      <th>...</th>\n",
       "      <th>2</th>\n",
       "      <th>3</th>\n",
       "      <th>4</th>\n",
       "      <th>5</th>\n",
       "      <th>6</th>\n",
       "      <th>7</th>\n",
       "      <th>8</th>\n",
       "      <th>9</th>\n",
       "      <th></th>\n",
       "      <th></th>\n",
       "    </tr>\n",
       "  </thead>\n",
       "  <tbody>\n",
       "    <tr>\n",
       "      <th>0</th>\n",
       "      <td>0.090784</td>\n",
       "      <td>0.123717</td>\n",
       "      <td>0.111344</td>\n",
       "      <td>0.054913</td>\n",
       "      <td>-0.051299</td>\n",
       "      <td>-0.193431</td>\n",
       "      <td>-0.333910</td>\n",
       "      <td>-0.452177</td>\n",
       "      <td>-0.555676</td>\n",
       "      <td>-0.647751</td>\n",
       "      <td>...</td>\n",
       "      <td>0.133873</td>\n",
       "      <td>0.076887</td>\n",
       "      <td>-0.020960</td>\n",
       "      <td>-0.175940</td>\n",
       "      <td>-0.320145</td>\n",
       "      <td>-0.443677</td>\n",
       "      <td>-0.594785</td>\n",
       "      <td>-0.728019</td>\n",
       "      <td>NaN</td>\n",
       "      <td>False</td>\n",
       "    </tr>\n",
       "    <tr>\n",
       "      <th>1</th>\n",
       "      <td>0.019921</td>\n",
       "      <td>0.104543</td>\n",
       "      <td>0.141840</td>\n",
       "      <td>0.131121</td>\n",
       "      <td>0.071889</td>\n",
       "      <td>-0.029120</td>\n",
       "      <td>-0.162681</td>\n",
       "      <td>-0.334381</td>\n",
       "      <td>-0.556330</td>\n",
       "      <td>-0.827871</td>\n",
       "      <td>...</td>\n",
       "      <td>0.107341</td>\n",
       "      <td>0.096564</td>\n",
       "      <td>0.061334</td>\n",
       "      <td>-0.009364</td>\n",
       "      <td>-0.102073</td>\n",
       "      <td>-0.254881</td>\n",
       "      <td>-0.445019</td>\n",
       "      <td>-0.709041</td>\n",
       "      <td>NaN</td>\n",
       "      <td>False</td>\n",
       "    </tr>\n",
       "    <tr>\n",
       "      <th>2</th>\n",
       "      <td>-0.010418</td>\n",
       "      <td>0.059507</td>\n",
       "      <td>0.107592</td>\n",
       "      <td>0.130729</td>\n",
       "      <td>0.129017</td>\n",
       "      <td>0.100913</td>\n",
       "      <td>0.029990</td>\n",
       "      <td>-0.115527</td>\n",
       "      <td>-0.356922</td>\n",
       "      <td>-0.696760</td>\n",
       "      <td>...</td>\n",
       "      <td>0.072517</td>\n",
       "      <td>0.093307</td>\n",
       "      <td>0.104576</td>\n",
       "      <td>0.099487</td>\n",
       "      <td>0.052099</td>\n",
       "      <td>-0.104279</td>\n",
       "      <td>-0.299869</td>\n",
       "      <td>-0.624903</td>\n",
       "      <td>NaN</td>\n",
       "      <td>False</td>\n",
       "    </tr>\n",
       "    <tr>\n",
       "      <th>3</th>\n",
       "      <td>-0.078616</td>\n",
       "      <td>-0.013945</td>\n",
       "      <td>0.041066</td>\n",
       "      <td>0.084514</td>\n",
       "      <td>0.115581</td>\n",
       "      <td>0.132370</td>\n",
       "      <td>0.110188</td>\n",
       "      <td>0.011900</td>\n",
       "      <td>-0.176136</td>\n",
       "      <td>-0.458141</td>\n",
       "      <td>...</td>\n",
       "      <td>0.029401</td>\n",
       "      <td>0.067117</td>\n",
       "      <td>0.108767</td>\n",
       "      <td>0.150613</td>\n",
       "      <td>0.142372</td>\n",
       "      <td>0.008130</td>\n",
       "      <td>-0.159336</td>\n",
       "      <td>-0.475606</td>\n",
       "      <td>NaN</td>\n",
       "      <td>False</td>\n",
       "    </tr>\n",
       "    <tr>\n",
       "      <th>4</th>\n",
       "      <td>-0.083335</td>\n",
       "      <td>-0.065400</td>\n",
       "      <td>-0.037489</td>\n",
       "      <td>0.000194</td>\n",
       "      <td>0.048417</td>\n",
       "      <td>0.102397</td>\n",
       "      <td>0.127460</td>\n",
       "      <td>0.086378</td>\n",
       "      <td>-0.023552</td>\n",
       "      <td>-0.205295</td>\n",
       "      <td>...</td>\n",
       "      <td>-0.042100</td>\n",
       "      <td>-0.003951</td>\n",
       "      <td>0.053878</td>\n",
       "      <td>0.130241</td>\n",
       "      <td>0.164721</td>\n",
       "      <td>0.097658</td>\n",
       "      <td>0.017397</td>\n",
       "      <td>-0.184032</td>\n",
       "      <td>NaN</td>\n",
       "      <td>False</td>\n",
       "    </tr>\n",
       "  </tbody>\n",
       "</table>\n",
       "<p>5 rows × 32 columns</p>\n",
       "</div>"
      ],
      "text/plain": [
       "      angle                                                              \\\n",
       "   segments                                                               \n",
       "          0         1         2         3         4         5         6   \n",
       "0  0.090784  0.123717  0.111344  0.054913 -0.051299 -0.193431 -0.333910   \n",
       "1  0.019921  0.104543  0.141840  0.131121  0.071889 -0.029120 -0.162681   \n",
       "2 -0.010418  0.059507  0.107592  0.130729  0.129017  0.100913  0.029990   \n",
       "3 -0.078616 -0.013945  0.041066  0.084514  0.115581  0.132370  0.110188   \n",
       "4 -0.083335 -0.065400 -0.037489  0.000194  0.048417  0.102397  0.127460   \n",
       "\n",
       "                                 ... angle_smooth                      \\\n",
       "                                 ...     segments                       \n",
       "          7         8         9  ...            2         3         4   \n",
       "0 -0.452177 -0.555676 -0.647751  ...     0.133873  0.076887 -0.020960   \n",
       "1 -0.334381 -0.556330 -0.827871  ...     0.107341  0.096564  0.061334   \n",
       "2 -0.115527 -0.356922 -0.696760  ...     0.072517  0.093307  0.104576   \n",
       "3  0.011900 -0.176136 -0.458141  ...     0.029401  0.067117  0.108767   \n",
       "4  0.086378 -0.023552 -0.205295  ...    -0.042100 -0.003951  0.053878   \n",
       "\n",
       "                                                    vigor no_tracking  \n",
       "                                                                       \n",
       "          5         6         7         8         9                    \n",
       "0 -0.175940 -0.320145 -0.443677 -0.594785 -0.728019   NaN       False  \n",
       "1 -0.009364 -0.102073 -0.254881 -0.445019 -0.709041   NaN       False  \n",
       "2  0.099487  0.052099 -0.104279 -0.299869 -0.624903   NaN       False  \n",
       "3  0.150613  0.142372  0.008130 -0.159336 -0.475606   NaN       False  \n",
       "4  0.130241  0.164721  0.097658  0.017397 -0.184032   NaN       False  \n",
       "\n",
       "[5 rows x 32 columns]"
      ]
     },
     "execution_count": 53,
     "metadata": {},
     "output_type": "execute_result"
    }
   ],
   "source": [
    "tail.df.head(5)"
   ]
  },
  {
   "cell_type": "markdown",
   "metadata": {},
   "source": [
    "### Visualise processing"
   ]
  },
  {
   "cell_type": "code",
   "execution_count": 59,
   "metadata": {},
   "outputs": [
    {
     "data": {
      "image/png": "[encoded data removed]",
      "text/plain": [
       "<Figure size 1000x700 with 2 Axes>"
      ]
     },
     "metadata": {},
     "output_type": "display_data"
    }
   ],
   "source": [
    "from cycler import cycler\n",
    "\n",
    "blue_cycler = cycler(color=plt.cm.Blues(np.linspace(0.2, 0.9, 10)))\n",
    "\n",
    "t = np.arange(tracking_data.T) / tracking_cfg.fps\n",
    "IdSt = np.random.randint(tracking_data.T)\n",
    "Duration = 150\n",
    "t_win = t[IdSt : IdSt + Duration] - t[IdSt]\n",
    "\n",
    "# Prepare the data, titles, and subtitles\n",
    "angle_data = [tail.angle, tail.angle_smooth]\n",
    "subtitles = [\"Raw Data\", \"Smoothed Data\"]\n",
    "\n",
    "# Create subplots\n",
    "fig, ax = plt.subplots(2, 1, figsize=(10, 7), sharex=True)\n",
    "\n",
    "# Set a main title for the figure\n",
    "fig.suptitle(\"Tail Preprocessing\", fontsize=16)\n",
    "\n",
    "# Loop over the axes, data, and subtitles\n",
    "for axis, data, subtitle in zip(ax, angle_data, subtitles):\n",
    "    axis.set_prop_cycle(blue_cycler)\n",
    "    axis.plot(t_win, data[IdSt : IdSt + Duration, :7])\n",
    "    axis.set(ylabel=\"Angle (rad)\", ylim=(-4, 4))\n",
    "    axis.set_title(subtitle, fontsize=12)\n",
    "\n",
    "# Set x-label for the last subplot\n",
    "ax[-1].set_xlabel(\"Time (s)\")\n",
    "plt.show()\n",
    "\n"
   ]
  },
  {
   "cell_type": "code",
   "execution_count": null,
   "metadata": {},
   "outputs": [],
   "source": []
  }
 ],
 "metadata": {
  "kernelspec": {
   "display_name": "Python 3 (ipykernel)",
   "language": "python",
   "name": "python3"
  },
  "language_info": {
   "codemirror_mode": {
    "name": "ipython",
    "version": 3
   },
   "file_extension": ".py",
   "mimetype": "text/x-python",
   "name": "python",
   "nbconvert_exporter": "python",
   "pygments_lexer": "ipython3",
   "version": "3.11.10"
  },
  "vscode": {
   "interpreter": {
    "hash": "945ab21136d100d39eb08c79ef7fc552f9de38f223a833a821377820191bf364"
   }
  }
 },
 "nbformat": 4,
 "nbformat_minor": 4
}
