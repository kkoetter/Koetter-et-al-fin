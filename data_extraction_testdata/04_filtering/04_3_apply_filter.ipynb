{
 "cells": [
  {
   "cell_type": "code",
   "execution_count": 1,
   "id": "8c79fdfb",
   "metadata": {},
   "outputs": [],
   "source": [
    "%load_ext autoreload\n",
    "%autoreload 2\n",
    "import warnings\n",
    "warnings.filterwarnings('ignore')\n"
   ]
  },
  {
   "cell_type": "code",
   "execution_count": 2,
   "id": "4a1b4e34",
   "metadata": {},
   "outputs": [],
   "source": [
    "%matplotlib inline"
   ]
  },
  {
   "cell_type": "code",
   "execution_count": 3,
   "id": "89d7fc36",
   "metadata": {},
   "outputs": [],
   "source": [
    "import os\n",
    "import json\n",
    "\n",
    "# Data Wrangling\n",
    "import h5py\n",
    "import numpy as np\n",
    "import pandas as pd\n",
    "from pathlib import Path\n",
    "import matplotlib.pyplot as plt\n",
    "import glob\n",
    "import flammkuchen as fl\n",
    "import shutil\n",
    "import seaborn as sns\n",
    "import matplotlib as mpl\n",
    "from tqdm import tqdm"
   ]
  },
  {
   "cell_type": "code",
   "execution_count": 4,
   "id": "833a9761-a3bb-40f1-8e07-6ee292770881",
   "metadata": {},
   "outputs": [],
   "source": [
    "from filter_helper import smooth_trace"
   ]
  },
  {
   "cell_type": "markdown",
   "id": "3b69f95f-ff4a-4483-9221-46bfbf72b8c9",
   "metadata": {},
   "source": [
    "### Load data"
   ]
  },
  {
   "cell_type": "code",
   "execution_count": 5,
   "id": "6fbb514f",
   "metadata": {},
   "outputs": [
    {
     "data": {
      "text/plain": [
       "[WindowsPath('//portulab.synology.me/data/Kata/Figures_Paper/Koetter-et-al_data/Testdata/Raw_Data/240423_f0')]"
      ]
     },
     "execution_count": 5,
     "metadata": {},
     "output_type": "execute_result"
    }
   ],
   "source": [
    "master_path = Path(Path(r'\\\\portulab.synology.me\\data\\Kata\\Figures_Paper\\Koetter-et-al_data\\Testdata') / 'Raw_Data')\n",
    "out_path = Path(master_path/'Processed_Data')\n",
    "save_data_path = out_path\n",
    "fish_paths = list(master_path.glob('*f[0-9]*'))\n",
    "fish_paths"
   ]
  },
  {
   "cell_type": "code",
   "execution_count": 6,
   "id": "b29dbee1-a342-441e-8015-3fe504251a7d",
   "metadata": {},
   "outputs": [
    {
     "data": {
      "text/plain": [
       "('testfish', '240423_f0')"
      ]
     },
     "execution_count": 6,
     "metadata": {},
     "output_type": "execute_result"
    }
   ],
   "source": [
    "fish= 0\n",
    "fish_path = fish_paths[fish]\n",
    "fish_id =  fish_paths[fish].name\n",
    "exp_name = 'testfish'\n",
    "exp_name, fish_id"
   ]
  },
  {
   "cell_type": "markdown",
   "id": "664a3504-e218-44b2-820c-bda2b35d7b28",
   "metadata": {},
   "source": [
    "## Load data all"
   ]
  },
  {
   "cell_type": "code",
   "execution_count": 7,
   "id": "e99b0622-a1e4-486b-8062-6f3388389580",
   "metadata": {},
   "outputs": [],
   "source": [
    "plot =True\n",
    "threshold_value = 0.15\n",
    "max_threshold_factor = 2  # Example factor to define \"significantly larger\""
   ]
  },
  {
   "cell_type": "code",
   "execution_count": 9,
   "id": "4735ab88-476c-4a66-a7b7-14994d599da8",
   "metadata": {},
   "outputs": [
    {
     "name": "stderr",
     "output_type": "stream",
     "text": [
      "  0%|                                                                                            | 0/1 [00:00<?, ?it/s]"
     ]
    },
    {
     "name": "stdout",
     "output_type": "stream",
     "text": [
      "Working on fish 240423_f0\n",
      "(460, 37) (460,)\n",
      "460 317\n"
     ]
    },
    {
     "name": "stderr",
     "output_type": "stream",
     "text": [
      "100%|████████████████████████████████████████████████████████████████████████████████████| 1/1 [00:00<00:00,  2.74it/s]\n"
     ]
    }
   ],
   "source": [
    "for ind, fish_path in enumerate(tqdm(fish_paths)):\n",
    "    fish_id =  fish_path.name\n",
    "    print ('Working on fish {}'.format(fish_id))\n",
    "    data = fl.load(out_path/ '{}_tensor_ipsi_contra.h5'.format(fish_id))\n",
    "    tail_vectors = fl.load(out_path / '{}_tail_tensor.h5'.format(fish_id))\n",
    "    df = pd.read_csv(Path(out_path /'{}_features.csv'.format(fish_id)))  \n",
    "    \n",
    "    tail = data[:, 0, :]\n",
    "    i_fins = data[:, 1, :]\n",
    "    c_fins = data[:, 2, :]\n",
    "\n",
    "    good_bouts = fl.load(Path(out_path/\"{}_manual_filter_f.csv\".format(fish_id))) #this saves goood bouts\n",
    "    mask = good_bouts == True \n",
    "    print (df.shape, mask.shape)\n",
    "\n",
    "    data_f = data[mask]\n",
    "    tail_vectors_f = tail_vectors[mask]\n",
    "    df_f = df[mask]\n",
    "    print (data.shape[0], data_f.shape[0])\n",
    "    \n",
    "    ## save tensor \n",
    "    fl.save(out_path / '{}_tensor_ipsi_contra_f.h5'.format(fish_id), data_f)\n",
    "    fl.save(out_path / '{}_tail_tensor_f.h5'.format(fish_id), tail_vectors_f)\n",
    "    df_f.to_csv(Path(out_path /'{}_features_ipsi_contra_f.csv'.format(fish_id)), index=False)  "
   ]
  },
  {
   "cell_type": "code",
   "execution_count": 10,
   "id": "60537ede-f769-4308-92f5-403dd617d256",
   "metadata": {},
   "outputs": [
    {
     "name": "stdout",
     "output_type": "stream",
     "text": [
      "done\n"
     ]
    }
   ],
   "source": [
    "print ('done')"
   ]
  },
  {
   "cell_type": "code",
   "execution_count": null,
   "id": "a234eb72-36a4-4c9e-9f51-a1c9c6f303d6",
   "metadata": {},
   "outputs": [],
   "source": []
  },
  {
   "cell_type": "code",
   "execution_count": null,
   "id": "63fca927-9909-4c2e-90db-b95dc68f86fa",
   "metadata": {},
   "outputs": [],
   "source": []
  },
  {
   "cell_type": "code",
   "execution_count": null,
   "id": "c3820b72-e3f0-4052-9810-66363967ad60",
   "metadata": {},
   "outputs": [],
   "source": []
  },
  {
   "cell_type": "code",
   "execution_count": null,
   "id": "9d1b383f-ce60-4b8b-a748-f6bd00a5fc51",
   "metadata": {},
   "outputs": [],
   "source": []
  },
  {
   "cell_type": "code",
   "execution_count": null,
   "id": "993d375c-a1b9-41f0-8b23-08d0dcfb638b",
   "metadata": {},
   "outputs": [],
   "source": []
  }
 ],
 "metadata": {
  "kernelspec": {
   "display_name": "Python 3 (ipykernel)",
   "language": "python",
   "name": "python3"
  },
  "language_info": {
   "codemirror_mode": {
    "name": "ipython",
    "version": 3
   },
   "file_extension": ".py",
   "mimetype": "text/x-python",
   "name": "python",
   "nbconvert_exporter": "python",
   "pygments_lexer": "ipython3",
   "version": "3.11.5"
  }
 },
 "nbformat": 4,
 "nbformat_minor": 5
}
