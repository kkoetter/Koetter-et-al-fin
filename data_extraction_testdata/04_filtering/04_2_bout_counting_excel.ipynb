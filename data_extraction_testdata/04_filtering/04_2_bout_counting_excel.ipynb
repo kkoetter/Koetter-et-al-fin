{
 "cells": [
  {
   "cell_type": "code",
   "execution_count": 1,
   "id": "12c493a6",
   "metadata": {},
   "outputs": [],
   "source": [
    "%load_ext autoreload\n",
    "%autoreload 2\n",
    "import warnings\n",
    "warnings.filterwarnings('ignore')\n"
   ]
  },
  {
   "cell_type": "code",
   "execution_count": 2,
   "id": "e6efbb4c",
   "metadata": {},
   "outputs": [],
   "source": [
    "import os\n",
    "import json\n",
    "import h5py\n",
    "import flammkuchen as fl\n",
    "\n",
    "import numpy as np\n",
    "import pandas as pd\n",
    "\n",
    "from pathlib import Path\n",
    "import glob\n",
    "\n",
    "import seaborn as sns\n",
    "import matplotlib as mpl\n",
    "import matplotlib.pyplot as plt\n",
    "from tqdm import tqdm"
   ]
  },
  {
   "cell_type": "markdown",
   "id": "546bd5c2-0c82-4fc7-80ff-ecb97d449f3d",
   "metadata": {},
   "source": [
    "## For excel sheet"
   ]
  },
  {
   "cell_type": "code",
   "execution_count": 3,
   "id": "c5e7929f-6a75-42d1-87e9-0a5c0000a1f1",
   "metadata": {},
   "outputs": [
    {
     "data": {
      "text/plain": [
       "([WindowsPath('//portulab.synology.me/data/Kata/Data/221209_DLC_set3/104838_f0'),\n",
       "  WindowsPath('//portulab.synology.me/data/Kata/Data/221209_DLC_set3/105318_f0'),\n",
       "  WindowsPath('//portulab.synology.me/data/Kata/Data/221209_DLC_set3/110006_f0'),\n",
       "  WindowsPath('//portulab.synology.me/data/Kata/Data/221209_DLC_set3/111026_f0'),\n",
       "  WindowsPath('//portulab.synology.me/data/Kata/Data/221209_DLC_set3/112750_f1'),\n",
       "  WindowsPath('//portulab.synology.me/data/Kata/Data/221209_DLC_set3/113812_f1'),\n",
       "  WindowsPath('//portulab.synology.me/data/Kata/Data/221209_DLC_set3/114815_f1'),\n",
       "  WindowsPath('//portulab.synology.me/data/Kata/Data/221209_DLC_set3/120402_f2'),\n",
       "  WindowsPath('//portulab.synology.me/data/Kata/Data/221209_DLC_set3/122553_f2'),\n",
       "  WindowsPath('//portulab.synology.me/data/Kata/Data/221209_DLC_set3/132502_f3'),\n",
       "  WindowsPath('//portulab.synology.me/data/Kata/Data/221209_DLC_set3/133605_f3'),\n",
       "  WindowsPath('//portulab.synology.me/data/Kata/Data/221209_DLC_set3/134607_f4'),\n",
       "  WindowsPath('//portulab.synology.me/data/Kata/Data/221209_DLC_set3/135832_f4'),\n",
       "  WindowsPath('//portulab.synology.me/data/Kata/Data/221209_DLC_set3/140544_f0'),\n",
       "  WindowsPath('//portulab.synology.me/data/Kata/Data/221209_DLC_set3/141621_f1'),\n",
       "  WindowsPath('//portulab.synology.me/data/Kata/Data/221209_DLC_set3/142529_f1'),\n",
       "  WindowsPath('//portulab.synology.me/data/Kata/Data/221209_DLC_set3/142800_f1'),\n",
       "  WindowsPath('//portulab.synology.me/data/Kata/Data/221209_DLC_set3/143812_f1'),\n",
       "  WindowsPath('//portulab.synology.me/data/Kata/Data/221209_DLC_set3/144849_f1'),\n",
       "  WindowsPath('//portulab.synology.me/data/Kata/Data/221209_DLC_set3/145052_f1'),\n",
       "  WindowsPath('//portulab.synology.me/data/Kata/Data/221209_DLC_set3/145628_f2'),\n",
       "  WindowsPath('//portulab.synology.me/data/Kata/Data/221209_DLC_set3/150645_f2')],\n",
       " 22)"
      ]
     },
     "execution_count": 3,
     "metadata": {},
     "output_type": "execute_result"
    }
   ],
   "source": [
    "#master_path = Path(r\"\\\\portulab.synology.me\\data\\Kata\\Data\\230307_visstim_2D\")\n",
    "# master_path = Path(r\"\\\\portulab.synology.me\\data\\Kata\\Data\\231106_drunk_fish\\Control\")\n",
    "# master_path = Path(r\"\\\\portulab.synology.me\\data\\Kata\\Data\\231106_drunk_fish\\Drunk\")\n",
    "master_path = Path(r\"\\\\portulab.synology.me\\data\\Kata\\Data\\221209_DLC_set3\")\n",
    "# master_path = Path(r\"\\\\portulab.synology.me\\data\\Kata\\Data\\22042024_visstim_2D_round\")\n",
    "# master_path = Path(r\"\\\\portulab.synology.me\\data\\Kata\\Data\\12052024_visstim_round\")\n",
    "# master_path = Path(r\"\\\\portulab.synology.me\\data\\Kata\\Data\\22042024_visstim_2D_2\")\n",
    "# master_path = Path(r\"\\\\portulab.synology.me\\data\\Kata\\Data\\13052024_visstim_2D_round\")\n",
    "# master_path = Path(r\"\\\\portulab.synology.me\\data\\Kata\\Data\\22042024_visstim_2D_round\")\n",
    "# master_path = Path(r\"\\\\portulab.synology.me\\data\\Kata\\Data\\19062024_Hb_post_ablation\")\n",
    "# master_path = Path(r\"\\\\portulab.synology.me\\data\\Kata\\Data\\18062024_Hb_pre_ablation\")\n",
    "# master_path = Path(r\"\\\\portulab.synology.me\\data\\Kata\\Data\\18062024_PC_pre_ablation\")\n",
    "# master_path = Path(r\"\\\\portulab.synology.me\\data\\Kata\\Data\\19062024_PC_post_ablation\")\n",
    "\n",
    "fish_paths = list(master_path.glob('*f[0-9]*'))\n",
    "fish_paths, len(fish_paths)"
   ]
  },
  {
   "cell_type": "code",
   "execution_count": 4,
   "id": "986fb5ac-8700-4f9d-99ad-3acbb8a8b6a6",
   "metadata": {},
   "outputs": [],
   "source": [
    "# out_path = Path(r\"\\\\portulab.synology.me\\data\\Kata\\Processed_Data\\22042024_visstim_2D_2_\")\n",
    "# out_path = Path(r\"\\\\portulab.synology.me\\data\\Kata\\Processed_Data\\22042024_visstim_2D_round_\")\n",
    "# out_path = Path(r\"\\\\portulab.synology.me\\data\\Kata\\testdata_cluster\\lrz_results\")\n",
    "# out_path = Path(r\"\\\\portulab.synology.me\\data\\Kata\\Processed_Data\\22042024_visstim_2D_2_\")\n",
    "# out_path = Path(r\"\\\\portulab.synology.me\\data\\Kata\\Processed_Data\\13052024_visstim_2D_round_\")\n",
    "# out_path = Path(r\"\\\\portulab.synology.me\\data\\Kata\\Processed_Data\\12052024_visstim_round_\")\n",
    "# out_path = Path(r\"\\\\portulab.synology.me\\data\\Kata\\Processed_Data\\22042024_visstim_2D_round_\")\n",
    "# out_path = Path(r\"\\\\portulab.synology.me\\data\\Kata\\Processed_Data\\19062024_Hb_post_ablation_\")\n",
    "# out_path = Path(r\"\\\\portulab.synology.me\\data\\Kata\\Processed_Data\\18062024_Hb_pre_ablation_\")\n",
    "# out_path = Path(r\"\\\\portulab.synology.me\\data\\Kata\\Processed_Data\\18062024_PC_pre_ablation_\")\n",
    "# out_path = Path(r\"\\\\portulab.synology.me\\data\\Kata\\Processed_Data\\19062024_PC_post_ablation_\")\n",
    "out_path = Path(r\"\\\\portulab.synology.me\\data\\Kata\\Processed_Data\\221209_DLC_set3_\")"
   ]
  },
  {
   "cell_type": "code",
   "execution_count": 6,
   "id": "eb7e336b-a967-4c7d-8e03-ed3058129aa7",
   "metadata": {},
   "outputs": [
    {
     "name": "stdout",
     "output_type": "stream",
     "text": [
      "43\n",
      "114\n",
      "225\n",
      "261\n",
      "364\n",
      "385\n",
      "296\n",
      "562\n",
      "529\n",
      "577\n",
      "530\n",
      "498\n",
      "506\n",
      "411\n",
      "283\n",
      "57\n",
      "648\n",
      "563\n",
      "37\n",
      "185\n",
      "195\n",
      "294\n"
     ]
    }
   ],
   "source": [
    "for ind, fish_path in enumerate(fish_paths):\n",
    "    try:\n",
    "        fish_id =  fish_path.name\n",
    "        # print (fish_id)\n",
    "        df = pd.read_csv(Path(out_path/ \"{}_features.csv\".format(fish_id)))\n",
    "        print (df.shape[0])\n",
    "    except:\n",
    "        pass"
   ]
  },
  {
   "cell_type": "code",
   "execution_count": 7,
   "id": "42220504-b722-4b9a-a48b-9134eed3c55e",
   "metadata": {},
   "outputs": [
    {
     "name": "stdout",
     "output_type": "stream",
     "text": [
      "4\n",
      "1\n",
      "4\n",
      "1\n",
      "29\n",
      "17\n",
      "25\n",
      "46\n",
      "22\n",
      "121\n",
      "51\n",
      "103\n",
      "48\n",
      "60\n",
      "81\n",
      "14\n",
      "105\n",
      "39\n",
      "0\n",
      "6\n",
      "34\n",
      "13\n"
     ]
    }
   ],
   "source": [
    "\n",
    "# for ind, fish_path in enumerate(fish_paths):\n",
    "#     try:\n",
    "#         fish_id =  fish_path.name\n",
    "#         # print (fish_id)\n",
    "#         df_post = pd.read_csv(Path(out_path /'filtered'/'{}_features_filtered_mf.csv'.format(fish_id)))\n",
    "#         print (df_post.shape[0])\n",
    "#     except:\n",
    "#         pass"
   ]
  },
  {
   "cell_type": "code",
   "execution_count": null,
   "id": "e9a8f9b6-8d98-4518-a0a1-65c610a1d92c",
   "metadata": {},
   "outputs": [],
   "source": []
  },
  {
   "cell_type": "code",
   "execution_count": null,
   "id": "f3689866-336f-45f4-b7c6-a6f60bbdcbec",
   "metadata": {},
   "outputs": [],
   "source": []
  },
  {
   "cell_type": "code",
   "execution_count": null,
   "id": "bb7e9857-db1e-437c-824f-2b2757ebb430",
   "metadata": {},
   "outputs": [],
   "source": []
  },
  {
   "cell_type": "code",
   "execution_count": null,
   "id": "9492f775-9545-44a1-bf69-963a54e92a4a",
   "metadata": {},
   "outputs": [],
   "source": []
  },
  {
   "cell_type": "code",
   "execution_count": null,
   "id": "4d512a98-96ac-4625-aaa6-1aec7579c8c8",
   "metadata": {},
   "outputs": [],
   "source": []
  }
 ],
 "metadata": {
  "kernelspec": {
   "display_name": "Python 3 (ipykernel)",
   "language": "python",
   "name": "python3"
  },
  "language_info": {
   "codemirror_mode": {
    "name": "ipython",
    "version": 3
   },
   "file_extension": ".py",
   "mimetype": "text/x-python",
   "name": "python",
   "nbconvert_exporter": "python",
   "pygments_lexer": "ipython3",
   "version": "3.11.10"
  }
 },
 "nbformat": 4,
 "nbformat_minor": 5
}
