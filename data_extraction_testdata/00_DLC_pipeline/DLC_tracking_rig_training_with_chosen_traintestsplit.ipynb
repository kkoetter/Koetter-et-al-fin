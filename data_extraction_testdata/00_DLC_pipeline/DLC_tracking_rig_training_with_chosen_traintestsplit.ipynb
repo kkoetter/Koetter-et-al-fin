{
 "cells": [
  {
   "cell_type": "markdown",
   "metadata": {
    "id": "RK255E7YoEIt"
   },
   "source": [
    "# DeepLabCut Toolbox - Colab\n",
    "https://github.com/AlexEMG/DeepLabCut\n",
    "\n",
    "This notebook illustrates how to use the cloud to:\n",
    "- create a training set\n",
    "- train a network\n",
    "- evaluate a network\n",
    "- create simple quality check plots\n",
    "- analyze novel videos!\n",
    "\n",
    "###This notebook assumes you already have a project folder with labeled data!\n",
    "\n",
    "This notebook demonstrates the necessary steps to use DeepLabCut for your own project.\n",
    "\n",
    "This shows the most simple code to do so, but many of the functions have additional features, so please check out the overview & the protocol paper!\n",
    "\n",
    "Nath\\*, Mathis\\* et al.: Using DeepLabCut for markerless pose estimation during behavior across species. Nature Protocols, 2019.\n",
    "\n",
    "\n",
    "Paper: https://www.nature.com/articles/s41596-019-0176-0\n",
    "\n",
    "Pre-print: https://www.biorxiv.org/content/biorxiv/early/2018/11/24/476531.full.pdf\n"
   ]
  },
  {
   "cell_type": "markdown",
   "metadata": {
    "id": "txoddlM8hLKm"
   },
   "source": [
    "## First, go to \"Runtime\" ->\"change runtime type\"->select \"Python3\", and then select \"GPU\"\n"
   ]
  },
  {
   "cell_type": "code",
   "execution_count": null,
   "metadata": {
    "colab": {
     "background_save": true,
     "base_uri": "https://localhost:8080/"
    },
    "executionInfo": {
     "elapsed": 79969,
     "status": "ok",
     "timestamp": 1699692880728,
     "user": {
      "displayName": "Katharina Koetter",
      "userId": "08220353736984183787"
     },
     "user_tz": -60
    },
    "id": "q23BzhA6CXxu",
    "outputId": "75aa5b1b-82d5-4487-e077-84851a00bb46"
   },
   "outputs": [
    {
     "name": "stdout",
     "output_type": "stream",
     "text": [
      "Requirement already satisfied: deeplabcut in /usr/local/lib/python3.10/dist-packages (2.3.8)\n",
      "Requirement already satisfied: dlclibrary in /usr/local/lib/python3.10/dist-packages (from deeplabcut) (0.0.4)\n",
      "Requirement already satisfied: filterpy>=1.4.4 in /usr/local/lib/python3.10/dist-packages (from deeplabcut) (1.4.5)\n",
      "Requirement already satisfied: ruamel.yaml>=0.15.0 in /usr/local/lib/python3.10/dist-packages (from deeplabcut) (0.18.5)\n",
      "Requirement already satisfied: imgaug>=0.4.0 in /usr/local/lib/python3.10/dist-packages (from deeplabcut) (0.4.0)\n",
      "Requirement already satisfied: imageio-ffmpeg in /usr/local/lib/python3.10/dist-packages (from deeplabcut) (0.4.9)\n",
      "Requirement already satisfied: numba>=0.54 in /usr/local/lib/python3.10/dist-packages (from deeplabcut) (0.58.1)\n",
      "Requirement already satisfied: matplotlib>=3.3 in /usr/local/lib/python3.10/dist-packages (from deeplabcut) (3.7.1)\n",
      "Requirement already satisfied: networkx>=2.6 in /usr/local/lib/python3.10/dist-packages (from deeplabcut) (3.2.1)\n",
      "Requirement already satisfied: numpy>=1.18.5 in /usr/local/lib/python3.10/dist-packages (from deeplabcut) (1.23.5)\n",
      "Requirement already satisfied: pandas!=1.5.0,>=1.0.1 in /usr/local/lib/python3.10/dist-packages (from deeplabcut) (1.5.3)\n",
      "Requirement already satisfied: scikit-image>=0.17 in /usr/local/lib/python3.10/dist-packages (from deeplabcut) (0.19.3)\n",
      "Requirement already satisfied: scikit-learn>=1.0 in /usr/local/lib/python3.10/dist-packages (from deeplabcut) (1.2.2)\n",
      "Requirement already satisfied: scipy>=1.9 in /usr/local/lib/python3.10/dist-packages (from deeplabcut) (1.11.3)\n",
      "Requirement already satisfied: statsmodels>=0.11 in /usr/local/lib/python3.10/dist-packages (from deeplabcut) (0.14.0)\n",
      "Requirement already satisfied: tables>=3.7.0 in /usr/local/lib/python3.10/dist-packages (from deeplabcut) (3.8.0)\n",
      "Requirement already satisfied: torch<=1.12 in /usr/local/lib/python3.10/dist-packages (from deeplabcut) (1.12.0)\n",
      "Requirement already satisfied: tensorpack>=0.11 in /usr/local/lib/python3.10/dist-packages (from deeplabcut) (0.11)\n",
      "Requirement already satisfied: tf-slim>=1.1.0 in /usr/local/lib/python3.10/dist-packages (from deeplabcut) (1.1.0)\n",
      "Requirement already satisfied: tqdm in /usr/local/lib/python3.10/dist-packages (from deeplabcut) (4.66.1)\n",
      "Requirement already satisfied: pyyaml in /usr/local/lib/python3.10/dist-packages (from deeplabcut) (6.0.1)\n",
      "Requirement already satisfied: Pillow>=7.1 in /usr/local/lib/python3.10/dist-packages (from deeplabcut) (9.4.0)\n",
      "Requirement already satisfied: six in /usr/local/lib/python3.10/dist-packages (from imgaug>=0.4.0->deeplabcut) (1.16.0)\n",
      "Requirement already satisfied: opencv-python in /usr/local/lib/python3.10/dist-packages (from imgaug>=0.4.0->deeplabcut) (4.8.0.76)\n",
      "Requirement already satisfied: imageio in /usr/local/lib/python3.10/dist-packages (from imgaug>=0.4.0->deeplabcut) (2.31.6)\n",
      "Requirement already satisfied: Shapely in /usr/local/lib/python3.10/dist-packages (from imgaug>=0.4.0->deeplabcut) (2.0.2)\n",
      "Requirement already satisfied: contourpy>=1.0.1 in /usr/local/lib/python3.10/dist-packages (from matplotlib>=3.3->deeplabcut) (1.2.0)\n",
      "Requirement already satisfied: cycler>=0.10 in /usr/local/lib/python3.10/dist-packages (from matplotlib>=3.3->deeplabcut) (0.12.1)\n",
      "Requirement already satisfied: fonttools>=4.22.0 in /usr/local/lib/python3.10/dist-packages (from matplotlib>=3.3->deeplabcut) (4.44.0)\n",
      "Requirement already satisfied: kiwisolver>=1.0.1 in /usr/local/lib/python3.10/dist-packages (from matplotlib>=3.3->deeplabcut) (1.4.5)\n",
      "Requirement already satisfied: packaging>=20.0 in /usr/local/lib/python3.10/dist-packages (from matplotlib>=3.3->deeplabcut) (23.2)\n",
      "Requirement already satisfied: pyparsing>=2.3.1 in /usr/local/lib/python3.10/dist-packages (from matplotlib>=3.3->deeplabcut) (3.1.1)\n",
      "Requirement already satisfied: python-dateutil>=2.7 in /usr/local/lib/python3.10/dist-packages (from matplotlib>=3.3->deeplabcut) (2.8.2)\n",
      "Requirement already satisfied: llvmlite<0.42,>=0.41.0dev0 in /usr/local/lib/python3.10/dist-packages (from numba>=0.54->deeplabcut) (0.41.1)\n",
      "Requirement already satisfied: pytz>=2020.1 in /usr/local/lib/python3.10/dist-packages (from pandas!=1.5.0,>=1.0.1->deeplabcut) (2023.3.post1)\n",
      "Requirement already satisfied: ruamel.yaml.clib>=0.2.7 in /usr/local/lib/python3.10/dist-packages (from ruamel.yaml>=0.15.0->deeplabcut) (0.2.8)\n",
      "Requirement already satisfied: tifffile>=2019.7.26 in /usr/local/lib/python3.10/dist-packages (from scikit-image>=0.17->deeplabcut) (2023.9.26)\n",
      "Requirement already satisfied: PyWavelets>=1.1.1 in /usr/local/lib/python3.10/dist-packages (from scikit-image>=0.17->deeplabcut) (1.4.1)\n",
      "Requirement already satisfied: joblib>=1.1.1 in /usr/local/lib/python3.10/dist-packages (from scikit-learn>=1.0->deeplabcut) (1.3.2)\n",
      "Requirement already satisfied: threadpoolctl>=2.0.0 in /usr/local/lib/python3.10/dist-packages (from scikit-learn>=1.0->deeplabcut) (3.2.0)\n",
      "Requirement already satisfied: patsy>=0.5.2 in /usr/local/lib/python3.10/dist-packages (from statsmodels>=0.11->deeplabcut) (0.5.3)\n",
      "Requirement already satisfied: cython>=0.29.21 in /usr/local/lib/python3.10/dist-packages (from tables>=3.7.0->deeplabcut) (3.0.5)\n",
      "Requirement already satisfied: numexpr>=2.6.2 in /usr/local/lib/python3.10/dist-packages (from tables>=3.7.0->deeplabcut) (2.8.7)\n",
      "Requirement already satisfied: blosc2~=2.0.0 in /usr/local/lib/python3.10/dist-packages (from tables>=3.7.0->deeplabcut) (2.0.0)\n",
      "Requirement already satisfied: py-cpuinfo in /usr/local/lib/python3.10/dist-packages (from tables>=3.7.0->deeplabcut) (9.0.0)\n",
      "Requirement already satisfied: termcolor>=1.1 in /usr/local/lib/python3.10/dist-packages (from tensorpack>=0.11->deeplabcut) (2.3.0)\n",
      "Requirement already satisfied: tabulate>=0.7.7 in /usr/local/lib/python3.10/dist-packages (from tensorpack>=0.11->deeplabcut) (0.9.0)\n",
      "Requirement already satisfied: msgpack>=0.5.2 in /usr/local/lib/python3.10/dist-packages (from tensorpack>=0.11->deeplabcut) (1.0.7)\n",
      "Requirement already satisfied: msgpack-numpy>=0.4.4.2 in /usr/local/lib/python3.10/dist-packages (from tensorpack>=0.11->deeplabcut) (0.4.8)\n",
      "Requirement already satisfied: pyzmq>=16 in /usr/local/lib/python3.10/dist-packages (from tensorpack>=0.11->deeplabcut) (23.2.1)\n",
      "Requirement already satisfied: psutil>=5 in /usr/local/lib/python3.10/dist-packages (from tensorpack>=0.11->deeplabcut) (5.9.5)\n",
      "Requirement already satisfied: absl-py>=0.2.2 in /usr/local/lib/python3.10/dist-packages (from tf-slim>=1.1.0->deeplabcut) (1.4.0)\n",
      "Requirement already satisfied: typing-extensions in /usr/local/lib/python3.10/dist-packages (from torch<=1.12->deeplabcut) (4.5.0)\n",
      "Requirement already satisfied: huggingface-hub in /usr/local/lib/python3.10/dist-packages (from dlclibrary->deeplabcut) (0.19.0)\n",
      "Requirement already satisfied: setuptools in /usr/local/lib/python3.10/dist-packages (from imageio-ffmpeg->deeplabcut) (67.7.2)\n",
      "Requirement already satisfied: filelock in /usr/local/lib/python3.10/dist-packages (from huggingface-hub->dlclibrary->deeplabcut) (3.13.1)\n",
      "Requirement already satisfied: fsspec>=2023.5.0 in /usr/local/lib/python3.10/dist-packages (from huggingface-hub->dlclibrary->deeplabcut) (2023.6.0)\n",
      "Requirement already satisfied: requests in /usr/local/lib/python3.10/dist-packages (from huggingface-hub->dlclibrary->deeplabcut) (2.31.0)\n",
      "Requirement already satisfied: charset-normalizer<4,>=2 in /usr/local/lib/python3.10/dist-packages (from requests->huggingface-hub->dlclibrary->deeplabcut) (3.3.2)\n",
      "Requirement already satisfied: idna<4,>=2.5 in /usr/local/lib/python3.10/dist-packages (from requests->huggingface-hub->dlclibrary->deeplabcut) (3.4)\n",
      "Requirement already satisfied: urllib3<3,>=1.21.1 in /usr/local/lib/python3.10/dist-packages (from requests->huggingface-hub->dlclibrary->deeplabcut) (2.0.7)\n",
      "Requirement already satisfied: certifi>=2017.4.17 in /usr/local/lib/python3.10/dist-packages (from requests->huggingface-hub->dlclibrary->deeplabcut) (2023.7.22)\n"
     ]
    }
   ],
   "source": [
    "#(this will take a few minutes to install all the dependences!)\n",
    "!pip install deeplabcut"
   ]
  },
  {
   "cell_type": "code",
   "execution_count": null,
   "metadata": {
    "colab": {
     "base_uri": "https://localhost:8080/",
     "height": 1000
    },
    "executionInfo": {
     "elapsed": 83064,
     "status": "ok",
     "timestamp": 1699692963787,
     "user": {
      "displayName": "Katharina Koetter",
      "userId": "08220353736984183787"
     },
     "user_tz": -60
    },
    "id": "nuFBlg1OJVxM",
    "outputId": "3f27811c-a130-47f8-8b80-4c050de98a68"
   },
   "outputs": [
    {
     "name": "stdout",
     "output_type": "stream",
     "text": [
      "Collecting tensorflow<=2.10\n",
      "  Downloading tensorflow-2.10.0-cp310-cp310-manylinux_2_17_x86_64.manylinux2014_x86_64.whl (578.0 MB)\n",
      "\u001b[2K     \u001b[90m━━━━━━━━━━━━━━━━━━━━━━━━━━━━━━━━━━━━━━━━\u001b[0m \u001b[32m578.0/578.0 MB\u001b[0m \u001b[31m2.5 MB/s\u001b[0m eta \u001b[36m0:00:00\u001b[0m\n",
      "\u001b[?25hRequirement already satisfied: absl-py>=1.0.0 in /usr/local/lib/python3.10/dist-packages (from tensorflow<=2.10) (1.4.0)\n",
      "Requirement already satisfied: astunparse>=1.6.0 in /usr/local/lib/python3.10/dist-packages (from tensorflow<=2.10) (1.6.3)\n",
      "Requirement already satisfied: flatbuffers>=2.0 in /usr/local/lib/python3.10/dist-packages (from tensorflow<=2.10) (23.5.26)\n",
      "Collecting gast<=0.4.0,>=0.2.1 (from tensorflow<=2.10)\n",
      "  Downloading gast-0.4.0-py3-none-any.whl (9.8 kB)\n",
      "Requirement already satisfied: google-pasta>=0.1.1 in /usr/local/lib/python3.10/dist-packages (from tensorflow<=2.10) (0.2.0)\n",
      "Requirement already satisfied: grpcio<2.0,>=1.24.3 in /usr/local/lib/python3.10/dist-packages (from tensorflow<=2.10) (1.59.2)\n",
      "Requirement already satisfied: h5py>=2.9.0 in /usr/local/lib/python3.10/dist-packages (from tensorflow<=2.10) (3.9.0)\n",
      "Collecting keras<2.11,>=2.10.0 (from tensorflow<=2.10)\n",
      "  Downloading keras-2.10.0-py2.py3-none-any.whl (1.7 MB)\n",
      "\u001b[2K     \u001b[90m━━━━━━━━━━━━━━━━━━━━━━━━━━━━━━━━━━━━━━━━\u001b[0m \u001b[32m1.7/1.7 MB\u001b[0m \u001b[31m40.4 MB/s\u001b[0m eta \u001b[36m0:00:00\u001b[0m\n",
      "\u001b[?25hCollecting keras-preprocessing>=1.1.1 (from tensorflow<=2.10)\n",
      "  Downloading Keras_Preprocessing-1.1.2-py2.py3-none-any.whl (42 kB)\n",
      "\u001b[2K     \u001b[90m━━━━━━━━━━━━━━━━━━━━━━━━━━━━━━━━━━━━━━━━\u001b[0m \u001b[32m42.6/42.6 kB\u001b[0m \u001b[31m5.7 MB/s\u001b[0m eta \u001b[36m0:00:00\u001b[0m\n",
      "\u001b[?25hRequirement already satisfied: libclang>=13.0.0 in /usr/local/lib/python3.10/dist-packages (from tensorflow<=2.10) (16.0.6)\n",
      "Requirement already satisfied: numpy>=1.20 in /usr/local/lib/python3.10/dist-packages (from tensorflow<=2.10) (1.23.5)\n",
      "Requirement already satisfied: opt-einsum>=2.3.2 in /usr/local/lib/python3.10/dist-packages (from tensorflow<=2.10) (3.3.0)\n",
      "Requirement already satisfied: packaging in /usr/local/lib/python3.10/dist-packages (from tensorflow<=2.10) (23.2)\n",
      "Collecting protobuf<3.20,>=3.9.2 (from tensorflow<=2.10)\n",
      "  Downloading protobuf-3.19.6-cp310-cp310-manylinux_2_17_x86_64.manylinux2014_x86_64.whl (1.1 MB)\n",
      "\u001b[2K     \u001b[90m━━━━━━━━━━━━━━━━━━━━━━━━━━━━━━━━━━━━━━━━\u001b[0m \u001b[32m1.1/1.1 MB\u001b[0m \u001b[31m39.8 MB/s\u001b[0m eta \u001b[36m0:00:00\u001b[0m\n",
      "\u001b[?25hRequirement already satisfied: setuptools in /usr/local/lib/python3.10/dist-packages (from tensorflow<=2.10) (67.7.2)\n",
      "Requirement already satisfied: six>=1.12.0 in /usr/local/lib/python3.10/dist-packages (from tensorflow<=2.10) (1.16.0)\n",
      "Collecting tensorboard<2.11,>=2.10 (from tensorflow<=2.10)\n",
      "  Downloading tensorboard-2.10.1-py3-none-any.whl (5.9 MB)\n",
      "\u001b[2K     \u001b[90m━━━━━━━━━━━━━━━━━━━━━━━━━━━━━━━━━━━━━━━━\u001b[0m \u001b[32m5.9/5.9 MB\u001b[0m \u001b[31m38.9 MB/s\u001b[0m eta \u001b[36m0:00:00\u001b[0m\n",
      "\u001b[?25hRequirement already satisfied: tensorflow-io-gcs-filesystem>=0.23.1 in /usr/local/lib/python3.10/dist-packages (from tensorflow<=2.10) (0.34.0)\n",
      "Collecting tensorflow-estimator<2.11,>=2.10.0 (from tensorflow<=2.10)\n",
      "  Downloading tensorflow_estimator-2.10.0-py2.py3-none-any.whl (438 kB)\n",
      "\u001b[2K     \u001b[90m━━━━━━━━━━━━━━━━━━━━━━━━━━━━━━━━━━━━━━━━\u001b[0m \u001b[32m438.7/438.7 kB\u001b[0m \u001b[31m9.7 MB/s\u001b[0m eta \u001b[36m0:00:00\u001b[0m\n",
      "\u001b[?25hRequirement already satisfied: termcolor>=1.1.0 in /usr/local/lib/python3.10/dist-packages (from tensorflow<=2.10) (2.3.0)\n",
      "Requirement already satisfied: typing-extensions>=3.6.6 in /usr/local/lib/python3.10/dist-packages (from tensorflow<=2.10) (4.5.0)\n",
      "Requirement already satisfied: wrapt>=1.11.0 in /usr/local/lib/python3.10/dist-packages (from tensorflow<=2.10) (1.14.1)\n",
      "Requirement already satisfied: wheel<1.0,>=0.23.0 in /usr/local/lib/python3.10/dist-packages (from astunparse>=1.6.0->tensorflow<=2.10) (0.41.3)\n",
      "Requirement already satisfied: google-auth<3,>=1.6.3 in /usr/local/lib/python3.10/dist-packages (from tensorboard<2.11,>=2.10->tensorflow<=2.10) (2.17.3)\n",
      "Collecting google-auth-oauthlib<0.5,>=0.4.1 (from tensorboard<2.11,>=2.10->tensorflow<=2.10)\n",
      "  Downloading google_auth_oauthlib-0.4.6-py2.py3-none-any.whl (18 kB)\n",
      "Requirement already satisfied: markdown>=2.6.8 in /usr/local/lib/python3.10/dist-packages (from tensorboard<2.11,>=2.10->tensorflow<=2.10) (3.5.1)\n",
      "Requirement already satisfied: requests<3,>=2.21.0 in /usr/local/lib/python3.10/dist-packages (from tensorboard<2.11,>=2.10->tensorflow<=2.10) (2.31.0)\n",
      "Collecting tensorboard-data-server<0.7.0,>=0.6.0 (from tensorboard<2.11,>=2.10->tensorflow<=2.10)\n",
      "  Downloading tensorboard_data_server-0.6.1-py3-none-manylinux2010_x86_64.whl (4.9 MB)\n",
      "\u001b[2K     \u001b[90m━━━━━━━━━━━━━━━━━━━━━━━━━━━━━━━━━━━━━━━━\u001b[0m \u001b[32m4.9/4.9 MB\u001b[0m \u001b[31m34.8 MB/s\u001b[0m eta \u001b[36m0:00:00\u001b[0m\n",
      "\u001b[?25hCollecting tensorboard-plugin-wit>=1.6.0 (from tensorboard<2.11,>=2.10->tensorflow<=2.10)\n",
      "  Downloading tensorboard_plugin_wit-1.8.1-py3-none-any.whl (781 kB)\n",
      "\u001b[2K     \u001b[90m━━━━━━━━━━━━━━━━━━━━━━━━━━━━━━━━━━━━━━━━\u001b[0m \u001b[32m781.3/781.3 kB\u001b[0m \u001b[31m31.4 MB/s\u001b[0m eta \u001b[36m0:00:00\u001b[0m\n",
      "\u001b[?25hRequirement already satisfied: werkzeug>=1.0.1 in /usr/local/lib/python3.10/dist-packages (from tensorboard<2.11,>=2.10->tensorflow<=2.10) (3.0.1)\n",
      "Requirement already satisfied: cachetools<6.0,>=2.0.0 in /usr/local/lib/python3.10/dist-packages (from google-auth<3,>=1.6.3->tensorboard<2.11,>=2.10->tensorflow<=2.10) (5.3.2)\n",
      "Requirement already satisfied: pyasn1-modules>=0.2.1 in /usr/local/lib/python3.10/dist-packages (from google-auth<3,>=1.6.3->tensorboard<2.11,>=2.10->tensorflow<=2.10) (0.3.0)\n",
      "Requirement already satisfied: rsa<5,>=3.1.4 in /usr/local/lib/python3.10/dist-packages (from google-auth<3,>=1.6.3->tensorboard<2.11,>=2.10->tensorflow<=2.10) (4.9)\n",
      "Requirement already satisfied: requests-oauthlib>=0.7.0 in /usr/local/lib/python3.10/dist-packages (from google-auth-oauthlib<0.5,>=0.4.1->tensorboard<2.11,>=2.10->tensorflow<=2.10) (1.3.1)\n",
      "Requirement already satisfied: charset-normalizer<4,>=2 in /usr/local/lib/python3.10/dist-packages (from requests<3,>=2.21.0->tensorboard<2.11,>=2.10->tensorflow<=2.10) (3.3.2)\n",
      "Requirement already satisfied: idna<4,>=2.5 in /usr/local/lib/python3.10/dist-packages (from requests<3,>=2.21.0->tensorboard<2.11,>=2.10->tensorflow<=2.10) (3.4)\n",
      "Requirement already satisfied: urllib3<3,>=1.21.1 in /usr/local/lib/python3.10/dist-packages (from requests<3,>=2.21.0->tensorboard<2.11,>=2.10->tensorflow<=2.10) (2.0.7)\n",
      "Requirement already satisfied: certifi>=2017.4.17 in /usr/local/lib/python3.10/dist-packages (from requests<3,>=2.21.0->tensorboard<2.11,>=2.10->tensorflow<=2.10) (2023.7.22)\n",
      "Requirement already satisfied: MarkupSafe>=2.1.1 in /usr/local/lib/python3.10/dist-packages (from werkzeug>=1.0.1->tensorboard<2.11,>=2.10->tensorflow<=2.10) (2.1.3)\n",
      "Requirement already satisfied: pyasn1<0.6.0,>=0.4.6 in /usr/local/lib/python3.10/dist-packages (from pyasn1-modules>=0.2.1->google-auth<3,>=1.6.3->tensorboard<2.11,>=2.10->tensorflow<=2.10) (0.5.0)\n",
      "Requirement already satisfied: oauthlib>=3.0.0 in /usr/local/lib/python3.10/dist-packages (from requests-oauthlib>=0.7.0->google-auth-oauthlib<0.5,>=0.4.1->tensorboard<2.11,>=2.10->tensorflow<=2.10) (3.2.2)\n",
      "Installing collected packages: tensorboard-plugin-wit, keras, tensorflow-estimator, tensorboard-data-server, protobuf, keras-preprocessing, gast, google-auth-oauthlib, tensorboard, tensorflow\n",
      "  Attempting uninstall: keras\n",
      "    Found existing installation: keras 2.14.0\n",
      "    Uninstalling keras-2.14.0:\n",
      "      Successfully uninstalled keras-2.14.0\n",
      "  Attempting uninstall: tensorflow-estimator\n",
      "    Found existing installation: tensorflow-estimator 2.14.0\n",
      "    Uninstalling tensorflow-estimator-2.14.0:\n",
      "      Successfully uninstalled tensorflow-estimator-2.14.0\n",
      "  Attempting uninstall: tensorboard-data-server\n",
      "    Found existing installation: tensorboard-data-server 0.7.2\n",
      "    Uninstalling tensorboard-data-server-0.7.2:\n",
      "      Successfully uninstalled tensorboard-data-server-0.7.2\n",
      "  Attempting uninstall: protobuf\n",
      "    Found existing installation: protobuf 3.20.3\n",
      "    Uninstalling protobuf-3.20.3:\n",
      "      Successfully uninstalled protobuf-3.20.3\n",
      "  Attempting uninstall: gast\n",
      "    Found existing installation: gast 0.5.4\n",
      "    Uninstalling gast-0.5.4:\n",
      "      Successfully uninstalled gast-0.5.4\n",
      "  Attempting uninstall: google-auth-oauthlib\n",
      "    Found existing installation: google-auth-oauthlib 1.0.0\n",
      "    Uninstalling google-auth-oauthlib-1.0.0:\n",
      "      Successfully uninstalled google-auth-oauthlib-1.0.0\n",
      "  Attempting uninstall: tensorboard\n",
      "    Found existing installation: tensorboard 2.14.1\n",
      "    Uninstalling tensorboard-2.14.1:\n",
      "      Successfully uninstalled tensorboard-2.14.1\n",
      "  Attempting uninstall: tensorflow\n",
      "    Found existing installation: tensorflow 2.14.0\n",
      "    Uninstalling tensorflow-2.14.0:\n",
      "      Successfully uninstalled tensorflow-2.14.0\n",
      "\u001b[31mERROR: pip's dependency resolver does not currently take into account all the packages that are installed. This behaviour is the source of the following dependency conflicts.\n",
      "tensorflow-datasets 4.9.3 requires protobuf>=3.20, but you have protobuf 3.19.6 which is incompatible.\n",
      "tensorflow-metadata 1.14.0 requires protobuf<4.21,>=3.20.3, but you have protobuf 3.19.6 which is incompatible.\u001b[0m\u001b[31m\n",
      "\u001b[0mSuccessfully installed gast-0.4.0 google-auth-oauthlib-0.4.6 keras-2.10.0 keras-preprocessing-1.1.2 protobuf-3.19.6 tensorboard-2.10.1 tensorboard-data-server-0.6.1 tensorboard-plugin-wit-1.8.1 tensorflow-2.10.0 tensorflow-estimator-2.10.0\n"
     ]
    },
    {
     "data": {
      "application/vnd.colab-display-data+json": {
       "pip_warning": {
        "packages": [
         "google"
        ]
       }
      }
     },
     "metadata": {},
     "output_type": "display_data"
    }
   ],
   "source": [
    "!pip install --upgrade \"tensorflow<=2.10\""
   ]
  },
  {
   "cell_type": "markdown",
   "metadata": {
    "id": "25wSj6TlVclR"
   },
   "source": [
    "**(Be sure to click \"RESTART RUNTIME\" if it is displayed above before moving on !)**"
   ]
  },
  {
   "cell_type": "code",
   "execution_count": null,
   "metadata": {
    "colab": {
     "base_uri": "https://localhost:8080/"
    },
    "executionInfo": {
     "elapsed": 4,
     "status": "ok",
     "timestamp": 1699692977527,
     "user": {
      "displayName": "Katharina Koetter",
      "userId": "08220353736984183787"
     },
     "user_tz": -60
    },
    "id": "Y36K4Eux3h-X",
    "outputId": "8711ad08-6728-456a-cfe8-6ac49c343027"
   },
   "outputs": [
    {
     "name": "stdout",
     "output_type": "stream",
     "text": [
      "Colab only includes TensorFlow 2.x; %tensorflow_version has no effect.\n"
     ]
    }
   ],
   "source": [
    "# Use TensorFlow 1.x:\n",
    "%tensorflow_version 2.x"
   ]
  },
  {
   "cell_type": "markdown",
   "metadata": {
    "id": "cQ-nlTkri4HZ"
   },
   "source": [
    "## Link your Google Drive (with your labeled data, or the demo data):\n",
    "\n",
    "### First, place your porject folder into you google drive! \"i.e. move the folder named \"Project-YourName-TheDate\" into google drive."
   ]
  },
  {
   "cell_type": "code",
   "execution_count": null,
   "metadata": {
    "colab": {
     "base_uri": "https://localhost:8080/"
    },
    "executionInfo": {
     "elapsed": 19113,
     "status": "ok",
     "timestamp": 1699692997353,
     "user": {
      "displayName": "Katharina Koetter",
      "userId": "08220353736984183787"
     },
     "user_tz": -60
    },
    "id": "PyXpYSGqEnvs",
    "outputId": "68889761-7dd4-413f-c188-c14acdac01eb"
   },
   "outputs": [
    {
     "name": "stdout",
     "output_type": "stream",
     "text": [
      "Mounted at /content/drive\n"
     ]
    }
   ],
   "source": [
    "from google.colab import drive\n",
    "drive.mount('/content/drive')"
   ]
  },
  {
   "cell_type": "code",
   "execution_count": null,
   "metadata": {
    "colab": {
     "base_uri": "https://localhost:8080/"
    },
    "executionInfo": {
     "elapsed": 3173,
     "status": "ok",
     "timestamp": 1699693000523,
     "user": {
      "displayName": "Katharina Koetter",
      "userId": "08220353736984183787"
     },
     "user_tz": -60
    },
    "id": "KS4Q4UkR9rgG",
    "outputId": "fddc222a-b655-44ea-abb7-fcdf7347c4a5"
   },
   "outputs": [
    {
     "name": "stdout",
     "output_type": "stream",
     "text": [
      "Mounted at /content/drive\n"
     ]
    }
   ],
   "source": [
    "#Now, let's link to your GoogleDrive. Run this cell and follow the authorization instructions:\n",
    "#(We recommend putting a copy of the github repo in your google drive if you are using the demo \"examples\")\n",
    "\n",
    "from google.colab import drive\n",
    "drive.mount('/content/drive', force_remount=True)"
   ]
  },
  {
   "cell_type": "markdown",
   "metadata": {
    "id": "Frnj1RVDyEqs"
   },
   "source": [
    "YOU WILL NEED TO EDIT THE PROJECT PATH **in the config.yaml file** TO BE SET TO YOUR GOOGLE DRIVE LINK!\n",
    "\n",
    "Typically, this will be: /content/drive/My Drive/yourProjectFolderName\n"
   ]
  },
  {
   "cell_type": "code",
   "execution_count": null,
   "metadata": {
    "colab": {
     "base_uri": "https://localhost:8080/"
    },
    "executionInfo": {
     "elapsed": 7,
     "status": "ok",
     "timestamp": 1699693000524,
     "user": {
      "displayName": "Katharina Koetter",
      "userId": "08220353736984183787"
     },
     "user_tz": -60
    },
    "id": "vhENAlQnFENJ",
    "outputId": "d6a22ff3-09f5-4d51-8bf3-befb7c2a1f04"
   },
   "outputs": [
    {
     "data": {
      "text/plain": [
       "['/content/drive/My Drive/dlc_2-kata-2022-12-12/videos/']"
      ]
     },
     "execution_count": 4,
     "metadata": {},
     "output_type": "execute_result"
    }
   ],
   "source": [
    "#Setup your project variables:\n",
    "# PLEASE EDIT THESE:\n",
    "\n",
    "ProjectFolderName = 'dlc_2-kata-2022-12-12'\n",
    "VideoType = 'mp4'\n",
    "\n",
    "#don't edit these:\n",
    "videofile_path = ['/content/drive/My Drive/'+ProjectFolderName+'/videos/'] #Enter the list of videos or folder to analyze.\n",
    "videofile_path"
   ]
  },
  {
   "cell_type": "code",
   "execution_count": null,
   "metadata": {
    "id": "sXufoX6INe6w"
   },
   "outputs": [],
   "source": [
    "#GUIs don't work on the cloud, so label your data locally on your computer! This will suppress the GUI support\n",
    "import os\n",
    "os.environ[\"DLClight\"]=\"True\""
   ]
  },
  {
   "cell_type": "code",
   "execution_count": null,
   "metadata": {
    "colab": {
     "base_uri": "https://localhost:8080/"
    },
    "executionInfo": {
     "elapsed": 10750,
     "status": "ok",
     "timestamp": 1699693011271,
     "user": {
      "displayName": "Katharina Koetter",
      "userId": "08220353736984183787"
     },
     "user_tz": -60
    },
    "id": "3K9Ndy1beyfG",
    "outputId": "0140bd5a-dabf-482d-eb76-1ccfff14ede3"
   },
   "outputs": [
    {
     "name": "stdout",
     "output_type": "stream",
     "text": [
      "Loading DLC 2.3.8...\n",
      "DLC loaded in light mode; you cannot use any GUI (labeling, relabeling and standalone GUI)\n"
     ]
    }
   ],
   "source": [
    "import deeplabcut"
   ]
  },
  {
   "cell_type": "code",
   "execution_count": null,
   "metadata": {
    "colab": {
     "base_uri": "https://localhost:8080/",
     "height": 35
    },
    "executionInfo": {
     "elapsed": 15,
     "status": "ok",
     "timestamp": 1699693011272,
     "user": {
      "displayName": "Katharina Koetter",
      "userId": "08220353736984183787"
     },
     "user_tz": -60
    },
    "id": "o4orkg9QTHKK",
    "outputId": "1fdaede5-0e3a-4fc9-df6d-dbe2f6331226"
   },
   "outputs": [
    {
     "data": {
      "application/vnd.google.colaboratory.intrinsic+json": {
       "type": "string"
      },
      "text/plain": [
       "'2.3.8'"
      ]
     },
     "execution_count": 7,
     "metadata": {},
     "output_type": "execute_result"
    }
   ],
   "source": [
    "deeplabcut.__version__"
   ]
  },
  {
   "cell_type": "code",
   "execution_count": null,
   "metadata": {
    "colab": {
     "base_uri": "https://localhost:8080/",
     "height": 35
    },
    "executionInfo": {
     "elapsed": 13,
     "status": "ok",
     "timestamp": 1699693011272,
     "user": {
      "displayName": "Katharina Koetter",
      "userId": "08220353736984183787"
     },
     "user_tz": -60
    },
    "id": "Z7ZlDr3wV4D1",
    "outputId": "ac8e0879-ace3-44d3-ae13-06db553a6df6"
   },
   "outputs": [
    {
     "data": {
      "application/vnd.google.colaboratory.intrinsic+json": {
       "type": "string"
      },
      "text/plain": [
       "'/content/drive/My Drive/dlc_2-kata-2022-12-12/config.yaml'"
      ]
     },
     "execution_count": 8,
     "metadata": {},
     "output_type": "execute_result"
    }
   ],
   "source": [
    "#This creates a path variable that links to your google drive copy\n",
    "#No need to edit this, as you set it up before:\n",
    "path_config_file = '/content/drive/My Drive/'+ProjectFolderName+'/config.yaml'\n",
    "path_config_file"
   ]
  },
  {
   "cell_type": "markdown",
   "metadata": {
    "id": "xNi9s1dboEJN"
   },
   "source": [
    "## Create a training dataset:\n",
    "### You must do this step inside of Colab:\n",
    "After running this script the training dataset is created and saved in the project directory under the subdirectory **'training-datasets'**\n",
    "\n",
    "This function also creates new subdirectories under **dlc-models** and appends the project config.yaml file with the correct path to the training and testing pose configuration file. These files hold the parameters for training the network. Such an example file is provided with the toolbox and named as **pose_cfg.yaml**.\n",
    "\n",
    "Now it is the time to start training the network!"
   ]
  },
  {
   "cell_type": "code",
   "execution_count": null,
   "metadata": {
    "id": "NzzwSv-AffO5"
   },
   "outputs": [],
   "source": [
    "import os\n",
    "import pandas as pd\n",
    "from deeplabcut.utils import auxiliaryfunctions\n",
    "from pathlib import Path\n"
   ]
  },
  {
   "cell_type": "code",
   "execution_count": null,
   "metadata": {
    "colab": {
     "base_uri": "https://localhost:8080/"
    },
    "executionInfo": {
     "elapsed": 52764,
     "status": "ok",
     "timestamp": 1671464979737,
     "user": {
      "displayName": "Katharina Koetter",
      "userId": "08220353736984183787"
     },
     "user_tz": -60
    },
    "id": "JwIBFjCZzqaD",
    "outputId": "66e0780a-1adb-4c14-be27-92be9d102e4c"
   },
   "outputs": [
    {
     "name": "stdout",
     "output_type": "stream",
     "text": [
      "The training dataset is successfully created. Use the function 'train_network' to start training. Happy training!\n"
     ]
    }
   ],
   "source": [
    "td = deeplabcut.create_training_dataset(path_config_file, net_type='resnet_50', augmenter_type='imgaug')"
   ]
  },
  {
   "cell_type": "markdown",
   "metadata": {
    "id": "QWOY_QsAVcr5"
   },
   "source": [
    "## 2nd way to create a training dataset by self imposing indices"
   ]
  },
  {
   "cell_type": "code",
   "execution_count": null,
   "metadata": {
    "id": "_TblIVP-FQ6c"
   },
   "outputs": [],
   "source": [
    "import pickle\n",
    "import numpy as np"
   ]
  },
  {
   "cell_type": "code",
   "execution_count": null,
   "metadata": {
    "id": "vq6qkYLGFS4_"
   },
   "outputs": [],
   "source": [
    "# with open(r'/content/drive/My Drive/'+ProjectFolderName+'/testtrain_split.pickle', 'wb') as output_file:\n",
    "#   pickle.dump(td[0][2], output_file)"
   ]
  },
  {
   "cell_type": "code",
   "execution_count": null,
   "metadata": {
    "id": "XCI_qdg7GQQ3"
   },
   "outputs": [],
   "source": [
    "# trainIndices = [ 738, 1765,  562,  825, 1791,  446, 1461, 1858, 2015, 1161, 1166,\n",
    "#         979,  552,  828,  214,  119,  973, 2244, 1091,  453, 2008, 1514,\n",
    "#         883,  138, 1839,  817, 1826, 2074, 1011, 2283,  304,  298, 1262,\n",
    "#         165,  707,  666, 1595, 2290,  906, 2002,  533, 1179, 1721, 1648,\n",
    "#        2062, 1745, 1177,  636, 1967, 2115,  859, 1274,  324,  148, 2195,\n",
    "#        2121, 1412,  910,  101,  502,  863,  994, 2463, 1615, 1857,  585,\n",
    "#        1655, 1522,  113, 1896, 2166, 1520,  671, 2419, 1674, 2469,  849,\n",
    "#         333, 1766, 2227,  520, 1995, 1486, 2071,  279,  949, 1064,  134,\n",
    "#         602, 1960, 1114,  531,  582,  159, 2182, 2000, 2414, 1829,  100,\n",
    "#        1474, 1662, 1854, 1897, 1309, 1460,  483,  845, 1756, 1122,  639,\n",
    "#        1741, 2431, 1041, 2462, 1972,  140,  895, 1366, 1907, 2313,  873,\n",
    "#         142, 1774,  116,  176, 1861, 1295,  405, 2051, 1224, 2151, 1042,\n",
    "#        1533, 2294, 2458,  833, 2248, 1381, 2207, 1642, 1538, 1654,  397,\n",
    "#          78,  624, 1787, 1631,  315,   42,  534, 1142,  966,  540, 1450,\n",
    "#        2319, 2301, 1506, 2116, 2270, 1417,  861, 1597, 1376, 1067, 2475,\n",
    "#         806,  202, 1959, 1421, 1141,   49, 1584,  137,  730, 2247,  222,\n",
    "#          12,  380,   80,  592,  683,  130, 1272,   30, 2088, 2436, 1980,\n",
    "#         329, 1889,  776, 2451, 1485,  247, 2080, 1939, 2424, 1500,   55,\n",
    "#        2037,  698,   74,  125, 1922, 1193,  154, 1351,  942, 1239,   59,\n",
    "#         915, 2188, 1559,   98, 1900,  586, 1546,   39, 1958, 1771, 1145,\n",
    "#        1204,  302,   72,  376, 1614,  634, 1119, 2236, 1581, 1964, 1753,\n",
    "#        1362, 1800, 2224, 2125,  491, 1146, 1391, 1160, 1423, 2399, 2237,\n",
    "#         236, 1030,  464,  812,  601, 1130, 1499, 1701, 1551, 2180, 2285,\n",
    "#         578,  805,  151, 1652, 1299, 1344, 1613, 1640,  407,  751, 1414,\n",
    "#         417, 1835,  551,    6,  308,  756,  864,  158, 1968,  499, 1050,\n",
    "#        1653,  556, 1847,   20, 2018, 1400, 2452, 2344, 2055, 2260,  348,\n",
    "#         541, 1220, 1495, 1372, 2007, 1393,  489, 1705, 2026,  381, 1246,\n",
    "#         241, 1025, 2091, 1865,  757, 1115,  675,  691, 1171,  181, 2014,\n",
    "#         192, 1186,  398, 1333,  896, 2442, 1250,  763, 2279,   29, 1487,\n",
    "#         487, 2090, 1221,  843,  704,  350, 1726, 1297, 1217, 1893, 2453,\n",
    "#        1944,  750,  301,  402, 1180, 1243, 1606, 2263, 1209, 1008,  237,\n",
    "#        2403, 1938, 1683,  651, 2385,   63,  129,  716, 1564, 1888, 1872,\n",
    "#        1680,  428,  650,  862, 1136, 1707, 1772, 2111, 1290, 1398,  278,\n",
    "#        2001, 1319, 1490, 1244, 1072, 2163, 1465, 1189, 2148, 1833, 2067,\n",
    "#         460,  328,  212, 1547, 2328,  349, 1759, 1985, 2390, 1603, 1002,\n",
    "#         352, 2329,  678, 1211,  842, 1536, 1346, 1941, 1988, 1482, 2214,\n",
    "#        1717, 1909, 1808,  610, 2391,  530, 2376, 1210, 2496, 2394,  933,\n",
    "#        2334, 1902,  314,  837,   84,  575, 2455, 2497, 2281,  539, 1361,\n",
    "#        2045,  394,  495, 2021,  882, 2308, 1133,  532,  969,  831,  431,\n",
    "#         595, 2140, 2491,   79,  795, 1099,  608, 1001, 2276, 2218, 1673,\n",
    "#        2498,  726, 1265, 1475, 2205,  512,  727, 2226,  218,  977,   44,\n",
    "#        1971,  311,  152, 1797, 1786,   96,   31, 1491, 1440, 1519,  339,\n",
    "#        1561,   52, 1012,  725,  452, 1869, 2255,  282, 1545,  265, 2369,\n",
    "#        1172,  770, 1792,  965, 1419, 1035,   93, 2450,  918, 2314, 1312,\n",
    "#        1562, 1629, 1082, 1087,  799, 1567,  599, 1071, 2210,  463, 2485,\n",
    "#        2142,  146, 1727, 2421,  124,  420,  291,  275,  245,  433, 1286,\n",
    "#        1045, 2211,  347,  631, 2032,  661, 1819, 1508,  867, 1544,   90,\n",
    "#         127, 1223, 1918, 1879, 1231,  593, 1670, 2282,  500, 1338, 1844,\n",
    "#        2489, 1731, 1664, 2156,   18,  813, 1518, 1714, 2356, 1165,  604,\n",
    "#        1212, 1061,  470, 2054, 1411, 2040, 2128, 2363,   34, 1418,   48,\n",
    "#        2470, 2246,  430,  201, 2397, 1156, 1676, 1434, 1936,  104, 1887,\n",
    "#         342,  632, 1529, 1505, 1467,  567, 1821, 1689,  898, 1608,  693,\n",
    "#          95,  731, 2178, 2183, 1219,  623,  614,  875, 1525,  415, 1392,\n",
    "#        1906,  476,  224,  250, 1580, 1777,  143,  785, 1611,  577, 1813,\n",
    "#        2372, 1793, 1108,  735, 1003,  269, 1218, 2264, 2186, 1708,  507,\n",
    "#        1875,  183, 1438,  117,  769, 1910,  866,  432,  170,  383,  739,\n",
    "#        2292, 1788, 2347, 2023, 1340,  771, 1867,  186, 1468, 1678,  395,\n",
    "#        2273, 1617, 1764, 1974, 2229, 1669,  780,   56,  885,  619,  737,\n",
    "#         690,  223,  157,  971, 1278,  584, 1570,  363, 1810, 1746,  496,\n",
    "#        2072, 2415,  189,  173, 1259,  371, 2353, 1523, 2388, 2232, 1781,\n",
    "#        1780, 1666,  901,  334, 2082, 1111, 1675,  628,  174,  410, 1740,\n",
    "#         445, 1301, 2240, 1367, 1207, 2488, 1194, 2302,  733, 1884, 1014,\n",
    "#        1176, 1576, 1430, 1196,  343, 2087,  220, 2169, 2416,  318, 2035,\n",
    "#         193, 1668, 1369,  773, 1185, 1168,  155, 2027,  479,  416, 2024,\n",
    "#        1463,   33,    8,  379,  517, 2252,  938, 2017,  481, 1750,  205,\n",
    "#        1083, 2490, 1188,  560, 2266,  162,  717, 1402, 1878,   45, 2456,\n",
    "#         474, 2048, 1013,  187,  392,  891, 1598, 1294, 1248, 1389,  871,\n",
    "#        2235,  412,  978, 1663, 1089, 1568, 1962,  511,  557, 1880,  548,\n",
    "#        2061,  974, 1997, 1837, 1327,  447,  658, 1942, 1841, 1420, 2147,\n",
    "#        2160,  629, 1643, 1302,  274, 1949, 1406, 2407, 1748,  872, 1688,\n",
    "#        2493, 1279,  881, 1511, 1677, 1476,  911,  886,  210,  538,  335,\n",
    "#         613, 1358, 1549, 1834, 1096,  543,  851,  646, 2225, 1245, 1637,\n",
    "#         948, 1380, 1229, 1432,  194, 1350, 1507, 2409,  993, 1830,  772,\n",
    "#        1950, 1805,  790,  668, 1261, 2323, 2355,  939, 1213, 1817, 1722,\n",
    "#        2375, 1698, 1187, 1729,  108,   73, 2009,  135, 2173,  526, 1069,\n",
    "#        1651, 1556,  641, 2099, 1569, 2251, 2129,  789, 1970,  916, 1275,\n",
    "#        1095, 2278, 2164,  976, 1298, 1996,  932, 1201, 1742,   70, 1216,\n",
    "#         728, 1957, 1842,   60, 1349, 1804,  472, 1318,  660,   57, 2028,\n",
    "#        2361, 1410,  246, 1281, 1783,  908, 1270, 1329,  271, 1915,  268,\n",
    "#        1956,  294, 1437, 1696,  292, 1123, 1085,  195,  514, 1905,  374,\n",
    "#         962, 2457, 1622, 2184,  406, 1778,   32, 1706,  854, 1433, 2434,\n",
    "#        1330, 2097, 1098, 2167, 1374, 2124, 1075,  745, 1321, 1139,  521,\n",
    "#        2076, 1121, 2199,  378, 1695,  941, 1132,  907, 1384, 1891,    9,\n",
    "#         991, 1981, 1628, 1260, 1563, 1354, 1107, 1682, 1687, 1456, 2339,\n",
    "#         253, 1862,  337, 1691, 1425, 1864,  720,  122,   25, 2480, 1065,\n",
    "#         829,   87,  126,  528, 2348, 1383, 1051,  161, 1975, 1022,  545,\n",
    "#        1590, 1455,  649,  111,  804,  263, 2177, 2141, 1424,  878, 1803,\n",
    "#        1773,  890,  852,  180, 1332, 2145, 1363, 1409,  847, 1086,  684,\n",
    "#         396,  676, 1006, 1249, 1991,  401, 1377, 2221, 2286, 1084,  736,\n",
    "#        1982,  559,  588,  522, 1040, 1005,  625, 2379,  788, 2081, 1470,\n",
    "#        1848, 2152,  775,  217, 2016,  456, 2238, 1043,  630, 1379, 1552,\n",
    "#        1116, 2410, 1477,  156, 1192, 2105, 1624,  243, 1932, 1234, 1360,\n",
    "#        2454, 1969,   22, 1593, 1328, 2033,   89,  801,  734, 1571, 1053,\n",
    "#        1921,  293, 2487, 1928,  184,  823, 1020,  484, 1709, 2374, 1399,\n",
    "#        1033, 1335, 1894,  525, 2109,  326,  252, 1761, 1853, 2134, 1066,\n",
    "#         442, 2492, 2398,  167, 1934,  844,   83, 1711,  468, 1439, 1532,\n",
    "#         888, 2106,  216,  640,  606, 1109, 1702, 1540,  424, 2268,  581,\n",
    "#         327, 2382, 1385, 2423, 1480, 1489, 1990, 2499,   26, 1237,  609,\n",
    "#        2066, 1591, 1738, 1049,  980, 1471, 2322, 1527,  740,  542, 1679,\n",
    "#        2216, 1596,    7, 2228, 2059,  230, 2104,  283, 1690,   62, 2288,\n",
    "#        1983, 1057, 1625, 2367,  760, 1031, 2466, 2448,   99,   88, 2136,\n",
    "#        2300, 1375, 1550,  612,  648, 1626, 1718,  995, 1415, 2223,  633,\n",
    "#        1118, 2277, 1252, 2215,  887,  667, 1749, 1263, 1823,   13, 1267,\n",
    "#        2404, 1017, 1203, 2193,  900, 1973,  810,  435, 2482, 2405, 1444,\n",
    "#        1343, 2370, 1512, 2103, 1104,  325,  345,  344, 2005,   23,    1,\n",
    "#        1117,  455,  708, 1763, 2441, 2324,  555, 1760, 2036, 2269,  213,\n",
    "#        2383, 2342, 2102, 2038, 2257, 1325,  209, 1238,  982, 1849, 1526,\n",
    "#        2438, 1102, 2254,  927,  150, 1784,  480, 2439, 1308,  803, 1055,\n",
    "#         536, 2219,  679, 2202,  120,  774,  662,  792, 2444, 2272, 1029,\n",
    "#        2029, 1431,  742,  225, 2413, 2065,  266,  638,  185, 1481, 1457,\n",
    "#         680, 1493, 1247, 1364,  485,  434, 2265, 1755, 1478, 2094,  904,\n",
    "#        1623,  462, 2428, 1531, 1913, 2137,  207, 1306, 2368, 1737,  553,\n",
    "#        1106,  808, 1483,  354, 1710, 2484, 1387,  286,  465,  513,   37,\n",
    "#        1105, 2284,   35,  807, 1202,  400,  622, 1159, 1452, 2052, 2075,\n",
    "#        1530, 1636, 2212,  403, 2133,  360,  280, 1039, 1442,  408,  952,\n",
    "#        1371, 1077, 1509, 1920, 1992, 2412, 2084, 1256,  429,  307, 1752,\n",
    "#        1916, 1977, 2335,  761, 1127, 1528, 1484, 2289, 2275,  917, 2127,\n",
    "#          67, 1368, 1163, 1993,  357, 1806, 2443,   85, 2126,  248,  519,\n",
    "#         303,  580,  712, 1277, 2280, 2402, 1198,  930,  809, 2378,  724,\n",
    "#         501,  309,  227, 2122,  642,  893, 1068,  448, 1639, 2245,  620,\n",
    "#         621, 2271, 2006, 1226, 1965, 1326, 1322, 2044,  748, 1757, 1851,\n",
    "#        1852,  685, 2362,  747,  221, 1428,  203, 1009,   36, 1892, 1453,\n",
    "#        1233, 1076,  777, 1986, 1271, 1021, 1641,  510, 2012, 1232, 2295,\n",
    "#        2171, 1814,  576,  836, 1716, 1521,  498,  569, 2427, 1840, 2179,\n",
    "#         182,  382, 2098,   41, 2256, 1609, 1876,  706, 1882, 2350, 1730,\n",
    "#         206, 2331,  384, 1543, 2131, 1694, 1635, 2364,  457,  358,  441,\n",
    "#        2340, 2303,   24, 1789, 2190,  931,  663, 2130, 1448, 1541, 1345,\n",
    "#        2203, 1632, 1466,  768,  818, 1164,  699, 2073,  523, 1594, 1816,\n",
    "#        1807, 1634, 2408, 2259,  767,  753,  841, 2108, 1809,  811, 2392,\n",
    "#         830, 2296,  848,  798,  857, 2003, 2417, 1303,  925, 1063, 1586,\n",
    "#        1736, 1479, 2172, 1422, 1801,  669, 1200, 1946, 1767, 2312,  372,\n",
    "#        1492, 1883, 1273, 1288,   65, 1828, 2089, 1054, 1870,  926,  903,\n",
    "#         373,  687, 2030,  197, 2217, 1999,  765,  672, 1497,  527,  256,\n",
    "#        1230, 1181,  469, 1868, 1131,  794, 2162, 1874, 1515, 1976, 2204,\n",
    "#         689, 2250,  594,  956,  853,  787,  478,  922,  139, 1517, 1712,\n",
    "#        2321, 1324,  546,  615,  369, 1162, 2381, 1073, 1620, 1357, 1912,\n",
    "#        2150, 1441, 2176, 1390, 2483,  467,  617,  276, 1046, 1353, 2267,\n",
    "#         331, 1016, 2154, 1170, 1831, 1359, 2315, 1582, 1923, 1630, 1280,\n",
    "#        2317, 1589, 1796, 1047, 1747, 1429,  992,  752, 1724,  945, 2086,\n",
    "#        2261,  393,   53,  516, 1951, 2360,  892,  985, 1815, 2386, 1370,\n",
    "#        1173,  482,  147,   38, 2011, 1587, 2435,  946, 1657, 1658,  692,\n",
    "#        1305,  289, 2426, 1723, 2318, 2471,  505, 1850,  208, 1575,  295,\n",
    "#          61, 2022, 2056, 1147, 2472, 1692, 2168,  504, 1158, 1940, 2233,\n",
    "#        1028,  367, 1339, 1516, 1659,  568,  589, 2095, 1464,  590, 1394,\n",
    "#        1144,  721, 2389, 1138, 2320, 2494, 2366,  258, 1154, 2406, 2096,\n",
    "#         607,  296,  587, 1205,  566, 2070, 2310,   11,  653,  759,  934,\n",
    "#         819,   19, 1661, 1785,  196, 1754,  133, 2359, 2107,  321,  118,\n",
    "#         261,  598, 2262,  905, 1169, 2083, 1251, 1665, 1056, 1697,  322,\n",
    "#        1827, 1337,  149,   21, 2467,  579,  421, 1264,  114,  762,  102,\n",
    "#        1685, 2049, 1190, 1266, 2291, 1605, 1645,  226, 1715,   17,  141,\n",
    "#        1871, 2309,  145, 2336, 2068, 1206,  957,  418, 1933,  988, 1062,\n",
    "#         950,  573, 2201,  572,  229,  492,   86, 1558,  440, 1859, 1427,\n",
    "#         439,  288,  477, 2343, 1300,   77,  242,  549, 2373, 1382,  422,\n",
    "#         591,  490, 2112, 1638, 1124,  233, 1182,  998, 2058,  832,  665,\n",
    "#         944,  935, 1396,  815, 1588, 1292,  880, 2395,  996, 1510,  346,\n",
    "#         558,  990, 1758,  838,  695,  171, 1504,  257, 2175,  865, 1557,\n",
    "#        1148, 1863, 1293,  858, 2253,  115, 1881, 1961,  953,  471, 2135,\n",
    "#        1984,  273,  561, 1097,  876,  103,   58,  840, 1790, 1150,  310,\n",
    "#        1513, 1458, 2377, 1799, 1978, 1445,  215, 1621, 1649,   92,  166,\n",
    "#        1700, 1855, 1925,  438, 1566,  234,  270, 1953,  897, 1314,  597,\n",
    "#         961, 1285,  466,  983, 1336, 1592, 1178,  603, 1269,  659, 2306,\n",
    "#         537,  820,  700, 2445, 1120, 1565, 2365,  450,  635, 2316,  444,\n",
    "#        2149,  338,  868, 1824, 1610,  232,  389, 1966, 1473,  436, 1320,\n",
    "#        1524,    5, 1401,  112, 1403, 1215,  109, 1034,  583,  368, 1534,\n",
    "#         834, 1010, 1607, 1283, 2357,  443, 2120,  664,  997, 1090, 2429,\n",
    "#         643,  570,  451, 1197, 1070, 1743, 2069, 2479, 2474,  647, 1604,\n",
    "#        2220,  986, 2153,    3, 2354,  723,  989,  306,   10,   14, 2100,\n",
    "#        1426, 2060,    4,  682, 2447, 1931, 2330, 1088,  332, 2460, 1282,\n",
    "#         285, 1919,  473,  160,  459, 2326, 1820, 1979,  784,  178, 1542,\n",
    "#        1004, 2307, 1650, 2132,  287,  913,  262, 2113, 1316, 1599,  824,\n",
    "#        1365,  290, 1356,  729, 2358, 1873, 1924, 1092, 1601,  914,  821,\n",
    "#         249,   28,  749,  535,  509,   66,  188, 1794,  219, 1404, 1242,\n",
    "#        1836,  244,  835, 2158, 1845, 1276, 1739, 1926, 2114, 1129,  596,\n",
    "#        1284,  758,  654, 1496,   15, 2249, 2034, 2371, 1930,  879,  251,\n",
    "#        1208, 2093, 2287,  144,  388,  550,  404, 1258, 1734, 1488, 1060,\n",
    "#        2013, 2465, 1877, 1503,  319,  782, 1174,  494,  688,  317, 1704,\n",
    "#        1818,  391, 2327, 1776, 1644, 2274,  967, 1018, 1436,  177,   50,\n",
    "#         958,   64, 2305, 2464, 2079, 2187,  605, 1779,  518, 1573, 1191,\n",
    "#        1408,  399, 2430, 1000,  644,  554, 2311,  364, 2333,   27, 2119,\n",
    "#        2231,  461,  656, 1904, 2298, 2043, 1355, 2387, 1812, 2477, 1822,\n",
    "#         899, 1222,  386,  423,  305,  123,  128,  409, 1451,  822,  191,\n",
    "#        1725, 2345,  361,  200,  336, 1167, 1080, 1407,  755, 2200,  565,\n",
    "#        1386, 1153, 2118, 1744,  426, 2337,  718,  816,  929, 2495, 1720,\n",
    "#        1937, 1331,  797, 1240,  919, 1963, 2401, 1287, 1987, 1574, 1989,\n",
    "#         766, 1373,  959, 1768,   71,  390, 1901,  281, 1334,  169,  743,\n",
    "#        1846, 2063,  951, 1155,  190, 1672, 1342, 1895, 1291, 2078,   97,\n",
    "#        1843, 2047, 2422, 1183, 1539,  920, 1577, 1681, 1228, 2234, 1093,\n",
    "#        2196,  316, 2393,  132, 1770, 1494,  107, 1667,  299,  616, 2297,\n",
    "#         877, 1059, 2053, 1435,  869, 2239, 1143,  703, 1128, 2191, 1199,\n",
    "#        2230,  414, 1447,  211, 2165, 2242,  375,  673, 1646,  940, 2046,\n",
    "#         199,  713, 1078, 1135,   46, 1955,  515,  779,  796, 2432,  709,\n",
    "#        2346,  936,  351, 2411, 1733,  365, 2241, 1459,  705, 1015, 1081,\n",
    "#        2352, 2478,  744,  686,  963,  677,  239, 1416, 1719, 1498, 1235,\n",
    "#        1454, 2351, 2138,  312, 1671, 1236, 1037, 2425,  921,  506, 1537,\n",
    "#         458, 1113,  955,  924,  341, 2437,  574,  987,  719, 1195, 1074,\n",
    "#        2123, 2332, 2192, 1579,   47, 1553,   82,  947, 1032, 1856,  960,\n",
    "#         547,  793, 1501, 1572,  870,  330, 2293,   75, 1713,  928, 2189,\n",
    "#        2476,  710, 2338, 1101, 1469,  889,  356, 1304,  493, 1103,   69,\n",
    "#        1313, 1616,  254, 1618,  110, 1535,  175,  981, 2243,  826, 1254,\n",
    "#         131, 2010, 2194, 1795,  764,  894, 1600,    2,  800,  786, 1735,\n",
    "#        1472,  674,  563, 2459, 2486,   43,  238,  427, 2420,  204,  923,\n",
    "#         240, 2440, 1927, 1241,  670, 1175,  741,  694, 1023, 2181, 1257,\n",
    "#        1044,  366,  164, 1140, 1378,  259, 1885, 1686, 1903, 1214,  163,\n",
    "#        1024, 1583,  264,  385, 1943,  231, 1134, 2222,  701, 1838, 2050,\n",
    "#         272, 1802, 1126, 1395,  277, 1151, 1019, 1886, 1446, 2208,  508,\n",
    "#        1026, 2143, 1094,  884,  912,  732,  964,  611,  179,  267, 1462,\n",
    "#         260,  377, 1952, 2157,  105,  999,  488, 1341,  449, 2041, 2139,\n",
    "#        2325, 1502, 2019,  715, 1443, 1602, 1157,  284, 1052, 1149, 1762,\n",
    "#        1296,  475, 1994, 2400, 1225,   68, 2042, 1555, 1890, 1660, 2461,\n",
    "#        1548,  827,  975,   76, 1058, 1560, 1612, 2159, 2004,  153, 1899,\n",
    "#         855, 1782, 1948, 1255, 1728, 2433, 1929, 2057, 1227, 1911,   16,\n",
    "#         618, 1310,  697, 2117, 2077, 1908, 2144, 1152,  846, 1866, 2304,\n",
    "#         300,  902, 1732,   51, 2206,  874, 2299, 2446, 2341, 2110,   91,\n",
    "#         814, 1253, 1684,  355, 1898, 1079,  850,  228, 2085,  860, 1578,\n",
    "#         802,  544, 1914, 1699, 1048,  235, 1751, 1998, 2039, 1347, 1811,\n",
    "#         297, 2396, 1352, 2185, 2418,  353, 1007, 1775, 2020,  856]"
   ]
  },
  {
   "cell_type": "code",
   "execution_count": null,
   "metadata": {
    "id": "iWO6SoWXFJ1z"
   },
   "outputs": [],
   "source": [
    "# testIndices = [1917,  486, 1935, 2473, 1554,  968, 2468, 2349,  972,  419,  411,\n",
    "#        2384, 2258, 2101,  136,  909,  791, 1317, 1693, 1647,  657, 2031,\n",
    "#         524, 2197,  313,  943,  370, 1656, 2380, 1036, 1703,  503,  320,\n",
    "#         387, 2174, 1311,  954,  696, 2481,  571, 2146,   94,   40, 1832,\n",
    "#         359,  714, 2161,  454,  627,  722, 1449, 2155, 2064, 2170,  198,\n",
    "#        1769, 2198,  681, 1100,  637,  702, 1825, 1397, 1405, 1112,  652,\n",
    "#        1289, 2213, 1110,  839, 1585,  497,  529, 2209,   54, 1388,  413,\n",
    "#         937, 1184, 1627,  754,  106, 1860,  255,  711, 1619,  645,   81,\n",
    "#         172, 1945,  564,  340, 2092,  746, 1954,  655, 1307,  323,  970,\n",
    "#         362, 2449, 1137,  781,  425, 2025,  626, 1947, 1125, 1348, 1027,\n",
    "#         600, 1798, 1633, 1315,    0, 1038,  783, 1268,  168, 1413, 1323,\n",
    "#         121,  778,  984,  437]"
   ]
  },
  {
   "cell_type": "code",
   "execution_count": null,
   "metadata": {
    "id": "0JefECShBKmW"
   },
   "outputs": [],
   "source": [
    "# deeplabcut.create_training_dataset(path_config_file, trainIndices=[trainIndices], testIndices=[testIndices], net_type='resnet_50', augmenter_type='imgaug')"
   ]
  },
  {
   "cell_type": "markdown",
   "metadata": {
    "id": "c4FczXGDoEJU"
   },
   "source": [
    "## Start training:\n",
    "This function trains the network for a specific shuffle of the training dataset."
   ]
  },
  {
   "cell_type": "code",
   "execution_count": null,
   "metadata": {
    "id": "_pOvDq_2oEJW"
   },
   "outputs": [],
   "source": [
    "deeplabcut.train_network(path_config_file,shuffle=1, displayiters=10,saveiters=500)\n",
    "\n",
    "#this will run until you stop it (CTRL+C), or hit \"STOP\" icon, or when it hits the end (default, 1.03M iterations).\n",
    "#Whichever you chose, you will see what looks like an error message, but it's not an error - don't worry...."
   ]
  },
  {
   "cell_type": "markdown",
   "metadata": {
    "id": "RiDwIVf5-3H_"
   },
   "source": [
    "**When you hit \"STOP\" you will get a KeyInterrupt \"error\"! No worries! :)**"
   ]
  },
  {
   "cell_type": "markdown",
   "metadata": {
    "id": "4s0oDHBFj2ig"
   },
   "source": []
  },
  {
   "cell_type": "markdown",
   "metadata": {
    "id": "xZygsb2DoEJc"
   },
   "source": [
    "## Start evaluating:\n",
    "This funtion evaluates a trained model for a specific shuffle/shuffles at a particular state or all the states on the data set (images)\n",
    "and stores the results as .csv file in a subdirectory under **evaluation-results**"
   ]
  },
  {
   "cell_type": "code",
   "execution_count": null,
   "metadata": {
    "id": "bjm9V7qy0LLh"
   },
   "outputs": [],
   "source": [
    "import tensorflow as tf"
   ]
  },
  {
   "cell_type": "code",
   "execution_count": null,
   "metadata": {
    "id": "0sHyc5zm0YDb"
   },
   "outputs": [],
   "source": [
    "model_path = '/content/drive/My Drive/dlc_2-kata-2022-12-12/dlc-models/iteration-0/dlc_2Dec12-trainset95shuffle1/train/snapshot-31600.data-00000-of-00001'"
   ]
  },
  {
   "cell_type": "code",
   "execution_count": null,
   "metadata": {
    "id": "TgT7RtBe0NuN"
   },
   "outputs": [],
   "source": [
    "snap = tf.data.experimental.snapshot(\n",
    "    model_path, compression='AUTO', reader_func=None, shard_func=None\n",
    ")"
   ]
  },
  {
   "cell_type": "code",
   "execution_count": null,
   "metadata": {
    "colab": {
     "base_uri": "https://localhost:8080/"
    },
    "executionInfo": {
     "elapsed": 5909,
     "status": "ok",
     "timestamp": 1699433437537,
     "user": {
      "displayName": "Katharina Koetter",
      "userId": "08220353736984183787"
     },
     "user_tz": -60
    },
    "id": "nv4zlbrnoEJg",
    "outputId": "2bdde03f-45c3-44b8-ce06-11ecbfef4cb0"
   },
   "outputs": [
    {
     "name": "stdout",
     "output_type": "stream",
     "text": [
      "Running  DLC_resnet50_dlc_2Dec12shuffle1_316000  with # of training iterations: 316000\n",
      "This net has already been evaluated!\n",
      "Plots already exist for this snapshot... Skipping to the next one.\n"
     ]
    }
   ],
   "source": [
    "# %matplotlib notebook\n",
    "deeplabcut.evaluate_network(path_config_file,plotting=True)\n",
    "\n",
    "# Here you want to see a low pixel error! Of course, it can only be as good as the labeler,\n",
    "#so be sure your labels are good! (And you have trained enough ;)"
   ]
  },
  {
   "cell_type": "markdown",
   "metadata": {
    "id": "BaLBl3TQtrfB"
   },
   "source": [
    "## There is an optional refinement step you can do outside of Colab:\n",
    "- if your pixel errors are not low enough, please check out the protocol guide on how to refine your network!\n",
    "- You will need to adjust the labels **outside of Colab!** We recommend coming back to train and analyze videos...\n",
    "- Please see the repo and protocol instructions on how to refine your data!"
   ]
  },
  {
   "cell_type": "markdown",
   "metadata": {
    "id": "OVFLSKKfoEJk"
   },
   "source": [
    "## Start Analyzing videos:\n",
    "This function analyzes the new video. The user can choose the best model from the evaluation results and specify the correct snapshot index for the variable **snapshotindex** in the **config.yaml** file. Otherwise, by default the most recent snapshot is used to analyse the video.\n",
    "\n",
    "The results are stored in hd5 file in the same directory where the video resides."
   ]
  },
  {
   "cell_type": "code",
   "execution_count": null,
   "metadata": {
    "id": "1FZO8ZzMI6Mu"
   },
   "outputs": [],
   "source": [
    "import tensorflow as tf"
   ]
  },
  {
   "cell_type": "code",
   "execution_count": null,
   "metadata": {
    "id": "QQZHnfI1I_6f"
   },
   "outputs": [],
   "source": [
    "model_path = '/content/drive/My Drive/dlc_2-kata-2022-12-12/dlc-models/iteration-0/dlc_2Dec12-trainset95shuffle1/train/snapshot-31600.data-00000-of-00001'"
   ]
  },
  {
   "cell_type": "code",
   "execution_count": null,
   "metadata": {
    "id": "5G7xxntw0lKT"
   },
   "outputs": [],
   "source": [
    "path_new_vid = '/content/drive/My Drive/dlc_2-kata-2022-12-12/videos/160645_video.mp4' #again"
   ]
  },
  {
   "cell_type": "code",
   "execution_count": null,
   "metadata": {
    "colab": {
     "base_uri": "https://localhost:8080/"
    },
    "id": "Y_LZiS_0oEJl",
    "outputId": "62b7b103-235d-4757-d560-20ec5b7fec68"
   },
   "outputs": [
    {
     "name": "stdout",
     "output_type": "stream",
     "text": [
      "Using snapshot-316000 for model /content/drive/My Drive/dlc_2-kata-2022-12-12/dlc-models/iteration-0/dlc_2Dec12-trainset95shuffle1\n"
     ]
    },
    {
     "name": "stderr",
     "output_type": "stream",
     "text": [
      "/usr/local/lib/python3.10/dist-packages/tensorflow/python/keras/engine/base_layer_v1.py:1694: UserWarning: `layer.apply` is deprecated and will be removed in a future version. Please use `layer.__call__` method instead.\n",
      "  warnings.warn('`layer.apply` is deprecated and '\n"
     ]
    },
    {
     "name": "stdout",
     "output_type": "stream",
     "text": [
      "Starting to analyze %  /content/drive/My Drive/dlc_2-kata-2022-12-12/videos/160645_video.mp4\n",
      "Loading  /content/drive/My Drive/dlc_2-kata-2022-12-12/videos/160645_video.mp4\n",
      "Duration of video [s]:  3927.54 , recorded with  24.0 fps!\n",
      "Overall # of frames:  94261  found with (before cropping) frame dimensions:  1280 1024\n",
      "Starting to extract posture\n"
     ]
    },
    {
     "name": "stderr",
     "output_type": "stream",
     "text": [
      " 38%|███▊      | 35840/94261 [1:04:59<1:50:53,  8.78it/s]"
     ]
    }
   ],
   "source": [
    "deeplabcut.analyze_videos(path_config_file,path_new_vid, videotype=VideoType)"
   ]
  },
  {
   "cell_type": "markdown",
   "metadata": {
    "id": "8GTiuJESoEKH"
   },
   "source": [
    "## Plot the trajectories of the analyzed videos:\n",
    "This function plots the trajectories of all the body parts across the entire video. Each body part is identified by a unique color."
   ]
  },
  {
   "cell_type": "code",
   "execution_count": null,
   "metadata": {
    "id": "gX21zZbXoEKJ"
   },
   "outputs": [],
   "source": [
    "# deeplabcut.plot_trajectories(path_config_file, videofile_path, videotype=VideoType)"
   ]
  },
  {
   "cell_type": "markdown",
   "metadata": {
    "id": "pqaCw15v8EmB"
   },
   "source": [
    "Now you can look at the plot-poses file and check the \"plot-likelihood.png\" might want to change the \"p-cutoff\" in the config.yaml file so that you have only high confidnece points plotted in the video. i.e. ~0.8 or 0.9. The current default is 0.4."
   ]
  },
  {
   "cell_type": "markdown",
   "metadata": {
    "id": "pCrUvQIvoEKD"
   },
   "source": [
    "## Create labeled video:\n",
    "This funtion is for visualiztion purpose and can be used to create a video in .mp4 format with labels predicted by the network. This video is saved in the same directory where the original video resides."
   ]
  },
  {
   "cell_type": "code",
   "execution_count": null,
   "metadata": {
    "colab": {
     "base_uri": "https://localhost:8080/"
    },
    "executionInfo": {
     "elapsed": 1124741,
     "status": "ok",
     "timestamp": 1675193727239,
     "user": {
      "displayName": "Katharina Koetter",
      "userId": "08220353736984183787"
     },
     "user_tz": -60
    },
    "id": "6aDF7Q7KoEKE",
    "outputId": "51adc3e5-7c3f-43f0-bba2-b0bbc4da0896"
   },
   "outputs": [
    {
     "name": "stdout",
     "output_type": "stream",
     "text": [
      "Starting to process video: /content/drive/My Drive/dlc_2-kata-2022-12-12/videos/104652_video.mp4\n",
      "Loading /content/drive/My Drive/dlc_2-kata-2022-12-12/videos/104652_video.mp4 and data.\n",
      "Duration of video [s]: 4328.54, recorded with 24.0 fps!\n",
      "Overall # of frames: 103885 with cropped frame dimensions: 1280 1024\n",
      "Generating frames and creating video.\n"
     ]
    },
    {
     "name": "stderr",
     "output_type": "stream",
     "text": [
      "100%|██████████| 103885/103885 [18:44<00:00, 92.42it/s]\n"
     ]
    }
   ],
   "source": [
    "deeplabcut.create_labeled_video(path_config_file,[path_new_vid], videotype=VideoType)"
   ]
  },
  {
   "cell_type": "markdown",
   "metadata": {
    "id": "H4Vez7l-8X4Q"
   },
   "source": [
    "## Extract outlier frames\n",
    "\n",
    "Extract the outlier frames to improve performance is (perhaps) unexpected situations."
   ]
  },
  {
   "cell_type": "code",
   "execution_count": null,
   "metadata": {
    "colab": {
     "base_uri": "https://localhost:8080/"
    },
    "executionInfo": {
     "elapsed": 34,
     "status": "ok",
     "timestamp": 1639568952047,
     "user": {
      "displayName": "Katharina Koetter",
      "photoUrl": "https://lh3.googleusercontent.com/a-/AOh14GiWReqSWWDG9iGWHajT1ZZmoc52YkjXyT7FEQtrLQ=s64",
      "userId": "08220353736984183787"
     },
     "user_tz": -60
    },
    "id": "vyn7KC_1NktH",
    "outputId": "ca3901c0-a826-4039-d435-0336cde6cbca"
   },
   "outputs": [
    {
     "name": "stdout",
     "output_type": "stream",
     "text": [
      "No unfiltered data file found in /content/drive/MyDrive/211118_DLC_set2/211118_f0 for video 095804_video and scorer DLC_resnet50_Zebrafish trackingNov9shuffle1_152500.\n",
      "It seems the video has not been analyzed yet, or the video is not found! You can only refine the labels after the a video is analyzed. Please run 'analyze_video' first. Or, please double check your video file path\n"
     ]
    }
   ],
   "source": [
    "deeplabcut.extract_outlier_frames(path_config_file, [path_new_vid], videotype='.mp4', outlieralgorithm='jump', epsilon=1000)"
   ]
  }
 ],
 "metadata": {
  "accelerator": "GPU",
  "colab": {
   "provenance": [
    {
     "file_id": "1QMV3QtShzhOkHYmVsNH99wDFSsYlKLPh",
     "timestamp": 1671098525358
    },
    {
     "file_id": "https://github.com/AlexEMG/DeepLabCut/blob/master/examples/COLAB_YOURDATA_TrainNetwork_VideoAnalysis.ipynb",
     "timestamp": 1636711253230
    }
   ]
  },
  "kernelspec": {
   "display_name": "Python 3 (ipykernel)",
   "language": "python",
   "name": "python3"
  },
  "language_info": {
   "codemirror_mode": {
    "name": "ipython",
    "version": 3
   },
   "file_extension": ".py",
   "mimetype": "text/x-python",
   "name": "python",
   "nbconvert_exporter": "python",
   "pygments_lexer": "ipython3",
   "version": "3.11.5"
  }
 },
 "nbformat": 4,
 "nbformat_minor": 4
}
