{
 "cells": [
  {
   "cell_type": "code",
   "execution_count": 60,
   "id": "12c493a6",
   "metadata": {},
   "outputs": [
    {
     "name": "stdout",
     "output_type": "stream",
     "text": [
      "The autoreload extension is already loaded. To reload it, use:\n",
      "  %reload_ext autoreload\n"
     ]
    }
   ],
   "source": [
    "%load_ext autoreload\n",
    "%autoreload 2\n",
    "import warnings\n",
    "warnings.filterwarnings('ignore')\n"
   ]
  },
  {
   "cell_type": "code",
   "execution_count": 61,
   "id": "e6efbb4c",
   "metadata": {},
   "outputs": [],
   "source": [
    "import os\n",
    "import json\n",
    "\n",
    "# Data Wrangling\n",
    "import h5py\n",
    "import numpy as np\n",
    "import pandas as pd\n",
    "from pathlib import Path\n",
    "import matplotlib.pyplot as plt\n",
    "import glob\n",
    "import flammkuchen as fl\n",
    "import shutil\n",
    "\n",
    "import seaborn as sns\n",
    "import matplotlib as mpl"
   ]
  },
  {
   "cell_type": "markdown",
   "id": "3930d586-1893-4fa6-93bd-af6f3cac4e68",
   "metadata": {},
   "source": [
    "### Custom functions"
   ]
  },
  {
   "cell_type": "code",
   "execution_count": 62,
   "id": "41b7c788-1d3e-4de0-b48d-5a062e25522b",
   "metadata": {},
   "outputs": [],
   "source": [
    "# from feature_extractuion_helpers import smooth_trace\n",
    "# from megabouts_helper import labels_cat\n",
    "\n",
    "from megabouts.utils import (\n",
    "    bouts_category_name,\n",
    "    bouts_category_name_short,\n",
    "    bouts_category_color,\n",
    "    cmp_bouts,\n",
    ")"
   ]
  },
  {
   "cell_type": "code",
   "execution_count": 63,
   "id": "ab60747d",
   "metadata": {},
   "outputs": [],
   "source": [
    "def flatten(l):\n",
    "    return [item for sublist in l for item in sublist]"
   ]
  },
  {
   "cell_type": "markdown",
   "id": "0085bf52",
   "metadata": {},
   "source": [
    "## pool data "
   ]
  },
  {
   "cell_type": "code",
   "execution_count": 75,
   "id": "7856c41e",
   "metadata": {},
   "outputs": [
    {
     "data": {
      "text/plain": [
       "([WindowsPath('//portulab.synology.me/data/Kata/Data/230307_visstim_2D/105234_f0'),\n",
       "  WindowsPath('//portulab.synology.me/data/Kata/Data/230307_visstim_2D/105646_f0'),\n",
       "  WindowsPath('//portulab.synology.me/data/Kata/Data/230307_visstim_2D/110659_f0'),\n",
       "  WindowsPath('//portulab.synology.me/data/Kata/Data/230307_visstim_2D/111701_f0'),\n",
       "  WindowsPath('//portulab.synology.me/data/Kata/Data/230307_visstim_2D/112901_f1'),\n",
       "  WindowsPath('//portulab.synology.me/data/Kata/Data/230307_visstim_2D/113916_f2'),\n",
       "  WindowsPath('//portulab.synology.me/data/Kata/Data/230307_visstim_2D/114946_f2'),\n",
       "  WindowsPath('//portulab.synology.me/data/Kata/Data/230307_visstim_2D/120328_f3'),\n",
       "  WindowsPath('//portulab.synology.me/data/Kata/Data/230307_visstim_2D/120350_f3'),\n",
       "  WindowsPath('//portulab.synology.me/data/Kata/Data/230307_visstim_2D/123953_f4'),\n",
       "  WindowsPath('//portulab.synology.me/data/Kata/Data/230307_visstim_2D/125639_f5'),\n",
       "  WindowsPath('//portulab.synology.me/data/Kata/Data/230307_visstim_2D/130839_f5'),\n",
       "  WindowsPath('//portulab.synology.me/data/Kata/Data/230307_visstim_2D/132040_f6'),\n",
       "  WindowsPath('//portulab.synology.me/data/Kata/Data/230307_visstim_2D/133118_f6')],\n",
       " 14)"
      ]
     },
     "execution_count": 75,
     "metadata": {},
     "output_type": "execute_result"
    }
   ],
   "source": [
    "master_path = Path(r\"\\\\portulab.synology.me\\data\\Kata\\Data\\230307_visstim_2D\") #rectangular arena # start from fish 1\n",
    "# master_path = Path(r\"\\\\portulab.synology.me\\data\\Kata\\Data\\22042024_visstim_2D_round\")\n",
    "# master_path = Path(r\"\\\\portulab.synology.me\\data\\Kata\\Data\\22042024_visstim_2D_2\") #rectangular arena\n",
    "# master_path = Path(r\"\\\\portulab.synology.me\\data\\Kata\\Data\\13052024_visstim_2D_round\")\n",
    "# master_path = Path(r\"\\\\portulab.synology.me\\data\\Kata\\Data\\14052024_visstim_2D_round\")\n",
    "\n",
    "fish_paths = list(master_path.glob('*f[0-9]*'))\n",
    "fish_paths, len(fish_paths)"
   ]
  },
  {
   "cell_type": "code",
   "execution_count": 76,
   "id": "7dfe95e6-2769-4f9d-9539-6e93035bc2c9",
   "metadata": {},
   "outputs": [
    {
     "data": {
      "text/plain": [
       "'230307_visstim_2D'"
      ]
     },
     "execution_count": 76,
     "metadata": {},
     "output_type": "execute_result"
    }
   ],
   "source": [
    "exp_name = Path(fish_paths[0]).parts[-2]\n",
    "exp_name"
   ]
  },
  {
   "cell_type": "code",
   "execution_count": 77,
   "id": "20daefc9-643f-496b-9ebb-247efa52ad10",
   "metadata": {},
   "outputs": [],
   "source": [
    "out_path = Path(r\"\\\\portulab.synology.me\\data\\Kata\\Processed_Data\\230307_visstim_2D_\")\n",
    "# out_path = Path(r\"\\\\portulab.synology.me\\data\\Kata\\Processed_Data\\22042024_visstim_2D_round_\")\n",
    "# out_path = Path(r\"\\\\portulab.synology.me\\data\\Kata\\Processed_Data\\22042024_visstim_2D_2_\")\n",
    "# out_path = Path(r\"\\\\portulab.synology.me\\data\\Kata\\Processed_Data\\13052024_visstim_2D_round_\")\n",
    "# out_path = Path(r\"\\\\portulab.synology.me\\data\\Kata\\Processed_Data\\14052024_visstim_2D_round_\")"
   ]
  },
  {
   "cell_type": "markdown",
   "id": "ebc53767-a1fb-4e38-a590-d33a60582a36",
   "metadata": {},
   "source": [
    "### Tensor pooling"
   ]
  },
  {
   "cell_type": "code",
   "execution_count": 78,
   "id": "7a846ddf-6864-425f-9203-b3fca25d1fa1",
   "metadata": {},
   "outputs": [],
   "source": [
    "tensor_path = Path(r'\\\\portulab.synology.me\\data\\Kata\\Processed_Data\\tensor_data\\tensors')"
   ]
  },
  {
   "cell_type": "code",
   "execution_count": 79,
   "id": "0eb96f1e-d0dc-4f5a-ae09-df0ed27a51d5",
   "metadata": {},
   "outputs": [
    {
     "name": "stdout",
     "output_type": "stream",
     "text": [
      "Working on 105234_f0\n",
      "Working on 105646_f0\n",
      "(47, 3, 50)\n",
      "Working on 110659_f0\n",
      "(68, 3, 50)\n",
      "Working on 111701_f0\n",
      "(6, 3, 50)\n",
      "Working on 112901_f1\n",
      "(189, 3, 50)\n",
      "Working on 113916_f2\n",
      "(212, 3, 50)\n",
      "Working on 114946_f2\n",
      "(243, 3, 50)\n",
      "Working on 120328_f3\n",
      "(361, 3, 50)\n",
      "Working on 120350_f3\n",
      "(242, 3, 50)\n",
      "Working on 123953_f4\n",
      "(64, 3, 50)\n",
      "Working on 125639_f5\n",
      "(213, 3, 50)\n",
      "Working on 130839_f5\n",
      "(362, 3, 50)\n",
      "Working on 132040_f6\n",
      "(315, 3, 50)\n",
      "Working on 133118_f6\n",
      "(354, 3, 50)\n"
     ]
    }
   ],
   "source": [
    "tensors_ = []\n",
    "indices_ = []\n",
    "\n",
    "for ind, fish in enumerate(fish_paths):\n",
    "    print ('Working on {}'.format(fish.name))\n",
    "    fish_id = fish.name\n",
    "    \n",
    "    try:\n",
    "        tensor = fl.load(Path(out_path/'{}_tensor.h5'.format(fish_id)))\n",
    "        print (tensor.shape)\n",
    "        tensors_.append(tensor)\n",
    "    except OSError:\n",
    "        pass\n",
    "    \n"
   ]
  },
  {
   "cell_type": "code",
   "execution_count": 80,
   "id": "eb5bb114-c2d5-4778-b557-4d365e45cd5f",
   "metadata": {},
   "outputs": [
    {
     "name": "stdout",
     "output_type": "stream",
     "text": [
      "(2676, 3, 50)\n"
     ]
    }
   ],
   "source": [
    "### stack tensors per experiment\n",
    "# Concatenate tensors along the first axis\n",
    "big_tensor = np.concatenate(tensors_, axis=0)\n",
    "\n",
    "# Output the shape of the resulting tensor\n",
    "print(big_tensor.shape)\n",
    "fl.save(tensor_path/ '{}_tensor_norm.h5'.format(exp_name), big_tensor)"
   ]
  },
  {
   "cell_type": "code",
   "execution_count": 83,
   "id": "2bc576a1-035a-4b49-b1b7-3a52d25bb8b0",
   "metadata": {},
   "outputs": [
    {
     "name": "stdout",
     "output_type": "stream",
     "text": [
      "Working on 13052024_visstim_2D_round_tensor_norm.h5\n",
      "(2228, 3, 50)\n",
      "Working on 14052024_visstim_2D_round_tensor_norm.h5\n",
      "(2509, 3, 50)\n",
      "Working on 22042024_visstim_2D_2_tensor_norm.h5\n",
      "(2228, 3, 50)\n",
      "Working on 22042024_visstim_2D_round_tensor_norm.h5\n",
      "(10047, 3, 50)\n",
      "Working on 230307_visstim_2D_tensor_norm.h5\n",
      "(2676, 3, 50)\n"
     ]
    }
   ],
   "source": [
    "t_paths = list(tensor_path.glob('*tensor_norm.h5*'))\n",
    "t_paths, len(t_paths)\n",
    "tensors_pooled =[]\n",
    "\n",
    "for ind, path in enumerate(t_paths):\n",
    "    print ('Working on {}'.format(path.name))\n",
    "    try:\n",
    "        tensor = fl.load(path)\n",
    "        print (tensor.shape)\n",
    "        tensors_pooled.append(tensor)\n",
    "    except OSError:\n",
    "        pass\n"
   ]
  },
  {
   "cell_type": "code",
   "execution_count": 84,
   "id": "d4cce8de-c7bb-450b-9725-c76f54f4486e",
   "metadata": {},
   "outputs": [
    {
     "name": "stdout",
     "output_type": "stream",
     "text": [
      "(19688, 3, 50)\n"
     ]
    }
   ],
   "source": [
    "### stack tensors per experiment\n",
    "# Concatenate tensors along the first axis\n",
    "pooled_tensor = np.concatenate(tensors_pooled, axis=0)\n",
    "\n",
    "# Output the shape of the resulting tensor\n",
    "print(pooled_tensor.shape)\n",
    "fl.save(Path(r'\\\\portulab.synology.me\\data\\Kata\\Processed_Data\\tensor_data')/ 'pooled_tensor_norm.h5', pooled_tensor)"
   ]
  },
  {
   "cell_type": "code",
   "execution_count": null,
   "id": "877bcfaf-a772-4e16-9ad7-0cd4721796cc",
   "metadata": {},
   "outputs": [],
   "source": []
  },
  {
   "cell_type": "code",
   "execution_count": null,
   "id": "9f21dd36-946f-4d00-a56e-bee5f2006734",
   "metadata": {},
   "outputs": [],
   "source": []
  }
 ],
 "metadata": {
  "kernelspec": {
   "display_name": "Python 3 (ipykernel)",
   "language": "python",
   "name": "python3"
  },
  "language_info": {
   "codemirror_mode": {
    "name": "ipython",
    "version": 3
   },
   "file_extension": ".py",
   "mimetype": "text/x-python",
   "name": "python",
   "nbconvert_exporter": "python",
   "pygments_lexer": "ipython3",
   "version": "3.11.10"
  }
 },
 "nbformat": 4,
 "nbformat_minor": 5
}
