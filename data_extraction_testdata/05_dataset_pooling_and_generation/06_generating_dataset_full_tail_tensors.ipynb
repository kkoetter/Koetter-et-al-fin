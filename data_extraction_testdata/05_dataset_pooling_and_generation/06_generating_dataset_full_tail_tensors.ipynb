{
 "cells": [
  {
   "cell_type": "code",
   "execution_count": 1,
   "id": "12c493a6",
   "metadata": {},
   "outputs": [],
   "source": [
    "%load_ext autoreload\n",
    "%autoreload 2\n",
    "import warnings\n",
    "warnings.filterwarnings('ignore')\n"
   ]
  },
  {
   "cell_type": "code",
   "execution_count": 2,
   "id": "e6efbb4c",
   "metadata": {},
   "outputs": [],
   "source": [
    "import os\n",
    "import json\n",
    "\n",
    "# Data Wrangling\n",
    "import h5py\n",
    "import numpy as np\n",
    "import pandas as pd\n",
    "from pathlib import Path\n",
    "import matplotlib.pyplot as plt\n",
    "import glob\n",
    "import flammkuchen as fl\n",
    "import shutil\n",
    "\n",
    "import seaborn as sns\n",
    "import matplotlib as mpl"
   ]
  },
  {
   "cell_type": "markdown",
   "id": "3930d586-1893-4fa6-93bd-af6f3cac4e68",
   "metadata": {},
   "source": [
    "### Custom functions"
   ]
  },
  {
   "cell_type": "code",
   "execution_count": 3,
   "id": "41b7c788-1d3e-4de0-b48d-5a062e25522b",
   "metadata": {},
   "outputs": [],
   "source": [
    "# from feature_extractuion_helpers import smooth_trace\n",
    "# from megabouts_helper import labels_cat\n",
    "\n",
    "from megabouts.utils import (\n",
    "    bouts_category_name,\n",
    "    bouts_category_name_short,\n",
    "    bouts_category_color,\n",
    "    cmp_bouts,\n",
    ")"
   ]
  },
  {
   "cell_type": "code",
   "execution_count": 4,
   "id": "ab60747d",
   "metadata": {},
   "outputs": [],
   "source": [
    "def flatten(l):\n",
    "    return [item for sublist in l for item in sublist]"
   ]
  },
  {
   "cell_type": "markdown",
   "id": "0085bf52",
   "metadata": {},
   "source": [
    "## pool data "
   ]
  },
  {
   "cell_type": "code",
   "execution_count": 40,
   "id": "7856c41e",
   "metadata": {},
   "outputs": [
    {
     "data": {
      "text/plain": [
       "([WindowsPath('//portulab.synology.me/data/Kata/Data/14052024_visstim_2D_round/240514_f0'),\n",
       "  WindowsPath('//portulab.synology.me/data/Kata/Data/14052024_visstim_2D_round/240514_f1'),\n",
       "  WindowsPath('//portulab.synology.me/data/Kata/Data/14052024_visstim_2D_round/240514_f2'),\n",
       "  WindowsPath('//portulab.synology.me/data/Kata/Data/14052024_visstim_2D_round/240514_f3'),\n",
       "  WindowsPath('//portulab.synology.me/data/Kata/Data/14052024_visstim_2D_round/240514_f4'),\n",
       "  WindowsPath('//portulab.synology.me/data/Kata/Data/14052024_visstim_2D_round/240514_f5'),\n",
       "  WindowsPath('//portulab.synology.me/data/Kata/Data/14052024_visstim_2D_round/240514_f6'),\n",
       "  WindowsPath('//portulab.synology.me/data/Kata/Data/14052024_visstim_2D_round/240514_f7'),\n",
       "  WindowsPath('//portulab.synology.me/data/Kata/Data/14052024_visstim_2D_round/240514_f8'),\n",
       "  WindowsPath('//portulab.synology.me/data/Kata/Data/14052024_visstim_2D_round/240514_f9')],\n",
       " 10)"
      ]
     },
     "execution_count": 40,
     "metadata": {},
     "output_type": "execute_result"
    }
   ],
   "source": [
    "# master_path = Path(r\"\\\\portulab.synology.me\\data\\Kata\\Data\\230307_visstim_2D\") #rectangular arena # start from fish 1\n",
    "# master_path = Path(r\"\\\\portulab.synology.me\\data\\Kata\\Data\\22042024_visstim_2D_round\")\n",
    "# master_path = Path(r\"\\\\portulab.synology.me\\data\\Kata\\Data\\22042024_visstim_2D_2\") #rectangular arena\n",
    "# master_path = Path(r\"\\\\portulab.synology.me\\data\\Kata\\Data\\13052024_visstim_2D_round\")\n",
    "master_path = Path(r\"\\\\portulab.synology.me\\data\\Kata\\Data\\14052024_visstim_2D_round\")\n",
    "\n",
    "fish_paths = list(master_path.glob('*f[0-9]*'))\n",
    "fish_paths, len(fish_paths)"
   ]
  },
  {
   "cell_type": "code",
   "execution_count": 41,
   "id": "7dfe95e6-2769-4f9d-9539-6e93035bc2c9",
   "metadata": {},
   "outputs": [
    {
     "data": {
      "text/plain": [
       "('14052024_visstim_2D_round', '240514_f0')"
      ]
     },
     "execution_count": 41,
     "metadata": {},
     "output_type": "execute_result"
    }
   ],
   "source": [
    "exp_name = Path(fish_paths[0]).parts[-2]\n",
    "fish= 0\n",
    "fish_id =  fish_paths[fish].name\n",
    "exp_name = Path(fish_paths[fish]).parts[-2]\n",
    "exp_name, fish_id"
   ]
  },
  {
   "cell_type": "code",
   "execution_count": 42,
   "id": "20daefc9-643f-496b-9ebb-247efa52ad10",
   "metadata": {},
   "outputs": [],
   "source": [
    "# out_path = Path(r\"\\\\portulab.synology.me\\data\\Kata\\Processed_Data\\230307_visstim_2D_\")\n",
    "# out_path = Path(r\"\\\\portulab.synology.me\\data\\Kata\\Processed_Data\\22042024_visstim_2D_round_\")\n",
    "# out_path = Path(r\"\\\\portulab.synology.me\\data\\Kata\\Processed_Data\\22042024_visstim_2D_2_\")\n",
    "# out_path = Path(r\"\\\\portulab.synology.me\\data\\Kata\\Processed_Data\\13052024_visstim_2D_round_\")\n",
    "out_path = Path(r\"\\\\portulab.synology.me\\data\\Kata\\Processed_Data\\14052024_visstim_2D_round_\")"
   ]
  },
  {
   "cell_type": "markdown",
   "id": "ebc53767-a1fb-4e38-a590-d33a60582a36",
   "metadata": {},
   "source": [
    "### Tensor pooling"
   ]
  },
  {
   "cell_type": "code",
   "execution_count": 43,
   "id": "7a846ddf-6864-425f-9203-b3fca25d1fa1",
   "metadata": {},
   "outputs": [],
   "source": [
    "tensor_path = Path(r'\\\\portulab.synology.me\\data\\Kata\\Processed_Data\\tensor_data\\tensors')"
   ]
  },
  {
   "cell_type": "code",
   "execution_count": 44,
   "id": "0eb96f1e-d0dc-4f5a-ae09-df0ed27a51d5",
   "metadata": {},
   "outputs": [
    {
     "name": "stdout",
     "output_type": "stream",
     "text": [
      "Working on 240514_f0\n",
      "Working on 240514_f1\n",
      "(41, 50, 10)\n",
      "Working on 240514_f2\n",
      "(40, 50, 10)\n",
      "Working on 240514_f3\n",
      "(147, 50, 10)\n",
      "Working on 240514_f4\n",
      "(272, 50, 10)\n",
      "Working on 240514_f5\n",
      "(175, 50, 10)\n",
      "Working on 240514_f6\n",
      "(277, 50, 10)\n",
      "Working on 240514_f7\n",
      "(279, 50, 10)\n",
      "Working on 240514_f8\n",
      "(577, 50, 10)\n",
      "Working on 240514_f9\n",
      "(509, 50, 10)\n"
     ]
    }
   ],
   "source": [
    "tensors_ = []\n",
    "\n",
    "for ind, fish in enumerate(fish_paths):\n",
    "    print ('Working on {}'.format(fish.name))\n",
    "    fish_id = fish.name\n",
    "    \n",
    "    try:\n",
    "        tensor = fl.load(Path(out_path/'{}_tail_tensor.h5'.format(fish_id)))\n",
    "        print (tensor.shape)\n",
    "        tensors_.append(tensor)\n",
    "    except OSError:\n",
    "        pass\n",
    "    \n"
   ]
  },
  {
   "cell_type": "code",
   "execution_count": 45,
   "id": "eb5bb114-c2d5-4778-b557-4d365e45cd5f",
   "metadata": {},
   "outputs": [
    {
     "name": "stdout",
     "output_type": "stream",
     "text": [
      "(2317, 50, 10)\n"
     ]
    }
   ],
   "source": [
    "### stack tensors per experiment\n",
    "# Concatenate tensors along the first axis\n",
    "big_tensor = np.concatenate(tensors_, axis=0)\n",
    "\n",
    "# Output the shape of the resulting tensor\n",
    "print(big_tensor.shape)\n",
    "fl.save(tensor_path/ '{}_tensor_tail_full.h5'.format(exp_name), big_tensor)"
   ]
  },
  {
   "cell_type": "code",
   "execution_count": 46,
   "id": "13576a2a-30e8-4a63-b0a2-2e4279599b3d",
   "metadata": {},
   "outputs": [
    {
     "name": "stdout",
     "output_type": "stream",
     "text": [
      "Working on 13052024_visstim_2D_round_tensor_tail_full.h5\n",
      "(2007, 50, 10)\n",
      "Working on 14052024_visstim_2D_round_tensor_tail_full.h5\n",
      "(2317, 50, 10)\n",
      "Working on 22042024_visstim_2D_2_tensor_tail_full.h5\n",
      "(1869, 50, 10)\n",
      "Working on 22042024_visstim_2D_round_tensor_tail_full.h5\n",
      "(9937, 50, 10)\n",
      "Working on 230307_visstim_2D_tensor_tail_full.h5\n",
      "(2676, 50, 10)\n"
     ]
    }
   ],
   "source": [
    "t_paths = list(tensor_path.glob('*_tensor_tail_full.h5*'))\n",
    "t_paths, len(t_paths)\n",
    "tensors_pooled =[]\n",
    "\n",
    "for ind, path in enumerate(t_paths):\n",
    "    print ('Working on {}'.format(path.name))\n",
    "    try:\n",
    "        tensor = fl.load(path)\n",
    "        print (tensor.shape)\n",
    "        tensors_pooled.append(tensor)\n",
    "    except OSError:\n",
    "        pass\n"
   ]
  },
  {
   "cell_type": "code",
   "execution_count": 47,
   "id": "d4cce8de-c7bb-450b-9725-c76f54f4486e",
   "metadata": {},
   "outputs": [
    {
     "name": "stdout",
     "output_type": "stream",
     "text": [
      "(18806, 50, 10)\n"
     ]
    }
   ],
   "source": [
    "### stack tensors per experiment\n",
    "# Concatenate tensors along the first axis\n",
    "pooled_tensor = np.concatenate(tensors_pooled, axis=0)\n",
    "\n",
    "# Output the shape of the resulting tensor\n",
    "print(pooled_tensor.shape)\n",
    "fl.save(tensor_path/ 'pooled_tensor_tail_full.h5', pooled_tensor)"
   ]
  },
  {
   "cell_type": "code",
   "execution_count": null,
   "id": "9f21dd36-946f-4d00-a56e-bee5f2006734",
   "metadata": {},
   "outputs": [],
   "source": []
  }
 ],
 "metadata": {
  "kernelspec": {
   "display_name": "Python 3 (ipykernel)",
   "language": "python",
   "name": "python3"
  },
  "language_info": {
   "codemirror_mode": {
    "name": "ipython",
    "version": 3
   },
   "file_extension": ".py",
   "mimetype": "text/x-python",
   "name": "python",
   "nbconvert_exporter": "python",
   "pygments_lexer": "ipython3",
   "version": "3.11.10"
  }
 },
 "nbformat": 4,
 "nbformat_minor": 5
}
