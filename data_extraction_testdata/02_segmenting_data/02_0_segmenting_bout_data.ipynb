{
 "cells": [
  {
   "cell_type": "code",
   "execution_count": 1,
   "id": "95578b4e",
   "metadata": {},
   "outputs": [],
   "source": [
    "%load_ext autoreload\n",
    "%autoreload 2\n",
    "import warnings\n",
    "warnings.filterwarnings('ignore')"
   ]
  },
  {
   "cell_type": "markdown",
   "id": "5c9f584a",
   "metadata": {},
   "source": [
    "    Note: run in megabouts_dlc"
   ]
  },
  {
   "cell_type": "code",
   "execution_count": 27,
   "id": "dc5485ca",
   "metadata": {},
   "outputs": [],
   "source": [
    "import os\n",
    "import json\n",
    "\n",
    "# Data Wrangling\n",
    "import h5py\n",
    "import numpy as np\n",
    "import pandas as pd\n",
    "from pathlib import Path\n",
    "import glob\n",
    "import tables\n",
    "import flammkuchen as fl\n",
    "\n",
    "# Computation\n",
    "from scipy.interpolate import interp1d\n",
    "\n",
    "#custom functions\n",
    "from datetime import datetime\n",
    "import math\n",
    "import seaborn as sns\n",
    "import matplotlib.pyplot as plt\n",
    "import itertools\n",
    "from scipy.signal.signaltools import correlate\n",
    "\n",
    "from tqdm import tqdm"
   ]
  },
  {
   "cell_type": "code",
   "execution_count": 28,
   "id": "e402f6be",
   "metadata": {},
   "outputs": [],
   "source": [
    "def nanzscore(array, axis=0):\n",
    "    return (array - np.nanmean(array, axis=axis))/np.nanstd(array, axis=axis)\n",
    "\n",
    "def reduce_to_pi(ar):\n",
    "    \"\"\"Reduce angles to the -pi to pi range\"\"\"\n",
    "    return np.mod(ar + np.pi, np.pi * 2) - np.pi\n",
    "\n",
    "def compute_tailsum(tail_angle):\n",
    "    pre_tailsum= np.zeros((tail_angle.shape[0], tail_angle.shape[1]))\n",
    "    for segment in range(tail_angle.shape[1]):\n",
    "        pre_tailsum[:,segment]= (tail_angle[:, segment] - tail_angle[:,0])\n",
    "\n",
    "    tailsum= np.sum(pre_tailsum, axis=1)/pre_tailsum.shape[1]\n",
    "    tailsum = reduce_to_pi(tailsum)\n",
    "    return tailsum\n",
    "\n",
    "def moving_average(x, w):\n",
    "    return np.hstack(([0,0], np.convolve(x, np.ones(w), 'valid') / w))"
   ]
  },
  {
   "cell_type": "code",
   "execution_count": 29,
   "id": "3202fb30-95dd-4b5c-ba3d-74cf7a08bee5",
   "metadata": {},
   "outputs": [],
   "source": [
    "def get_motor_pos(df_dlc):\n",
    "    motor_x = df_dlc.motor.x.values.astype('float')\n",
    "    motor_y = df_dlc.motor.y.values.astype('float')\n",
    "    motor_z = df_dlc.motor.z.values.astype('float')\n",
    "    return motor_x, motor_y, motor_z\n",
    "\n",
    "\n",
    "def get_eye_data(data):\n",
    "    left_eye_angle = data['eye_angles'][0]\n",
    "    right_eye_angle = data['eye_angles'][1]\n",
    "    eye_rot = data['rotation']\n",
    "    eye_vergence = data['vergence']\n",
    "    return left_eye_angle, right_eye_angle, eye_rot, eye_vergence\n",
    "\n",
    "def create_buffer_lists():\n",
    "    cluster_n_vector =[]\n",
    "    body_angles_delta= []\n",
    "    eye_angles_vector= []\n",
    "    fin_angles_vector= []\n",
    "    tail_vectors =[]\n",
    "    tailsums = []\n",
    "    body_angles =[]\n",
    "    eye_vergence_vect =[]\n",
    "    eye_rot_vect =[]\n",
    "    \n",
    "    bout_times = []\n",
    "    motor_values = []\n",
    "    mb_outlier =[]\n",
    "    mb_proba = []\n",
    "    dlc_filter =[]\n",
    "    edge_filter =[]\n",
    "    \n",
    "    return cluster_n_vector,body_angles_delta,eye_angles_vector,fin_angles_vector,tail_vectors,tailsums ,body_angles,eye_vergence_vect,eye_rot_vect,bout_times ,motor_values ,mb_outlier,mb_proba ,dlc_filter,edge_filter\n"
   ]
  },
  {
   "cell_type": "markdown",
   "id": "ded34776",
   "metadata": {},
   "source": [
    "# Set up paths"
   ]
  },
  {
   "cell_type": "code",
   "execution_count": 30,
   "id": "30b748a7",
   "metadata": {},
   "outputs": [],
   "source": [
    "# master_path = Path(r'\\\\portulab.synology.me\\data\\Kata\\testdata\\Raw_Data')\n",
    "\n",
    "# fish_paths = list(master_path.glob('*f[0-9]*'))\n",
    "# fish_paths, len(fish_paths)"
   ]
  },
  {
   "cell_type": "code",
   "execution_count": 71,
   "id": "cabe060e-5b57-4308-a5bc-d59c7975aa45",
   "metadata": {},
   "outputs": [],
   "source": [
    "## Analysed for paper\n",
    "\n",
    "# master_path = Path(r\"\\\\portulab.synology.me\\data\\Kata\\Data\\230307_visstim_2D\") #rectangular arena # start from fish 1\n",
    "# master_path = Path(r\"\\\\portulab.synology.me\\data\\Kata\\Data\\22042024_visstim_2D_round\")\n",
    "# master_path = Path(r\"\\\\portulab.synology.me\\data\\Kata\\Data\\22042024_visstim_2D_2\") #rectangular arena\n",
    "# master_path = Path(r\"\\\\portulab.synology.me\\data\\Kata\\Data\\13052024_visstim_2D_round\")\n",
    "master_path = Path(r\"\\\\portulab.synology.me\\data\\Kata\\Data\\14052024_visstim_2D_round\")"
   ]
  },
  {
   "cell_type": "code",
   "execution_count": 72,
   "id": "b7871baf-1d2a-419c-8748-924299e28b8b",
   "metadata": {},
   "outputs": [
    {
     "data": {
      "text/plain": [
       "([WindowsPath('//portulab.synology.me/data/Kata/Data/14052024_visstim_2D_round/240514_f0'),\n",
       "  WindowsPath('//portulab.synology.me/data/Kata/Data/14052024_visstim_2D_round/240514_f1'),\n",
       "  WindowsPath('//portulab.synology.me/data/Kata/Data/14052024_visstim_2D_round/240514_f2'),\n",
       "  WindowsPath('//portulab.synology.me/data/Kata/Data/14052024_visstim_2D_round/240514_f3'),\n",
       "  WindowsPath('//portulab.synology.me/data/Kata/Data/14052024_visstim_2D_round/240514_f4'),\n",
       "  WindowsPath('//portulab.synology.me/data/Kata/Data/14052024_visstim_2D_round/240514_f5'),\n",
       "  WindowsPath('//portulab.synology.me/data/Kata/Data/14052024_visstim_2D_round/240514_f6'),\n",
       "  WindowsPath('//portulab.synology.me/data/Kata/Data/14052024_visstim_2D_round/240514_f7'),\n",
       "  WindowsPath('//portulab.synology.me/data/Kata/Data/14052024_visstim_2D_round/240514_f8'),\n",
       "  WindowsPath('//portulab.synology.me/data/Kata/Data/14052024_visstim_2D_round/240514_f9')],\n",
       " 10)"
      ]
     },
     "execution_count": 72,
     "metadata": {},
     "output_type": "execute_result"
    }
   ],
   "source": [
    "fish_paths = list(master_path.glob('*f[0-9]*'))\n",
    "fish_paths, len(fish_paths)"
   ]
  },
  {
   "cell_type": "code",
   "execution_count": 73,
   "id": "2ea4302a-c43d-4e97-bbb9-095a696d12b6",
   "metadata": {},
   "outputs": [],
   "source": [
    "# out_path = Path(r'\\\\portulab.synology.me\\data\\Kata\\testdata\\Processed_Data')"
   ]
  },
  {
   "cell_type": "code",
   "execution_count": 74,
   "id": "afc9b2a1-dc83-4b15-8173-dec8e874e397",
   "metadata": {},
   "outputs": [],
   "source": [
    "## Analysed for paper\n",
    "\n",
    "# out_path = Path(r\"\\\\portulab.synology.me\\data\\Kata\\Processed_Data\\230307_visstim_2D_\")\n",
    "# out_path = Path(r\"\\\\portulab.synology.me\\data\\Kata\\Processed_Data\\22042024_visstim_2D_round_\")\n",
    "# out_path = Path(r\"\\\\portulab.synology.me\\data\\Kata\\Processed_Data\\22042024_visstim_2D_2_\")\n",
    "# out_path = Path(r\"\\\\portulab.synology.me\\data\\Kata\\Processed_Data\\13052024_visstim_2D_round_\")\n",
    "out_path = Path(r\"\\\\portulab.synology.me\\data\\Kata\\Processed_Data\\14052024_visstim_2D_round_\")"
   ]
  },
  {
   "cell_type": "code",
   "execution_count": 75,
   "id": "f97a0a2f",
   "metadata": {},
   "outputs": [
    {
     "data": {
      "text/plain": [
       "('14052024_visstim_2D_round', '240514_f0')"
      ]
     },
     "execution_count": 75,
     "metadata": {},
     "output_type": "execute_result"
    }
   ],
   "source": [
    "fish= 0\n",
    "fish_id =  fish_paths[fish].name#[:-13]\n",
    "exp_name = Path(fish_paths[fish]).parts[-2]\n",
    "# exp_name = 'testfish'\n",
    "exp_name, fish_id"
   ]
  },
  {
   "cell_type": "code",
   "execution_count": 76,
   "id": "3cfe85a0",
   "metadata": {},
   "outputs": [
    {
     "name": "stdout",
     "output_type": "stream",
     "text": [
      "10 videos found\n"
     ]
    }
   ],
   "source": [
    "print (\"{} videos found\".format(len(fish_paths)))"
   ]
  },
  {
   "cell_type": "code",
   "execution_count": 77,
   "id": "8149d731-12e8-4ab3-b1fc-2ce92468ed88",
   "metadata": {},
   "outputs": [],
   "source": [
    "## define time window for bout cropping\n",
    "bout_duration = 50\n",
    "pre_bout = 5"
   ]
  },
  {
   "cell_type": "markdown",
   "id": "dbd38540-940b-436c-94ef-f9093171b6c7",
   "metadata": {},
   "source": [
    "## Loop"
   ]
  },
  {
   "cell_type": "code",
   "execution_count": 78,
   "id": "9813f7b6-c112-4f38-b89a-6e622f0965fd",
   "metadata": {},
   "outputs": [
    {
     "name": "stderr",
     "output_type": "stream",
     "text": [
      "  0%|                                                                                           | 0/10 [00:00<?, ?it/s]"
     ]
    },
    {
     "name": "stdout",
     "output_type": "stream",
     "text": [
      "Working on fish 240514_f0\n",
      "working with 508 detected bouts\n"
     ]
    },
    {
     "name": "stderr",
     "output_type": "stream",
     "text": [
      " 10%|████████▎                                                                          | 1/10 [00:02<00:24,  2.69s/it]"
     ]
    },
    {
     "name": "stdout",
     "output_type": "stream",
     "text": [
      "Working on fish 240514_f1\n",
      "working with 426 detected bouts\n"
     ]
    },
    {
     "name": "stderr",
     "output_type": "stream",
     "text": [
      " 20%|████████████████▌                                                                  | 2/10 [00:05<00:21,  2.72s/it]"
     ]
    },
    {
     "name": "stdout",
     "output_type": "stream",
     "text": [
      "Working on fish 240514_f2\n"
     ]
    },
    {
     "name": "stderr",
     "output_type": "stream",
     "text": [
      " 30%|████████████████████████▉                                                          | 3/10 [00:07<00:17,  2.43s/it]"
     ]
    },
    {
     "name": "stdout",
     "output_type": "stream",
     "text": [
      "working with 122 detected bouts\n",
      "Working on fish 240514_f3\n",
      "working with 595 detected bouts\n"
     ]
    },
    {
     "name": "stderr",
     "output_type": "stream",
     "text": [
      " 40%|█████████████████████████████████▏                                                 | 4/10 [00:10<00:15,  2.66s/it]"
     ]
    },
    {
     "name": "stdout",
     "output_type": "stream",
     "text": [
      "Working on fish 240514_f4\n",
      "working with 300 detected bouts\n"
     ]
    },
    {
     "name": "stderr",
     "output_type": "stream",
     "text": [
      " 50%|█████████████████████████████████████████▌                                         | 5/10 [00:13<00:12,  2.60s/it]"
     ]
    },
    {
     "name": "stdout",
     "output_type": "stream",
     "text": [
      "Working on fish 240514_f5\n",
      "working with 323 detected bouts\n"
     ]
    },
    {
     "name": "stderr",
     "output_type": "stream",
     "text": [
      " 60%|█████████████████████████████████████████████████▊                                 | 6/10 [00:15<00:10,  2.64s/it]"
     ]
    },
    {
     "name": "stdout",
     "output_type": "stream",
     "text": [
      "Working on fish 240514_f6\n",
      "working with 314 detected bouts\n"
     ]
    },
    {
     "name": "stderr",
     "output_type": "stream",
     "text": [
      " 70%|██████████████████████████████████████████████████████████                         | 7/10 [00:18<00:07,  2.58s/it]"
     ]
    },
    {
     "name": "stdout",
     "output_type": "stream",
     "text": [
      "Working on fish 240514_f7\n",
      "working with 330 detected bouts\n"
     ]
    },
    {
     "name": "stderr",
     "output_type": "stream",
     "text": [
      " 80%|██████████████████████████████████████████████████████████████████▍                | 8/10 [00:20<00:05,  2.53s/it]"
     ]
    },
    {
     "name": "stdout",
     "output_type": "stream",
     "text": [
      "Working on fish 240514_f8\n",
      "working with 618 detected bouts\n"
     ]
    },
    {
     "name": "stderr",
     "output_type": "stream",
     "text": [
      " 90%|██████████████████████████████████████████████████████████████████████████▋        | 9/10 [00:23<00:02,  2.58s/it]"
     ]
    },
    {
     "name": "stdout",
     "output_type": "stream",
     "text": [
      "Working on fish 240514_f9\n",
      "working with 632 detected bouts\n"
     ]
    },
    {
     "name": "stderr",
     "output_type": "stream",
     "text": [
      "100%|██████████████████████████████████████████████████████████████████████████████████| 10/10 [00:25<00:00,  2.60s/it]\n"
     ]
    }
   ],
   "source": [
    "\n",
    "for ind, fish_path in enumerate(tqdm(fish_paths)):\n",
    "    fish_id =  fish_path.name\n",
    "    print ('Working on fish {}'.format(fish_id))\n",
    "\n",
    "    dlc_path_ = Path(out_path/ '{}_DLC_mod.csv'.format(fish_id)) \n",
    "    df_dlc = pd.read_csv(dlc_path_, header=[0,1])\n",
    "    motor_x, motor_y, motor_z = get_motor_pos(df_dlc)\n",
    "    dlc_filter_ = df_dlc.DLC_filter.pos.values\n",
    "    edge_filter_ = df_dlc.edge_filter.ok.values\n",
    "\n",
    "    data = fl.load(Path(out_path/ '{}_megabouts_res.h5'.format(fish_id)))\n",
    "    print('working with {} detected bouts'.format(len(data['segments_on'])))\n",
    "\n",
    "    left_eye_angle, right_eye_angle, eye_rot, eye_vergence = get_eye_data(data)\n",
    "\n",
    "    #unpack data \n",
    "    left_fin_angle = data['fin_angles'][0]\n",
    "    right_fin_angle = data['fin_angles'][1]\n",
    "    cluster_n_vector,body_angles_delta,eye_angles_vector,fin_angles_vector,tail_vectors,tailsums ,body_angles,eye_vergence_vect,eye_rot_vect,bout_times ,motor_values ,mb_outlier,mb_proba ,dlc_filter,edge_filter = create_buffer_lists()\n",
    "    lats_ =[]\n",
    "    \n",
    "    for i, on_ in enumerate(data['segments_on']):\n",
    "            if on_+bout_duration<data['body_angle'].shape[0]:\n",
    "                on_ = on_ - pre_bout\n",
    "                body_angle_delta = np.array(data['body_angle'][on_+bout_duration]-data['body_angle'][on_])*180/np.pi\n",
    "                body_angles_delta.append(body_angle_delta)\n",
    "                body_angles.append(data['body_angle'][on_: on_ + bout_duration] - data['body_angle'][on_])\n",
    "                \n",
    "                left_eye = left_eye_angle[on_ :on_+bout_duration]  -left_eye_angle[on_] \n",
    "                right_eye = right_eye_angle[on_ :on_+bout_duration] - right_eye_angle[on_]\n",
    "                eye_angles_vector.append([left_eye, right_eye])\n",
    "                \n",
    "                left_fin = left_fin_angle[on_ :on_+bout_duration] -left_fin_angle[on_] \n",
    "                right_fin = right_fin_angle[on_ :on_+bout_duration]- right_fin_angle[on_]\n",
    "                fin_angles_vector.append([left_fin, right_fin])\n",
    "                eye_vergence_vect.append(eye_vergence[on_: on_ + bout_duration])\n",
    "                eye_rot_vect.append(eye_rot[on_: on_ + bout_duration])\n",
    "        \n",
    "                cluster_n_vector.append(data['cluster_n_vector'][on_+pre_bout])\n",
    "                tail_vectors.append(data['clean_data_tail'][:,:10][on_: on_ + bout_duration])\n",
    "                tailsums.append(compute_tailsum(data['clean_data_tail'][:,:10][on_: on_ + bout_duration]))\n",
    "    \n",
    "                motor_values.append([motor_x[on_ :on_+bout_duration], motor_y[on_ :on_+bout_duration], motor_z[on_ :on_+bout_duration]])\n",
    "    \n",
    "                mb_proba.append(data['proba'][i])\n",
    "                dlc_filter.append(dlc_filter_[on_+pre_bout])\n",
    "                edge_filter.append(edge_filter_[on_+pre_bout])\n",
    "                lats_.append(data['laterality'][i])\n",
    "                bout_times.append([data['segments_on'][i], data['segments_off'][i]])\n",
    "\n",
    "    \n",
    "    data_to_save = dict({\n",
    "        'tailsums': np.asarray(tailsums),\n",
    "        'tail_vectors' : np.asarray(tail_vectors),\n",
    "        'body_angles_delta': np.asarray(body_angles_delta),\n",
    "        'body_angles' : np.asarray(body_angles),\n",
    "    \n",
    "        'eye_angles' : np.asarray(eye_angles_vector),\n",
    "        'fin_angles' : np.asarray(fin_angles_vector),\n",
    "        'eye_rotation': np.asarray(eye_rot_vect),\n",
    "        'eye_vergence': np.asarray(eye_vergence_vect),\n",
    "    \n",
    "        'cluster': np.asarray(cluster_n_vector),\n",
    "    \n",
    "        'motor' : np.asarray(motor_values),\n",
    "        'mb_proba' : np.asarray(mb_proba),\n",
    "        'dlc_filter' : np.asarray(dlc_filter),\n",
    "        'edge_filter' : np.asarray(edge_filter),\n",
    "        'bout_times' : np.asarray(bout_times),\n",
    "        'laterality' : np.asarray(lats_),\n",
    "    \n",
    "    })\n",
    "    \n",
    "    fl.save(out_path/'{}_bout_data.h5'.format(fish_id), data_to_save)\n",
    "\n",
    "\n",
    "\n"
   ]
  },
  {
   "cell_type": "markdown",
   "id": "16c926d0-b075-4f3d-a029-1eec320a210e",
   "metadata": {},
   "source": [
    "### check extracted data"
   ]
  },
  {
   "cell_type": "code",
   "execution_count": 79,
   "id": "86a53777-6634-4463-be1e-58846cc8e043",
   "metadata": {},
   "outputs": [
    {
     "data": {
      "text/plain": [
       "[<matplotlib.lines.Line2D at 0x19237e4de90>]"
      ]
     },
     "execution_count": 79,
     "metadata": {},
     "output_type": "execute_result"
    },
    {
     "data": {
      "image/png": "[encoded data removed]",
      "text/plain": [
       "<Figure size 640x480 with 1 Axes>"
      ]
     },
     "metadata": {},
     "output_type": "display_data"
    }
   ],
   "source": [
    "# Generate a random integer from 0 to num_elements - 1\n",
    "bout = np.random.randint(0, np.asarray(tailsums).shape[0])\n",
    "plt.figure()\n",
    "plt.plot(np.asarray(tail_vectors)[bout, :, :10], c='gray', alpha=0.4)\n",
    "plt.plot(np.asarray(tailsums)[bout], c='r')\n",
    "plt.plot(np.asarray(fin_angles_vector)[bout, 0,:], c='blue')\n",
    "plt.plot(np.asarray(fin_angles_vector)[bout, 1,:], c='pink')"
   ]
  },
  {
   "cell_type": "code",
   "execution_count": null,
   "id": "2bb777d2-16f7-4f1c-95e4-a33aad27c0e3",
   "metadata": {},
   "outputs": [],
   "source": []
  },
  {
   "cell_type": "code",
   "execution_count": null,
   "id": "60bfd910-81f6-4405-8ad6-d32dadaee476",
   "metadata": {},
   "outputs": [],
   "source": []
  }
 ],
 "metadata": {
  "kernelspec": {
   "display_name": "Python 3 (ipykernel)",
   "language": "python",
   "name": "python3"
  },
  "language_info": {
   "codemirror_mode": {
    "name": "ipython",
    "version": 3
   },
   "file_extension": ".py",
   "mimetype": "text/x-python",
   "name": "python",
   "nbconvert_exporter": "python",
   "pygments_lexer": "ipython3",
   "version": "3.11.10"
  }
 },
 "nbformat": 4,
 "nbformat_minor": 5
}
