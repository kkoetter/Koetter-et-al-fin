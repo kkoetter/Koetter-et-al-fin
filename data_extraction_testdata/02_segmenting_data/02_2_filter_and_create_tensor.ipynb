{
 "cells": [
  {
   "cell_type": "code",
   "execution_count": 31,
   "id": "95578b4e",
   "metadata": {},
   "outputs": [
    {
     "name": "stdout",
     "output_type": "stream",
     "text": [
      "The autoreload extension is already loaded. To reload it, use:\n",
      "  %reload_ext autoreload\n"
     ]
    }
   ],
   "source": [
    "%load_ext autoreload\n",
    "%autoreload 2\n",
    "import warnings\n",
    "warnings.filterwarnings('ignore')"
   ]
  },
  {
   "cell_type": "markdown",
   "id": "5c9f584a",
   "metadata": {},
   "source": [
    "    Note: run in megabouts_dlc"
   ]
  },
  {
   "cell_type": "code",
   "execution_count": 32,
   "id": "dc5485ca",
   "metadata": {},
   "outputs": [],
   "source": [
    "import os\n",
    "import json\n",
    "\n",
    "# Data Wrangling\n",
    "import h5py\n",
    "import numpy as np\n",
    "import pandas as pd\n",
    "from pathlib import Path\n",
    "import glob\n",
    "import tables\n",
    "import flammkuchen as fl\n",
    "\n",
    "# Computation\n",
    "from scipy.interpolate import interp1d\n",
    "\n",
    "#custom functions\n",
    "from datetime import datetime\n",
    "import math\n",
    "import seaborn as sns\n",
    "import matplotlib.pyplot as plt\n",
    "import itertools\n",
    "from scipy.signal.signaltools import correlate\n",
    "\n",
    "from tqdm import tqdm"
   ]
  },
  {
   "cell_type": "code",
   "execution_count": 33,
   "id": "e402f6be",
   "metadata": {},
   "outputs": [],
   "source": [
    "def nanzscore(array, axis=0):\n",
    "    return (array - np.nanmean(array, axis=axis))/np.nanstd(array, axis=axis)\n",
    "\n",
    "def reduce_to_pi(ar):\n",
    "    \"\"\"Reduce angles to the -pi to pi range\"\"\"\n",
    "    return np.mod(ar + np.pi, np.pi * 2) - np.pi\n",
    "\n",
    "def compute_tailsum(tail_angle):\n",
    "    pre_tailsum= np.zeros((tail_angle.shape[0], tail_angle.shape[1]))\n",
    "    for segment in range(tail_angle.shape[1]):\n",
    "        pre_tailsum[:,segment]= (tail_angle[:, segment] - tail_angle[:,0])\n",
    "\n",
    "    tailsum= np.sum(pre_tailsum, axis=1)/pre_tailsum.shape[1]\n",
    "    tailsum = reduce_to_pi(tailsum)\n",
    "    return tailsum\n",
    "\n",
    "def moving_average(x, w):\n",
    "    return np.hstack(([0,0], np.convolve(x, np.ones(w), 'valid') / w))"
   ]
  },
  {
   "cell_type": "code",
   "execution_count": 34,
   "id": "86fcaf84-b5f3-441f-bc2b-ba40fe170bd9",
   "metadata": {},
   "outputs": [],
   "source": [
    "from megabouts.utils import (\n",
    "    bouts_category_name,\n",
    "    bouts_category_name_short,\n",
    "    bouts_category_color,\n",
    "    cmp_bouts,\n",
    ")"
   ]
  },
  {
   "cell_type": "code",
   "execution_count": 35,
   "id": "d4e74731-cb4d-430a-bb92-9b55255e4635",
   "metadata": {},
   "outputs": [
    {
     "data": {
      "text/plain": [
       "['approach_swim',\n",
       " 'slow1',\n",
       " 'slow2',\n",
       " 'short_capture_swim',\n",
       " 'long_capture_swim',\n",
       " 'burst_swim',\n",
       " 'J_turn',\n",
       " 'high_angle_turn',\n",
       " 'routine_turn',\n",
       " 'spot_avoidance_turn',\n",
       " 'O_bend',\n",
       " 'long_latency_C_start',\n",
       " 'short_latency_C_start']"
      ]
     },
     "execution_count": 35,
     "metadata": {},
     "output_type": "execute_result"
    }
   ],
   "source": [
    "bouts_category_name"
   ]
  },
  {
   "cell_type": "code",
   "execution_count": 46,
   "id": "b81e9ed9-9c60-46ea-b4fa-6bb47bac0ba3",
   "metadata": {},
   "outputs": [],
   "source": [
    "from scipy.signal import savgol_filter\n",
    "def smooth_trace(trace, wnd=5, poly=2):\n",
    "    return savgol_filter(trace, wnd, poly)  # window size 5, polynomial order 2"
   ]
  },
  {
   "cell_type": "markdown",
   "id": "ded34776",
   "metadata": {},
   "source": [
    "# Set up paths"
   ]
  },
  {
   "cell_type": "code",
   "execution_count": 47,
   "id": "30b748a7",
   "metadata": {},
   "outputs": [],
   "source": [
    "# master_path = Path(r'\\\\portulab.synology.me\\data\\Kata\\testdata\\Raw_Data')\n",
    "\n",
    "# fish_paths = list(master_path.glob('*f[0-9]*'))\n",
    "# fish_paths, len(fish_paths)"
   ]
  },
  {
   "cell_type": "code",
   "execution_count": 77,
   "id": "cabe060e-5b57-4308-a5bc-d59c7975aa45",
   "metadata": {},
   "outputs": [],
   "source": [
    "## Analysed for paper\n",
    "\n",
    "# master_path = Path(r\"\\\\portulab.synology.me\\data\\Kata\\Data\\230307_visstim_2D\") #rectangular arena # start from fish 1\n",
    "# master_path = Path(r\"\\\\portulab.synology.me\\data\\Kata\\Data\\22042024_visstim_2D_round\")\n",
    "# master_path = Path(r\"\\\\portulab.synology.me\\data\\Kata\\Data\\22042024_visstim_2D_2\") #rectangular arena\n",
    "# master_path = Path(r\"\\\\portulab.synology.me\\data\\Kata\\Data\\13052024_visstim_2D_round\")\n",
    "master_path = Path(r\"\\\\portulab.synology.me\\data\\Kata\\Data\\14052024_visstim_2D_round\")"
   ]
  },
  {
   "cell_type": "code",
   "execution_count": 78,
   "id": "b7871baf-1d2a-419c-8748-924299e28b8b",
   "metadata": {},
   "outputs": [
    {
     "data": {
      "text/plain": [
       "([WindowsPath('//portulab.synology.me/data/Kata/Data/14052024_visstim_2D_round/240514_f0'),\n",
       "  WindowsPath('//portulab.synology.me/data/Kata/Data/14052024_visstim_2D_round/240514_f1'),\n",
       "  WindowsPath('//portulab.synology.me/data/Kata/Data/14052024_visstim_2D_round/240514_f2'),\n",
       "  WindowsPath('//portulab.synology.me/data/Kata/Data/14052024_visstim_2D_round/240514_f3'),\n",
       "  WindowsPath('//portulab.synology.me/data/Kata/Data/14052024_visstim_2D_round/240514_f4'),\n",
       "  WindowsPath('//portulab.synology.me/data/Kata/Data/14052024_visstim_2D_round/240514_f5'),\n",
       "  WindowsPath('//portulab.synology.me/data/Kata/Data/14052024_visstim_2D_round/240514_f6'),\n",
       "  WindowsPath('//portulab.synology.me/data/Kata/Data/14052024_visstim_2D_round/240514_f7'),\n",
       "  WindowsPath('//portulab.synology.me/data/Kata/Data/14052024_visstim_2D_round/240514_f8'),\n",
       "  WindowsPath('//portulab.synology.me/data/Kata/Data/14052024_visstim_2D_round/240514_f9')],\n",
       " 10)"
      ]
     },
     "execution_count": 78,
     "metadata": {},
     "output_type": "execute_result"
    }
   ],
   "source": [
    "fish_paths = list(master_path.glob('*f[0-9]*'))\n",
    "fish_paths, len(fish_paths)"
   ]
  },
  {
   "cell_type": "code",
   "execution_count": 79,
   "id": "2ea4302a-c43d-4e97-bbb9-095a696d12b6",
   "metadata": {},
   "outputs": [],
   "source": [
    "# out_path = Path(r'\\\\portulab.synology.me\\data\\Kata\\testdata\\Processed_Data')"
   ]
  },
  {
   "cell_type": "code",
   "execution_count": 80,
   "id": "afc9b2a1-dc83-4b15-8173-dec8e874e397",
   "metadata": {},
   "outputs": [],
   "source": [
    "## Analysed for paper\n",
    "\n",
    "# out_path = Path(r\"\\\\portulab.synology.me\\data\\Kata\\Processed_Data\\230307_visstim_2D_\")\n",
    "# out_path = Path(r\"\\\\portulab.synology.me\\data\\Kata\\Processed_Data\\22042024_visstim_2D_round_\")\n",
    "# out_path = Path(r\"\\\\portulab.synology.me\\data\\Kata\\Processed_Data\\22042024_visstim_2D_2_\")\n",
    "# out_path = Path(r\"\\\\portulab.synology.me\\data\\Kata\\Processed_Data\\13052024_visstim_2D_round_\")\n",
    "out_path = Path(r\"\\\\portulab.synology.me\\data\\Kata\\Processed_Data\\14052024_visstim_2D_round_\")"
   ]
  },
  {
   "cell_type": "code",
   "execution_count": 81,
   "id": "f97a0a2f",
   "metadata": {},
   "outputs": [
    {
     "data": {
      "text/plain": [
       "('14052024_visstim_2D_round', '240514_f0')"
      ]
     },
     "execution_count": 81,
     "metadata": {},
     "output_type": "execute_result"
    }
   ],
   "source": [
    "fish= 0\n",
    "fish_id =  fish_paths[fish].name#[:-13]\n",
    "exp_name = Path(fish_paths[fish]).parts[-2]\n",
    "# exp_name = 'testfish'\n",
    "exp_name, fish_id"
   ]
  },
  {
   "cell_type": "code",
   "execution_count": 82,
   "id": "3cfe85a0",
   "metadata": {},
   "outputs": [
    {
     "name": "stdout",
     "output_type": "stream",
     "text": [
      "10 videos found\n"
     ]
    }
   ],
   "source": [
    "print (\"{} videos found\".format(len(fish_paths)))"
   ]
  },
  {
   "cell_type": "code",
   "execution_count": 83,
   "id": "8149d731-12e8-4ab3-b1fc-2ce92468ed88",
   "metadata": {},
   "outputs": [],
   "source": [
    "mb_thresh =0.6\n",
    "plot =False\n",
    "smooth_data = True\n",
    "n_clust = 13"
   ]
  },
  {
   "cell_type": "markdown",
   "id": "dbd38540-940b-436c-94ef-f9093171b6c7",
   "metadata": {},
   "source": [
    "## Load and mask data"
   ]
  },
  {
   "cell_type": "code",
   "execution_count": 84,
   "id": "9813f7b6-c112-4f38-b89a-6e622f0965fd",
   "metadata": {},
   "outputs": [
    {
     "name": "stderr",
     "output_type": "stream",
     "text": [
      "  0%|                                                                                           | 0/10 [00:00<?, ?it/s]"
     ]
    },
    {
     "name": "stdout",
     "output_type": "stream",
     "text": [
      "Working on fish 240514_f0\n",
      "(507,)\n",
      "(507, 50, 10) (507,)\n",
      "(192, 50, 10) [-1.  1.]\n",
      "(192, 3, 50)\n"
     ]
    },
    {
     "name": "stderr",
     "output_type": "stream",
     "text": [
      " 10%|████████▎                                                                          | 1/10 [00:00<00:04,  1.95it/s]"
     ]
    },
    {
     "name": "stdout",
     "output_type": "stream",
     "text": [
      "(192,)\n",
      "Working on fish 240514_f1\n",
      "(426,)\n",
      "(426, 50, 10) (426,)\n",
      "(41, 50, 10) [-1.  1.]\n",
      "(41, 3, 50)\n"
     ]
    },
    {
     "name": "stderr",
     "output_type": "stream",
     "text": [
      " 20%|████████████████▌                                                                  | 2/10 [00:00<00:03,  2.40it/s]"
     ]
    },
    {
     "name": "stdout",
     "output_type": "stream",
     "text": [
      "(41,)\n",
      "Working on fish 240514_f2\n",
      "(122,)\n",
      "(122, 50, 10) (122,)\n",
      "(40, 50, 10) [-1.  1.]\n",
      "(40, 3, 50)\n"
     ]
    },
    {
     "name": "stderr",
     "output_type": "stream",
     "text": [
      " 30%|████████████████████████▉                                                          | 3/10 [00:01<00:02,  2.75it/s]"
     ]
    },
    {
     "name": "stdout",
     "output_type": "stream",
     "text": [
      "(40,)\n",
      "Working on fish 240514_f3\n",
      "(595,)\n",
      "(595, 50, 10) (595,)\n",
      "(147, 50, 10) [-1.  1.]\n",
      "(147, 3, 50)\n"
     ]
    },
    {
     "name": "stderr",
     "output_type": "stream",
     "text": [
      " 40%|█████████████████████████████████▏                                                 | 4/10 [00:01<00:02,  2.47it/s]"
     ]
    },
    {
     "name": "stdout",
     "output_type": "stream",
     "text": [
      "(147,)\n",
      "Working on fish 240514_f4\n",
      "(299,)\n",
      "(299, 50, 10) (299,)\n",
      "(272, 50, 10) [-1.  1.]\n",
      "(272, 3, 50)\n"
     ]
    },
    {
     "name": "stderr",
     "output_type": "stream",
     "text": [
      " 50%|█████████████████████████████████████████▌                                         | 5/10 [00:02<00:02,  2.06it/s]"
     ]
    },
    {
     "name": "stdout",
     "output_type": "stream",
     "text": [
      "(272,)\n",
      "Working on fish 240514_f5\n",
      "(323,)\n",
      "(323, 50, 10) (323,)\n",
      "(175, 50, 10) [-1.  1.]\n",
      "(175, 3, 50)\n"
     ]
    },
    {
     "name": "stderr",
     "output_type": "stream",
     "text": [
      " 60%|█████████████████████████████████████████████████▊                                 | 6/10 [00:02<00:01,  2.06it/s]"
     ]
    },
    {
     "name": "stdout",
     "output_type": "stream",
     "text": [
      "(175,)\n",
      "Working on fish 240514_f6\n",
      "(314,)\n",
      "(314, 50, 10) (314,)\n",
      "(277, 50, 10) [-1.  1.]\n",
      "(277, 3, 50)\n"
     ]
    },
    {
     "name": "stderr",
     "output_type": "stream",
     "text": [
      " 70%|██████████████████████████████████████████████████████████                         | 7/10 [00:03<00:01,  1.89it/s]"
     ]
    },
    {
     "name": "stdout",
     "output_type": "stream",
     "text": [
      "(277,)\n",
      "Working on fish 240514_f7\n",
      "(330,)\n",
      "(330, 50, 10) (330,)\n",
      "(279, 50, 10) [-1.  1.]\n",
      "(279, 3, 50)\n"
     ]
    },
    {
     "name": "stderr",
     "output_type": "stream",
     "text": [
      " 80%|██████████████████████████████████████████████████████████████████▍                | 8/10 [00:03<00:01,  1.80it/s]"
     ]
    },
    {
     "name": "stdout",
     "output_type": "stream",
     "text": [
      "(279,)\n",
      "Working on fish 240514_f8\n",
      "(618,)\n",
      "(618, 50, 10) (618,)\n",
      "(577, 50, 10) [-1.  1.]\n",
      "(577, 3, 50)\n"
     ]
    },
    {
     "name": "stderr",
     "output_type": "stream",
     "text": [
      " 90%|██████████████████████████████████████████████████████████████████████████▋        | 9/10 [00:05<00:00,  1.42it/s]"
     ]
    },
    {
     "name": "stdout",
     "output_type": "stream",
     "text": [
      "(577,)\n",
      "Working on fish 240514_f9\n",
      "(632,)\n",
      "(632, 50, 10) (632,)\n",
      "(509, 50, 10) [-1.  1.]\n",
      "(509, 3, 50)\n"
     ]
    },
    {
     "name": "stderr",
     "output_type": "stream",
     "text": [
      "100%|██████████████████████████████████████████████████████████████████████████████████| 10/10 [00:05<00:00,  1.67it/s]"
     ]
    },
    {
     "name": "stdout",
     "output_type": "stream",
     "text": [
      "(509,)\n"
     ]
    },
    {
     "name": "stderr",
     "output_type": "stream",
     "text": [
      "\n"
     ]
    }
   ],
   "source": [
    "for ind, fish_path in enumerate(tqdm(fish_paths)):\n",
    "    fish_id =  fish_path.name\n",
    "    print ('Working on fish {}'.format(fish_id))\n",
    "\n",
    "    data = fl.load(out_path/'{}_bout_data.h5'.format(fish_id))\n",
    "    dlc_filter = data['dlc_filter']\n",
    "    indices = np.arange(0, dlc_filter.shape[0],1)\n",
    "    print (indices.shape)\n",
    "\n",
    "    mask =  data['dlc_filter'] ==1\n",
    "    mask_2 = data['edge_filter'][mask] == True \n",
    "    mask_3 = data['mb_proba'][mask][mask_2] >=mb_thresh\n",
    "\n",
    "    indices = indices[mask][mask_2][mask_3]\n",
    "    clusters = data['cluster'][:,0][mask][mask_2][mask_3]\n",
    "    tail_vectors = data['tail_vectors'][mask][mask_2][mask_3]\n",
    "    tailsums = data['tailsums'] [mask][mask_2][mask_3]\n",
    "    l_fin = data['fin_angles'][:,0,:][mask][mask_2][mask_3]\n",
    "    r_fin = data['fin_angles'][:,1,:][mask][mask_2][mask_3]\n",
    "    tail_vectors = data['tail_vectors'] [mask][mask_2][mask_3]\n",
    "    print (data['tail_vectors'].shape, data['laterality'].shape)\n",
    "    laterality = data['laterality'][mask][mask_2][mask_3]\n",
    "    print (tail_vectors.shape, np.unique(laterality))\n",
    "\n",
    "    if smooth_data:\n",
    "        tailsums = np.apply_along_axis(smooth_trace, 1, tailsums)\n",
    "        l_fin = np.apply_along_axis(smooth_trace, 1, l_fin)\n",
    "        r_fin = np.apply_along_axis(smooth_trace, 1, r_fin)\n",
    "\n",
    "    if plot:\n",
    "        fig, axes = plt.subplots(1,n_clust, figsize=(20, 5), sharex=True, sharey=True)\n",
    "        axes= axes.ravel()\n",
    "        for clust in range(n_clust):\n",
    "            axes[clust].set_title(bouts_category_name[clust])\n",
    "            axes[clust].plot(tailsums[clusters==clust].T, c=bouts_category_color[clust], alpha=0.3)\n",
    "        plt.tight_layout()\n",
    "    \n",
    "    # Stack them along the new axis (axis=1) to form the shape (trials, 3, timepoints)\n",
    "    data_combined = np.stack((tailsums, l_fin, r_fin), axis=1)\n",
    "    print(data_combined.shape)\n",
    "    \n",
    "    ## save tensor \n",
    "    fl.save(out_path / '{}_indices.h5'.format(fish_id), indices)\n",
    "    fl.save(out_path / '{}_tensor.h5'.format(fish_id), data_combined)\n",
    "    fl.save(out_path / '{}_tail_tensor.h5'.format(fish_id), tail_vectors)\n",
    "    fl.save(out_path/ '{}_bout_laterality.h5'.format(fish_id), laterality)\n",
    "    print (indices.shape)\n"
   ]
  },
  {
   "cell_type": "code",
   "execution_count": 85,
   "id": "6f10493e-468f-4593-aa57-e9fbb5ae0df0",
   "metadata": {},
   "outputs": [
    {
     "data": {
      "text/plain": [
       "(50, 10)"
      ]
     },
     "execution_count": 85,
     "metadata": {},
     "output_type": "execute_result"
    }
   ],
   "source": [
    "tail_vectors[0].shape"
   ]
  },
  {
   "cell_type": "code",
   "execution_count": null,
   "id": "3ec5d45d-d1c5-4f9c-a84d-ef0513340550",
   "metadata": {},
   "outputs": [],
   "source": []
  },
  {
   "cell_type": "code",
   "execution_count": null,
   "id": "c19af464-d99f-4efe-b31c-a40386f1ef1b",
   "metadata": {},
   "outputs": [],
   "source": []
  },
  {
   "cell_type": "code",
   "execution_count": null,
   "id": "e7fa37ca-d32b-4179-8073-710e740e7c6c",
   "metadata": {},
   "outputs": [],
   "source": []
  },
  {
   "cell_type": "code",
   "execution_count": null,
   "id": "7f88d9d7-10c6-42cf-a565-50da78da993a",
   "metadata": {},
   "outputs": [],
   "source": []
  },
  {
   "cell_type": "code",
   "execution_count": null,
   "id": "9b65dd54-ca3b-4939-9a9a-9d55cf0fc8fb",
   "metadata": {},
   "outputs": [],
   "source": []
  },
  {
   "cell_type": "code",
   "execution_count": null,
   "id": "8f36cf07-400e-4667-8183-74f984d962c6",
   "metadata": {},
   "outputs": [],
   "source": []
  },
  {
   "cell_type": "code",
   "execution_count": null,
   "id": "631f3388-9a29-4433-8333-f4824dcdc13e",
   "metadata": {},
   "outputs": [],
   "source": []
  },
  {
   "cell_type": "code",
   "execution_count": null,
   "id": "debe1a90-8125-4daf-a521-12ec2ce1b0a7",
   "metadata": {},
   "outputs": [],
   "source": []
  },
  {
   "cell_type": "code",
   "execution_count": null,
   "id": "4371118a-7e8d-4316-8287-c869917a74f7",
   "metadata": {},
   "outputs": [],
   "source": []
  },
  {
   "cell_type": "code",
   "execution_count": null,
   "id": "be5dd037-48e4-4433-b63f-6fbc505f7e68",
   "metadata": {},
   "outputs": [],
   "source": []
  },
  {
   "cell_type": "code",
   "execution_count": null,
   "id": "9a2fa350-dae0-428a-885e-dc6c58c48061",
   "metadata": {},
   "outputs": [],
   "source": []
  },
  {
   "cell_type": "code",
   "execution_count": null,
   "id": "4d5ab81c-d07e-472b-b5b5-95499d2c5b3b",
   "metadata": {},
   "outputs": [],
   "source": []
  },
  {
   "cell_type": "code",
   "execution_count": null,
   "id": "44496b40-c93f-4623-80f7-eb33d74198dd",
   "metadata": {},
   "outputs": [],
   "source": []
  },
  {
   "cell_type": "code",
   "execution_count": null,
   "id": "26f708e8-ddf0-45c9-aa2f-964a19788623",
   "metadata": {},
   "outputs": [],
   "source": []
  },
  {
   "cell_type": "code",
   "execution_count": null,
   "id": "1d1d3f5e-e9e0-493a-b0ea-7e25043e654a",
   "metadata": {},
   "outputs": [],
   "source": []
  },
  {
   "cell_type": "code",
   "execution_count": null,
   "id": "4d05e259-bb25-41a4-a914-d432c2a8d798",
   "metadata": {},
   "outputs": [],
   "source": []
  },
  {
   "cell_type": "code",
   "execution_count": null,
   "id": "c168a6f1-938c-4f27-9cf0-77c12aa48282",
   "metadata": {},
   "outputs": [],
   "source": []
  },
  {
   "cell_type": "code",
   "execution_count": null,
   "id": "197658ac-1e39-44f4-a811-d6986706125b",
   "metadata": {},
   "outputs": [],
   "source": []
  }
 ],
 "metadata": {
  "kernelspec": {
   "display_name": "Python 3 (ipykernel)",
   "language": "python",
   "name": "python3"
  },
  "language_info": {
   "codemirror_mode": {
    "name": "ipython",
    "version": 3
   },
   "file_extension": ".py",
   "mimetype": "text/x-python",
   "name": "python",
   "nbconvert_exporter": "python",
   "pygments_lexer": "ipython3",
   "version": "3.11.10"
  }
 },
 "nbformat": 4,
 "nbformat_minor": 5
}
