{
 "cells": [
  {
   "cell_type": "code",
   "execution_count": 190,
   "id": "fb1d7f67",
   "metadata": {},
   "outputs": [
    {
     "name": "stdout",
     "output_type": "stream",
     "text": [
      "The autoreload extension is already loaded. To reload it, use:\n",
      "  %reload_ext autoreload\n"
     ]
    }
   ],
   "source": [
    "%load_ext autoreload\n",
    "%autoreload 2\n",
    "import warnings\n",
    "warnings.filterwarnings('ignore')"
   ]
  },
  {
   "cell_type": "code",
   "execution_count": 191,
   "id": "29d0fe61",
   "metadata": {},
   "outputs": [],
   "source": [
    "%reload_ext autoreload"
   ]
  },
  {
   "cell_type": "code",
   "execution_count": 192,
   "id": "e0a3ca0c",
   "metadata": {},
   "outputs": [],
   "source": [
    "import numpy as np\n",
    "import pandas as pd\n",
    "import matplotlib.pyplot as plt\n",
    "from pathlib import Path\n",
    "import glob\n",
    "\n",
    "import h5py\n",
    "import flammkuchen as fl\n",
    "import seaborn as sns\n",
    "from matplotlib.cm import ScalarMappable\n",
    "import scipy\n",
    "from scipy import stats\n",
    "from tqdm import tqdm"
   ]
  },
  {
   "cell_type": "code",
   "execution_count": 193,
   "id": "71bb6357",
   "metadata": {},
   "outputs": [],
   "source": [
    "sns.set_theme(style=\"white\", palette=\"pastel\")"
   ]
  },
  {
   "cell_type": "code",
   "execution_count": 194,
   "id": "2748de40-23e8-4f33-b329-894d8009ad94",
   "metadata": {},
   "outputs": [],
   "source": [
    "def compute_leading_fin(l_peaks_array, r_peaks_array):\n",
    "    \"\"\"\n",
    "    Compares the first column of two matrices row-wise and outputs an array\n",
    "    with annotations:\n",
    "    - 0 if the left value is smaller,\n",
    "    - 1 if the right value is smaller,\n",
    "    - 2 if both values are equal.\n",
    "    \n",
    "    Parameters:\n",
    "    - l_peaks_array: 2D numpy array, where we compare the first column.\n",
    "    - r_peaks_array: 2D numpy array, where we compare the first column.\n",
    "    \n",
    "    Returns:\n",
    "    - result: 1D numpy array with annotation results for each row.\n",
    "    \"\"\"\n",
    "    # Ensure the shapes of the arrays match and have at least one column\n",
    "    if l_peaks_array.shape[0] != r_peaks_array.shape[0] or l_peaks_array.shape[1] == 0 or r_peaks_array.shape[1] == 0:\n",
    "        raise ValueError(\"The arrays must have the same number of rows and at least one column.\")\n",
    "\n",
    "    num_rows = l_peaks_array.shape[0]\n",
    "    result = np.zeros(num_rows, dtype=int)\n",
    "\n",
    "    for i in range(num_rows):\n",
    "        left_value = l_peaks_array[i, 0]\n",
    "        right_value = r_peaks_array[i, 0]\n",
    "\n",
    "        if left_value < right_value:\n",
    "            result[i] = 0\n",
    "        elif right_value < left_value:\n",
    "            result[i] = 1\n",
    "        else:\n",
    "            result[i] = 2\n",
    "    \n",
    "    return result"
   ]
  },
  {
   "cell_type": "code",
   "execution_count": 195,
   "id": "f1cb72e9-7f39-411d-a029-c72365f9c3e9",
   "metadata": {},
   "outputs": [],
   "source": [
    "def extract_durations(r_peaks_i_array, r_valleys_i_array, r_peaks_a_array, r_valleys_a_array, thr=0.2, thr_last=0.1):\n",
    "    ref = np.concatenate((r_peaks_a_array, r_valleys_a_array), axis=1)\n",
    "    test = np.concatenate((r_peaks_i_array, r_valleys_i_array), axis=1)\n",
    "    \n",
    "    starts = []\n",
    "    ends = []\n",
    "    durations = []\n",
    "    \n",
    "    for i in range(test.shape[0]):\n",
    "        current_test = test[i]\n",
    "        current_ref = ref[i]\n",
    "        \n",
    "        # Calculate start and end\n",
    "        start_r = np.nanmin(current_test) if np.any(~np.isnan(current_test)) else 0\n",
    "        end_r = np.nanmax(current_test) if np.any(~np.isnan(current_test)) else 0\n",
    "        \n",
    "        # Check the amplitude of the first point\n",
    "        first_point_index = np.nanargmin(current_test) if np.any(~np.isnan(current_test)) else 0\n",
    "        first_point_amplitude = current_ref[first_point_index]\n",
    "        \n",
    "        if abs(first_point_amplitude) > thr:\n",
    "            start_r = 0\n",
    "            \n",
    "            # Initialize a flag for the second peak\n",
    "            second_peak_found = False\n",
    "            \n",
    "            # Iterate through amplitudes after the first point\n",
    "            for j in range(first_point_index + 1, len(current_ref)):\n",
    "                amplitude_diff = abs(current_ref[j] - current_ref[j-1])\n",
    "                \n",
    "                if not second_peak_found:\n",
    "                    # Allow finding the second peak\n",
    "                    if amplitude_diff > thr_last:\n",
    "                        second_peak_found = True\n",
    "                else:\n",
    "                    # If second peak is found, ignore small amplitude differences\n",
    "                    if amplitude_diff < thr_last:\n",
    "                        current_test[j] = np.nan  # Ignore this point in min/max calculation\n",
    "        \n",
    "            # Re-calculate end based on the modified test array\n",
    "            end_r = np.nanmax(current_test) if np.any(~np.isnan(current_test)) else 0\n",
    "        \n",
    "        # Calculate duration\n",
    "        dur_r = end_r - start_r\n",
    "        \n",
    "        starts.append(start_r)\n",
    "        ends.append(end_r)\n",
    "        durations.append(dur_r)\n",
    "    \n",
    "    return np.array(starts), np.array(ends), np.array(durations)\n"
   ]
  },
  {
   "cell_type": "code",
   "execution_count": 196,
   "id": "a89bc913-d573-4838-8c83-7ce41c6054d8",
   "metadata": {},
   "outputs": [],
   "source": [
    "# def compute_laterality(peaks_a_array, valleys_a_array):\n",
    "#     lateralities = np.full(peaks_a_array.shape[0],np.nan)\n",
    "#     # Access the first row of each array\n",
    "#     for bout in range(peaks_a_array.shape[0]):\n",
    "#         peaks_first = peaks_a_array[bout, 0]\n",
    "#         valleys_first = valleys_a_array[bout, 0]\n",
    "#         # Compare and determine laterality\n",
    "#         laterality = np.where( np.abs(peaks_first) > np.abs(valleys_first), 0, 1)\n",
    "#         lateralities[bout]= laterality\n",
    "#     return lateralities\n",
    "    \n",
    "#     print(\"Laterality:\", laterality)\n",
    "\n",
    "def tail_oscillations_with_laterality(peaks_a_array, valleys_a_array, laterality):\n",
    "    \"\"\"\n",
    "    Counts the total number of non-NaN elements per row in peaks_array or valleys_array\n",
    "    based on the laterality for each element.\n",
    "    \n",
    "    Parameters:\n",
    "    - peaks_a_array: 2D numpy array of peak values.\n",
    "    - valleys_a_array: 2D numpy array of valley values.\n",
    "    - laterality: 1D numpy array indicating laterality (0 or 1).\n",
    "    \n",
    "    Returns:\n",
    "    - total_non_nan_count: 1D numpy array with the total count of non-NaN elements per row\n",
    "      based on laterality.\n",
    "    \"\"\"\n",
    "    total_non_nan_count = np.zeros(peaks_a_array.shape[0], dtype=float)  # Use float type\n",
    "\n",
    "    # Count non-NaN elements based on laterality\n",
    "    for i, lat in enumerate(laterality):\n",
    "        if lat == 1: #0:  # \"left\"\n",
    "            for j in range(peaks_a_array.shape[1]):\n",
    "                if not np.isnan(peaks_a_array[i, j]):\n",
    "                    total_non_nan_count[i] += 1\n",
    "        else:  # \"right\"\n",
    "            for j in range(valleys_a_array.shape[1]):\n",
    "                if not np.isnan(valleys_a_array[i, j]):\n",
    "                    total_non_nan_count[i] += 1\n",
    "\n",
    "    return total_non_nan_count"
   ]
  },
  {
   "cell_type": "code",
   "execution_count": 197,
   "id": "e473310f-37c2-4f88-bcd4-c1d63e893640",
   "metadata": {},
   "outputs": [],
   "source": [
    "def combine_and_sort_indices(peaks_i_array, valleys_i_array):\n",
    "    \"\"\"\n",
    "    Combines and sorts peaks and valleys indices for each row, ignoring NaNs.\n",
    "    \n",
    "    Parameters:\n",
    "    - peaks_i_array: 2D numpy array of peaks indices.\n",
    "    - valleys_i_array: 2D numpy array of valleys indices.\n",
    "    \n",
    "    Returns:\n",
    "    - sorted_indices_array: 2D numpy array with sorted indices for each row.\n",
    "    \"\"\"\n",
    "    num_rows, num_cols = peaks_i_array.shape\n",
    "    sorted_indices_array = np.full((num_rows, num_cols * 2), np.nan, dtype=float)\n",
    "\n",
    "    for row in range(num_rows):\n",
    "        # Combine peaks and valleys, ignoring NaNs\n",
    "        combined_indices = np.concatenate((peaks_i_array[row], valleys_i_array[row]))\n",
    "        valid_indices = combined_indices[~np.isnan(combined_indices)].astype(int)\n",
    "        \n",
    "        # Sort the combined indices\n",
    "        sorted_indices = np.sort(valid_indices)\n",
    "        \n",
    "        # Store the sorted indices in the output array\n",
    "        sorted_indices_array[row, :len(sorted_indices)] = sorted_indices\n",
    "\n",
    "    return sorted_indices_array\n",
    "\n",
    "def calculate_periods_between_peaks(peaks_i_array, fps):\n",
    "    \"\"\"\n",
    "    Calculates the periods (in seconds) between peaks for each row in the peaks_i_array, \n",
    "    maintaining the original shape of the array.\n",
    "    \n",
    "    Parameters:\n",
    "    - peaks_i_array: 2D numpy array where each row contains indices of peaks.\n",
    "    - fps: Frames per second of the sampling rate.\n",
    "    \n",
    "    Returns:\n",
    "    - periods_array: 2D numpy array with the same shape as peaks_i_array, where each row\n",
    "      contains the periods between successive peaks, and remaining positions are NaN.\n",
    "    \"\"\"\n",
    "    num_rows, num_cols = peaks_i_array.shape\n",
    "    periods_array = np.full((num_rows, num_cols), np.nan, dtype=float)\n",
    "\n",
    "    for row in range(num_rows):\n",
    "        peak_indices = peaks_i_array[row]\n",
    "        # Remove NaN values and convert to integers\n",
    "        valid_indices = peak_indices[~np.isnan(peak_indices)].astype(int)\n",
    "\n",
    "        # Calculate the differences between successive peak indices\n",
    "        if len(valid_indices) > 1:\n",
    "            frame_differences = np.diff(valid_indices)\n",
    "            # Convert frame differences to time periods in seconds\n",
    "            periods = frame_differences / fps\n",
    "            # Copy periods to the corresponding row in the output array\n",
    "            periods_array[row, :len(periods)] = periods\n",
    "\n",
    "    return periods_array"
   ]
  },
  {
   "cell_type": "code",
   "execution_count": 198,
   "id": "b823e62f-a2b0-4a0f-9896-7762dd9fbd80",
   "metadata": {},
   "outputs": [],
   "source": [
    "from skimage.filters import threshold_otsu\n",
    "\n",
    "def extract_extrema(arr): \n",
    "    \"\"\"Extract indices where extrema are found in a tail or fin trace.\n",
    "\n",
    "    :param arr: tail of fin trace\n",
    "    :return: list of indices where minima and maxima are found.\n",
    "    \"\"\"\n",
    "\n",
    "    idxs = np.arange(arr.shape[0])\n",
    "\n",
    "    min_idxs = []\n",
    "    max_idxs = []\n",
    "\n",
    "    for i in range(1, arr.shape[0] - 1):\n",
    "        if arr[i - 1] < arr[i] > arr[i + 1]:\n",
    "            max_idxs.append(i)\n",
    "        elif arr[i - 1] > arr[i] < arr[i + 1]:\n",
    "            min_idxs.append(i)\n",
    "\n",
    "    return min_idxs, max_idxs\n",
    "    \n",
    "    \n",
    "def moving_average(a, n=2):\n",
    "    \"\"\"Compute rolling average on a given array.\n",
    "\n",
    "    :param a: array\n",
    "    :param n: size of rolling window\n",
    "    :return: new array\n",
    "    \"\"\"\n",
    "\n",
    "    ret = np.cumsum(a, dtype=float)\n",
    "    ret[n:] = ret[n:] - ret[:-n]\n",
    "    return ret[n - 1:] / n\n",
    "\n",
    "def compute_tbf(traces, extract_extrema, moving_average, dt=1.0, threshold=0.2, min_valid_tps=5):\n",
    "    \"\"\"\n",
    "    Computes the TBF (time between features) for each trace based on extrema.\n",
    "\n",
    "    Parameters:\n",
    "    - traces: The 3D numpy array containing the traces to analyze.\n",
    "    - extract_extrema: A function that returns the minima and maxima of a trace.\n",
    "    - moving_average: A function that calculates the moving average of an array.\n",
    "    - dt: Time step duration (default is 1.0).\n",
    "    - threshold: The threshold for considering significant extrema changes (default is 0.2).\n",
    "    - min_valid_tps: Minimum number of time points required for valid TBF computation (default is 5).\n",
    "\n",
    "    Returns:\n",
    "    - tbf_output: The computed TBF values for the input traces.\n",
    "    \"\"\"\n",
    "    tbf_output_list = []\n",
    "\n",
    "    for fin in range(traces.shape[1]):\n",
    "        extrema_idxs = []\n",
    "\n",
    "        for trace in traces[:, fin, :]:\n",
    "            # Identify extrema\n",
    "            mins, maxs = extract_extrema(trace)\n",
    "            \n",
    "            # Combine and sort indexes, add first and last timepoints\n",
    "            extrema = np.sort(np.concatenate((np.array(mins), np.array(maxs))))\n",
    "            extrema = np.insert(extrema, 0, 0)\n",
    "            extrema = np.append(extrema, trace.shape[-1] - 1)\n",
    "\n",
    "            # Normalize trace and compute average difference for each extrema\n",
    "            trace_norm = (trace - trace.min()) / (trace.max() - trace.min())\n",
    "            extrema_y = [trace_norm[i] for i in extrema]\n",
    "            extrema_diff = np.abs(np.diff(extrema_y))\n",
    "            avg_extrema_diff = moving_average(extrema_diff)\n",
    "\n",
    "            # Append extrema if their average change is larger than the threshold\n",
    "            extrema_idxs.append(extrema[1:-1][avg_extrema_diff > threshold])\n",
    "\n",
    "        # Compute TBFs\n",
    "        idxs = np.arange(traces.shape[2])\n",
    "        tbf_output = np.full((traces.shape[0], idxs.shape[0]), np.nan)\n",
    "\n",
    "        for i, extrema in enumerate(extrema_idxs):\n",
    "            if len(extrema) > 1:  # To avoid issues with min() and max() on empty arrays\n",
    "                valid_idxs = idxs[np.logical_and(idxs >= min(extrema), idxs < max(extrema))]\n",
    "\n",
    "                if len(valid_idxs) > min_valid_tps:\n",
    "                    time_diffs = np.diff(extrema) * dt\n",
    "                    binned_tps = np.digitize(valid_idxs, extrema) - 1\n",
    "                    instant_time_diff = np.array([time_diffs[i] for i in binned_tps])\n",
    "                    tbf = (1 / instant_time_diff) / 2\n",
    "                    tbf_output[i, valid_idxs[0]:valid_idxs[-1] + 1] = tbf\n",
    "\n",
    "        tbf_output_list.append(tbf_output)\n",
    "\n",
    "    return np.stack(tbf_output_list)"
   ]
  },
  {
   "cell_type": "code",
   "execution_count": 199,
   "id": "3b179490-4906-4542-b7b2-f9f006bff64a",
   "metadata": {},
   "outputs": [],
   "source": [
    "def resort_ipsi_contra(tail, left_fin, right_fin, directionality):\n",
    "    \"\"\"\n",
    "    Resorts left_fin, right_fin, left_eye, and right_eye based on directionality\n",
    "    into ipsilateral and contralateral components.\n",
    "    \"\"\"\n",
    "    tail_new = np.zeros_like(tail)\n",
    "    ipsi_fin = np.zeros_like(left_fin)\n",
    "    contra_fin = np.zeros_like(left_fin)\n",
    "    ipsi_fin_id = np.zeros(len(left_fin))  # Initialize with 0 (for 'left')\n",
    "\n",
    "    for i, dir_value in enumerate(directionality):\n",
    "        if dir_value == 1:  # Left direction\n",
    "            tail_new[i] = tail[i]\n",
    "            ipsi_fin[i] = left_fin[i]\n",
    "            contra_fin[i] = right_fin[i]\n",
    "            ipsi_fin_id[i] = 0  # Set as 0 (for 'left')\n",
    "        elif dir_value == -1: #0:  # Right direction\n",
    "            tail_new[i] = tail[i]\n",
    "            ipsi_fin[i] = right_fin[i]\n",
    "            contra_fin[i] = left_fin[i]\n",
    "            ipsi_fin_id[i] = 1  # Set as 1 (for 'right')\n",
    "    return tail_new, ipsi_fin, contra_fin,  ipsi_fin_id\n",
    "\n",
    "\n",
    "\n",
    "def sort_tensor_ipsi_contra(tensor, directionality):\n",
    "    \"\"\"\n",
    "    Sort the tensor signals into ipsilateral and contralateral components\n",
    "    based on the detected directionality.\n",
    "\n",
    "    Args:\n",
    "    tensor (np.ndarray): The baseline-corrected tensor of shape (trials, signals, time points).\n",
    "\n",
    "    Returns:\n",
    "    tuple: The sorted and adjusted tensor, ipsilateral fin identities, \n",
    "           and indices of trials where fins were switched.\n",
    "    \"\"\"\n",
    "    # Extract each signal\n",
    "    tail = tensor[:, 0, :]\n",
    "    left_fin = tensor[:, 1, :]\n",
    "    right_fin = tensor[:, 2, :]\n",
    "\n",
    "    # Resort fins and eyes into ipsilateral and contralateral components\n",
    "    tail_new, ipsi_fin, contra_fin, ipsi_fin_id = resort_ipsi_contra(\n",
    "       tail, left_fin, right_fin, directionality\n",
    "    )\n",
    "    \n",
    "    # Create a new tensor with sorted and adjusted components\n",
    "    new_tensor = np.stack([tail_new, ipsi_fin, contra_fin], axis=1)\n",
    "    \n",
    "    return new_tensor, ipsi_fin_id"
   ]
  },
  {
   "cell_type": "code",
   "execution_count": 200,
   "id": "d8f363dd-8550-40ac-bcab-72a24f8941cf",
   "metadata": {},
   "outputs": [],
   "source": [
    "def reshape_feature_array(feature_vector_array):\n",
    "    \"\"\"\n",
    "    Reshape the feature vector array into a specified shape and extract sub-arrays.\n",
    "\n",
    "    Parameters:\n",
    "    - feature_vector_array: numpy.ndarray, the array to be reshaped.\n",
    "\n",
    "    Returns:\n",
    "    - reshaped_array: numpy.ndarray, the reshaped array.\n",
    "    - peaks_a_array, peaks_i_array, valleys_a_array, valleys_i_array: separate sub-arrays.\n",
    "    \"\"\"\n",
    "    max_n = int(feature_vector_array.shape[1] / 4)\n",
    "\n",
    "    # Reshape the array\n",
    "    reshaped_array = feature_vector_array.reshape(feature_vector_array.shape[0], 4, max_n)\n",
    "\n",
    "    # Extract sub-arrays\n",
    "    peaks_a_array = reshaped_array[:, 0, :]\n",
    "    peaks_i_array = reshaped_array[:, 1, :]\n",
    "    valleys_a_array = reshaped_array[:, 2, :]\n",
    "    valleys_i_array = reshaped_array[:, 3, :]\n",
    "\n",
    "    print(f\"Reshaped array shape: {reshaped_array.shape}\")\n",
    "\n",
    "    return reshaped_array, peaks_a_array, peaks_i_array, valleys_a_array, valleys_i_array"
   ]
  },
  {
   "cell_type": "markdown",
   "id": "017dcd0d",
   "metadata": {},
   "source": [
    "## Load data"
   ]
  },
  {
   "cell_type": "code",
   "execution_count": 232,
   "id": "c0d64982",
   "metadata": {},
   "outputs": [],
   "source": [
    "# master_path = Path(r'\\\\portulab.synology.me\\data\\Kata\\testdata\\Raw_Data')\n",
    "\n",
    "# fish_paths = list(master_path.glob('*f[0-9]*'))\n",
    "# fish_paths"
   ]
  },
  {
   "cell_type": "code",
   "execution_count": 242,
   "id": "4da359da-106a-4ecf-9118-6af1f2362ffe",
   "metadata": {},
   "outputs": [],
   "source": [
    "\n",
    "# master_path = Path(r\"\\\\portulab.synology.me\\data\\Kata\\Data\\230307_visstim_2D\") #rectangular arena # start from fish 1\n",
    "# master_path = Path(r\"\\\\portulab.synology.me\\data\\Kata\\Data\\22042024_visstim_2D_round\")\n",
    "# master_path = Path(r\"\\\\portulab.synology.me\\data\\Kata\\Data\\22042024_visstim_2D_2\") #rectangular arena\n",
    "# master_path = Path(r\"\\\\portulab.synology.me\\data\\Kata\\Data\\13052024_visstim_2D_round\")\n",
    "master_path = Path(r\"\\\\portulab.synology.me\\data\\Kata\\Data\\14052024_visstim_2D_round\")"
   ]
  },
  {
   "cell_type": "code",
   "execution_count": 243,
   "id": "9b8eee44-c273-4b19-b8b5-f389110e9532",
   "metadata": {},
   "outputs": [
    {
     "data": {
      "text/plain": [
       "([WindowsPath('//portulab.synology.me/data/Kata/Data/14052024_visstim_2D_round/240514_f0'),\n",
       "  WindowsPath('//portulab.synology.me/data/Kata/Data/14052024_visstim_2D_round/240514_f1'),\n",
       "  WindowsPath('//portulab.synology.me/data/Kata/Data/14052024_visstim_2D_round/240514_f2'),\n",
       "  WindowsPath('//portulab.synology.me/data/Kata/Data/14052024_visstim_2D_round/240514_f3'),\n",
       "  WindowsPath('//portulab.synology.me/data/Kata/Data/14052024_visstim_2D_round/240514_f4'),\n",
       "  WindowsPath('//portulab.synology.me/data/Kata/Data/14052024_visstim_2D_round/240514_f5'),\n",
       "  WindowsPath('//portulab.synology.me/data/Kata/Data/14052024_visstim_2D_round/240514_f6'),\n",
       "  WindowsPath('//portulab.synology.me/data/Kata/Data/14052024_visstim_2D_round/240514_f7'),\n",
       "  WindowsPath('//portulab.synology.me/data/Kata/Data/14052024_visstim_2D_round/240514_f8'),\n",
       "  WindowsPath('//portulab.synology.me/data/Kata/Data/14052024_visstim_2D_round/240514_f9')],\n",
       " 10)"
      ]
     },
     "execution_count": 243,
     "metadata": {},
     "output_type": "execute_result"
    }
   ],
   "source": [
    "fish_paths = list(master_path.glob('*f[0-9]*'))\n",
    "fish_paths, len(fish_paths)"
   ]
  },
  {
   "cell_type": "code",
   "execution_count": 244,
   "id": "10e311d5-927a-4e44-9115-916809372455",
   "metadata": {},
   "outputs": [
    {
     "data": {
      "text/plain": [
       "('240514_f2', '14052024_visstim_2D_round')"
      ]
     },
     "execution_count": 244,
     "metadata": {},
     "output_type": "execute_result"
    }
   ],
   "source": [
    "fish= 2\n",
    "fish_id =  fish_paths[fish].name\n",
    "exp_name = Path(fish_paths[fish]).parts[-2]\n",
    "# exp_name = 'testfish'\n",
    "fish_id, exp_name\n"
   ]
  },
  {
   "cell_type": "code",
   "execution_count": 245,
   "id": "8dd43446-c05a-409f-9a24-705e61230cbf",
   "metadata": {},
   "outputs": [],
   "source": [
    "# out_path = Path(r'\\\\portulab.synology.me\\data\\Kata\\testdata\\Processed_Data')"
   ]
  },
  {
   "cell_type": "code",
   "execution_count": 246,
   "id": "0d2438ee-87d5-4f40-b948-017545b3c8bc",
   "metadata": {},
   "outputs": [],
   "source": [
    "## Analysed for paper\n",
    "\n",
    "# out_path = Path(r\"\\\\portulab.synology.me\\data\\Kata\\Processed_Data\\230307_visstim_2D_\")\n",
    "# out_path = Path(r\"\\\\portulab.synology.me\\data\\Kata\\Processed_Data\\22042024_visstim_2D_round_\")\n",
    "# out_path = Path(r\"\\\\portulab.synology.me\\data\\Kata\\Processed_Data\\22042024_visstim_2D_2_\")\n",
    "# out_path = Path(r\"\\\\portulab.synology.me\\data\\Kata\\Processed_Data\\13052024_visstim_2D_round_\")\n",
    "out_path = Path(r\"\\\\portulab.synology.me\\data\\Kata\\Processed_Data\\14052024_visstim_2D_round_\")"
   ]
  },
  {
   "cell_type": "code",
   "execution_count": 247,
   "id": "0cf2c50a",
   "metadata": {},
   "outputs": [],
   "source": [
    "save_data_path = out_path"
   ]
  },
  {
   "cell_type": "markdown",
   "id": "a6b9a9bf-d98f-481e-96a1-b031057f4f4a",
   "metadata": {},
   "source": [
    "## Loop"
   ]
  },
  {
   "cell_type": "code",
   "execution_count": 248,
   "id": "cd9b4e0c-aaf2-4f39-ac34-445912a149d4",
   "metadata": {},
   "outputs": [],
   "source": [
    "max_n = 9\n",
    "fps = 200"
   ]
  },
  {
   "cell_type": "code",
   "execution_count": 249,
   "id": "13e4fdbc-91f2-4198-9467-c289466ed3e4",
   "metadata": {},
   "outputs": [
    {
     "name": "stderr",
     "output_type": "stream",
     "text": [
      "  0%|                                                                                           | 0/10 [00:00<?, ?it/s]"
     ]
    },
    {
     "name": "stdout",
     "output_type": "stream",
     "text": [
      "Working on fish 240514_f0\n",
      "(192, 3, 50) [-1.  1.]\n",
      "Reshaped array shape: (192, 4, 9)\n",
      "Reshaped array shape: (192, 4, 9)\n",
      "Reshaped array shape: (192, 4, 9)\n",
      "Comparison result: [0 1 2]\n",
      "Total non-NaN counts per row based on laterality: [1. 2. 3. 4. 5. 6.]\n",
      "Number of non-NaN elements per row: [1 2 3 4 5 6 7]\n",
      "Number of non-NaN elements per row: [1 2 3 4 5 6]\n"
     ]
    },
    {
     "name": "stderr",
     "output_type": "stream",
     "text": [
      " 10%|████████▎                                                                          | 1/10 [00:01<00:10,  1.12s/it]"
     ]
    },
    {
     "name": "stdout",
     "output_type": "stream",
     "text": [
      "(3, 192, 50)\n",
      "(192, 3, 50)\n",
      "Ipsilateral fin identities: [0. 1.]\n",
      "Working on fish 240514_f1\n",
      "(41, 3, 50) [-1.  1.]\n",
      "Reshaped array shape: (41, 4, 9)\n",
      "Reshaped array shape: (41, 4, 9)\n",
      "Reshaped array shape: (41, 4, 9)\n",
      "Comparison result: [0 1 2]\n",
      "Total non-NaN counts per row based on laterality: [1. 2. 3. 4. 5.]\n",
      "Number of non-NaN elements per row: [1 2 3 4 5 6]\n",
      "Number of non-NaN elements per row: [0 1 2 3 4 5 7]\n"
     ]
    },
    {
     "name": "stderr",
     "output_type": "stream",
     "text": [
      " 20%|████████████████▌                                                                  | 2/10 [00:02<00:08,  1.00s/it]"
     ]
    },
    {
     "name": "stdout",
     "output_type": "stream",
     "text": [
      "(3, 41, 50)\n",
      "(41, 3, 50)\n",
      "Ipsilateral fin identities: [0. 1.]\n",
      "Working on fish 240514_f2\n",
      "(40, 3, 50) [-1.  1.]\n",
      "Reshaped array shape: (40, 4, 9)\n",
      "Reshaped array shape: (40, 4, 9)\n",
      "Reshaped array shape: (40, 4, 9)\n",
      "Comparison result: [0 1 2]\n",
      "Total non-NaN counts per row based on laterality: [0. 1. 2. 3. 4. 5. 6. 9.]\n",
      "Number of non-NaN elements per row: [0 1 2 3 4 5 6 7]\n",
      "Number of non-NaN elements per row: [0 1 2 3 4 5 6 7 8 9]\n"
     ]
    },
    {
     "name": "stderr",
     "output_type": "stream",
     "text": [
      " 30%|████████████████████████▉                                                          | 3/10 [00:02<00:06,  1.05it/s]"
     ]
    },
    {
     "name": "stdout",
     "output_type": "stream",
     "text": [
      "(3, 40, 50)\n",
      "(40, 3, 50)\n",
      "Ipsilateral fin identities: [0. 1.]\n",
      "Working on fish 240514_f3\n",
      "(147, 3, 50) [-1.  1.]\n",
      "Reshaped array shape: (147, 4, 9)\n",
      "Reshaped array shape: (147, 4, 9)\n",
      "Reshaped array shape: (147, 4, 9)\n",
      "Comparison result: [0 1 2]\n",
      "Total non-NaN counts per row based on laterality: [1. 2. 3. 4. 5. 6. 7.]\n",
      "Number of non-NaN elements per row: [0 1 2 3 4 5 7]\n",
      "Number of non-NaN elements per row: [0 1 2 3 4 5 6]\n"
     ]
    },
    {
     "name": "stderr",
     "output_type": "stream",
     "text": [
      " 40%|█████████████████████████████████▏                                                 | 4/10 [00:04<00:05,  1.00it/s]"
     ]
    },
    {
     "name": "stdout",
     "output_type": "stream",
     "text": [
      "(3, 147, 50)\n",
      "(147, 3, 50)\n",
      "Ipsilateral fin identities: [0. 1.]\n",
      "Working on fish 240514_f4\n",
      "(272, 3, 50) [-1.  1.]\n",
      "Reshaped array shape: (272, 4, 9)\n",
      "Reshaped array shape: (272, 4, 9)\n",
      "Reshaped array shape: (272, 4, 9)\n",
      "Comparison result: [0 1 2]\n",
      "Total non-NaN counts per row based on laterality: [1. 2. 3. 4. 5. 6. 8.]\n",
      "Number of non-NaN elements per row: [1 2 3 4 5 6]\n",
      "Number of non-NaN elements per row: [1 2 3 4 5 6 7]\n",
      "(3, 272, 50)\n",
      "(272, 3, 50)\n",
      "Ipsilateral fin identities: [0. 1.]\n"
     ]
    },
    {
     "name": "stderr",
     "output_type": "stream",
     "text": [
      " 50%|█████████████████████████████████████████▌                                         | 5/10 [00:05<00:05,  1.05s/it]"
     ]
    },
    {
     "name": "stdout",
     "output_type": "stream",
     "text": [
      "Working on fish 240514_f5\n",
      "(175, 3, 50) [-1.  1.]\n",
      "Reshaped array shape: (175, 4, 9)\n",
      "Reshaped array shape: (175, 4, 9)\n",
      "Reshaped array shape: (175, 4, 9)\n",
      "Comparison result: [0 1 2]\n",
      "Total non-NaN counts per row based on laterality: [1. 2. 3. 4. 5. 6. 7.]\n",
      "Number of non-NaN elements per row: [0 1 2 3 4 5 6 7 9]\n",
      "Number of non-NaN elements per row: [0 1 2 3 4 5 6 7 9]\n"
     ]
    },
    {
     "name": "stderr",
     "output_type": "stream",
     "text": [
      " 60%|█████████████████████████████████████████████████▊                                 | 6/10 [00:06<00:04,  1.05s/it]"
     ]
    },
    {
     "name": "stdout",
     "output_type": "stream",
     "text": [
      "(3, 175, 50)\n",
      "(175, 3, 50)\n",
      "Ipsilateral fin identities: [0. 1.]\n",
      "Working on fish 240514_f6\n",
      "(277, 3, 50) [-1.  1.]\n",
      "Reshaped array shape: (277, 4, 9)\n",
      "Reshaped array shape: (277, 4, 9)\n",
      "Reshaped array shape: (277, 4, 9)\n",
      "Comparison result: [0 1 2]\n",
      "Total non-NaN counts per row based on laterality: [1. 2. 3. 4. 5. 6.]\n",
      "Number of non-NaN elements per row: [1 2 3 4 5]\n",
      "Number of non-NaN elements per row: [0 1 2 3 4 5]\n"
     ]
    },
    {
     "name": "stderr",
     "output_type": "stream",
     "text": [
      " 70%|██████████████████████████████████████████████████████████                         | 7/10 [00:07<00:03,  1.09s/it]"
     ]
    },
    {
     "name": "stdout",
     "output_type": "stream",
     "text": [
      "(3, 277, 50)\n",
      "(277, 3, 50)\n",
      "Ipsilateral fin identities: [0. 1.]\n",
      "Working on fish 240514_f7\n",
      "(279, 3, 50) [-1.  1.]\n",
      "Reshaped array shape: (279, 4, 9)\n",
      "Reshaped array shape: (279, 4, 9)\n",
      "Reshaped array shape: (279, 4, 9)\n",
      "Comparison result: [0 1 2]\n",
      "Total non-NaN counts per row based on laterality: [1. 2. 3. 4. 5. 6. 7.]\n",
      "Number of non-NaN elements per row: [0 1 2 3 4 5 6 7]\n",
      "Number of non-NaN elements per row: [0 1 2 3 4 5 6 7 8]\n",
      "(3, 279, 50)\n",
      "(279, 3, 50)\n",
      "Ipsilateral fin identities: [0. 1.]\n"
     ]
    },
    {
     "name": "stderr",
     "output_type": "stream",
     "text": [
      " 80%|██████████████████████████████████████████████████████████████████▍                | 8/10 [00:08<00:02,  1.13s/it]"
     ]
    },
    {
     "name": "stdout",
     "output_type": "stream",
     "text": [
      "Working on fish 240514_f8\n",
      "(577, 3, 50) [-1.  1.]\n",
      "Reshaped array shape: (577, 4, 9)\n",
      "Reshaped array shape: (577, 4, 9)\n",
      "Reshaped array shape: (577, 4, 9)\n",
      "Comparison result: [0 1 2]\n",
      "Total non-NaN counts per row based on laterality: [1. 2. 3. 4. 5. 6. 8.]\n",
      "Number of non-NaN elements per row: [0 1 2 3 4 5 6 7]\n",
      "Number of non-NaN elements per row: [0 1 2 3 4 5 7]\n",
      "(3, 577, 50)\n",
      "(577, 3, 50)\n",
      "Ipsilateral fin identities: [0. 1.]\n"
     ]
    },
    {
     "name": "stderr",
     "output_type": "stream",
     "text": [
      " 90%|██████████████████████████████████████████████████████████████████████████▋        | 9/10 [00:10<00:01,  1.26s/it]"
     ]
    },
    {
     "name": "stdout",
     "output_type": "stream",
     "text": [
      "Working on fish 240514_f9\n",
      "(509, 3, 50) [-1.  1.]\n",
      "Reshaped array shape: (509, 4, 9)\n",
      "Reshaped array shape: (509, 4, 9)\n",
      "Reshaped array shape: (509, 4, 9)\n",
      "Comparison result: [0 1 2]\n",
      "Total non-NaN counts per row based on laterality: [1. 2. 3. 4. 5. 6. 7.]\n",
      "Number of non-NaN elements per row: [0 1 2 3 4 5 6 7]\n",
      "Number of non-NaN elements per row: [0 1 2 3 4 5 6]\n",
      "(3, 509, 50)\n",
      "(509, 3, 50)\n",
      "Ipsilateral fin identities: [0. 1.]\n"
     ]
    },
    {
     "name": "stderr",
     "output_type": "stream",
     "text": [
      "100%|██████████████████████████████████████████████████████████████████████████████████| 10/10 [00:11<00:00,  1.16s/it]\n"
     ]
    }
   ],
   "source": [
    "for ind, fish_path in enumerate(tqdm(fish_paths)):\n",
    "    fish_id =  fish_path.name\n",
    "    print ('Working on fish {}'.format(fish_id))\n",
    "\n",
    "    traces =  fl.load(out_path / '{}_tensor.h5'.format(fish_id))\n",
    "    bout_data = fl.load(out_path/'{}_bout_data.h5'.format(fish_id))\n",
    "\n",
    "    laterality = fl.load(out_path/ '{}_bout_laterality.h5'.format(fish_id))\n",
    "    tail_vectors = bout_data['tail_vectors']\n",
    "    print(traces.shape, np.unique(laterality))\n",
    "    dt = 0.25/traces.shape[2]\n",
    "    \n",
    "    t_feature_vector_array = fl.load(save_data_path/ '{}_t_feature_vector_array.h5'.format(fish_id))\n",
    "    l_feature_vector_array = fl.load(save_data_path/ '{}_l_feature_vector_array.h5'.format(fish_id))\n",
    "    r_feature_vector_array = fl.load(save_data_path/ '{}_r_feature_vector_array.h5'.format(fish_id))\n",
    "\n",
    "    t_reshaped_array, t_peaks_a_array, t_peaks_i_array, t_valleys_a_array, t_valleys_i_array = reshape_feature_array(t_feature_vector_array)\n",
    "    l_reshaped_array, l_peaks_a_array, l_peaks_i_array, l_valleys_a_array, l_valleys_i_array = reshape_feature_array(l_feature_vector_array)\n",
    "    r_reshaped_array, r_peaks_a_array, r_peaks_i_array, r_valleys_a_array, r_valleys_i_array = reshape_feature_array(r_feature_vector_array)\n",
    "\n",
    "    leading_fin = compute_leading_fin(l_peaks_i_array, r_peaks_i_array)\n",
    "    print(\"Comparison result:\", np.unique(leading_fin))\n",
    "\n",
    "    fl.save(save_data_path/ '{}_leading_fin.h5'.format(fish_id),leading_fin)\n",
    "\n",
    "    start_t, end_t, duration_t = extract_durations(t_peaks_i_array, t_valleys_i_array, t_peaks_a_array, t_valleys_a_array)\n",
    "    start_l, end_l, duration_l = extract_durations(l_peaks_i_array, l_valleys_i_array, l_peaks_a_array, l_valleys_a_array)\n",
    "    start_r, end_r, duration_r = extract_durations(r_peaks_i_array, r_valleys_i_array, r_peaks_a_array, r_valleys_a_array)\n",
    "\n",
    "    fl.save(save_data_path / '{}_t_durations.h5'.format(fish_id), [duration_t, start_t, end_t]) \n",
    "    fl.save(save_data_path / '{}_l_durations.h5'.format(fish_id), [duration_l, start_l, end_l]) \n",
    "    fl.save(save_data_path / '{}_r_durations.h5'.format(fish_id), [duration_r, start_r, end_r])\n",
    "\n",
    "    t_osc = tail_oscillations_with_laterality(t_peaks_a_array, t_valleys_a_array, laterality)\n",
    "    print(\"Total non-NaN counts per row based on laterality:\", np.unique(t_osc))\n",
    "\n",
    "    mask  = r_peaks_a_array <= 0.1\n",
    "    r_peaks_a_array[mask] = np.nan\n",
    "    mask  = l_peaks_a_array <= 0.1\n",
    "    l_peaks_a_array[mask] = np.nan\n",
    "\n",
    "    # Count non-NaN entries per row\n",
    "    l_osc = np.sum(~np.isnan(l_peaks_a_array), axis=1)\n",
    "    # Count non-NaN entries per row\n",
    "    r_osc = np.sum(~np.isnan(r_peaks_a_array), axis=1)\n",
    "    \n",
    "    print(\"Number of non-NaN elements per row:\", np.unique(l_osc))\n",
    "    print(\"Number of non-NaN elements per row:\", np.unique(r_osc))\n",
    "\n",
    "    fl.save(save_data_path/ '{}_oscillations.h5'.format(fish_id), [t_osc, l_osc, r_osc])\n",
    "\n",
    "    periods_array = calculate_periods_between_peaks(t_peaks_i_array, fps)\n",
    "    sorted_indices_array = combine_and_sort_indices(t_peaks_i_array, t_valleys_i_array)\n",
    "    half_beats_array = calculate_periods_between_peaks(sorted_indices_array, fps)\n",
    "    fl.save(save_data_path/ '{}_t_full_beats.h5'.format(fish_id), periods_array)\n",
    "    fl.save(save_data_path/ '{}_t_half_beats.h5'.format(fish_id), half_beats_array)\n",
    "\n",
    "    periods_array = calculate_periods_between_peaks(l_peaks_i_array, fps)\n",
    "    sorted_indices_array = combine_and_sort_indices(l_peaks_i_array, l_valleys_i_array)\n",
    "    half_beats_array = calculate_periods_between_peaks(sorted_indices_array, fps)\n",
    "    fl.save(save_data_path/ '{}_l_full_beats.h5'.format(fish_id), periods_array)\n",
    "    fl.save(save_data_path/ '{}_l_half_beats.h5'.format(fish_id), half_beats_array)\n",
    "\n",
    "    periods_array = calculate_periods_between_peaks(r_peaks_i_array, fps)\n",
    "    sorted_indices_array = combine_and_sort_indices(r_peaks_i_array, r_valleys_i_array)\n",
    "    half_beats_array = calculate_periods_between_peaks(sorted_indices_array, fps)\n",
    "    fl.save(save_data_path/ '{}_r_full_beats.h5'.format(fish_id), periods_array)\n",
    "    fl.save(save_data_path/ '{}_r_half_beats.h5'.format(fish_id), half_beats_array)\n",
    "\n",
    "    tbf_result = compute_tbf(traces, extract_extrema, moving_average)\n",
    "    print (tbf_result.shape)\n",
    "    fl.save(save_data_path/ '{}_tbf_output.h5'.format(fish_id), tbf_result)\n",
    "\n",
    "    sorted_tensor, ipsi_fin_ids = sort_tensor_ipsi_contra(traces, laterality)\n",
    "    print (sorted_tensor.shape)\n",
    "    print(\"Ipsilateral fin identities:\", np.unique(ipsi_fin_ids))\n",
    "\n",
    "    fl.save(save_data_path/ '{}_tensor_ipsi_contra.h5'.format(fish_id), sorted_tensor)\n",
    "    fl.save(save_data_path/ '{}_ipsi_fin_ids.h5'.format(fish_id), ipsi_fin_ids)\n"
   ]
  },
  {
   "cell_type": "code",
   "execution_count": 250,
   "id": "3e33e4ff-2e73-4fcc-a193-69230002c3d0",
   "metadata": {},
   "outputs": [
    {
     "data": {
      "image/png": "[encoded data removed]",
      "text/plain": [
       "<Figure size 640x480 with 1 Axes>"
      ]
     },
     "metadata": {},
     "output_type": "display_data"
    }
   ],
   "source": [
    "# Generate a random integer from 0 to num_elements - 1\n",
    "bout =np.random.randint(0, np.asarray(traces).shape[0])\n",
    "plt.figure()\n",
    "plt.title(f'{bout} bout, lat {laterality[bout]}')\n",
    "plt.plot(np.asarray(sorted_tensor)[bout, 0, :], c='k')\n",
    "plt.plot(np.asarray(sorted_tensor)[bout,1, :], c='blue')\n",
    "# plt.plot(np.asarray(sorted_tensor)[bout,2, :], c='pink')\n",
    "\n",
    "# plt.plot(np.asarray(traces)[bout, 0, :], ls=':',  c='k')\n",
    "plt.plot(np.asarray(traces)[bout, 1, :], ls=':',  c='r')\n",
    "plt.plot(np.asarray(traces)[bout, 2, :], ls=':',  c='pink')\n",
    "\n",
    "plt.tight_layout()"
   ]
  },
  {
   "cell_type": "code",
   "execution_count": 251,
   "id": "230959d6-0c1f-4fdd-b7d6-302debcbc591",
   "metadata": {},
   "outputs": [
    {
     "data": {
      "text/plain": [
       "(509, 3, 50)"
      ]
     },
     "execution_count": 251,
     "metadata": {},
     "output_type": "execute_result"
    }
   ],
   "source": [
    "sorted_tensor.shape"
   ]
  },
  {
   "cell_type": "code",
   "execution_count": null,
   "id": "ce42f8a7-1b1a-4bc3-8d10-6b60b5ded787",
   "metadata": {},
   "outputs": [],
   "source": []
  }
 ],
 "metadata": {
  "kernelspec": {
   "display_name": "Python 3 (ipykernel)",
   "language": "python",
   "name": "python3"
  },
  "language_info": {
   "codemirror_mode": {
    "name": "ipython",
    "version": 3
   },
   "file_extension": ".py",
   "mimetype": "text/x-python",
   "name": "python",
   "nbconvert_exporter": "python",
   "pygments_lexer": "ipython3",
   "version": "3.11.10"
  }
 },
 "nbformat": 4,
 "nbformat_minor": 5
}
