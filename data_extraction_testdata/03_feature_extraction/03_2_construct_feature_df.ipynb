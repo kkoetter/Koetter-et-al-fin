{
 "cells": [
  {
   "cell_type": "code",
   "execution_count": 1,
   "id": "12c493a6",
   "metadata": {},
   "outputs": [],
   "source": [
    "%load_ext autoreload\n",
    "%autoreload 2\n",
    "import warnings\n",
    "warnings.filterwarnings('ignore')\n"
   ]
  },
  {
   "cell_type": "code",
   "execution_count": 2,
   "id": "e6efbb4c",
   "metadata": {},
   "outputs": [],
   "source": [
    "import os\n",
    "import json\n",
    "\n",
    "# Data Wrangling\n",
    "import h5py\n",
    "import numpy as np\n",
    "import pandas as pd\n",
    "from pathlib import Path\n",
    "import matplotlib.pyplot as plt\n",
    "import glob\n",
    "import flammkuchen as fl\n",
    "import shutil\n",
    "\n",
    "import seaborn as sns\n",
    "import matplotlib as mpl\n",
    "\n",
    "from tqdm import tqdm"
   ]
  },
  {
   "cell_type": "markdown",
   "id": "20c9d10b-6bcd-42a6-8abf-3a77adc5645e",
   "metadata": {},
   "source": [
    "## Custom functions from helper file"
   ]
  },
  {
   "cell_type": "code",
   "execution_count": 3,
   "id": "2d199db8-49fa-4fbc-8035-36284329b3b5",
   "metadata": {},
   "outputs": [],
   "source": [
    "from feature_extractuion_helper import smooth_trace, reshape_feature_array, get_eye_max, invert_tail, compute_directionality\n",
    "from feature_extractuion_helper import compute_vigor, compute_bout_dur, get_vigor_stats, compute_oscillations\n",
    "from feature_extractuion_helper import time_of_first_peak, compute_leading_fin, compute_corr_lag, calulate_frequency_with_peaks\n",
    "from feature_extractuion_helper import extract_wavelet_features"
   ]
  },
  {
   "cell_type": "markdown",
   "id": "0085bf52",
   "metadata": {},
   "source": [
    "## Read in Data"
   ]
  },
  {
   "cell_type": "code",
   "execution_count": 8,
   "id": "7856c41e",
   "metadata": {},
   "outputs": [
    {
     "data": {
      "text/plain": [
       "[WindowsPath('//portulab.synology.me/data/Kata/Data/230307_visstim_2D/105234_f0'),\n",
       " WindowsPath('//portulab.synology.me/data/Kata/Data/230307_visstim_2D/105646_f0'),\n",
       " WindowsPath('//portulab.synology.me/data/Kata/Data/230307_visstim_2D/110659_f0'),\n",
       " WindowsPath('//portulab.synology.me/data/Kata/Data/230307_visstim_2D/111701_f0'),\n",
       " WindowsPath('//portulab.synology.me/data/Kata/Data/230307_visstim_2D/112901_f1'),\n",
       " WindowsPath('//portulab.synology.me/data/Kata/Data/230307_visstim_2D/113916_f2'),\n",
       " WindowsPath('//portulab.synology.me/data/Kata/Data/230307_visstim_2D/114946_f2'),\n",
       " WindowsPath('//portulab.synology.me/data/Kata/Data/230307_visstim_2D/120328_f3'),\n",
       " WindowsPath('//portulab.synology.me/data/Kata/Data/230307_visstim_2D/120350_f3'),\n",
       " WindowsPath('//portulab.synology.me/data/Kata/Data/230307_visstim_2D/123953_f4'),\n",
       " WindowsPath('//portulab.synology.me/data/Kata/Data/230307_visstim_2D/125639_f5'),\n",
       " WindowsPath('//portulab.synology.me/data/Kata/Data/230307_visstim_2D/130839_f5'),\n",
       " WindowsPath('//portulab.synology.me/data/Kata/Data/230307_visstim_2D/132040_f6'),\n",
       " WindowsPath('//portulab.synology.me/data/Kata/Data/230307_visstim_2D/133118_f6')]"
      ]
     },
     "execution_count": 8,
     "metadata": {},
     "output_type": "execute_result"
    }
   ],
   "source": [
    "master_path = Path(r'\\\\portulab.synology.me\\data\\Kata\\testdata\\Raw_Data')\n",
    "fish_paths = list(master_path.glob('*f[0-9]*'))\n",
    "fish_paths"
   ]
  },
  {
   "cell_type": "code",
   "execution_count": 9,
   "id": "534c2877-6060-476f-b9e6-00345a127aaf",
   "metadata": {},
   "outputs": [
    {
     "data": {
      "text/plain": [
       "('105646_f0', '230307_visstim_2D')"
      ]
     },
     "execution_count": 9,
     "metadata": {},
     "output_type": "execute_result"
    }
   ],
   "source": [
    "fish= 0\n",
    "fish_id =  fish_paths[fish].name\n",
    "exp_name = Path(fish_paths[fish]).parts[-2]\n",
    "exp_name = 'testfish'\n",
    "fish_id, exp_name\n"
   ]
  },
  {
   "cell_type": "code",
   "execution_count": 10,
   "id": "9d13fbeb-7eac-4a2f-bf0d-49a299e4db16",
   "metadata": {},
   "outputs": [],
   "source": [
    "out_path = Path(r'\\\\portulab.synology.me\\data\\Kata\\testdata\\Processed_Data')\n",
    "save_data_path = out_path"
   ]
  },
  {
   "cell_type": "markdown",
   "id": "4ca78996-04ff-4bbe-aa8c-530266716754",
   "metadata": {},
   "source": [
    "# Pooled loop"
   ]
  },
  {
   "cell_type": "code",
   "execution_count": 18,
   "id": "6f2caab2-4341-4d52-8f38-fdc837b2578e",
   "metadata": {},
   "outputs": [
    {
     "name": "stderr",
     "output_type": "stream",
     "text": [
      "  0%|                                                                                           | 0/13 [00:00<?, ?it/s]"
     ]
    },
    {
     "name": "stdout",
     "output_type": "stream",
     "text": [
      "Working on fish 105646_f0\n",
      "Reshaped array shape: (47, 4, 9)\n",
      "Reshaped array shape: (47, 4, 9)\n",
      "Reshaped array shape: (47, 4, 9)\n"
     ]
    },
    {
     "name": "stderr",
     "output_type": "stream",
     "text": [
      "  0%|                                                                                           | 0/13 [00:00<?, ?it/s]\n"
     ]
    },
    {
     "ename": "TypeError",
     "evalue": "only integer scalar arrays can be converted to a scalar index",
     "output_type": "error",
     "traceback": [
      "\u001b[1;31m---------------------------------------------------------------------------\u001b[0m",
      "\u001b[1;31mTypeError\u001b[0m                                 Traceback (most recent call last)",
      "Cell \u001b[1;32mIn[18], line 66\u001b[0m\n\u001b[0;32m     64\u001b[0m eye_vergence \u001b[38;5;241m=\u001b[39m bout_data[\u001b[38;5;124m'\u001b[39m\u001b[38;5;124meye_vergence\u001b[39m\u001b[38;5;124m'\u001b[39m]\n\u001b[0;32m     65\u001b[0m max_eye_rot, max_eye_vergence \u001b[38;5;241m=\u001b[39m get_eye_max(eye_rotation, eye_vergence)\n\u001b[1;32m---> 66\u001b[0m df[\u001b[38;5;124m'\u001b[39m\u001b[38;5;124mmax_eye_rot\u001b[39m\u001b[38;5;124m'\u001b[39m] \u001b[38;5;241m=\u001b[39m\u001b[43mmax_eye_rot\u001b[49m\u001b[43m[\u001b[49m\u001b[43mindices\u001b[49m\u001b[43m]\u001b[49m\n\u001b[0;32m     67\u001b[0m df[\u001b[38;5;124m'\u001b[39m\u001b[38;5;124mmax_eye_vergence\u001b[39m\u001b[38;5;124m'\u001b[39m] \u001b[38;5;241m=\u001b[39m max_eye_vergence[indices]\n\u001b[0;32m     69\u001b[0m vigor_stats \u001b[38;5;241m=\u001b[39m np\u001b[38;5;241m.\u001b[39mzeros((tail\u001b[38;5;241m.\u001b[39mshape[\u001b[38;5;241m0\u001b[39m], \u001b[38;5;241m2\u001b[39m))\n",
      "\u001b[1;31mTypeError\u001b[0m: only integer scalar arrays can be converted to a scalar index"
     ]
    }
   ],
   "source": [
    "for ind, fish_path in enumerate(tqdm(fish_paths[1:])):\n",
    "    fish_id =  fish_path.name\n",
    "    print ('Working on fish {}'.format(fish_id))\n",
    "\n",
    "    # try:\n",
    "    bout_data = fl.load(out_path/'{}_bout_data.h5'.format(fish_id))\n",
    "    traces =  fl.load(out_path / '{}_tensor.h5'.format(fish_id))\n",
    "    tail = traces[:, 0, :]\n",
    "    l_fin = traces[:, 1, :]\n",
    "    r_fin = traces[:, 2, :]\n",
    "\n",
    "    indices = fl.load(out_path / '{}_indices.h5'.format(fish_id))\n",
    "\n",
    "    t_feature_vector_array = fl.load(save_data_path/ '{}_t_feature_vector_array.h5'.format(fish_id))\n",
    "    l_feature_vector_array = fl.load(save_data_path/ '{}_l_feature_vector_array.h5'.format(fish_id))\n",
    "    r_feature_vector_array = fl.load(save_data_path/ '{}_r_feature_vector_array.h5'.format(fish_id))\n",
    "\n",
    "    t_reshaped_array, t_peaks_a_array, t_peaks_i_array, t_valleys_a_array, t_valleys_i_array = reshape_feature_array(t_feature_vector_array)\n",
    "    l_reshaped_array, l_peaks_a_array, l_peaks_i_array, l_valleys_a_array, l_valleys_i_array = reshape_feature_array(l_feature_vector_array)\n",
    "    r_reshaped_array, r_peaks_a_array, r_peaks_i_array, r_valleys_a_array, r_valleys_i_array = reshape_feature_array(r_feature_vector_array)\n",
    "\n",
    "    ipsi_contra_tensor = fl.load(Path(out_path / '{}_tensor_ipsi_contra.h5'.format(fish_id)))\n",
    "    ipsi_fin_id= fl.load(Path(out_path/'{}_ipsi_fin_ids.h5'.format(fish_id)))\n",
    "    leading_fin = fl.load(Path(out_path/ '{}_leading_fin.h5'.format(fish_id)))\n",
    "    osc = fl.load(out_path/ '{}_oscillations.h5'.format(fish_id)) # [t_osc, l_osc, r_osc])\n",
    "    laterality = fl.load(out_path/ '{}_bout_laterality.h5'.format(fish_id))\n",
    "    freqs = fl.load(out_path/ '{}_tbf_output.h5'.format(fish_id))\n",
    "\n",
    "    [duration_t, start_t, end_t] = fl.load( out_path / '{}_t_durations.h5'.format(fish_id)) \n",
    "    [duration_l, start_l, end_l] = fl.load( out_path / '{}_l_durations.h5'.format(fish_id)) \n",
    "    [duration_r, start_r, end_r] = fl.load( out_path / '{}_r_durations.h5'.format(fish_id))\n",
    "\n",
    "    tail_periods_array = fl.load( out_path/ '{}_t_full_beats.h5'.format(fish_id))\n",
    "    tail_half_beats_array = fl.load( out_path/ '{}_t_half_beats.h5'.format(fish_id))\n",
    "    l_periods_array = fl.load( out_path/ '{}_l_full_beats.h5'.format(fish_id))\n",
    "    l_half_beats_array = fl.load( out_path/ '{}_l_half_beats.h5'.format(fish_id))\n",
    "    r_periods_array = fl.load( out_path/ '{}_r_full_beats.h5'.format(fish_id))\n",
    "    r_half_beats_array = fl.load( out_path/ '{}_r_half_beats.h5'.format(fish_id))\n",
    "\n",
    "    \n",
    "    ### Creating the dataframe\n",
    "    tails_ = bout_data['tailsums']\n",
    "    n_bouts = tail.shape[0]\n",
    "    \n",
    "    # create dataframe\n",
    "    df = pd.DataFrame()\n",
    "    df['exp'] =  [exp_name] * n_bouts\n",
    "    df['fish_id'] = [fish_id] * n_bouts\n",
    "    df['bout_angle'] = bout_data['body_angles_delta'][indices]\n",
    "    df['cluster'] = clusters = bout_data['cluster'][indices]\n",
    "    df['frame_start'] =  bout_data['bout_times'][:,0][indices]\n",
    "    df['frame_end'] = bout_data['bout_times'][:,1][indices]\n",
    "    df['bout_id_orig'] = indices\n",
    "\n",
    "    # Add all the filters\n",
    "    df['mb_proba'] = bout_data['mb_proba'][indices]\n",
    "    df['dlc_tracking_score'] =bout_data['dlc_filter'][indices]\n",
    "    df['edge_tracking_score'] = bout_data['edge_filter'][indices]\n",
    "\n",
    "    # Add the eyes\n",
    "    left_eye_angles = bout_data['eye_angles'][:,0,:]\n",
    "    right_eye_angles = bout_data['eye_angles'][:,1,:]\n",
    "    eye_rotation = bout_data['eye_rotation'] \n",
    "    eye_vergence = bout_data['eye_vergence']\n",
    "    max_eye_rot, max_eye_vergence = get_eye_max(eye_rotation, eye_vergence)\n",
    "    df['max_eye_rot'] =max_eye_rot[indices]\n",
    "    df['max_eye_vergence'] = max_eye_vergence[indices]\n",
    "\n",
    "    vigor_stats = np.zeros((tail.shape[0], 2))\n",
    "    \n",
    "\n",
    "    for i in range(tail.shape[0]):\n",
    "        vigor = compute_vigor(tail[i])\n",
    "        max_vig, med_vig = get_vigor_stats(vigor)\n",
    "        vigor_stats[i] = max_vig, med_vig\n",
    "    print (vigor_stats)\n",
    "        \n",
    "    df['tail_peak_vigor'] = vigor_stats[:,0]\n",
    "\n",
    "    l_fin_vigor_stats = np.zeros((l_fin.shape[0], 2))\n",
    "    r_fin_vigor_stats = np.zeros((l_fin.shape[0], 2))\n",
    "    \n",
    "    for i in range(l_fin.shape[0]):\n",
    "        l_fin_vigor = compute_vigor(l_fin[i]*-1)\n",
    "        max_vig, med_vig = get_vigor_stats(l_fin_vigor)\n",
    "        l_fin_vigor_stats[i] = max_vig, med_vig\n",
    "    \n",
    "        r_fin_vigor = compute_vigor(r_fin[i])\n",
    "        max_vig, med_vig = get_vigor_stats(r_fin_vigor)\n",
    "        r_fin_vigor_stats[i] = max_vig, med_vig\n",
    "\n",
    "    df['l_fin_peak_vigor'] = l_fin_vigor_stats[:,0]\n",
    "    df['r_fin_peak_vigor'] = r_fin_vigor_stats[:,0]\n",
    "    \n",
    "    corr, lags = compute_corr_lag(l_fin, r_fin)\n",
    "    df['fin_fin_corr'] = corr\n",
    "    df['fin_fin_lag'] = lags\n",
    "\n",
    "    df['ipsi_fin'] = ipsi_fin_id\n",
    "    df['tail_direction'] = laterality\n",
    "    df['leading_fin'] = leading_fin\n",
    "\n",
    "    l_max_amp = np.nanmax(l_peaks_a_array,axis=1)\n",
    "    r_max_amp = np.nanmax(r_peaks_a_array,axis=1)\n",
    "    df['l_max_amp'] = l_max_amp\n",
    "    df['r_max_amp'] = r_max_amp\n",
    "    \n",
    "    mean_freqs = np.nanmean(freqs, axis=2)\n",
    "    df['tail_freq'] = mean_freqs[0,:] \n",
    "    df['l_fin_freqs'] = mean_freqs[1,:]\n",
    "    df['r_fin_freqs'] = mean_freqs[2,:]\n",
    "    \n",
    "    df['tail_osc'] = osc[0]\n",
    "    df['l_osc'] = osc[1]\n",
    "    df['r_osc'] = osc[2]\n",
    "    \n",
    "    df['tail_duration'] = duration_t\n",
    "    df['t_start'] = start_t\n",
    "    df['t_end'] = end_t\n",
    "    \n",
    "    df['l_fin_duration'] = duration_l\n",
    "    df['l_start'] = start_l\n",
    "    df['l_end'] = end_l\n",
    "    \n",
    "    df['r_fin_duration'] = duration_r\n",
    "    df['r_start'] = start_r\n",
    "    df['r_end'] = end_r\n",
    "    \n",
    "    df.to_csv(Path(out_path /'{}_features.csv'.format(fish_id)), index=False)  \n",
    "\n",
    "# except:\n",
    "#     print ('no')\n",
    "#     pass\n"
   ]
  },
  {
   "cell_type": "code",
   "execution_count": null,
   "id": "f71e4c86-c3dd-4357-a29a-a1cc92a8cf10",
   "metadata": {},
   "outputs": [],
   "source": []
  },
  {
   "cell_type": "code",
   "execution_count": null,
   "id": "0a504ecb-6fc8-4039-8f6c-a66a06a59a6b",
   "metadata": {},
   "outputs": [],
   "source": []
  }
 ],
 "metadata": {
  "kernelspec": {
   "display_name": "Python 3 (ipykernel)",
   "language": "python",
   "name": "python3"
  },
  "language_info": {
   "codemirror_mode": {
    "name": "ipython",
    "version": 3
   },
   "file_extension": ".py",
   "mimetype": "text/x-python",
   "name": "python",
   "nbconvert_exporter": "python",
   "pygments_lexer": "ipython3",
   "version": "3.11.5"
  }
 },
 "nbformat": 4,
 "nbformat_minor": 5
}
