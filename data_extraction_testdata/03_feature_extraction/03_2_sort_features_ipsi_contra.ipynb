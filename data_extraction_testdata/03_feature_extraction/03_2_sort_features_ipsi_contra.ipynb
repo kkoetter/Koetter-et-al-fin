{
 "cells": [
  {
   "cell_type": "code",
   "execution_count": 1,
   "id": "12c493a6",
   "metadata": {},
   "outputs": [],
   "source": [
    "%load_ext autoreload\n",
    "%autoreload 2\n",
    "import warnings\n",
    "warnings.filterwarnings('ignore')\n"
   ]
  },
  {
   "cell_type": "code",
   "execution_count": 2,
   "id": "e6efbb4c",
   "metadata": {},
   "outputs": [],
   "source": [
    "import os\n",
    "import json\n",
    "\n",
    "# Data Wrangling\n",
    "import h5py\n",
    "import numpy as np\n",
    "import pandas as pd\n",
    "from pathlib import Path\n",
    "import matplotlib.pyplot as plt\n",
    "import glob\n",
    "import flammkuchen as fl\n",
    "import shutil\n",
    "\n",
    "import seaborn as sns\n",
    "import matplotlib as mpl\n",
    "\n",
    "from tqdm import tqdm"
   ]
  },
  {
   "cell_type": "markdown",
   "id": "20c9d10b-6bcd-42a6-8abf-3a77adc5645e",
   "metadata": {},
   "source": [
    "## Custom functions from helper file"
   ]
  },
  {
   "cell_type": "code",
   "execution_count": 13,
   "id": "9d1ccfa9-20fe-4daa-a074-8e30da2f58b9",
   "metadata": {},
   "outputs": [],
   "source": [
    "def sort_ipsi_contra_arrays(array1, array2, ipsi_indicator):\n",
    "    # Determine ipsilateral and contralateral\n",
    "    \"\"\"\n",
    "    ipsi_fin = 0, left fin is ipsi, \n",
    "    ipsi_fin = 1, right fin is ipsi_fin,\n",
    "    \"\"\"\n",
    "    ipsi_fin = np.full(array1.shape[0], np.nan)\n",
    "    contra_fin = np.full(array2.shape[0], np.nan)\n",
    "\n",
    "    for i, dir_value in enumerate(ipsi_indicator):\n",
    "        if dir_value == 0:  # Left \n",
    "            ipsi_fin[i] = array1[i]\n",
    "            contra_fin[i] = array2[i]\n",
    "        elif dir_value == 1:  # Right\n",
    "            ipsi_fin[i] = array2[i]\n",
    "            contra_fin[i] = array1[i]\n",
    "    return ipsi_fin, contra_fin\n",
    "\n",
    "\n",
    "def get_ipsi_contra_col(df, col1, col2, ipsi_indicator_col):\n",
    "    \"\"\"\n",
    "    Function to separate ipsilateral and contralateral fin durations.\n",
    "\n",
    "    Parameters:\n",
    "    df (pd.DataFrame): The DataFrame containing the data.\n",
    "    col1 (str): The name of the first duration column (e.g., 'l_fin_duration').\n",
    "    col2 (str): The name of the second duration column (e.g., 'r_fin_duration').\n",
    "    ipsi_indicator_col (str): The name of the column indicating which fin is ipsi (0 for col1, 1 for col2).\n",
    "\n",
    "    Returns:\n",
    "    np.ndarray: Array of ipsilateral fin durations.\n",
    "    np.ndarray: Array of contralateral fin durations.\n",
    "    \"\"\"\n",
    "    # Determine ipsilateral and contralateral durations\n",
    "    ipsi_fin_col = np.where(df[ipsi_indicator_col] == 0, df[col1], df[col2])\n",
    "    contra_fin_col = np.where(df[ipsi_indicator_col] == 0, df[col2], df[col1])\n",
    "    \n",
    "    return ipsi_fin_col, contra_fin_col"
   ]
  },
  {
   "cell_type": "markdown",
   "id": "0085bf52",
   "metadata": {},
   "source": [
    "## Read in Data"
   ]
  },
  {
   "cell_type": "code",
   "execution_count": 29,
   "id": "7856c41e",
   "metadata": {},
   "outputs": [
    {
     "data": {
      "text/plain": [
       "[WindowsPath('//portulab.synology.me/data/Kata/Data/14052024_visstim_2D_round/240514_f0'),\n",
       " WindowsPath('//portulab.synology.me/data/Kata/Data/14052024_visstim_2D_round/240514_f1'),\n",
       " WindowsPath('//portulab.synology.me/data/Kata/Data/14052024_visstim_2D_round/240514_f2'),\n",
       " WindowsPath('//portulab.synology.me/data/Kata/Data/14052024_visstim_2D_round/240514_f3'),\n",
       " WindowsPath('//portulab.synology.me/data/Kata/Data/14052024_visstim_2D_round/240514_f4'),\n",
       " WindowsPath('//portulab.synology.me/data/Kata/Data/14052024_visstim_2D_round/240514_f5'),\n",
       " WindowsPath('//portulab.synology.me/data/Kata/Data/14052024_visstim_2D_round/240514_f6'),\n",
       " WindowsPath('//portulab.synology.me/data/Kata/Data/14052024_visstim_2D_round/240514_f7'),\n",
       " WindowsPath('//portulab.synology.me/data/Kata/Data/14052024_visstim_2D_round/240514_f8'),\n",
       " WindowsPath('//portulab.synology.me/data/Kata/Data/14052024_visstim_2D_round/240514_f9')]"
      ]
     },
     "execution_count": 29,
     "metadata": {},
     "output_type": "execute_result"
    }
   ],
   "source": [
    "# master_path = Path(r'\\\\portulab.synology.me\\data\\Kata\\testdata\\Raw_Data')\n",
    "\n",
    "\n",
    "# master_path = Path(r\"\\\\portulab.synology.me\\data\\Kata\\Data\\230307_visstim_2D\") #rectangular arena # start from fish 1\n",
    "# master_path = Path(r\"\\\\portulab.synology.me\\data\\Kata\\Data\\22042024_visstim_2D_round\")\n",
    "# master_path = Path(r\"\\\\portulab.synology.me\\data\\Kata\\Data\\22042024_visstim_2D_2\") #rectangular arena\n",
    "# master_path = Path(r\"\\\\portulab.synology.me\\data\\Kata\\Data\\13052024_visstim_2D_round\")\n",
    "master_path = Path(r\"\\\\portulab.synology.me\\data\\Kata\\Data\\14052024_visstim_2D_round\")\n",
    "\n",
    "fish_paths = list(master_path.glob('*f[0-9]*'))\n",
    "fish_paths"
   ]
  },
  {
   "cell_type": "code",
   "execution_count": 30,
   "id": "534c2877-6060-476f-b9e6-00345a127aaf",
   "metadata": {},
   "outputs": [
    {
     "data": {
      "text/plain": [
       "('240514_f3', '14052024_visstim_2D_round')"
      ]
     },
     "execution_count": 30,
     "metadata": {},
     "output_type": "execute_result"
    }
   ],
   "source": [
    "fish= 3\n",
    "fish_id =  fish_paths[fish].name\n",
    "exp_name = Path(fish_paths[fish]).parts[-2]\n",
    "# exp_name = 'testfish'\n",
    "fish_id, exp_name\n"
   ]
  },
  {
   "cell_type": "code",
   "execution_count": 31,
   "id": "9d13fbeb-7eac-4a2f-bf0d-49a299e4db16",
   "metadata": {},
   "outputs": [],
   "source": [
    "# out_path = Path(r'\\\\portulab.synology.me\\data\\Kata\\testdata\\Processed_Data')\n",
    "## Analysed for paper\n",
    "\n",
    "# out_path = Path(r\"\\\\portulab.synology.me\\data\\Kata\\Processed_Data\\230307_visstim_2D_\")\n",
    "# out_path = Path(r\"\\\\portulab.synology.me\\data\\Kata\\Processed_Data\\22042024_visstim_2D_round_\")\n",
    "# out_path = Path(r\"\\\\portulab.synology.me\\data\\Kata\\Processed_Data\\22042024_visstim_2D_2_\")\n",
    "# out_path = Path(r\"\\\\portulab.synology.me\\data\\Kata\\Processed_Data\\13052024_visstim_2D_round_\")\n",
    "out_path = Path(r\"\\\\portulab.synology.me\\data\\Kata\\Processed_Data\\14052024_visstim_2D_round_\")\n",
    "\n",
    "save_data_path = out_path"
   ]
  },
  {
   "cell_type": "markdown",
   "id": "380f8e92-1af4-4df1-abbd-b6e7d43f0bfd",
   "metadata": {},
   "source": [
    "## Loop"
   ]
  },
  {
   "cell_type": "code",
   "execution_count": 32,
   "id": "f33cd735-e392-4e29-9b3f-813942589d94",
   "metadata": {},
   "outputs": [],
   "source": [
    "cols = [\n",
    "    ['l_fin_peak_vigor','r_fin_peak_vigor'],\n",
    "    ['l_fin_freqs','r_fin_freqs'],\n",
    "    ['l_osc', 'r_osc'],\n",
    "    ['l_fin_duration', 'r_fin_duration'],\n",
    "    ['l_max_amp', 'r_max_amp']\n",
    "    # todo slopes add\n",
    "]"
   ]
  },
  {
   "cell_type": "code",
   "execution_count": 33,
   "id": "56bf59be-4f93-49b8-a1ff-0ce6df44208b",
   "metadata": {},
   "outputs": [
    {
     "name": "stderr",
     "output_type": "stream",
     "text": [
      " 30%|████████████████████████▉                                                          | 3/10 [00:00<00:00, 27.03it/s]"
     ]
    },
    {
     "name": "stdout",
     "output_type": "stream",
     "text": [
      "Working on fish 240514_f0\n",
      "Working on fish 240514_f1\n",
      "Working on fish 240514_f2\n",
      "Working on fish 240514_f3\n",
      "Working on fish 240514_f4\n"
     ]
    },
    {
     "name": "stderr",
     "output_type": "stream",
     "text": [
      " 60%|█████████████████████████████████████████████████▊                                 | 6/10 [00:00<00:00, 24.51it/s]"
     ]
    },
    {
     "name": "stdout",
     "output_type": "stream",
     "text": [
      "Working on fish 240514_f5\n",
      "Working on fish 240514_f6\n",
      "Working on fish 240514_f7\n",
      "Working on fish 240514_f8\n"
     ]
    },
    {
     "name": "stderr",
     "output_type": "stream",
     "text": [
      "100%|██████████████████████████████████████████████████████████████████████████████████| 10/10 [00:00<00:00, 19.88it/s]"
     ]
    },
    {
     "name": "stdout",
     "output_type": "stream",
     "text": [
      "Working on fish 240514_f9\n"
     ]
    },
    {
     "name": "stderr",
     "output_type": "stream",
     "text": [
      "\n"
     ]
    }
   ],
   "source": [
    "for ind, fish_path in enumerate(tqdm(fish_paths)):\n",
    "    fish_id =  fish_path.name\n",
    "    print ('Working on fish {}'.format(fish_id))\n",
    "\n",
    "    try:\n",
    "        df = pd.read_csv(Path(out_path /'{}_features.csv'.format(fish_id)))  \n",
    "        ipsi_fin = df.ipsi_fin\n",
    "        ipsi_peak_vigor, contra_peak_vigor = get_ipsi_contra_col(df, 'l_fin_peak_vigor', 'r_fin_peak_vigor', 'ipsi_fin')\n",
    "        ipsi_freqs, contra_freqs = get_ipsi_contra_col(df, 'l_fin_freqs', 'r_fin_freqs', 'ipsi_fin')\n",
    "        ipsi_osc, contra_osc = get_ipsi_contra_col(df, 'l_osc', 'r_osc', 'ipsi_fin')\n",
    "        ipsi_duration, contra_duration = get_ipsi_contra_col(df, 'l_fin_duration', 'r_fin_duration', 'ipsi_fin')\n",
    "        ipsi_amp, contra_amp = get_ipsi_contra_col(df, 'l_max_amp', 'r_max_amp', 'ipsi_fin')\n",
    "\n",
    "        df['ipsi_peak_vigor'] = ipsi_peak_vigor\n",
    "        df['contra_peak_vigor'] = contra_peak_vigor\n",
    "        df['ipsi_freqs'] = ipsi_freqs\n",
    "        df['contra_freqs'] = contra_freqs\n",
    "        df['ipsi_osc'] = ipsi_osc\n",
    "        df['contra_osc'] = contra_osc\n",
    "        df['ipsi_duration'] = ipsi_duration\n",
    "        df['contra_duration'] = contra_duration\n",
    "        df['ipsi_amp'] = ipsi_amp\n",
    "        df['contra_amp'] = contra_amp\n",
    "\n",
    "        df.to_csv(Path(out_path /'{}_features_ipsi_contra.csv'.format(fish_id)), index=False)  \n",
    "    except:\n",
    "        pass\n"
   ]
  },
  {
   "cell_type": "code",
   "execution_count": null,
   "id": "3a0296d1-5591-4b82-81b0-837cf6a2888b",
   "metadata": {},
   "outputs": [],
   "source": []
  },
  {
   "cell_type": "code",
   "execution_count": null,
   "id": "3b0e4cd7-5b0e-4525-8eac-724d34ce5da5",
   "metadata": {},
   "outputs": [],
   "source": []
  },
  {
   "cell_type": "code",
   "execution_count": null,
   "id": "31ef6f65-c0ec-426f-922b-88e3d0b29fef",
   "metadata": {},
   "outputs": [],
   "source": []
  },
  {
   "cell_type": "code",
   "execution_count": null,
   "id": "1f060ecd-cf6a-4958-a830-5c58d7bfb431",
   "metadata": {},
   "outputs": [],
   "source": []
  },
  {
   "cell_type": "code",
   "execution_count": null,
   "id": "adcf8241-5b7c-4ed2-953f-fa55260033ca",
   "metadata": {},
   "outputs": [],
   "source": []
  },
  {
   "cell_type": "code",
   "execution_count": null,
   "id": "633d3e99-7e8c-4c41-b25c-effb9efc9c68",
   "metadata": {},
   "outputs": [],
   "source": []
  }
 ],
 "metadata": {
  "kernelspec": {
   "display_name": "Python 3 (ipykernel)",
   "language": "python",
   "name": "python3"
  },
  "language_info": {
   "codemirror_mode": {
    "name": "ipython",
    "version": 3
   },
   "file_extension": ".py",
   "mimetype": "text/x-python",
   "name": "python",
   "nbconvert_exporter": "python",
   "pygments_lexer": "ipython3",
   "version": "3.11.10"
  }
 },
 "nbformat": 4,
 "nbformat_minor": 5
}
