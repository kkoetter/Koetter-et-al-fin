{
 "cells": [
  {
   "cell_type": "code",
   "execution_count": 1,
   "id": "6c9db560",
   "metadata": {},
   "outputs": [],
   "source": [
    "%load_ext autoreload\n",
    "%autoreload 2\n",
    "import warnings\n",
    "warnings.filterwarnings('ignore')"
   ]
  },
  {
   "cell_type": "code",
   "execution_count": 2,
   "id": "13211d13",
   "metadata": {},
   "outputs": [],
   "source": [
    "# Data Wrangling\n",
    "import numpy as np\n",
    "import pandas as pd\n",
    "from pathlib import Path\n",
    "import glob\n",
    "import os\n",
    "import flammkuchen as fl\n"
   ]
  },
  {
   "cell_type": "markdown",
   "id": "126d6fa2-40ed-4179-b2dc-7ed308169c25",
   "metadata": {},
   "source": [
    "## Setup paths"
   ]
  },
  {
   "cell_type": "code",
   "execution_count": 3,
   "id": "0f9f3d2b-9219-484c-a598-6e8884c758e3",
   "metadata": {},
   "outputs": [],
   "source": [
    "# save_data_path = Path(r\"\\\\portulab.synology.me\\data\\Kata\\Processed_Data\\tracking_assessment\")\n",
    "\n",
    "# save_data_path = Path(r'\\\\portulab.synology.me\\data\\Kata\\testdata\\Processed_Data')\n",
    "# save_data_path"
   ]
  },
  {
   "cell_type": "code",
   "execution_count": 24,
   "id": "617710c3-2ff8-4b7e-b8bf-3e0cb812d491",
   "metadata": {},
   "outputs": [
    {
     "data": {
      "text/plain": [
       "[WindowsPath('//portulab.synology.me/data/Kata/Data/14052024_visstim_2D_round/240514_f0'),\n",
       " WindowsPath('//portulab.synology.me/data/Kata/Data/14052024_visstim_2D_round/240514_f1'),\n",
       " WindowsPath('//portulab.synology.me/data/Kata/Data/14052024_visstim_2D_round/240514_f2'),\n",
       " WindowsPath('//portulab.synology.me/data/Kata/Data/14052024_visstim_2D_round/240514_f3'),\n",
       " WindowsPath('//portulab.synology.me/data/Kata/Data/14052024_visstim_2D_round/240514_f4'),\n",
       " WindowsPath('//portulab.synology.me/data/Kata/Data/14052024_visstim_2D_round/240514_f5'),\n",
       " WindowsPath('//portulab.synology.me/data/Kata/Data/14052024_visstim_2D_round/240514_f6'),\n",
       " WindowsPath('//portulab.synology.me/data/Kata/Data/14052024_visstim_2D_round/240514_f7'),\n",
       " WindowsPath('//portulab.synology.me/data/Kata/Data/14052024_visstim_2D_round/240514_f8'),\n",
       " WindowsPath('//portulab.synology.me/data/Kata/Data/14052024_visstim_2D_round/240514_f9')]"
      ]
     },
     "execution_count": 24,
     "metadata": {},
     "output_type": "execute_result"
    }
   ],
   "source": [
    "# master_path = Path(r\"\\\\portulab.synology.me\\data\\Kata\\Data\\230307_visstim_2D\")\n",
    "# master_path = Path(r\"\\\\portulab.synology.me\\data\\Kata\\Data\\22042024_visstim_2D_round\")\n",
    "# master_path = Path(r\"\\\\portulab.synology.me\\data\\Kata\\Data\\22042024_visstim_2D_2\")\n",
    "# master_path = Path(r\"\\\\portulab.synology.me\\data\\Kata\\Data\\13052024_visstim_2D_round\")\n",
    "master_path = Path(r\"\\\\portulab.synology.me\\data\\Kata\\Data\\14052024_visstim_2D_round\")\n",
    "\n",
    "# master_path = Path(r'\\\\portulab.synology.me\\data\\Kata\\testdata\\Raw_Data')\n",
    "\n",
    "fish_paths = list(master_path.glob('*f[0-9]*'))\n",
    "fish_paths"
   ]
  },
  {
   "cell_type": "code",
   "execution_count": 25,
   "id": "863348d3-f66a-49b8-a6d9-1945d4cc9d73",
   "metadata": {},
   "outputs": [
    {
     "data": {
      "text/plain": [
       "'14052024_visstim_2D_round'"
      ]
     },
     "execution_count": 25,
     "metadata": {},
     "output_type": "execute_result"
    }
   ],
   "source": [
    "fish = 1\n",
    "fish_path = fish_paths[fish]\n",
    "exp_name = Path(fish_path).parts[-2] \n",
    "# exp_name = 'testfish'\n",
    "exp_name"
   ]
  },
  {
   "cell_type": "code",
   "execution_count": 26,
   "id": "c4edf923-e07d-4999-942d-94a888e9f373",
   "metadata": {},
   "outputs": [],
   "source": [
    "# out_path = Path(r\"\\\\portulab.synology.me\\data\\Kata\\Processed_Data\\230307_visstim_2D_\")\n",
    "# out_path = Path(r\"\\\\portulab.synology.me\\data\\Kata\\Processed_Data\\22042024_visstim_2D_round_\")\n",
    "# out_path = Path(r\"\\\\portulab.synology.me\\data\\Kata\\Processed_Data\\22042024_visstim_2D_2_\")\n",
    "# out_path = Path(r\"\\\\portulab.synology.me\\data\\Kata\\Processed_Data\\13052024_visstim_2D_round_\")\n",
    "out_path = Path(r\"\\\\portulab.synology.me\\data\\Kata\\Processed_Data\\14052024_visstim_2D_round_\")\n",
    "\n",
    "# out_path = Path(r'\\\\portulab.synology.me\\data\\Kata\\testdata\\Processed_Data')\n",
    "\n",
    "\n",
    "save_data_path = out_path"
   ]
  },
  {
   "cell_type": "markdown",
   "id": "7164e366-ee96-46e1-8339-e5e510bb3928",
   "metadata": {},
   "source": [
    "## Calculate IBI for all fish"
   ]
  },
  {
   "cell_type": "code",
   "execution_count": 27,
   "id": "60f15eeb-d945-4c59-9c7b-793dfeea7060",
   "metadata": {},
   "outputs": [
    {
     "name": "stdout",
     "output_type": "stream",
     "text": [
      "240514_f0\n",
      "240514_f1\n",
      "240514_f2\n",
      "240514_f3\n",
      "240514_f4\n",
      "240514_f5\n",
      "240514_f6\n",
      "240514_f7\n",
      "240514_f8\n",
      "240514_f9\n"
     ]
    }
   ],
   "source": [
    "thr =0.95\n",
    "ibis_ = []\n",
    "\n",
    "for path in fish_paths:\n",
    "    fish_id = path.name\n",
    "    print (fish_id)\n",
    "    try:\n",
    "        dlc_path_ = Path(out_path/ '{}_DLC_mod.csv'.format(fish_id)) \n",
    "        df_dlc = pd.read_csv(dlc_path_, header=[0,1])\n",
    "        mask = df_dlc.body.likelihood >=thr\n",
    "        \n",
    "        # get bout starts\n",
    "        data_path = list(out_path.glob('*{}_megabouts_res.h5*'.format(fish_id)))[0]\n",
    "        data= fl.load(data_path)\n",
    "        data = data['data']\n",
    "        \n",
    "        # get bout starts\n",
    "        data_path_2 = list(out_path.glob('*{}_bout_data.h5*'.format(fish_id)))[0]\n",
    "        data_2= fl.load(data_path_2)\n",
    "    \n",
    "        on = data['segments_on']\n",
    "        off =data['segments_off']\n",
    "        print (on.shape[0])\n",
    "    \n",
    "        ibi = []\n",
    "        for i in range(on.shape[0]-1):\n",
    "            ibi.append(df_dlc.t.iloc[on[i+1]][0] - df_dlc.t.iloc[off[i]][0])\n",
    "    \n",
    "        ibi=np.asarray(ibi)\n",
    "        ## do calculations and save  \n",
    "        ### just distances in active tracking episodes\n",
    "        exp_time = np.arange(0, df_dlc.shape[0], 1)\n",
    "        start_frames = data_2['bout_times'][:, 0]  # fetch all start frames from bout_times\n",
    "        masked_exp_time = exp_time[mask==True]\n",
    "        \n",
    "        # Now, check which start frames are in masked_exp_time\n",
    "        start_frames_in_mask = np.isin(start_frames, masked_exp_time)\n",
    "        print(ibi.shape, start_frames_in_mask.shape)\n",
    "    \n",
    "        if ibi.shape[0] != start_frames_in_mask.shape[0]:\n",
    "            ibi_tracking = ibi[start_frames_in_mask[:-1]]\n",
    "        else: \n",
    "            ibi_tracking = ibi[start_frames_in_mask]\n",
    "        fl.save(out_path/ '{}_ibi.h5'.format(fish_id), ibi_tracking)\n",
    "        ibis_.append(ibi_tracking)\n",
    "    except:\n",
    "        pass\n",
    "\n",
    "fl.save(save_data_path/ '{}_ibi_pooled.h5'.format(exp_name), ibis_)\n"
   ]
  },
  {
   "cell_type": "code",
   "execution_count": null,
   "id": "e53f53f7-3ccb-42ea-840d-687adbd2e3eb",
   "metadata": {},
   "outputs": [],
   "source": []
  },
  {
   "cell_type": "code",
   "execution_count": null,
   "id": "99b72ee2-8c93-4f2a-8fc2-36a8cbb99fca",
   "metadata": {},
   "outputs": [],
   "source": []
  },
  {
   "cell_type": "code",
   "execution_count": null,
   "id": "8a9b173f-eb02-4ecb-b2eb-b24f4f306a4b",
   "metadata": {},
   "outputs": [],
   "source": []
  },
  {
   "cell_type": "code",
   "execution_count": null,
   "id": "fe0e7d9b-a385-430e-9bcf-7cde256ba9fa",
   "metadata": {},
   "outputs": [],
   "source": []
  },
  {
   "cell_type": "code",
   "execution_count": null,
   "id": "5c6cc642-4d48-445b-ad6a-586a878504ea",
   "metadata": {},
   "outputs": [],
   "source": []
  },
  {
   "cell_type": "code",
   "execution_count": null,
   "id": "456d92a7-a404-402e-a6e1-90b9c14eea2a",
   "metadata": {},
   "outputs": [],
   "source": []
  },
  {
   "cell_type": "code",
   "execution_count": null,
   "id": "86836fbd-e842-44be-ae3e-9cbda807d7f1",
   "metadata": {},
   "outputs": [],
   "source": []
  },
  {
   "cell_type": "code",
   "execution_count": null,
   "id": "75af406e-b028-4eb4-b939-86ad57c9c444",
   "metadata": {},
   "outputs": [],
   "source": []
  },
  {
   "cell_type": "code",
   "execution_count": null,
   "id": "bf26984e-6bcb-4fb6-9f9a-bb1ef66693c6",
   "metadata": {},
   "outputs": [],
   "source": []
  },
  {
   "cell_type": "code",
   "execution_count": null,
   "id": "11ce687f-fbc9-4f86-99ce-5369b31e12fd",
   "metadata": {},
   "outputs": [],
   "source": []
  },
  {
   "cell_type": "code",
   "execution_count": null,
   "id": "09d1d070-3b5a-4f5d-8d76-1a2ee9284a09",
   "metadata": {},
   "outputs": [],
   "source": []
  },
  {
   "cell_type": "code",
   "execution_count": null,
   "id": "98d5568a-38c5-452c-a7e7-fd69b3d4bc53",
   "metadata": {},
   "outputs": [],
   "source": []
  },
  {
   "cell_type": "code",
   "execution_count": null,
   "id": "ebca7ec0-5319-47de-a6e8-1e83a8bc29a5",
   "metadata": {},
   "outputs": [],
   "source": []
  }
 ],
 "metadata": {
  "kernelspec": {
   "display_name": "Python 3 (ipykernel)",
   "language": "python",
   "name": "python3"
  },
  "language_info": {
   "codemirror_mode": {
    "name": "ipython",
    "version": 3
   },
   "file_extension": ".py",
   "mimetype": "text/x-python",
   "name": "python",
   "nbconvert_exporter": "python",
   "pygments_lexer": "ipython3",
   "version": "3.11.10"
  }
 },
 "nbformat": 4,
 "nbformat_minor": 5
}
