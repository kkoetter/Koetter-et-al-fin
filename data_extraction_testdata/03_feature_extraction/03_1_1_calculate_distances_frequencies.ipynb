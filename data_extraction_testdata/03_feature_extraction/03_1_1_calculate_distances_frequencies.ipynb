{
 "cells": [
  {
   "cell_type": "code",
   "execution_count": 1,
   "id": "e7d1e166-0617-4aea-b72a-3a9a3ec84100",
   "metadata": {},
   "outputs": [],
   "source": [
    "%load_ext autoreload\n",
    "%autoreload 2\n",
    "import warnings\n",
    "warnings.filterwarnings('ignore')"
   ]
  },
  {
   "cell_type": "code",
   "execution_count": 2,
   "id": "503417ab-f158-4c9f-9744-ffd2f627316b",
   "metadata": {},
   "outputs": [],
   "source": [
    "import os\n",
    "import json\n",
    "\n",
    "# Data Wrangling\n",
    "import h5py\n",
    "import numpy as np\n",
    "import pandas as pd\n",
    "from pathlib import Path\n",
    "import glob\n",
    "import matplotlib.pyplot as plt\n",
    "import tables\n",
    "import flammkuchen as fl\n",
    "import seaborn as sns"
   ]
  },
  {
   "cell_type": "markdown",
   "id": "ec84b34c-3a94-426f-bce9-f6dae12c61e4",
   "metadata": {},
   "source": [
    "#### distance estimate \n",
    "\n",
    "    from BEATS paper: Solution to distance estimation: ”distance traveled per bout: The change in head position per bout was calculated by averaging the position of the fish head in the arena over all frames in the preceding interbout epoch (starting position) and also for the frames in the following interbout epoch (ending position). The distance between these two points is the distance traveled per bout.” → approximation by interbouts \n",
    "\n",
    "\n",
    "    To estimate the distance traveled by a fish during its movements, you need to calculate the distance moved during each episode. Given the timestamps of when each movement started and stopped (data['bout_times']), and the coordinates (m_x_lists, m_y_lists), you can calculate the distance traveled during each movement bout.\n",
    "\n",
    "Here's a step-by-step process to achieve this:\n",
    "\n",
    "    Extract the start and stop times for each movement bout.\n",
    "    For each movement bout, extract the corresponding coordinates from m_x_lists and m_y_lists.\n",
    "    Calculate the distance traveled during each bout using the Euclidean distance formula.\n",
    "    Sum up the distances for each bout to get the total distance traveled.\n"
   ]
  },
  {
   "cell_type": "code",
   "execution_count": 3,
   "id": "14dfb454-5e77-4f4c-a5c9-be9861bacd91",
   "metadata": {},
   "outputs": [],
   "source": [
    "def calculate_distance_traveled(data, m_x_list, m_y_list):\n",
    "    \"\"\"\n",
    "    Calculate the straight-line distance from start to end of each bout.\n",
    " \n",
    "    Parameters:\n",
    "    - data: dict containing 'bout_times' with shape (trials, 2) indicating start and stop frames of movements.\n",
    "    - m_x_lists: list of arrays containing x coordinates.\n",
    "    - m_y_lists: list of arrays containing y coordinates.\n",
    " \n",
    "    Returns:\n",
    "    - distances: list of floats representing the straight-line distance from start to end of each bout.\n",
    "    \"\"\"\n",
    "    # Initialize a list to store the distances for each bout\n",
    "    distances = []\n",
    "\n",
    "    # Iterate over each trial (movement bout)\n",
    "    for i, (start, stop) in enumerate(data['bout_times']):\n",
    "        # Extract the start and end coordinates for the current bout\n",
    "        start_x = m_x_list[start]\n",
    "        start_y = m_y_list[start]\n",
    "        end_x = m_x_list[stop]\n",
    "        end_y = m_y_list[stop]\n",
    "\n",
    "        # Calculate the straight-line distance from start to end of the bout\n",
    "        dx = end_x - start_x\n",
    "        dy = end_y - start_y\n",
    "        bout_distance = np.sqrt(dx**2 + dy**2)\n",
    "\n",
    "        # Append the calculated distance to the list\n",
    "        distances.append(bout_distance)\n",
    "\n",
    "    return distances\n",
    "\n"
   ]
  },
  {
   "cell_type": "markdown",
   "id": "d06ae8f5-bd76-4529-81c5-4f619a463549",
   "metadata": {},
   "source": [
    "### Bout freq\n",
    "\n",
    "To calculate the frequency at which the fish initiated a movement over the entire experiment, you need to determine how many times the fish started moving and divide that by the total duration of the experiment.\n",
    "\n",
    "Here's how you can achieve this:\n",
    "\n",
    "    Determine the Number of Movements: Count the number of movement episodes (i.e., rows in data['bout_times']).\n",
    "    Calculate the Total Duration of the Experiment: This is given as m_x_lists[0].shape[0] in frames.\n",
    "    Compute the Frequency: Divide the number of movements by the total duration in frames to get the frequency of movement initiation.\n"
   ]
  },
  {
   "cell_type": "code",
   "execution_count": 4,
   "id": "a901636e-bcfc-4141-a776-66b522d1f742",
   "metadata": {},
   "outputs": [],
   "source": [
    "def calculate_movement_frequency(data, m_x_list, frame_rate=200):\n",
    "    \"\"\"\n",
    "    Calculate the frequency of movement initiation in Hertz.\n",
    "\n",
    "    Parameters:\n",
    "    - data: dict containing 'bout_times' with shape (trials, 2) indicating start and stop frames of movements.\n",
    "    - m_x_lists: list of arrays containing x coordinates (to get the total duration of the experiment).\n",
    "    - frame_rate: integer indicating the frame rate of the experiment in frames per second.\n",
    "\n",
    "    Returns:\n",
    "    - frequency_hz: float representing the frequency of movement initiation in Hertz (movements per second).\n",
    "    \"\"\"\n",
    "    # Step 1: Number of movements\n",
    "    num_movements = data.shape[0]\n",
    "\n",
    "    # Step 2: Total duration of the experiment in frames\n",
    "    total_frames = m_x_list.shape[0]\n",
    "\n",
    "    # Step 3: Calculate the total duration in seconds\n",
    "    total_duration_seconds = total_frames / frame_rate\n",
    "\n",
    "    # Step 4: Calculate the frequency of movement initiation in Hz\n",
    "    frequency_hz = num_movements / total_duration_seconds\n",
    "\n",
    "    return frequency_hz\n"
   ]
  },
  {
   "cell_type": "code",
   "execution_count": 5,
   "id": "46bb921e-0f48-4a86-96e9-31b851024b12",
   "metadata": {},
   "outputs": [],
   "source": [
    "def midpoint(x1, y1, x2, y2):\n",
    "    return ((x1 + x2)/2, (y1 + y2)/2)\n",
    "\n",
    "def mid_head(df):\n",
    "    right_eye_posterior_x =  df['right_eye_posterior'].values[:, 0].astype('float')\n",
    "    right_eye_posterior_y =  df['right_eye_posterior'].values[:, 1].astype('float')\n",
    "    right_eye_anterior_x =  df['right_eye_anterior'].values[:, 0].astype('float')\n",
    "    right_eye_anterior_y =  df['right_eye_anterior'].values[:, 1].astype('float')\n",
    "\n",
    "    left_eye_posterior_x =  df['left_eye_posterior'].values[:, 0].astype('float')\n",
    "    left_eye_posterior_y =  df['left_eye_posterior'].values[:, 1].astype('float')\n",
    "    left_eye_anterior_x =   df['left_eye_anterior'].values[:, 0].astype('float')\n",
    "    left_eye_anterior_y =   df['left_eye_anterior'].values[:, 1].astype('float')\n",
    "\n",
    "    left_mid_eye_y = (left_eye_anterior_y+left_eye_posterior_y)/2\n",
    "    left_mid_eye_x = (left_eye_anterior_x+left_eye_posterior_x)/2\n",
    "\n",
    "    right_mid_eye_x = (right_eye_anterior_x+right_eye_posterior_x)/2\n",
    "    right_mid_eye_y = (right_eye_anterior_y+right_eye_posterior_y)/2\n",
    "\n",
    "    mid_headx, mid_heady = midpoint(left_mid_eye_x,left_mid_eye_y, right_mid_eye_x, right_mid_eye_y) #xy left, xy right\n",
    "\n",
    "    return mid_headx, mid_heady, left_mid_eye_x, left_mid_eye_y, right_mid_eye_x, right_mid_eye_y\n",
    "\n",
    "def calculate_distance(origin, points):\n",
    "    origin = np.array(origin)\n",
    "    points = np.array(points)\n",
    "    \n",
    "    if points.ndim == 1: # if 'points' is a 1D array, convert it to 2D\n",
    "        points = points[np.newaxis, :]\n",
    "    \n",
    "    distances = np.sqrt(np.sum((points - origin)**2, axis=1)) # compute the distance\n",
    "    return distances"
   ]
  },
  {
   "cell_type": "markdown",
   "id": "285854fb-098b-4d27-81a7-426a4fdda343",
   "metadata": {},
   "source": [
    "## Set paths"
   ]
  },
  {
   "cell_type": "code",
   "execution_count": 6,
   "id": "a7edf46d-48cc-495c-bbee-50770e41556f",
   "metadata": {},
   "outputs": [
    {
     "data": {
      "text/plain": [
       "WindowsPath('//portulab.synology.me/data/Kata/Processed_Data/tracking_assessment')"
      ]
     },
     "execution_count": 6,
     "metadata": {},
     "output_type": "execute_result"
    }
   ],
   "source": [
    "save_data_path = Path(r\"\\\\portulab.synology.me\\data\\Kata\\Processed_Data\\tracking_assessment\")\n",
    "\n",
    "# save_data_path = Path(r'\\\\portulab.synology.me\\data\\Kata\\testdata\\Processed_Data')\n",
    "save_data_path"
   ]
  },
  {
   "cell_type": "code",
   "execution_count": 22,
   "id": "88843780-0c62-4a97-9bc3-4f13aedf8776",
   "metadata": {},
   "outputs": [
    {
     "data": {
      "text/plain": [
       "[WindowsPath('//portulab.synology.me/data/Kata/Data/14052024_visstim_2D_round/240514_f0'),\n",
       " WindowsPath('//portulab.synology.me/data/Kata/Data/14052024_visstim_2D_round/240514_f1'),\n",
       " WindowsPath('//portulab.synology.me/data/Kata/Data/14052024_visstim_2D_round/240514_f2'),\n",
       " WindowsPath('//portulab.synology.me/data/Kata/Data/14052024_visstim_2D_round/240514_f3'),\n",
       " WindowsPath('//portulab.synology.me/data/Kata/Data/14052024_visstim_2D_round/240514_f4'),\n",
       " WindowsPath('//portulab.synology.me/data/Kata/Data/14052024_visstim_2D_round/240514_f5'),\n",
       " WindowsPath('//portulab.synology.me/data/Kata/Data/14052024_visstim_2D_round/240514_f6'),\n",
       " WindowsPath('//portulab.synology.me/data/Kata/Data/14052024_visstim_2D_round/240514_f7'),\n",
       " WindowsPath('//portulab.synology.me/data/Kata/Data/14052024_visstim_2D_round/240514_f8'),\n",
       " WindowsPath('//portulab.synology.me/data/Kata/Data/14052024_visstim_2D_round/240514_f9')]"
      ]
     },
     "execution_count": 22,
     "metadata": {},
     "output_type": "execute_result"
    }
   ],
   "source": [
    "# master_path = Path(r\"\\\\portulab.synology.me\\data\\Kata\\Data\\230307_visstim_2D\")\n",
    "# master_path = Path(r\"\\\\portulab.synology.me\\data\\Kata\\Data\\22042024_visstim_2D_round\")\n",
    "# master_path = Path(r\"\\\\portulab.synology.me\\data\\Kata\\Data\\22042024_visstim_2D_2\")\n",
    "# master_path = Path(r\"\\\\portulab.synology.me\\data\\Kata\\Data\\13052024_visstim_2D_round\")\n",
    "master_path = Path(r\"\\\\portulab.synology.me\\data\\Kata\\Data\\14052024_visstim_2D_round\")\n",
    "\n",
    "# master_path = Path(r'\\\\portulab.synology.me\\data\\Kata\\testdata\\Raw_Data')\n",
    "\n",
    "fish_paths = list(master_path.glob('*f[0-9]*'))\n",
    "fish_paths"
   ]
  },
  {
   "cell_type": "code",
   "execution_count": 23,
   "id": "d645e018-c11d-487c-826b-5940cde1dd08",
   "metadata": {},
   "outputs": [
    {
     "data": {
      "text/plain": [
       "'14052024_visstim_2D_round'"
      ]
     },
     "execution_count": 23,
     "metadata": {},
     "output_type": "execute_result"
    }
   ],
   "source": [
    "fish = 0\n",
    "fish_path = fish_paths[fish]\n",
    "exp_name = Path(fish_path).parts[-2] \n",
    "# exp_name = 'testfish'\n",
    "exp_name"
   ]
  },
  {
   "cell_type": "code",
   "execution_count": 24,
   "id": "dd076ca8-a873-438e-b44b-cfd69afd1518",
   "metadata": {},
   "outputs": [],
   "source": [
    "# out_path = Path(r\"\\\\portulab.synology.me\\data\\Kata\\Processed_Data\\230307_visstim_2D_\")\n",
    "# out_path = Path(r\"\\\\portulab.synology.me\\data\\Kata\\Processed_Data\\22042024_visstim_2D_round_\")\n",
    "# out_path = Path(r\"\\\\portulab.synology.me\\data\\Kata\\Processed_Data\\22042024_visstim_2D_2_\")\n",
    "# out_path = Path(r\"\\\\portulab.synology.me\\data\\Kata\\Processed_Data\\13052024_visstim_2D_round_\")\n",
    "out_path = Path(r\"\\\\portulab.synology.me\\data\\Kata\\Processed_Data\\14052024_visstim_2D_round_\")\n",
    "\n",
    "# out_path = Path(r'\\\\portulab.synology.me\\data\\Kata\\testdata\\Processed_Data')\n"
   ]
  },
  {
   "cell_type": "code",
   "execution_count": 25,
   "id": "b7804915-df72-47e2-ba9f-826cf0f15225",
   "metadata": {},
   "outputs": [],
   "source": [
    "center_y = 512 #268  #from camera\n",
    "center_x = 640 #360  #from camera\n",
    "px_mm = 150 #70"
   ]
  },
  {
   "cell_type": "markdown",
   "id": "f40fb768-007d-4ee8-a0a2-e5218aac2aad",
   "metadata": {},
   "source": [
    "### Load data "
   ]
  },
  {
   "cell_type": "code",
   "execution_count": 26,
   "id": "6e55d47c-9ab8-42bc-81d2-f03b8998dc6b",
   "metadata": {},
   "outputs": [
    {
     "name": "stdout",
     "output_type": "stream",
     "text": [
      "240514_f0\n",
      "Frequency of movement initiation: 1.1321 Hz\n",
      "240514_f1\n",
      "Frequency of movement initiation: 0.8969 Hz\n",
      "240514_f2\n",
      "Frequency of movement initiation: 0.2917 Hz\n",
      "240514_f3\n",
      "Frequency of movement initiation: 1.1982 Hz\n",
      "240514_f4\n",
      "Frequency of movement initiation: 0.6735 Hz\n",
      "240514_f5\n",
      "Frequency of movement initiation: 0.6912 Hz\n",
      "240514_f6\n",
      "Frequency of movement initiation: 0.6863 Hz\n",
      "240514_f7\n",
      "Frequency of movement initiation: 0.7206 Hz\n",
      "240514_f8\n",
      "Frequency of movement initiation: 1.3305 Hz\n",
      "240514_f9\n",
      "Frequency of movement initiation: 1.4145 Hz\n"
     ]
    }
   ],
   "source": [
    "thr =0.95\n",
    "m_x_lists = []\n",
    "m_y_lists = []\n",
    "freq_list = []\n",
    "distances_ =[]\n",
    "\n",
    "for path in fish_paths:\n",
    "    try:\n",
    "        fish_id = path.name\n",
    "        print (fish_id)\n",
    "    \n",
    "        dlc_path_ = Path(out_path/ '{}_DLC_mod.csv'.format(fish_id)) \n",
    "        df_dlc = pd.read_csv(dlc_path_, header=[0,1])\n",
    "        mask = df_dlc.body.likelihood >=thr\n",
    "        m_x_list = df_dlc.motor.x.values\n",
    "        m_y_list = df_dlc.motor.y.values\n",
    "    \n",
    "        m_x_lists.append(m_x_list)\n",
    "        m_y_lists.append(m_y_list)\n",
    "    \n",
    "        ## calculate mid head\n",
    "        mid_headx, mid_heady, left_mid_eye_x, left_mid_eye_y, right_mid_eye_x, right_mid_eye_y = mid_head(df_dlc)\n",
    "        head_x_ =mid_headx\n",
    "        head_y_ =mid_heady\n",
    "        new_head_x = m_x_list + (head_x_ - center_x)/px_mm\n",
    "        new_head_y = m_y_list + (head_y_ - center_y)/px_mm\n",
    "    \n",
    "        # get bout starts\n",
    "        data_path = list(out_path.glob('*{}_bout_data.h5*'.format(fish_id)))[0]\n",
    "        data= fl.load(data_path)\n",
    "    \n",
    "        ## do calculations and save  \n",
    "        distances = calculate_distance_traveled(data, new_head_x, new_head_y)\n",
    "        distances = np.asarray(distances)\n",
    "        ## input mm output should also be mm\n",
    "        ### just distances in active tracking episodes\n",
    "        exp_time = np.arange(0, df_dlc.shape[0], 1)\n",
    "        start_frames = data['bout_times'][:, 0]  # fetch all start frames from bout_times\n",
    "        masked_exp_time = exp_time[mask==True]\n",
    "        \n",
    "        # Now, check which start frames are in masked_exp_time\n",
    "        start_frames_in_mask = np.isin(start_frames, masked_exp_time)\n",
    "        distances_tracking = distances[start_frames_in_mask]\n",
    "        fl.save(out_path/ '{}_distances.h5'.format(fish_id), distances_tracking)\n",
    "        distances_.append(distances_tracking)\n",
    "        \n",
    "        frequency_hz = calculate_movement_frequency( data['bout_times'],m_x_list, frame_rate=200)\n",
    "        print(f\"Frequency of movement initiation: {frequency_hz:.4f} Hz\")\n",
    "        freq_list.append(frequency_hz)\n",
    "    except:\n",
    "        pass\n",
    "\n",
    "fl.save(save_data_path/ '{}_distances_pooled.h5'.format(exp_name), distances_)\n",
    "fl.save(save_data_path/ '{}_bout_frequencies.h5'.format(exp_name), freq_list)\n"
   ]
  },
  {
   "cell_type": "code",
   "execution_count": null,
   "id": "fe79bc25-f4b2-4f31-a1a7-b83b31e6ea97",
   "metadata": {},
   "outputs": [],
   "source": []
  },
  {
   "cell_type": "code",
   "execution_count": null,
   "id": "7cd4757b-9a86-4925-a991-f07d7411d2cd",
   "metadata": {},
   "outputs": [],
   "source": []
  },
  {
   "cell_type": "code",
   "execution_count": null,
   "id": "6a957a90-a65d-409c-96fd-bf94e76fe0b5",
   "metadata": {},
   "outputs": [],
   "source": []
  }
 ],
 "metadata": {
  "kernelspec": {
   "display_name": "Python 3 (ipykernel)",
   "language": "python",
   "name": "python3"
  },
  "language_info": {
   "codemirror_mode": {
    "name": "ipython",
    "version": 3
   },
   "file_extension": ".py",
   "mimetype": "text/x-python",
   "name": "python",
   "nbconvert_exporter": "python",
   "pygments_lexer": "ipython3",
   "version": "3.11.10"
  }
 },
 "nbformat": 4,
 "nbformat_minor": 5
}
