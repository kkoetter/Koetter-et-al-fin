{
 "cells": [
  {
   "cell_type": "code",
   "execution_count": 1,
   "id": "fb1d7f67",
   "metadata": {},
   "outputs": [],
   "source": [
    "%load_ext autoreload\n",
    "%autoreload 2\n",
    "import warnings\n",
    "warnings.filterwarnings('ignore')"
   ]
  },
  {
   "cell_type": "code",
   "execution_count": 2,
   "id": "29d0fe61",
   "metadata": {},
   "outputs": [],
   "source": [
    "%reload_ext autoreload"
   ]
  },
  {
   "cell_type": "code",
   "execution_count": 3,
   "id": "e0a3ca0c",
   "metadata": {},
   "outputs": [],
   "source": [
    "import numpy as np\n",
    "import pandas as pd\n",
    "import matplotlib.pyplot as plt\n",
    "from pathlib import Path\n",
    "import glob\n",
    "\n",
    "import h5py\n",
    "import flammkuchen as fl\n",
    "import seaborn as sns\n",
    "from matplotlib.cm import ScalarMappable\n",
    "import scipy\n",
    "from scipy import stats"
   ]
  },
  {
   "cell_type": "code",
   "execution_count": null,
   "id": "aa597e0e-2070-42c9-a76f-2e3329713db9",
   "metadata": {},
   "outputs": [],
   "source": [
    "from feature_extraction_helper import compute_laterality,reshape_feature_array, tail_oscillations_with_laterality"
   ]
  },
  {
   "cell_type": "markdown",
   "id": "017dcd0d",
   "metadata": {},
   "source": [
    "## Load data"
   ]
  },
  {
   "cell_type": "code",
   "execution_count": 6,
   "id": "c0d64982",
   "metadata": {},
   "outputs": [
    {
     "data": {
      "text/plain": [
       "[WindowsPath('//portulab.synology.me/data/Kata/testdata/Raw_Data/240423_f0')]"
      ]
     },
     "execution_count": 6,
     "metadata": {},
     "output_type": "execute_result"
    }
   ],
   "source": [
    "master_path = Path(r'\\\\portulab.synology.me\\data\\Kata\\testdata\\Raw_Data')\n",
    "\n",
    "fish_paths = list(master_path.glob('*f[0-9]*'))\n",
    "fish_paths"
   ]
  },
  {
   "cell_type": "code",
   "execution_count": 7,
   "id": "555ff6f7-0c92-44bd-95af-d045e6630bb7",
   "metadata": {},
   "outputs": [
    {
     "data": {
      "text/plain": [
       "('240423_f0', 'testfish')"
      ]
     },
     "execution_count": 7,
     "metadata": {},
     "output_type": "execute_result"
    }
   ],
   "source": [
    "fish= 0\n",
    "fish_id =  fish_paths[fish].name\n",
    "exp_name = Path(fish_paths[fish]).parts[-2]\n",
    "exp_name = 'testfish'\n",
    "fish_id, exp_name\n"
   ]
  },
  {
   "cell_type": "code",
   "execution_count": 8,
   "id": "53bdc104-204f-4e0b-bf5d-41e568edb5ca",
   "metadata": {},
   "outputs": [],
   "source": [
    "out_path = Path(r'\\\\portulab.synology.me\\data\\Kata\\testdata\\Processed_Data')\n",
    "save_data_path = out_path"
   ]
  },
  {
   "cell_type": "code",
   "execution_count": 9,
   "id": "0cf2c50a",
   "metadata": {},
   "outputs": [],
   "source": [
    "t_feature_vector_array = fl.load(save_data_path/ '{}_t_feature_vector_array.h5'.format(fish_id))\n",
    "l_feature_vector_array = fl.load(save_data_path/ '{}_l_feature_vector_array.h5'.format(fish_id))\n",
    "r_feature_vector_array = fl.load(save_data_path/ '{}_r_feature_vector_array.h5'.format(fish_id))"
   ]
  },
  {
   "cell_type": "code",
   "execution_count": 10,
   "id": "dadc2b75",
   "metadata": {},
   "outputs": [
    {
     "data": {
      "text/plain": [
       "(500, 3, 50)"
      ]
     },
     "execution_count": 10,
     "metadata": {},
     "output_type": "execute_result"
    }
   ],
   "source": [
    "## tail, left fin, right fin\n",
    "\n",
    "traces =  fl.load(out_path / '{}_tensor.h5'.format(fish_id))\n",
    "traces.shape"
   ]
  },
  {
   "cell_type": "markdown",
   "id": "cbd4387f-2685-4350-93fd-fa180fbb761b",
   "metadata": {},
   "source": [
    "### Get the number of peaks for all tails\n",
    "\n",
    "    Note - we have to take the directionality into acocunt "
   ]
  },
  {
   "cell_type": "code",
   "execution_count": 11,
   "id": "1cf0fca1-f8b9-423e-8592-355ed99ab654",
   "metadata": {},
   "outputs": [
    {
     "data": {
      "text/plain": [
       "9"
      ]
     },
     "execution_count": 11,
     "metadata": {},
     "output_type": "execute_result"
    }
   ],
   "source": [
    "max_n = int(l_feature_vector_array.shape[1]/4)\n",
    "max_n"
   ]
  },
  {
   "cell_type": "code",
   "execution_count": 14,
   "id": "e3fdb6b8-ab2c-41a3-9ca5-42342a32f666",
   "metadata": {},
   "outputs": [
    {
     "name": "stdout",
     "output_type": "stream",
     "text": [
      "Reshaped array shape: (500, 4, 9)\n",
      "Reshaped array shape: (500, 4, 9)\n",
      "Reshaped array shape: (500, 4, 9)\n"
     ]
    }
   ],
   "source": [
    "t_reshaped_array, t_peaks_a_array, t_peaks_i_array, t_valleys_a_array, t_valleys_i_array = reshape_feature_array(t_feature_vector_array)\n",
    "l_reshaped_array, l_peaks_a_array, l_peaks_i_array, l_valleys_a_array, l_valleys_i_array = reshape_feature_array(l_feature_vector_array)\n",
    "r_reshaped_array, r_peaks_a_array, r_peaks_i_array, r_valleys_a_array, r_valleys_i_array = reshape_feature_array(r_feature_vector_array)\n"
   ]
  },
  {
   "cell_type": "markdown",
   "id": "2a47746f-8fd6-4e44-a67c-a0ba63d54d6c",
   "metadata": {},
   "source": [
    "### Assess laterality of tail"
   ]
  },
  {
   "cell_type": "code",
   "execution_count": 18,
   "id": "76018880-d728-4682-8468-7d90310b78b5",
   "metadata": {},
   "outputs": [
    {
     "name": "stdout",
     "output_type": "stream",
     "text": [
      "Laterality: right\n"
     ]
    },
    {
     "data": {
      "image/png": "[encoded data removed]",
      "text/plain": [
       "<Figure size 640x480 with 1 Axes>"
      ]
     },
     "metadata": {},
     "output_type": "display_data"
    }
   ],
   "source": [
    "data = traces[:,0,:]\n",
    "bout = np.random.randint(0,data.shape[0])\n",
    "\n",
    "plt.figure()\n",
    "plt.plot(data[bout, :])\n",
    "plt.scatter(t_peaks_i_array[bout], t_peaks_a_array[bout], c='green')\n",
    "plt.scatter(t_valleys_i_array[bout], t_valleys_a_array[bout], c='red')\n",
    "plt.title('bout {}'.format(bout))\n",
    "\n",
    "# Access the first row of each array\n",
    "peaks_first = t_peaks_a_array[bout, 0]\n",
    "valleys_first = t_valleys_a_array[bout, 0]\n",
    "\n",
    "# Compare and determine laterality\n",
    "laterality = np.where( np.abs(peaks_first) > np.abs(valleys_first), 'left', 'right')\n",
    "\n",
    "print(\"Laterality:\", laterality)\n"
   ]
  },
  {
   "cell_type": "code",
   "execution_count": 19,
   "id": "40e42d2a-bbdd-48b5-9539-d179abea2c82",
   "metadata": {},
   "outputs": [
    {
     "name": "stdout",
     "output_type": "stream",
     "text": [
      "Laterality: 1\n"
     ]
    }
   ],
   "source": [
    "# Access the first row of each array\n",
    "peaks_first = t_peaks_a_array[bout, 0]\n",
    "valleys_first = t_valleys_a_array[bout, 0]\n",
    "\n",
    "# Compare and determine laterality\n",
    "laterality = np.where( np.abs(peaks_first) > np.abs(valleys_first), 0, 1)\n",
    "\n",
    "print(\"Laterality:\", laterality)\n"
   ]
  },
  {
   "cell_type": "code",
   "execution_count": 22,
   "id": "053be0a5-48c1-4a1d-a2dd-165520531d6f",
   "metadata": {},
   "outputs": [
    {
     "data": {
      "text/plain": [
       "array([1., 1., 0., 1., 0., 0., 0., 0., 0., 0., 0., 0., 1., 0., 0., 0., 0.,\n",
       "       1., 1., 0., 0., 1., 0., 1., 0., 0., 1., 1., 1., 1., 1., 1., 1., 0.,\n",
       "       0., 1., 0., 1., 1., 1., 1., 1., 1., 1., 1., 0., 1., 1., 1., 0., 0.,\n",
       "       1., 1., 1., 1., 1., 1., 1., 0., 1., 1., 0., 0., 0., 0., 0., 0., 1.,\n",
       "       0., 1., 1., 1., 0., 1., 0., 0., 0., 0., 1., 0., 1., 0., 1., 1., 1.,\n",
       "       1., 0., 1., 0., 1., 1., 0., 1., 0., 1., 1., 0., 1., 1., 1., 1., 0.,\n",
       "       0., 0., 0., 0., 0., 0., 0., 1., 1., 1., 0., 1., 1., 1., 1., 1., 0.,\n",
       "       1., 1., 0., 0., 1., 1., 0., 1., 1., 1., 0., 0., 0., 0., 0., 1., 0.,\n",
       "       1., 1., 1., 1., 0., 0., 0., 1., 1., 1., 1., 1., 1., 1., 0., 1., 1.,\n",
       "       1., 0., 0., 0., 0., 1., 0., 0., 1., 1., 0., 0., 1., 1., 1., 1., 1.,\n",
       "       0., 1., 1., 1., 0., 0., 0., 0., 0., 0., 1., 0., 0., 0., 1., 1., 0.,\n",
       "       1., 1., 0., 1., 0., 0., 1., 1., 0., 0., 1., 1., 1., 0., 0., 1., 1.,\n",
       "       1., 1., 1., 0., 1., 1., 0., 1., 1., 0., 1., 0., 0., 1., 1., 0., 1.,\n",
       "       0., 1., 1., 1., 0., 1., 1., 0., 1., 1., 1., 0., 1., 0., 1., 0., 1.,\n",
       "       1., 1., 1., 1., 1., 0., 1., 1., 1., 0., 1., 0., 0., 1., 1., 0., 1.,\n",
       "       0., 0., 1., 0., 0., 1., 1., 0., 1., 1., 0., 0., 1., 1., 1., 1., 1.,\n",
       "       1., 1., 0., 1., 1., 1., 0., 0., 0., 1., 0., 1., 1., 1., 0., 0., 0.,\n",
       "       0., 0., 0., 1., 1., 1., 0., 1., 1., 0., 1., 1., 0., 0., 1., 1., 0.,\n",
       "       0., 1., 1., 1., 1., 1., 1., 1., 1., 1., 1., 0., 1., 0., 0., 1., 0.,\n",
       "       1., 0., 0., 1., 0., 1., 0., 1., 1., 0., 0., 0., 1., 0., 0., 1., 0.,\n",
       "       1., 1., 0., 1., 0., 0., 0., 1., 1., 1., 1., 0., 1., 1., 1., 1., 1.,\n",
       "       1., 1., 0., 1., 0., 0., 1., 1., 0., 1., 0., 0., 0., 0., 1., 0., 1.,\n",
       "       1., 1., 0., 1., 0., 1., 1., 0., 1., 1., 1., 0., 1., 1., 0., 0., 0.,\n",
       "       1., 1., 1., 0., 1., 0., 0., 0., 1., 1., 0., 1., 1., 1., 1., 1., 1.,\n",
       "       1., 0., 1., 0., 0., 0., 0., 1., 1., 1., 1., 1., 0., 0., 0., 1., 0.,\n",
       "       0., 1., 1., 1., 1., 1., 0., 0., 1., 0., 1., 0., 1., 0., 0., 1., 0.,\n",
       "       0., 1., 0., 1., 1., 0., 0., 1., 0., 0., 1., 0., 1., 1., 0., 0., 1.,\n",
       "       1., 0., 0., 1., 0., 1., 1., 1., 1., 0., 1., 0., 0., 0., 1., 0., 1.,\n",
       "       1., 0., 0., 1., 0., 0., 1., 0., 0., 1., 1., 0., 1., 0., 1., 0., 1.,\n",
       "       1., 1., 1., 1., 0., 1., 1.])"
      ]
     },
     "execution_count": 22,
     "metadata": {},
     "output_type": "execute_result"
    }
   ],
   "source": [
    "laterality = compute_laterality(t_peaks_a_array, t_valleys_a_array)\n",
    "# laterality"
   ]
  },
  {
   "cell_type": "code",
   "execution_count": 25,
   "id": "26618a2f-724a-4f0e-b40e-39d42f359b8a",
   "metadata": {},
   "outputs": [
    {
     "name": "stdout",
     "output_type": "stream",
     "text": [
      "Total non-NaN counts per row based on laterality: [0. 1. 2. 3. 4. 5.]\n"
     ]
    }
   ],
   "source": [
    "t_osc = tail_oscillations_with_laterality(t_peaks_a_array, t_valleys_a_array, laterality)\n",
    "\n",
    "print(\"Total non-NaN counts per row based on laterality:\", np.unique(t_osc))\n"
   ]
  },
  {
   "cell_type": "markdown",
   "id": "b1bb32a6-875f-4a9a-bf00-9d0e90187cd7",
   "metadata": {},
   "source": [
    "### Extract oscillations fins"
   ]
  },
  {
   "cell_type": "markdown",
   "id": "dbead5d7-45e5-432c-874a-b24ed0293e1f",
   "metadata": {},
   "source": [
    "### Filter peaks below a certain hight"
   ]
  },
  {
   "cell_type": "code",
   "execution_count": 26,
   "id": "4880c6ad-e68f-46ed-a2a4-e1af2183cf02",
   "metadata": {},
   "outputs": [
    {
     "name": "stdout",
     "output_type": "stream",
     "text": [
      "500\n"
     ]
    }
   ],
   "source": [
    "mask  = r_peaks_a_array <= 0.1\n",
    "print(len(mask))\n",
    "r_peaks_a_array[mask] = np.nan"
   ]
  },
  {
   "cell_type": "code",
   "execution_count": 27,
   "id": "baa062c4-90a5-427f-8157-1ad61c43cd6e",
   "metadata": {},
   "outputs": [
    {
     "name": "stdout",
     "output_type": "stream",
     "text": [
      "500\n"
     ]
    }
   ],
   "source": [
    "mask  = l_peaks_a_array <= 0.1\n",
    "print(len(mask))\n",
    "l_peaks_a_array[mask] = np.nan"
   ]
  },
  {
   "cell_type": "code",
   "execution_count": 29,
   "id": "2845d003-4efa-414e-bee6-206e046b3185",
   "metadata": {},
   "outputs": [
    {
     "data": {
      "image/png": "[encoded data removed]",
      "text/plain": [
       "<Figure size 1000x500 with 2 Axes>"
      ]
     },
     "metadata": {},
     "output_type": "display_data"
    }
   ],
   "source": [
    "bout = np.random.randint(0,traces.shape[0])\n",
    "\n",
    "fig, axes = plt.subplots(1,2, figsize=(10, 5), sharex=True, sharey=True)\n",
    "axes = axes.ravel()\n",
    "axes[0].plot(traces[bout,0,:], c='gray', label='tail')\n",
    "axes[0].scatter(t_peaks_i_array[bout], t_peaks_a_array[bout], c='green')\n",
    "axes[0].scatter(t_valleys_i_array[bout], t_valleys_a_array[bout], c='red')\n",
    "axes[0].set_title('bout {}'.format(bout))\n",
    "\n",
    "axes[1].plot(traces[bout,1,:]*-1, c='lightblue', label='left')\n",
    "axes[1].scatter(l_peaks_i_array[bout], l_peaks_a_array[bout], c='green')\n",
    "axes[1].scatter(l_valleys_i_array[bout], l_valleys_a_array[bout], c='red')\n",
    "\n",
    "axes[1].plot(traces[bout,2,:], c='pink', label='right')\n",
    "axes[1].scatter(r_peaks_i_array[bout],r_peaks_a_array[bout], c='green')\n",
    "axes[1].scatter(r_valleys_i_array[bout], r_valleys_a_array[bout], c='red')\n",
    "axes[1].set_title('bout {}'.format(bout))\n",
    "\n",
    "plt.legend()\n",
    "plt.tight_layout()"
   ]
  },
  {
   "cell_type": "code",
   "execution_count": 34,
   "id": "e9e0c75f-09d7-4ce7-b1f1-82520add35e7",
   "metadata": {},
   "outputs": [
    {
     "data": {
      "text/plain": [
       "(2.0, 3, 3)"
      ]
     },
     "execution_count": 34,
     "metadata": {},
     "output_type": "execute_result"
    }
   ],
   "source": [
    "t_osc[bout], l_osc[bout], r_osc[bout]"
   ]
  },
  {
   "cell_type": "markdown",
   "id": "9445be6c-849a-4ddf-8429-113cf145e767",
   "metadata": {},
   "source": [
    "#### Count peaks"
   ]
  },
  {
   "cell_type": "code",
   "execution_count": 30,
   "id": "eab36cd3-e1c7-4bde-a03f-d813ae3c4c41",
   "metadata": {},
   "outputs": [
    {
     "name": "stdout",
     "output_type": "stream",
     "text": [
      "Number of non-NaN elements per row: [0 1 2 3 4 5 6 7]\n",
      "Number of non-NaN elements per row: [0 1 2 3 4 5 6]\n"
     ]
    },
    {
     "data": {
      "text/plain": [
       "(array([ 33,  53, 132, 167, 265, 312, 334, 337, 399], dtype=int64),)"
      ]
     },
     "execution_count": 30,
     "metadata": {},
     "output_type": "execute_result"
    }
   ],
   "source": [
    "# Count non-NaN entries per row\n",
    "l_osc = np.sum(~np.isnan(l_peaks_a_array), axis=1)\n",
    "# Count non-NaN entries per row\n",
    "r_osc = np.sum(~np.isnan(r_peaks_a_array), axis=1)\n",
    "\n",
    "print(\"Number of non-NaN elements per row:\", np.unique(l_osc))\n",
    "print(\"Number of non-NaN elements per row:\", np.unique(r_osc))\n",
    "\n",
    "np.where(l_osc==0)"
   ]
  },
  {
   "cell_type": "markdown",
   "id": "70d67b00-b17c-44c4-8063-f263e6b7a638",
   "metadata": {},
   "source": [
    "## Save data"
   ]
  },
  {
   "cell_type": "code",
   "execution_count": 31,
   "id": "a154fb2a-7a7d-49d1-a2df-ad6bb1c97972",
   "metadata": {},
   "outputs": [],
   "source": [
    "fl.save(save_data_path/ '{}_oscillations.h5'.format(fish_id), [t_osc, l_osc, r_osc])\n",
    "fl.save(save_data_path/ '{}_bout_laterality.h5'.format(fish_id), laterality)"
   ]
  },
  {
   "cell_type": "code",
   "execution_count": 32,
   "id": "4cd0ef8f-013c-4805-a5fb-53632ab00849",
   "metadata": {},
   "outputs": [
    {
     "data": {
      "text/plain": [
       "(500,)"
      ]
     },
     "execution_count": 32,
     "metadata": {},
     "output_type": "execute_result"
    }
   ],
   "source": [
    "laterality.shape"
   ]
  },
  {
   "cell_type": "code",
   "execution_count": null,
   "id": "8426def7-e4de-49e2-94ae-f48ae674d634",
   "metadata": {},
   "outputs": [],
   "source": []
  },
  {
   "cell_type": "code",
   "execution_count": null,
   "id": "0ffed8db-0b20-4edd-ac96-303a7809b325",
   "metadata": {},
   "outputs": [],
   "source": []
  }
 ],
 "metadata": {
  "kernelspec": {
   "display_name": "Python 3 (ipykernel)",
   "language": "python",
   "name": "python3"
  },
  "language_info": {
   "codemirror_mode": {
    "name": "ipython",
    "version": 3
   },
   "file_extension": ".py",
   "mimetype": "text/x-python",
   "name": "python",
   "nbconvert_exporter": "python",
   "pygments_lexer": "ipython3",
   "version": "3.11.5"
  }
 },
 "nbformat": 4,
 "nbformat_minor": 5
}
