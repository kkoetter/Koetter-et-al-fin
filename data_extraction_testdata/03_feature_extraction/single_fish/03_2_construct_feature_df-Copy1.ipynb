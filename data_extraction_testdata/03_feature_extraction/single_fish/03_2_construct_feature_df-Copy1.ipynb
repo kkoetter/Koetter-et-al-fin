{
 "cells": [
  {
   "cell_type": "code",
   "execution_count": 1,
   "id": "12c493a6",
   "metadata": {},
   "outputs": [],
   "source": [
    "%load_ext autoreload\n",
    "%autoreload 2\n",
    "import warnings\n",
    "warnings.filterwarnings('ignore')\n"
   ]
  },
  {
   "cell_type": "code",
   "execution_count": 2,
   "id": "e6efbb4c",
   "metadata": {},
   "outputs": [],
   "source": [
    "import os\n",
    "import json\n",
    "\n",
    "# Data Wrangling\n",
    "import h5py\n",
    "import numpy as np\n",
    "import pandas as pd\n",
    "from pathlib import Path\n",
    "import matplotlib.pyplot as plt\n",
    "import glob\n",
    "import flammkuchen as fl\n",
    "import shutil\n",
    "\n",
    "import seaborn as sns\n",
    "import matplotlib as mpl\n",
    "\n",
    "from tqdm import tqdm"
   ]
  },
  {
   "cell_type": "markdown",
   "id": "20c9d10b-6bcd-42a6-8abf-3a77adc5645e",
   "metadata": {},
   "source": [
    "## Custom functions from helper file"
   ]
  },
  {
   "cell_type": "code",
   "execution_count": 3,
   "id": "2d199db8-49fa-4fbc-8035-36284329b3b5",
   "metadata": {},
   "outputs": [],
   "source": [
    "from feature_extractuion_helpers import smooth_trace\n",
    "from feature_extractuion_helpers import compute_vigor, compute_bout_dur, get_vigor_stats\n",
    "from feature_extractuion_helpers import compute_oscillations\n",
    "from feature_extractuion_helpers import time_of_first_peak, compute_leading_fin, compute_corr_lag, calulate_frequency_with_peaks\n",
    "\n",
    "from feature_extractuion_helpers import extract_wavelet_features"
   ]
  },
  {
   "cell_type": "code",
   "execution_count": 4,
   "id": "763e303d-8d98-4cb0-a318-d99672d5bc9d",
   "metadata": {},
   "outputs": [],
   "source": [
    "def reshape_feature_array(feature_vector_array):\n",
    "    \"\"\"\n",
    "    Reshape the feature vector array into a specified shape and extract sub-arrays.\n",
    "\n",
    "    Parameters:\n",
    "    - feature_vector_array: numpy.ndarray, the array to be reshaped.\n",
    "\n",
    "    Returns:\n",
    "    - reshaped_array: numpy.ndarray, the reshaped array.\n",
    "    - peaks_a_array, peaks_i_array, valleys_a_array, valleys_i_array: separate sub-arrays.\n",
    "    \"\"\"\n",
    "    max_n = int(feature_vector_array.shape[1] / 4)\n",
    "\n",
    "    # Reshape the array\n",
    "    reshaped_array = feature_vector_array.reshape(feature_vector_array.shape[0], 4, max_n)\n",
    "\n",
    "    # Extract sub-arrays\n",
    "    peaks_a_array = reshaped_array[:, 0, :]\n",
    "    peaks_i_array = reshaped_array[:, 1, :]\n",
    "    valleys_a_array = reshaped_array[:, 2, :]\n",
    "    valleys_i_array = reshaped_array[:, 3, :]\n",
    "\n",
    "    print(f\"Reshaped array shape: {reshaped_array.shape}\")\n",
    "\n",
    "    return reshaped_array, peaks_a_array, peaks_i_array, valleys_a_array, valleys_i_array"
   ]
  },
  {
   "cell_type": "code",
   "execution_count": 5,
   "id": "23ef5f47-5f98-4a0e-8ddf-d4060a8b5406",
   "metadata": {},
   "outputs": [],
   "source": [
    "def get_eye_max(eye_rotation, eye_vergence):\n",
    "    max_eye_rot = []\n",
    "    max_eye_vergence = []\n",
    "    \n",
    "    for i in range(eye_rotation.shape[0]):\n",
    "        max_eye_rot.append(np.mean(eye_rotation[i][-10:]) - np.mean(eye_rotation[i][:10]))\n",
    "        max_eye_vergence.append(np.mean(eye_vergence[i][-10:]) - np.mean(eye_vergence[i][:10]))\n",
    "\n",
    "    return max_eye_rot, max_eye_vergence"
   ]
  },
  {
   "cell_type": "code",
   "execution_count": 6,
   "id": "317f46a3-36c8-4cd5-b776-6d1ba99d5996",
   "metadata": {},
   "outputs": [],
   "source": [
    "def invert_tail(data, directionality):\n",
    "    to_fill = np.copy(data)\n",
    "    for id, series in enumerate(data):\n",
    "        if directionality[id] == 0:\n",
    "            to_fill[id] = series*-1\n",
    "    return to_fill\n"
   ]
  },
  {
   "cell_type": "code",
   "execution_count": 7,
   "id": "e47a363a-e4fa-4065-9931-a4d64321ea6e",
   "metadata": {},
   "outputs": [],
   "source": [
    "from scipy.signal import find_peaks\n",
    "\n",
    "def compute_directionality(data, height_cutoff=0.08):\n",
    "    directionaity = np.full(data.shape[0], -1) \n",
    "    for id, series in enumerate(data):\n",
    "        peaks, _ = find_peaks(abs(series), height=height_cutoff)\n",
    "        try:\n",
    "            dir = series[peaks[np.argmax(abs(series[peaks]))]]\n",
    "            if dir > 0: #> 0 , right, dir = 1\n",
    "                directionaity[id] = 1\n",
    "            if dir < 0: #<0, dir =0, left (invert)\n",
    "                directionaity[id] = 0\n",
    "        except ValueError:\n",
    "            pass\n",
    "    return directionaity\n",
    "\n"
   ]
  },
  {
   "cell_type": "markdown",
   "id": "0085bf52",
   "metadata": {},
   "source": [
    "## Read in Data"
   ]
  },
  {
   "cell_type": "code",
   "execution_count": 8,
   "id": "7856c41e",
   "metadata": {},
   "outputs": [
    {
     "data": {
      "text/plain": [
       "[WindowsPath('//portulab.synology.me/data/Kata/Data/230307_visstim_2D/105234_f0'),\n",
       " WindowsPath('//portulab.synology.me/data/Kata/Data/230307_visstim_2D/105646_f0'),\n",
       " WindowsPath('//portulab.synology.me/data/Kata/Data/230307_visstim_2D/110659_f0'),\n",
       " WindowsPath('//portulab.synology.me/data/Kata/Data/230307_visstim_2D/111701_f0'),\n",
       " WindowsPath('//portulab.synology.me/data/Kata/Data/230307_visstim_2D/112901_f1'),\n",
       " WindowsPath('//portulab.synology.me/data/Kata/Data/230307_visstim_2D/113916_f2'),\n",
       " WindowsPath('//portulab.synology.me/data/Kata/Data/230307_visstim_2D/114946_f2'),\n",
       " WindowsPath('//portulab.synology.me/data/Kata/Data/230307_visstim_2D/120328_f3'),\n",
       " WindowsPath('//portulab.synology.me/data/Kata/Data/230307_visstim_2D/120350_f3'),\n",
       " WindowsPath('//portulab.synology.me/data/Kata/Data/230307_visstim_2D/123953_f4'),\n",
       " WindowsPath('//portulab.synology.me/data/Kata/Data/230307_visstim_2D/125639_f5'),\n",
       " WindowsPath('//portulab.synology.me/data/Kata/Data/230307_visstim_2D/130839_f5'),\n",
       " WindowsPath('//portulab.synology.me/data/Kata/Data/230307_visstim_2D/132040_f6'),\n",
       " WindowsPath('//portulab.synology.me/data/Kata/Data/230307_visstim_2D/133118_f6')]"
      ]
     },
     "execution_count": 8,
     "metadata": {},
     "output_type": "execute_result"
    }
   ],
   "source": [
    "# master_path = Path(r'\\\\portulab.synology.me\\data\\Kata\\testdata\\Raw_Data')\n",
    "\n",
    "\n",
    "master_path = Path(r\"\\\\portulab.synology.me\\data\\Kata\\Data\\230307_visstim_2D\") #rectangular arena # start from fish 1\n",
    "# master_path = Path(r\"\\\\portulab.synology.me\\data\\Kata\\Data\\22042024_visstim_2D_round\")\n",
    "# master_path = Path(r\"\\\\portulab.synology.me\\data\\Kata\\Data\\22042024_visstim_2D_2\") #rectangular arena\n",
    "# master_path = Path(r\"\\\\portulab.synology.me\\data\\Kata\\Data\\13052024_visstim_2D_round\")\n",
    "# master_path = Path(r\"\\\\portulab.synology.me\\data\\Kata\\Data\\14052024_visstim_2D_round\")\n",
    "\n",
    "fish_paths = list(master_path.glob('*f[0-9]*'))\n",
    "fish_paths"
   ]
  },
  {
   "cell_type": "code",
   "execution_count": 9,
   "id": "534c2877-6060-476f-b9e6-00345a127aaf",
   "metadata": {},
   "outputs": [
    {
     "data": {
      "text/plain": [
       "('105646_f0', '230307_visstim_2D')"
      ]
     },
     "execution_count": 9,
     "metadata": {},
     "output_type": "execute_result"
    }
   ],
   "source": [
    "fish= 1\n",
    "fish_id =  fish_paths[fish].name\n",
    "exp_name = Path(fish_paths[fish]).parts[-2]\n",
    "# exp_name = 'testfish'\n",
    "fish_id, exp_name\n"
   ]
  },
  {
   "cell_type": "code",
   "execution_count": 10,
   "id": "9d13fbeb-7eac-4a2f-bf0d-49a299e4db16",
   "metadata": {},
   "outputs": [],
   "source": [
    "# out_path = Path(r'\\\\portulab.synology.me\\data\\Kata\\testdata\\Processed_Data')\n",
    "## Analysed for paper\n",
    "\n",
    "out_path = Path(r\"\\\\portulab.synology.me\\data\\Kata\\Processed_Data\\230307_visstim_2D_\")\n",
    "# out_path = Path(r\"\\\\portulab.synology.me\\data\\Kata\\Processed_Data\\22042024_visstim_2D_round_\")\n",
    "# out_path = Path(r\"\\\\portulab.synology.me\\data\\Kata\\Processed_Data\\22042024_visstim_2D_2_\")\n",
    "# out_path = Path(r\"\\\\portulab.synology.me\\data\\Kata\\Processed_Data\\13052024_visstim_2D_round_\")\n",
    "# out_path = Path(r\"\\\\portulab.synology.me\\data\\Kata\\Processed_Data\\14052024_visstim_2D_round_\")\n",
    "\n",
    "save_data_path = out_path"
   ]
  },
  {
   "cell_type": "code",
   "execution_count": null,
   "id": "363a0d7b-d14a-45ca-993d-bac74c85b97b",
   "metadata": {},
   "outputs": [],
   "source": []
  },
  {
   "cell_type": "markdown",
   "id": "4ca78996-04ff-4bbe-aa8c-530266716754",
   "metadata": {},
   "source": [
    "# Pooled loop"
   ]
  },
  {
   "cell_type": "code",
   "execution_count": 18,
   "id": "6f2caab2-4341-4d52-8f38-fdc837b2578e",
   "metadata": {},
   "outputs": [
    {
     "name": "stderr",
     "output_type": "stream",
     "text": [
      "  0%|                                                                                           | 0/13 [00:00<?, ?it/s]"
     ]
    },
    {
     "name": "stdout",
     "output_type": "stream",
     "text": [
      "Working on fish 105646_f0\n",
      "Reshaped array shape: (47, 4, 9)\n",
      "Reshaped array shape: (47, 4, 9)\n",
      "Reshaped array shape: (47, 4, 9)\n"
     ]
    },
    {
     "name": "stderr",
     "output_type": "stream",
     "text": [
      "  0%|                                                                                           | 0/13 [00:00<?, ?it/s]\n"
     ]
    },
    {
     "ename": "TypeError",
     "evalue": "only integer scalar arrays can be converted to a scalar index",
     "output_type": "error",
     "traceback": [
      "\u001b[1;31m---------------------------------------------------------------------------\u001b[0m",
      "\u001b[1;31mTypeError\u001b[0m                                 Traceback (most recent call last)",
      "Cell \u001b[1;32mIn[18], line 66\u001b[0m\n\u001b[0;32m     64\u001b[0m eye_vergence \u001b[38;5;241m=\u001b[39m bout_data[\u001b[38;5;124m'\u001b[39m\u001b[38;5;124meye_vergence\u001b[39m\u001b[38;5;124m'\u001b[39m]\n\u001b[0;32m     65\u001b[0m max_eye_rot, max_eye_vergence \u001b[38;5;241m=\u001b[39m get_eye_max(eye_rotation, eye_vergence)\n\u001b[1;32m---> 66\u001b[0m df[\u001b[38;5;124m'\u001b[39m\u001b[38;5;124mmax_eye_rot\u001b[39m\u001b[38;5;124m'\u001b[39m] \u001b[38;5;241m=\u001b[39m\u001b[43mmax_eye_rot\u001b[49m\u001b[43m[\u001b[49m\u001b[43mindices\u001b[49m\u001b[43m]\u001b[49m\n\u001b[0;32m     67\u001b[0m df[\u001b[38;5;124m'\u001b[39m\u001b[38;5;124mmax_eye_vergence\u001b[39m\u001b[38;5;124m'\u001b[39m] \u001b[38;5;241m=\u001b[39m max_eye_vergence[indices]\n\u001b[0;32m     69\u001b[0m vigor_stats \u001b[38;5;241m=\u001b[39m np\u001b[38;5;241m.\u001b[39mzeros((tail\u001b[38;5;241m.\u001b[39mshape[\u001b[38;5;241m0\u001b[39m], \u001b[38;5;241m2\u001b[39m))\n",
      "\u001b[1;31mTypeError\u001b[0m: only integer scalar arrays can be converted to a scalar index"
     ]
    }
   ],
   "source": [
    "for ind, fish_path in enumerate(tqdm(fish_paths[1:])):\n",
    "    fish_id =  fish_path.name\n",
    "    print ('Working on fish {}'.format(fish_id))\n",
    "\n",
    "    # try:\n",
    "    bout_data = fl.load(out_path/'{}_bout_data.h5'.format(fish_id))\n",
    "    traces =  fl.load(out_path / '{}_tensor.h5'.format(fish_id))\n",
    "    tail = traces[:, 0, :]\n",
    "    l_fin = traces[:, 1, :]\n",
    "    r_fin = traces[:, 2, :]\n",
    "\n",
    "    indices = fl.load(out_path / '{}_indices.h5'.format(fish_id))\n",
    "\n",
    "    t_feature_vector_array = fl.load(save_data_path/ '{}_t_feature_vector_array.h5'.format(fish_id))\n",
    "    l_feature_vector_array = fl.load(save_data_path/ '{}_l_feature_vector_array.h5'.format(fish_id))\n",
    "    r_feature_vector_array = fl.load(save_data_path/ '{}_r_feature_vector_array.h5'.format(fish_id))\n",
    "\n",
    "    t_reshaped_array, t_peaks_a_array, t_peaks_i_array, t_valleys_a_array, t_valleys_i_array = reshape_feature_array(t_feature_vector_array)\n",
    "    l_reshaped_array, l_peaks_a_array, l_peaks_i_array, l_valleys_a_array, l_valleys_i_array = reshape_feature_array(l_feature_vector_array)\n",
    "    r_reshaped_array, r_peaks_a_array, r_peaks_i_array, r_valleys_a_array, r_valleys_i_array = reshape_feature_array(r_feature_vector_array)\n",
    "\n",
    "    ipsi_contra_tensor = fl.load(Path(out_path / '{}_tensor_ipsi_contra.h5'.format(fish_id)))\n",
    "    ipsi_fin_id= fl.load(Path(out_path/'{}_ipsi_fin_ids.h5'.format(fish_id)))\n",
    "    leading_fin = fl.load(Path(out_path/ '{}_leading_fin.h5'.format(fish_id)))\n",
    "    osc = fl.load(out_path/ '{}_oscillations.h5'.format(fish_id)) # [t_osc, l_osc, r_osc])\n",
    "    laterality = fl.load(out_path/ '{}_bout_laterality.h5'.format(fish_id))\n",
    "    freqs = fl.load(out_path/ '{}_tbf_output.h5'.format(fish_id))\n",
    "\n",
    "    [duration_t, start_t, end_t] = fl.load( out_path / '{}_t_durations.h5'.format(fish_id)) \n",
    "    [duration_l, start_l, end_l] = fl.load( out_path / '{}_l_durations.h5'.format(fish_id)) \n",
    "    [duration_r, start_r, end_r] = fl.load( out_path / '{}_r_durations.h5'.format(fish_id))\n",
    "\n",
    "    tail_periods_array = fl.load( out_path/ '{}_t_full_beats.h5'.format(fish_id))\n",
    "    tail_half_beats_array = fl.load( out_path/ '{}_t_half_beats.h5'.format(fish_id))\n",
    "    l_periods_array = fl.load( out_path/ '{}_l_full_beats.h5'.format(fish_id))\n",
    "    l_half_beats_array = fl.load( out_path/ '{}_l_half_beats.h5'.format(fish_id))\n",
    "    r_periods_array = fl.load( out_path/ '{}_r_full_beats.h5'.format(fish_id))\n",
    "    r_half_beats_array = fl.load( out_path/ '{}_r_half_beats.h5'.format(fish_id))\n",
    "\n",
    "    \n",
    "    ### Creating the dataframe\n",
    "    tails_ = bout_data['tailsums']\n",
    "    n_bouts = tail.shape[0]\n",
    "    \n",
    "    # create dataframe\n",
    "    df = pd.DataFrame()\n",
    "    df['exp'] =  [exp_name] * n_bouts\n",
    "    df['fish_id'] = [fish_id] * n_bouts\n",
    "    df['bout_angle'] = bout_data['body_angles_delta'][indices]\n",
    "    df['cluster'] = clusters = bout_data['cluster'][indices]\n",
    "    df['frame_start'] =  bout_data['bout_times'][:,0][indices]\n",
    "    df['frame_end'] = bout_data['bout_times'][:,1][indices]\n",
    "    df['bout_id_orig'] = indices\n",
    "\n",
    "    # Add all the filters\n",
    "    df['mb_proba'] = bout_data['mb_proba'][indices]\n",
    "    df['dlc_tracking_score'] =bout_data['dlc_filter'][indices]\n",
    "    df['edge_tracking_score'] = bout_data['edge_filter'][indices]\n",
    "\n",
    "    # Add the eyes\n",
    "    left_eye_angles = bout_data['eye_angles'][:,0,:]\n",
    "    right_eye_angles = bout_data['eye_angles'][:,1,:]\n",
    "    eye_rotation = bout_data['eye_rotation'] \n",
    "    eye_vergence = bout_data['eye_vergence']\n",
    "    max_eye_rot, max_eye_vergence = get_eye_max(eye_rotation, eye_vergence)\n",
    "    df['max_eye_rot'] =max_eye_rot[indices]\n",
    "    df['max_eye_vergence'] = max_eye_vergence[indices]\n",
    "\n",
    "    vigor_stats = np.zeros((tail.shape[0], 2))\n",
    "    \n",
    "\n",
    "    for i in range(tail.shape[0]):\n",
    "        vigor = compute_vigor(tail[i])\n",
    "        max_vig, med_vig = get_vigor_stats(vigor)\n",
    "        vigor_stats[i] = max_vig, med_vig\n",
    "    print (vigor_stats)\n",
    "        \n",
    "    df['tail_peak_vigor'] = vigor_stats[:,0]\n",
    "\n",
    "    l_fin_vigor_stats = np.zeros((l_fin.shape[0], 2))\n",
    "    r_fin_vigor_stats = np.zeros((l_fin.shape[0], 2))\n",
    "    \n",
    "    for i in range(l_fin.shape[0]):\n",
    "        l_fin_vigor = compute_vigor(l_fin[i]*-1)\n",
    "        max_vig, med_vig = get_vigor_stats(l_fin_vigor)\n",
    "        l_fin_vigor_stats[i] = max_vig, med_vig\n",
    "    \n",
    "        r_fin_vigor = compute_vigor(r_fin[i])\n",
    "        max_vig, med_vig = get_vigor_stats(r_fin_vigor)\n",
    "        r_fin_vigor_stats[i] = max_vig, med_vig\n",
    "\n",
    "    df['l_fin_peak_vigor'] = l_fin_vigor_stats[:,0]\n",
    "    df['r_fin_peak_vigor'] = r_fin_vigor_stats[:,0]\n",
    "    \n",
    "    corr, lags = compute_corr_lag(l_fin, r_fin)\n",
    "    df['fin_fin_corr'] = corr\n",
    "    df['fin_fin_lag'] = lags\n",
    "\n",
    "    df['ipsi_fin'] = ipsi_fin_id\n",
    "    df['tail_direction'] = laterality\n",
    "    df['leading_fin'] = leading_fin\n",
    "\n",
    "    l_max_amp = np.nanmax(l_peaks_a_array,axis=1)\n",
    "    r_max_amp = np.nanmax(r_peaks_a_array,axis=1)\n",
    "    df['l_max_amp'] = l_max_amp\n",
    "    df['r_max_amp'] = r_max_amp\n",
    "    \n",
    "    mean_freqs = np.nanmean(freqs, axis=2)\n",
    "    df['tail_freq'] = mean_freqs[0,:] \n",
    "    df['l_fin_freqs'] = mean_freqs[1,:]\n",
    "    df['r_fin_freqs'] = mean_freqs[2,:]\n",
    "    \n",
    "    df['tail_osc'] = osc[0]\n",
    "    df['l_osc'] = osc[1]\n",
    "    df['r_osc'] = osc[2]\n",
    "    \n",
    "    df['tail_duration'] = duration_t\n",
    "    df['t_start'] = start_t\n",
    "    df['t_end'] = end_t\n",
    "    \n",
    "    df['l_fin_duration'] = duration_l\n",
    "    df['l_start'] = start_l\n",
    "    df['l_end'] = end_l\n",
    "    \n",
    "    df['r_fin_duration'] = duration_r\n",
    "    df['r_start'] = start_r\n",
    "    df['r_end'] = end_r\n",
    "    \n",
    "    df.to_csv(Path(out_path /'{}_features.csv'.format(fish_id)), index=False)  \n",
    "\n",
    "# except:\n",
    "#     print ('no')\n",
    "#     pass\n"
   ]
  },
  {
   "cell_type": "code",
   "execution_count": null,
   "id": "f71e4c86-c3dd-4357-a29a-a1cc92a8cf10",
   "metadata": {},
   "outputs": [],
   "source": []
  },
  {
   "cell_type": "markdown",
   "id": "75de4eb1-5172-419a-89a7-566e2badbf24",
   "metadata": {},
   "source": [
    "# Single fish"
   ]
  },
  {
   "cell_type": "code",
   "execution_count": null,
   "id": "fc8f19fb-bbf0-4139-baf6-d5ff75a5acfe",
   "metadata": {},
   "outputs": [],
   "source": [
    "traces =  fl.load(out_path / '{}_tensor.h5'.format(fish_id))\n",
    "traces.shape"
   ]
  },
  {
   "cell_type": "code",
   "execution_count": null,
   "id": "62ff55ae-050a-44d0-9d15-fcc770f7db79",
   "metadata": {},
   "outputs": [],
   "source": [
    "tail = traces[:, 0, :]\n",
    "l_fin = traces[:, 1, :]\n",
    "r_fin = traces[:, 2, :]\n"
   ]
  },
  {
   "cell_type": "code",
   "execution_count": null,
   "id": "15db68f9-8c0d-4b1b-b505-2fca665594c3",
   "metadata": {},
   "outputs": [],
   "source": [
    "bout_data = fl.load(out_path/'{}_bout_data.h5'.format(fish_id))\n",
    "clusters = bout_data['cluster']\n",
    "tails_ = bout_data['tailsums']\n",
    "body_angles = bout_data['body_angles_delta']\n",
    "\n",
    "onsets_ = bout_data['bout_times'][:,0]\n",
    "offsets_ = bout_data['bout_times'][:,1]\n"
   ]
  },
  {
   "cell_type": "code",
   "execution_count": null,
   "id": "fa906f73-b878-4e27-9e3b-f8a7cc9051cb",
   "metadata": {},
   "outputs": [],
   "source": [
    "bout_data.keys()"
   ]
  },
  {
   "cell_type": "markdown",
   "id": "2bca22de-c887-4c79-a281-254f3a7ccf64",
   "metadata": {},
   "source": [
    "    TODO: new megabouts notebook output needs to be added directly"
   ]
  },
  {
   "cell_type": "code",
   "execution_count": null,
   "id": "02934bb8-ca80-48ac-8fac-e8f8616b09d1",
   "metadata": {},
   "outputs": [],
   "source": [
    "## add cluster from mb to df"
   ]
  },
  {
   "cell_type": "code",
   "execution_count": null,
   "id": "a9ebb472-986b-4098-815d-01ae18806fd7",
   "metadata": {},
   "outputs": [],
   "source": []
  },
  {
   "cell_type": "markdown",
   "id": "be8a6bfa-545b-430b-9ca6-e66f93a8e304",
   "metadata": {},
   "source": [
    "## Make Dataframe"
   ]
  },
  {
   "cell_type": "code",
   "execution_count": null,
   "id": "b9b9b862-16bd-452a-b8f1-7fb425f45ef1",
   "metadata": {},
   "outputs": [],
   "source": [
    "## Make structure to fill\n",
    "n_bouts = bout_data['body_angles_delta'].shape[0]\n",
    "print (n_bouts)\n",
    "\n",
    "df = pd.DataFrame()\n",
    "df['exp'] =  [exp_name] * n_bouts\n",
    "df['fish_id'] = [fish_id] * n_bouts\n",
    "df['bout_angle'] = body_angles\n",
    "df['cluster'] = clusters\n",
    "df['frame_start'] = onsets_\n",
    "df['frame_end'] = offsets_\n",
    "df['bout_id_orig'] = np.arange(0, n_bouts, 1)\n",
    "df.head()"
   ]
  },
  {
   "cell_type": "markdown",
   "id": "d2847f3b-2f0a-49fb-bf9c-f7da4b7a3dee",
   "metadata": {},
   "source": [
    "#### Add dlc filter, moto and mb filter data"
   ]
  },
  {
   "cell_type": "code",
   "execution_count": null,
   "id": "5a3bf2cd-a6ee-4227-a6b0-6ca71b407a5f",
   "metadata": {},
   "outputs": [],
   "source": [
    "df['mb_outlier'] = bout_data['mb_outlier'] \n",
    "df['mb_proba'] = bout_data['mb_proba']\n",
    "df['dlc_tracking_score'] = np.sum(bout_data['dlc_filter'], axis=1)\n",
    "edge_filter = bout_data['edge_filter']\n",
    "df['edge_tracking_score'] = np.sum(edge_filter, axis=1)"
   ]
  },
  {
   "cell_type": "code",
   "execution_count": null,
   "id": "a8885540-59b3-4997-a3d1-4efaa9c77aed",
   "metadata": {},
   "outputs": [],
   "source": [
    "df.head()"
   ]
  },
  {
   "cell_type": "markdown",
   "id": "51d20410-3078-45af-a313-3fe60a9d125d",
   "metadata": {},
   "source": [
    "### Eyes"
   ]
  },
  {
   "cell_type": "code",
   "execution_count": null,
   "id": "24857ad2-a413-4aff-8895-3f92e3221348",
   "metadata": {},
   "outputs": [],
   "source": [
    "left_eye_angles = bout_data['eye_angles'][:,0,:]\n",
    "right_eye_angles = bout_data['eye_angles'][:,1,:]\n",
    "eye_rotation = bout_data['eye_rotation'] \n",
    "eye_vergence = bout_data['eye_vergence']"
   ]
  },
  {
   "cell_type": "code",
   "execution_count": null,
   "id": "b3f15794-c3d2-4031-a87f-1994c36e5b4b",
   "metadata": {},
   "outputs": [],
   "source": [
    "max_eye_rot, max_eye_vergence = get_eye_max(eye_rotation, eye_vergence)\n",
    "df['max_eye_rot'] =max_eye_rot\n",
    "df['max_eye_vergence'] = max_eye_vergence\n",
    "\n",
    "df.head()"
   ]
  },
  {
   "cell_type": "markdown",
   "id": "ae97293d-ac07-4663-8094-1e78d10be588",
   "metadata": {},
   "source": [
    "### Vigor and duration of bout"
   ]
  },
  {
   "cell_type": "code",
   "execution_count": null,
   "id": "aa132d07-13f8-43ba-8996-156d2d12b1a2",
   "metadata": {},
   "outputs": [],
   "source": [
    "vigor_stats = np.zeros((tail.shape[0], 2))\n",
    "\n",
    "for i in range(tail.shape[0]):\n",
    "    vigor = compute_vigor(tail[i])\n",
    "    max_vig, med_vig = get_vigor_stats(vigor)\n",
    "    vigor_stats[i] = max_vig, med_vig\n",
    "    \n",
    "df['tail_peak_vigor'] = vigor_stats[:,0]"
   ]
  },
  {
   "cell_type": "markdown",
   "id": "960e600e-091a-4c85-add8-c1820ae617e6",
   "metadata": {},
   "source": [
    "### Fin vigor and duration"
   ]
  },
  {
   "cell_type": "code",
   "execution_count": null,
   "id": "8917daf6-5bd7-4d03-bf66-596ea9bc18b9",
   "metadata": {},
   "outputs": [],
   "source": [
    "l_fin_vigor_stats = np.zeros((l_fin.shape[0], 2))\n",
    "r_fin_vigor_stats = np.zeros((l_fin.shape[0], 2))\n",
    "\n",
    "for i in range(l_fin.shape[0]):\n",
    "    l_fin_vigor = compute_vigor(l_fin[i]*-1)\n",
    "    max_vig, med_vig = get_vigor_stats(l_fin_vigor)\n",
    "    l_fin_vigor_stats[i] = max_vig, med_vig\n",
    "\n",
    "    r_fin_vigor = compute_vigor(r_fin[i])\n",
    "    max_vig, med_vig = get_vigor_stats(r_fin_vigor)\n",
    "    r_fin_vigor_stats[i] = max_vig, med_vig\n",
    "    \n"
   ]
  },
  {
   "cell_type": "code",
   "execution_count": null,
   "id": "ae6b50e7-cd28-4f0a-89f4-d77bf2119cb9",
   "metadata": {},
   "outputs": [],
   "source": [
    "df['l_fin_peak_vigor'] = l_fin_vigor_stats[:,0]\n",
    "df['r_fin_peak_vigor'] = r_fin_vigor_stats[:,0]"
   ]
  },
  {
   "cell_type": "code",
   "execution_count": null,
   "id": "f75e6e3a-508b-4170-8b48-8f84039e2d36",
   "metadata": {},
   "outputs": [],
   "source": [
    "corr, lags = compute_corr_lag(l_fin, r_fin)\n",
    "# lags, np.min(lags), np.max(lags)"
   ]
  },
  {
   "cell_type": "code",
   "execution_count": null,
   "id": "9a2cd28e-e457-4d72-b2df-d6e9a1a17db8",
   "metadata": {},
   "outputs": [],
   "source": [
    "df['fin_fin_corr'] = corr\n",
    "df['fin_fin_lag'] = lags"
   ]
  },
  {
   "cell_type": "code",
   "execution_count": null,
   "id": "42c2034f-e009-428c-adf0-a33792b37d80",
   "metadata": {},
   "outputs": [],
   "source": [
    "t_feature_vector_array = fl.load(save_data_path/ '{}_t_feature_vector_array.h5'.format(fish_id))\n",
    "l_feature_vector_array = fl.load(save_data_path/ '{}_l_feature_vector_array.h5'.format(fish_id))\n",
    "r_feature_vector_array = fl.load(save_data_path/ '{}_r_feature_vector_array.h5'.format(fish_id))"
   ]
  },
  {
   "cell_type": "code",
   "execution_count": null,
   "id": "737f109e-3987-4e72-a481-2bc69218dac7",
   "metadata": {},
   "outputs": [],
   "source": [
    "t_reshaped_array, t_peaks_a_array, t_peaks_i_array, t_valleys_a_array, t_valleys_i_array = reshape_feature_array(t_feature_vector_array)\n",
    "l_reshaped_array, l_peaks_a_array, l_peaks_i_array, l_valleys_a_array, l_valleys_i_array = reshape_feature_array(l_feature_vector_array)\n",
    "r_reshaped_array, r_peaks_a_array, r_peaks_i_array, r_valleys_a_array, r_valleys_i_array = reshape_feature_array(r_feature_vector_array)\n"
   ]
  },
  {
   "cell_type": "code",
   "execution_count": null,
   "id": "e99ae79f-653d-4991-b3b6-e887464b486c",
   "metadata": {},
   "outputs": [],
   "source": [
    "ipsi_contra_tensor = fl.load(Path(out_path / '{}_tensor_ipsi_contra.h5'.format(fish_id)))\n",
    "ipsi_fin_id= fl.load(Path(out_path/'{}_ipsi_fin_ids.h5'.format(fish_id)))\n",
    "leading_fin = fl.load(Path(out_path/ '{}_leading_fin.h5'.format(fish_id)))\n",
    "osc = fl.load(out_path/ '{}_oscillations.h5'.format(fish_id)) # [t_osc, l_osc, r_osc])\n",
    "laterality = fl.load(out_path/ '{}_bout_laterality.h5'.format(fish_id))\n",
    "freqs = fl.load(out_path/ '{}_tbf_output.h5'.format(fish_id))"
   ]
  },
  {
   "cell_type": "code",
   "execution_count": null,
   "id": "0411b880-59d4-46d9-b29f-2303fcef9a95",
   "metadata": {},
   "outputs": [],
   "source": [
    "[duration_t, start_t, end_t] = fl.load( out_path / '{}_t_durations.h5'.format(fish_id)) \n",
    "[duration_l, start_l, end_l] = fl.load( out_path / '{}_l_durations.h5'.format(fish_id)) \n",
    "[duration_r, start_r, end_r] = fl.load( out_path / '{}_r_durations.h5'.format(fish_id))"
   ]
  },
  {
   "cell_type": "code",
   "execution_count": null,
   "id": "37ae6c7b-7e5d-4057-be2c-e1fc5e358f22",
   "metadata": {},
   "outputs": [],
   "source": [
    "tail_periods_array = fl.load( out_path/ '{}_t_full_beats.h5'.format(fish_id))\n",
    "tail_half_beats_array = fl.load( out_path/ '{}_t_half_beats.h5'.format(fish_id))\n",
    "\n",
    "l_periods_array = fl.load( out_path/ '{}_l_full_beats.h5'.format(fish_id))\n",
    "l_half_beats_array = fl.load( out_path/ '{}_l_half_beats.h5'.format(fish_id))\n",
    "\n",
    "r_periods_array = fl.load( out_path/ '{}_r_full_beats.h5'.format(fish_id))\n",
    "r_half_beats_array = fl.load( out_path/ '{}_r_half_beats.h5'.format(fish_id))"
   ]
  },
  {
   "cell_type": "code",
   "execution_count": null,
   "id": "0e6f3e3d-a128-4dcb-866e-cc7a8ddfa549",
   "metadata": {},
   "outputs": [],
   "source": [
    "df['ipsi_fin'] = ipsi_fin_id\n",
    "df['tail_direction'] = laterality\n",
    "df['leading_fin'] = leading_fin"
   ]
  },
  {
   "cell_type": "code",
   "execution_count": null,
   "id": "a7b9df50-60e9-40d8-b8a8-c98603ae7e90",
   "metadata": {},
   "outputs": [],
   "source": [
    "mean_freqs = np.nanmean(freqs, axis=2)\n",
    "mean_freqs.shape"
   ]
  },
  {
   "cell_type": "code",
   "execution_count": null,
   "id": "7ceae537-9515-474c-9714-d7a431dbaf8e",
   "metadata": {},
   "outputs": [],
   "source": [
    "df['tail_freq'] = mean_freqs[0,:] \n",
    "df['l_fin_freqs'] = mean_freqs[1,:]\n",
    "df['r_fin_freqs'] = mean_freqs[2,:]"
   ]
  },
  {
   "cell_type": "code",
   "execution_count": null,
   "id": "7046f972-fb42-4802-a61d-b27299acff40",
   "metadata": {},
   "outputs": [],
   "source": [
    "df['tail_osc'] = osc[0]\n",
    "df['l_osc'] = osc[1]\n",
    "df['r_osc'] = osc[2]"
   ]
  },
  {
   "cell_type": "code",
   "execution_count": null,
   "id": "3292c4fc-aaac-4b82-9bf4-bc924913a06a",
   "metadata": {},
   "outputs": [],
   "source": [
    "df['tail_duration'] = duration_t\n",
    "df['t_start'] = start_t\n",
    "df['t_end'] = end_t\n",
    "\n",
    "df['l_fin_duration'] = duration_l\n",
    "df['l_start'] = start_l\n",
    "df['l_end'] = end_l\n",
    "\n",
    "df['r_fin_duration'] = duration_r\n",
    "df['r_start'] = start_r\n",
    "df['r_end'] = end_r"
   ]
  },
  {
   "cell_type": "markdown",
   "id": "b2502e6e-cb55-4fa9-a31a-38e211ca5fd7",
   "metadata": {},
   "source": [
    "### save data per fish"
   ]
  },
  {
   "cell_type": "code",
   "execution_count": null,
   "id": "2da9f27e-2b02-49bc-ba01-d6f1e6e98213",
   "metadata": {},
   "outputs": [],
   "source": [
    "df.to_csv(Path(out_path /'{}_features.csv'.format(fish_id)), index=False)  "
   ]
  },
  {
   "cell_type": "code",
   "execution_count": null,
   "id": "8ed41f43-8cb9-4e01-b760-9877644d8002",
   "metadata": {},
   "outputs": [],
   "source": []
  },
  {
   "cell_type": "code",
   "execution_count": null,
   "id": "97533894-c281-4def-96e8-6273d10d4272",
   "metadata": {},
   "outputs": [],
   "source": []
  },
  {
   "cell_type": "code",
   "execution_count": null,
   "id": "9d1ccfa9-20fe-4daa-a074-8e30da2f58b9",
   "metadata": {},
   "outputs": [],
   "source": []
  },
  {
   "cell_type": "code",
   "execution_count": null,
   "id": "0a504ecb-6fc8-4039-8f6c-a66a06a59a6b",
   "metadata": {},
   "outputs": [],
   "source": []
  }
 ],
 "metadata": {
  "kernelspec": {
   "display_name": "Python 3 (ipykernel)",
   "language": "python",
   "name": "python3"
  },
  "language_info": {
   "codemirror_mode": {
    "name": "ipython",
    "version": 3
   },
   "file_extension": ".py",
   "mimetype": "text/x-python",
   "name": "python",
   "nbconvert_exporter": "python",
   "pygments_lexer": "ipython3",
   "version": "3.11.10"
  }
 },
 "nbformat": 4,
 "nbformat_minor": 5
}
