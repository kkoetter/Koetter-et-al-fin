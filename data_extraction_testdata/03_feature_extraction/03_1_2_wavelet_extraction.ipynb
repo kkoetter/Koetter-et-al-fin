{
 "cells": [
  {
   "cell_type": "code",
   "execution_count": 9,
   "id": "67531571-d612-4556-8bb2-c9b316a5b30b",
   "metadata": {},
   "outputs": [
    {
     "name": "stdout",
     "output_type": "stream",
     "text": [
      "The autoreload extension is already loaded. To reload it, use:\n",
      "  %reload_ext autoreload\n"
     ]
    }
   ],
   "source": [
    "%load_ext autoreload\n",
    "%autoreload 2\n",
    "import warnings\n",
    "warnings.filterwarnings('ignore')\n"
   ]
  },
  {
   "cell_type": "code",
   "execution_count": 10,
   "id": "88fb9b3e-84ce-45de-b1b2-64e14dbd7f61",
   "metadata": {},
   "outputs": [],
   "source": [
    "# !pip install PyWavelets"
   ]
  },
  {
   "cell_type": "code",
   "execution_count": 11,
   "id": "ac3299e4-fdbd-4715-bd86-22da8b647b98",
   "metadata": {},
   "outputs": [],
   "source": [
    "import numpy as np\n",
    "import pandas as pd\n",
    "import matplotlib.pyplot as plt\n",
    "from pathlib import Path\n",
    "import glob\n",
    "\n",
    "import h5py\n",
    "import flammkuchen as fl\n",
    "import seaborn as sns\n",
    "from matplotlib.cm import ScalarMappable\n",
    "import scipy\n",
    "from scipy import stats\n",
    "import pywt"
   ]
  },
  {
   "cell_type": "code",
   "execution_count": 12,
   "id": "3c898d90-2a1b-445b-8b79-53ec680e06ef",
   "metadata": {},
   "outputs": [],
   "source": [
    "wavelets = ['db1', 'db2', 'haar', 'coif1', 'sym2'] # List of wavelets to test\n",
    "\n",
    "def extract_wavelet_features(signal, wavelet='db1'):\n",
    "    #The 'db1' wavelet (Daubechies wavelet with one vanishing moment)\n",
    "    #is used by default, but you can replace this with the name of any wavelet supported by PyWavelets.\n",
    "    #This function returns the approximation coefficients (cA)- low pass and detail coefficients (cD)- high pass as separate numpy arrays.\n",
    "    # These coefficients can be used as features for your machine learning model\n",
    "    \n",
    "    # Perform wavelet decomposition\n",
    "    coeffs = pywt.dwt(signal, wavelet)\n",
    "    # Separate the approximation and detail coefficients\n",
    "    cA, cD = coeffs\n",
    "    return cA, cD"
   ]
  },
  {
   "cell_type": "markdown",
   "id": "0f6e2887-6dc9-49a9-beec-5d5601fd3779",
   "metadata": {},
   "source": [
    "## Load data"
   ]
  },
  {
   "cell_type": "code",
   "execution_count": 13,
   "id": "016f9576-dd1e-41d8-9d08-6ec5eec9fbd5",
   "metadata": {},
   "outputs": [
    {
     "data": {
      "text/plain": [
       "[WindowsPath('//portulab.synology.me/data/Kata/testdata/Raw_Data/240423_f0')]"
      ]
     },
     "execution_count": 13,
     "metadata": {},
     "output_type": "execute_result"
    }
   ],
   "source": [
    "master_path = Path(r'\\\\portulab.synology.me\\data\\Kata\\testdata\\Raw_Data')\n",
    "\n",
    "fish_paths = list(master_path.glob('*f[0-9]*'))\n",
    "fish_paths"
   ]
  },
  {
   "cell_type": "code",
   "execution_count": 16,
   "id": "9084987b-d09e-4b6c-839f-2bb91e13053e",
   "metadata": {},
   "outputs": [
    {
     "data": {
      "text/plain": [
       "('240423_f0', 'testfish')"
      ]
     },
     "execution_count": 16,
     "metadata": {},
     "output_type": "execute_result"
    }
   ],
   "source": [
    "fish= 0\n",
    "fish_id =  fish_paths[fish].name\n",
    "exp_name = Path(fish_paths[fish]).parts[-2]\n",
    "exp_name = 'testfish'\n",
    "fish_id, exp_name\n"
   ]
  },
  {
   "cell_type": "code",
   "execution_count": 17,
   "id": "ffc84235-555f-4ef8-8f84-ba6a7f8de50f",
   "metadata": {},
   "outputs": [],
   "source": [
    "out_path = Path(r'\\\\portulab.synology.me\\data\\Kata\\testdata\\Processed_Data')\n",
    "save_data_path = out_path"
   ]
  },
  {
   "cell_type": "code",
   "execution_count": 18,
   "id": "c2ab9ab5-7dde-4c4c-b53a-60b4c60be80d",
   "metadata": {},
   "outputs": [
    {
     "data": {
      "text/plain": [
       "(500, 3, 50)"
      ]
     },
     "execution_count": 18,
     "metadata": {},
     "output_type": "execute_result"
    }
   ],
   "source": [
    "traces =  fl.load(out_path / '{}_tensor.h5'.format(fish_id))\n",
    "traces.shape"
   ]
  },
  {
   "cell_type": "code",
   "execution_count": 20,
   "id": "156047ff-a7d5-441d-97e4-1bd85f1268d5",
   "metadata": {},
   "outputs": [],
   "source": [
    "tail = traces[:, 0, :]\n",
    "fin_left = traces[:, 1, :]\n",
    "fin_right = traces[:, 2, :]\n"
   ]
  },
  {
   "cell_type": "markdown",
   "id": "421c8856-bf8d-43d5-b683-b083a7e02277",
   "metadata": {},
   "source": [
    "## How were the wavelets extarcted?"
   ]
  },
  {
   "cell_type": "code",
   "execution_count": 22,
   "id": "02b89cc7-ead5-418b-9509-ae4adb76217c",
   "metadata": {},
   "outputs": [
    {
     "name": "stdout",
     "output_type": "stream",
     "text": [
      "coif1\n"
     ]
    },
    {
     "data": {
      "text/plain": [
       "(500, 27)"
      ]
     },
     "execution_count": 22,
     "metadata": {},
     "output_type": "execute_result"
    }
   ],
   "source": [
    "n_w = 3\n",
    "\n",
    "print (wavelets[n_w])\n",
    "# Assume 'data' is your time series of shape (1,50)\n",
    "l_cA, l_cD = extract_wavelet_features(fin_left, wavelet = wavelets[n_w])\n",
    "r_cA, r_cD = extract_wavelet_features(fin_right, wavelet = wavelets[n_w])\n",
    "t_cA, t_cD = extract_wavelet_features(tail, wavelet = wavelets[n_w])\n",
    "\n",
    "l_cA.shape"
   ]
  },
  {
   "cell_type": "code",
   "execution_count": 23,
   "id": "d4938ea8-5831-48b2-b416-f9c93d6a3c00",
   "metadata": {},
   "outputs": [],
   "source": [
    "wavelet_feature_namesA = [ 't_wf_cA_{}'.format(i) for i in range(t_cA.shape[1])]\n",
    "wavelet_feature_namesD = [ 't_wf_cD_{}'.format(i) for i in range(t_cD.shape[1])]\n",
    "wavelet_feature_names = wavelet_feature_namesA + wavelet_feature_namesD"
   ]
  },
  {
   "cell_type": "code",
   "execution_count": 24,
   "id": "a7b3570c-752d-435a-af4b-c94ae6101437",
   "metadata": {},
   "outputs": [
    {
     "data": {
      "text/plain": [
       "(500, 54)"
      ]
     },
     "execution_count": 24,
     "metadata": {},
     "output_type": "execute_result"
    }
   ],
   "source": [
    "wf_tail_features = np.hstack([t_cA, t_cD])\n",
    "wf_tail_features.shape"
   ]
  },
  {
   "cell_type": "code",
   "execution_count": 25,
   "id": "0178df5c-9e07-4523-93ef-8097d5465654",
   "metadata": {},
   "outputs": [
    {
     "data": {
      "text/html": [
       "<div>\n",
       "<style scoped>\n",
       "    .dataframe tbody tr th:only-of-type {\n",
       "        vertical-align: middle;\n",
       "    }\n",
       "\n",
       "    .dataframe tbody tr th {\n",
       "        vertical-align: top;\n",
       "    }\n",
       "\n",
       "    .dataframe thead th {\n",
       "        text-align: right;\n",
       "    }\n",
       "</style>\n",
       "<table border=\"1\" class=\"dataframe\">\n",
       "  <thead>\n",
       "    <tr style=\"text-align: right;\">\n",
       "      <th></th>\n",
       "      <th>t_wf_cA_0</th>\n",
       "      <th>t_wf_cA_1</th>\n",
       "      <th>t_wf_cA_2</th>\n",
       "      <th>t_wf_cA_3</th>\n",
       "      <th>t_wf_cA_4</th>\n",
       "      <th>t_wf_cA_5</th>\n",
       "      <th>t_wf_cA_6</th>\n",
       "      <th>t_wf_cA_7</th>\n",
       "      <th>t_wf_cA_8</th>\n",
       "      <th>t_wf_cA_9</th>\n",
       "      <th>...</th>\n",
       "      <th>t_wf_cD_17</th>\n",
       "      <th>t_wf_cD_18</th>\n",
       "      <th>t_wf_cD_19</th>\n",
       "      <th>t_wf_cD_20</th>\n",
       "      <th>t_wf_cD_21</th>\n",
       "      <th>t_wf_cD_22</th>\n",
       "      <th>t_wf_cD_23</th>\n",
       "      <th>t_wf_cD_24</th>\n",
       "      <th>t_wf_cD_25</th>\n",
       "      <th>t_wf_cD_26</th>\n",
       "    </tr>\n",
       "  </thead>\n",
       "  <tbody>\n",
       "    <tr>\n",
       "      <th>0</th>\n",
       "      <td>-0.002818</td>\n",
       "      <td>-0.015071</td>\n",
       "      <td>-0.028747</td>\n",
       "      <td>-0.349729</td>\n",
       "      <td>-1.074231</td>\n",
       "      <td>-1.402951</td>\n",
       "      <td>-0.668198</td>\n",
       "      <td>0.233381</td>\n",
       "      <td>0.422797</td>\n",
       "      <td>-0.312760</td>\n",
       "      <td>...</td>\n",
       "      <td>-0.113901</td>\n",
       "      <td>-0.006884</td>\n",
       "      <td>0.089483</td>\n",
       "      <td>0.037861</td>\n",
       "      <td>-0.037192</td>\n",
       "      <td>-0.028998</td>\n",
       "      <td>-0.000994</td>\n",
       "      <td>0.003434</td>\n",
       "      <td>-0.002330</td>\n",
       "      <td>0.008642</td>\n",
       "    </tr>\n",
       "    <tr>\n",
       "      <th>1</th>\n",
       "      <td>-0.064360</td>\n",
       "      <td>-0.052751</td>\n",
       "      <td>-0.029729</td>\n",
       "      <td>0.255921</td>\n",
       "      <td>0.502600</td>\n",
       "      <td>0.118457</td>\n",
       "      <td>-0.596962</td>\n",
       "      <td>-0.604856</td>\n",
       "      <td>0.156607</td>\n",
       "      <td>0.668136</td>\n",
       "      <td>...</td>\n",
       "      <td>-0.028635</td>\n",
       "      <td>-0.075270</td>\n",
       "      <td>-0.011133</td>\n",
       "      <td>0.034808</td>\n",
       "      <td>0.020842</td>\n",
       "      <td>-0.005986</td>\n",
       "      <td>0.002198</td>\n",
       "      <td>0.010562</td>\n",
       "      <td>-0.023591</td>\n",
       "      <td>0.006647</td>\n",
       "    </tr>\n",
       "    <tr>\n",
       "      <th>2</th>\n",
       "      <td>-0.049273</td>\n",
       "      <td>-0.034648</td>\n",
       "      <td>-0.076598</td>\n",
       "      <td>0.088695</td>\n",
       "      <td>0.976949</td>\n",
       "      <td>1.064677</td>\n",
       "      <td>-0.248431</td>\n",
       "      <td>-0.543976</td>\n",
       "      <td>0.284758</td>\n",
       "      <td>0.479143</td>\n",
       "      <td>...</td>\n",
       "      <td>-0.086356</td>\n",
       "      <td>0.082167</td>\n",
       "      <td>0.046671</td>\n",
       "      <td>-0.045812</td>\n",
       "      <td>-0.031681</td>\n",
       "      <td>0.015004</td>\n",
       "      <td>0.003570</td>\n",
       "      <td>-0.000011</td>\n",
       "      <td>-0.000033</td>\n",
       "      <td>0.000886</td>\n",
       "    </tr>\n",
       "    <tr>\n",
       "      <th>3</th>\n",
       "      <td>0.000411</td>\n",
       "      <td>-0.051397</td>\n",
       "      <td>-0.052672</td>\n",
       "      <td>-0.663590</td>\n",
       "      <td>-1.421754</td>\n",
       "      <td>-1.495980</td>\n",
       "      <td>-0.611951</td>\n",
       "      <td>0.341956</td>\n",
       "      <td>0.345268</td>\n",
       "      <td>-0.641421</td>\n",
       "      <td>...</td>\n",
       "      <td>0.027572</td>\n",
       "      <td>0.046657</td>\n",
       "      <td>-0.010905</td>\n",
       "      <td>-0.006921</td>\n",
       "      <td>-0.000893</td>\n",
       "      <td>-0.010750</td>\n",
       "      <td>0.003278</td>\n",
       "      <td>0.000923</td>\n",
       "      <td>-0.001634</td>\n",
       "      <td>0.001948</td>\n",
       "    </tr>\n",
       "    <tr>\n",
       "      <th>4</th>\n",
       "      <td>-0.080979</td>\n",
       "      <td>-0.051060</td>\n",
       "      <td>-0.048506</td>\n",
       "      <td>0.389373</td>\n",
       "      <td>1.017737</td>\n",
       "      <td>0.844298</td>\n",
       "      <td>-0.266170</td>\n",
       "      <td>-0.652975</td>\n",
       "      <td>0.203645</td>\n",
       "      <td>0.742897</td>\n",
       "      <td>...</td>\n",
       "      <td>-0.112947</td>\n",
       "      <td>0.043880</td>\n",
       "      <td>0.063330</td>\n",
       "      <td>-0.003697</td>\n",
       "      <td>-0.022695</td>\n",
       "      <td>-0.013006</td>\n",
       "      <td>-0.007726</td>\n",
       "      <td>-0.000612</td>\n",
       "      <td>0.003726</td>\n",
       "      <td>-0.000128</td>\n",
       "    </tr>\n",
       "  </tbody>\n",
       "</table>\n",
       "<p>5 rows × 54 columns</p>\n",
       "</div>"
      ],
      "text/plain": [
       "   t_wf_cA_0  t_wf_cA_1  t_wf_cA_2  t_wf_cA_3  t_wf_cA_4  t_wf_cA_5  \\\n",
       "0  -0.002818  -0.015071  -0.028747  -0.349729  -1.074231  -1.402951   \n",
       "1  -0.064360  -0.052751  -0.029729   0.255921   0.502600   0.118457   \n",
       "2  -0.049273  -0.034648  -0.076598   0.088695   0.976949   1.064677   \n",
       "3   0.000411  -0.051397  -0.052672  -0.663590  -1.421754  -1.495980   \n",
       "4  -0.080979  -0.051060  -0.048506   0.389373   1.017737   0.844298   \n",
       "\n",
       "   t_wf_cA_6  t_wf_cA_7  t_wf_cA_8  t_wf_cA_9  ...  t_wf_cD_17  t_wf_cD_18  \\\n",
       "0  -0.668198   0.233381   0.422797  -0.312760  ...   -0.113901   -0.006884   \n",
       "1  -0.596962  -0.604856   0.156607   0.668136  ...   -0.028635   -0.075270   \n",
       "2  -0.248431  -0.543976   0.284758   0.479143  ...   -0.086356    0.082167   \n",
       "3  -0.611951   0.341956   0.345268  -0.641421  ...    0.027572    0.046657   \n",
       "4  -0.266170  -0.652975   0.203645   0.742897  ...   -0.112947    0.043880   \n",
       "\n",
       "   t_wf_cD_19  t_wf_cD_20  t_wf_cD_21  t_wf_cD_22  t_wf_cD_23  t_wf_cD_24  \\\n",
       "0    0.089483    0.037861   -0.037192   -0.028998   -0.000994    0.003434   \n",
       "1   -0.011133    0.034808    0.020842   -0.005986    0.002198    0.010562   \n",
       "2    0.046671   -0.045812   -0.031681    0.015004    0.003570   -0.000011   \n",
       "3   -0.010905   -0.006921   -0.000893   -0.010750    0.003278    0.000923   \n",
       "4    0.063330   -0.003697   -0.022695   -0.013006   -0.007726   -0.000612   \n",
       "\n",
       "   t_wf_cD_25  t_wf_cD_26  \n",
       "0   -0.002330    0.008642  \n",
       "1   -0.023591    0.006647  \n",
       "2   -0.000033    0.000886  \n",
       "3   -0.001634    0.001948  \n",
       "4    0.003726   -0.000128  \n",
       "\n",
       "[5 rows x 54 columns]"
      ]
     },
     "execution_count": 25,
     "metadata": {},
     "output_type": "execute_result"
    }
   ],
   "source": [
    "wf_tail_features = pd.DataFrame(wf_tail_features, columns=wavelet_feature_names)\n",
    "wf_tail_features.head()"
   ]
  },
  {
   "cell_type": "code",
   "execution_count": 26,
   "id": "32a9a1e6-dc63-49d5-ba12-cfa2a3391ae8",
   "metadata": {},
   "outputs": [],
   "source": [
    "l_wavelet_feature_namesA = [ 'l_wf_cA_{}'.format(i) for i in range(l_cA.shape[1])]\n",
    "l_wavelet_feature_namesD = [ 'l_wf_cD_{}'.format(i) for i in range(l_cD.shape[1])]\n",
    "r_wavelet_feature_namesA = [ 'r_wf_cA_{}'.format(i) for i in range(r_cA.shape[1])]\n",
    "r_wavelet_feature_namesD = [ 'r_wf_cD_{}'.format(i) for i in range(r_cD.shape[1])]\n",
    "wavelet_feature_names = l_wavelet_feature_namesA + l_wavelet_feature_namesD + r_wavelet_feature_namesA + r_wavelet_feature_namesD"
   ]
  },
  {
   "cell_type": "code",
   "execution_count": 27,
   "id": "7317fe20-a769-4d61-bbe0-e6b968c6ca35",
   "metadata": {},
   "outputs": [
    {
     "data": {
      "text/plain": [
       "(500, 108)"
      ]
     },
     "execution_count": 27,
     "metadata": {},
     "output_type": "execute_result"
    }
   ],
   "source": [
    "wf_fin_features = np.hstack([l_cA, l_cD, r_cA, r_cD])\n",
    "wf_fin_features.shape"
   ]
  },
  {
   "cell_type": "code",
   "execution_count": 28,
   "id": "b7888f2d-abb2-42ec-b3e7-27ac00d7aeab",
   "metadata": {},
   "outputs": [
    {
     "data": {
      "text/html": [
       "<div>\n",
       "<style scoped>\n",
       "    .dataframe tbody tr th:only-of-type {\n",
       "        vertical-align: middle;\n",
       "    }\n",
       "\n",
       "    .dataframe tbody tr th {\n",
       "        vertical-align: top;\n",
       "    }\n",
       "\n",
       "    .dataframe thead th {\n",
       "        text-align: right;\n",
       "    }\n",
       "</style>\n",
       "<table border=\"1\" class=\"dataframe\">\n",
       "  <thead>\n",
       "    <tr style=\"text-align: right;\">\n",
       "      <th></th>\n",
       "      <th>l_wf_cA_0</th>\n",
       "      <th>l_wf_cA_1</th>\n",
       "      <th>l_wf_cA_2</th>\n",
       "      <th>l_wf_cA_3</th>\n",
       "      <th>l_wf_cA_4</th>\n",
       "      <th>l_wf_cA_5</th>\n",
       "      <th>l_wf_cA_6</th>\n",
       "      <th>l_wf_cA_7</th>\n",
       "      <th>l_wf_cA_8</th>\n",
       "      <th>l_wf_cA_9</th>\n",
       "      <th>...</th>\n",
       "      <th>r_wf_cD_17</th>\n",
       "      <th>r_wf_cD_18</th>\n",
       "      <th>r_wf_cD_19</th>\n",
       "      <th>r_wf_cD_20</th>\n",
       "      <th>r_wf_cD_21</th>\n",
       "      <th>r_wf_cD_22</th>\n",
       "      <th>r_wf_cD_23</th>\n",
       "      <th>r_wf_cD_24</th>\n",
       "      <th>r_wf_cD_25</th>\n",
       "      <th>r_wf_cD_26</th>\n",
       "    </tr>\n",
       "  </thead>\n",
       "  <tbody>\n",
       "    <tr>\n",
       "      <th>0</th>\n",
       "      <td>-0.019675</td>\n",
       "      <td>-0.006439</td>\n",
       "      <td>-0.028336</td>\n",
       "      <td>-0.139065</td>\n",
       "      <td>-0.673647</td>\n",
       "      <td>-1.112129</td>\n",
       "      <td>-0.548813</td>\n",
       "      <td>-0.074127</td>\n",
       "      <td>-0.041731</td>\n",
       "      <td>-0.037370</td>\n",
       "      <td>...</td>\n",
       "      <td>-0.000138</td>\n",
       "      <td>0.000934</td>\n",
       "      <td>-0.004255</td>\n",
       "      <td>0.002175</td>\n",
       "      <td>-0.007284</td>\n",
       "      <td>0.021147</td>\n",
       "      <td>-0.005577</td>\n",
       "      <td>-0.004395</td>\n",
       "      <td>0.009767</td>\n",
       "      <td>-0.003306</td>\n",
       "    </tr>\n",
       "    <tr>\n",
       "      <th>1</th>\n",
       "      <td>-0.204661</td>\n",
       "      <td>-0.006477</td>\n",
       "      <td>-0.464672</td>\n",
       "      <td>-0.704969</td>\n",
       "      <td>-0.320982</td>\n",
       "      <td>-0.061285</td>\n",
       "      <td>-0.290439</td>\n",
       "      <td>-0.540259</td>\n",
       "      <td>-0.343523</td>\n",
       "      <td>-0.127601</td>\n",
       "      <td>...</td>\n",
       "      <td>0.000952</td>\n",
       "      <td>-0.014595</td>\n",
       "      <td>0.010728</td>\n",
       "      <td>0.003631</td>\n",
       "      <td>0.010556</td>\n",
       "      <td>0.003349</td>\n",
       "      <td>-0.001436</td>\n",
       "      <td>-0.004901</td>\n",
       "      <td>0.009774</td>\n",
       "      <td>-0.004256</td>\n",
       "    </tr>\n",
       "    <tr>\n",
       "      <th>2</th>\n",
       "      <td>0.005362</td>\n",
       "      <td>-0.019129</td>\n",
       "      <td>-0.004739</td>\n",
       "      <td>-0.456326</td>\n",
       "      <td>-1.038276</td>\n",
       "      <td>-0.504261</td>\n",
       "      <td>-0.053017</td>\n",
       "      <td>-0.256229</td>\n",
       "      <td>-0.295961</td>\n",
       "      <td>-0.112582</td>\n",
       "      <td>...</td>\n",
       "      <td>0.002999</td>\n",
       "      <td>-0.006674</td>\n",
       "      <td>0.000187</td>\n",
       "      <td>0.008188</td>\n",
       "      <td>0.003047</td>\n",
       "      <td>-0.004664</td>\n",
       "      <td>-0.012862</td>\n",
       "      <td>0.000395</td>\n",
       "      <td>0.000251</td>\n",
       "      <td>-0.001388</td>\n",
       "    </tr>\n",
       "    <tr>\n",
       "      <th>3</th>\n",
       "      <td>-0.007269</td>\n",
       "      <td>0.004150</td>\n",
       "      <td>-0.012815</td>\n",
       "      <td>0.042691</td>\n",
       "      <td>-0.073271</td>\n",
       "      <td>-0.316219</td>\n",
       "      <td>-0.072158</td>\n",
       "      <td>0.089198</td>\n",
       "      <td>0.085534</td>\n",
       "      <td>0.086732</td>\n",
       "      <td>...</td>\n",
       "      <td>-0.004430</td>\n",
       "      <td>-0.010846</td>\n",
       "      <td>0.013536</td>\n",
       "      <td>0.002796</td>\n",
       "      <td>-0.005157</td>\n",
       "      <td>0.010795</td>\n",
       "      <td>0.007577</td>\n",
       "      <td>0.001730</td>\n",
       "      <td>-0.006381</td>\n",
       "      <td>0.000449</td>\n",
       "    </tr>\n",
       "    <tr>\n",
       "      <th>4</th>\n",
       "      <td>-0.065307</td>\n",
       "      <td>0.015173</td>\n",
       "      <td>-0.259564</td>\n",
       "      <td>-0.819128</td>\n",
       "      <td>-0.758369</td>\n",
       "      <td>-0.316572</td>\n",
       "      <td>-0.195918</td>\n",
       "      <td>-0.430821</td>\n",
       "      <td>-0.519057</td>\n",
       "      <td>-0.228078</td>\n",
       "      <td>...</td>\n",
       "      <td>-0.010637</td>\n",
       "      <td>0.005617</td>\n",
       "      <td>0.013406</td>\n",
       "      <td>-0.002015</td>\n",
       "      <td>0.012208</td>\n",
       "      <td>-0.010743</td>\n",
       "      <td>-0.005937</td>\n",
       "      <td>0.002216</td>\n",
       "      <td>-0.002428</td>\n",
       "      <td>0.004298</td>\n",
       "    </tr>\n",
       "  </tbody>\n",
       "</table>\n",
       "<p>5 rows × 108 columns</p>\n",
       "</div>"
      ],
      "text/plain": [
       "   l_wf_cA_0  l_wf_cA_1  l_wf_cA_2  l_wf_cA_3  l_wf_cA_4  l_wf_cA_5  \\\n",
       "0  -0.019675  -0.006439  -0.028336  -0.139065  -0.673647  -1.112129   \n",
       "1  -0.204661  -0.006477  -0.464672  -0.704969  -0.320982  -0.061285   \n",
       "2   0.005362  -0.019129  -0.004739  -0.456326  -1.038276  -0.504261   \n",
       "3  -0.007269   0.004150  -0.012815   0.042691  -0.073271  -0.316219   \n",
       "4  -0.065307   0.015173  -0.259564  -0.819128  -0.758369  -0.316572   \n",
       "\n",
       "   l_wf_cA_6  l_wf_cA_7  l_wf_cA_8  l_wf_cA_9  ...  r_wf_cD_17  r_wf_cD_18  \\\n",
       "0  -0.548813  -0.074127  -0.041731  -0.037370  ...   -0.000138    0.000934   \n",
       "1  -0.290439  -0.540259  -0.343523  -0.127601  ...    0.000952   -0.014595   \n",
       "2  -0.053017  -0.256229  -0.295961  -0.112582  ...    0.002999   -0.006674   \n",
       "3  -0.072158   0.089198   0.085534   0.086732  ...   -0.004430   -0.010846   \n",
       "4  -0.195918  -0.430821  -0.519057  -0.228078  ...   -0.010637    0.005617   \n",
       "\n",
       "   r_wf_cD_19  r_wf_cD_20  r_wf_cD_21  r_wf_cD_22  r_wf_cD_23  r_wf_cD_24  \\\n",
       "0   -0.004255    0.002175   -0.007284    0.021147   -0.005577   -0.004395   \n",
       "1    0.010728    0.003631    0.010556    0.003349   -0.001436   -0.004901   \n",
       "2    0.000187    0.008188    0.003047   -0.004664   -0.012862    0.000395   \n",
       "3    0.013536    0.002796   -0.005157    0.010795    0.007577    0.001730   \n",
       "4    0.013406   -0.002015    0.012208   -0.010743   -0.005937    0.002216   \n",
       "\n",
       "   r_wf_cD_25  r_wf_cD_26  \n",
       "0    0.009767   -0.003306  \n",
       "1    0.009774   -0.004256  \n",
       "2    0.000251   -0.001388  \n",
       "3   -0.006381    0.000449  \n",
       "4   -0.002428    0.004298  \n",
       "\n",
       "[5 rows x 108 columns]"
      ]
     },
     "execution_count": 28,
     "metadata": {},
     "output_type": "execute_result"
    }
   ],
   "source": [
    "wf_fin_features = pd.DataFrame(wf_fin_features, columns=wavelet_feature_names)\n",
    "wf_fin_features.head()"
   ]
  },
  {
   "cell_type": "code",
   "execution_count": 32,
   "id": "ee680ff0-d14c-4990-b140-c420880c5802",
   "metadata": {},
   "outputs": [],
   "source": [
    "wf_fin_features.to_csv(Path(out_path/ '{}_wf_fin_features.csv'.format(fish_id)))"
   ]
  },
  {
   "cell_type": "code",
   "execution_count": null,
   "id": "8412a879-aec8-4003-b0b0-5a58437aaf7d",
   "metadata": {},
   "outputs": [],
   "source": []
  },
  {
   "cell_type": "code",
   "execution_count": null,
   "id": "961e1a2d-3d1b-42cd-9615-1f3fa7f93f51",
   "metadata": {},
   "outputs": [],
   "source": []
  }
 ],
 "metadata": {
  "kernelspec": {
   "display_name": "Python 3 (ipykernel)",
   "language": "python",
   "name": "python3"
  },
  "language_info": {
   "codemirror_mode": {
    "name": "ipython",
    "version": 3
   },
   "file_extension": ".py",
   "mimetype": "text/x-python",
   "name": "python",
   "nbconvert_exporter": "python",
   "pygments_lexer": "ipython3",
   "version": "3.11.10"
  }
 },
 "nbformat": 4,
 "nbformat_minor": 5
}
